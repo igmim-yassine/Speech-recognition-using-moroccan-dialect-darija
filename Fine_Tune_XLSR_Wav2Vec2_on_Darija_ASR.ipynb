{
  "nbformat": 4,
  "nbformat_minor": 0,
  "metadata": {
    "accelerator": "GPU",
    "colab": {
      "name": " Fine-Tune XLSR-Wav2Vec2 on Darija ASR ",
      "provenance": [],
      "collapsed_sections": [],
      "toc_visible": true,
      "authorship_tag": "ABX9TyPCgbsz49kZuSe6XFebLNtP",
      "include_colab_link": true
    },
    "kernelspec": {
      "display_name": "Python 3",
      "name": "python3"
    },
    "language_info": {
      "name": "python"
    },
    "widgets": {
      "application/vnd.jupyter.widget-state+json": {
        "d8febb95c30c49cea76d369bb1f1df0a": {
          "model_module": "@jupyter-widgets/controls",
          "model_name": "HBoxModel",
          "model_module_version": "1.5.0",
          "state": {
            "_view_name": "HBoxView",
            "_dom_classes": [],
            "_model_name": "HBoxModel",
            "_view_module": "@jupyter-widgets/controls",
            "_model_module_version": "1.5.0",
            "_view_count": null,
            "_view_module_version": "1.5.0",
            "box_style": "",
            "layout": "IPY_MODEL_b7ab077c1b79460b956a87b33893163f",
            "_model_module": "@jupyter-widgets/controls",
            "children": [
              "IPY_MODEL_96bd607b3f3f4520802362b4ddeb44c7",
              "IPY_MODEL_487acd40b5f1493c992b4086ee6d6f09"
            ]
          }
        },
        "b7ab077c1b79460b956a87b33893163f": {
          "model_module": "@jupyter-widgets/base",
          "model_name": "LayoutModel",
          "model_module_version": "1.2.0",
          "state": {
            "_view_name": "LayoutView",
            "grid_template_rows": null,
            "right": null,
            "justify_content": null,
            "_view_module": "@jupyter-widgets/base",
            "overflow": null,
            "_model_module_version": "1.2.0",
            "_view_count": null,
            "flex_flow": null,
            "width": null,
            "min_width": null,
            "border": null,
            "align_items": null,
            "bottom": null,
            "_model_module": "@jupyter-widgets/base",
            "top": null,
            "grid_column": null,
            "overflow_y": null,
            "overflow_x": null,
            "grid_auto_flow": null,
            "grid_area": null,
            "grid_template_columns": null,
            "flex": null,
            "_model_name": "LayoutModel",
            "justify_items": null,
            "grid_row": null,
            "max_height": null,
            "align_content": null,
            "visibility": null,
            "align_self": null,
            "height": null,
            "min_height": null,
            "padding": null,
            "grid_auto_rows": null,
            "grid_gap": null,
            "max_width": null,
            "order": null,
            "_view_module_version": "1.2.0",
            "grid_template_areas": null,
            "object_position": null,
            "object_fit": null,
            "grid_auto_columns": null,
            "margin": null,
            "display": null,
            "left": null
          }
        },
        "96bd607b3f3f4520802362b4ddeb44c7": {
          "model_module": "@jupyter-widgets/controls",
          "model_name": "FloatProgressModel",
          "model_module_version": "1.5.0",
          "state": {
            "_view_name": "ProgressView",
            "style": "IPY_MODEL_b1337eaa4998494c9d15f859b1552c67",
            "_dom_classes": [],
            "description": "",
            "_model_name": "FloatProgressModel",
            "bar_style": "info",
            "max": 1,
            "_view_module": "@jupyter-widgets/controls",
            "_model_module_version": "1.5.0",
            "value": 1,
            "_view_count": null,
            "_view_module_version": "1.5.0",
            "orientation": "horizontal",
            "min": 0,
            "description_tooltip": null,
            "_model_module": "@jupyter-widgets/controls",
            "layout": "IPY_MODEL_87db7fb5b4714b62b1e98ca4f363289f"
          }
        },
        "487acd40b5f1493c992b4086ee6d6f09": {
          "model_module": "@jupyter-widgets/controls",
          "model_name": "HTMLModel",
          "model_module_version": "1.5.0",
          "state": {
            "_view_name": "HTMLView",
            "style": "IPY_MODEL_d4f8f992183443369bf78cdf46ef0369",
            "_dom_classes": [],
            "description": "",
            "_model_name": "HTMLModel",
            "placeholder": "​",
            "_view_module": "@jupyter-widgets/controls",
            "_model_module_version": "1.5.0",
            "value": "1 tables [00:00,  9.55 tables/s]",
            "_view_count": null,
            "_view_module_version": "1.5.0",
            "description_tooltip": null,
            "_model_module": "@jupyter-widgets/controls",
            "layout": "IPY_MODEL_ae7a01d373f14d9189286d44ef2c4add"
          }
        },
        "b1337eaa4998494c9d15f859b1552c67": {
          "model_module": "@jupyter-widgets/controls",
          "model_name": "ProgressStyleModel",
          "model_module_version": "1.5.0",
          "state": {
            "_view_name": "StyleView",
            "_model_name": "ProgressStyleModel",
            "description_width": "initial",
            "_view_module": "@jupyter-widgets/base",
            "_model_module_version": "1.5.0",
            "_view_count": null,
            "_view_module_version": "1.2.0",
            "bar_color": null,
            "_model_module": "@jupyter-widgets/controls"
          }
        },
        "87db7fb5b4714b62b1e98ca4f363289f": {
          "model_module": "@jupyter-widgets/base",
          "model_name": "LayoutModel",
          "model_module_version": "1.2.0",
          "state": {
            "_view_name": "LayoutView",
            "grid_template_rows": null,
            "right": null,
            "justify_content": null,
            "_view_module": "@jupyter-widgets/base",
            "overflow": null,
            "_model_module_version": "1.2.0",
            "_view_count": null,
            "flex_flow": null,
            "width": "20px",
            "min_width": null,
            "border": null,
            "align_items": null,
            "bottom": null,
            "_model_module": "@jupyter-widgets/base",
            "top": null,
            "grid_column": null,
            "overflow_y": null,
            "overflow_x": null,
            "grid_auto_flow": null,
            "grid_area": null,
            "grid_template_columns": null,
            "flex": null,
            "_model_name": "LayoutModel",
            "justify_items": null,
            "grid_row": null,
            "max_height": null,
            "align_content": null,
            "visibility": null,
            "align_self": null,
            "height": null,
            "min_height": null,
            "padding": null,
            "grid_auto_rows": null,
            "grid_gap": null,
            "max_width": null,
            "order": null,
            "_view_module_version": "1.2.0",
            "grid_template_areas": null,
            "object_position": null,
            "object_fit": null,
            "grid_auto_columns": null,
            "margin": null,
            "display": null,
            "left": null
          }
        },
        "d4f8f992183443369bf78cdf46ef0369": {
          "model_module": "@jupyter-widgets/controls",
          "model_name": "DescriptionStyleModel",
          "model_module_version": "1.5.0",
          "state": {
            "_view_name": "StyleView",
            "_model_name": "DescriptionStyleModel",
            "description_width": "",
            "_view_module": "@jupyter-widgets/base",
            "_model_module_version": "1.5.0",
            "_view_count": null,
            "_view_module_version": "1.2.0",
            "_model_module": "@jupyter-widgets/controls"
          }
        },
        "ae7a01d373f14d9189286d44ef2c4add": {
          "model_module": "@jupyter-widgets/base",
          "model_name": "LayoutModel",
          "model_module_version": "1.2.0",
          "state": {
            "_view_name": "LayoutView",
            "grid_template_rows": null,
            "right": null,
            "justify_content": null,
            "_view_module": "@jupyter-widgets/base",
            "overflow": null,
            "_model_module_version": "1.2.0",
            "_view_count": null,
            "flex_flow": null,
            "width": null,
            "min_width": null,
            "border": null,
            "align_items": null,
            "bottom": null,
            "_model_module": "@jupyter-widgets/base",
            "top": null,
            "grid_column": null,
            "overflow_y": null,
            "overflow_x": null,
            "grid_auto_flow": null,
            "grid_area": null,
            "grid_template_columns": null,
            "flex": null,
            "_model_name": "LayoutModel",
            "justify_items": null,
            "grid_row": null,
            "max_height": null,
            "align_content": null,
            "visibility": null,
            "align_self": null,
            "height": null,
            "min_height": null,
            "padding": null,
            "grid_auto_rows": null,
            "grid_gap": null,
            "max_width": null,
            "order": null,
            "_view_module_version": "1.2.0",
            "grid_template_areas": null,
            "object_position": null,
            "object_fit": null,
            "grid_auto_columns": null,
            "margin": null,
            "display": null,
            "left": null
          }
        },
        "55f63d7fb360421f838750829d0b5fd3": {
          "model_module": "@jupyter-widgets/controls",
          "model_name": "HBoxModel",
          "model_module_version": "1.5.0",
          "state": {
            "_view_name": "HBoxView",
            "_dom_classes": [],
            "_model_name": "HBoxModel",
            "_view_module": "@jupyter-widgets/controls",
            "_model_module_version": "1.5.0",
            "_view_count": null,
            "_view_module_version": "1.5.0",
            "box_style": "",
            "layout": "IPY_MODEL_fd982f79d5684e179c9bb9c99583c76f",
            "_model_module": "@jupyter-widgets/controls",
            "children": [
              "IPY_MODEL_ceda917706ed4d7f81441123d15aad1c",
              "IPY_MODEL_c4f917b3485d43e8bacdf137c829e51d"
            ]
          }
        },
        "fd982f79d5684e179c9bb9c99583c76f": {
          "model_module": "@jupyter-widgets/base",
          "model_name": "LayoutModel",
          "model_module_version": "1.2.0",
          "state": {
            "_view_name": "LayoutView",
            "grid_template_rows": null,
            "right": null,
            "justify_content": null,
            "_view_module": "@jupyter-widgets/base",
            "overflow": null,
            "_model_module_version": "1.2.0",
            "_view_count": null,
            "flex_flow": null,
            "width": null,
            "min_width": null,
            "border": null,
            "align_items": null,
            "bottom": null,
            "_model_module": "@jupyter-widgets/base",
            "top": null,
            "grid_column": null,
            "overflow_y": null,
            "overflow_x": null,
            "grid_auto_flow": null,
            "grid_area": null,
            "grid_template_columns": null,
            "flex": null,
            "_model_name": "LayoutModel",
            "justify_items": null,
            "grid_row": null,
            "max_height": null,
            "align_content": null,
            "visibility": null,
            "align_self": null,
            "height": null,
            "min_height": null,
            "padding": null,
            "grid_auto_rows": null,
            "grid_gap": null,
            "max_width": null,
            "order": null,
            "_view_module_version": "1.2.0",
            "grid_template_areas": null,
            "object_position": null,
            "object_fit": null,
            "grid_auto_columns": null,
            "margin": null,
            "display": null,
            "left": null
          }
        },
        "ceda917706ed4d7f81441123d15aad1c": {
          "model_module": "@jupyter-widgets/controls",
          "model_name": "FloatProgressModel",
          "model_module_version": "1.5.0",
          "state": {
            "_view_name": "ProgressView",
            "style": "IPY_MODEL_395a80fef1934d8da69a41c2e30dbc1e",
            "_dom_classes": [],
            "description": "",
            "_model_name": "FloatProgressModel",
            "bar_style": "info",
            "max": 1,
            "_view_module": "@jupyter-widgets/controls",
            "_model_module_version": "1.5.0",
            "value": 1,
            "_view_count": null,
            "_view_module_version": "1.5.0",
            "orientation": "horizontal",
            "min": 0,
            "description_tooltip": null,
            "_model_module": "@jupyter-widgets/controls",
            "layout": "IPY_MODEL_4b3c9dd290034de4b35f3dbf28258f41"
          }
        },
        "c4f917b3485d43e8bacdf137c829e51d": {
          "model_module": "@jupyter-widgets/controls",
          "model_name": "HTMLModel",
          "model_module_version": "1.5.0",
          "state": {
            "_view_name": "HTMLView",
            "style": "IPY_MODEL_769731a9e3944d659256f433034e49c9",
            "_dom_classes": [],
            "description": "",
            "_model_name": "HTMLModel",
            "placeholder": "​",
            "_view_module": "@jupyter-widgets/controls",
            "_model_module_version": "1.5.0",
            "value": "1 tables [00:00, 14.64 tables/s]",
            "_view_count": null,
            "_view_module_version": "1.5.0",
            "description_tooltip": null,
            "_model_module": "@jupyter-widgets/controls",
            "layout": "IPY_MODEL_2f2de92684e3459384f6089a3d8b6a69"
          }
        },
        "395a80fef1934d8da69a41c2e30dbc1e": {
          "model_module": "@jupyter-widgets/controls",
          "model_name": "ProgressStyleModel",
          "model_module_version": "1.5.0",
          "state": {
            "_view_name": "StyleView",
            "_model_name": "ProgressStyleModel",
            "description_width": "initial",
            "_view_module": "@jupyter-widgets/base",
            "_model_module_version": "1.5.0",
            "_view_count": null,
            "_view_module_version": "1.2.0",
            "bar_color": null,
            "_model_module": "@jupyter-widgets/controls"
          }
        },
        "4b3c9dd290034de4b35f3dbf28258f41": {
          "model_module": "@jupyter-widgets/base",
          "model_name": "LayoutModel",
          "model_module_version": "1.2.0",
          "state": {
            "_view_name": "LayoutView",
            "grid_template_rows": null,
            "right": null,
            "justify_content": null,
            "_view_module": "@jupyter-widgets/base",
            "overflow": null,
            "_model_module_version": "1.2.0",
            "_view_count": null,
            "flex_flow": null,
            "width": "20px",
            "min_width": null,
            "border": null,
            "align_items": null,
            "bottom": null,
            "_model_module": "@jupyter-widgets/base",
            "top": null,
            "grid_column": null,
            "overflow_y": null,
            "overflow_x": null,
            "grid_auto_flow": null,
            "grid_area": null,
            "grid_template_columns": null,
            "flex": null,
            "_model_name": "LayoutModel",
            "justify_items": null,
            "grid_row": null,
            "max_height": null,
            "align_content": null,
            "visibility": null,
            "align_self": null,
            "height": null,
            "min_height": null,
            "padding": null,
            "grid_auto_rows": null,
            "grid_gap": null,
            "max_width": null,
            "order": null,
            "_view_module_version": "1.2.0",
            "grid_template_areas": null,
            "object_position": null,
            "object_fit": null,
            "grid_auto_columns": null,
            "margin": null,
            "display": null,
            "left": null
          }
        },
        "769731a9e3944d659256f433034e49c9": {
          "model_module": "@jupyter-widgets/controls",
          "model_name": "DescriptionStyleModel",
          "model_module_version": "1.5.0",
          "state": {
            "_view_name": "StyleView",
            "_model_name": "DescriptionStyleModel",
            "description_width": "",
            "_view_module": "@jupyter-widgets/base",
            "_model_module_version": "1.5.0",
            "_view_count": null,
            "_view_module_version": "1.2.0",
            "_model_module": "@jupyter-widgets/controls"
          }
        },
        "2f2de92684e3459384f6089a3d8b6a69": {
          "model_module": "@jupyter-widgets/base",
          "model_name": "LayoutModel",
          "model_module_version": "1.2.0",
          "state": {
            "_view_name": "LayoutView",
            "grid_template_rows": null,
            "right": null,
            "justify_content": null,
            "_view_module": "@jupyter-widgets/base",
            "overflow": null,
            "_model_module_version": "1.2.0",
            "_view_count": null,
            "flex_flow": null,
            "width": null,
            "min_width": null,
            "border": null,
            "align_items": null,
            "bottom": null,
            "_model_module": "@jupyter-widgets/base",
            "top": null,
            "grid_column": null,
            "overflow_y": null,
            "overflow_x": null,
            "grid_auto_flow": null,
            "grid_area": null,
            "grid_template_columns": null,
            "flex": null,
            "_model_name": "LayoutModel",
            "justify_items": null,
            "grid_row": null,
            "max_height": null,
            "align_content": null,
            "visibility": null,
            "align_self": null,
            "height": null,
            "min_height": null,
            "padding": null,
            "grid_auto_rows": null,
            "grid_gap": null,
            "max_width": null,
            "order": null,
            "_view_module_version": "1.2.0",
            "grid_template_areas": null,
            "object_position": null,
            "object_fit": null,
            "grid_auto_columns": null,
            "margin": null,
            "display": null,
            "left": null
          }
        },
        "bf2c836e26cb43a5bd74855d2acd3c92": {
          "model_module": "@jupyter-widgets/controls",
          "model_name": "HBoxModel",
          "model_module_version": "1.5.0",
          "state": {
            "_view_name": "HBoxView",
            "_dom_classes": [],
            "_model_name": "HBoxModel",
            "_view_module": "@jupyter-widgets/controls",
            "_model_module_version": "1.5.0",
            "_view_count": null,
            "_view_module_version": "1.5.0",
            "box_style": "",
            "layout": "IPY_MODEL_6122d7724ade4952bf46c7138c52ee33",
            "_model_module": "@jupyter-widgets/controls",
            "children": [
              "IPY_MODEL_f6effdc3a48842a09a37b04dfb9bbe96",
              "IPY_MODEL_b4c9f8b9e1234bedbaa127c261778c9a"
            ]
          }
        },
        "6122d7724ade4952bf46c7138c52ee33": {
          "model_module": "@jupyter-widgets/base",
          "model_name": "LayoutModel",
          "model_module_version": "1.2.0",
          "state": {
            "_view_name": "LayoutView",
            "grid_template_rows": null,
            "right": null,
            "justify_content": null,
            "_view_module": "@jupyter-widgets/base",
            "overflow": null,
            "_model_module_version": "1.2.0",
            "_view_count": null,
            "flex_flow": null,
            "width": null,
            "min_width": null,
            "border": null,
            "align_items": null,
            "bottom": null,
            "_model_module": "@jupyter-widgets/base",
            "top": null,
            "grid_column": null,
            "overflow_y": null,
            "overflow_x": null,
            "grid_auto_flow": null,
            "grid_area": null,
            "grid_template_columns": null,
            "flex": null,
            "_model_name": "LayoutModel",
            "justify_items": null,
            "grid_row": null,
            "max_height": null,
            "align_content": null,
            "visibility": null,
            "align_self": null,
            "height": null,
            "min_height": null,
            "padding": null,
            "grid_auto_rows": null,
            "grid_gap": null,
            "max_width": null,
            "order": null,
            "_view_module_version": "1.2.0",
            "grid_template_areas": null,
            "object_position": null,
            "object_fit": null,
            "grid_auto_columns": null,
            "margin": null,
            "display": null,
            "left": null
          }
        },
        "f6effdc3a48842a09a37b04dfb9bbe96": {
          "model_module": "@jupyter-widgets/controls",
          "model_name": "FloatProgressModel",
          "model_module_version": "1.5.0",
          "state": {
            "_view_name": "ProgressView",
            "style": "IPY_MODEL_969c5feca717499e8e3c700e37726295",
            "_dom_classes": [],
            "description": "100%",
            "_model_name": "FloatProgressModel",
            "bar_style": "success",
            "max": 90,
            "_view_module": "@jupyter-widgets/controls",
            "_model_module_version": "1.5.0",
            "value": 90,
            "_view_count": null,
            "_view_module_version": "1.5.0",
            "orientation": "horizontal",
            "min": 0,
            "description_tooltip": null,
            "_model_module": "@jupyter-widgets/controls",
            "layout": "IPY_MODEL_dd69f212839a410bb27cff3cd861a638"
          }
        },
        "b4c9f8b9e1234bedbaa127c261778c9a": {
          "model_module": "@jupyter-widgets/controls",
          "model_name": "HTMLModel",
          "model_module_version": "1.5.0",
          "state": {
            "_view_name": "HTMLView",
            "style": "IPY_MODEL_129ebd7656c444f3a01faa824e9722a1",
            "_dom_classes": [],
            "description": "",
            "_model_name": "HTMLModel",
            "placeholder": "​",
            "_view_module": "@jupyter-widgets/controls",
            "_model_module_version": "1.5.0",
            "value": " 90/90 [01:05&lt;00:00,  1.38ex/s]",
            "_view_count": null,
            "_view_module_version": "1.5.0",
            "description_tooltip": null,
            "_model_module": "@jupyter-widgets/controls",
            "layout": "IPY_MODEL_c6db6af4eebd4ef688fb0d5c3fe2ea05"
          }
        },
        "969c5feca717499e8e3c700e37726295": {
          "model_module": "@jupyter-widgets/controls",
          "model_name": "ProgressStyleModel",
          "model_module_version": "1.5.0",
          "state": {
            "_view_name": "StyleView",
            "_model_name": "ProgressStyleModel",
            "description_width": "initial",
            "_view_module": "@jupyter-widgets/base",
            "_model_module_version": "1.5.0",
            "_view_count": null,
            "_view_module_version": "1.2.0",
            "bar_color": null,
            "_model_module": "@jupyter-widgets/controls"
          }
        },
        "dd69f212839a410bb27cff3cd861a638": {
          "model_module": "@jupyter-widgets/base",
          "model_name": "LayoutModel",
          "model_module_version": "1.2.0",
          "state": {
            "_view_name": "LayoutView",
            "grid_template_rows": null,
            "right": null,
            "justify_content": null,
            "_view_module": "@jupyter-widgets/base",
            "overflow": null,
            "_model_module_version": "1.2.0",
            "_view_count": null,
            "flex_flow": null,
            "width": null,
            "min_width": null,
            "border": null,
            "align_items": null,
            "bottom": null,
            "_model_module": "@jupyter-widgets/base",
            "top": null,
            "grid_column": null,
            "overflow_y": null,
            "overflow_x": null,
            "grid_auto_flow": null,
            "grid_area": null,
            "grid_template_columns": null,
            "flex": null,
            "_model_name": "LayoutModel",
            "justify_items": null,
            "grid_row": null,
            "max_height": null,
            "align_content": null,
            "visibility": null,
            "align_self": null,
            "height": null,
            "min_height": null,
            "padding": null,
            "grid_auto_rows": null,
            "grid_gap": null,
            "max_width": null,
            "order": null,
            "_view_module_version": "1.2.0",
            "grid_template_areas": null,
            "object_position": null,
            "object_fit": null,
            "grid_auto_columns": null,
            "margin": null,
            "display": null,
            "left": null
          }
        },
        "129ebd7656c444f3a01faa824e9722a1": {
          "model_module": "@jupyter-widgets/controls",
          "model_name": "DescriptionStyleModel",
          "model_module_version": "1.5.0",
          "state": {
            "_view_name": "StyleView",
            "_model_name": "DescriptionStyleModel",
            "description_width": "",
            "_view_module": "@jupyter-widgets/base",
            "_model_module_version": "1.5.0",
            "_view_count": null,
            "_view_module_version": "1.2.0",
            "_model_module": "@jupyter-widgets/controls"
          }
        },
        "c6db6af4eebd4ef688fb0d5c3fe2ea05": {
          "model_module": "@jupyter-widgets/base",
          "model_name": "LayoutModel",
          "model_module_version": "1.2.0",
          "state": {
            "_view_name": "LayoutView",
            "grid_template_rows": null,
            "right": null,
            "justify_content": null,
            "_view_module": "@jupyter-widgets/base",
            "overflow": null,
            "_model_module_version": "1.2.0",
            "_view_count": null,
            "flex_flow": null,
            "width": null,
            "min_width": null,
            "border": null,
            "align_items": null,
            "bottom": null,
            "_model_module": "@jupyter-widgets/base",
            "top": null,
            "grid_column": null,
            "overflow_y": null,
            "overflow_x": null,
            "grid_auto_flow": null,
            "grid_area": null,
            "grid_template_columns": null,
            "flex": null,
            "_model_name": "LayoutModel",
            "justify_items": null,
            "grid_row": null,
            "max_height": null,
            "align_content": null,
            "visibility": null,
            "align_self": null,
            "height": null,
            "min_height": null,
            "padding": null,
            "grid_auto_rows": null,
            "grid_gap": null,
            "max_width": null,
            "order": null,
            "_view_module_version": "1.2.0",
            "grid_template_areas": null,
            "object_position": null,
            "object_fit": null,
            "grid_auto_columns": null,
            "margin": null,
            "display": null,
            "left": null
          }
        },
        "6447c29d5f034597b0dcb21c2d873760": {
          "model_module": "@jupyter-widgets/controls",
          "model_name": "HBoxModel",
          "model_module_version": "1.5.0",
          "state": {
            "_view_name": "HBoxView",
            "_dom_classes": [],
            "_model_name": "HBoxModel",
            "_view_module": "@jupyter-widgets/controls",
            "_model_module_version": "1.5.0",
            "_view_count": null,
            "_view_module_version": "1.5.0",
            "box_style": "",
            "layout": "IPY_MODEL_68ff21be5a6245b58032cf84d261db02",
            "_model_module": "@jupyter-widgets/controls",
            "children": [
              "IPY_MODEL_29315bccfefa4110b1969fe74e93037a",
              "IPY_MODEL_c27e067874174c56b7ffb8e1cfaf2b5e"
            ]
          }
        },
        "68ff21be5a6245b58032cf84d261db02": {
          "model_module": "@jupyter-widgets/base",
          "model_name": "LayoutModel",
          "model_module_version": "1.2.0",
          "state": {
            "_view_name": "LayoutView",
            "grid_template_rows": null,
            "right": null,
            "justify_content": null,
            "_view_module": "@jupyter-widgets/base",
            "overflow": null,
            "_model_module_version": "1.2.0",
            "_view_count": null,
            "flex_flow": null,
            "width": null,
            "min_width": null,
            "border": null,
            "align_items": null,
            "bottom": null,
            "_model_module": "@jupyter-widgets/base",
            "top": null,
            "grid_column": null,
            "overflow_y": null,
            "overflow_x": null,
            "grid_auto_flow": null,
            "grid_area": null,
            "grid_template_columns": null,
            "flex": null,
            "_model_name": "LayoutModel",
            "justify_items": null,
            "grid_row": null,
            "max_height": null,
            "align_content": null,
            "visibility": null,
            "align_self": null,
            "height": null,
            "min_height": null,
            "padding": null,
            "grid_auto_rows": null,
            "grid_gap": null,
            "max_width": null,
            "order": null,
            "_view_module_version": "1.2.0",
            "grid_template_areas": null,
            "object_position": null,
            "object_fit": null,
            "grid_auto_columns": null,
            "margin": null,
            "display": null,
            "left": null
          }
        },
        "29315bccfefa4110b1969fe74e93037a": {
          "model_module": "@jupyter-widgets/controls",
          "model_name": "FloatProgressModel",
          "model_module_version": "1.5.0",
          "state": {
            "_view_name": "ProgressView",
            "style": "IPY_MODEL_331289ba932546e3811bee1232d5e7c0",
            "_dom_classes": [],
            "description": "100%",
            "_model_name": "FloatProgressModel",
            "bar_style": "success",
            "max": 10,
            "_view_module": "@jupyter-widgets/controls",
            "_model_module_version": "1.5.0",
            "value": 10,
            "_view_count": null,
            "_view_module_version": "1.5.0",
            "orientation": "horizontal",
            "min": 0,
            "description_tooltip": null,
            "_model_module": "@jupyter-widgets/controls",
            "layout": "IPY_MODEL_9843289ddd2247619892a8a42774d806"
          }
        },
        "c27e067874174c56b7ffb8e1cfaf2b5e": {
          "model_module": "@jupyter-widgets/controls",
          "model_name": "HTMLModel",
          "model_module_version": "1.5.0",
          "state": {
            "_view_name": "HTMLView",
            "style": "IPY_MODEL_318f45433f974f17baa593ef832acfb3",
            "_dom_classes": [],
            "description": "",
            "_model_name": "HTMLModel",
            "placeholder": "​",
            "_view_module": "@jupyter-widgets/controls",
            "_model_module_version": "1.5.0",
            "value": " 10/10 [00:00&lt;00:00, 70.54ex/s]",
            "_view_count": null,
            "_view_module_version": "1.5.0",
            "description_tooltip": null,
            "_model_module": "@jupyter-widgets/controls",
            "layout": "IPY_MODEL_dc9c73ec61834021af33c7f5fecd41b6"
          }
        },
        "331289ba932546e3811bee1232d5e7c0": {
          "model_module": "@jupyter-widgets/controls",
          "model_name": "ProgressStyleModel",
          "model_module_version": "1.5.0",
          "state": {
            "_view_name": "StyleView",
            "_model_name": "ProgressStyleModel",
            "description_width": "initial",
            "_view_module": "@jupyter-widgets/base",
            "_model_module_version": "1.5.0",
            "_view_count": null,
            "_view_module_version": "1.2.0",
            "bar_color": null,
            "_model_module": "@jupyter-widgets/controls"
          }
        },
        "9843289ddd2247619892a8a42774d806": {
          "model_module": "@jupyter-widgets/base",
          "model_name": "LayoutModel",
          "model_module_version": "1.2.0",
          "state": {
            "_view_name": "LayoutView",
            "grid_template_rows": null,
            "right": null,
            "justify_content": null,
            "_view_module": "@jupyter-widgets/base",
            "overflow": null,
            "_model_module_version": "1.2.0",
            "_view_count": null,
            "flex_flow": null,
            "width": null,
            "min_width": null,
            "border": null,
            "align_items": null,
            "bottom": null,
            "_model_module": "@jupyter-widgets/base",
            "top": null,
            "grid_column": null,
            "overflow_y": null,
            "overflow_x": null,
            "grid_auto_flow": null,
            "grid_area": null,
            "grid_template_columns": null,
            "flex": null,
            "_model_name": "LayoutModel",
            "justify_items": null,
            "grid_row": null,
            "max_height": null,
            "align_content": null,
            "visibility": null,
            "align_self": null,
            "height": null,
            "min_height": null,
            "padding": null,
            "grid_auto_rows": null,
            "grid_gap": null,
            "max_width": null,
            "order": null,
            "_view_module_version": "1.2.0",
            "grid_template_areas": null,
            "object_position": null,
            "object_fit": null,
            "grid_auto_columns": null,
            "margin": null,
            "display": null,
            "left": null
          }
        },
        "318f45433f974f17baa593ef832acfb3": {
          "model_module": "@jupyter-widgets/controls",
          "model_name": "DescriptionStyleModel",
          "model_module_version": "1.5.0",
          "state": {
            "_view_name": "StyleView",
            "_model_name": "DescriptionStyleModel",
            "description_width": "",
            "_view_module": "@jupyter-widgets/base",
            "_model_module_version": "1.5.0",
            "_view_count": null,
            "_view_module_version": "1.2.0",
            "_model_module": "@jupyter-widgets/controls"
          }
        },
        "dc9c73ec61834021af33c7f5fecd41b6": {
          "model_module": "@jupyter-widgets/base",
          "model_name": "LayoutModel",
          "model_module_version": "1.2.0",
          "state": {
            "_view_name": "LayoutView",
            "grid_template_rows": null,
            "right": null,
            "justify_content": null,
            "_view_module": "@jupyter-widgets/base",
            "overflow": null,
            "_model_module_version": "1.2.0",
            "_view_count": null,
            "flex_flow": null,
            "width": null,
            "min_width": null,
            "border": null,
            "align_items": null,
            "bottom": null,
            "_model_module": "@jupyter-widgets/base",
            "top": null,
            "grid_column": null,
            "overflow_y": null,
            "overflow_x": null,
            "grid_auto_flow": null,
            "grid_area": null,
            "grid_template_columns": null,
            "flex": null,
            "_model_name": "LayoutModel",
            "justify_items": null,
            "grid_row": null,
            "max_height": null,
            "align_content": null,
            "visibility": null,
            "align_self": null,
            "height": null,
            "min_height": null,
            "padding": null,
            "grid_auto_rows": null,
            "grid_gap": null,
            "max_width": null,
            "order": null,
            "_view_module_version": "1.2.0",
            "grid_template_areas": null,
            "object_position": null,
            "object_fit": null,
            "grid_auto_columns": null,
            "margin": null,
            "display": null,
            "left": null
          }
        },
        "fb0aba765e77426c938c1d35178743d0": {
          "model_module": "@jupyter-widgets/controls",
          "model_name": "HBoxModel",
          "model_module_version": "1.5.0",
          "state": {
            "_view_name": "HBoxView",
            "_dom_classes": [],
            "_model_name": "HBoxModel",
            "_view_module": "@jupyter-widgets/controls",
            "_model_module_version": "1.5.0",
            "_view_count": null,
            "_view_module_version": "1.5.0",
            "box_style": "",
            "layout": "IPY_MODEL_7c5783d6f37d4210ac51ff166b7f7277",
            "_model_module": "@jupyter-widgets/controls",
            "children": [
              "IPY_MODEL_f5780016057f406891dd3db2be89e664",
              "IPY_MODEL_7a898567f3e14384a874b9d4bbe3defd"
            ]
          }
        },
        "7c5783d6f37d4210ac51ff166b7f7277": {
          "model_module": "@jupyter-widgets/base",
          "model_name": "LayoutModel",
          "model_module_version": "1.2.0",
          "state": {
            "_view_name": "LayoutView",
            "grid_template_rows": null,
            "right": null,
            "justify_content": null,
            "_view_module": "@jupyter-widgets/base",
            "overflow": null,
            "_model_module_version": "1.2.0",
            "_view_count": null,
            "flex_flow": null,
            "width": null,
            "min_width": null,
            "border": null,
            "align_items": null,
            "bottom": null,
            "_model_module": "@jupyter-widgets/base",
            "top": null,
            "grid_column": null,
            "overflow_y": null,
            "overflow_x": null,
            "grid_auto_flow": null,
            "grid_area": null,
            "grid_template_columns": null,
            "flex": null,
            "_model_name": "LayoutModel",
            "justify_items": null,
            "grid_row": null,
            "max_height": null,
            "align_content": null,
            "visibility": null,
            "align_self": null,
            "height": null,
            "min_height": null,
            "padding": null,
            "grid_auto_rows": null,
            "grid_gap": null,
            "max_width": null,
            "order": null,
            "_view_module_version": "1.2.0",
            "grid_template_areas": null,
            "object_position": null,
            "object_fit": null,
            "grid_auto_columns": null,
            "margin": null,
            "display": null,
            "left": null
          }
        },
        "f5780016057f406891dd3db2be89e664": {
          "model_module": "@jupyter-widgets/controls",
          "model_name": "FloatProgressModel",
          "model_module_version": "1.5.0",
          "state": {
            "_view_name": "ProgressView",
            "style": "IPY_MODEL_8d8744d188794d5c9048f965dead3428",
            "_dom_classes": [],
            "description": "100%",
            "_model_name": "FloatProgressModel",
            "bar_style": "success",
            "max": 1,
            "_view_module": "@jupyter-widgets/controls",
            "_model_module_version": "1.5.0",
            "value": 1,
            "_view_count": null,
            "_view_module_version": "1.5.0",
            "orientation": "horizontal",
            "min": 0,
            "description_tooltip": null,
            "_model_module": "@jupyter-widgets/controls",
            "layout": "IPY_MODEL_cf038843ccd44b4c8d0b3f7b28b5fdcb"
          }
        },
        "7a898567f3e14384a874b9d4bbe3defd": {
          "model_module": "@jupyter-widgets/controls",
          "model_name": "HTMLModel",
          "model_module_version": "1.5.0",
          "state": {
            "_view_name": "HTMLView",
            "style": "IPY_MODEL_fcf514d12bc642649bf0e6deff2715d5",
            "_dom_classes": [],
            "description": "",
            "_model_name": "HTMLModel",
            "placeholder": "​",
            "_view_module": "@jupyter-widgets/controls",
            "_model_module_version": "1.5.0",
            "value": " 1/1 [00:00&lt;00:00,  2.57ba/s]",
            "_view_count": null,
            "_view_module_version": "1.5.0",
            "description_tooltip": null,
            "_model_module": "@jupyter-widgets/controls",
            "layout": "IPY_MODEL_eff0f4706aa2424c9ea86d036a811613"
          }
        },
        "8d8744d188794d5c9048f965dead3428": {
          "model_module": "@jupyter-widgets/controls",
          "model_name": "ProgressStyleModel",
          "model_module_version": "1.5.0",
          "state": {
            "_view_name": "StyleView",
            "_model_name": "ProgressStyleModel",
            "description_width": "initial",
            "_view_module": "@jupyter-widgets/base",
            "_model_module_version": "1.5.0",
            "_view_count": null,
            "_view_module_version": "1.2.0",
            "bar_color": null,
            "_model_module": "@jupyter-widgets/controls"
          }
        },
        "cf038843ccd44b4c8d0b3f7b28b5fdcb": {
          "model_module": "@jupyter-widgets/base",
          "model_name": "LayoutModel",
          "model_module_version": "1.2.0",
          "state": {
            "_view_name": "LayoutView",
            "grid_template_rows": null,
            "right": null,
            "justify_content": null,
            "_view_module": "@jupyter-widgets/base",
            "overflow": null,
            "_model_module_version": "1.2.0",
            "_view_count": null,
            "flex_flow": null,
            "width": null,
            "min_width": null,
            "border": null,
            "align_items": null,
            "bottom": null,
            "_model_module": "@jupyter-widgets/base",
            "top": null,
            "grid_column": null,
            "overflow_y": null,
            "overflow_x": null,
            "grid_auto_flow": null,
            "grid_area": null,
            "grid_template_columns": null,
            "flex": null,
            "_model_name": "LayoutModel",
            "justify_items": null,
            "grid_row": null,
            "max_height": null,
            "align_content": null,
            "visibility": null,
            "align_self": null,
            "height": null,
            "min_height": null,
            "padding": null,
            "grid_auto_rows": null,
            "grid_gap": null,
            "max_width": null,
            "order": null,
            "_view_module_version": "1.2.0",
            "grid_template_areas": null,
            "object_position": null,
            "object_fit": null,
            "grid_auto_columns": null,
            "margin": null,
            "display": null,
            "left": null
          }
        },
        "fcf514d12bc642649bf0e6deff2715d5": {
          "model_module": "@jupyter-widgets/controls",
          "model_name": "DescriptionStyleModel",
          "model_module_version": "1.5.0",
          "state": {
            "_view_name": "StyleView",
            "_model_name": "DescriptionStyleModel",
            "description_width": "",
            "_view_module": "@jupyter-widgets/base",
            "_model_module_version": "1.5.0",
            "_view_count": null,
            "_view_module_version": "1.2.0",
            "_model_module": "@jupyter-widgets/controls"
          }
        },
        "eff0f4706aa2424c9ea86d036a811613": {
          "model_module": "@jupyter-widgets/base",
          "model_name": "LayoutModel",
          "model_module_version": "1.2.0",
          "state": {
            "_view_name": "LayoutView",
            "grid_template_rows": null,
            "right": null,
            "justify_content": null,
            "_view_module": "@jupyter-widgets/base",
            "overflow": null,
            "_model_module_version": "1.2.0",
            "_view_count": null,
            "flex_flow": null,
            "width": null,
            "min_width": null,
            "border": null,
            "align_items": null,
            "bottom": null,
            "_model_module": "@jupyter-widgets/base",
            "top": null,
            "grid_column": null,
            "overflow_y": null,
            "overflow_x": null,
            "grid_auto_flow": null,
            "grid_area": null,
            "grid_template_columns": null,
            "flex": null,
            "_model_name": "LayoutModel",
            "justify_items": null,
            "grid_row": null,
            "max_height": null,
            "align_content": null,
            "visibility": null,
            "align_self": null,
            "height": null,
            "min_height": null,
            "padding": null,
            "grid_auto_rows": null,
            "grid_gap": null,
            "max_width": null,
            "order": null,
            "_view_module_version": "1.2.0",
            "grid_template_areas": null,
            "object_position": null,
            "object_fit": null,
            "grid_auto_columns": null,
            "margin": null,
            "display": null,
            "left": null
          }
        },
        "09d94e2e13cb48f88aa40e7d00447595": {
          "model_module": "@jupyter-widgets/controls",
          "model_name": "HBoxModel",
          "model_module_version": "1.5.0",
          "state": {
            "_view_name": "HBoxView",
            "_dom_classes": [],
            "_model_name": "HBoxModel",
            "_view_module": "@jupyter-widgets/controls",
            "_model_module_version": "1.5.0",
            "_view_count": null,
            "_view_module_version": "1.5.0",
            "box_style": "",
            "layout": "IPY_MODEL_504456c809494e3b8c8247eddda46fc2",
            "_model_module": "@jupyter-widgets/controls",
            "children": [
              "IPY_MODEL_25f7b13af1e2495e933e8c2ba20e7e41",
              "IPY_MODEL_e6a5ae0f8aaf4821ad20ee7d0d2cbcb1"
            ]
          }
        },
        "504456c809494e3b8c8247eddda46fc2": {
          "model_module": "@jupyter-widgets/base",
          "model_name": "LayoutModel",
          "model_module_version": "1.2.0",
          "state": {
            "_view_name": "LayoutView",
            "grid_template_rows": null,
            "right": null,
            "justify_content": null,
            "_view_module": "@jupyter-widgets/base",
            "overflow": null,
            "_model_module_version": "1.2.0",
            "_view_count": null,
            "flex_flow": null,
            "width": null,
            "min_width": null,
            "border": null,
            "align_items": null,
            "bottom": null,
            "_model_module": "@jupyter-widgets/base",
            "top": null,
            "grid_column": null,
            "overflow_y": null,
            "overflow_x": null,
            "grid_auto_flow": null,
            "grid_area": null,
            "grid_template_columns": null,
            "flex": null,
            "_model_name": "LayoutModel",
            "justify_items": null,
            "grid_row": null,
            "max_height": null,
            "align_content": null,
            "visibility": null,
            "align_self": null,
            "height": null,
            "min_height": null,
            "padding": null,
            "grid_auto_rows": null,
            "grid_gap": null,
            "max_width": null,
            "order": null,
            "_view_module_version": "1.2.0",
            "grid_template_areas": null,
            "object_position": null,
            "object_fit": null,
            "grid_auto_columns": null,
            "margin": null,
            "display": null,
            "left": null
          }
        },
        "25f7b13af1e2495e933e8c2ba20e7e41": {
          "model_module": "@jupyter-widgets/controls",
          "model_name": "FloatProgressModel",
          "model_module_version": "1.5.0",
          "state": {
            "_view_name": "ProgressView",
            "style": "IPY_MODEL_923600a83f9c4411abbb138afc6c1cab",
            "_dom_classes": [],
            "description": "100%",
            "_model_name": "FloatProgressModel",
            "bar_style": "success",
            "max": 1,
            "_view_module": "@jupyter-widgets/controls",
            "_model_module_version": "1.5.0",
            "value": 1,
            "_view_count": null,
            "_view_module_version": "1.5.0",
            "orientation": "horizontal",
            "min": 0,
            "description_tooltip": null,
            "_model_module": "@jupyter-widgets/controls",
            "layout": "IPY_MODEL_18f3e7c8e26f4cf7806a0f84e571040c"
          }
        },
        "e6a5ae0f8aaf4821ad20ee7d0d2cbcb1": {
          "model_module": "@jupyter-widgets/controls",
          "model_name": "HTMLModel",
          "model_module_version": "1.5.0",
          "state": {
            "_view_name": "HTMLView",
            "style": "IPY_MODEL_307584ad585e410a80e6e26f5516d9a2",
            "_dom_classes": [],
            "description": "",
            "_model_name": "HTMLModel",
            "placeholder": "​",
            "_view_module": "@jupyter-widgets/controls",
            "_model_module_version": "1.5.0",
            "value": " 1/1 [00:00&lt;00:00,  6.65ba/s]",
            "_view_count": null,
            "_view_module_version": "1.5.0",
            "description_tooltip": null,
            "_model_module": "@jupyter-widgets/controls",
            "layout": "IPY_MODEL_3710871d8bc24ee899242b9194c0ca07"
          }
        },
        "923600a83f9c4411abbb138afc6c1cab": {
          "model_module": "@jupyter-widgets/controls",
          "model_name": "ProgressStyleModel",
          "model_module_version": "1.5.0",
          "state": {
            "_view_name": "StyleView",
            "_model_name": "ProgressStyleModel",
            "description_width": "initial",
            "_view_module": "@jupyter-widgets/base",
            "_model_module_version": "1.5.0",
            "_view_count": null,
            "_view_module_version": "1.2.0",
            "bar_color": null,
            "_model_module": "@jupyter-widgets/controls"
          }
        },
        "18f3e7c8e26f4cf7806a0f84e571040c": {
          "model_module": "@jupyter-widgets/base",
          "model_name": "LayoutModel",
          "model_module_version": "1.2.0",
          "state": {
            "_view_name": "LayoutView",
            "grid_template_rows": null,
            "right": null,
            "justify_content": null,
            "_view_module": "@jupyter-widgets/base",
            "overflow": null,
            "_model_module_version": "1.2.0",
            "_view_count": null,
            "flex_flow": null,
            "width": null,
            "min_width": null,
            "border": null,
            "align_items": null,
            "bottom": null,
            "_model_module": "@jupyter-widgets/base",
            "top": null,
            "grid_column": null,
            "overflow_y": null,
            "overflow_x": null,
            "grid_auto_flow": null,
            "grid_area": null,
            "grid_template_columns": null,
            "flex": null,
            "_model_name": "LayoutModel",
            "justify_items": null,
            "grid_row": null,
            "max_height": null,
            "align_content": null,
            "visibility": null,
            "align_self": null,
            "height": null,
            "min_height": null,
            "padding": null,
            "grid_auto_rows": null,
            "grid_gap": null,
            "max_width": null,
            "order": null,
            "_view_module_version": "1.2.0",
            "grid_template_areas": null,
            "object_position": null,
            "object_fit": null,
            "grid_auto_columns": null,
            "margin": null,
            "display": null,
            "left": null
          }
        },
        "307584ad585e410a80e6e26f5516d9a2": {
          "model_module": "@jupyter-widgets/controls",
          "model_name": "DescriptionStyleModel",
          "model_module_version": "1.5.0",
          "state": {
            "_view_name": "StyleView",
            "_model_name": "DescriptionStyleModel",
            "description_width": "",
            "_view_module": "@jupyter-widgets/base",
            "_model_module_version": "1.5.0",
            "_view_count": null,
            "_view_module_version": "1.2.0",
            "_model_module": "@jupyter-widgets/controls"
          }
        },
        "3710871d8bc24ee899242b9194c0ca07": {
          "model_module": "@jupyter-widgets/base",
          "model_name": "LayoutModel",
          "model_module_version": "1.2.0",
          "state": {
            "_view_name": "LayoutView",
            "grid_template_rows": null,
            "right": null,
            "justify_content": null,
            "_view_module": "@jupyter-widgets/base",
            "overflow": null,
            "_model_module_version": "1.2.0",
            "_view_count": null,
            "flex_flow": null,
            "width": null,
            "min_width": null,
            "border": null,
            "align_items": null,
            "bottom": null,
            "_model_module": "@jupyter-widgets/base",
            "top": null,
            "grid_column": null,
            "overflow_y": null,
            "overflow_x": null,
            "grid_auto_flow": null,
            "grid_area": null,
            "grid_template_columns": null,
            "flex": null,
            "_model_name": "LayoutModel",
            "justify_items": null,
            "grid_row": null,
            "max_height": null,
            "align_content": null,
            "visibility": null,
            "align_self": null,
            "height": null,
            "min_height": null,
            "padding": null,
            "grid_auto_rows": null,
            "grid_gap": null,
            "max_width": null,
            "order": null,
            "_view_module_version": "1.2.0",
            "grid_template_areas": null,
            "object_position": null,
            "object_fit": null,
            "grid_auto_columns": null,
            "margin": null,
            "display": null,
            "left": null
          }
        },
        "27d115e6e1204417a8f4e3b54c2122b5": {
          "model_module": "@jupyter-widgets/controls",
          "model_name": "HBoxModel",
          "model_module_version": "1.5.0",
          "state": {
            "_view_name": "HBoxView",
            "_dom_classes": [],
            "_model_name": "HBoxModel",
            "_view_module": "@jupyter-widgets/controls",
            "_model_module_version": "1.5.0",
            "_view_count": null,
            "_view_module_version": "1.5.0",
            "box_style": "",
            "layout": "IPY_MODEL_f99dde3f9e67411eacd08affbe083c39",
            "_model_module": "@jupyter-widgets/controls",
            "children": [
              "IPY_MODEL_6a2e3ee4cf3548afa8cb558c712e1aea",
              "IPY_MODEL_70c91175e282431a8bc207c339236212"
            ]
          }
        },
        "f99dde3f9e67411eacd08affbe083c39": {
          "model_module": "@jupyter-widgets/base",
          "model_name": "LayoutModel",
          "model_module_version": "1.2.0",
          "state": {
            "_view_name": "LayoutView",
            "grid_template_rows": null,
            "right": null,
            "justify_content": null,
            "_view_module": "@jupyter-widgets/base",
            "overflow": null,
            "_model_module_version": "1.2.0",
            "_view_count": null,
            "flex_flow": null,
            "width": null,
            "min_width": null,
            "border": null,
            "align_items": null,
            "bottom": null,
            "_model_module": "@jupyter-widgets/base",
            "top": null,
            "grid_column": null,
            "overflow_y": null,
            "overflow_x": null,
            "grid_auto_flow": null,
            "grid_area": null,
            "grid_template_columns": null,
            "flex": null,
            "_model_name": "LayoutModel",
            "justify_items": null,
            "grid_row": null,
            "max_height": null,
            "align_content": null,
            "visibility": null,
            "align_self": null,
            "height": null,
            "min_height": null,
            "padding": null,
            "grid_auto_rows": null,
            "grid_gap": null,
            "max_width": null,
            "order": null,
            "_view_module_version": "1.2.0",
            "grid_template_areas": null,
            "object_position": null,
            "object_fit": null,
            "grid_auto_columns": null,
            "margin": null,
            "display": null,
            "left": null
          }
        },
        "6a2e3ee4cf3548afa8cb558c712e1aea": {
          "model_module": "@jupyter-widgets/controls",
          "model_name": "FloatProgressModel",
          "model_module_version": "1.5.0",
          "state": {
            "_view_name": "ProgressView",
            "style": "IPY_MODEL_1c2438a8401246c08c64e255179e369f",
            "_dom_classes": [],
            "description": "100%",
            "_model_name": "FloatProgressModel",
            "bar_style": "success",
            "max": 90,
            "_view_module": "@jupyter-widgets/controls",
            "_model_module_version": "1.5.0",
            "value": 90,
            "_view_count": null,
            "_view_module_version": "1.5.0",
            "orientation": "horizontal",
            "min": 0,
            "description_tooltip": null,
            "_model_module": "@jupyter-widgets/controls",
            "layout": "IPY_MODEL_a4a3e9a8a3d1409c9f421322f0a1b856"
          }
        },
        "70c91175e282431a8bc207c339236212": {
          "model_module": "@jupyter-widgets/controls",
          "model_name": "HTMLModel",
          "model_module_version": "1.5.0",
          "state": {
            "_view_name": "HTMLView",
            "style": "IPY_MODEL_d8cc337a188d4dbcaea51d97c66a975e",
            "_dom_classes": [],
            "description": "",
            "_model_name": "HTMLModel",
            "placeholder": "​",
            "_view_module": "@jupyter-widgets/controls",
            "_model_module_version": "1.5.0",
            "value": " 90/90 [00:55&lt;00:00,  1.62ex/s]",
            "_view_count": null,
            "_view_module_version": "1.5.0",
            "description_tooltip": null,
            "_model_module": "@jupyter-widgets/controls",
            "layout": "IPY_MODEL_7c01cc74c98e4f4fb9f3864d4cef6f33"
          }
        },
        "1c2438a8401246c08c64e255179e369f": {
          "model_module": "@jupyter-widgets/controls",
          "model_name": "ProgressStyleModel",
          "model_module_version": "1.5.0",
          "state": {
            "_view_name": "StyleView",
            "_model_name": "ProgressStyleModel",
            "description_width": "initial",
            "_view_module": "@jupyter-widgets/base",
            "_model_module_version": "1.5.0",
            "_view_count": null,
            "_view_module_version": "1.2.0",
            "bar_color": null,
            "_model_module": "@jupyter-widgets/controls"
          }
        },
        "a4a3e9a8a3d1409c9f421322f0a1b856": {
          "model_module": "@jupyter-widgets/base",
          "model_name": "LayoutModel",
          "model_module_version": "1.2.0",
          "state": {
            "_view_name": "LayoutView",
            "grid_template_rows": null,
            "right": null,
            "justify_content": null,
            "_view_module": "@jupyter-widgets/base",
            "overflow": null,
            "_model_module_version": "1.2.0",
            "_view_count": null,
            "flex_flow": null,
            "width": null,
            "min_width": null,
            "border": null,
            "align_items": null,
            "bottom": null,
            "_model_module": "@jupyter-widgets/base",
            "top": null,
            "grid_column": null,
            "overflow_y": null,
            "overflow_x": null,
            "grid_auto_flow": null,
            "grid_area": null,
            "grid_template_columns": null,
            "flex": null,
            "_model_name": "LayoutModel",
            "justify_items": null,
            "grid_row": null,
            "max_height": null,
            "align_content": null,
            "visibility": null,
            "align_self": null,
            "height": null,
            "min_height": null,
            "padding": null,
            "grid_auto_rows": null,
            "grid_gap": null,
            "max_width": null,
            "order": null,
            "_view_module_version": "1.2.0",
            "grid_template_areas": null,
            "object_position": null,
            "object_fit": null,
            "grid_auto_columns": null,
            "margin": null,
            "display": null,
            "left": null
          }
        },
        "d8cc337a188d4dbcaea51d97c66a975e": {
          "model_module": "@jupyter-widgets/controls",
          "model_name": "DescriptionStyleModel",
          "model_module_version": "1.5.0",
          "state": {
            "_view_name": "StyleView",
            "_model_name": "DescriptionStyleModel",
            "description_width": "",
            "_view_module": "@jupyter-widgets/base",
            "_model_module_version": "1.5.0",
            "_view_count": null,
            "_view_module_version": "1.2.0",
            "_model_module": "@jupyter-widgets/controls"
          }
        },
        "7c01cc74c98e4f4fb9f3864d4cef6f33": {
          "model_module": "@jupyter-widgets/base",
          "model_name": "LayoutModel",
          "model_module_version": "1.2.0",
          "state": {
            "_view_name": "LayoutView",
            "grid_template_rows": null,
            "right": null,
            "justify_content": null,
            "_view_module": "@jupyter-widgets/base",
            "overflow": null,
            "_model_module_version": "1.2.0",
            "_view_count": null,
            "flex_flow": null,
            "width": null,
            "min_width": null,
            "border": null,
            "align_items": null,
            "bottom": null,
            "_model_module": "@jupyter-widgets/base",
            "top": null,
            "grid_column": null,
            "overflow_y": null,
            "overflow_x": null,
            "grid_auto_flow": null,
            "grid_area": null,
            "grid_template_columns": null,
            "flex": null,
            "_model_name": "LayoutModel",
            "justify_items": null,
            "grid_row": null,
            "max_height": null,
            "align_content": null,
            "visibility": null,
            "align_self": null,
            "height": null,
            "min_height": null,
            "padding": null,
            "grid_auto_rows": null,
            "grid_gap": null,
            "max_width": null,
            "order": null,
            "_view_module_version": "1.2.0",
            "grid_template_areas": null,
            "object_position": null,
            "object_fit": null,
            "grid_auto_columns": null,
            "margin": null,
            "display": null,
            "left": null
          }
        },
        "0dc021f156304df08596fe7a694b690b": {
          "model_module": "@jupyter-widgets/controls",
          "model_name": "HBoxModel",
          "model_module_version": "1.5.0",
          "state": {
            "_view_name": "HBoxView",
            "_dom_classes": [],
            "_model_name": "HBoxModel",
            "_view_module": "@jupyter-widgets/controls",
            "_model_module_version": "1.5.0",
            "_view_count": null,
            "_view_module_version": "1.5.0",
            "box_style": "",
            "layout": "IPY_MODEL_e2f9cd7725fe4f8187c9a4285c3d11d1",
            "_model_module": "@jupyter-widgets/controls",
            "children": [
              "IPY_MODEL_6aa903df3cf641f6909df6ffab33d569",
              "IPY_MODEL_fee5e6f4952643469a853de908d3d20b"
            ]
          }
        },
        "e2f9cd7725fe4f8187c9a4285c3d11d1": {
          "model_module": "@jupyter-widgets/base",
          "model_name": "LayoutModel",
          "model_module_version": "1.2.0",
          "state": {
            "_view_name": "LayoutView",
            "grid_template_rows": null,
            "right": null,
            "justify_content": null,
            "_view_module": "@jupyter-widgets/base",
            "overflow": null,
            "_model_module_version": "1.2.0",
            "_view_count": null,
            "flex_flow": null,
            "width": null,
            "min_width": null,
            "border": null,
            "align_items": null,
            "bottom": null,
            "_model_module": "@jupyter-widgets/base",
            "top": null,
            "grid_column": null,
            "overflow_y": null,
            "overflow_x": null,
            "grid_auto_flow": null,
            "grid_area": null,
            "grid_template_columns": null,
            "flex": null,
            "_model_name": "LayoutModel",
            "justify_items": null,
            "grid_row": null,
            "max_height": null,
            "align_content": null,
            "visibility": null,
            "align_self": null,
            "height": null,
            "min_height": null,
            "padding": null,
            "grid_auto_rows": null,
            "grid_gap": null,
            "max_width": null,
            "order": null,
            "_view_module_version": "1.2.0",
            "grid_template_areas": null,
            "object_position": null,
            "object_fit": null,
            "grid_auto_columns": null,
            "margin": null,
            "display": null,
            "left": null
          }
        },
        "6aa903df3cf641f6909df6ffab33d569": {
          "model_module": "@jupyter-widgets/controls",
          "model_name": "FloatProgressModel",
          "model_module_version": "1.5.0",
          "state": {
            "_view_name": "ProgressView",
            "style": "IPY_MODEL_de6e16e4f1334a8ab8fa723d767aa7ba",
            "_dom_classes": [],
            "description": "100%",
            "_model_name": "FloatProgressModel",
            "bar_style": "success",
            "max": 10,
            "_view_module": "@jupyter-widgets/controls",
            "_model_module_version": "1.5.0",
            "value": 10,
            "_view_count": null,
            "_view_module_version": "1.5.0",
            "orientation": "horizontal",
            "min": 0,
            "description_tooltip": null,
            "_model_module": "@jupyter-widgets/controls",
            "layout": "IPY_MODEL_d16a5d673e0e455294fea9782d36aa04"
          }
        },
        "fee5e6f4952643469a853de908d3d20b": {
          "model_module": "@jupyter-widgets/controls",
          "model_name": "HTMLModel",
          "model_module_version": "1.5.0",
          "state": {
            "_view_name": "HTMLView",
            "style": "IPY_MODEL_a8c073d82b884625baa95a4dc28eb440",
            "_dom_classes": [],
            "description": "",
            "_model_name": "HTMLModel",
            "placeholder": "​",
            "_view_module": "@jupyter-widgets/controls",
            "_model_module_version": "1.5.0",
            "value": " 10/10 [00:04&lt;00:00,  2.29ex/s]",
            "_view_count": null,
            "_view_module_version": "1.5.0",
            "description_tooltip": null,
            "_model_module": "@jupyter-widgets/controls",
            "layout": "IPY_MODEL_9e79a7c758424342b2b65fe69169ac09"
          }
        },
        "de6e16e4f1334a8ab8fa723d767aa7ba": {
          "model_module": "@jupyter-widgets/controls",
          "model_name": "ProgressStyleModel",
          "model_module_version": "1.5.0",
          "state": {
            "_view_name": "StyleView",
            "_model_name": "ProgressStyleModel",
            "description_width": "initial",
            "_view_module": "@jupyter-widgets/base",
            "_model_module_version": "1.5.0",
            "_view_count": null,
            "_view_module_version": "1.2.0",
            "bar_color": null,
            "_model_module": "@jupyter-widgets/controls"
          }
        },
        "d16a5d673e0e455294fea9782d36aa04": {
          "model_module": "@jupyter-widgets/base",
          "model_name": "LayoutModel",
          "model_module_version": "1.2.0",
          "state": {
            "_view_name": "LayoutView",
            "grid_template_rows": null,
            "right": null,
            "justify_content": null,
            "_view_module": "@jupyter-widgets/base",
            "overflow": null,
            "_model_module_version": "1.2.0",
            "_view_count": null,
            "flex_flow": null,
            "width": null,
            "min_width": null,
            "border": null,
            "align_items": null,
            "bottom": null,
            "_model_module": "@jupyter-widgets/base",
            "top": null,
            "grid_column": null,
            "overflow_y": null,
            "overflow_x": null,
            "grid_auto_flow": null,
            "grid_area": null,
            "grid_template_columns": null,
            "flex": null,
            "_model_name": "LayoutModel",
            "justify_items": null,
            "grid_row": null,
            "max_height": null,
            "align_content": null,
            "visibility": null,
            "align_self": null,
            "height": null,
            "min_height": null,
            "padding": null,
            "grid_auto_rows": null,
            "grid_gap": null,
            "max_width": null,
            "order": null,
            "_view_module_version": "1.2.0",
            "grid_template_areas": null,
            "object_position": null,
            "object_fit": null,
            "grid_auto_columns": null,
            "margin": null,
            "display": null,
            "left": null
          }
        },
        "a8c073d82b884625baa95a4dc28eb440": {
          "model_module": "@jupyter-widgets/controls",
          "model_name": "DescriptionStyleModel",
          "model_module_version": "1.5.0",
          "state": {
            "_view_name": "StyleView",
            "_model_name": "DescriptionStyleModel",
            "description_width": "",
            "_view_module": "@jupyter-widgets/base",
            "_model_module_version": "1.5.0",
            "_view_count": null,
            "_view_module_version": "1.2.0",
            "_model_module": "@jupyter-widgets/controls"
          }
        },
        "9e79a7c758424342b2b65fe69169ac09": {
          "model_module": "@jupyter-widgets/base",
          "model_name": "LayoutModel",
          "model_module_version": "1.2.0",
          "state": {
            "_view_name": "LayoutView",
            "grid_template_rows": null,
            "right": null,
            "justify_content": null,
            "_view_module": "@jupyter-widgets/base",
            "overflow": null,
            "_model_module_version": "1.2.0",
            "_view_count": null,
            "flex_flow": null,
            "width": null,
            "min_width": null,
            "border": null,
            "align_items": null,
            "bottom": null,
            "_model_module": "@jupyter-widgets/base",
            "top": null,
            "grid_column": null,
            "overflow_y": null,
            "overflow_x": null,
            "grid_auto_flow": null,
            "grid_area": null,
            "grid_template_columns": null,
            "flex": null,
            "_model_name": "LayoutModel",
            "justify_items": null,
            "grid_row": null,
            "max_height": null,
            "align_content": null,
            "visibility": null,
            "align_self": null,
            "height": null,
            "min_height": null,
            "padding": null,
            "grid_auto_rows": null,
            "grid_gap": null,
            "max_width": null,
            "order": null,
            "_view_module_version": "1.2.0",
            "grid_template_areas": null,
            "object_position": null,
            "object_fit": null,
            "grid_auto_columns": null,
            "margin": null,
            "display": null,
            "left": null
          }
        },
        "00abdde6d3f740f28d5e25f49d34032e": {
          "model_module": "@jupyter-widgets/controls",
          "model_name": "HBoxModel",
          "model_module_version": "1.5.0",
          "state": {
            "_view_name": "HBoxView",
            "_dom_classes": [],
            "_model_name": "HBoxModel",
            "_view_module": "@jupyter-widgets/controls",
            "_model_module_version": "1.5.0",
            "_view_count": null,
            "_view_module_version": "1.5.0",
            "box_style": "",
            "layout": "IPY_MODEL_44ac498ebef1450f8e92e585cc64d050",
            "_model_module": "@jupyter-widgets/controls",
            "children": [
              "IPY_MODEL_746cb31828d5463abfc0224f6cfeb8c2",
              "IPY_MODEL_da1af50ea6a44fb79a3b6a59931bb127"
            ]
          }
        },
        "44ac498ebef1450f8e92e585cc64d050": {
          "model_module": "@jupyter-widgets/base",
          "model_name": "LayoutModel",
          "model_module_version": "1.2.0",
          "state": {
            "_view_name": "LayoutView",
            "grid_template_rows": null,
            "right": null,
            "justify_content": null,
            "_view_module": "@jupyter-widgets/base",
            "overflow": null,
            "_model_module_version": "1.2.0",
            "_view_count": null,
            "flex_flow": null,
            "width": null,
            "min_width": null,
            "border": null,
            "align_items": null,
            "bottom": null,
            "_model_module": "@jupyter-widgets/base",
            "top": null,
            "grid_column": null,
            "overflow_y": null,
            "overflow_x": null,
            "grid_auto_flow": null,
            "grid_area": null,
            "grid_template_columns": null,
            "flex": null,
            "_model_name": "LayoutModel",
            "justify_items": null,
            "grid_row": null,
            "max_height": null,
            "align_content": null,
            "visibility": null,
            "align_self": null,
            "height": null,
            "min_height": null,
            "padding": null,
            "grid_auto_rows": null,
            "grid_gap": null,
            "max_width": null,
            "order": null,
            "_view_module_version": "1.2.0",
            "grid_template_areas": null,
            "object_position": null,
            "object_fit": null,
            "grid_auto_columns": null,
            "margin": null,
            "display": null,
            "left": null
          }
        },
        "746cb31828d5463abfc0224f6cfeb8c2": {
          "model_module": "@jupyter-widgets/controls",
          "model_name": "FloatProgressModel",
          "model_module_version": "1.5.0",
          "state": {
            "_view_name": "ProgressView",
            "style": "IPY_MODEL_a3e170a35bfe4f83b5640c4ac9f43e52",
            "_dom_classes": [],
            "description": "Downloading: ",
            "_model_name": "FloatProgressModel",
            "bar_style": "success",
            "max": 1764,
            "_view_module": "@jupyter-widgets/controls",
            "_model_module_version": "1.5.0",
            "value": 1764,
            "_view_count": null,
            "_view_module_version": "1.5.0",
            "orientation": "horizontal",
            "min": 0,
            "description_tooltip": null,
            "_model_module": "@jupyter-widgets/controls",
            "layout": "IPY_MODEL_8d24190526d14dbd835d0bd59bc9f54c"
          }
        },
        "da1af50ea6a44fb79a3b6a59931bb127": {
          "model_module": "@jupyter-widgets/controls",
          "model_name": "HTMLModel",
          "model_module_version": "1.5.0",
          "state": {
            "_view_name": "HTMLView",
            "style": "IPY_MODEL_fedf321b1cb04c55b9345e2352bd00f1",
            "_dom_classes": [],
            "description": "",
            "_model_name": "HTMLModel",
            "placeholder": "​",
            "_view_module": "@jupyter-widgets/controls",
            "_model_module_version": "1.5.0",
            "value": " 3.90k/? [00:00&lt;00:00, 10.9kB/s]",
            "_view_count": null,
            "_view_module_version": "1.5.0",
            "description_tooltip": null,
            "_model_module": "@jupyter-widgets/controls",
            "layout": "IPY_MODEL_60e67b842e334a5d8d616447502439f5"
          }
        },
        "a3e170a35bfe4f83b5640c4ac9f43e52": {
          "model_module": "@jupyter-widgets/controls",
          "model_name": "ProgressStyleModel",
          "model_module_version": "1.5.0",
          "state": {
            "_view_name": "StyleView",
            "_model_name": "ProgressStyleModel",
            "description_width": "initial",
            "_view_module": "@jupyter-widgets/base",
            "_model_module_version": "1.5.0",
            "_view_count": null,
            "_view_module_version": "1.2.0",
            "bar_color": null,
            "_model_module": "@jupyter-widgets/controls"
          }
        },
        "8d24190526d14dbd835d0bd59bc9f54c": {
          "model_module": "@jupyter-widgets/base",
          "model_name": "LayoutModel",
          "model_module_version": "1.2.0",
          "state": {
            "_view_name": "LayoutView",
            "grid_template_rows": null,
            "right": null,
            "justify_content": null,
            "_view_module": "@jupyter-widgets/base",
            "overflow": null,
            "_model_module_version": "1.2.0",
            "_view_count": null,
            "flex_flow": null,
            "width": null,
            "min_width": null,
            "border": null,
            "align_items": null,
            "bottom": null,
            "_model_module": "@jupyter-widgets/base",
            "top": null,
            "grid_column": null,
            "overflow_y": null,
            "overflow_x": null,
            "grid_auto_flow": null,
            "grid_area": null,
            "grid_template_columns": null,
            "flex": null,
            "_model_name": "LayoutModel",
            "justify_items": null,
            "grid_row": null,
            "max_height": null,
            "align_content": null,
            "visibility": null,
            "align_self": null,
            "height": null,
            "min_height": null,
            "padding": null,
            "grid_auto_rows": null,
            "grid_gap": null,
            "max_width": null,
            "order": null,
            "_view_module_version": "1.2.0",
            "grid_template_areas": null,
            "object_position": null,
            "object_fit": null,
            "grid_auto_columns": null,
            "margin": null,
            "display": null,
            "left": null
          }
        },
        "fedf321b1cb04c55b9345e2352bd00f1": {
          "model_module": "@jupyter-widgets/controls",
          "model_name": "DescriptionStyleModel",
          "model_module_version": "1.5.0",
          "state": {
            "_view_name": "StyleView",
            "_model_name": "DescriptionStyleModel",
            "description_width": "",
            "_view_module": "@jupyter-widgets/base",
            "_model_module_version": "1.5.0",
            "_view_count": null,
            "_view_module_version": "1.2.0",
            "_model_module": "@jupyter-widgets/controls"
          }
        },
        "60e67b842e334a5d8d616447502439f5": {
          "model_module": "@jupyter-widgets/base",
          "model_name": "LayoutModel",
          "model_module_version": "1.2.0",
          "state": {
            "_view_name": "LayoutView",
            "grid_template_rows": null,
            "right": null,
            "justify_content": null,
            "_view_module": "@jupyter-widgets/base",
            "overflow": null,
            "_model_module_version": "1.2.0",
            "_view_count": null,
            "flex_flow": null,
            "width": null,
            "min_width": null,
            "border": null,
            "align_items": null,
            "bottom": null,
            "_model_module": "@jupyter-widgets/base",
            "top": null,
            "grid_column": null,
            "overflow_y": null,
            "overflow_x": null,
            "grid_auto_flow": null,
            "grid_area": null,
            "grid_template_columns": null,
            "flex": null,
            "_model_name": "LayoutModel",
            "justify_items": null,
            "grid_row": null,
            "max_height": null,
            "align_content": null,
            "visibility": null,
            "align_self": null,
            "height": null,
            "min_height": null,
            "padding": null,
            "grid_auto_rows": null,
            "grid_gap": null,
            "max_width": null,
            "order": null,
            "_view_module_version": "1.2.0",
            "grid_template_areas": null,
            "object_position": null,
            "object_fit": null,
            "grid_auto_columns": null,
            "margin": null,
            "display": null,
            "left": null
          }
        }
      }
    }
  },
  "cells": [
    {
      "cell_type": "markdown",
      "metadata": {
        "id": "view-in-github",
        "colab_type": "text"
      },
      "source": [
        "<a href=\"https://colab.research.google.com/github/igmim-yassine/Speech-recognition-using-moroccan-dialect-darija/blob/main/Fine_Tune_XLSR_Wav2Vec2_on_Darija_ASR.ipynb\" target=\"_parent\"><img src=\"https://colab.research.google.com/assets/colab-badge.svg\" alt=\"Open In Colab\"/></a>"
      ]
    },
    {
      "cell_type": "code",
      "metadata": {
        "colab": {
          "base_uri": "https://localhost:8080/"
        },
        "id": "0PDS_tN396qX",
        "outputId": "4bc0b64b-90d2-419d-fe51-41a90612b969"
      },
      "source": [
        "from google.colab import drive\n",
        "drive.mount('/content/drive')"
      ],
      "execution_count": 1,
      "outputs": [
        {
          "output_type": "stream",
          "name": "stdout",
          "text": [
            "Mounted at /content/drive\n"
          ]
        }
      ]
    },
    {
      "cell_type": "markdown",
      "metadata": {
        "id": "NSffFohXGtYg"
      },
      "source": [
        "# **Fine-tuning XLSR-Wav2Vec2 on Darija ASR with 🤗 Transformers**"
      ]
    },
    {
      "cell_type": "markdown",
      "metadata": {
        "id": "61_OrM_BWMsq"
      },
      "source": [
        "Wav2Vec2 is a pretrained model for Automatic Speech Recognition (ASR) and was released in [September 2020](https://ai.facebook.com/blog/wav2vec-20-learning-the-structure-of-speech-from-raw-audio/) by Alexei Baevski, Michael Auli, and Alex Conneau.  Soon after the superior performance of Wav2Vec2 was demonstrated on the English ASR dataset LibriSpeech, *Facebook AI* presented XLSR-Wav2Vec2 (click [here](https://arxiv.org/abs/2006.13979)). XLSR stands for *cross-lingual  speech representations* and refers to XLSR-Wav2Vec2`s ability to learn speech representations that are useful across multiple languages.\n",
        "\n",
        "Similar to Wav2Vec2, XLSR-Wav2Vec2 learns powerful speech representations from hundreds of thousands of hours of speech in more than 50 languages of unlabeled speech. Similar, to [BERT's masked language modeling](http://jalammar.github.io/illustrated-bert/), the model learns contextualized speech representations by randomly masking feature vectors before passing them to a transformer network.\n",
        "\n",
        "![wav2vec2_structure](https://raw.githubusercontent.com/patrickvonplaten/scientific_images/master/xlsr_wav2vec2.png)\n",
        "\n",
        "The authors show for the first time that massively pretraining an ASR model on cross-lingual unlabeled speech data, followed by language-specific fine-tuning on very little labeled data achieves state-of-the-art results. See Table 1-5 of the official [paper](https://arxiv.org/pdf/2006.13979.pdf)."
      ]
    },
    {
      "cell_type": "markdown",
      "metadata": {
        "id": "mYP9ry02WQhZ"
      },
      "source": [
        "In this notebook, we will give an in-detail explanation of how XLSR-Wav2Vec2's pretrained checkpoint can be fine-tuned on moroccan dialect darija ASR dataset. Note that in this notebook, we will fine-tune XLSR-Wav2Vec2 without making use of a language model. It is much simpler and more efficient to use XLSR-Wav2Vec2 without a language model, but better results can be achieved by including a language model. \n",
        "\n",
        "For demonstration purposes, we pretrained the [wav2vec2-large-xlsr-53](https://huggingface.co/facebook/wav2vec2-large-xlsr-53) on Arabic MSA dataset of [Common Voice](https://huggingface.co/datasets/common_voice) that contains just ~12h of arabic speech. And therefore, we fine-tune the wav2vec2-large-xlsr-53 on a **custom dataset**. This part of fine-tuning by Darija ASR dataset uses about 18 min of darija speech created by **the desktop application** mentionned in the Readme part of this repository."
      ]
    },
    {
      "cell_type": "markdown",
      "metadata": {
        "id": "qur3rnLGWOui"
      },
      "source": [
        "XLSR-Wav2Vec2 is fine-tuned using Connectionist Temporal Classification (CTC), which is an algorithm that is used to train neural networks for sequence-to-sequence problems and mainly in Automatic Speech Recognition and handwriting recognition. \n",
        "\n",
        "I highly recommend reading the blog post [Sequence Modeling with CTC (2017)](https://distill.pub/2017/ctc/) very well-written blog post by Awni Hannun."
      ]
    },
    {
      "cell_type": "markdown",
      "metadata": {
        "id": "L6PdHmzyWXau"
      },
      "source": [
        "Before we start, let's install both `datasets` and `transformers` from master. Also, we need the `torchaudio` and `librosa` package to load audio files and the `jiwer` to evaluate our fine-tuned model using the [word error rate (WER)](https://huggingface.co/metrics/wer) metric ${}^1$."
      ]
    },
    {
      "cell_type": "code",
      "metadata": {
        "id": "VY-ZeDqr-Xyc"
      },
      "source": [
        "%%capture\n",
        "!pip install datasets==1.4.1\n",
        "!pip install transformers==4.4.0\n",
        "!pip install torchaudio\n",
        "!pip install librosa\n",
        "!pip install jiwer"
      ],
      "execution_count": 2,
      "outputs": []
    },
    {
      "cell_type": "markdown",
      "metadata": {
        "id": "Imr8iHDEWabh"
      },
      "source": [
        "\n",
        "\n",
        "\n",
        "---\n",
        "\n",
        "${}^1$ In the [paper](https://arxiv.org/pdf/2006.13979.pdf), the model was evaluated using the phoneme error rate (PER), but by far the most common metric in ASR is the word error rate (WER). To keep this notebook as general as possible we decided to evaluate the model using WER."
      ]
    },
    {
      "cell_type": "markdown",
      "metadata": {
        "id": "ZGp3-W5uWc7h"
      },
      "source": [
        "## Prepare Data, Tokenizer, Feature Extractor"
      ]
    },
    {
      "cell_type": "markdown",
      "metadata": {
        "id": "H2K6nrHTWd4u"
      },
      "source": [
        "ASR models transcribe speech to text, which means that we both need a feature extractor that processes the speech signal to the model's input format, *e.g.* a feature vector, and a tokenizer that processes the model's output format to text. \n",
        "\n",
        "In 🤗 Transformers, the XLSR-Wav2Vec2 model is thus accompanied by both a tokenizer, called [Wav2Vec2CTCTokenizer](https://huggingface.co/transformers/master/model_doc/wav2vec2.html#wav2vec2ctctokenizer), and a feature extractor, called [Wav2Vec2FeatureExtractor](https://huggingface.co/transformers/master/model_doc/wav2vec2.html#wav2vec2featureextractor).\n",
        "\n",
        "Let's start by creating the tokenizer responsible for decoding the model's predictions."
      ]
    },
    {
      "cell_type": "code",
      "metadata": {
        "colab": {
          "base_uri": "https://localhost:8080/",
          "height": 137,
          "referenced_widgets": [
            "d8febb95c30c49cea76d369bb1f1df0a",
            "b7ab077c1b79460b956a87b33893163f",
            "96bd607b3f3f4520802362b4ddeb44c7",
            "487acd40b5f1493c992b4086ee6d6f09",
            "b1337eaa4998494c9d15f859b1552c67",
            "87db7fb5b4714b62b1e98ca4f363289f",
            "d4f8f992183443369bf78cdf46ef0369",
            "ae7a01d373f14d9189286d44ef2c4add",
            "55f63d7fb360421f838750829d0b5fd3",
            "fd982f79d5684e179c9bb9c99583c76f",
            "ceda917706ed4d7f81441123d15aad1c",
            "c4f917b3485d43e8bacdf137c829e51d",
            "395a80fef1934d8da69a41c2e30dbc1e",
            "4b3c9dd290034de4b35f3dbf28258f41",
            "769731a9e3944d659256f433034e49c9",
            "2f2de92684e3459384f6089a3d8b6a69"
          ]
        },
        "id": "pdYivvFd-aNq",
        "outputId": "798dc801-7cea-4890-cb99-df9ed3683424"
      },
      "source": [
        "from datasets import load_dataset, load_metric\n",
        "\n",
        "common_voice_train = load_dataset('csv', data_files='/content/drive/MyDrive/dataset_transcripted/audios/train.csv')\n",
        "common_voice_test = load_dataset('csv', data_files='/content/drive/MyDrive/dataset_transcripted/audios/test.csv') \n",
        "\n",
        "common_voice_train = common_voice_train['train']\n",
        "common_voice_test = common_voice_test['train']"
      ],
      "execution_count": 6,
      "outputs": [
        {
          "output_type": "stream",
          "name": "stderr",
          "text": [
            "Using custom data configuration default-bc494050b4c8858b\n"
          ]
        },
        {
          "output_type": "stream",
          "name": "stdout",
          "text": [
            "Downloading and preparing dataset csv/default (download: Unknown size, generated: Unknown size, post-processed: Unknown size, total: Unknown size) to /root/.cache/huggingface/datasets/csv/default-bc494050b4c8858b/0.0.0/2a88c45fed596f9421a2e7f74ab1a3cd012ef75210a5dc1950e8d60ca8d9c66c...\n"
          ]
        },
        {
          "output_type": "display_data",
          "data": {
            "application/vnd.jupyter.widget-view+json": {
              "model_id": "d8febb95c30c49cea76d369bb1f1df0a",
              "version_minor": 0,
              "version_major": 2
            },
            "text/plain": [
              "HBox(children=(FloatProgress(value=1.0, bar_style='info', layout=Layout(width='20px'), max=1.0), HTML(value=''…"
            ]
          },
          "metadata": {}
        },
        {
          "output_type": "stream",
          "name": "stdout",
          "text": [
            "Dataset csv downloaded and prepared to /root/.cache/huggingface/datasets/csv/default-bc494050b4c8858b/0.0.0/2a88c45fed596f9421a2e7f74ab1a3cd012ef75210a5dc1950e8d60ca8d9c66c. Subsequent calls will reuse this data.\n"
          ]
        },
        {
          "output_type": "stream",
          "name": "stderr",
          "text": [
            "Using custom data configuration default-fe6ecaec581dc453\n"
          ]
        },
        {
          "output_type": "stream",
          "name": "stdout",
          "text": [
            "Downloading and preparing dataset csv/default (download: Unknown size, generated: Unknown size, post-processed: Unknown size, total: Unknown size) to /root/.cache/huggingface/datasets/csv/default-fe6ecaec581dc453/0.0.0/2a88c45fed596f9421a2e7f74ab1a3cd012ef75210a5dc1950e8d60ca8d9c66c...\n"
          ]
        },
        {
          "output_type": "display_data",
          "data": {
            "application/vnd.jupyter.widget-view+json": {
              "model_id": "55f63d7fb360421f838750829d0b5fd3",
              "version_minor": 0,
              "version_major": 2
            },
            "text/plain": [
              "HBox(children=(FloatProgress(value=1.0, bar_style='info', layout=Layout(width='20px'), max=1.0), HTML(value=''…"
            ]
          },
          "metadata": {}
        },
        {
          "output_type": "stream",
          "name": "stdout",
          "text": [
            "Dataset csv downloaded and prepared to /root/.cache/huggingface/datasets/csv/default-fe6ecaec581dc453/0.0.0/2a88c45fed596f9421a2e7f74ab1a3cd012ef75210a5dc1950e8d60ca8d9c66c. Subsequent calls will reuse this data.\n"
          ]
        }
      ]
    },
    {
      "cell_type": "markdown",
      "metadata": {
        "id": "NV-4ntJrWh25"
      },
      "source": [
        "### Create Wav2Vec2CTCTokenizer"
      ]
    },
    {
      "cell_type": "markdown",
      "metadata": {
        "id": "z3aSzgVNWimM"
      },
      "source": [
        "The [pretrained Wav2Vec2 checkpoint]( ) maps the speech signal to a sequence of context representations as illustrated in the figure above. A fine-tuned XLSR-Wav2Vec2 checkpoint needs to map this sequence of context representations to its corresponding transcription so that a linear layer has to be added on top of the transformer block (shown in yellow). This linear layer is used to classifies each context representation to a token class analogous how, *e.g.*, after pretraining a linear layer is added on top of BERT's embeddings for further classification - *cf.* with *\"BERT\"* section of this [blog post](https://huggingface.co/blog/warm-starting-encoder-decoder).\n",
        "\n",
        "The output size of this layer corresponds to the number of tokens in the vocabulary, which does **not** depend on XLSR-Wav2Vec2's pretraining task, but only on the labeled dataset used for fine-tuning."
      ]
    },
    {
      "cell_type": "markdown",
      "metadata": {
        "id": "nTaz2sF3WmHC"
      },
      "source": [
        "Because our custom dataset ,Darija dataset, is so small, we will merge both the validation and training data into a training dataset and simply use the test data for validation."
      ]
    },
    {
      "cell_type": "code",
      "metadata": {
        "id": "EroNJ7pk-dXq"
      },
      "source": [
        "common_voice_train = common_voice_train.remove_columns(\"Unnamed: 0\")\n",
        "common_voice_test = common_voice_test.remove_columns(\"Unnamed: 0\")"
      ],
      "execution_count": 7,
      "outputs": []
    },
    {
      "cell_type": "markdown",
      "metadata": {
        "id": "CGBOEZWPWpeO"
      },
      "source": [
        "Many ASR datasets only provide the target text, `'sentence'` for each audio file `'path'`. Thus, we are gonna be elaborating the issue on the same way. As you can be seen, we do have only two columns in our dataset, the path of the audio and the adequat text of each audio.\n"
      ]
    },
    {
      "cell_type": "code",
      "metadata": {
        "colab": {
          "base_uri": "https://localhost:8080/"
        },
        "id": "TYir77rZ-fAi",
        "outputId": "dfda98b4-6c8b-4037-a438-133b5cd359d8"
      },
      "source": [
        "common_voice_test.column_names"
      ],
      "execution_count": 8,
      "outputs": [
        {
          "output_type": "execute_result",
          "data": {
            "text/plain": [
              "['path', 'text']"
            ]
          },
          "metadata": {},
          "execution_count": 8
        }
      ]
    },
    {
      "cell_type": "markdown",
      "metadata": {
        "id": "sKhjMq0NXI5S"
      },
      "source": [
        "Let's write a short function to display some random samples of the darija dataset and run it a couple of times to get a feeling for the transcriptions."
      ]
    },
    {
      "cell_type": "code",
      "metadata": {
        "id": "50jcW8PK-rGr"
      },
      "source": [
        "from datasets import ClassLabel\n",
        "import random\n",
        "import pandas as pd\n",
        "from IPython.display import display, HTML\n",
        "\n",
        "def show_random_elements(dataset, num_examples=10):\n",
        "\n",
        "    assert num_examples <= len(dataset), \"Can't pick more elements than there are in the dataset.\"\n",
        "    picks = []\n",
        "    for _ in range(num_examples):\n",
        "        pick = random.randint(0, len(dataset)-1)\n",
        "        while pick in picks:\n",
        "            pick = random.randint(0, len(dataset)-1)\n",
        "        picks.append(pick)\n",
        "    \n",
        "    df = pd.DataFrame(dataset[picks])\n",
        "    display(HTML(df.to_html()))"
      ],
      "execution_count": 9,
      "outputs": []
    },
    {
      "cell_type": "code",
      "metadata": {
        "colab": {
          "base_uri": "https://localhost:8080/",
          "height": 356
        },
        "id": "hXL7E9Gy-uLN",
        "outputId": "593e1b09-d334-476f-dd94-8acd1632c8e7"
      },
      "source": [
        "show_random_elements(common_voice_train.remove_columns([\"path\"]), num_examples=10)"
      ],
      "execution_count": 10,
      "outputs": [
        {
          "output_type": "display_data",
          "data": {
            "text/html": [
              "<table border=\"1\" class=\"dataframe\">\n",
              "  <thead>\n",
              "    <tr style=\"text-align: right;\">\n",
              "      <th></th>\n",
              "      <th>text</th>\n",
              "    </tr>\n",
              "  </thead>\n",
              "  <tbody>\n",
              "    <tr>\n",
              "      <th>0</th>\n",
              "      <td>اشناهوما بلايص للماكلة لمزيانين فالرباط</td>\n",
              "    </tr>\n",
              "    <tr>\n",
              "      <th>1</th>\n",
              "      <td>انا عجبوني الجلالب الي لبسو فلعزة اشكون ابحالي</td>\n",
              "    </tr>\n",
              "    <tr>\n",
              "      <th>2</th>\n",
              "      <td>حتى انا نظن ميطيبوش حيت سبقلي جربت هاكدا البطاطس في الة البانيني لكن لاسف مطابتش</td>\n",
              "    </tr>\n",
              "    <tr>\n",
              "      <th>3</th>\n",
              "      <td>خويا ديير لينا كيفاش نسجلو من تلفاز ل كمبيوتر</td>\n",
              "    </tr>\n",
              "    <tr>\n",
              "      <th>4</th>\n",
              "      <td>ماغاديغا باش نكونو واضحين حمضتيها    كبور و فتيحة لي فيهم شوية ديال لكوميديا</td>\n",
              "    </tr>\n",
              "    <tr>\n",
              "      <th>5</th>\n",
              "      <td>نسكت على بحال هاد الناس</td>\n",
              "    </tr>\n",
              "    <tr>\n",
              "      <th>6</th>\n",
              "      <td>إلا كتير الانتاج طيحو التمن فين كاين المشكل</td>\n",
              "    </tr>\n",
              "    <tr>\n",
              "      <th>7</th>\n",
              "      <td>علاش لكدوب هادي ديال المغارب كاملين</td>\n",
              "    </tr>\n",
              "    <tr>\n",
              "      <th>8</th>\n",
              "      <td>شوفو شحال من واحد عجبو هد السيد</td>\n",
              "    </tr>\n",
              "    <tr>\n",
              "      <th>9</th>\n",
              "      <td>عجباتتني بزاف الشخصية ديالو، كي عطي دروس كتيرة ف الحياة</td>\n",
              "    </tr>\n",
              "  </tbody>\n",
              "</table>"
            ],
            "text/plain": [
              "<IPython.core.display.HTML object>"
            ]
          },
          "metadata": {}
        }
      ]
    },
    {
      "cell_type": "markdown",
      "metadata": {
        "id": "DyrbPz9RXMeZ"
      },
      "source": [
        "Alright! The transcriptions look fairly clean."
      ]
    },
    {
      "cell_type": "markdown",
      "metadata": {
        "id": "JynDfTZrXNLj"
      },
      "source": [
        "We can see that the transcriptions is clean but it may be the case where an user added a file of a text that contain some special characters, such as `,.?!;:`. Without a language model, it is much harder to classify speech chunks to such special characters because they don't really correspond to a characteristic sound unit. *E.g.*, the letter `\"s\"` has a more or less clear sound, whereas the special character `\".\"` does not.\n",
        "\n",
        "Also in order to understand the meaning of a speech signal, it is usually **not necessary** to include special characters in the transcription.\n",
        "In addition, we normalize the text to only have lower case letters and append a word separator token at the end."
      ]
    },
    {
      "cell_type": "code",
      "metadata": {
        "id": "ICMtlpLZ-ufA"
      },
      "source": [
        "import re\n",
        "chars_to_ignore_regex = '[\\,\\?\\.\\!\\-\\;\\:\\\"\\“\\%\\‘\\”\\�\\'\\،\\٠\\u200e\\'َ]'\n",
        "\n",
        "def remove_special_characters(batch):\n",
        "    batch[\"text\"] = re.sub(chars_to_ignore_regex, '', batch[\"text\"]).lower() + \" \"\n",
        "    return batch"
      ],
      "execution_count": 11,
      "outputs": []
    },
    {
      "cell_type": "code",
      "metadata": {
        "colab": {
          "base_uri": "https://localhost:8080/",
          "height": 114,
          "referenced_widgets": [
            "bf2c836e26cb43a5bd74855d2acd3c92",
            "6122d7724ade4952bf46c7138c52ee33",
            "f6effdc3a48842a09a37b04dfb9bbe96",
            "b4c9f8b9e1234bedbaa127c261778c9a",
            "969c5feca717499e8e3c700e37726295",
            "dd69f212839a410bb27cff3cd861a638",
            "129ebd7656c444f3a01faa824e9722a1",
            "c6db6af4eebd4ef688fb0d5c3fe2ea05",
            "6447c29d5f034597b0dcb21c2d873760",
            "68ff21be5a6245b58032cf84d261db02",
            "29315bccfefa4110b1969fe74e93037a",
            "c27e067874174c56b7ffb8e1cfaf2b5e",
            "331289ba932546e3811bee1232d5e7c0",
            "9843289ddd2247619892a8a42774d806",
            "318f45433f974f17baa593ef832acfb3",
            "dc9c73ec61834021af33c7f5fecd41b6"
          ]
        },
        "id": "fZTtZVUC-0ky",
        "outputId": "a67d2e5c-3c6e-452c-9c71-8caadd574068"
      },
      "source": [
        "common_voice_train = common_voice_train.map(remove_special_characters)\n",
        "common_voice_test = common_voice_test.map(remove_special_characters)"
      ],
      "execution_count": 12,
      "outputs": [
        {
          "output_type": "display_data",
          "data": {
            "application/vnd.jupyter.widget-view+json": {
              "model_id": "bf2c836e26cb43a5bd74855d2acd3c92",
              "version_minor": 0,
              "version_major": 2
            },
            "text/plain": [
              "HBox(children=(FloatProgress(value=0.0, max=90.0), HTML(value='')))"
            ]
          },
          "metadata": {}
        },
        {
          "output_type": "stream",
          "name": "stdout",
          "text": [
            "\n"
          ]
        },
        {
          "output_type": "display_data",
          "data": {
            "application/vnd.jupyter.widget-view+json": {
              "model_id": "6447c29d5f034597b0dcb21c2d873760",
              "version_minor": 0,
              "version_major": 2
            },
            "text/plain": [
              "HBox(children=(FloatProgress(value=0.0, max=10.0), HTML(value='')))"
            ]
          },
          "metadata": {}
        },
        {
          "output_type": "stream",
          "name": "stdout",
          "text": [
            "\n"
          ]
        }
      ]
    },
    {
      "cell_type": "markdown",
      "metadata": {
        "id": "ebqm7m7YXSC5"
      },
      "source": [
        "Good! This looks better. We have removed most special characters from transcriptions and normalized them to lower-case only.\n",
        "\n",
        "In CTC, it is common to classify speech chunks into letters, so we will do the same here. \n",
        "Let's extract all distinct letters of the training and test data and build our vocabulary from this set of letters.\n",
        "\n",
        "We write a mapping function that concatenates all transcriptions into one long transcription and then transforms the string into a set of chars. \n",
        "It is important to pass the argument `batched=True` to the `map(...)` function so that the mapping function has access to all transcriptions at once."
      ]
    },
    {
      "cell_type": "code",
      "metadata": {
        "id": "glCJWzcv-4ci"
      },
      "source": [
        "def extract_all_chars(batch):\n",
        "  all_text = \" \".join(batch[\"text\"])\n",
        "  vocab = list(set(all_text))\n",
        "  return {\"vocab\": [vocab], \"all_text\": [all_text]}"
      ],
      "execution_count": 13,
      "outputs": []
    },
    {
      "cell_type": "code",
      "metadata": {
        "colab": {
          "base_uri": "https://localhost:8080/",
          "height": 114,
          "referenced_widgets": [
            "fb0aba765e77426c938c1d35178743d0",
            "7c5783d6f37d4210ac51ff166b7f7277",
            "f5780016057f406891dd3db2be89e664",
            "7a898567f3e14384a874b9d4bbe3defd",
            "8d8744d188794d5c9048f965dead3428",
            "cf038843ccd44b4c8d0b3f7b28b5fdcb",
            "fcf514d12bc642649bf0e6deff2715d5",
            "eff0f4706aa2424c9ea86d036a811613",
            "09d94e2e13cb48f88aa40e7d00447595",
            "504456c809494e3b8c8247eddda46fc2",
            "25f7b13af1e2495e933e8c2ba20e7e41",
            "e6a5ae0f8aaf4821ad20ee7d0d2cbcb1",
            "923600a83f9c4411abbb138afc6c1cab",
            "18f3e7c8e26f4cf7806a0f84e571040c",
            "307584ad585e410a80e6e26f5516d9a2",
            "3710871d8bc24ee899242b9194c0ca07"
          ]
        },
        "id": "EY94hT5e_Etb",
        "outputId": "fa35687e-145b-4735-9636-fd05b17a6a14"
      },
      "source": [
        "vocab_train = common_voice_train.map(extract_all_chars, batched=True, batch_size=-1, keep_in_memory=True, remove_columns=common_voice_train.column_names)\n",
        "vocab_test = common_voice_test.map(extract_all_chars, batched=True, batch_size=-1, keep_in_memory=True, remove_columns=common_voice_test.column_names)"
      ],
      "execution_count": 14,
      "outputs": [
        {
          "output_type": "display_data",
          "data": {
            "application/vnd.jupyter.widget-view+json": {
              "model_id": "fb0aba765e77426c938c1d35178743d0",
              "version_minor": 0,
              "version_major": 2
            },
            "text/plain": [
              "HBox(children=(FloatProgress(value=0.0, max=1.0), HTML(value='')))"
            ]
          },
          "metadata": {}
        },
        {
          "output_type": "stream",
          "name": "stdout",
          "text": [
            "\n"
          ]
        },
        {
          "output_type": "display_data",
          "data": {
            "application/vnd.jupyter.widget-view+json": {
              "model_id": "09d94e2e13cb48f88aa40e7d00447595",
              "version_minor": 0,
              "version_major": 2
            },
            "text/plain": [
              "HBox(children=(FloatProgress(value=0.0, max=1.0), HTML(value='')))"
            ]
          },
          "metadata": {}
        },
        {
          "output_type": "stream",
          "name": "stdout",
          "text": [
            "\n"
          ]
        }
      ]
    },
    {
      "cell_type": "markdown",
      "metadata": {
        "id": "ZsShgJFqXYSK"
      },
      "source": [
        "Now, we create the union of all distinct letters in the training dataset and test dataset and convert the resulting list into an enumerated dictionary."
      ]
    },
    {
      "cell_type": "code",
      "metadata": {
        "id": "2HxmZvNn_Hc6"
      },
      "source": [
        "vocab_list = list(set(vocab_train[\"vocab\"][0]) | set(vocab_test[\"vocab\"][0]))"
      ],
      "execution_count": 15,
      "outputs": []
    },
    {
      "cell_type": "code",
      "metadata": {
        "colab": {
          "base_uri": "https://localhost:8080/"
        },
        "id": "nmX6cnvP_OR6",
        "outputId": "212f01f7-3fde-43c0-83eb-c5d6ca39cc0e"
      },
      "source": [
        "vocab_dict = {v: k for k, v in enumerate(vocab_list)}\n",
        "vocab_dict"
      ],
      "execution_count": 16,
      "outputs": [
        {
          "output_type": "execute_result",
          "data": {
            "text/plain": [
              "{' ': 4,\n",
              " 'ء': 15,\n",
              " 'آ': 35,\n",
              " 'أ': 16,\n",
              " 'إ': 22,\n",
              " 'ئ': 20,\n",
              " 'ا': 23,\n",
              " 'ب': 3,\n",
              " 'ة': 11,\n",
              " 'ت': 7,\n",
              " 'ث': 17,\n",
              " 'ج': 25,\n",
              " 'ح': 31,\n",
              " 'خ': 27,\n",
              " 'د': 29,\n",
              " 'ذ': 36,\n",
              " 'ر': 28,\n",
              " 'ز': 9,\n",
              " 'س': 30,\n",
              " 'ش': 19,\n",
              " 'ص': 32,\n",
              " 'ض': 34,\n",
              " 'ط': 26,\n",
              " 'ظ': 18,\n",
              " 'ع': 14,\n",
              " 'غ': 0,\n",
              " 'ف': 2,\n",
              " 'ق': 24,\n",
              " 'ك': 12,\n",
              " 'ل': 21,\n",
              " 'م': 6,\n",
              " 'ن': 13,\n",
              " 'ه': 5,\n",
              " 'و': 10,\n",
              " 'ى': 33,\n",
              " 'ي': 8,\n",
              " 'چ': 1}"
            ]
          },
          "metadata": {},
          "execution_count": 16
        }
      ]
    },
    {
      "cell_type": "markdown",
      "metadata": {
        "id": "WsIEnI4eXawj"
      },
      "source": [
        "Cool, we see that all letters of the alphabet occur in the dataset (which is not really surprising) and we also extracted the special characters `\" \"` and `'`. Note that we did not exclude those special characters because: \n",
        "\n",
        "- The model has to learn to predict when a word is finished or else the model prediction would always be a sequence of chars which would make it impossible to separate words from each other.  \n",
        "\n",
        "One should always keep in mind that the data-preprocessing is a very important step before training your model.\n"
      ]
    },
    {
      "cell_type": "markdown",
      "metadata": {
        "id": "HrnYUWDJXc8G"
      },
      "source": [
        "To make it clearer that `\" \"` has its own token class, we give it a more visible character `|`. In addition, we also add an \"unknown\" token so that the model can later deal with characters not encountered in the custom training set. \n",
        "\n",
        "Finally, we also add a padding token that corresponds to CTC's \"*blank token*\". The \"blank token\" is a core component of the CTC algorithm. For more information, please take a look at the \"Alignment\" section [here](https://distill.pub/2017/ctc/)."
      ]
    },
    {
      "cell_type": "code",
      "metadata": {
        "id": "sqWgU5wF_Ogu"
      },
      "source": [
        "vocab_dict[\"|\"] = vocab_dict[\" \"]\n",
        "del vocab_dict[\" \"]"
      ],
      "execution_count": 17,
      "outputs": []
    },
    {
      "cell_type": "code",
      "metadata": {
        "colab": {
          "base_uri": "https://localhost:8080/"
        },
        "id": "O6VNnxGuCr3h",
        "outputId": "5e1a84b4-933a-4f3d-e8da-46a233ab7f8f"
      },
      "source": [
        "vocab_dict[\"[UNK]\"] = len(vocab_dict)\n",
        "vocab_dict[\"[PAD]\"] = len(vocab_dict)\n",
        "len(vocab_dict)"
      ],
      "execution_count": 18,
      "outputs": [
        {
          "output_type": "execute_result",
          "data": {
            "text/plain": [
              "39"
            ]
          },
          "metadata": {},
          "execution_count": 18
        }
      ]
    },
    {
      "cell_type": "markdown",
      "metadata": {
        "id": "zzGVH-xxXgj5"
      },
      "source": [
        "Cool, now our vocabulary is complete and consists of 39 tokens, which means that the linear layer that we will add on top of the pretrained XLSR-Wav2Vec2 checkpoint will have an output dimension of 39."
      ]
    },
    {
      "cell_type": "markdown",
      "metadata": {
        "id": "Orlx0Sm5XlAM"
      },
      "source": [
        "Let's now save the vocabulary as a json file."
      ]
    },
    {
      "cell_type": "code",
      "metadata": {
        "id": "rHXeSsibCtVN"
      },
      "source": [
        "import json\n",
        "with open('vocab.json', 'w') as vocab_file:\n",
        "    json.dump(vocab_dict, vocab_file)"
      ],
      "execution_count": 19,
      "outputs": []
    },
    {
      "cell_type": "markdown",
      "metadata": {
        "id": "eydpgag8Xqnu"
      },
      "source": [
        "In a final step, we use the json file to instantiate an object of the `Wav2Vec2CTCTokenizer` class."
      ]
    },
    {
      "cell_type": "code",
      "metadata": {
        "id": "LErlxNxlCvE5"
      },
      "source": [
        "from transformers import Wav2Vec2CTCTokenizer\n",
        "\n",
        "tokenizer = Wav2Vec2CTCTokenizer(\"./vocab.json\", unk_token=\"[UNK]\", pad_token=\"[PAD]\", word_delimiter_token=\"|\")"
      ],
      "execution_count": 20,
      "outputs": []
    },
    {
      "cell_type": "markdown",
      "metadata": {
        "id": "K8-6CQsfXtdi"
      },
      "source": [
        "Next, we will create the feature extractor."
      ]
    },
    {
      "cell_type": "markdown",
      "metadata": {
        "id": "X2JFqbgTXv2q"
      },
      "source": [
        "### Create XLSR-Wav2Vec2 Feature Extractor"
      ]
    },
    {
      "cell_type": "markdown",
      "metadata": {
        "id": "Qh88DAcJX0sa"
      },
      "source": [
        "Speech is a continuous signal and to be treated by computers, it first has to be discretized, which is usually called **sampling**. The sampling rate hereby plays an important role in that it defines how many data points of the speech signal are measured per second. Therefore, sampling with a higher sampling rate results in a better approximation of the *real* speech signal but also necessitates more values per second.\n",
        "\n",
        "A pretrained checkpoint expects its input data to have been sampled more or less from the same distribution as the data it was trained on. The same speech signals sampled at two different rates have a very different distribution, *e.g.*, doubling the sampling rate results in data points being twice as long. Thus, \n",
        "before fine-tuning a pretrained checkpoint of an ASR model, it is crucial to verify that the sampling rate of the data that was used to pretrain the model matches the sampling rate of the dataset used to fine-tune the model.\n",
        "\n",
        "XLSR-Wav2Vec2 was pretrained on the audio data of [Common Voice](https://huggingface.co/datasets/common_voice). The audio of Common Voice were sampled at 48kHz so we are gonna downsampled them to 16kHz for training. Thus, we will have to downsample our fine-tuning data to 16kHz in the following.\n",
        "\n"
      ]
    },
    {
      "cell_type": "markdown",
      "metadata": {
        "id": "qrLWFp6sX3QB"
      },
      "source": [
        "A XLSR-Wav2Vec2 feature extractor object requires the following parameters to be instantiated:\n",
        "\n",
        "- `feature_size`: Speech models take a sequence of feature vectors as an input. While the length of this sequence obviously varies, the feature size should not. In the case of Wav2Vec2, the feature size is 1 because the model was trained on the raw speech signal ${}^2$.\n",
        "- `sampling_rate`: The sampling rate at which the model is trained on.\n",
        "- `padding_value`: For batched inference, shorter inputs need to be padded with a specific value\n",
        "- `do_normalize`: Whether the input should be *zero-mean-unit-variance* normalized or not. Usually, speech models perform better when normalizing the input\n",
        "- `return_attention_mask`: Whether the model should make use of an `attention_mask` for batched inference. In general, XLSR-Wav2Vec2 models should **always** make use of the `attention_mask`."
      ]
    },
    {
      "cell_type": "code",
      "metadata": {
        "id": "3mhkeZMACxDw"
      },
      "source": [
        "from transformers import Wav2Vec2FeatureExtractor\n",
        "\n",
        "feature_extractor = Wav2Vec2FeatureExtractor(feature_size=1, sampling_rate=16000, padding_value=0.0, do_normalize=True, return_attention_mask=True)"
      ],
      "execution_count": 21,
      "outputs": []
    },
    {
      "cell_type": "markdown",
      "metadata": {
        "id": "RWhCAo6EX6j5"
      },
      "source": [
        "Great, XLSR-Wav2Vec2's feature extraction pipeline is thereby fully defined!\n",
        "\n",
        "To make the usage of XLSR-Wav2Vec2 as user-friendly as possible, the feature extractor and tokenizer are *wrapped* into a single `Wav2Vec2Processor` class so that one only needs a `model` and `processor` object."
      ]
    },
    {
      "cell_type": "code",
      "metadata": {
        "id": "EdN4blb7CzWP"
      },
      "source": [
        "from transformers import Wav2Vec2Processor\n",
        "\n",
        "processor = Wav2Vec2Processor(feature_extractor=feature_extractor, tokenizer=tokenizer)"
      ],
      "execution_count": 22,
      "outputs": []
    },
    {
      "cell_type": "markdown",
      "metadata": {
        "id": "9dom2le6X9Oa"
      },
      "source": [
        "If one wants to re-use the just created processor and the fine-tuned model of this notebook, one can mount his/her google drive to the notebook and save all relevant files there. To do so, please uncomment the following lines. \n",
        "\n",
        "We will give the fine-tuned model the name `\"wav2vec2-large-xlsr-darija-demo\"`.\n"
      ]
    },
    {
      "cell_type": "code",
      "metadata": {
        "id": "sTDGCA97C1Zw"
      },
      "source": [
        "processor.save_pretrained(\"/content/gdrive/MyDrive/wav2vec2-large-xlsr-darija-demo\")"
      ],
      "execution_count": 23,
      "outputs": []
    },
    {
      "cell_type": "markdown",
      "metadata": {
        "id": "_usrS3I2YAy_"
      },
      "source": [
        "Next, we can prepare the dataset."
      ]
    },
    {
      "cell_type": "markdown",
      "metadata": {
        "id": "dcfDO-VuYnkL"
      },
      "source": [
        "### Preprocess Data\n",
        "\n",
        "So far, we have not looked at the actual values of the speech signal but just kept the path to its file in the dataset. `XLSR-Wav2Vec2` expects the audio file in the format of a 1-dimensional array, so in the first step, let's load all audio files into the dataset object.\n",
        "\n",
        "Let's first check the serialization format of the downloaded audio files by looking at the first training sample."
      ]
    },
    {
      "cell_type": "code",
      "metadata": {
        "colab": {
          "base_uri": "https://localhost:8080/",
          "height": 34
        },
        "id": "zghT28Q7C9cI",
        "outputId": "9584fd7a-4017-4127-d1b2-524db19b5700"
      },
      "source": [
        "common_voice_train[0]['path']"
      ],
      "execution_count": 24,
      "outputs": [
        {
          "output_type": "execute_result",
          "data": {
            "application/vnd.google.colaboratory.intrinsic+json": {
              "type": "string"
            },
            "text/plain": [
              "'/content/drive/MyDrive/dataset_transcripted/audios/recorder_2021-08-12_16-12-16_041436.wav'"
            ]
          },
          "metadata": {},
          "execution_count": 24
        }
      ]
    },
    {
      "cell_type": "markdown",
      "metadata": {
        "id": "Cr0ar8tOYqVa"
      },
      "source": [
        "Alright, the audio file is saved in the `.wav` format. We found that the [`torchaudio`](https://pytorch.org/audio/stable/index.html) library works best for reading in `.wav` data. \n",
        "\n",
        "An audio file usually stores both its values and the sampling rate with which the speech signal was digitalized. We want to store both in the dataset and write a `map(...)` function accordingly."
      ]
    },
    {
      "cell_type": "code",
      "metadata": {
        "id": "gqbOZb2tDABA"
      },
      "source": [
        "import torchaudio\n",
        "\n",
        "def speech_file_to_array_fn(batch):\n",
        "    speech_array, sampling_rate = torchaudio.load(batch[\"path\"])\n",
        "    batch[\"speech\"] = speech_array[0].numpy()\n",
        "    batch[\"sampling_rate\"] = sampling_rate\n",
        "    batch[\"target_text\"] = batch[\"text\"]\n",
        "    return batch"
      ],
      "execution_count": 25,
      "outputs": []
    },
    {
      "cell_type": "code",
      "metadata": {
        "colab": {
          "base_uri": "https://localhost:8080/",
          "height": 114,
          "referenced_widgets": [
            "27d115e6e1204417a8f4e3b54c2122b5",
            "f99dde3f9e67411eacd08affbe083c39",
            "6a2e3ee4cf3548afa8cb558c712e1aea",
            "70c91175e282431a8bc207c339236212",
            "1c2438a8401246c08c64e255179e369f",
            "a4a3e9a8a3d1409c9f421322f0a1b856",
            "d8cc337a188d4dbcaea51d97c66a975e",
            "7c01cc74c98e4f4fb9f3864d4cef6f33",
            "0dc021f156304df08596fe7a694b690b",
            "e2f9cd7725fe4f8187c9a4285c3d11d1",
            "6aa903df3cf641f6909df6ffab33d569",
            "fee5e6f4952643469a853de908d3d20b",
            "de6e16e4f1334a8ab8fa723d767aa7ba",
            "d16a5d673e0e455294fea9782d36aa04",
            "a8c073d82b884625baa95a4dc28eb440",
            "9e79a7c758424342b2b65fe69169ac09"
          ]
        },
        "id": "cg1DmRQdDCvQ",
        "outputId": "dd578c92-71a4-4564-9768-50fada3397fe"
      },
      "source": [
        "common_voice_train = common_voice_train.map(speech_file_to_array_fn, remove_columns=common_voice_train.column_names)\n",
        "common_voice_test = common_voice_test.map(speech_file_to_array_fn, remove_columns=common_voice_test.column_names)"
      ],
      "execution_count": 26,
      "outputs": [
        {
          "output_type": "display_data",
          "data": {
            "application/vnd.jupyter.widget-view+json": {
              "model_id": "27d115e6e1204417a8f4e3b54c2122b5",
              "version_minor": 0,
              "version_major": 2
            },
            "text/plain": [
              "HBox(children=(FloatProgress(value=0.0, max=90.0), HTML(value='')))"
            ]
          },
          "metadata": {}
        },
        {
          "output_type": "stream",
          "name": "stdout",
          "text": [
            "\n"
          ]
        },
        {
          "output_type": "display_data",
          "data": {
            "application/vnd.jupyter.widget-view+json": {
              "model_id": "0dc021f156304df08596fe7a694b690b",
              "version_minor": 0,
              "version_major": 2
            },
            "text/plain": [
              "HBox(children=(FloatProgress(value=0.0, max=10.0), HTML(value='')))"
            ]
          },
          "metadata": {}
        },
        {
          "output_type": "stream",
          "name": "stdout",
          "text": [
            "\n"
          ]
        }
      ]
    },
    {
      "cell_type": "markdown",
      "metadata": {
        "id": "Lb1UPZIhYuXm"
      },
      "source": [
        "Great, now we've successfully read in all the audio files, but since we know that audio from the desktop application are sampled at 48kHz, we need to resample them to 16kHz. \n",
        "\n",
        "Let's make use of the [`librosa`](https://github.com/librosa/librosa) library to downsample the data."
      ]
    },
    {
      "cell_type": "code",
      "metadata": {
        "id": "jU8eqAKeDElF"
      },
      "source": [
        "import librosa\n",
        "import numpy as np\n",
        "\n",
        "def resample(batch):\n",
        "    batch[\"speech\"] = librosa.resample(np.asarray(batch[\"speech\"]), 48_000, 16_000)\n",
        "    batch[\"sampling_rate\"] = 16_000\n",
        "    return batch"
      ],
      "execution_count": 27,
      "outputs": []
    },
    {
      "cell_type": "code",
      "metadata": {
        "colab": {
          "base_uri": "https://localhost:8080/"
        },
        "id": "qYuBcKc9DJ0S",
        "outputId": "c9108dc5-ddef-4a7b-c08c-62cf4c7fd0ed"
      },
      "source": [
        "common_voice_train = common_voice_train.map(resample, num_proc=4)\n",
        "common_voice_test = common_voice_test.map(resample, num_proc=4)"
      ],
      "execution_count": 28,
      "outputs": [
        {
          "output_type": "stream",
          "name": "stdout",
          "text": [
            "\n",
            "\n",
            "\n",
            "\n",
            "\n",
            "\n",
            "\n",
            "\n"
          ]
        }
      ]
    },
    {
      "cell_type": "markdown",
      "metadata": {
        "id": "m5s1AJ1wYyLq"
      },
      "source": [
        "This seemed to have worked! Let's listen to a couple of audio files to better understand the dataset and verify that the audio was correctly loaded. \n",
        "\n",
        "**Note**: *You can click the following cell a couple of times to listen to different speech samples.*"
      ]
    },
    {
      "cell_type": "code",
      "metadata": {
        "colab": {
          "base_uri": "https://localhost:8080/",
          "height": 74
        },
        "id": "wvtoYyDDDLob",
        "outputId": "0b49c330-f2e6-46d9-8cd7-eecff2ef9fb4"
      },
      "source": [
        "import IPython.display as ipd\n",
        "import numpy as np\n",
        "import random\n",
        "\n",
        "rand_int = random.randint(0, len(common_voice_train)-1)\n",
        "\n",
        "ipd.Audio(data=np.asarray(common_voice_train[rand_int][\"speech\"]), autoplay=True, rate=16000)"
      ],
      "execution_count": 29,
      "outputs": [
        {
          "output_type": "execute_result",
          "data": {
            "text/html": [
              "\n",
              "                <audio controls=\"controls\" autoplay=\"autoplay\">\n",
              "                    <source src=\"data:audio/wav;base64,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\" type=\"audio/wav\" />\n",
              "                    Your browser does not support the audio element.\n",
              "                </audio>\n",
              "              "
            ],
            "text/plain": [
              "<IPython.lib.display.Audio object>"
            ]
          },
          "metadata": {},
          "execution_count": 29
        }
      ]
    },
    {
      "cell_type": "markdown",
      "metadata": {
        "id": "HSmcJDokY1hH"
      },
      "source": [
        "It can be heard, that the speakers change along with their speaking rate, accent, and background environment, etc. Overall, the recordings sound acceptably clear though, which is to be expected from a crowd-sourced read speech corpus.\n",
        "\n",
        "Let's do a final check that the data is correctly prepared, by printing the shape of the speech input, its transcription, and the corresponding sampling rate.\n",
        "\n",
        "**Note**: *You can click the following cell a couple of times to verify multiple samples.*"
      ]
    },
    {
      "cell_type": "code",
      "metadata": {
        "colab": {
          "base_uri": "https://localhost:8080/"
        },
        "id": "ycf5EJPHDNTC",
        "outputId": "1943100a-c822-48ec-b4b3-3a8b5e70edff"
      },
      "source": [
        "rand_int = random.randint(0, len(common_voice_train)-1)\n",
        "\n",
        "print(\"Target text:\", common_voice_train[rand_int][\"target_text\"])\n",
        "print(\"Input array shape:\", np.asarray(common_voice_train[rand_int][\"speech\"]).shape)\n",
        "print(\"Sampling rate:\", common_voice_train[rand_int][\"sampling_rate\"])"
      ],
      "execution_count": 30,
      "outputs": [
        {
          "output_type": "stream",
          "name": "stdout",
          "text": [
            "Target text: الافضل وبلا شك هو الأسطورة الكبير مارادونا \n",
            "Input array shape: (77142,)\n",
            "Sampling rate: 16000\n"
          ]
        }
      ]
    },
    {
      "cell_type": "markdown",
      "metadata": {
        "id": "c023Ht8VY5Hq"
      },
      "source": [
        "Good! Everything looks fine - the data is a 1-dimensional array, the sampling rate always corresponds to 16kHz, and the target text is normalized."
      ]
    },
    {
      "cell_type": "markdown",
      "metadata": {
        "id": "VuIz3fNyY7OK"
      },
      "source": [
        "Finally, we can process the dataset to the format expected by the model for training. We will again make use of the `map(...)` function.\n",
        "\n",
        "First, we check that the data samples have the same sampling rate of 16kHz.\n",
        "Second, we extract the `input_values` from the loaded audio file. In our case, this includes only normalization, but for other speech models, this step could correspond to extracting, *e.g.* [Log-Mel features](https://en.wikipedia.org/wiki/Mel-frequency_cepstrum). \n",
        "Third, we encode the transcriptions to label ids.\n",
        "\n",
        "**Note**: This mapping function is a good example of how the `Wav2Vec2Processor` class should be used. In \"normal\" context, calling `processor(...)` is redirected to `Wav2Vec2FeatureExtractor`'s call method. When wrapping the processor into the `as_target_processor` context, however, the same method is redirected to `Wav2Vec2CTCTokenizer`'s call method.\n",
        "For more information please check the [docs](https://huggingface.co/transformers/master/model_doc/wav2vec2.html#transformers.Wav2Vec2Processor.__call__).\n"
      ]
    },
    {
      "cell_type": "code",
      "metadata": {
        "id": "5hzSqo40DPCE"
      },
      "source": [
        "def prepare_dataset(batch):\n",
        "    # check that all files have the correct sampling rate\n",
        "    assert (\n",
        "        len(set(batch[\"sampling_rate\"])) == 1\n",
        "    ), f\"Make sure all inputs have the same sampling rate of {processor.feature_extractor.sampling_rate}.\"\n",
        "\n",
        "    batch[\"input_values\"] = processor(batch[\"speech\"], sampling_rate=batch[\"sampling_rate\"][0]).input_values\n",
        "    \n",
        "    with processor.as_target_processor():\n",
        "        batch[\"labels\"] = processor(batch[\"target_text\"]).input_ids\n",
        "    return batch"
      ],
      "execution_count": 31,
      "outputs": []
    },
    {
      "cell_type": "code",
      "metadata": {
        "id": "SmQx5YvWDR5i"
      },
      "source": [
        "common_voice_train = common_voice_train.map(prepare_dataset, remove_columns=common_voice_train.column_names, batch_size=8, num_proc=4, batched=True)\n",
        "common_voice_test = common_voice_test.map(prepare_dataset, remove_columns=common_voice_test.column_names, batch_size=8, num_proc=4, batched=True)"
      ],
      "execution_count": null,
      "outputs": []
    },
    {
      "cell_type": "markdown",
      "metadata": {
        "id": "b9rsYiztY_Up"
      },
      "source": [
        "## Training\n",
        "\n",
        "The data is processed so that we are ready to start setting up the training pipeline. We will make use of 🤗's [Trainer](https://huggingface.co/transformers/master/main_classes/trainer.html?highlight=trainer) for which we essentially need to do the following:\n",
        "\n",
        "- Define a data collator. In contrast to most NLP models, XLSR-Wav2Vec2 has a much larger input length than output length. *E.g.*, a sample of input length 50000 has an output length of no more than 100. Given the large input sizes, it is much more efficient to pad the training batches dynamically meaning that all training samples should only be padded to the longest sample in their batch and not the overall longest sample. Therefore, fine-tuning XLSR-Wav2Vec2 requires a special padding data collator, which we will define below\n",
        "\n",
        "- Evaluation metric. During training, the model should be evaluated on the word error rate. We should define a `compute_metrics` function accordingly\n",
        "\n",
        "- Load a pretrained checkpoint. We need to load a pretrained checkpoint and configure it correctly for training.\n",
        "\n",
        "- Define the training configuration.\n",
        "\n",
        "After having fine-tuned the model, we will correctly evaluate it on the test data and verify that it has indeed learned to correctly transcribe speech."
      ]
    },
    {
      "cell_type": "markdown",
      "metadata": {
        "id": "UhcgBbH_ZC1a"
      },
      "source": [
        "### Set-up Trainer\n",
        "\n",
        "Let's start by defining the data collator. The code for the data collator was copied from [this example](https://github.com/huggingface/transformers/blob/9a06b6b11bdfc42eea08fa91d0c737d1863c99e3/examples/research_projects/wav2vec2/run_asr.py#L81).\n",
        "\n",
        "Without going into too many details, in contrast to the common data collators, this data collator treats the `input_values` and `labels` differently and thus applies to separate padding functions on them (again making use of XLSR-Wav2Vec2's context manager). This is necessary because in speech input and output are of different modalities meaning that they should not be treated by the same padding function.\n",
        "Analogous to the common data collators, the padding tokens in the labels with `-100` so that those tokens are **not** taken into account when computing the loss."
      ]
    },
    {
      "cell_type": "code",
      "metadata": {
        "id": "4S8B7kOSDUJF"
      },
      "source": [
        "import torch\n",
        "\n",
        "from dataclasses import dataclass, field\n",
        "from typing import Any, Dict, List, Optional, Union\n",
        "\n",
        "@dataclass\n",
        "class DataCollatorCTCWithPadding:\n",
        "    \"\"\"\n",
        "    Data collator that will dynamically pad the inputs received.\n",
        "    Args:\n",
        "        processor (:class:`~transformers.Wav2Vec2Processor`)\n",
        "            The processor used for proccessing the data.\n",
        "        padding (:obj:`bool`, :obj:`str` or :class:`~transformers.tokenization_utils_base.PaddingStrategy`, `optional`, defaults to :obj:`True`):\n",
        "            Select a strategy to pad the returned sequences (according to the model's padding side and padding index)\n",
        "            among:\n",
        "            * :obj:`True` or :obj:`'longest'`: Pad to the longest sequence in the batch (or no padding if only a single\n",
        "              sequence if provided).\n",
        "            * :obj:`'max_length'`: Pad to a maximum length specified with the argument :obj:`max_length` or to the\n",
        "              maximum acceptable input length for the model if that argument is not provided.\n",
        "            * :obj:`False` or :obj:`'do_not_pad'` (default): No padding (i.e., can output a batch with sequences of\n",
        "              different lengths).\n",
        "        max_length (:obj:`int`, `optional`):\n",
        "            Maximum length of the ``input_values`` of the returned list and optionally padding length (see above).\n",
        "        max_length_labels (:obj:`int`, `optional`):\n",
        "            Maximum length of the ``labels`` returned list and optionally padding length (see above).\n",
        "        pad_to_multiple_of (:obj:`int`, `optional`):\n",
        "            If set will pad the sequence to a multiple of the provided value.\n",
        "            This is especially useful to enable the use of Tensor Cores on NVIDIA hardware with compute capability >=\n",
        "            7.5 (Volta).\n",
        "    \"\"\"\n",
        "\n",
        "    processor: Wav2Vec2Processor\n",
        "    padding: Union[bool, str] = True\n",
        "    max_length: Optional[int] = None\n",
        "    max_length_labels: Optional[int] = None\n",
        "    pad_to_multiple_of: Optional[int] = None\n",
        "    pad_to_multiple_of_labels: Optional[int] = None\n",
        "\n",
        "    def __call__(self, features: List[Dict[str, Union[List[int], torch.Tensor]]]) -> Dict[str, torch.Tensor]:\n",
        "        # split inputs and labels since they have to be of different lenghts and need\n",
        "        # different padding methods\n",
        "        input_features = [{\"input_values\": feature[\"input_values\"]} for feature in features]\n",
        "        label_features = [{\"input_ids\": feature[\"labels\"]} for feature in features]\n",
        "\n",
        "        batch = self.processor.pad(\n",
        "            input_features,\n",
        "            padding=self.padding,\n",
        "            max_length=self.max_length,\n",
        "            pad_to_multiple_of=self.pad_to_multiple_of,\n",
        "            return_tensors=\"pt\",\n",
        "        )\n",
        "        with self.processor.as_target_processor():\n",
        "            labels_batch = self.processor.pad(\n",
        "                label_features,\n",
        "                padding=self.padding,\n",
        "                max_length=self.max_length_labels,\n",
        "                pad_to_multiple_of=self.pad_to_multiple_of_labels,\n",
        "                return_tensors=\"pt\",\n",
        "            )\n",
        "\n",
        "        # replace padding with -100 to ignore loss correctly\n",
        "        labels = labels_batch[\"input_ids\"].masked_fill(labels_batch.attention_mask.ne(1), -100)\n",
        "\n",
        "        batch[\"labels\"] = labels\n",
        "\n",
        "        return batch"
      ],
      "execution_count": 33,
      "outputs": []
    },
    {
      "cell_type": "code",
      "metadata": {
        "id": "A0mg--wFDV17"
      },
      "source": [
        "data_collator = DataCollatorCTCWithPadding(processor=processor, padding=True)"
      ],
      "execution_count": 34,
      "outputs": []
    },
    {
      "cell_type": "markdown",
      "metadata": {
        "id": "Th7XxnMOZJ0j"
      },
      "source": [
        "Next, the evaluation metric is defined. As mentioned earlier, the \n",
        "predominant metric in ASR is the word error rate (WER), hence we will use it in this notebook as well."
      ]
    },
    {
      "cell_type": "code",
      "metadata": {
        "id": "1Uc3iVqsDXPh",
        "colab": {
          "base_uri": "https://localhost:8080/",
          "height": 66,
          "referenced_widgets": [
            "00abdde6d3f740f28d5e25f49d34032e",
            "44ac498ebef1450f8e92e585cc64d050",
            "746cb31828d5463abfc0224f6cfeb8c2",
            "da1af50ea6a44fb79a3b6a59931bb127",
            "a3e170a35bfe4f83b5640c4ac9f43e52",
            "8d24190526d14dbd835d0bd59bc9f54c",
            "fedf321b1cb04c55b9345e2352bd00f1",
            "60e67b842e334a5d8d616447502439f5"
          ]
        },
        "outputId": "42826c3e-0a15-4e8f-d298-d40622d98806"
      },
      "source": [
        "wer_metric = load_metric(\"wer\")"
      ],
      "execution_count": 35,
      "outputs": [
        {
          "output_type": "display_data",
          "data": {
            "application/vnd.jupyter.widget-view+json": {
              "model_id": "00abdde6d3f740f28d5e25f49d34032e",
              "version_minor": 0,
              "version_major": 2
            },
            "text/plain": [
              "HBox(children=(FloatProgress(value=0.0, description='Downloading', max=1764.0, style=ProgressStyle(description…"
            ]
          },
          "metadata": {}
        },
        {
          "output_type": "stream",
          "name": "stdout",
          "text": [
            "\n"
          ]
        }
      ]
    },
    {
      "cell_type": "markdown",
      "metadata": {
        "id": "lASlu62lZOx8"
      },
      "source": [
        "The model will return a sequence of logit vectors:\n",
        "$\\mathbf{y}_1, \\ldots, \\mathbf{y}_m$ with $\\mathbf{y}_1 = f_{\\theta}(x_1, \\ldots, x_n)[0]$ and $n >> m$.\n",
        "\n",
        "A logit vector $\\mathbf{y}_1$ contains the log-odds for each word in the vocabulary we defined earlier, thus $\\text{len}(\\mathbf{y}_i) =$ `config.vocab_size`. We are interested in the most likely prediction of the model and thus take the `argmax(...)` of the logits. Also, we transform the encoded labels back to the original string by replacing `-100` with the `pad_token_id` and decoding the ids while making sure that consecutive tokens are **not** grouped to the same token in CTC style ${}^1$."
      ]
    },
    {
      "cell_type": "code",
      "metadata": {
        "id": "X7olLh_1DYWU"
      },
      "source": [
        "def compute_metrics(pred):\n",
        "    pred_logits = pred.predictions\n",
        "    pred_ids = np.argmax(pred_logits, axis=-1)\n",
        "\n",
        "    pred.label_ids[pred.label_ids == -100] = processor.tokenizer.pad_token_id\n",
        "\n",
        "    pred_str = processor.batch_decode(pred_ids)\n",
        "    # we do not want to group tokens when computing the metrics\n",
        "    label_str = processor.batch_decode(pred.label_ids, group_tokens=False)\n",
        "\n",
        "    wer = wer_metric.compute(predictions=pred_str, references=label_str)\n",
        "\n",
        "    return {\"wer\": wer}"
      ],
      "execution_count": 36,
      "outputs": []
    },
    {
      "cell_type": "markdown",
      "metadata": {
        "id": "iM_5mlEmZTZS"
      },
      "source": [
        "Now, we can load the pretrained `XLSR-Wav2Vec2` checkpoint. The tokenizer's `pad_token_id` must be to define the model's `pad_token_id` or in the case of `Wav2Vec2ForCTC` also CTC's *blank token* ${}^2$. To save GPU memory, we enable PyTorch's [gradient checkpointing](https://pytorch.org/docs/stable/checkpoint.html) and also set the loss reduction to \"*mean*\".\n",
        "\n",
        "Fine-tuning Facebook's [wav2vec2-large-xlsr-53 checkpoint](https://huggingface.co/facebook/wav2vec2-large-xlsr-53) seems to require some hyper-parameter tuning. Therefore, I had to play around a bit with different values for dropout, [SpecAugment](https://arxiv.org/abs/1904.08779)'s masking dropout rate, layer dropout, and the learning rate until training seemed to be stable enough. \n",
        "\n",
        "**Note**: When using this notebook to train XLSR-Wav2Vec2 on another language either the one of Common Voice or a custom one, those hyper-parameter settings might not work very well. Feel free to adapt those depending on your use case. "
      ]
    },
    {
      "cell_type": "code",
      "metadata": {
        "id": "AhR44_ijDZv6"
      },
      "source": [
        "from transformers import Wav2Vec2ForCTC\n",
        "\n",
        "model = Wav2Vec2ForCTC.from_pretrained(\n",
        "    \"facebook/wav2vec2-large-xlsr-53\", \n",
        "    attention_dropout=0.1,\n",
        "    hidden_dropout=0.1,\n",
        "    feat_proj_dropout=0.0,\n",
        "    mask_time_prob=0.05,\n",
        "    layerdrop=0.1,\n",
        "    gradient_checkpointing=True, \n",
        "    ctc_loss_reduction=\"mean\", \n",
        "    pad_token_id=processor.tokenizer.pad_token_id,\n",
        "    vocab_size=len(processor.tokenizer)\n",
        ")"
      ],
      "execution_count": null,
      "outputs": []
    },
    {
      "cell_type": "markdown",
      "metadata": {
        "id": "9rj0kAB7ZwBf"
      },
      "source": [
        "The first component of XLSR-Wav2Vec2 consists of a stack of CNN layers that are used to extract acoustically meaningful - but contextually independent - features from the raw speech signal. This part of the model has already been sufficiently trained during pretraining and as stated in the [paper](https://arxiv.org/pdf/2006.13979.pdf) does not need to be fine-tuned anymore. \n",
        "Thus, we can set the `requires_grad` to `False` for all parameters of the *feature extraction* part."
      ]
    },
    {
      "cell_type": "code",
      "metadata": {
        "id": "iWic7STlDba6"
      },
      "source": [
        "model.freeze_feature_extractor()"
      ],
      "execution_count": 39,
      "outputs": []
    },
    {
      "cell_type": "markdown",
      "metadata": {
        "id": "7bLrwdfJZyuj"
      },
      "source": [
        "In a final step, we define all parameters related to training. \n",
        "To give more explanation on some of the parameters:\n",
        "- `group_by_length` makes training more efficient by grouping training samples of similar input length into one batch. This can significantly speed up training time by heavily reducing the overall number of useless padding tokens that are passed through the model\n",
        "- `learning_rate` and `weight_decay` were heuristically tuned until fine-tuning has become stable. Note that those parameters strongly depend on the Common Voice dataset and might be suboptimal for other speech datasets.\n",
        "\n",
        "For more explanations on other parameters, one can take a look at the [docs](https://huggingface.co/transformers/master/main_classes/trainer.html?highlight=trainer#trainingarguments).\n",
        "\n",
        "**Note**: If one wants to save the trained models in his/her google drive the commented-out `output_dir` can be used instead."
      ]
    },
    {
      "cell_type": "code",
      "metadata": {
        "id": "dLGiADFHDye9"
      },
      "source": [
        "from transformers import TrainingArguments\n",
        "\n",
        "training_args = TrainingArguments(\n",
        "  output_dir=\"/content/gdrive/MyDrive/wav2vec2-large-xlsr-darija-demo\",\n",
        "  # output_dir=\"./wav2vec2-large-xlsr-turkish-demo\",\n",
        "  #elgeish/\n",
        "  group_by_length=True,\n",
        "  per_device_train_batch_size=8,\n",
        "  #use first 16 as a value if doesnot work \n",
        "  # try per_device_train_batch_size=16,\n",
        "  # per_device_train_batch_size=16,\n",
        "  gradient_accumulation_steps=2,\n",
        "  evaluation_strategy=\"steps\",\n",
        "  num_train_epochs=30,\n",
        "  fp16=True,\n",
        "  # to frame the number of epochs\n",
        "  #use while training you can\n",
        "  #tweak these following parametres\n",
        "  #for my case I do have small set \n",
        "  #then I used 10 as epochs\n",
        "  #and every 10 samples I get a table\n",
        "  #giving informations as WER and for forth\n",
        "  #do check the table below in the part of trainer.trainer()\n",
        "  save_steps=15,\n",
        "  eval_steps=15,\n",
        "  logging_steps=15,\n",
        "  learning_rate=3e-4,\n",
        "  warmup_steps=15,\n",
        "  save_total_limit=2,\n",
        ")"
      ],
      "execution_count": 52,
      "outputs": []
    },
    {
      "cell_type": "markdown",
      "metadata": {
        "id": "zuw9r14aZ34o"
      },
      "source": [
        "Now, all instances can be passed to Trainer and we are ready to start training!"
      ]
    },
    {
      "cell_type": "code",
      "metadata": {
        "id": "dhDP7bt-D88q"
      },
      "source": [
        "from transformers import Trainer\n",
        "\n",
        "trainer = Trainer(\n",
        "    model=model,\n",
        "    data_collator=data_collator,\n",
        "    args=training_args,\n",
        "    compute_metrics=compute_metrics,\n",
        "    train_dataset=common_voice_train,\n",
        "    eval_dataset=common_voice_test,\n",
        "    tokenizer=processor.feature_extractor,\n",
        ")"
      ],
      "execution_count": 53,
      "outputs": []
    },
    {
      "cell_type": "markdown",
      "metadata": {
        "id": "IoWovFRkZ6V9"
      },
      "source": [
        "\n",
        "\n",
        "---\n",
        "\n",
        "${}^1$ To allow models to become independent of the speaker rate, in CTC, consecutive tokens that are identical are simply grouped as a single token. However, the encoded labels should not be grouped when decoding since they don't correspond to the predicted tokens of the model, which is why the `group_tokens=False` parameter has to be passed. If we wouldn't pass this parameter a word like `\"مامالوش\"` would incorrectly be encoded, and decoded as `\"مالوش\"`.\n",
        "\n",
        "${}^2$ The blank token allows the model to predict a word, such as `\"مامالوش\"` by forcing it to insert the blank token between the two l's. A CTC-conform prediction of `\"مامالوش\"` of our model would be ` [PAD] , [PAD] , 'م'     'ا'    ,  'ا'   ,  'ا'  , [PAD]   ,'م'   ,  'ا'  ,  'ا'     ,'ا'   ,  'ا'  ,[PAD] , 'ل'   ,    'و' ,   'و'   ,      'ش'   ,   'ش' , [PAD]`\n",
        "`."
      ]
    },
    {
      "cell_type": "markdown",
      "metadata": {
        "id": "SuLIZcXtFDZa"
      },
      "source": [
        "###Traning "
      ]
    },
    {
      "cell_type": "markdown",
      "metadata": {
        "id": "8kr6fjuQaJa2"
      },
      "source": [
        "Training will take between a litte bit more minutes depending on the GPU allocated to this notebook. While the trained model yields somewhat satisfying results on custom test data of Darija, it is by no means an optimally fine-tuned model. The purpose of this notebook is to demonstrate how XLSR-Wav2Vec2's [checkpoint](https://huggingface.co/facebook/wav2vec2-large-xlsr-53) can be fine-tuned on a low-resource ASR dataset.\n",
        "\n",
        "In case you want to use this google colab to fine-tune your model, you should make sure that your training doesn't stop due to inactivity. A simple hack to prevent this is to paste the following code into the console of this tab (*right mouse click -> inspect -> Console tab and insert code*)."
      ]
    },
    {
      "cell_type": "code",
      "metadata": {
        "colab": {
          "base_uri": "https://localhost:8080/",
          "height": 531
        },
        "id": "GDsgb1LxD_oC",
        "outputId": "7e3530e7-05a0-4427-ba1b-e1e7c42fa429"
      },
      "source": [
        "trainer.train()"
      ],
      "execution_count": null,
      "outputs": [
        {
          "output_type": "stream",
          "name": "stderr",
          "text": [
            "/usr/local/lib/python3.7/dist-packages/transformers/trainer.py:1083: FutureWarning: Non-finite norm encountered in torch.nn.utils.clip_grad_norm_; continuing anyway. Note that the default behavior will change in a future release to error out if a non-finite total norm is encountered. At that point, setting error_if_nonfinite=false will be required to retain the old behavior.\n",
            "  self.args.max_grad_norm,\n",
            "/usr/local/lib/python3.7/dist-packages/torch/optim/lr_scheduler.py:134: UserWarning: Detected call of `lr_scheduler.step()` before `optimizer.step()`. In PyTorch 1.1.0 and later, you should call them in the opposite order: `optimizer.step()` before `lr_scheduler.step()`.  Failure to do this will result in PyTorch skipping the first value of the learning rate schedule. See more details at https://pytorch.org/docs/stable/optim.html#how-to-adjust-learning-rate\n",
            "  \"https://pytorch.org/docs/stable/optim.html#how-to-adjust-learning-rate\", UserWarning)\n"
          ]
        },
        {
          "output_type": "display_data",
          "data": {
            "text/html": [
              "\n",
              "    <div>\n",
              "        <style>\n",
              "            /* Turns off some styling */\n",
              "            progress {\n",
              "                /* gets rid of default border in Firefox and Opera. */\n",
              "                border: none;\n",
              "                /* Needs to be in here for Safari polyfill so background images work as expected. */\n",
              "                background-size: auto;\n",
              "            }\n",
              "        </style>\n",
              "      \n",
              "      <progress value='181' max='180' style='width:300px; height:20px; vertical-align: middle;'></progress>\n",
              "      [180/180 1:04:07, Epoch 30/30]\n",
              "    </div>\n",
              "    <table border=\"1\" class=\"dataframe\">\n",
              "  <thead>\n",
              "    <tr style=\"text-align: left;\">\n",
              "      <th>Step</th>\n",
              "      <th>Training Loss</th>\n",
              "      <th>Validation Loss</th>\n",
              "      <th>Wer</th>\n",
              "      <th>Runtime</th>\n",
              "      <th>Samples Per Second</th>\n",
              "    </tr>\n",
              "  </thead>\n",
              "  <tbody>\n",
              "    <tr>\n",
              "      <td>15</td>\n",
              "      <td>5.955600</td>\n",
              "      <td>3.353338</td>\n",
              "      <td>1.000000</td>\n",
              "      <td>2.252400</td>\n",
              "      <td>4.440000</td>\n",
              "    </tr>\n",
              "    <tr>\n",
              "      <td>30</td>\n",
              "      <td>3.116800</td>\n",
              "      <td>3.037278</td>\n",
              "      <td>1.000000</td>\n",
              "      <td>2.247400</td>\n",
              "      <td>4.450000</td>\n",
              "    </tr>\n",
              "    <tr>\n",
              "      <td>45</td>\n",
              "      <td>3.070700</td>\n",
              "      <td>3.138500</td>\n",
              "      <td>1.000000</td>\n",
              "      <td>2.265800</td>\n",
              "      <td>4.413000</td>\n",
              "    </tr>\n",
              "    <tr>\n",
              "      <td>60</td>\n",
              "      <td>3.093300</td>\n",
              "      <td>3.014693</td>\n",
              "      <td>1.000000</td>\n",
              "      <td>2.226200</td>\n",
              "      <td>4.492000</td>\n",
              "    </tr>\n",
              "    <tr>\n",
              "      <td>75</td>\n",
              "      <td>2.951700</td>\n",
              "      <td>2.974440</td>\n",
              "      <td>1.000000</td>\n",
              "      <td>2.257000</td>\n",
              "      <td>4.431000</td>\n",
              "    </tr>\n",
              "    <tr>\n",
              "      <td>90</td>\n",
              "      <td>2.823300</td>\n",
              "      <td>2.749582</td>\n",
              "      <td>1.000000</td>\n",
              "      <td>2.246800</td>\n",
              "      <td>4.451000</td>\n",
              "    </tr>\n",
              "    <tr>\n",
              "      <td>105</td>\n",
              "      <td>2.310000</td>\n",
              "      <td>2.196213</td>\n",
              "      <td>1.000000</td>\n",
              "      <td>2.252500</td>\n",
              "      <td>4.439000</td>\n",
              "    </tr>\n",
              "    <tr>\n",
              "      <td>120</td>\n",
              "      <td>1.654700</td>\n",
              "      <td>1.528371</td>\n",
              "      <td>1.000000</td>\n",
              "      <td>2.240100</td>\n",
              "      <td>4.464000</td>\n",
              "    </tr>\n",
              "    <tr>\n",
              "      <td>135</td>\n",
              "      <td>1.191700</td>\n",
              "      <td>1.345808</td>\n",
              "      <td>0.875000</td>\n",
              "      <td>2.252000</td>\n",
              "      <td>4.441000</td>\n",
              "    </tr>\n",
              "    <tr>\n",
              "      <td>150</td>\n",
              "      <td>0.913600</td>\n",
              "      <td>1.173288</td>\n",
              "      <td>1.000000</td>\n",
              "      <td>2.250700</td>\n",
              "      <td>4.443000</td>\n",
              "    </tr>\n",
              "    <tr>\n",
              "      <td>165</td>\n",
              "      <td>0.713900</td>\n",
              "      <td>1.109640</td>\n",
              "      <td>1.000000</td>\n",
              "      <td>2.264200</td>\n",
              "      <td>4.417000</td>\n",
              "    </tr>\n",
              "    <tr>\n",
              "      <td>180</td>\n",
              "      <td>0.609000</td>\n",
              "      <td>1.153126</td>\n",
              "      <td>1.000000</td>\n",
              "      <td>2.260200</td>\n",
              "      <td>4.424000</td>\n",
              "    </tr>\n",
              "  </tbody>\n",
              "</table><p>"
            ],
            "text/plain": [
              "<IPython.core.display.HTML object>"
            ]
          },
          "metadata": {}
        }
      ]
    },
    {
      "cell_type": "markdown",
      "metadata": {
        "id": "nbLpf7rEaVj1"
      },
      "source": [
        "The training loss goes down and we can see that the WER stagns du to the less quantity of data, since I used it for a no more than 20 min but that is not a problem. Because this notebook is just for demonstration purposes. And to converge to better performance we only need to add more data using the application and then we will for sure perceive how WER will improve nicely.\n",
        "\n",
        "\n",
        "As a final check, let's load the model and verify that it indeed has learned to transcribe Darija speech.\n",
        "\n",
        "Let's first load the pretrained checkpoint."
      ]
    },
    {
      "cell_type": "code",
      "metadata": {
        "id": "I8xPVpbxEEGS"
      },
      "source": [
        "model = Wav2Vec2ForCTC.from_pretrained(\"anas/wav2vec2-large-xlsr-arabic\").to(\"cuda\")\n",
        "processor = Wav2Vec2Processor.from_pretrained(\"anas/wav2vec2-large-xlsr-arabic\")\n",
        "# model = Wav2Vec2ForCTC.from_pretrained(\"yassine/wav2vec2-large-xlsr-darija\").to(\"cuda\")\n",
        "# processor = Wav2Vec2Processor.from_pretrained(\"yassine/wav2vec2-large-xlsr-darija\")"
      ],
      "execution_count": null,
      "outputs": []
    },
    {
      "cell_type": "markdown",
      "metadata": {
        "id": "qD5cMyPOaZl0"
      },
      "source": [
        "For a first step, we will just take the first example of the train set, run it through the model and take the `argmax(...)` of the logits to retrieve the predicted token ids."
      ]
    },
    {
      "cell_type": "code",
      "metadata": {
        "id": "Tm4iyuvQEFx5"
      },
      "source": [
        "input_dict = processor(common_voice_test[1][\"input_values\"], return_tensors=\"pt\", padding=True)\n",
        "\n",
        "logits = model(input_dict.input_values.to(\"cuda\")).logits\n",
        "\n",
        "pred_ids = torch.argmax(logits, dim=-1)[0]"
      ],
      "execution_count": null,
      "outputs": []
    },
    {
      "cell_type": "code",
      "metadata": {
        "id": "ZGrkmEpJEKg6"
      },
      "source": [
        "common_voice_test_transcription = load_dataset('csv', data_files='/content/drive/MyDrive/dataset_transcripted/audios/test.csv')\n",
        "common_voice_test_transcription = common_voice_test_transcription['train']"
      ],
      "execution_count": null,
      "outputs": []
    },
    {
      "cell_type": "markdown",
      "metadata": {
        "id": "gJgf3lt1aed8"
      },
      "source": [
        "Finally, we can decode the example."
      ]
    },
    {
      "cell_type": "code",
      "metadata": {
        "id": "oaEBAvtPEK5J",
        "colab": {
          "base_uri": "https://localhost:8080/"
        },
        "outputId": "4fb12cce-f435-4550-b535-a4a680bbf3fe"
      },
      "source": [
        "print(\"Prediction:\")\n",
        "print(processor.decode(pred_ids))\n",
        "\n",
        "print(\"\\nReference:\")\n",
        "print(common_voice_test_transcription[1][\"text\"].lower())"
      ],
      "execution_count": 62,
      "outputs": [
        {
          "output_type": "stream",
          "name": "stdout",
          "text": [
            "Prediction:\n",
            "هل متلا و شلحتكي ناس\n",
            "\n",
            "Reference:\n",
            ".فحال مثلا واش الحوت كينعس\n"
          ]
        }
      ]
    },
    {
      "cell_type": "markdown",
      "metadata": {
        "id": "h-yfTnnbzXdm"
      },
      "source": [
        "In this sentece we perceive that the model recognize (**فحال**) as (**هل**) and the word **(مثلا)** was perfectly recognized, add to that the overlaps between words (**واش**) and (**الحوت**) as (**و شلحتكي**) using the first lettre of (**كينعس**) as it last word assembling all to give (**و شلحتكي**).\n",
        "\n",
        "These results are up, firstly, to how the locuter pronouced the sentece in the audio and also the fact that our model do not use the language model so it is expected to do the overlaps between words.\n",
        "\n"
      ]
    },
    {
      "cell_type": "markdown",
      "metadata": {
        "id": "gxphCugRahdJ"
      },
      "source": [
        "Alright! The transcription can definitely be recognized from our prediction, but it is far from being perfect. Training the model a bit longer, spending more time on the data preprocessing, and especially using a language model for decoding would certainly improve the model's overall performance. \n",
        "\n",
        "For a demonstration model on a low-resource language, the results are acceptable, however 🤗."
      ]
    }
  ]
}