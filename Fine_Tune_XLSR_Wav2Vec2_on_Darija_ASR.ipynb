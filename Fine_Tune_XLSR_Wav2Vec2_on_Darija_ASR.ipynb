{
  "nbformat": 4,
  "nbformat_minor": 0,
  "metadata": {
    "accelerator": "GPU",
    "colab": {
      "name": " Fine-Tune XLSR-Wav2Vec2 on Darija ASR ",
      "provenance": [],
      "collapsed_sections": [],
      "include_colab_link": true
    },
    "kernelspec": {
      "display_name": "Python 3",
      "name": "python3"
    },
    "language_info": {
      "name": "python"
    },
    "widgets": {
      "application/vnd.jupyter.widget-state+json": {
        "a1fb353e66df476aae048a05f20b445f": {
          "model_module": "@jupyter-widgets/controls",
          "model_name": "HBoxModel",
          "model_module_version": "1.5.0",
          "state": {
            "_view_name": "HBoxView",
            "_dom_classes": [],
            "_model_name": "HBoxModel",
            "_view_module": "@jupyter-widgets/controls",
            "_model_module_version": "1.5.0",
            "_view_count": null,
            "_view_module_version": "1.5.0",
            "box_style": "",
            "layout": "IPY_MODEL_2e196e2ee9f34818b54e79cb6c290c0b",
            "_model_module": "@jupyter-widgets/controls",
            "children": [
              "IPY_MODEL_979b1f7646e94d1184bc6dee0545c968",
              "IPY_MODEL_3e0821e88dcb469385e3281518f8920f"
            ]
          }
        },
        "2e196e2ee9f34818b54e79cb6c290c0b": {
          "model_module": "@jupyter-widgets/base",
          "model_name": "LayoutModel",
          "model_module_version": "1.2.0",
          "state": {
            "_view_name": "LayoutView",
            "grid_template_rows": null,
            "right": null,
            "justify_content": null,
            "_view_module": "@jupyter-widgets/base",
            "overflow": null,
            "_model_module_version": "1.2.0",
            "_view_count": null,
            "flex_flow": null,
            "width": null,
            "min_width": null,
            "border": null,
            "align_items": null,
            "bottom": null,
            "_model_module": "@jupyter-widgets/base",
            "top": null,
            "grid_column": null,
            "overflow_y": null,
            "overflow_x": null,
            "grid_auto_flow": null,
            "grid_area": null,
            "grid_template_columns": null,
            "flex": null,
            "_model_name": "LayoutModel",
            "justify_items": null,
            "grid_row": null,
            "max_height": null,
            "align_content": null,
            "visibility": null,
            "align_self": null,
            "height": null,
            "min_height": null,
            "padding": null,
            "grid_auto_rows": null,
            "grid_gap": null,
            "max_width": null,
            "order": null,
            "_view_module_version": "1.2.0",
            "grid_template_areas": null,
            "object_position": null,
            "object_fit": null,
            "grid_auto_columns": null,
            "margin": null,
            "display": null,
            "left": null
          }
        },
        "979b1f7646e94d1184bc6dee0545c968": {
          "model_module": "@jupyter-widgets/controls",
          "model_name": "FloatProgressModel",
          "model_module_version": "1.5.0",
          "state": {
            "_view_name": "ProgressView",
            "style": "IPY_MODEL_9da225a305a5412abee1034c5cef2182",
            "_dom_classes": [],
            "description": "",
            "_model_name": "FloatProgressModel",
            "bar_style": "info",
            "max": 1,
            "_view_module": "@jupyter-widgets/controls",
            "_model_module_version": "1.5.0",
            "value": 1,
            "_view_count": null,
            "_view_module_version": "1.5.0",
            "orientation": "horizontal",
            "min": 0,
            "description_tooltip": null,
            "_model_module": "@jupyter-widgets/controls",
            "layout": "IPY_MODEL_594855e4aa6e444880b8dd676c0383ac"
          }
        },
        "3e0821e88dcb469385e3281518f8920f": {
          "model_module": "@jupyter-widgets/controls",
          "model_name": "HTMLModel",
          "model_module_version": "1.5.0",
          "state": {
            "_view_name": "HTMLView",
            "style": "IPY_MODEL_7288eb580e3143dbb3b807a6b5a28d52",
            "_dom_classes": [],
            "description": "",
            "_model_name": "HTMLModel",
            "placeholder": "​",
            "_view_module": "@jupyter-widgets/controls",
            "_model_module_version": "1.5.0",
            "value": "1 tables [00:00,  8.45 tables/s]",
            "_view_count": null,
            "_view_module_version": "1.5.0",
            "description_tooltip": null,
            "_model_module": "@jupyter-widgets/controls",
            "layout": "IPY_MODEL_1cbd024314ee45bf8e3f3fdc41f89ea8"
          }
        },
        "9da225a305a5412abee1034c5cef2182": {
          "model_module": "@jupyter-widgets/controls",
          "model_name": "ProgressStyleModel",
          "model_module_version": "1.5.0",
          "state": {
            "_view_name": "StyleView",
            "_model_name": "ProgressStyleModel",
            "description_width": "initial",
            "_view_module": "@jupyter-widgets/base",
            "_model_module_version": "1.5.0",
            "_view_count": null,
            "_view_module_version": "1.2.0",
            "bar_color": null,
            "_model_module": "@jupyter-widgets/controls"
          }
        },
        "594855e4aa6e444880b8dd676c0383ac": {
          "model_module": "@jupyter-widgets/base",
          "model_name": "LayoutModel",
          "model_module_version": "1.2.0",
          "state": {
            "_view_name": "LayoutView",
            "grid_template_rows": null,
            "right": null,
            "justify_content": null,
            "_view_module": "@jupyter-widgets/base",
            "overflow": null,
            "_model_module_version": "1.2.0",
            "_view_count": null,
            "flex_flow": null,
            "width": "20px",
            "min_width": null,
            "border": null,
            "align_items": null,
            "bottom": null,
            "_model_module": "@jupyter-widgets/base",
            "top": null,
            "grid_column": null,
            "overflow_y": null,
            "overflow_x": null,
            "grid_auto_flow": null,
            "grid_area": null,
            "grid_template_columns": null,
            "flex": null,
            "_model_name": "LayoutModel",
            "justify_items": null,
            "grid_row": null,
            "max_height": null,
            "align_content": null,
            "visibility": null,
            "align_self": null,
            "height": null,
            "min_height": null,
            "padding": null,
            "grid_auto_rows": null,
            "grid_gap": null,
            "max_width": null,
            "order": null,
            "_view_module_version": "1.2.0",
            "grid_template_areas": null,
            "object_position": null,
            "object_fit": null,
            "grid_auto_columns": null,
            "margin": null,
            "display": null,
            "left": null
          }
        },
        "7288eb580e3143dbb3b807a6b5a28d52": {
          "model_module": "@jupyter-widgets/controls",
          "model_name": "DescriptionStyleModel",
          "model_module_version": "1.5.0",
          "state": {
            "_view_name": "StyleView",
            "_model_name": "DescriptionStyleModel",
            "description_width": "",
            "_view_module": "@jupyter-widgets/base",
            "_model_module_version": "1.5.0",
            "_view_count": null,
            "_view_module_version": "1.2.0",
            "_model_module": "@jupyter-widgets/controls"
          }
        },
        "1cbd024314ee45bf8e3f3fdc41f89ea8": {
          "model_module": "@jupyter-widgets/base",
          "model_name": "LayoutModel",
          "model_module_version": "1.2.0",
          "state": {
            "_view_name": "LayoutView",
            "grid_template_rows": null,
            "right": null,
            "justify_content": null,
            "_view_module": "@jupyter-widgets/base",
            "overflow": null,
            "_model_module_version": "1.2.0",
            "_view_count": null,
            "flex_flow": null,
            "width": null,
            "min_width": null,
            "border": null,
            "align_items": null,
            "bottom": null,
            "_model_module": "@jupyter-widgets/base",
            "top": null,
            "grid_column": null,
            "overflow_y": null,
            "overflow_x": null,
            "grid_auto_flow": null,
            "grid_area": null,
            "grid_template_columns": null,
            "flex": null,
            "_model_name": "LayoutModel",
            "justify_items": null,
            "grid_row": null,
            "max_height": null,
            "align_content": null,
            "visibility": null,
            "align_self": null,
            "height": null,
            "min_height": null,
            "padding": null,
            "grid_auto_rows": null,
            "grid_gap": null,
            "max_width": null,
            "order": null,
            "_view_module_version": "1.2.0",
            "grid_template_areas": null,
            "object_position": null,
            "object_fit": null,
            "grid_auto_columns": null,
            "margin": null,
            "display": null,
            "left": null
          }
        },
        "91562ccd570e418db69bde3b5dc3d730": {
          "model_module": "@jupyter-widgets/controls",
          "model_name": "HBoxModel",
          "model_module_version": "1.5.0",
          "state": {
            "_view_name": "HBoxView",
            "_dom_classes": [],
            "_model_name": "HBoxModel",
            "_view_module": "@jupyter-widgets/controls",
            "_model_module_version": "1.5.0",
            "_view_count": null,
            "_view_module_version": "1.5.0",
            "box_style": "",
            "layout": "IPY_MODEL_79efcc927f6c4cf99f9c744c892089a6",
            "_model_module": "@jupyter-widgets/controls",
            "children": [
              "IPY_MODEL_6d76b5cd74954fe7bb7fce53152f136e",
              "IPY_MODEL_ea302deb693f420d9ca869b8fffe1226"
            ]
          }
        },
        "79efcc927f6c4cf99f9c744c892089a6": {
          "model_module": "@jupyter-widgets/base",
          "model_name": "LayoutModel",
          "model_module_version": "1.2.0",
          "state": {
            "_view_name": "LayoutView",
            "grid_template_rows": null,
            "right": null,
            "justify_content": null,
            "_view_module": "@jupyter-widgets/base",
            "overflow": null,
            "_model_module_version": "1.2.0",
            "_view_count": null,
            "flex_flow": null,
            "width": null,
            "min_width": null,
            "border": null,
            "align_items": null,
            "bottom": null,
            "_model_module": "@jupyter-widgets/base",
            "top": null,
            "grid_column": null,
            "overflow_y": null,
            "overflow_x": null,
            "grid_auto_flow": null,
            "grid_area": null,
            "grid_template_columns": null,
            "flex": null,
            "_model_name": "LayoutModel",
            "justify_items": null,
            "grid_row": null,
            "max_height": null,
            "align_content": null,
            "visibility": null,
            "align_self": null,
            "height": null,
            "min_height": null,
            "padding": null,
            "grid_auto_rows": null,
            "grid_gap": null,
            "max_width": null,
            "order": null,
            "_view_module_version": "1.2.0",
            "grid_template_areas": null,
            "object_position": null,
            "object_fit": null,
            "grid_auto_columns": null,
            "margin": null,
            "display": null,
            "left": null
          }
        },
        "6d76b5cd74954fe7bb7fce53152f136e": {
          "model_module": "@jupyter-widgets/controls",
          "model_name": "FloatProgressModel",
          "model_module_version": "1.5.0",
          "state": {
            "_view_name": "ProgressView",
            "style": "IPY_MODEL_2d93365c9f9b47b6ade4c12e17c531e1",
            "_dom_classes": [],
            "description": "",
            "_model_name": "FloatProgressModel",
            "bar_style": "info",
            "max": 1,
            "_view_module": "@jupyter-widgets/controls",
            "_model_module_version": "1.5.0",
            "value": 1,
            "_view_count": null,
            "_view_module_version": "1.5.0",
            "orientation": "horizontal",
            "min": 0,
            "description_tooltip": null,
            "_model_module": "@jupyter-widgets/controls",
            "layout": "IPY_MODEL_7a6492b687324890a9c1c82ddad17976"
          }
        },
        "ea302deb693f420d9ca869b8fffe1226": {
          "model_module": "@jupyter-widgets/controls",
          "model_name": "HTMLModel",
          "model_module_version": "1.5.0",
          "state": {
            "_view_name": "HTMLView",
            "style": "IPY_MODEL_b42cf7e4dcc54a5796fc3fe8706f1b2c",
            "_dom_classes": [],
            "description": "",
            "_model_name": "HTMLModel",
            "placeholder": "​",
            "_view_module": "@jupyter-widgets/controls",
            "_model_module_version": "1.5.0",
            "value": "1 tables [00:00, 19.17 tables/s]",
            "_view_count": null,
            "_view_module_version": "1.5.0",
            "description_tooltip": null,
            "_model_module": "@jupyter-widgets/controls",
            "layout": "IPY_MODEL_b1bf50e4776c4071b911c61a4ff58be8"
          }
        },
        "2d93365c9f9b47b6ade4c12e17c531e1": {
          "model_module": "@jupyter-widgets/controls",
          "model_name": "ProgressStyleModel",
          "model_module_version": "1.5.0",
          "state": {
            "_view_name": "StyleView",
            "_model_name": "ProgressStyleModel",
            "description_width": "initial",
            "_view_module": "@jupyter-widgets/base",
            "_model_module_version": "1.5.0",
            "_view_count": null,
            "_view_module_version": "1.2.0",
            "bar_color": null,
            "_model_module": "@jupyter-widgets/controls"
          }
        },
        "7a6492b687324890a9c1c82ddad17976": {
          "model_module": "@jupyter-widgets/base",
          "model_name": "LayoutModel",
          "model_module_version": "1.2.0",
          "state": {
            "_view_name": "LayoutView",
            "grid_template_rows": null,
            "right": null,
            "justify_content": null,
            "_view_module": "@jupyter-widgets/base",
            "overflow": null,
            "_model_module_version": "1.2.0",
            "_view_count": null,
            "flex_flow": null,
            "width": "20px",
            "min_width": null,
            "border": null,
            "align_items": null,
            "bottom": null,
            "_model_module": "@jupyter-widgets/base",
            "top": null,
            "grid_column": null,
            "overflow_y": null,
            "overflow_x": null,
            "grid_auto_flow": null,
            "grid_area": null,
            "grid_template_columns": null,
            "flex": null,
            "_model_name": "LayoutModel",
            "justify_items": null,
            "grid_row": null,
            "max_height": null,
            "align_content": null,
            "visibility": null,
            "align_self": null,
            "height": null,
            "min_height": null,
            "padding": null,
            "grid_auto_rows": null,
            "grid_gap": null,
            "max_width": null,
            "order": null,
            "_view_module_version": "1.2.0",
            "grid_template_areas": null,
            "object_position": null,
            "object_fit": null,
            "grid_auto_columns": null,
            "margin": null,
            "display": null,
            "left": null
          }
        },
        "b42cf7e4dcc54a5796fc3fe8706f1b2c": {
          "model_module": "@jupyter-widgets/controls",
          "model_name": "DescriptionStyleModel",
          "model_module_version": "1.5.0",
          "state": {
            "_view_name": "StyleView",
            "_model_name": "DescriptionStyleModel",
            "description_width": "",
            "_view_module": "@jupyter-widgets/base",
            "_model_module_version": "1.5.0",
            "_view_count": null,
            "_view_module_version": "1.2.0",
            "_model_module": "@jupyter-widgets/controls"
          }
        },
        "b1bf50e4776c4071b911c61a4ff58be8": {
          "model_module": "@jupyter-widgets/base",
          "model_name": "LayoutModel",
          "model_module_version": "1.2.0",
          "state": {
            "_view_name": "LayoutView",
            "grid_template_rows": null,
            "right": null,
            "justify_content": null,
            "_view_module": "@jupyter-widgets/base",
            "overflow": null,
            "_model_module_version": "1.2.0",
            "_view_count": null,
            "flex_flow": null,
            "width": null,
            "min_width": null,
            "border": null,
            "align_items": null,
            "bottom": null,
            "_model_module": "@jupyter-widgets/base",
            "top": null,
            "grid_column": null,
            "overflow_y": null,
            "overflow_x": null,
            "grid_auto_flow": null,
            "grid_area": null,
            "grid_template_columns": null,
            "flex": null,
            "_model_name": "LayoutModel",
            "justify_items": null,
            "grid_row": null,
            "max_height": null,
            "align_content": null,
            "visibility": null,
            "align_self": null,
            "height": null,
            "min_height": null,
            "padding": null,
            "grid_auto_rows": null,
            "grid_gap": null,
            "max_width": null,
            "order": null,
            "_view_module_version": "1.2.0",
            "grid_template_areas": null,
            "object_position": null,
            "object_fit": null,
            "grid_auto_columns": null,
            "margin": null,
            "display": null,
            "left": null
          }
        },
        "bbe35b767712408b89f37ed03d5f389f": {
          "model_module": "@jupyter-widgets/controls",
          "model_name": "HBoxModel",
          "model_module_version": "1.5.0",
          "state": {
            "_view_name": "HBoxView",
            "_dom_classes": [],
            "_model_name": "HBoxModel",
            "_view_module": "@jupyter-widgets/controls",
            "_model_module_version": "1.5.0",
            "_view_count": null,
            "_view_module_version": "1.5.0",
            "box_style": "",
            "layout": "IPY_MODEL_2a092f4040f842409ad13dffa119df7b",
            "_model_module": "@jupyter-widgets/controls",
            "children": [
              "IPY_MODEL_466508bc5bdd490e87fe9fd5b2580af6",
              "IPY_MODEL_f9e328a42512483591696e698595912f"
            ]
          }
        },
        "2a092f4040f842409ad13dffa119df7b": {
          "model_module": "@jupyter-widgets/base",
          "model_name": "LayoutModel",
          "model_module_version": "1.2.0",
          "state": {
            "_view_name": "LayoutView",
            "grid_template_rows": null,
            "right": null,
            "justify_content": null,
            "_view_module": "@jupyter-widgets/base",
            "overflow": null,
            "_model_module_version": "1.2.0",
            "_view_count": null,
            "flex_flow": null,
            "width": null,
            "min_width": null,
            "border": null,
            "align_items": null,
            "bottom": null,
            "_model_module": "@jupyter-widgets/base",
            "top": null,
            "grid_column": null,
            "overflow_y": null,
            "overflow_x": null,
            "grid_auto_flow": null,
            "grid_area": null,
            "grid_template_columns": null,
            "flex": null,
            "_model_name": "LayoutModel",
            "justify_items": null,
            "grid_row": null,
            "max_height": null,
            "align_content": null,
            "visibility": null,
            "align_self": null,
            "height": null,
            "min_height": null,
            "padding": null,
            "grid_auto_rows": null,
            "grid_gap": null,
            "max_width": null,
            "order": null,
            "_view_module_version": "1.2.0",
            "grid_template_areas": null,
            "object_position": null,
            "object_fit": null,
            "grid_auto_columns": null,
            "margin": null,
            "display": null,
            "left": null
          }
        },
        "466508bc5bdd490e87fe9fd5b2580af6": {
          "model_module": "@jupyter-widgets/controls",
          "model_name": "FloatProgressModel",
          "model_module_version": "1.5.0",
          "state": {
            "_view_name": "ProgressView",
            "style": "IPY_MODEL_07b95499e35349eebad0db513747a2e6",
            "_dom_classes": [],
            "description": "100%",
            "_model_name": "FloatProgressModel",
            "bar_style": "success",
            "max": 148,
            "_view_module": "@jupyter-widgets/controls",
            "_model_module_version": "1.5.0",
            "value": 148,
            "_view_count": null,
            "_view_module_version": "1.5.0",
            "orientation": "horizontal",
            "min": 0,
            "description_tooltip": null,
            "_model_module": "@jupyter-widgets/controls",
            "layout": "IPY_MODEL_330857a4a86f49859896ca757a23450c"
          }
        },
        "f9e328a42512483591696e698595912f": {
          "model_module": "@jupyter-widgets/controls",
          "model_name": "HTMLModel",
          "model_module_version": "1.5.0",
          "state": {
            "_view_name": "HTMLView",
            "style": "IPY_MODEL_67ec6f73ebe2496aa093cc7be105947d",
            "_dom_classes": [],
            "description": "",
            "_model_name": "HTMLModel",
            "placeholder": "​",
            "_view_module": "@jupyter-widgets/controls",
            "_model_module_version": "1.5.0",
            "value": " 148/148 [01:23&lt;00:00,  1.77ex/s]",
            "_view_count": null,
            "_view_module_version": "1.5.0",
            "description_tooltip": null,
            "_model_module": "@jupyter-widgets/controls",
            "layout": "IPY_MODEL_a2a1996e86f747028b98497b6b68b109"
          }
        },
        "07b95499e35349eebad0db513747a2e6": {
          "model_module": "@jupyter-widgets/controls",
          "model_name": "ProgressStyleModel",
          "model_module_version": "1.5.0",
          "state": {
            "_view_name": "StyleView",
            "_model_name": "ProgressStyleModel",
            "description_width": "initial",
            "_view_module": "@jupyter-widgets/base",
            "_model_module_version": "1.5.0",
            "_view_count": null,
            "_view_module_version": "1.2.0",
            "bar_color": null,
            "_model_module": "@jupyter-widgets/controls"
          }
        },
        "330857a4a86f49859896ca757a23450c": {
          "model_module": "@jupyter-widgets/base",
          "model_name": "LayoutModel",
          "model_module_version": "1.2.0",
          "state": {
            "_view_name": "LayoutView",
            "grid_template_rows": null,
            "right": null,
            "justify_content": null,
            "_view_module": "@jupyter-widgets/base",
            "overflow": null,
            "_model_module_version": "1.2.0",
            "_view_count": null,
            "flex_flow": null,
            "width": null,
            "min_width": null,
            "border": null,
            "align_items": null,
            "bottom": null,
            "_model_module": "@jupyter-widgets/base",
            "top": null,
            "grid_column": null,
            "overflow_y": null,
            "overflow_x": null,
            "grid_auto_flow": null,
            "grid_area": null,
            "grid_template_columns": null,
            "flex": null,
            "_model_name": "LayoutModel",
            "justify_items": null,
            "grid_row": null,
            "max_height": null,
            "align_content": null,
            "visibility": null,
            "align_self": null,
            "height": null,
            "min_height": null,
            "padding": null,
            "grid_auto_rows": null,
            "grid_gap": null,
            "max_width": null,
            "order": null,
            "_view_module_version": "1.2.0",
            "grid_template_areas": null,
            "object_position": null,
            "object_fit": null,
            "grid_auto_columns": null,
            "margin": null,
            "display": null,
            "left": null
          }
        },
        "67ec6f73ebe2496aa093cc7be105947d": {
          "model_module": "@jupyter-widgets/controls",
          "model_name": "DescriptionStyleModel",
          "model_module_version": "1.5.0",
          "state": {
            "_view_name": "StyleView",
            "_model_name": "DescriptionStyleModel",
            "description_width": "",
            "_view_module": "@jupyter-widgets/base",
            "_model_module_version": "1.5.0",
            "_view_count": null,
            "_view_module_version": "1.2.0",
            "_model_module": "@jupyter-widgets/controls"
          }
        },
        "a2a1996e86f747028b98497b6b68b109": {
          "model_module": "@jupyter-widgets/base",
          "model_name": "LayoutModel",
          "model_module_version": "1.2.0",
          "state": {
            "_view_name": "LayoutView",
            "grid_template_rows": null,
            "right": null,
            "justify_content": null,
            "_view_module": "@jupyter-widgets/base",
            "overflow": null,
            "_model_module_version": "1.2.0",
            "_view_count": null,
            "flex_flow": null,
            "width": null,
            "min_width": null,
            "border": null,
            "align_items": null,
            "bottom": null,
            "_model_module": "@jupyter-widgets/base",
            "top": null,
            "grid_column": null,
            "overflow_y": null,
            "overflow_x": null,
            "grid_auto_flow": null,
            "grid_area": null,
            "grid_template_columns": null,
            "flex": null,
            "_model_name": "LayoutModel",
            "justify_items": null,
            "grid_row": null,
            "max_height": null,
            "align_content": null,
            "visibility": null,
            "align_self": null,
            "height": null,
            "min_height": null,
            "padding": null,
            "grid_auto_rows": null,
            "grid_gap": null,
            "max_width": null,
            "order": null,
            "_view_module_version": "1.2.0",
            "grid_template_areas": null,
            "object_position": null,
            "object_fit": null,
            "grid_auto_columns": null,
            "margin": null,
            "display": null,
            "left": null
          }
        },
        "b80c15f7dac644529266cc76d9032586": {
          "model_module": "@jupyter-widgets/controls",
          "model_name": "HBoxModel",
          "model_module_version": "1.5.0",
          "state": {
            "_view_name": "HBoxView",
            "_dom_classes": [],
            "_model_name": "HBoxModel",
            "_view_module": "@jupyter-widgets/controls",
            "_model_module_version": "1.5.0",
            "_view_count": null,
            "_view_module_version": "1.5.0",
            "box_style": "",
            "layout": "IPY_MODEL_7020e72571754d5fa7f5cfe82b2fdd56",
            "_model_module": "@jupyter-widgets/controls",
            "children": [
              "IPY_MODEL_32fe1df7cc074d7daeefd2ffdd572a61",
              "IPY_MODEL_f77aae27132343c4830a538b3e3379cf"
            ]
          }
        },
        "7020e72571754d5fa7f5cfe82b2fdd56": {
          "model_module": "@jupyter-widgets/base",
          "model_name": "LayoutModel",
          "model_module_version": "1.2.0",
          "state": {
            "_view_name": "LayoutView",
            "grid_template_rows": null,
            "right": null,
            "justify_content": null,
            "_view_module": "@jupyter-widgets/base",
            "overflow": null,
            "_model_module_version": "1.2.0",
            "_view_count": null,
            "flex_flow": null,
            "width": null,
            "min_width": null,
            "border": null,
            "align_items": null,
            "bottom": null,
            "_model_module": "@jupyter-widgets/base",
            "top": null,
            "grid_column": null,
            "overflow_y": null,
            "overflow_x": null,
            "grid_auto_flow": null,
            "grid_area": null,
            "grid_template_columns": null,
            "flex": null,
            "_model_name": "LayoutModel",
            "justify_items": null,
            "grid_row": null,
            "max_height": null,
            "align_content": null,
            "visibility": null,
            "align_self": null,
            "height": null,
            "min_height": null,
            "padding": null,
            "grid_auto_rows": null,
            "grid_gap": null,
            "max_width": null,
            "order": null,
            "_view_module_version": "1.2.0",
            "grid_template_areas": null,
            "object_position": null,
            "object_fit": null,
            "grid_auto_columns": null,
            "margin": null,
            "display": null,
            "left": null
          }
        },
        "32fe1df7cc074d7daeefd2ffdd572a61": {
          "model_module": "@jupyter-widgets/controls",
          "model_name": "FloatProgressModel",
          "model_module_version": "1.5.0",
          "state": {
            "_view_name": "ProgressView",
            "style": "IPY_MODEL_2d791a3274134660a4c04d6251c85ecf",
            "_dom_classes": [],
            "description": "100%",
            "_model_name": "FloatProgressModel",
            "bar_style": "success",
            "max": 10,
            "_view_module": "@jupyter-widgets/controls",
            "_model_module_version": "1.5.0",
            "value": 10,
            "_view_count": null,
            "_view_module_version": "1.5.0",
            "orientation": "horizontal",
            "min": 0,
            "description_tooltip": null,
            "_model_module": "@jupyter-widgets/controls",
            "layout": "IPY_MODEL_2610e8f52fc9405daee01d9c9a0c2da9"
          }
        },
        "f77aae27132343c4830a538b3e3379cf": {
          "model_module": "@jupyter-widgets/controls",
          "model_name": "HTMLModel",
          "model_module_version": "1.5.0",
          "state": {
            "_view_name": "HTMLView",
            "style": "IPY_MODEL_d23f5c981ee440fc83c78e399799ae1b",
            "_dom_classes": [],
            "description": "",
            "_model_name": "HTMLModel",
            "placeholder": "​",
            "_view_module": "@jupyter-widgets/controls",
            "_model_module_version": "1.5.0",
            "value": " 10/10 [00:00&lt;00:00, 24.00ex/s]",
            "_view_count": null,
            "_view_module_version": "1.5.0",
            "description_tooltip": null,
            "_model_module": "@jupyter-widgets/controls",
            "layout": "IPY_MODEL_0330f3d5e17b43b1add432ba5ff460d1"
          }
        },
        "2d791a3274134660a4c04d6251c85ecf": {
          "model_module": "@jupyter-widgets/controls",
          "model_name": "ProgressStyleModel",
          "model_module_version": "1.5.0",
          "state": {
            "_view_name": "StyleView",
            "_model_name": "ProgressStyleModel",
            "description_width": "initial",
            "_view_module": "@jupyter-widgets/base",
            "_model_module_version": "1.5.0",
            "_view_count": null,
            "_view_module_version": "1.2.0",
            "bar_color": null,
            "_model_module": "@jupyter-widgets/controls"
          }
        },
        "2610e8f52fc9405daee01d9c9a0c2da9": {
          "model_module": "@jupyter-widgets/base",
          "model_name": "LayoutModel",
          "model_module_version": "1.2.0",
          "state": {
            "_view_name": "LayoutView",
            "grid_template_rows": null,
            "right": null,
            "justify_content": null,
            "_view_module": "@jupyter-widgets/base",
            "overflow": null,
            "_model_module_version": "1.2.0",
            "_view_count": null,
            "flex_flow": null,
            "width": null,
            "min_width": null,
            "border": null,
            "align_items": null,
            "bottom": null,
            "_model_module": "@jupyter-widgets/base",
            "top": null,
            "grid_column": null,
            "overflow_y": null,
            "overflow_x": null,
            "grid_auto_flow": null,
            "grid_area": null,
            "grid_template_columns": null,
            "flex": null,
            "_model_name": "LayoutModel",
            "justify_items": null,
            "grid_row": null,
            "max_height": null,
            "align_content": null,
            "visibility": null,
            "align_self": null,
            "height": null,
            "min_height": null,
            "padding": null,
            "grid_auto_rows": null,
            "grid_gap": null,
            "max_width": null,
            "order": null,
            "_view_module_version": "1.2.0",
            "grid_template_areas": null,
            "object_position": null,
            "object_fit": null,
            "grid_auto_columns": null,
            "margin": null,
            "display": null,
            "left": null
          }
        },
        "d23f5c981ee440fc83c78e399799ae1b": {
          "model_module": "@jupyter-widgets/controls",
          "model_name": "DescriptionStyleModel",
          "model_module_version": "1.5.0",
          "state": {
            "_view_name": "StyleView",
            "_model_name": "DescriptionStyleModel",
            "description_width": "",
            "_view_module": "@jupyter-widgets/base",
            "_model_module_version": "1.5.0",
            "_view_count": null,
            "_view_module_version": "1.2.0",
            "_model_module": "@jupyter-widgets/controls"
          }
        },
        "0330f3d5e17b43b1add432ba5ff460d1": {
          "model_module": "@jupyter-widgets/base",
          "model_name": "LayoutModel",
          "model_module_version": "1.2.0",
          "state": {
            "_view_name": "LayoutView",
            "grid_template_rows": null,
            "right": null,
            "justify_content": null,
            "_view_module": "@jupyter-widgets/base",
            "overflow": null,
            "_model_module_version": "1.2.0",
            "_view_count": null,
            "flex_flow": null,
            "width": null,
            "min_width": null,
            "border": null,
            "align_items": null,
            "bottom": null,
            "_model_module": "@jupyter-widgets/base",
            "top": null,
            "grid_column": null,
            "overflow_y": null,
            "overflow_x": null,
            "grid_auto_flow": null,
            "grid_area": null,
            "grid_template_columns": null,
            "flex": null,
            "_model_name": "LayoutModel",
            "justify_items": null,
            "grid_row": null,
            "max_height": null,
            "align_content": null,
            "visibility": null,
            "align_self": null,
            "height": null,
            "min_height": null,
            "padding": null,
            "grid_auto_rows": null,
            "grid_gap": null,
            "max_width": null,
            "order": null,
            "_view_module_version": "1.2.0",
            "grid_template_areas": null,
            "object_position": null,
            "object_fit": null,
            "grid_auto_columns": null,
            "margin": null,
            "display": null,
            "left": null
          }
        },
        "12f9bb6cbfe54892a90be56904a8e74e": {
          "model_module": "@jupyter-widgets/controls",
          "model_name": "HBoxModel",
          "model_module_version": "1.5.0",
          "state": {
            "_view_name": "HBoxView",
            "_dom_classes": [],
            "_model_name": "HBoxModel",
            "_view_module": "@jupyter-widgets/controls",
            "_model_module_version": "1.5.0",
            "_view_count": null,
            "_view_module_version": "1.5.0",
            "box_style": "",
            "layout": "IPY_MODEL_7fa243acc3ea4d259b3e2b6cdab0fbbd",
            "_model_module": "@jupyter-widgets/controls",
            "children": [
              "IPY_MODEL_b9636e7e075147d6a149bbdb8eb4d466",
              "IPY_MODEL_238bae67ce144132888f921a99bec856"
            ]
          }
        },
        "7fa243acc3ea4d259b3e2b6cdab0fbbd": {
          "model_module": "@jupyter-widgets/base",
          "model_name": "LayoutModel",
          "model_module_version": "1.2.0",
          "state": {
            "_view_name": "LayoutView",
            "grid_template_rows": null,
            "right": null,
            "justify_content": null,
            "_view_module": "@jupyter-widgets/base",
            "overflow": null,
            "_model_module_version": "1.2.0",
            "_view_count": null,
            "flex_flow": null,
            "width": null,
            "min_width": null,
            "border": null,
            "align_items": null,
            "bottom": null,
            "_model_module": "@jupyter-widgets/base",
            "top": null,
            "grid_column": null,
            "overflow_y": null,
            "overflow_x": null,
            "grid_auto_flow": null,
            "grid_area": null,
            "grid_template_columns": null,
            "flex": null,
            "_model_name": "LayoutModel",
            "justify_items": null,
            "grid_row": null,
            "max_height": null,
            "align_content": null,
            "visibility": null,
            "align_self": null,
            "height": null,
            "min_height": null,
            "padding": null,
            "grid_auto_rows": null,
            "grid_gap": null,
            "max_width": null,
            "order": null,
            "_view_module_version": "1.2.0",
            "grid_template_areas": null,
            "object_position": null,
            "object_fit": null,
            "grid_auto_columns": null,
            "margin": null,
            "display": null,
            "left": null
          }
        },
        "b9636e7e075147d6a149bbdb8eb4d466": {
          "model_module": "@jupyter-widgets/controls",
          "model_name": "FloatProgressModel",
          "model_module_version": "1.5.0",
          "state": {
            "_view_name": "ProgressView",
            "style": "IPY_MODEL_f16bd7c65f164bdbb155cf50f2894401",
            "_dom_classes": [],
            "description": "100%",
            "_model_name": "FloatProgressModel",
            "bar_style": "success",
            "max": 1,
            "_view_module": "@jupyter-widgets/controls",
            "_model_module_version": "1.5.0",
            "value": 1,
            "_view_count": null,
            "_view_module_version": "1.5.0",
            "orientation": "horizontal",
            "min": 0,
            "description_tooltip": null,
            "_model_module": "@jupyter-widgets/controls",
            "layout": "IPY_MODEL_988ea8b99f4f416695700f16cd59b0f0"
          }
        },
        "238bae67ce144132888f921a99bec856": {
          "model_module": "@jupyter-widgets/controls",
          "model_name": "HTMLModel",
          "model_module_version": "1.5.0",
          "state": {
            "_view_name": "HTMLView",
            "style": "IPY_MODEL_c9adce49160f48ec9ea2bc277d4f2401",
            "_dom_classes": [],
            "description": "",
            "_model_name": "HTMLModel",
            "placeholder": "​",
            "_view_module": "@jupyter-widgets/controls",
            "_model_module_version": "1.5.0",
            "value": " 1/1 [00:00&lt;00:00,  8.00ba/s]",
            "_view_count": null,
            "_view_module_version": "1.5.0",
            "description_tooltip": null,
            "_model_module": "@jupyter-widgets/controls",
            "layout": "IPY_MODEL_aab44fa0470d4ff98808171ce7c6f835"
          }
        },
        "f16bd7c65f164bdbb155cf50f2894401": {
          "model_module": "@jupyter-widgets/controls",
          "model_name": "ProgressStyleModel",
          "model_module_version": "1.5.0",
          "state": {
            "_view_name": "StyleView",
            "_model_name": "ProgressStyleModel",
            "description_width": "initial",
            "_view_module": "@jupyter-widgets/base",
            "_model_module_version": "1.5.0",
            "_view_count": null,
            "_view_module_version": "1.2.0",
            "bar_color": null,
            "_model_module": "@jupyter-widgets/controls"
          }
        },
        "988ea8b99f4f416695700f16cd59b0f0": {
          "model_module": "@jupyter-widgets/base",
          "model_name": "LayoutModel",
          "model_module_version": "1.2.0",
          "state": {
            "_view_name": "LayoutView",
            "grid_template_rows": null,
            "right": null,
            "justify_content": null,
            "_view_module": "@jupyter-widgets/base",
            "overflow": null,
            "_model_module_version": "1.2.0",
            "_view_count": null,
            "flex_flow": null,
            "width": null,
            "min_width": null,
            "border": null,
            "align_items": null,
            "bottom": null,
            "_model_module": "@jupyter-widgets/base",
            "top": null,
            "grid_column": null,
            "overflow_y": null,
            "overflow_x": null,
            "grid_auto_flow": null,
            "grid_area": null,
            "grid_template_columns": null,
            "flex": null,
            "_model_name": "LayoutModel",
            "justify_items": null,
            "grid_row": null,
            "max_height": null,
            "align_content": null,
            "visibility": null,
            "align_self": null,
            "height": null,
            "min_height": null,
            "padding": null,
            "grid_auto_rows": null,
            "grid_gap": null,
            "max_width": null,
            "order": null,
            "_view_module_version": "1.2.0",
            "grid_template_areas": null,
            "object_position": null,
            "object_fit": null,
            "grid_auto_columns": null,
            "margin": null,
            "display": null,
            "left": null
          }
        },
        "c9adce49160f48ec9ea2bc277d4f2401": {
          "model_module": "@jupyter-widgets/controls",
          "model_name": "DescriptionStyleModel",
          "model_module_version": "1.5.0",
          "state": {
            "_view_name": "StyleView",
            "_model_name": "DescriptionStyleModel",
            "description_width": "",
            "_view_module": "@jupyter-widgets/base",
            "_model_module_version": "1.5.0",
            "_view_count": null,
            "_view_module_version": "1.2.0",
            "_model_module": "@jupyter-widgets/controls"
          }
        },
        "aab44fa0470d4ff98808171ce7c6f835": {
          "model_module": "@jupyter-widgets/base",
          "model_name": "LayoutModel",
          "model_module_version": "1.2.0",
          "state": {
            "_view_name": "LayoutView",
            "grid_template_rows": null,
            "right": null,
            "justify_content": null,
            "_view_module": "@jupyter-widgets/base",
            "overflow": null,
            "_model_module_version": "1.2.0",
            "_view_count": null,
            "flex_flow": null,
            "width": null,
            "min_width": null,
            "border": null,
            "align_items": null,
            "bottom": null,
            "_model_module": "@jupyter-widgets/base",
            "top": null,
            "grid_column": null,
            "overflow_y": null,
            "overflow_x": null,
            "grid_auto_flow": null,
            "grid_area": null,
            "grid_template_columns": null,
            "flex": null,
            "_model_name": "LayoutModel",
            "justify_items": null,
            "grid_row": null,
            "max_height": null,
            "align_content": null,
            "visibility": null,
            "align_self": null,
            "height": null,
            "min_height": null,
            "padding": null,
            "grid_auto_rows": null,
            "grid_gap": null,
            "max_width": null,
            "order": null,
            "_view_module_version": "1.2.0",
            "grid_template_areas": null,
            "object_position": null,
            "object_fit": null,
            "grid_auto_columns": null,
            "margin": null,
            "display": null,
            "left": null
          }
        },
        "3a0c687e4e9646d19a46d319515ea9ef": {
          "model_module": "@jupyter-widgets/controls",
          "model_name": "HBoxModel",
          "model_module_version": "1.5.0",
          "state": {
            "_view_name": "HBoxView",
            "_dom_classes": [],
            "_model_name": "HBoxModel",
            "_view_module": "@jupyter-widgets/controls",
            "_model_module_version": "1.5.0",
            "_view_count": null,
            "_view_module_version": "1.5.0",
            "box_style": "",
            "layout": "IPY_MODEL_02389fa98c2f40af87339671f21c605c",
            "_model_module": "@jupyter-widgets/controls",
            "children": [
              "IPY_MODEL_c32022718c5141b485c5513eec41d928",
              "IPY_MODEL_94042820a0904caaaea5351c0b5cf8c6"
            ]
          }
        },
        "02389fa98c2f40af87339671f21c605c": {
          "model_module": "@jupyter-widgets/base",
          "model_name": "LayoutModel",
          "model_module_version": "1.2.0",
          "state": {
            "_view_name": "LayoutView",
            "grid_template_rows": null,
            "right": null,
            "justify_content": null,
            "_view_module": "@jupyter-widgets/base",
            "overflow": null,
            "_model_module_version": "1.2.0",
            "_view_count": null,
            "flex_flow": null,
            "width": null,
            "min_width": null,
            "border": null,
            "align_items": null,
            "bottom": null,
            "_model_module": "@jupyter-widgets/base",
            "top": null,
            "grid_column": null,
            "overflow_y": null,
            "overflow_x": null,
            "grid_auto_flow": null,
            "grid_area": null,
            "grid_template_columns": null,
            "flex": null,
            "_model_name": "LayoutModel",
            "justify_items": null,
            "grid_row": null,
            "max_height": null,
            "align_content": null,
            "visibility": null,
            "align_self": null,
            "height": null,
            "min_height": null,
            "padding": null,
            "grid_auto_rows": null,
            "grid_gap": null,
            "max_width": null,
            "order": null,
            "_view_module_version": "1.2.0",
            "grid_template_areas": null,
            "object_position": null,
            "object_fit": null,
            "grid_auto_columns": null,
            "margin": null,
            "display": null,
            "left": null
          }
        },
        "c32022718c5141b485c5513eec41d928": {
          "model_module": "@jupyter-widgets/controls",
          "model_name": "FloatProgressModel",
          "model_module_version": "1.5.0",
          "state": {
            "_view_name": "ProgressView",
            "style": "IPY_MODEL_791be7fcc29b4f94b17f38c68740c4ba",
            "_dom_classes": [],
            "description": "100%",
            "_model_name": "FloatProgressModel",
            "bar_style": "success",
            "max": 1,
            "_view_module": "@jupyter-widgets/controls",
            "_model_module_version": "1.5.0",
            "value": 1,
            "_view_count": null,
            "_view_module_version": "1.5.0",
            "orientation": "horizontal",
            "min": 0,
            "description_tooltip": null,
            "_model_module": "@jupyter-widgets/controls",
            "layout": "IPY_MODEL_7e27cafa4fd2452dafdeff98553d1cb1"
          }
        },
        "94042820a0904caaaea5351c0b5cf8c6": {
          "model_module": "@jupyter-widgets/controls",
          "model_name": "HTMLModel",
          "model_module_version": "1.5.0",
          "state": {
            "_view_name": "HTMLView",
            "style": "IPY_MODEL_b4ff5b0ba07b496088e8a6a1c25db358",
            "_dom_classes": [],
            "description": "",
            "_model_name": "HTMLModel",
            "placeholder": "​",
            "_view_module": "@jupyter-widgets/controls",
            "_model_module_version": "1.5.0",
            "value": " 1/1 [00:00&lt;00:00,  4.26ba/s]",
            "_view_count": null,
            "_view_module_version": "1.5.0",
            "description_tooltip": null,
            "_model_module": "@jupyter-widgets/controls",
            "layout": "IPY_MODEL_3fb633e038f1473fac9cb823846cd26b"
          }
        },
        "791be7fcc29b4f94b17f38c68740c4ba": {
          "model_module": "@jupyter-widgets/controls",
          "model_name": "ProgressStyleModel",
          "model_module_version": "1.5.0",
          "state": {
            "_view_name": "StyleView",
            "_model_name": "ProgressStyleModel",
            "description_width": "initial",
            "_view_module": "@jupyter-widgets/base",
            "_model_module_version": "1.5.0",
            "_view_count": null,
            "_view_module_version": "1.2.0",
            "bar_color": null,
            "_model_module": "@jupyter-widgets/controls"
          }
        },
        "7e27cafa4fd2452dafdeff98553d1cb1": {
          "model_module": "@jupyter-widgets/base",
          "model_name": "LayoutModel",
          "model_module_version": "1.2.0",
          "state": {
            "_view_name": "LayoutView",
            "grid_template_rows": null,
            "right": null,
            "justify_content": null,
            "_view_module": "@jupyter-widgets/base",
            "overflow": null,
            "_model_module_version": "1.2.0",
            "_view_count": null,
            "flex_flow": null,
            "width": null,
            "min_width": null,
            "border": null,
            "align_items": null,
            "bottom": null,
            "_model_module": "@jupyter-widgets/base",
            "top": null,
            "grid_column": null,
            "overflow_y": null,
            "overflow_x": null,
            "grid_auto_flow": null,
            "grid_area": null,
            "grid_template_columns": null,
            "flex": null,
            "_model_name": "LayoutModel",
            "justify_items": null,
            "grid_row": null,
            "max_height": null,
            "align_content": null,
            "visibility": null,
            "align_self": null,
            "height": null,
            "min_height": null,
            "padding": null,
            "grid_auto_rows": null,
            "grid_gap": null,
            "max_width": null,
            "order": null,
            "_view_module_version": "1.2.0",
            "grid_template_areas": null,
            "object_position": null,
            "object_fit": null,
            "grid_auto_columns": null,
            "margin": null,
            "display": null,
            "left": null
          }
        },
        "b4ff5b0ba07b496088e8a6a1c25db358": {
          "model_module": "@jupyter-widgets/controls",
          "model_name": "DescriptionStyleModel",
          "model_module_version": "1.5.0",
          "state": {
            "_view_name": "StyleView",
            "_model_name": "DescriptionStyleModel",
            "description_width": "",
            "_view_module": "@jupyter-widgets/base",
            "_model_module_version": "1.5.0",
            "_view_count": null,
            "_view_module_version": "1.2.0",
            "_model_module": "@jupyter-widgets/controls"
          }
        },
        "3fb633e038f1473fac9cb823846cd26b": {
          "model_module": "@jupyter-widgets/base",
          "model_name": "LayoutModel",
          "model_module_version": "1.2.0",
          "state": {
            "_view_name": "LayoutView",
            "grid_template_rows": null,
            "right": null,
            "justify_content": null,
            "_view_module": "@jupyter-widgets/base",
            "overflow": null,
            "_model_module_version": "1.2.0",
            "_view_count": null,
            "flex_flow": null,
            "width": null,
            "min_width": null,
            "border": null,
            "align_items": null,
            "bottom": null,
            "_model_module": "@jupyter-widgets/base",
            "top": null,
            "grid_column": null,
            "overflow_y": null,
            "overflow_x": null,
            "grid_auto_flow": null,
            "grid_area": null,
            "grid_template_columns": null,
            "flex": null,
            "_model_name": "LayoutModel",
            "justify_items": null,
            "grid_row": null,
            "max_height": null,
            "align_content": null,
            "visibility": null,
            "align_self": null,
            "height": null,
            "min_height": null,
            "padding": null,
            "grid_auto_rows": null,
            "grid_gap": null,
            "max_width": null,
            "order": null,
            "_view_module_version": "1.2.0",
            "grid_template_areas": null,
            "object_position": null,
            "object_fit": null,
            "grid_auto_columns": null,
            "margin": null,
            "display": null,
            "left": null
          }
        },
        "db4159d51eb94b12880df17b909c632e": {
          "model_module": "@jupyter-widgets/controls",
          "model_name": "HBoxModel",
          "model_module_version": "1.5.0",
          "state": {
            "_view_name": "HBoxView",
            "_dom_classes": [],
            "_model_name": "HBoxModel",
            "_view_module": "@jupyter-widgets/controls",
            "_model_module_version": "1.5.0",
            "_view_count": null,
            "_view_module_version": "1.5.0",
            "box_style": "",
            "layout": "IPY_MODEL_c5d6b50f1a2940c6a4e1e5a98c678f3a",
            "_model_module": "@jupyter-widgets/controls",
            "children": [
              "IPY_MODEL_540188eaec3d46938b1a1d94b9ebe9d4",
              "IPY_MODEL_1319ae27d91d4c679849b29a761923fa"
            ]
          }
        },
        "c5d6b50f1a2940c6a4e1e5a98c678f3a": {
          "model_module": "@jupyter-widgets/base",
          "model_name": "LayoutModel",
          "model_module_version": "1.2.0",
          "state": {
            "_view_name": "LayoutView",
            "grid_template_rows": null,
            "right": null,
            "justify_content": null,
            "_view_module": "@jupyter-widgets/base",
            "overflow": null,
            "_model_module_version": "1.2.0",
            "_view_count": null,
            "flex_flow": null,
            "width": null,
            "min_width": null,
            "border": null,
            "align_items": null,
            "bottom": null,
            "_model_module": "@jupyter-widgets/base",
            "top": null,
            "grid_column": null,
            "overflow_y": null,
            "overflow_x": null,
            "grid_auto_flow": null,
            "grid_area": null,
            "grid_template_columns": null,
            "flex": null,
            "_model_name": "LayoutModel",
            "justify_items": null,
            "grid_row": null,
            "max_height": null,
            "align_content": null,
            "visibility": null,
            "align_self": null,
            "height": null,
            "min_height": null,
            "padding": null,
            "grid_auto_rows": null,
            "grid_gap": null,
            "max_width": null,
            "order": null,
            "_view_module_version": "1.2.0",
            "grid_template_areas": null,
            "object_position": null,
            "object_fit": null,
            "grid_auto_columns": null,
            "margin": null,
            "display": null,
            "left": null
          }
        },
        "540188eaec3d46938b1a1d94b9ebe9d4": {
          "model_module": "@jupyter-widgets/controls",
          "model_name": "FloatProgressModel",
          "model_module_version": "1.5.0",
          "state": {
            "_view_name": "ProgressView",
            "style": "IPY_MODEL_a1378e66a2c9494692b2a79ed4621473",
            "_dom_classes": [],
            "description": "100%",
            "_model_name": "FloatProgressModel",
            "bar_style": "success",
            "max": 148,
            "_view_module": "@jupyter-widgets/controls",
            "_model_module_version": "1.5.0",
            "value": 148,
            "_view_count": null,
            "_view_module_version": "1.5.0",
            "orientation": "horizontal",
            "min": 0,
            "description_tooltip": null,
            "_model_module": "@jupyter-widgets/controls",
            "layout": "IPY_MODEL_b9059b642bce4b6f8de821c98ff07ca7"
          }
        },
        "1319ae27d91d4c679849b29a761923fa": {
          "model_module": "@jupyter-widgets/controls",
          "model_name": "HTMLModel",
          "model_module_version": "1.5.0",
          "state": {
            "_view_name": "HTMLView",
            "style": "IPY_MODEL_807276c3d07e4946b8125407d53ab96d",
            "_dom_classes": [],
            "description": "",
            "_model_name": "HTMLModel",
            "placeholder": "​",
            "_view_module": "@jupyter-widgets/controls",
            "_model_module_version": "1.5.0",
            "value": " 148/148 [01:10&lt;00:00,  2.10ex/s]",
            "_view_count": null,
            "_view_module_version": "1.5.0",
            "description_tooltip": null,
            "_model_module": "@jupyter-widgets/controls",
            "layout": "IPY_MODEL_a02d29e0573e4cc58640b0426d52a623"
          }
        },
        "a1378e66a2c9494692b2a79ed4621473": {
          "model_module": "@jupyter-widgets/controls",
          "model_name": "ProgressStyleModel",
          "model_module_version": "1.5.0",
          "state": {
            "_view_name": "StyleView",
            "_model_name": "ProgressStyleModel",
            "description_width": "initial",
            "_view_module": "@jupyter-widgets/base",
            "_model_module_version": "1.5.0",
            "_view_count": null,
            "_view_module_version": "1.2.0",
            "bar_color": null,
            "_model_module": "@jupyter-widgets/controls"
          }
        },
        "b9059b642bce4b6f8de821c98ff07ca7": {
          "model_module": "@jupyter-widgets/base",
          "model_name": "LayoutModel",
          "model_module_version": "1.2.0",
          "state": {
            "_view_name": "LayoutView",
            "grid_template_rows": null,
            "right": null,
            "justify_content": null,
            "_view_module": "@jupyter-widgets/base",
            "overflow": null,
            "_model_module_version": "1.2.0",
            "_view_count": null,
            "flex_flow": null,
            "width": null,
            "min_width": null,
            "border": null,
            "align_items": null,
            "bottom": null,
            "_model_module": "@jupyter-widgets/base",
            "top": null,
            "grid_column": null,
            "overflow_y": null,
            "overflow_x": null,
            "grid_auto_flow": null,
            "grid_area": null,
            "grid_template_columns": null,
            "flex": null,
            "_model_name": "LayoutModel",
            "justify_items": null,
            "grid_row": null,
            "max_height": null,
            "align_content": null,
            "visibility": null,
            "align_self": null,
            "height": null,
            "min_height": null,
            "padding": null,
            "grid_auto_rows": null,
            "grid_gap": null,
            "max_width": null,
            "order": null,
            "_view_module_version": "1.2.0",
            "grid_template_areas": null,
            "object_position": null,
            "object_fit": null,
            "grid_auto_columns": null,
            "margin": null,
            "display": null,
            "left": null
          }
        },
        "807276c3d07e4946b8125407d53ab96d": {
          "model_module": "@jupyter-widgets/controls",
          "model_name": "DescriptionStyleModel",
          "model_module_version": "1.5.0",
          "state": {
            "_view_name": "StyleView",
            "_model_name": "DescriptionStyleModel",
            "description_width": "",
            "_view_module": "@jupyter-widgets/base",
            "_model_module_version": "1.5.0",
            "_view_count": null,
            "_view_module_version": "1.2.0",
            "_model_module": "@jupyter-widgets/controls"
          }
        },
        "a02d29e0573e4cc58640b0426d52a623": {
          "model_module": "@jupyter-widgets/base",
          "model_name": "LayoutModel",
          "model_module_version": "1.2.0",
          "state": {
            "_view_name": "LayoutView",
            "grid_template_rows": null,
            "right": null,
            "justify_content": null,
            "_view_module": "@jupyter-widgets/base",
            "overflow": null,
            "_model_module_version": "1.2.0",
            "_view_count": null,
            "flex_flow": null,
            "width": null,
            "min_width": null,
            "border": null,
            "align_items": null,
            "bottom": null,
            "_model_module": "@jupyter-widgets/base",
            "top": null,
            "grid_column": null,
            "overflow_y": null,
            "overflow_x": null,
            "grid_auto_flow": null,
            "grid_area": null,
            "grid_template_columns": null,
            "flex": null,
            "_model_name": "LayoutModel",
            "justify_items": null,
            "grid_row": null,
            "max_height": null,
            "align_content": null,
            "visibility": null,
            "align_self": null,
            "height": null,
            "min_height": null,
            "padding": null,
            "grid_auto_rows": null,
            "grid_gap": null,
            "max_width": null,
            "order": null,
            "_view_module_version": "1.2.0",
            "grid_template_areas": null,
            "object_position": null,
            "object_fit": null,
            "grid_auto_columns": null,
            "margin": null,
            "display": null,
            "left": null
          }
        },
        "e451c77c584e4908b59d760ec647b4c0": {
          "model_module": "@jupyter-widgets/controls",
          "model_name": "HBoxModel",
          "model_module_version": "1.5.0",
          "state": {
            "_view_name": "HBoxView",
            "_dom_classes": [],
            "_model_name": "HBoxModel",
            "_view_module": "@jupyter-widgets/controls",
            "_model_module_version": "1.5.0",
            "_view_count": null,
            "_view_module_version": "1.5.0",
            "box_style": "",
            "layout": "IPY_MODEL_4f4e5aead6624008ba9c6fc9523c738c",
            "_model_module": "@jupyter-widgets/controls",
            "children": [
              "IPY_MODEL_9af1e61bb3574bfbbd6c442b35865c30",
              "IPY_MODEL_3bf6e528df9d491ea94f408cea5e7853"
            ]
          }
        },
        "4f4e5aead6624008ba9c6fc9523c738c": {
          "model_module": "@jupyter-widgets/base",
          "model_name": "LayoutModel",
          "model_module_version": "1.2.0",
          "state": {
            "_view_name": "LayoutView",
            "grid_template_rows": null,
            "right": null,
            "justify_content": null,
            "_view_module": "@jupyter-widgets/base",
            "overflow": null,
            "_model_module_version": "1.2.0",
            "_view_count": null,
            "flex_flow": null,
            "width": null,
            "min_width": null,
            "border": null,
            "align_items": null,
            "bottom": null,
            "_model_module": "@jupyter-widgets/base",
            "top": null,
            "grid_column": null,
            "overflow_y": null,
            "overflow_x": null,
            "grid_auto_flow": null,
            "grid_area": null,
            "grid_template_columns": null,
            "flex": null,
            "_model_name": "LayoutModel",
            "justify_items": null,
            "grid_row": null,
            "max_height": null,
            "align_content": null,
            "visibility": null,
            "align_self": null,
            "height": null,
            "min_height": null,
            "padding": null,
            "grid_auto_rows": null,
            "grid_gap": null,
            "max_width": null,
            "order": null,
            "_view_module_version": "1.2.0",
            "grid_template_areas": null,
            "object_position": null,
            "object_fit": null,
            "grid_auto_columns": null,
            "margin": null,
            "display": null,
            "left": null
          }
        },
        "9af1e61bb3574bfbbd6c442b35865c30": {
          "model_module": "@jupyter-widgets/controls",
          "model_name": "FloatProgressModel",
          "model_module_version": "1.5.0",
          "state": {
            "_view_name": "ProgressView",
            "style": "IPY_MODEL_99b104f639fb4e97bccd82c06d716206",
            "_dom_classes": [],
            "description": "100%",
            "_model_name": "FloatProgressModel",
            "bar_style": "success",
            "max": 10,
            "_view_module": "@jupyter-widgets/controls",
            "_model_module_version": "1.5.0",
            "value": 10,
            "_view_count": null,
            "_view_module_version": "1.5.0",
            "orientation": "horizontal",
            "min": 0,
            "description_tooltip": null,
            "_model_module": "@jupyter-widgets/controls",
            "layout": "IPY_MODEL_e29a8989dcdf49d6a8dad24dea3ae8de"
          }
        },
        "3bf6e528df9d491ea94f408cea5e7853": {
          "model_module": "@jupyter-widgets/controls",
          "model_name": "HTMLModel",
          "model_module_version": "1.5.0",
          "state": {
            "_view_name": "HTMLView",
            "style": "IPY_MODEL_f37f08a504ac414497c400988075f7da",
            "_dom_classes": [],
            "description": "",
            "_model_name": "HTMLModel",
            "placeholder": "​",
            "_view_module": "@jupyter-widgets/controls",
            "_model_module_version": "1.5.0",
            "value": " 10/10 [00:03&lt;00:00,  2.85ex/s]",
            "_view_count": null,
            "_view_module_version": "1.5.0",
            "description_tooltip": null,
            "_model_module": "@jupyter-widgets/controls",
            "layout": "IPY_MODEL_8eca3779951b4520ae6636a01fc61283"
          }
        },
        "99b104f639fb4e97bccd82c06d716206": {
          "model_module": "@jupyter-widgets/controls",
          "model_name": "ProgressStyleModel",
          "model_module_version": "1.5.0",
          "state": {
            "_view_name": "StyleView",
            "_model_name": "ProgressStyleModel",
            "description_width": "initial",
            "_view_module": "@jupyter-widgets/base",
            "_model_module_version": "1.5.0",
            "_view_count": null,
            "_view_module_version": "1.2.0",
            "bar_color": null,
            "_model_module": "@jupyter-widgets/controls"
          }
        },
        "e29a8989dcdf49d6a8dad24dea3ae8de": {
          "model_module": "@jupyter-widgets/base",
          "model_name": "LayoutModel",
          "model_module_version": "1.2.0",
          "state": {
            "_view_name": "LayoutView",
            "grid_template_rows": null,
            "right": null,
            "justify_content": null,
            "_view_module": "@jupyter-widgets/base",
            "overflow": null,
            "_model_module_version": "1.2.0",
            "_view_count": null,
            "flex_flow": null,
            "width": null,
            "min_width": null,
            "border": null,
            "align_items": null,
            "bottom": null,
            "_model_module": "@jupyter-widgets/base",
            "top": null,
            "grid_column": null,
            "overflow_y": null,
            "overflow_x": null,
            "grid_auto_flow": null,
            "grid_area": null,
            "grid_template_columns": null,
            "flex": null,
            "_model_name": "LayoutModel",
            "justify_items": null,
            "grid_row": null,
            "max_height": null,
            "align_content": null,
            "visibility": null,
            "align_self": null,
            "height": null,
            "min_height": null,
            "padding": null,
            "grid_auto_rows": null,
            "grid_gap": null,
            "max_width": null,
            "order": null,
            "_view_module_version": "1.2.0",
            "grid_template_areas": null,
            "object_position": null,
            "object_fit": null,
            "grid_auto_columns": null,
            "margin": null,
            "display": null,
            "left": null
          }
        },
        "f37f08a504ac414497c400988075f7da": {
          "model_module": "@jupyter-widgets/controls",
          "model_name": "DescriptionStyleModel",
          "model_module_version": "1.5.0",
          "state": {
            "_view_name": "StyleView",
            "_model_name": "DescriptionStyleModel",
            "description_width": "",
            "_view_module": "@jupyter-widgets/base",
            "_model_module_version": "1.5.0",
            "_view_count": null,
            "_view_module_version": "1.2.0",
            "_model_module": "@jupyter-widgets/controls"
          }
        },
        "8eca3779951b4520ae6636a01fc61283": {
          "model_module": "@jupyter-widgets/base",
          "model_name": "LayoutModel",
          "model_module_version": "1.2.0",
          "state": {
            "_view_name": "LayoutView",
            "grid_template_rows": null,
            "right": null,
            "justify_content": null,
            "_view_module": "@jupyter-widgets/base",
            "overflow": null,
            "_model_module_version": "1.2.0",
            "_view_count": null,
            "flex_flow": null,
            "width": null,
            "min_width": null,
            "border": null,
            "align_items": null,
            "bottom": null,
            "_model_module": "@jupyter-widgets/base",
            "top": null,
            "grid_column": null,
            "overflow_y": null,
            "overflow_x": null,
            "grid_auto_flow": null,
            "grid_area": null,
            "grid_template_columns": null,
            "flex": null,
            "_model_name": "LayoutModel",
            "justify_items": null,
            "grid_row": null,
            "max_height": null,
            "align_content": null,
            "visibility": null,
            "align_self": null,
            "height": null,
            "min_height": null,
            "padding": null,
            "grid_auto_rows": null,
            "grid_gap": null,
            "max_width": null,
            "order": null,
            "_view_module_version": "1.2.0",
            "grid_template_areas": null,
            "object_position": null,
            "object_fit": null,
            "grid_auto_columns": null,
            "margin": null,
            "display": null,
            "left": null
          }
        },
        "be8779452b4e470ea581de960e85c41d": {
          "model_module": "@jupyter-widgets/controls",
          "model_name": "HBoxModel",
          "model_module_version": "1.5.0",
          "state": {
            "_view_name": "HBoxView",
            "_dom_classes": [],
            "_model_name": "HBoxModel",
            "_view_module": "@jupyter-widgets/controls",
            "_model_module_version": "1.5.0",
            "_view_count": null,
            "_view_module_version": "1.5.0",
            "box_style": "",
            "layout": "IPY_MODEL_5db90d3605364136a017188c617c5ba1",
            "_model_module": "@jupyter-widgets/controls",
            "children": [
              "IPY_MODEL_169cb699bb6f4ec6b8e2a2edbb0b821f",
              "IPY_MODEL_0b155fe8d4fb40f0883e2a9aed06c238"
            ]
          }
        },
        "5db90d3605364136a017188c617c5ba1": {
          "model_module": "@jupyter-widgets/base",
          "model_name": "LayoutModel",
          "model_module_version": "1.2.0",
          "state": {
            "_view_name": "LayoutView",
            "grid_template_rows": null,
            "right": null,
            "justify_content": null,
            "_view_module": "@jupyter-widgets/base",
            "overflow": null,
            "_model_module_version": "1.2.0",
            "_view_count": null,
            "flex_flow": null,
            "width": null,
            "min_width": null,
            "border": null,
            "align_items": null,
            "bottom": null,
            "_model_module": "@jupyter-widgets/base",
            "top": null,
            "grid_column": null,
            "overflow_y": null,
            "overflow_x": null,
            "grid_auto_flow": null,
            "grid_area": null,
            "grid_template_columns": null,
            "flex": null,
            "_model_name": "LayoutModel",
            "justify_items": null,
            "grid_row": null,
            "max_height": null,
            "align_content": null,
            "visibility": null,
            "align_self": null,
            "height": null,
            "min_height": null,
            "padding": null,
            "grid_auto_rows": null,
            "grid_gap": null,
            "max_width": null,
            "order": null,
            "_view_module_version": "1.2.0",
            "grid_template_areas": null,
            "object_position": null,
            "object_fit": null,
            "grid_auto_columns": null,
            "margin": null,
            "display": null,
            "left": null
          }
        },
        "169cb699bb6f4ec6b8e2a2edbb0b821f": {
          "model_module": "@jupyter-widgets/controls",
          "model_name": "FloatProgressModel",
          "model_module_version": "1.5.0",
          "state": {
            "_view_name": "ProgressView",
            "style": "IPY_MODEL_77e7956511724505af20c6ae43a9cdcc",
            "_dom_classes": [],
            "description": "Downloading: ",
            "_model_name": "FloatProgressModel",
            "bar_style": "success",
            "max": 1764,
            "_view_module": "@jupyter-widgets/controls",
            "_model_module_version": "1.5.0",
            "value": 1764,
            "_view_count": null,
            "_view_module_version": "1.5.0",
            "orientation": "horizontal",
            "min": 0,
            "description_tooltip": null,
            "_model_module": "@jupyter-widgets/controls",
            "layout": "IPY_MODEL_296d687e1c524821a23f3f9ca8bb23aa"
          }
        },
        "0b155fe8d4fb40f0883e2a9aed06c238": {
          "model_module": "@jupyter-widgets/controls",
          "model_name": "HTMLModel",
          "model_module_version": "1.5.0",
          "state": {
            "_view_name": "HTMLView",
            "style": "IPY_MODEL_ef00efe2445949f8a5082f6c7acbba71",
            "_dom_classes": [],
            "description": "",
            "_model_name": "HTMLModel",
            "placeholder": "​",
            "_view_module": "@jupyter-widgets/controls",
            "_model_module_version": "1.5.0",
            "value": " 3.90k/? [00:00&lt;00:00, 15.5kB/s]",
            "_view_count": null,
            "_view_module_version": "1.5.0",
            "description_tooltip": null,
            "_model_module": "@jupyter-widgets/controls",
            "layout": "IPY_MODEL_bf55c27bff7d46e486e27e773b11fc4b"
          }
        },
        "77e7956511724505af20c6ae43a9cdcc": {
          "model_module": "@jupyter-widgets/controls",
          "model_name": "ProgressStyleModel",
          "model_module_version": "1.5.0",
          "state": {
            "_view_name": "StyleView",
            "_model_name": "ProgressStyleModel",
            "description_width": "initial",
            "_view_module": "@jupyter-widgets/base",
            "_model_module_version": "1.5.0",
            "_view_count": null,
            "_view_module_version": "1.2.0",
            "bar_color": null,
            "_model_module": "@jupyter-widgets/controls"
          }
        },
        "296d687e1c524821a23f3f9ca8bb23aa": {
          "model_module": "@jupyter-widgets/base",
          "model_name": "LayoutModel",
          "model_module_version": "1.2.0",
          "state": {
            "_view_name": "LayoutView",
            "grid_template_rows": null,
            "right": null,
            "justify_content": null,
            "_view_module": "@jupyter-widgets/base",
            "overflow": null,
            "_model_module_version": "1.2.0",
            "_view_count": null,
            "flex_flow": null,
            "width": null,
            "min_width": null,
            "border": null,
            "align_items": null,
            "bottom": null,
            "_model_module": "@jupyter-widgets/base",
            "top": null,
            "grid_column": null,
            "overflow_y": null,
            "overflow_x": null,
            "grid_auto_flow": null,
            "grid_area": null,
            "grid_template_columns": null,
            "flex": null,
            "_model_name": "LayoutModel",
            "justify_items": null,
            "grid_row": null,
            "max_height": null,
            "align_content": null,
            "visibility": null,
            "align_self": null,
            "height": null,
            "min_height": null,
            "padding": null,
            "grid_auto_rows": null,
            "grid_gap": null,
            "max_width": null,
            "order": null,
            "_view_module_version": "1.2.0",
            "grid_template_areas": null,
            "object_position": null,
            "object_fit": null,
            "grid_auto_columns": null,
            "margin": null,
            "display": null,
            "left": null
          }
        },
        "ef00efe2445949f8a5082f6c7acbba71": {
          "model_module": "@jupyter-widgets/controls",
          "model_name": "DescriptionStyleModel",
          "model_module_version": "1.5.0",
          "state": {
            "_view_name": "StyleView",
            "_model_name": "DescriptionStyleModel",
            "description_width": "",
            "_view_module": "@jupyter-widgets/base",
            "_model_module_version": "1.5.0",
            "_view_count": null,
            "_view_module_version": "1.2.0",
            "_model_module": "@jupyter-widgets/controls"
          }
        },
        "bf55c27bff7d46e486e27e773b11fc4b": {
          "model_module": "@jupyter-widgets/base",
          "model_name": "LayoutModel",
          "model_module_version": "1.2.0",
          "state": {
            "_view_name": "LayoutView",
            "grid_template_rows": null,
            "right": null,
            "justify_content": null,
            "_view_module": "@jupyter-widgets/base",
            "overflow": null,
            "_model_module_version": "1.2.0",
            "_view_count": null,
            "flex_flow": null,
            "width": null,
            "min_width": null,
            "border": null,
            "align_items": null,
            "bottom": null,
            "_model_module": "@jupyter-widgets/base",
            "top": null,
            "grid_column": null,
            "overflow_y": null,
            "overflow_x": null,
            "grid_auto_flow": null,
            "grid_area": null,
            "grid_template_columns": null,
            "flex": null,
            "_model_name": "LayoutModel",
            "justify_items": null,
            "grid_row": null,
            "max_height": null,
            "align_content": null,
            "visibility": null,
            "align_self": null,
            "height": null,
            "min_height": null,
            "padding": null,
            "grid_auto_rows": null,
            "grid_gap": null,
            "max_width": null,
            "order": null,
            "_view_module_version": "1.2.0",
            "grid_template_areas": null,
            "object_position": null,
            "object_fit": null,
            "grid_auto_columns": null,
            "margin": null,
            "display": null,
            "left": null
          }
        },
        "7c07e4179cb04ab195386c1373dc4813": {
          "model_module": "@jupyter-widgets/controls",
          "model_name": "HBoxModel",
          "model_module_version": "1.5.0",
          "state": {
            "_view_name": "HBoxView",
            "_dom_classes": [],
            "_model_name": "HBoxModel",
            "_view_module": "@jupyter-widgets/controls",
            "_model_module_version": "1.5.0",
            "_view_count": null,
            "_view_module_version": "1.5.0",
            "box_style": "",
            "layout": "IPY_MODEL_32ad5c56a6bd4e17af789b1ce191807f",
            "_model_module": "@jupyter-widgets/controls",
            "children": [
              "IPY_MODEL_66b420e35bd1470394ae250aeb335688",
              "IPY_MODEL_23d306fab1be44f88ab0c6e8badc4d75"
            ]
          }
        },
        "32ad5c56a6bd4e17af789b1ce191807f": {
          "model_module": "@jupyter-widgets/base",
          "model_name": "LayoutModel",
          "model_module_version": "1.2.0",
          "state": {
            "_view_name": "LayoutView",
            "grid_template_rows": null,
            "right": null,
            "justify_content": null,
            "_view_module": "@jupyter-widgets/base",
            "overflow": null,
            "_model_module_version": "1.2.0",
            "_view_count": null,
            "flex_flow": null,
            "width": null,
            "min_width": null,
            "border": null,
            "align_items": null,
            "bottom": null,
            "_model_module": "@jupyter-widgets/base",
            "top": null,
            "grid_column": null,
            "overflow_y": null,
            "overflow_x": null,
            "grid_auto_flow": null,
            "grid_area": null,
            "grid_template_columns": null,
            "flex": null,
            "_model_name": "LayoutModel",
            "justify_items": null,
            "grid_row": null,
            "max_height": null,
            "align_content": null,
            "visibility": null,
            "align_self": null,
            "height": null,
            "min_height": null,
            "padding": null,
            "grid_auto_rows": null,
            "grid_gap": null,
            "max_width": null,
            "order": null,
            "_view_module_version": "1.2.0",
            "grid_template_areas": null,
            "object_position": null,
            "object_fit": null,
            "grid_auto_columns": null,
            "margin": null,
            "display": null,
            "left": null
          }
        },
        "66b420e35bd1470394ae250aeb335688": {
          "model_module": "@jupyter-widgets/controls",
          "model_name": "FloatProgressModel",
          "model_module_version": "1.5.0",
          "state": {
            "_view_name": "ProgressView",
            "style": "IPY_MODEL_2d34cdd162704c0ca6c4f35bd69e552e",
            "_dom_classes": [],
            "description": "Downloading: 100%",
            "_model_name": "FloatProgressModel",
            "bar_style": "success",
            "max": 1768,
            "_view_module": "@jupyter-widgets/controls",
            "_model_module_version": "1.5.0",
            "value": 1768,
            "_view_count": null,
            "_view_module_version": "1.5.0",
            "orientation": "horizontal",
            "min": 0,
            "description_tooltip": null,
            "_model_module": "@jupyter-widgets/controls",
            "layout": "IPY_MODEL_bd585ea967f74511900212f01c49cbb1"
          }
        },
        "23d306fab1be44f88ab0c6e8badc4d75": {
          "model_module": "@jupyter-widgets/controls",
          "model_name": "HTMLModel",
          "model_module_version": "1.5.0",
          "state": {
            "_view_name": "HTMLView",
            "style": "IPY_MODEL_f833d1719e364d53a4ce07b20b61f8bc",
            "_dom_classes": [],
            "description": "",
            "_model_name": "HTMLModel",
            "placeholder": "​",
            "_view_module": "@jupyter-widgets/controls",
            "_model_module_version": "1.5.0",
            "value": " 1.77k/1.77k [00:00&lt;00:00, 6.69kB/s]",
            "_view_count": null,
            "_view_module_version": "1.5.0",
            "description_tooltip": null,
            "_model_module": "@jupyter-widgets/controls",
            "layout": "IPY_MODEL_a7948124cadc4b55b20f03ff5aee0e1d"
          }
        },
        "2d34cdd162704c0ca6c4f35bd69e552e": {
          "model_module": "@jupyter-widgets/controls",
          "model_name": "ProgressStyleModel",
          "model_module_version": "1.5.0",
          "state": {
            "_view_name": "StyleView",
            "_model_name": "ProgressStyleModel",
            "description_width": "initial",
            "_view_module": "@jupyter-widgets/base",
            "_model_module_version": "1.5.0",
            "_view_count": null,
            "_view_module_version": "1.2.0",
            "bar_color": null,
            "_model_module": "@jupyter-widgets/controls"
          }
        },
        "bd585ea967f74511900212f01c49cbb1": {
          "model_module": "@jupyter-widgets/base",
          "model_name": "LayoutModel",
          "model_module_version": "1.2.0",
          "state": {
            "_view_name": "LayoutView",
            "grid_template_rows": null,
            "right": null,
            "justify_content": null,
            "_view_module": "@jupyter-widgets/base",
            "overflow": null,
            "_model_module_version": "1.2.0",
            "_view_count": null,
            "flex_flow": null,
            "width": null,
            "min_width": null,
            "border": null,
            "align_items": null,
            "bottom": null,
            "_model_module": "@jupyter-widgets/base",
            "top": null,
            "grid_column": null,
            "overflow_y": null,
            "overflow_x": null,
            "grid_auto_flow": null,
            "grid_area": null,
            "grid_template_columns": null,
            "flex": null,
            "_model_name": "LayoutModel",
            "justify_items": null,
            "grid_row": null,
            "max_height": null,
            "align_content": null,
            "visibility": null,
            "align_self": null,
            "height": null,
            "min_height": null,
            "padding": null,
            "grid_auto_rows": null,
            "grid_gap": null,
            "max_width": null,
            "order": null,
            "_view_module_version": "1.2.0",
            "grid_template_areas": null,
            "object_position": null,
            "object_fit": null,
            "grid_auto_columns": null,
            "margin": null,
            "display": null,
            "left": null
          }
        },
        "f833d1719e364d53a4ce07b20b61f8bc": {
          "model_module": "@jupyter-widgets/controls",
          "model_name": "DescriptionStyleModel",
          "model_module_version": "1.5.0",
          "state": {
            "_view_name": "StyleView",
            "_model_name": "DescriptionStyleModel",
            "description_width": "",
            "_view_module": "@jupyter-widgets/base",
            "_model_module_version": "1.5.0",
            "_view_count": null,
            "_view_module_version": "1.2.0",
            "_model_module": "@jupyter-widgets/controls"
          }
        },
        "a7948124cadc4b55b20f03ff5aee0e1d": {
          "model_module": "@jupyter-widgets/base",
          "model_name": "LayoutModel",
          "model_module_version": "1.2.0",
          "state": {
            "_view_name": "LayoutView",
            "grid_template_rows": null,
            "right": null,
            "justify_content": null,
            "_view_module": "@jupyter-widgets/base",
            "overflow": null,
            "_model_module_version": "1.2.0",
            "_view_count": null,
            "flex_flow": null,
            "width": null,
            "min_width": null,
            "border": null,
            "align_items": null,
            "bottom": null,
            "_model_module": "@jupyter-widgets/base",
            "top": null,
            "grid_column": null,
            "overflow_y": null,
            "overflow_x": null,
            "grid_auto_flow": null,
            "grid_area": null,
            "grid_template_columns": null,
            "flex": null,
            "_model_name": "LayoutModel",
            "justify_items": null,
            "grid_row": null,
            "max_height": null,
            "align_content": null,
            "visibility": null,
            "align_self": null,
            "height": null,
            "min_height": null,
            "padding": null,
            "grid_auto_rows": null,
            "grid_gap": null,
            "max_width": null,
            "order": null,
            "_view_module_version": "1.2.0",
            "grid_template_areas": null,
            "object_position": null,
            "object_fit": null,
            "grid_auto_columns": null,
            "margin": null,
            "display": null,
            "left": null
          }
        },
        "3cb69a840f8247f7a1d9c24846191e04": {
          "model_module": "@jupyter-widgets/controls",
          "model_name": "HBoxModel",
          "model_module_version": "1.5.0",
          "state": {
            "_view_name": "HBoxView",
            "_dom_classes": [],
            "_model_name": "HBoxModel",
            "_view_module": "@jupyter-widgets/controls",
            "_model_module_version": "1.5.0",
            "_view_count": null,
            "_view_module_version": "1.5.0",
            "box_style": "",
            "layout": "IPY_MODEL_51d42e189ad2440d8c5e3be469c44932",
            "_model_module": "@jupyter-widgets/controls",
            "children": [
              "IPY_MODEL_618c6488ac3c4dcd9a35c5e7a99e610d",
              "IPY_MODEL_6683609fafe745fea502d53b5ac35e3c"
            ]
          }
        },
        "51d42e189ad2440d8c5e3be469c44932": {
          "model_module": "@jupyter-widgets/base",
          "model_name": "LayoutModel",
          "model_module_version": "1.2.0",
          "state": {
            "_view_name": "LayoutView",
            "grid_template_rows": null,
            "right": null,
            "justify_content": null,
            "_view_module": "@jupyter-widgets/base",
            "overflow": null,
            "_model_module_version": "1.2.0",
            "_view_count": null,
            "flex_flow": null,
            "width": null,
            "min_width": null,
            "border": null,
            "align_items": null,
            "bottom": null,
            "_model_module": "@jupyter-widgets/base",
            "top": null,
            "grid_column": null,
            "overflow_y": null,
            "overflow_x": null,
            "grid_auto_flow": null,
            "grid_area": null,
            "grid_template_columns": null,
            "flex": null,
            "_model_name": "LayoutModel",
            "justify_items": null,
            "grid_row": null,
            "max_height": null,
            "align_content": null,
            "visibility": null,
            "align_self": null,
            "height": null,
            "min_height": null,
            "padding": null,
            "grid_auto_rows": null,
            "grid_gap": null,
            "max_width": null,
            "order": null,
            "_view_module_version": "1.2.0",
            "grid_template_areas": null,
            "object_position": null,
            "object_fit": null,
            "grid_auto_columns": null,
            "margin": null,
            "display": null,
            "left": null
          }
        },
        "618c6488ac3c4dcd9a35c5e7a99e610d": {
          "model_module": "@jupyter-widgets/controls",
          "model_name": "FloatProgressModel",
          "model_module_version": "1.5.0",
          "state": {
            "_view_name": "ProgressView",
            "style": "IPY_MODEL_fd38a00be43e4ffe8678e2a120d57e23",
            "_dom_classes": [],
            "description": "Downloading: 100%",
            "_model_name": "FloatProgressModel",
            "bar_style": "success",
            "max": 1269737156,
            "_view_module": "@jupyter-widgets/controls",
            "_model_module_version": "1.5.0",
            "value": 1269737156,
            "_view_count": null,
            "_view_module_version": "1.5.0",
            "orientation": "horizontal",
            "min": 0,
            "description_tooltip": null,
            "_model_module": "@jupyter-widgets/controls",
            "layout": "IPY_MODEL_56ac1b4d000b4bf384739d7b43610883"
          }
        },
        "6683609fafe745fea502d53b5ac35e3c": {
          "model_module": "@jupyter-widgets/controls",
          "model_name": "HTMLModel",
          "model_module_version": "1.5.0",
          "state": {
            "_view_name": "HTMLView",
            "style": "IPY_MODEL_16047b7de9e4465fb992edb08566000d",
            "_dom_classes": [],
            "description": "",
            "_model_name": "HTMLModel",
            "placeholder": "​",
            "_view_module": "@jupyter-widgets/controls",
            "_model_module_version": "1.5.0",
            "value": " 1.27G/1.27G [00:48&lt;00:00, 26.1MB/s]",
            "_view_count": null,
            "_view_module_version": "1.5.0",
            "description_tooltip": null,
            "_model_module": "@jupyter-widgets/controls",
            "layout": "IPY_MODEL_3268c5871c9b424c9d0bd6165ced8b35"
          }
        },
        "fd38a00be43e4ffe8678e2a120d57e23": {
          "model_module": "@jupyter-widgets/controls",
          "model_name": "ProgressStyleModel",
          "model_module_version": "1.5.0",
          "state": {
            "_view_name": "StyleView",
            "_model_name": "ProgressStyleModel",
            "description_width": "initial",
            "_view_module": "@jupyter-widgets/base",
            "_model_module_version": "1.5.0",
            "_view_count": null,
            "_view_module_version": "1.2.0",
            "bar_color": null,
            "_model_module": "@jupyter-widgets/controls"
          }
        },
        "56ac1b4d000b4bf384739d7b43610883": {
          "model_module": "@jupyter-widgets/base",
          "model_name": "LayoutModel",
          "model_module_version": "1.2.0",
          "state": {
            "_view_name": "LayoutView",
            "grid_template_rows": null,
            "right": null,
            "justify_content": null,
            "_view_module": "@jupyter-widgets/base",
            "overflow": null,
            "_model_module_version": "1.2.0",
            "_view_count": null,
            "flex_flow": null,
            "width": null,
            "min_width": null,
            "border": null,
            "align_items": null,
            "bottom": null,
            "_model_module": "@jupyter-widgets/base",
            "top": null,
            "grid_column": null,
            "overflow_y": null,
            "overflow_x": null,
            "grid_auto_flow": null,
            "grid_area": null,
            "grid_template_columns": null,
            "flex": null,
            "_model_name": "LayoutModel",
            "justify_items": null,
            "grid_row": null,
            "max_height": null,
            "align_content": null,
            "visibility": null,
            "align_self": null,
            "height": null,
            "min_height": null,
            "padding": null,
            "grid_auto_rows": null,
            "grid_gap": null,
            "max_width": null,
            "order": null,
            "_view_module_version": "1.2.0",
            "grid_template_areas": null,
            "object_position": null,
            "object_fit": null,
            "grid_auto_columns": null,
            "margin": null,
            "display": null,
            "left": null
          }
        },
        "16047b7de9e4465fb992edb08566000d": {
          "model_module": "@jupyter-widgets/controls",
          "model_name": "DescriptionStyleModel",
          "model_module_version": "1.5.0",
          "state": {
            "_view_name": "StyleView",
            "_model_name": "DescriptionStyleModel",
            "description_width": "",
            "_view_module": "@jupyter-widgets/base",
            "_model_module_version": "1.5.0",
            "_view_count": null,
            "_view_module_version": "1.2.0",
            "_model_module": "@jupyter-widgets/controls"
          }
        },
        "3268c5871c9b424c9d0bd6165ced8b35": {
          "model_module": "@jupyter-widgets/base",
          "model_name": "LayoutModel",
          "model_module_version": "1.2.0",
          "state": {
            "_view_name": "LayoutView",
            "grid_template_rows": null,
            "right": null,
            "justify_content": null,
            "_view_module": "@jupyter-widgets/base",
            "overflow": null,
            "_model_module_version": "1.2.0",
            "_view_count": null,
            "flex_flow": null,
            "width": null,
            "min_width": null,
            "border": null,
            "align_items": null,
            "bottom": null,
            "_model_module": "@jupyter-widgets/base",
            "top": null,
            "grid_column": null,
            "overflow_y": null,
            "overflow_x": null,
            "grid_auto_flow": null,
            "grid_area": null,
            "grid_template_columns": null,
            "flex": null,
            "_model_name": "LayoutModel",
            "justify_items": null,
            "grid_row": null,
            "max_height": null,
            "align_content": null,
            "visibility": null,
            "align_self": null,
            "height": null,
            "min_height": null,
            "padding": null,
            "grid_auto_rows": null,
            "grid_gap": null,
            "max_width": null,
            "order": null,
            "_view_module_version": "1.2.0",
            "grid_template_areas": null,
            "object_position": null,
            "object_fit": null,
            "grid_auto_columns": null,
            "margin": null,
            "display": null,
            "left": null
          }
        },
        "2ededbae5ae74a0d89394e74ad1aecf7": {
          "model_module": "@jupyter-widgets/controls",
          "model_name": "HBoxModel",
          "model_module_version": "1.5.0",
          "state": {
            "_view_name": "HBoxView",
            "_dom_classes": [],
            "_model_name": "HBoxModel",
            "_view_module": "@jupyter-widgets/controls",
            "_model_module_version": "1.5.0",
            "_view_count": null,
            "_view_module_version": "1.5.0",
            "box_style": "",
            "layout": "IPY_MODEL_18af61d6970d4f409c41c58a659d5875",
            "_model_module": "@jupyter-widgets/controls",
            "children": [
              "IPY_MODEL_0ba3f2a092294216a009358c84d15293",
              "IPY_MODEL_4dcb007280ab4bcf9305af4a9eeae3f0"
            ]
          }
        },
        "18af61d6970d4f409c41c58a659d5875": {
          "model_module": "@jupyter-widgets/base",
          "model_name": "LayoutModel",
          "model_module_version": "1.2.0",
          "state": {
            "_view_name": "LayoutView",
            "grid_template_rows": null,
            "right": null,
            "justify_content": null,
            "_view_module": "@jupyter-widgets/base",
            "overflow": null,
            "_model_module_version": "1.2.0",
            "_view_count": null,
            "flex_flow": null,
            "width": null,
            "min_width": null,
            "border": null,
            "align_items": null,
            "bottom": null,
            "_model_module": "@jupyter-widgets/base",
            "top": null,
            "grid_column": null,
            "overflow_y": null,
            "overflow_x": null,
            "grid_auto_flow": null,
            "grid_area": null,
            "grid_template_columns": null,
            "flex": null,
            "_model_name": "LayoutModel",
            "justify_items": null,
            "grid_row": null,
            "max_height": null,
            "align_content": null,
            "visibility": null,
            "align_self": null,
            "height": null,
            "min_height": null,
            "padding": null,
            "grid_auto_rows": null,
            "grid_gap": null,
            "max_width": null,
            "order": null,
            "_view_module_version": "1.2.0",
            "grid_template_areas": null,
            "object_position": null,
            "object_fit": null,
            "grid_auto_columns": null,
            "margin": null,
            "display": null,
            "left": null
          }
        },
        "0ba3f2a092294216a009358c84d15293": {
          "model_module": "@jupyter-widgets/controls",
          "model_name": "FloatProgressModel",
          "model_module_version": "1.5.0",
          "state": {
            "_view_name": "ProgressView",
            "style": "IPY_MODEL_1b327db566f54d51a3648b28e8cb433f",
            "_dom_classes": [],
            "description": "Downloading: 100%",
            "_model_name": "FloatProgressModel",
            "bar_style": "success",
            "max": 1564,
            "_view_module": "@jupyter-widgets/controls",
            "_model_module_version": "1.5.0",
            "value": 1564,
            "_view_count": null,
            "_view_module_version": "1.5.0",
            "orientation": "horizontal",
            "min": 0,
            "description_tooltip": null,
            "_model_module": "@jupyter-widgets/controls",
            "layout": "IPY_MODEL_e9e8408c09a647b0bcd0e4fd6fc29478"
          }
        },
        "4dcb007280ab4bcf9305af4a9eeae3f0": {
          "model_module": "@jupyter-widgets/controls",
          "model_name": "HTMLModel",
          "model_module_version": "1.5.0",
          "state": {
            "_view_name": "HTMLView",
            "style": "IPY_MODEL_1717c3163af94ceb835ebd67557b9880",
            "_dom_classes": [],
            "description": "",
            "_model_name": "HTMLModel",
            "placeholder": "​",
            "_view_module": "@jupyter-widgets/controls",
            "_model_module_version": "1.5.0",
            "value": " 1.56k/1.56k [00:00&lt;00:00, 3.81kB/s]",
            "_view_count": null,
            "_view_module_version": "1.5.0",
            "description_tooltip": null,
            "_model_module": "@jupyter-widgets/controls",
            "layout": "IPY_MODEL_73cdfa11e2034978b18dfe9492b8319e"
          }
        },
        "1b327db566f54d51a3648b28e8cb433f": {
          "model_module": "@jupyter-widgets/controls",
          "model_name": "ProgressStyleModel",
          "model_module_version": "1.5.0",
          "state": {
            "_view_name": "StyleView",
            "_model_name": "ProgressStyleModel",
            "description_width": "initial",
            "_view_module": "@jupyter-widgets/base",
            "_model_module_version": "1.5.0",
            "_view_count": null,
            "_view_module_version": "1.2.0",
            "bar_color": null,
            "_model_module": "@jupyter-widgets/controls"
          }
        },
        "e9e8408c09a647b0bcd0e4fd6fc29478": {
          "model_module": "@jupyter-widgets/base",
          "model_name": "LayoutModel",
          "model_module_version": "1.2.0",
          "state": {
            "_view_name": "LayoutView",
            "grid_template_rows": null,
            "right": null,
            "justify_content": null,
            "_view_module": "@jupyter-widgets/base",
            "overflow": null,
            "_model_module_version": "1.2.0",
            "_view_count": null,
            "flex_flow": null,
            "width": null,
            "min_width": null,
            "border": null,
            "align_items": null,
            "bottom": null,
            "_model_module": "@jupyter-widgets/base",
            "top": null,
            "grid_column": null,
            "overflow_y": null,
            "overflow_x": null,
            "grid_auto_flow": null,
            "grid_area": null,
            "grid_template_columns": null,
            "flex": null,
            "_model_name": "LayoutModel",
            "justify_items": null,
            "grid_row": null,
            "max_height": null,
            "align_content": null,
            "visibility": null,
            "align_self": null,
            "height": null,
            "min_height": null,
            "padding": null,
            "grid_auto_rows": null,
            "grid_gap": null,
            "max_width": null,
            "order": null,
            "_view_module_version": "1.2.0",
            "grid_template_areas": null,
            "object_position": null,
            "object_fit": null,
            "grid_auto_columns": null,
            "margin": null,
            "display": null,
            "left": null
          }
        },
        "1717c3163af94ceb835ebd67557b9880": {
          "model_module": "@jupyter-widgets/controls",
          "model_name": "DescriptionStyleModel",
          "model_module_version": "1.5.0",
          "state": {
            "_view_name": "StyleView",
            "_model_name": "DescriptionStyleModel",
            "description_width": "",
            "_view_module": "@jupyter-widgets/base",
            "_model_module_version": "1.5.0",
            "_view_count": null,
            "_view_module_version": "1.2.0",
            "_model_module": "@jupyter-widgets/controls"
          }
        },
        "73cdfa11e2034978b18dfe9492b8319e": {
          "model_module": "@jupyter-widgets/base",
          "model_name": "LayoutModel",
          "model_module_version": "1.2.0",
          "state": {
            "_view_name": "LayoutView",
            "grid_template_rows": null,
            "right": null,
            "justify_content": null,
            "_view_module": "@jupyter-widgets/base",
            "overflow": null,
            "_model_module_version": "1.2.0",
            "_view_count": null,
            "flex_flow": null,
            "width": null,
            "min_width": null,
            "border": null,
            "align_items": null,
            "bottom": null,
            "_model_module": "@jupyter-widgets/base",
            "top": null,
            "grid_column": null,
            "overflow_y": null,
            "overflow_x": null,
            "grid_auto_flow": null,
            "grid_area": null,
            "grid_template_columns": null,
            "flex": null,
            "_model_name": "LayoutModel",
            "justify_items": null,
            "grid_row": null,
            "max_height": null,
            "align_content": null,
            "visibility": null,
            "align_self": null,
            "height": null,
            "min_height": null,
            "padding": null,
            "grid_auto_rows": null,
            "grid_gap": null,
            "max_width": null,
            "order": null,
            "_view_module_version": "1.2.0",
            "grid_template_areas": null,
            "object_position": null,
            "object_fit": null,
            "grid_auto_columns": null,
            "margin": null,
            "display": null,
            "left": null
          }
        },
        "5f107e1fe79a48f2934c55e1099ba38a": {
          "model_module": "@jupyter-widgets/controls",
          "model_name": "HBoxModel",
          "model_module_version": "1.5.0",
          "state": {
            "_view_name": "HBoxView",
            "_dom_classes": [],
            "_model_name": "HBoxModel",
            "_view_module": "@jupyter-widgets/controls",
            "_model_module_version": "1.5.0",
            "_view_count": null,
            "_view_module_version": "1.5.0",
            "box_style": "",
            "layout": "IPY_MODEL_e47cdcb03dc245268b3ff9cd491c65ee",
            "_model_module": "@jupyter-widgets/controls",
            "children": [
              "IPY_MODEL_bb9e0266e00c410c87e06dfc8c2f6923",
              "IPY_MODEL_554d90e0bb4d4f26ae2cfe59de2e0580"
            ]
          }
        },
        "e47cdcb03dc245268b3ff9cd491c65ee": {
          "model_module": "@jupyter-widgets/base",
          "model_name": "LayoutModel",
          "model_module_version": "1.2.0",
          "state": {
            "_view_name": "LayoutView",
            "grid_template_rows": null,
            "right": null,
            "justify_content": null,
            "_view_module": "@jupyter-widgets/base",
            "overflow": null,
            "_model_module_version": "1.2.0",
            "_view_count": null,
            "flex_flow": null,
            "width": null,
            "min_width": null,
            "border": null,
            "align_items": null,
            "bottom": null,
            "_model_module": "@jupyter-widgets/base",
            "top": null,
            "grid_column": null,
            "overflow_y": null,
            "overflow_x": null,
            "grid_auto_flow": null,
            "grid_area": null,
            "grid_template_columns": null,
            "flex": null,
            "_model_name": "LayoutModel",
            "justify_items": null,
            "grid_row": null,
            "max_height": null,
            "align_content": null,
            "visibility": null,
            "align_self": null,
            "height": null,
            "min_height": null,
            "padding": null,
            "grid_auto_rows": null,
            "grid_gap": null,
            "max_width": null,
            "order": null,
            "_view_module_version": "1.2.0",
            "grid_template_areas": null,
            "object_position": null,
            "object_fit": null,
            "grid_auto_columns": null,
            "margin": null,
            "display": null,
            "left": null
          }
        },
        "bb9e0266e00c410c87e06dfc8c2f6923": {
          "model_module": "@jupyter-widgets/controls",
          "model_name": "FloatProgressModel",
          "model_module_version": "1.5.0",
          "state": {
            "_view_name": "ProgressView",
            "style": "IPY_MODEL_986079d77c344691a89530c22eee2097",
            "_dom_classes": [],
            "description": "Downloading: 100%",
            "_model_name": "FloatProgressModel",
            "bar_style": "success",
            "max": 1262085527,
            "_view_module": "@jupyter-widgets/controls",
            "_model_module_version": "1.5.0",
            "value": 1262085527,
            "_view_count": null,
            "_view_module_version": "1.5.0",
            "orientation": "horizontal",
            "min": 0,
            "description_tooltip": null,
            "_model_module": "@jupyter-widgets/controls",
            "layout": "IPY_MODEL_b3cbf6724eb843ce9dc63de56565fd1c"
          }
        },
        "554d90e0bb4d4f26ae2cfe59de2e0580": {
          "model_module": "@jupyter-widgets/controls",
          "model_name": "HTMLModel",
          "model_module_version": "1.5.0",
          "state": {
            "_view_name": "HTMLView",
            "style": "IPY_MODEL_ea4cfcf87fbc45a28743ec01e0aea3ba",
            "_dom_classes": [],
            "description": "",
            "_model_name": "HTMLModel",
            "placeholder": "​",
            "_view_module": "@jupyter-widgets/controls",
            "_model_module_version": "1.5.0",
            "value": " 1.26G/1.26G [00:38&lt;00:00, 32.4MB/s]",
            "_view_count": null,
            "_view_module_version": "1.5.0",
            "description_tooltip": null,
            "_model_module": "@jupyter-widgets/controls",
            "layout": "IPY_MODEL_7364a455a4354cbe93399ca04fc76280"
          }
        },
        "986079d77c344691a89530c22eee2097": {
          "model_module": "@jupyter-widgets/controls",
          "model_name": "ProgressStyleModel",
          "model_module_version": "1.5.0",
          "state": {
            "_view_name": "StyleView",
            "_model_name": "ProgressStyleModel",
            "description_width": "initial",
            "_view_module": "@jupyter-widgets/base",
            "_model_module_version": "1.5.0",
            "_view_count": null,
            "_view_module_version": "1.2.0",
            "bar_color": null,
            "_model_module": "@jupyter-widgets/controls"
          }
        },
        "b3cbf6724eb843ce9dc63de56565fd1c": {
          "model_module": "@jupyter-widgets/base",
          "model_name": "LayoutModel",
          "model_module_version": "1.2.0",
          "state": {
            "_view_name": "LayoutView",
            "grid_template_rows": null,
            "right": null,
            "justify_content": null,
            "_view_module": "@jupyter-widgets/base",
            "overflow": null,
            "_model_module_version": "1.2.0",
            "_view_count": null,
            "flex_flow": null,
            "width": null,
            "min_width": null,
            "border": null,
            "align_items": null,
            "bottom": null,
            "_model_module": "@jupyter-widgets/base",
            "top": null,
            "grid_column": null,
            "overflow_y": null,
            "overflow_x": null,
            "grid_auto_flow": null,
            "grid_area": null,
            "grid_template_columns": null,
            "flex": null,
            "_model_name": "LayoutModel",
            "justify_items": null,
            "grid_row": null,
            "max_height": null,
            "align_content": null,
            "visibility": null,
            "align_self": null,
            "height": null,
            "min_height": null,
            "padding": null,
            "grid_auto_rows": null,
            "grid_gap": null,
            "max_width": null,
            "order": null,
            "_view_module_version": "1.2.0",
            "grid_template_areas": null,
            "object_position": null,
            "object_fit": null,
            "grid_auto_columns": null,
            "margin": null,
            "display": null,
            "left": null
          }
        },
        "ea4cfcf87fbc45a28743ec01e0aea3ba": {
          "model_module": "@jupyter-widgets/controls",
          "model_name": "DescriptionStyleModel",
          "model_module_version": "1.5.0",
          "state": {
            "_view_name": "StyleView",
            "_model_name": "DescriptionStyleModel",
            "description_width": "",
            "_view_module": "@jupyter-widgets/base",
            "_model_module_version": "1.5.0",
            "_view_count": null,
            "_view_module_version": "1.2.0",
            "_model_module": "@jupyter-widgets/controls"
          }
        },
        "7364a455a4354cbe93399ca04fc76280": {
          "model_module": "@jupyter-widgets/base",
          "model_name": "LayoutModel",
          "model_module_version": "1.2.0",
          "state": {
            "_view_name": "LayoutView",
            "grid_template_rows": null,
            "right": null,
            "justify_content": null,
            "_view_module": "@jupyter-widgets/base",
            "overflow": null,
            "_model_module_version": "1.2.0",
            "_view_count": null,
            "flex_flow": null,
            "width": null,
            "min_width": null,
            "border": null,
            "align_items": null,
            "bottom": null,
            "_model_module": "@jupyter-widgets/base",
            "top": null,
            "grid_column": null,
            "overflow_y": null,
            "overflow_x": null,
            "grid_auto_flow": null,
            "grid_area": null,
            "grid_template_columns": null,
            "flex": null,
            "_model_name": "LayoutModel",
            "justify_items": null,
            "grid_row": null,
            "max_height": null,
            "align_content": null,
            "visibility": null,
            "align_self": null,
            "height": null,
            "min_height": null,
            "padding": null,
            "grid_auto_rows": null,
            "grid_gap": null,
            "max_width": null,
            "order": null,
            "_view_module_version": "1.2.0",
            "grid_template_areas": null,
            "object_position": null,
            "object_fit": null,
            "grid_auto_columns": null,
            "margin": null,
            "display": null,
            "left": null
          }
        },
        "9e8f87f416934e489275d70958b5827b": {
          "model_module": "@jupyter-widgets/controls",
          "model_name": "HBoxModel",
          "model_module_version": "1.5.0",
          "state": {
            "_view_name": "HBoxView",
            "_dom_classes": [],
            "_model_name": "HBoxModel",
            "_view_module": "@jupyter-widgets/controls",
            "_model_module_version": "1.5.0",
            "_view_count": null,
            "_view_module_version": "1.5.0",
            "box_style": "",
            "layout": "IPY_MODEL_41b55e0c8edb454d80a09237981cd27b",
            "_model_module": "@jupyter-widgets/controls",
            "children": [
              "IPY_MODEL_cc7ce23b211f4d1c96dd25b961f01ac2",
              "IPY_MODEL_162a32f6d854444681d1820929415f3a"
            ]
          }
        },
        "41b55e0c8edb454d80a09237981cd27b": {
          "model_module": "@jupyter-widgets/base",
          "model_name": "LayoutModel",
          "model_module_version": "1.2.0",
          "state": {
            "_view_name": "LayoutView",
            "grid_template_rows": null,
            "right": null,
            "justify_content": null,
            "_view_module": "@jupyter-widgets/base",
            "overflow": null,
            "_model_module_version": "1.2.0",
            "_view_count": null,
            "flex_flow": null,
            "width": null,
            "min_width": null,
            "border": null,
            "align_items": null,
            "bottom": null,
            "_model_module": "@jupyter-widgets/base",
            "top": null,
            "grid_column": null,
            "overflow_y": null,
            "overflow_x": null,
            "grid_auto_flow": null,
            "grid_area": null,
            "grid_template_columns": null,
            "flex": null,
            "_model_name": "LayoutModel",
            "justify_items": null,
            "grid_row": null,
            "max_height": null,
            "align_content": null,
            "visibility": null,
            "align_self": null,
            "height": null,
            "min_height": null,
            "padding": null,
            "grid_auto_rows": null,
            "grid_gap": null,
            "max_width": null,
            "order": null,
            "_view_module_version": "1.2.0",
            "grid_template_areas": null,
            "object_position": null,
            "object_fit": null,
            "grid_auto_columns": null,
            "margin": null,
            "display": null,
            "left": null
          }
        },
        "cc7ce23b211f4d1c96dd25b961f01ac2": {
          "model_module": "@jupyter-widgets/controls",
          "model_name": "FloatProgressModel",
          "model_module_version": "1.5.0",
          "state": {
            "_view_name": "ProgressView",
            "style": "IPY_MODEL_54757a27608144c78869cfe7cdd6725b",
            "_dom_classes": [],
            "description": "Downloading: 100%",
            "_model_name": "FloatProgressModel",
            "bar_style": "success",
            "max": 158,
            "_view_module": "@jupyter-widgets/controls",
            "_model_module_version": "1.5.0",
            "value": 158,
            "_view_count": null,
            "_view_module_version": "1.5.0",
            "orientation": "horizontal",
            "min": 0,
            "description_tooltip": null,
            "_model_module": "@jupyter-widgets/controls",
            "layout": "IPY_MODEL_900683e460d6497a9dd9c57b7d2f9cca"
          }
        },
        "162a32f6d854444681d1820929415f3a": {
          "model_module": "@jupyter-widgets/controls",
          "model_name": "HTMLModel",
          "model_module_version": "1.5.0",
          "state": {
            "_view_name": "HTMLView",
            "style": "IPY_MODEL_abbfee6644544a26953410e7c77080ac",
            "_dom_classes": [],
            "description": "",
            "_model_name": "HTMLModel",
            "placeholder": "​",
            "_view_module": "@jupyter-widgets/controls",
            "_model_module_version": "1.5.0",
            "value": " 158/158 [00:00&lt;00:00, 463B/s]",
            "_view_count": null,
            "_view_module_version": "1.5.0",
            "description_tooltip": null,
            "_model_module": "@jupyter-widgets/controls",
            "layout": "IPY_MODEL_d55d5507278246a9b372e3988ac2319c"
          }
        },
        "54757a27608144c78869cfe7cdd6725b": {
          "model_module": "@jupyter-widgets/controls",
          "model_name": "ProgressStyleModel",
          "model_module_version": "1.5.0",
          "state": {
            "_view_name": "StyleView",
            "_model_name": "ProgressStyleModel",
            "description_width": "initial",
            "_view_module": "@jupyter-widgets/base",
            "_model_module_version": "1.5.0",
            "_view_count": null,
            "_view_module_version": "1.2.0",
            "bar_color": null,
            "_model_module": "@jupyter-widgets/controls"
          }
        },
        "900683e460d6497a9dd9c57b7d2f9cca": {
          "model_module": "@jupyter-widgets/base",
          "model_name": "LayoutModel",
          "model_module_version": "1.2.0",
          "state": {
            "_view_name": "LayoutView",
            "grid_template_rows": null,
            "right": null,
            "justify_content": null,
            "_view_module": "@jupyter-widgets/base",
            "overflow": null,
            "_model_module_version": "1.2.0",
            "_view_count": null,
            "flex_flow": null,
            "width": null,
            "min_width": null,
            "border": null,
            "align_items": null,
            "bottom": null,
            "_model_module": "@jupyter-widgets/base",
            "top": null,
            "grid_column": null,
            "overflow_y": null,
            "overflow_x": null,
            "grid_auto_flow": null,
            "grid_area": null,
            "grid_template_columns": null,
            "flex": null,
            "_model_name": "LayoutModel",
            "justify_items": null,
            "grid_row": null,
            "max_height": null,
            "align_content": null,
            "visibility": null,
            "align_self": null,
            "height": null,
            "min_height": null,
            "padding": null,
            "grid_auto_rows": null,
            "grid_gap": null,
            "max_width": null,
            "order": null,
            "_view_module_version": "1.2.0",
            "grid_template_areas": null,
            "object_position": null,
            "object_fit": null,
            "grid_auto_columns": null,
            "margin": null,
            "display": null,
            "left": null
          }
        },
        "abbfee6644544a26953410e7c77080ac": {
          "model_module": "@jupyter-widgets/controls",
          "model_name": "DescriptionStyleModel",
          "model_module_version": "1.5.0",
          "state": {
            "_view_name": "StyleView",
            "_model_name": "DescriptionStyleModel",
            "description_width": "",
            "_view_module": "@jupyter-widgets/base",
            "_model_module_version": "1.5.0",
            "_view_count": null,
            "_view_module_version": "1.2.0",
            "_model_module": "@jupyter-widgets/controls"
          }
        },
        "d55d5507278246a9b372e3988ac2319c": {
          "model_module": "@jupyter-widgets/base",
          "model_name": "LayoutModel",
          "model_module_version": "1.2.0",
          "state": {
            "_view_name": "LayoutView",
            "grid_template_rows": null,
            "right": null,
            "justify_content": null,
            "_view_module": "@jupyter-widgets/base",
            "overflow": null,
            "_model_module_version": "1.2.0",
            "_view_count": null,
            "flex_flow": null,
            "width": null,
            "min_width": null,
            "border": null,
            "align_items": null,
            "bottom": null,
            "_model_module": "@jupyter-widgets/base",
            "top": null,
            "grid_column": null,
            "overflow_y": null,
            "overflow_x": null,
            "grid_auto_flow": null,
            "grid_area": null,
            "grid_template_columns": null,
            "flex": null,
            "_model_name": "LayoutModel",
            "justify_items": null,
            "grid_row": null,
            "max_height": null,
            "align_content": null,
            "visibility": null,
            "align_self": null,
            "height": null,
            "min_height": null,
            "padding": null,
            "grid_auto_rows": null,
            "grid_gap": null,
            "max_width": null,
            "order": null,
            "_view_module_version": "1.2.0",
            "grid_template_areas": null,
            "object_position": null,
            "object_fit": null,
            "grid_auto_columns": null,
            "margin": null,
            "display": null,
            "left": null
          }
        },
        "773d73b695304fb2ac767a409d1e869f": {
          "model_module": "@jupyter-widgets/controls",
          "model_name": "HBoxModel",
          "model_module_version": "1.5.0",
          "state": {
            "_view_name": "HBoxView",
            "_dom_classes": [],
            "_model_name": "HBoxModel",
            "_view_module": "@jupyter-widgets/controls",
            "_model_module_version": "1.5.0",
            "_view_count": null,
            "_view_module_version": "1.5.0",
            "box_style": "",
            "layout": "IPY_MODEL_66d5560f5ef04f0199878fb794943e16",
            "_model_module": "@jupyter-widgets/controls",
            "children": [
              "IPY_MODEL_22065009670048ebb68801ac0b57dcf3",
              "IPY_MODEL_bfa895a400904e4cb1be941c5f317d33"
            ]
          }
        },
        "66d5560f5ef04f0199878fb794943e16": {
          "model_module": "@jupyter-widgets/base",
          "model_name": "LayoutModel",
          "model_module_version": "1.2.0",
          "state": {
            "_view_name": "LayoutView",
            "grid_template_rows": null,
            "right": null,
            "justify_content": null,
            "_view_module": "@jupyter-widgets/base",
            "overflow": null,
            "_model_module_version": "1.2.0",
            "_view_count": null,
            "flex_flow": null,
            "width": null,
            "min_width": null,
            "border": null,
            "align_items": null,
            "bottom": null,
            "_model_module": "@jupyter-widgets/base",
            "top": null,
            "grid_column": null,
            "overflow_y": null,
            "overflow_x": null,
            "grid_auto_flow": null,
            "grid_area": null,
            "grid_template_columns": null,
            "flex": null,
            "_model_name": "LayoutModel",
            "justify_items": null,
            "grid_row": null,
            "max_height": null,
            "align_content": null,
            "visibility": null,
            "align_self": null,
            "height": null,
            "min_height": null,
            "padding": null,
            "grid_auto_rows": null,
            "grid_gap": null,
            "max_width": null,
            "order": null,
            "_view_module_version": "1.2.0",
            "grid_template_areas": null,
            "object_position": null,
            "object_fit": null,
            "grid_auto_columns": null,
            "margin": null,
            "display": null,
            "left": null
          }
        },
        "22065009670048ebb68801ac0b57dcf3": {
          "model_module": "@jupyter-widgets/controls",
          "model_name": "FloatProgressModel",
          "model_module_version": "1.5.0",
          "state": {
            "_view_name": "ProgressView",
            "style": "IPY_MODEL_34457e1042d249febf936f98a427f8bb",
            "_dom_classes": [],
            "description": "Downloading: 100%",
            "_model_name": "FloatProgressModel",
            "bar_style": "success",
            "max": 365,
            "_view_module": "@jupyter-widgets/controls",
            "_model_module_version": "1.5.0",
            "value": 365,
            "_view_count": null,
            "_view_module_version": "1.5.0",
            "orientation": "horizontal",
            "min": 0,
            "description_tooltip": null,
            "_model_module": "@jupyter-widgets/controls",
            "layout": "IPY_MODEL_6b3df951317c457188500857b3f11e79"
          }
        },
        "bfa895a400904e4cb1be941c5f317d33": {
          "model_module": "@jupyter-widgets/controls",
          "model_name": "HTMLModel",
          "model_module_version": "1.5.0",
          "state": {
            "_view_name": "HTMLView",
            "style": "IPY_MODEL_09f9e9072c33445480a157b139114407",
            "_dom_classes": [],
            "description": "",
            "_model_name": "HTMLModel",
            "placeholder": "​",
            "_view_module": "@jupyter-widgets/controls",
            "_model_module_version": "1.5.0",
            "value": " 365/365 [00:00&lt;00:00, 8.74kB/s]",
            "_view_count": null,
            "_view_module_version": "1.5.0",
            "description_tooltip": null,
            "_model_module": "@jupyter-widgets/controls",
            "layout": "IPY_MODEL_5c28113c652540adb9e29f1cd0a60b10"
          }
        },
        "34457e1042d249febf936f98a427f8bb": {
          "model_module": "@jupyter-widgets/controls",
          "model_name": "ProgressStyleModel",
          "model_module_version": "1.5.0",
          "state": {
            "_view_name": "StyleView",
            "_model_name": "ProgressStyleModel",
            "description_width": "initial",
            "_view_module": "@jupyter-widgets/base",
            "_model_module_version": "1.5.0",
            "_view_count": null,
            "_view_module_version": "1.2.0",
            "bar_color": null,
            "_model_module": "@jupyter-widgets/controls"
          }
        },
        "6b3df951317c457188500857b3f11e79": {
          "model_module": "@jupyter-widgets/base",
          "model_name": "LayoutModel",
          "model_module_version": "1.2.0",
          "state": {
            "_view_name": "LayoutView",
            "grid_template_rows": null,
            "right": null,
            "justify_content": null,
            "_view_module": "@jupyter-widgets/base",
            "overflow": null,
            "_model_module_version": "1.2.0",
            "_view_count": null,
            "flex_flow": null,
            "width": null,
            "min_width": null,
            "border": null,
            "align_items": null,
            "bottom": null,
            "_model_module": "@jupyter-widgets/base",
            "top": null,
            "grid_column": null,
            "overflow_y": null,
            "overflow_x": null,
            "grid_auto_flow": null,
            "grid_area": null,
            "grid_template_columns": null,
            "flex": null,
            "_model_name": "LayoutModel",
            "justify_items": null,
            "grid_row": null,
            "max_height": null,
            "align_content": null,
            "visibility": null,
            "align_self": null,
            "height": null,
            "min_height": null,
            "padding": null,
            "grid_auto_rows": null,
            "grid_gap": null,
            "max_width": null,
            "order": null,
            "_view_module_version": "1.2.0",
            "grid_template_areas": null,
            "object_position": null,
            "object_fit": null,
            "grid_auto_columns": null,
            "margin": null,
            "display": null,
            "left": null
          }
        },
        "09f9e9072c33445480a157b139114407": {
          "model_module": "@jupyter-widgets/controls",
          "model_name": "DescriptionStyleModel",
          "model_module_version": "1.5.0",
          "state": {
            "_view_name": "StyleView",
            "_model_name": "DescriptionStyleModel",
            "description_width": "",
            "_view_module": "@jupyter-widgets/base",
            "_model_module_version": "1.5.0",
            "_view_count": null,
            "_view_module_version": "1.2.0",
            "_model_module": "@jupyter-widgets/controls"
          }
        },
        "5c28113c652540adb9e29f1cd0a60b10": {
          "model_module": "@jupyter-widgets/base",
          "model_name": "LayoutModel",
          "model_module_version": "1.2.0",
          "state": {
            "_view_name": "LayoutView",
            "grid_template_rows": null,
            "right": null,
            "justify_content": null,
            "_view_module": "@jupyter-widgets/base",
            "overflow": null,
            "_model_module_version": "1.2.0",
            "_view_count": null,
            "flex_flow": null,
            "width": null,
            "min_width": null,
            "border": null,
            "align_items": null,
            "bottom": null,
            "_model_module": "@jupyter-widgets/base",
            "top": null,
            "grid_column": null,
            "overflow_y": null,
            "overflow_x": null,
            "grid_auto_flow": null,
            "grid_area": null,
            "grid_template_columns": null,
            "flex": null,
            "_model_name": "LayoutModel",
            "justify_items": null,
            "grid_row": null,
            "max_height": null,
            "align_content": null,
            "visibility": null,
            "align_self": null,
            "height": null,
            "min_height": null,
            "padding": null,
            "grid_auto_rows": null,
            "grid_gap": null,
            "max_width": null,
            "order": null,
            "_view_module_version": "1.2.0",
            "grid_template_areas": null,
            "object_position": null,
            "object_fit": null,
            "grid_auto_columns": null,
            "margin": null,
            "display": null,
            "left": null
          }
        },
        "380eae56bdec43bfa74090ab554e248f": {
          "model_module": "@jupyter-widgets/controls",
          "model_name": "HBoxModel",
          "model_module_version": "1.5.0",
          "state": {
            "_view_name": "HBoxView",
            "_dom_classes": [],
            "_model_name": "HBoxModel",
            "_view_module": "@jupyter-widgets/controls",
            "_model_module_version": "1.5.0",
            "_view_count": null,
            "_view_module_version": "1.5.0",
            "box_style": "",
            "layout": "IPY_MODEL_216e7fa26c92441eb96d3ba56eced710",
            "_model_module": "@jupyter-widgets/controls",
            "children": [
              "IPY_MODEL_9085459532dc453fbf0ea4af6b70d27a",
              "IPY_MODEL_04e97428f31d465d8960fafac1862005"
            ]
          }
        },
        "216e7fa26c92441eb96d3ba56eced710": {
          "model_module": "@jupyter-widgets/base",
          "model_name": "LayoutModel",
          "model_module_version": "1.2.0",
          "state": {
            "_view_name": "LayoutView",
            "grid_template_rows": null,
            "right": null,
            "justify_content": null,
            "_view_module": "@jupyter-widgets/base",
            "overflow": null,
            "_model_module_version": "1.2.0",
            "_view_count": null,
            "flex_flow": null,
            "width": null,
            "min_width": null,
            "border": null,
            "align_items": null,
            "bottom": null,
            "_model_module": "@jupyter-widgets/base",
            "top": null,
            "grid_column": null,
            "overflow_y": null,
            "overflow_x": null,
            "grid_auto_flow": null,
            "grid_area": null,
            "grid_template_columns": null,
            "flex": null,
            "_model_name": "LayoutModel",
            "justify_items": null,
            "grid_row": null,
            "max_height": null,
            "align_content": null,
            "visibility": null,
            "align_self": null,
            "height": null,
            "min_height": null,
            "padding": null,
            "grid_auto_rows": null,
            "grid_gap": null,
            "max_width": null,
            "order": null,
            "_view_module_version": "1.2.0",
            "grid_template_areas": null,
            "object_position": null,
            "object_fit": null,
            "grid_auto_columns": null,
            "margin": null,
            "display": null,
            "left": null
          }
        },
        "9085459532dc453fbf0ea4af6b70d27a": {
          "model_module": "@jupyter-widgets/controls",
          "model_name": "FloatProgressModel",
          "model_module_version": "1.5.0",
          "state": {
            "_view_name": "ProgressView",
            "style": "IPY_MODEL_42338377ec884bcfa2ee10d08824dc7d",
            "_dom_classes": [],
            "description": "Downloading: 100%",
            "_model_name": "FloatProgressModel",
            "bar_style": "success",
            "max": 138,
            "_view_module": "@jupyter-widgets/controls",
            "_model_module_version": "1.5.0",
            "value": 138,
            "_view_count": null,
            "_view_module_version": "1.5.0",
            "orientation": "horizontal",
            "min": 0,
            "description_tooltip": null,
            "_model_module": "@jupyter-widgets/controls",
            "layout": "IPY_MODEL_b6c42617793d4918a13d3e33632dd52b"
          }
        },
        "04e97428f31d465d8960fafac1862005": {
          "model_module": "@jupyter-widgets/controls",
          "model_name": "HTMLModel",
          "model_module_version": "1.5.0",
          "state": {
            "_view_name": "HTMLView",
            "style": "IPY_MODEL_d39be11376684998baf3bada9475684f",
            "_dom_classes": [],
            "description": "",
            "_model_name": "HTMLModel",
            "placeholder": "​",
            "_view_module": "@jupyter-widgets/controls",
            "_model_module_version": "1.5.0",
            "value": " 138/138 [00:01&lt;00:00, 132B/s]",
            "_view_count": null,
            "_view_module_version": "1.5.0",
            "description_tooltip": null,
            "_model_module": "@jupyter-widgets/controls",
            "layout": "IPY_MODEL_6ce1f852466c4fcfb10f42bfc6876cc2"
          }
        },
        "42338377ec884bcfa2ee10d08824dc7d": {
          "model_module": "@jupyter-widgets/controls",
          "model_name": "ProgressStyleModel",
          "model_module_version": "1.5.0",
          "state": {
            "_view_name": "StyleView",
            "_model_name": "ProgressStyleModel",
            "description_width": "initial",
            "_view_module": "@jupyter-widgets/base",
            "_model_module_version": "1.5.0",
            "_view_count": null,
            "_view_module_version": "1.2.0",
            "bar_color": null,
            "_model_module": "@jupyter-widgets/controls"
          }
        },
        "b6c42617793d4918a13d3e33632dd52b": {
          "model_module": "@jupyter-widgets/base",
          "model_name": "LayoutModel",
          "model_module_version": "1.2.0",
          "state": {
            "_view_name": "LayoutView",
            "grid_template_rows": null,
            "right": null,
            "justify_content": null,
            "_view_module": "@jupyter-widgets/base",
            "overflow": null,
            "_model_module_version": "1.2.0",
            "_view_count": null,
            "flex_flow": null,
            "width": null,
            "min_width": null,
            "border": null,
            "align_items": null,
            "bottom": null,
            "_model_module": "@jupyter-widgets/base",
            "top": null,
            "grid_column": null,
            "overflow_y": null,
            "overflow_x": null,
            "grid_auto_flow": null,
            "grid_area": null,
            "grid_template_columns": null,
            "flex": null,
            "_model_name": "LayoutModel",
            "justify_items": null,
            "grid_row": null,
            "max_height": null,
            "align_content": null,
            "visibility": null,
            "align_self": null,
            "height": null,
            "min_height": null,
            "padding": null,
            "grid_auto_rows": null,
            "grid_gap": null,
            "max_width": null,
            "order": null,
            "_view_module_version": "1.2.0",
            "grid_template_areas": null,
            "object_position": null,
            "object_fit": null,
            "grid_auto_columns": null,
            "margin": null,
            "display": null,
            "left": null
          }
        },
        "d39be11376684998baf3bada9475684f": {
          "model_module": "@jupyter-widgets/controls",
          "model_name": "DescriptionStyleModel",
          "model_module_version": "1.5.0",
          "state": {
            "_view_name": "StyleView",
            "_model_name": "DescriptionStyleModel",
            "description_width": "",
            "_view_module": "@jupyter-widgets/base",
            "_model_module_version": "1.5.0",
            "_view_count": null,
            "_view_module_version": "1.2.0",
            "_model_module": "@jupyter-widgets/controls"
          }
        },
        "6ce1f852466c4fcfb10f42bfc6876cc2": {
          "model_module": "@jupyter-widgets/base",
          "model_name": "LayoutModel",
          "model_module_version": "1.2.0",
          "state": {
            "_view_name": "LayoutView",
            "grid_template_rows": null,
            "right": null,
            "justify_content": null,
            "_view_module": "@jupyter-widgets/base",
            "overflow": null,
            "_model_module_version": "1.2.0",
            "_view_count": null,
            "flex_flow": null,
            "width": null,
            "min_width": null,
            "border": null,
            "align_items": null,
            "bottom": null,
            "_model_module": "@jupyter-widgets/base",
            "top": null,
            "grid_column": null,
            "overflow_y": null,
            "overflow_x": null,
            "grid_auto_flow": null,
            "grid_area": null,
            "grid_template_columns": null,
            "flex": null,
            "_model_name": "LayoutModel",
            "justify_items": null,
            "grid_row": null,
            "max_height": null,
            "align_content": null,
            "visibility": null,
            "align_self": null,
            "height": null,
            "min_height": null,
            "padding": null,
            "grid_auto_rows": null,
            "grid_gap": null,
            "max_width": null,
            "order": null,
            "_view_module_version": "1.2.0",
            "grid_template_areas": null,
            "object_position": null,
            "object_fit": null,
            "grid_auto_columns": null,
            "margin": null,
            "display": null,
            "left": null
          }
        },
        "301248d9a4cc4ae08b51ebe18a32f5f8": {
          "model_module": "@jupyter-widgets/controls",
          "model_name": "HBoxModel",
          "model_module_version": "1.5.0",
          "state": {
            "_view_name": "HBoxView",
            "_dom_classes": [],
            "_model_name": "HBoxModel",
            "_view_module": "@jupyter-widgets/controls",
            "_model_module_version": "1.5.0",
            "_view_count": null,
            "_view_module_version": "1.5.0",
            "box_style": "",
            "layout": "IPY_MODEL_cf4aff08b5f441bda5166acf569adea9",
            "_model_module": "@jupyter-widgets/controls",
            "children": [
              "IPY_MODEL_b9a1d5ef54004eb6911c2bb02663e9b8",
              "IPY_MODEL_77a105a6214745b9ba9641a49a283f7e"
            ]
          }
        },
        "cf4aff08b5f441bda5166acf569adea9": {
          "model_module": "@jupyter-widgets/base",
          "model_name": "LayoutModel",
          "model_module_version": "1.2.0",
          "state": {
            "_view_name": "LayoutView",
            "grid_template_rows": null,
            "right": null,
            "justify_content": null,
            "_view_module": "@jupyter-widgets/base",
            "overflow": null,
            "_model_module_version": "1.2.0",
            "_view_count": null,
            "flex_flow": null,
            "width": null,
            "min_width": null,
            "border": null,
            "align_items": null,
            "bottom": null,
            "_model_module": "@jupyter-widgets/base",
            "top": null,
            "grid_column": null,
            "overflow_y": null,
            "overflow_x": null,
            "grid_auto_flow": null,
            "grid_area": null,
            "grid_template_columns": null,
            "flex": null,
            "_model_name": "LayoutModel",
            "justify_items": null,
            "grid_row": null,
            "max_height": null,
            "align_content": null,
            "visibility": null,
            "align_self": null,
            "height": null,
            "min_height": null,
            "padding": null,
            "grid_auto_rows": null,
            "grid_gap": null,
            "max_width": null,
            "order": null,
            "_view_module_version": "1.2.0",
            "grid_template_areas": null,
            "object_position": null,
            "object_fit": null,
            "grid_auto_columns": null,
            "margin": null,
            "display": null,
            "left": null
          }
        },
        "b9a1d5ef54004eb6911c2bb02663e9b8": {
          "model_module": "@jupyter-widgets/controls",
          "model_name": "FloatProgressModel",
          "model_module_version": "1.5.0",
          "state": {
            "_view_name": "ProgressView",
            "style": "IPY_MODEL_bb0b14a1462342ea808ca32d1caa0d91",
            "_dom_classes": [],
            "description": "Downloading: 100%",
            "_model_name": "FloatProgressModel",
            "bar_style": "success",
            "max": 85,
            "_view_module": "@jupyter-widgets/controls",
            "_model_module_version": "1.5.0",
            "value": 85,
            "_view_count": null,
            "_view_module_version": "1.5.0",
            "orientation": "horizontal",
            "min": 0,
            "description_tooltip": null,
            "_model_module": "@jupyter-widgets/controls",
            "layout": "IPY_MODEL_4a4e1eaa525949189b34394fd4f06cda"
          }
        },
        "77a105a6214745b9ba9641a49a283f7e": {
          "model_module": "@jupyter-widgets/controls",
          "model_name": "HTMLModel",
          "model_module_version": "1.5.0",
          "state": {
            "_view_name": "HTMLView",
            "style": "IPY_MODEL_38772940a0314e799c45093464905888",
            "_dom_classes": [],
            "description": "",
            "_model_name": "HTMLModel",
            "placeholder": "​",
            "_view_module": "@jupyter-widgets/controls",
            "_model_module_version": "1.5.0",
            "value": " 85.0/85.0 [00:00&lt;00:00, 147B/s]",
            "_view_count": null,
            "_view_module_version": "1.5.0",
            "description_tooltip": null,
            "_model_module": "@jupyter-widgets/controls",
            "layout": "IPY_MODEL_2c463e12eb7d403e89e9c9c3d045b15b"
          }
        },
        "bb0b14a1462342ea808ca32d1caa0d91": {
          "model_module": "@jupyter-widgets/controls",
          "model_name": "ProgressStyleModel",
          "model_module_version": "1.5.0",
          "state": {
            "_view_name": "StyleView",
            "_model_name": "ProgressStyleModel",
            "description_width": "initial",
            "_view_module": "@jupyter-widgets/base",
            "_model_module_version": "1.5.0",
            "_view_count": null,
            "_view_module_version": "1.2.0",
            "bar_color": null,
            "_model_module": "@jupyter-widgets/controls"
          }
        },
        "4a4e1eaa525949189b34394fd4f06cda": {
          "model_module": "@jupyter-widgets/base",
          "model_name": "LayoutModel",
          "model_module_version": "1.2.0",
          "state": {
            "_view_name": "LayoutView",
            "grid_template_rows": null,
            "right": null,
            "justify_content": null,
            "_view_module": "@jupyter-widgets/base",
            "overflow": null,
            "_model_module_version": "1.2.0",
            "_view_count": null,
            "flex_flow": null,
            "width": null,
            "min_width": null,
            "border": null,
            "align_items": null,
            "bottom": null,
            "_model_module": "@jupyter-widgets/base",
            "top": null,
            "grid_column": null,
            "overflow_y": null,
            "overflow_x": null,
            "grid_auto_flow": null,
            "grid_area": null,
            "grid_template_columns": null,
            "flex": null,
            "_model_name": "LayoutModel",
            "justify_items": null,
            "grid_row": null,
            "max_height": null,
            "align_content": null,
            "visibility": null,
            "align_self": null,
            "height": null,
            "min_height": null,
            "padding": null,
            "grid_auto_rows": null,
            "grid_gap": null,
            "max_width": null,
            "order": null,
            "_view_module_version": "1.2.0",
            "grid_template_areas": null,
            "object_position": null,
            "object_fit": null,
            "grid_auto_columns": null,
            "margin": null,
            "display": null,
            "left": null
          }
        },
        "38772940a0314e799c45093464905888": {
          "model_module": "@jupyter-widgets/controls",
          "model_name": "DescriptionStyleModel",
          "model_module_version": "1.5.0",
          "state": {
            "_view_name": "StyleView",
            "_model_name": "DescriptionStyleModel",
            "description_width": "",
            "_view_module": "@jupyter-widgets/base",
            "_model_module_version": "1.5.0",
            "_view_count": null,
            "_view_module_version": "1.2.0",
            "_model_module": "@jupyter-widgets/controls"
          }
        },
        "2c463e12eb7d403e89e9c9c3d045b15b": {
          "model_module": "@jupyter-widgets/base",
          "model_name": "LayoutModel",
          "model_module_version": "1.2.0",
          "state": {
            "_view_name": "LayoutView",
            "grid_template_rows": null,
            "right": null,
            "justify_content": null,
            "_view_module": "@jupyter-widgets/base",
            "overflow": null,
            "_model_module_version": "1.2.0",
            "_view_count": null,
            "flex_flow": null,
            "width": null,
            "min_width": null,
            "border": null,
            "align_items": null,
            "bottom": null,
            "_model_module": "@jupyter-widgets/base",
            "top": null,
            "grid_column": null,
            "overflow_y": null,
            "overflow_x": null,
            "grid_auto_flow": null,
            "grid_area": null,
            "grid_template_columns": null,
            "flex": null,
            "_model_name": "LayoutModel",
            "justify_items": null,
            "grid_row": null,
            "max_height": null,
            "align_content": null,
            "visibility": null,
            "align_self": null,
            "height": null,
            "min_height": null,
            "padding": null,
            "grid_auto_rows": null,
            "grid_gap": null,
            "max_width": null,
            "order": null,
            "_view_module_version": "1.2.0",
            "grid_template_areas": null,
            "object_position": null,
            "object_fit": null,
            "grid_auto_columns": null,
            "margin": null,
            "display": null,
            "left": null
          }
        }
      }
    }
  },
  "cells": [
    {
      "cell_type": "markdown",
      "metadata": {
        "id": "view-in-github",
        "colab_type": "text"
      },
      "source": [
        "<a href=\"https://colab.research.google.com/github/igmim-yassine/Speech-recognition-using-moroccan-dialect-darija/blob/main/Fine_Tune_XLSR_Wav2Vec2_on_Darija_ASR.ipynb\" target=\"_parent\"><img src=\"https://colab.research.google.com/assets/colab-badge.svg\" alt=\"Open In Colab\"/></a>"
      ]
    },
    {
      "cell_type": "code",
      "metadata": {
        "colab": {
          "base_uri": "https://localhost:8080/"
        },
        "id": "0PDS_tN396qX",
        "outputId": "67ca9ea4-2790-407b-e0c6-705643e64939"
      },
      "source": [
        "from google.colab import drive\n",
        "drive.mount('/content/drive')"
      ],
      "execution_count": null,
      "outputs": [
        {
          "output_type": "stream",
          "text": [
            "Mounted at /content/drive\n"
          ],
          "name": "stdout"
        }
      ]
    },
    {
      "cell_type": "markdown",
      "metadata": {
        "id": "JGNjbg6mEXoq"
      },
      "source": [
        "#Loading the custom dataset"
      ]
    },
    {
      "cell_type": "markdown",
      "metadata": {
        "id": "7M4Unbv0nYaW"
      },
      "source": [
        "Wav2Vec2 is a pretrained model for Automatic Speech Recognition (ASR) and was released in [September 2020](https://ai.facebook.com/blog/wav2vec-20-learning-the-structure-of-speech-from-raw-audio/) by Alexei Baevski, Michael Auli, and Alex Conneau.  Soon after the superior performance of Wav2Vec2 was demonstrated on the English ASR dataset LibriSpeech, *Facebook AI* presented XLSR-Wav2Vec2 (click [here](https://arxiv.org/abs/2006.13979)). XLSR stands for *cross-lingual  speech representations* and refers to XLSR-Wav2Vec2`s ability to learn speech representations that are useful across multiple languages.\n",
        "\n",
        "Similar to Wav2Vec2, XLSR-Wav2Vec2 learns powerful speech representations from hundreds of thousands of hours of speech in more than 50 languages of unlabeled speech. Similar, to [BERT's masked language modeling](http://jalammar.github.io/illustrated-bert/), the model learns contextualized speech representations by randomly masking feature vectors before passing them to a transformer network.\n",
        "\n",
        "![wav2vec2_structure](https://raw.githubusercontent.com/patrickvonplaten/scientific_images/master/xlsr_wav2vec2.png)\n",
        "\n",
        "The authors show for the first time that massively pretraining an ASR model on cross-lingual unlabeled speech data, followed by language-specific fine-tuning on very little labeled data achieves state-of-the-art results. See Table 1-5 of the official [paper](https://arxiv.org/pdf/2006.13979.pdf)."
      ]
    },
    {
      "cell_type": "markdown",
      "metadata": {
        "id": "g4X52sw8nZc_"
      },
      "source": [
        "In this notebook, we will give an in-detail explanation of how XLSR-Wav2Vec2's pretrained checkpoint can be fine-tuned on a low-resource ASR dataset of any language. Note that in this notebook, we will fine-tune XLSR-Wav2Vec2 without making use of a language model. It is much simpler and more efficient to use XLSR-Wav2Vec2 without a language model, but better results can be achieved by including a language model. \n",
        "\n",
        "For demonstration purposes, we fine-tune the [wav2vec2-large-xlsr-53](https://huggingface.co/facebook/wav2vec2-large-xlsr-53) on the low resource Turkish ASR dataset of [Common Voice](https://huggingface.co/datasets/common_voice) that contains just ~6h of validated training data."
      ]
    },
    {
      "cell_type": "markdown",
      "metadata": {
        "id": "dtRpzjOxnfOU"
      },
      "source": [
        "XLSR-Wav2Vec2 is fine-tuned using Connectionist Temporal Classification (CTC), which is an algorithm that is used to train neural networks for sequence-to-sequence problems and mainly in Automatic Speech Recognition and handwriting recognition. \n",
        "\n",
        "I highly recommend reading the blog post [Sequence Modeling with CTC (2017)](https://distill.pub/2017/ctc/) very well-written blog post by Awni Hannun."
      ]
    },
    {
      "cell_type": "markdown",
      "metadata": {
        "id": "5k3VdUX2nkgj"
      },
      "source": [
        "Before we start, let's install both `datasets` and `transformers` from master. Also, we need the `torchaudio` and `librosa` package to load audio files and the `jiwer` to evaluate our fine-tuned model using the [word error rate (WER)](https://huggingface.co/metrics/wer) metric ${}^1$."
      ]
    },
    {
      "cell_type": "code",
      "metadata": {
        "id": "VY-ZeDqr-Xyc"
      },
      "source": [
        "%%capture\n",
        "!pip install datasets==1.4.1\n",
        "!pip install transformers==4.4.0\n",
        "!pip install torchaudio\n",
        "!pip install librosa\n",
        "!pip install jiwer"
      ],
      "execution_count": null,
      "outputs": []
    },
    {
      "cell_type": "markdown",
      "metadata": {
        "id": "2Js4OictnubD"
      },
      "source": [
        "\n",
        "\n",
        "\n",
        "---\n",
        "\n",
        "${}^1$ In the [paper](https://arxiv.org/pdf/2006.13979.pdf), the model was evaluated using the phoneme error rate (PER), but by far the most common metric in ASR is the word error rate (WER). To keep this notebook as general as possible we decided to evaluate the model using WER."
      ]
    },
    {
      "cell_type": "markdown",
      "metadata": {
        "id": "QJqAbKdEn0Od"
      },
      "source": [
        "## Prepare Data, Tokenizer, Feature Extractor"
      ]
    },
    {
      "cell_type": "markdown",
      "metadata": {
        "id": "0X-wcGfQn24_"
      },
      "source": [
        "ASR models transcribe speech to text, which means that we both need a feature extractor that processes the speech signal to the model's input format, *e.g.* a feature vector, and a tokenizer that processes the model's output format to text. \n",
        "\n",
        "In 🤗 Transformers, the XLSR-Wav2Vec2 model is thus accompanied by both a tokenizer, called [Wav2Vec2CTCTokenizer](https://huggingface.co/transformers/master/model_doc/wav2vec2.html#wav2vec2ctctokenizer), and a feature extractor, called [Wav2Vec2FeatureExtractor](https://huggingface.co/transformers/master/model_doc/wav2vec2.html#wav2vec2featureextractor).\n",
        "\n",
        "Let's start by creating the tokenizer responsible for decoding the model's predictions."
      ]
    },
    {
      "cell_type": "markdown",
      "metadata": {
        "id": "tyTM5nQin7ET"
      },
      "source": [
        "### Create Wav2Vec2CTCTokenizer"
      ]
    },
    {
      "cell_type": "markdown",
      "metadata": {
        "id": "NRmSPeTEn9Ez"
      },
      "source": [
        "The [pretrained Wav2Vec2 checkpoint]( ) maps the speech signal to a sequence of context representations as illustrated in the figure above. A fine-tuned XLSR-Wav2Vec2 checkpoint needs to map this sequence of context representations to its corresponding transcription so that a linear layer has to be added on top of the transformer block (shown in yellow). This linear layer is used to classifies each context representation to a token class analogous how, *e.g.*, after pretraining a linear layer is added on top of BERT's embeddings for further classification - *cf.* with *\"BERT\"* section of this [blog post](https://huggingface.co/blog/warm-starting-encoder-decoder).\n",
        "\n",
        "The output size of this layer corresponds to the number of tokens in the vocabulary, which does **not** depend on XLSR-Wav2Vec2's pretraining task, but only on the labeled dataset used for fine-tuning. So in the first step, we will take a look at Common Voice and define a vocabulary based on the dataset's transcriptions."
      ]
    },
    {
      "cell_type": "markdown",
      "metadata": {
        "id": "g48607REoARq"
      },
      "source": [
        "First, let's go to [Common Voice](https://commonvoice.mozilla.org/en/datasets) and pick a language to fine-tune XLSR-Wav2Vec2 on. For this notebook, we will use Turkish. \n",
        "\n",
        "For each language-specific dataset, you can find a language code corresponding to your chosen language. On [Common Voice](https://commonvoice.mozilla.org/en/datasets), look for the field \"Version\". The language code then corresponds to the prefix before the underscore. For Turkish, *e.g.* the language code is `\"tr\"`.\n",
        "\n",
        "Great, now we can use 🤗 Datasets' simple API to download the data. The dataset name will be `\"common_voice\"`, the config name corresponds to the language code - `\"tr\"` in our case."
      ]
    },
    {
      "cell_type": "markdown",
      "metadata": {
        "id": "CeEc22dDoCXz"
      },
      "source": [
        "Common Voice has many different splits including `invalidated`, which refers to data that was not rated as \"clean enough\" to be considered useful. In this notebook, we will only make use of the splits `\"train\"`, `\"validation\"` and `\"test\"`. \n",
        "\n",
        "Because the Turkish dataset is so small, we will merge both the validation and training data into a training dataset and simply use the test data for validation."
      ]
    },
    {
      "cell_type": "code",
      "metadata": {
        "colab": {
          "base_uri": "https://localhost:8080/",
          "height": 137,
          "referenced_widgets": [
            "a1fb353e66df476aae048a05f20b445f",
            "2e196e2ee9f34818b54e79cb6c290c0b",
            "979b1f7646e94d1184bc6dee0545c968",
            "3e0821e88dcb469385e3281518f8920f",
            "9da225a305a5412abee1034c5cef2182",
            "594855e4aa6e444880b8dd676c0383ac",
            "7288eb580e3143dbb3b807a6b5a28d52",
            "1cbd024314ee45bf8e3f3fdc41f89ea8",
            "91562ccd570e418db69bde3b5dc3d730",
            "79efcc927f6c4cf99f9c744c892089a6",
            "6d76b5cd74954fe7bb7fce53152f136e",
            "ea302deb693f420d9ca869b8fffe1226",
            "2d93365c9f9b47b6ade4c12e17c531e1",
            "7a6492b687324890a9c1c82ddad17976",
            "b42cf7e4dcc54a5796fc3fe8706f1b2c",
            "b1bf50e4776c4071b911c61a4ff58be8"
          ]
        },
        "id": "pdYivvFd-aNq",
        "outputId": "f695fc37-d4b7-4f84-9663-66ebae3fb891"
      },
      "source": [
        "from datasets import load_dataset, load_metric\n",
        "\n",
        "common_voice_train = load_dataset('csv', data_files='/content/drive/MyDrive/dataset_transcripted/audios/train.csv')\n",
        "common_voice_test = load_dataset('csv', data_files='/content/drive/MyDrive/dataset_transcripted/audios/test.csv') \n",
        "\n",
        "common_voice_train = common_voice_train['train']\n",
        "common_voice_test = common_voice_test['train']"
      ],
      "execution_count": null,
      "outputs": [
        {
          "output_type": "stream",
          "text": [
            "Using custom data configuration default-c9fc6a6b71e30206\n"
          ],
          "name": "stderr"
        },
        {
          "output_type": "stream",
          "text": [
            "Downloading and preparing dataset csv/default (download: Unknown size, generated: Unknown size, post-processed: Unknown size, total: Unknown size) to /root/.cache/huggingface/datasets/csv/default-c9fc6a6b71e30206/0.0.0/2a88c45fed596f9421a2e7f74ab1a3cd012ef75210a5dc1950e8d60ca8d9c66c...\n"
          ],
          "name": "stdout"
        },
        {
          "output_type": "display_data",
          "data": {
            "application/vnd.jupyter.widget-view+json": {
              "model_id": "a1fb353e66df476aae048a05f20b445f",
              "version_minor": 0,
              "version_major": 2
            },
            "text/plain": [
              "HBox(children=(FloatProgress(value=1.0, bar_style='info', layout=Layout(width='20px'), max=1.0), HTML(value=''…"
            ]
          },
          "metadata": {}
        },
        {
          "output_type": "stream",
          "text": [
            "Using custom data configuration default-fe6ecaec581dc453\n"
          ],
          "name": "stderr"
        },
        {
          "output_type": "stream",
          "text": [
            "Dataset csv downloaded and prepared to /root/.cache/huggingface/datasets/csv/default-c9fc6a6b71e30206/0.0.0/2a88c45fed596f9421a2e7f74ab1a3cd012ef75210a5dc1950e8d60ca8d9c66c. Subsequent calls will reuse this data.\n",
            "Downloading and preparing dataset csv/default (download: Unknown size, generated: Unknown size, post-processed: Unknown size, total: Unknown size) to /root/.cache/huggingface/datasets/csv/default-fe6ecaec581dc453/0.0.0/2a88c45fed596f9421a2e7f74ab1a3cd012ef75210a5dc1950e8d60ca8d9c66c...\n"
          ],
          "name": "stdout"
        },
        {
          "output_type": "display_data",
          "data": {
            "application/vnd.jupyter.widget-view+json": {
              "model_id": "91562ccd570e418db69bde3b5dc3d730",
              "version_minor": 0,
              "version_major": 2
            },
            "text/plain": [
              "HBox(children=(FloatProgress(value=1.0, bar_style='info', layout=Layout(width='20px'), max=1.0), HTML(value=''…"
            ]
          },
          "metadata": {}
        },
        {
          "output_type": "stream",
          "text": [
            "Dataset csv downloaded and prepared to /root/.cache/huggingface/datasets/csv/default-fe6ecaec581dc453/0.0.0/2a88c45fed596f9421a2e7f74ab1a3cd012ef75210a5dc1950e8d60ca8d9c66c. Subsequent calls will reuse this data.\n"
          ],
          "name": "stdout"
        }
      ]
    },
    {
      "cell_type": "markdown",
      "metadata": {
        "id": "dMhEzJg-oF07"
      },
      "source": [
        "Many ASR datasets only provide the target text, `'sentence'` for each audio file `'path'`. Common Voice actually provides much more information about each audio file, such as the `'accent'`, etc. However, we want to keep the notebook as general as possible, so that we will only consider the transcribed text for fine-tuning.\n",
        "\n"
      ]
    },
    {
      "cell_type": "code",
      "metadata": {
        "id": "EroNJ7pk-dXq"
      },
      "source": [
        "common_voice_train = common_voice_train.remove_columns(\"Unnamed: 0\")\n",
        "common_voice_test = common_voice_test.remove_columns(\"Unnamed: 0\")"
      ],
      "execution_count": null,
      "outputs": []
    },
    {
      "cell_type": "code",
      "metadata": {
        "colab": {
          "base_uri": "https://localhost:8080/"
        },
        "id": "TYir77rZ-fAi",
        "outputId": "bd5c0e98-a349-4870-fa87-1222d02a17df"
      },
      "source": [
        "common_voice_test.column_names"
      ],
      "execution_count": null,
      "outputs": [
        {
          "output_type": "execute_result",
          "data": {
            "text/plain": [
              "['path', 'text']"
            ]
          },
          "metadata": {},
          "execution_count": 8
        }
      ]
    },
    {
      "cell_type": "markdown",
      "metadata": {
        "id": "Z2gGAWpfoJ5E"
      },
      "source": [
        "Let's write a short function to display some random samples of the dataset and run it a couple of times to get a feeling for the transcriptions."
      ]
    },
    {
      "cell_type": "code",
      "metadata": {
        "id": "50jcW8PK-rGr"
      },
      "source": [
        "from datasets import ClassLabel\n",
        "import random\n",
        "import pandas as pd\n",
        "from IPython.display import display, HTML\n",
        "\n",
        "def show_random_elements(dataset, num_examples=10):\n",
        "\n",
        "    assert num_examples <= len(dataset), \"Can't pick more elements than there are in the dataset.\"\n",
        "    picks = []\n",
        "    for _ in range(num_examples):\n",
        "        pick = random.randint(0, len(dataset)-1)\n",
        "        while pick in picks:\n",
        "            pick = random.randint(0, len(dataset)-1)\n",
        "        picks.append(pick)\n",
        "    \n",
        "    df = pd.DataFrame(dataset[picks])\n",
        "    display(HTML(df.to_html()))"
      ],
      "execution_count": null,
      "outputs": []
    },
    {
      "cell_type": "code",
      "metadata": {
        "colab": {
          "base_uri": "https://localhost:8080/",
          "height": 356
        },
        "id": "hXL7E9Gy-uLN",
        "outputId": "8860fe3f-1ba7-4010-88c4-28e20c1177a5"
      },
      "source": [
        "show_random_elements(common_voice_train.remove_columns([\"path\"]), num_examples=10)"
      ],
      "execution_count": null,
      "outputs": [
        {
          "output_type": "display_data",
          "data": {
            "text/html": [
              "<table border=\"1\" class=\"dataframe\">\n",
              "  <thead>\n",
              "    <tr style=\"text-align: right;\">\n",
              "      <th></th>\n",
              "      <th>text</th>\n",
              "    </tr>\n",
              "  </thead>\n",
              "  <tbody>\n",
              "    <tr>\n",
              "      <th>0</th>\n",
              "      <td>17</td>\n",
              "    </tr>\n",
              "    <tr>\n",
              "      <th>1</th>\n",
              "      <td>السلم عليكم ورحمة الله</td>\n",
              "    </tr>\n",
              "    <tr>\n",
              "      <th>2</th>\n",
              "      <td>هد صحابي لي يسمع هضرتو يقول خوارديولا</td>\n",
              "    </tr>\n",
              "    <tr>\n",
              "      <th>3</th>\n",
              "      <td>20</td>\n",
              "    </tr>\n",
              "    <tr>\n",
              "      <th>4</th>\n",
              "      <td>حسان الفد أستاذ الكوميدية نفوا عالي ولفنا عليك   دقايق حلوين بمستوى راقي ولكن هذ سلسلة راه والو</td>\n",
              "    </tr>\n",
              "    <tr>\n",
              "      <th>5</th>\n",
              "      <td>طريق برشيد سطات وطريق سطات كاملا ونواحيها كاع واعرة وخطر</td>\n",
              "    </tr>\n",
              "    <tr>\n",
              "      <th>6</th>\n",
              "      <td>800</td>\n",
              "    </tr>\n",
              "    <tr>\n",
              "      <th>7</th>\n",
              "      <td>160</td>\n",
              "    </tr>\n",
              "    <tr>\n",
              "      <th>8</th>\n",
              "      <td>خويا ديير لينا كيفاش نسجلو من تلفاز ل كمبيوتر</td>\n",
              "    </tr>\n",
              "    <tr>\n",
              "      <th>9</th>\n",
              "      <td>وانا راسي كان دارني كنقول هاد خونا فين شايفاه</td>\n",
              "    </tr>\n",
              "  </tbody>\n",
              "</table>"
            ],
            "text/plain": [
              "<IPython.core.display.HTML object>"
            ]
          },
          "metadata": {}
        }
      ]
    },
    {
      "cell_type": "markdown",
      "metadata": {
        "id": "RNPksop4oNIz"
      },
      "source": [
        "Alright! The transcriptions look fairly clean. Having translated the transcribed sentences (I'm sadly not a native speaker in Turkish), it seems that the language corresponds more to written text than noisy dialogue. This makes sense taking into account that [Common Voice](https://huggingface.co/datasets/common_voice) is a crowd-sourced read speech corpus."
      ]
    },
    {
      "cell_type": "markdown",
      "metadata": {
        "id": "7Z9GrLDAoQIl"
      },
      "source": [
        "We can see that the transcriptions contain some special characters, such as `,.?!;:`. Without a language model, it is much harder to classify speech chunks to such special characters because they don't really correspond to a characteristic sound unit. *E.g.*, the letter `\"s\"` has a more or less clear sound, whereas the special character `\".\"` does not.\n",
        "Also in order to understand the meaning of a speech signal, it is usually not necessary to include special characters in the transcription.\n",
        "\n",
        "In addition, we normalize the text to only have lower case letters and append a word separator token at the end."
      ]
    },
    {
      "cell_type": "markdown",
      "metadata": {
        "id": "x0dJfd04Ed7K"
      },
      "source": [
        "#Remove special characters"
      ]
    },
    {
      "cell_type": "code",
      "metadata": {
        "id": "ICMtlpLZ-ufA"
      },
      "source": [
        "import re\n",
        "chars_to_ignore_regex = '[\\,\\?\\.\\!\\-\\;\\:\\\"\\“\\%\\‘\\”\\�\\'\\،\\٠\\u200e\\'َ]'\n",
        "\n",
        "def remove_special_characters(batch):\n",
        "    batch[\"text\"] = re.sub(chars_to_ignore_regex, '', batch[\"text\"]).lower() + \" \"\n",
        "    return batch"
      ],
      "execution_count": null,
      "outputs": []
    },
    {
      "cell_type": "code",
      "metadata": {
        "colab": {
          "base_uri": "https://localhost:8080/",
          "height": 114,
          "referenced_widgets": [
            "bbe35b767712408b89f37ed03d5f389f",
            "2a092f4040f842409ad13dffa119df7b",
            "466508bc5bdd490e87fe9fd5b2580af6",
            "f9e328a42512483591696e698595912f",
            "07b95499e35349eebad0db513747a2e6",
            "330857a4a86f49859896ca757a23450c",
            "67ec6f73ebe2496aa093cc7be105947d",
            "a2a1996e86f747028b98497b6b68b109",
            "b80c15f7dac644529266cc76d9032586",
            "7020e72571754d5fa7f5cfe82b2fdd56",
            "32fe1df7cc074d7daeefd2ffdd572a61",
            "f77aae27132343c4830a538b3e3379cf",
            "2d791a3274134660a4c04d6251c85ecf",
            "2610e8f52fc9405daee01d9c9a0c2da9",
            "d23f5c981ee440fc83c78e399799ae1b",
            "0330f3d5e17b43b1add432ba5ff460d1"
          ]
        },
        "id": "fZTtZVUC-0ky",
        "outputId": "08ffae23-7dbe-4b0a-b9ca-fb3c0a187ceb"
      },
      "source": [
        "common_voice_train = common_voice_train.map(remove_special_characters)\n",
        "common_voice_test = common_voice_test.map(remove_special_characters)"
      ],
      "execution_count": null,
      "outputs": [
        {
          "output_type": "display_data",
          "data": {
            "application/vnd.jupyter.widget-view+json": {
              "model_id": "bbe35b767712408b89f37ed03d5f389f",
              "version_minor": 0,
              "version_major": 2
            },
            "text/plain": [
              "HBox(children=(FloatProgress(value=0.0, max=148.0), HTML(value='')))"
            ]
          },
          "metadata": {}
        },
        {
          "output_type": "stream",
          "text": [
            "\n"
          ],
          "name": "stdout"
        },
        {
          "output_type": "display_data",
          "data": {
            "application/vnd.jupyter.widget-view+json": {
              "model_id": "b80c15f7dac644529266cc76d9032586",
              "version_minor": 0,
              "version_major": 2
            },
            "text/plain": [
              "HBox(children=(FloatProgress(value=0.0, max=10.0), HTML(value='')))"
            ]
          },
          "metadata": {}
        },
        {
          "output_type": "stream",
          "text": [
            "\n"
          ],
          "name": "stdout"
        }
      ]
    },
    {
      "cell_type": "markdown",
      "metadata": {
        "id": "XQcvRN55odgI"
      },
      "source": [
        "Good! This looks better. We have removed most special characters from transcriptions and normalized them to lower-case only.\n",
        "\n",
        "In CTC, it is common to classify speech chunks into letters, so we will do the same here. \n",
        "Let's extract all distinct letters of the training and test data and build our vocabulary from this set of letters.\n",
        "\n",
        "We write a mapping function that concatenates all transcriptions into one long transcription and then transforms the string into a set of chars. \n",
        "It is important to pass the argument `batched=True` to the `map(...)` function so that the mapping function has access to all transcriptions at once."
      ]
    },
    {
      "cell_type": "code",
      "metadata": {
        "id": "glCJWzcv-4ci"
      },
      "source": [
        "def extract_all_chars(batch):\n",
        "  all_text = \" \".join(batch[\"text\"])\n",
        "  vocab = list(set(all_text))\n",
        "  return {\"vocab\": [vocab], \"all_text\": [all_text]}"
      ],
      "execution_count": null,
      "outputs": []
    },
    {
      "cell_type": "code",
      "metadata": {
        "colab": {
          "base_uri": "https://localhost:8080/",
          "height": 114,
          "referenced_widgets": [
            "12f9bb6cbfe54892a90be56904a8e74e",
            "7fa243acc3ea4d259b3e2b6cdab0fbbd",
            "b9636e7e075147d6a149bbdb8eb4d466",
            "238bae67ce144132888f921a99bec856",
            "f16bd7c65f164bdbb155cf50f2894401",
            "988ea8b99f4f416695700f16cd59b0f0",
            "c9adce49160f48ec9ea2bc277d4f2401",
            "aab44fa0470d4ff98808171ce7c6f835",
            "3a0c687e4e9646d19a46d319515ea9ef",
            "02389fa98c2f40af87339671f21c605c",
            "c32022718c5141b485c5513eec41d928",
            "94042820a0904caaaea5351c0b5cf8c6",
            "791be7fcc29b4f94b17f38c68740c4ba",
            "7e27cafa4fd2452dafdeff98553d1cb1",
            "b4ff5b0ba07b496088e8a6a1c25db358",
            "3fb633e038f1473fac9cb823846cd26b"
          ]
        },
        "id": "EY94hT5e_Etb",
        "outputId": "1ab1a39f-17a3-468c-e696-e5a275dbcfd3"
      },
      "source": [
        "vocab_train = common_voice_train.map(extract_all_chars, batched=True, batch_size=-1, keep_in_memory=True, remove_columns=common_voice_train.column_names)\n",
        "vocab_test = common_voice_test.map(extract_all_chars, batched=True, batch_size=-1, keep_in_memory=True, remove_columns=common_voice_test.column_names)"
      ],
      "execution_count": null,
      "outputs": [
        {
          "output_type": "display_data",
          "data": {
            "application/vnd.jupyter.widget-view+json": {
              "model_id": "12f9bb6cbfe54892a90be56904a8e74e",
              "version_minor": 0,
              "version_major": 2
            },
            "text/plain": [
              "HBox(children=(FloatProgress(value=0.0, max=1.0), HTML(value='')))"
            ]
          },
          "metadata": {}
        },
        {
          "output_type": "stream",
          "text": [
            "\n"
          ],
          "name": "stdout"
        },
        {
          "output_type": "display_data",
          "data": {
            "application/vnd.jupyter.widget-view+json": {
              "model_id": "3a0c687e4e9646d19a46d319515ea9ef",
              "version_minor": 0,
              "version_major": 2
            },
            "text/plain": [
              "HBox(children=(FloatProgress(value=0.0, max=1.0), HTML(value='')))"
            ]
          },
          "metadata": {}
        },
        {
          "output_type": "stream",
          "text": [
            "\n"
          ],
          "name": "stdout"
        }
      ]
    },
    {
      "cell_type": "markdown",
      "metadata": {
        "id": "GvEKORRhohnr"
      },
      "source": [
        "Now, we create the union of all distinct letters in the training dataset and test dataset and convert the resulting list into an enumerated dictionary."
      ]
    },
    {
      "cell_type": "code",
      "metadata": {
        "id": "2HxmZvNn_Hc6"
      },
      "source": [
        "vocab_list = list(set(vocab_train[\"vocab\"][0]) | set(vocab_test[\"vocab\"][0]))"
      ],
      "execution_count": null,
      "outputs": []
    },
    {
      "cell_type": "markdown",
      "metadata": {
        "id": "WsG6Z-kZEiwC"
      },
      "source": [
        "#Create the vocabulary"
      ]
    },
    {
      "cell_type": "code",
      "metadata": {
        "colab": {
          "base_uri": "https://localhost:8080/"
        },
        "id": "nmX6cnvP_OR6",
        "outputId": "e6e661b9-f5af-4d9d-fe0a-f89f6115e64a"
      },
      "source": [
        "vocab_dict = {v: k for k, v in enumerate(vocab_list)}\n",
        "vocab_dict"
      ],
      "execution_count": null,
      "outputs": [
        {
          "output_type": "execute_result",
          "data": {
            "text/plain": [
              "{' ': 37,\n",
              " '0': 9,\n",
              " '1': 1,\n",
              " '2': 20,\n",
              " '3': 29,\n",
              " '4': 40,\n",
              " '5': 0,\n",
              " '6': 15,\n",
              " '7': 11,\n",
              " '8': 3,\n",
              " '9': 10,\n",
              " 'ء': 35,\n",
              " 'آ': 14,\n",
              " 'أ': 7,\n",
              " 'إ': 8,\n",
              " 'ئ': 42,\n",
              " 'ا': 44,\n",
              " 'ب': 23,\n",
              " 'ة': 18,\n",
              " 'ت': 33,\n",
              " 'ث': 36,\n",
              " 'ج': 19,\n",
              " 'ح': 5,\n",
              " 'خ': 45,\n",
              " 'د': 39,\n",
              " 'ذ': 12,\n",
              " 'ر': 41,\n",
              " 'ز': 30,\n",
              " 'س': 27,\n",
              " 'ش': 31,\n",
              " 'ص': 2,\n",
              " 'ض': 46,\n",
              " 'ط': 32,\n",
              " 'ظ': 43,\n",
              " 'ع': 22,\n",
              " 'غ': 6,\n",
              " 'ف': 24,\n",
              " 'ق': 16,\n",
              " 'ك': 4,\n",
              " 'ل': 25,\n",
              " 'م': 34,\n",
              " 'ن': 26,\n",
              " 'ه': 21,\n",
              " 'و': 13,\n",
              " 'ى': 38,\n",
              " 'ي': 28,\n",
              " 'چ': 17}"
            ]
          },
          "metadata": {},
          "execution_count": 16
        }
      ]
    },
    {
      "cell_type": "markdown",
      "metadata": {
        "id": "oM3QFS9ookWl"
      },
      "source": [
        "Cool, we see that all letters of the alphabet occur in the dataset (which is not really surprising) and we also extracted the special characters `\" \"` and `'`. Note that we did not exclude those special characters because: \n",
        "\n",
        "- The model has to learn to predict when a word is finished or else the model prediction would always be a sequence of chars which would make it impossible to separate words from each other.\n",
        "- From the transcriptions above it seems that words that include an apostrophe, such as `maktouf'un` do exist in Turkish, so I decided to keep the apostrophe in the dataset. This might be a wrong assumption though.\n",
        "\n",
        "One should always keep in mind that the data-preprocessing is a very important step before training your model. E.g., we don't want our model to differentiate between `a` and `A` just because we forgot to normalize the data. The difference between `a` and `A` does not depend on the \"sound\" of the letter at all, but more on grammatical rules - *e.g.* use a capitalized letter at the beginning of the sentence. So it is sensible to remove the difference between capitalized and non-capitalized letters so that the model has an easier time learning to transcribe speech. \n",
        "\n",
        "It is always advantageous to get help from a native speaker of the language you would like to transcribe to verify whether the assumptions you made are sensible, *e.g.* I should have made sure that keeping `'`, but removing other special characters is a sensible choice for Turkish. "
      ]
    },
    {
      "cell_type": "markdown",
      "metadata": {
        "id": "XOFGeVn4oml7"
      },
      "source": [
        "To make it clearer that `\" \"` has its own token class, we give it a more visible character `|`. In addition, we also add an \"unknown\" token so that the model can later deal with characters not encountered in Common Voice's training set. \n",
        "\n",
        "Finally, we also add a padding token that corresponds to CTC's \"*blank token*\". The \"blank token\" is a core component of the CTC algorithm. For more information, please take a look at the \"Alignment\" section [here](https://distill.pub/2017/ctc/)."
      ]
    },
    {
      "cell_type": "code",
      "metadata": {
        "id": "sqWgU5wF_Ogu"
      },
      "source": [
        "vocab_dict[\"|\"] = vocab_dict[\" \"]\n",
        "del vocab_dict[\" \"]"
      ],
      "execution_count": null,
      "outputs": []
    },
    {
      "cell_type": "code",
      "metadata": {
        "colab": {
          "base_uri": "https://localhost:8080/"
        },
        "id": "O6VNnxGuCr3h",
        "outputId": "0fe81330-586c-497a-c113-820096faf9ab"
      },
      "source": [
        "vocab_dict[\"[UNK]\"] = len(vocab_dict)\n",
        "vocab_dict[\"[PAD]\"] = len(vocab_dict)\n",
        "len(vocab_dict)"
      ],
      "execution_count": null,
      "outputs": [
        {
          "output_type": "execute_result",
          "data": {
            "text/plain": [
              "49"
            ]
          },
          "metadata": {},
          "execution_count": 18
        }
      ]
    },
    {
      "cell_type": "markdown",
      "metadata": {
        "id": "C6f_LcSAopLH"
      },
      "source": [
        "Cool, now our vocabulary is complete and consists of 39 tokens, which means that the linear layer that we will add on top of the pretrained XLSR-Wav2Vec2 checkpoint will have an output dimension of 39."
      ]
    },
    {
      "cell_type": "markdown",
      "metadata": {
        "id": "1g9Duqm4orOb"
      },
      "source": [
        "Let's now save the vocabulary as a json file."
      ]
    },
    {
      "cell_type": "code",
      "metadata": {
        "id": "rHXeSsibCtVN"
      },
      "source": [
        "import json\n",
        "with open('vocab.json', 'w') as vocab_file:\n",
        "    json.dump(vocab_dict, vocab_file)"
      ],
      "execution_count": null,
      "outputs": []
    },
    {
      "cell_type": "markdown",
      "metadata": {
        "id": "KhF8Uk8QovQo"
      },
      "source": [
        "In a final step, we use the json file to instantiate an object of the `Wav2Vec2CTCTokenizer` class."
      ]
    },
    {
      "cell_type": "code",
      "metadata": {
        "id": "LErlxNxlCvE5"
      },
      "source": [
        "from transformers import Wav2Vec2CTCTokenizer\n",
        "\n",
        "tokenizer = Wav2Vec2CTCTokenizer(\"./vocab.json\", unk_token=\"[UNK]\", pad_token=\"[PAD]\", word_delimiter_token=\"|\")"
      ],
      "execution_count": null,
      "outputs": []
    },
    {
      "cell_type": "markdown",
      "metadata": {
        "id": "JIvrF63ToxOz"
      },
      "source": [
        "Next, we will create the feature extractor."
      ]
    },
    {
      "cell_type": "markdown",
      "metadata": {
        "id": "U-4j3HG_o6pq"
      },
      "source": [
        "### Create XLSR-Wav2Vec2 Feature Extractor"
      ]
    },
    {
      "cell_type": "markdown",
      "metadata": {
        "id": "_EpAztx1o92L"
      },
      "source": [
        "Speech is a continuous signal and to be treated by computers, it first has to be discretized, which is usually called **sampling**. The sampling rate hereby plays an important role in that it defines how many data points of the speech signal are measured per second. Therefore, sampling with a higher sampling rate results in a better approximation of the *real* speech signal but also necessitates more values per second.\n",
        "\n",
        "A pretrained checkpoint expects its input data to have been sampled more or less from the same distribution as the data it was trained on. The same speech signals sampled at two different rates have a very different distribution, *e.g.*, doubling the sampling rate results in data points being twice as long. Thus, \n",
        "before fine-tuning a pretrained checkpoint of an ASR model, it is crucial to verify that the sampling rate of the data that was used to pretrain the model matches the sampling rate of the dataset used to fine-tune the model.\n",
        "\n",
        "XLSR-Wav2Vec2 was pretrained on the audio data of [Babel](https://huggingface.co/datasets/librispeech_asr), \n",
        "[Multilingual LibriSpeech (MLS)](https://ai.facebook.com/blog/a-new-open-data-set-for-multilingual-speech-research/), and [Common Voice](https://huggingface.co/datasets/common_voice). Most of those datasets were sampled at 16kHz, so that Common Voice, sampled at 48kHz, has to be downsampled to 16kHz for training. Therefore, we will have to downsample our fine-tuning data to 16kHz in the following.\n",
        "\n"
      ]
    },
    {
      "cell_type": "markdown",
      "metadata": {
        "id": "wua-0A0No_u7"
      },
      "source": [
        "A XLSR-Wav2Vec2 feature extractor object requires the following parameters to be instantiated:\n",
        "\n",
        "- `feature_size`: Speech models take a sequence of feature vectors as an input. While the length of this sequence obviously varies, the feature size should not. In the case of Wav2Vec2, the feature size is 1 because the model was trained on the raw speech signal ${}^2$.\n",
        "- `sampling_rate`: The sampling rate at which the model is trained on.\n",
        "- `padding_value`: For batched inference, shorter inputs need to be padded with a specific value\n",
        "- `do_normalize`: Whether the input should be *zero-mean-unit-variance* normalized or not. Usually, speech models perform better when normalizing the input\n",
        "- `return_attention_mask`: Whether the model should make use of an `attention_mask` for batched inference. In general, XLSR-Wav2Vec2 models should **always** make use of the `attention_mask`."
      ]
    },
    {
      "cell_type": "code",
      "metadata": {
        "id": "3mhkeZMACxDw"
      },
      "source": [
        "from transformers import Wav2Vec2FeatureExtractor\n",
        "\n",
        "feature_extractor = Wav2Vec2FeatureExtractor(feature_size=1, sampling_rate=16000, padding_value=0.0, do_normalize=True, return_attention_mask=True)"
      ],
      "execution_count": null,
      "outputs": []
    },
    {
      "cell_type": "markdown",
      "metadata": {
        "id": "_Qt_qPiRpC1T"
      },
      "source": [
        "Great, XLSR-Wav2Vec2's feature extraction pipeline is thereby fully defined!\n",
        "\n",
        "To make the usage of XLSR-Wav2Vec2 as user-friendly as possible, the feature extractor and tokenizer are *wrapped* into a single `Wav2Vec2Processor` class so that one only needs a `model` and `processor` object."
      ]
    },
    {
      "cell_type": "code",
      "metadata": {
        "id": "EdN4blb7CzWP"
      },
      "source": [
        "from transformers import Wav2Vec2Processor\n",
        "\n",
        "processor = Wav2Vec2Processor(feature_extractor=feature_extractor, tokenizer=tokenizer)"
      ],
      "execution_count": null,
      "outputs": []
    },
    {
      "cell_type": "markdown",
      "metadata": {
        "id": "s2mqGi2BpX3i"
      },
      "source": [
        "If one wants to re-use the just created processor and the fine-tuned model of this notebook, one can mount his/her google drive to the notebook and save all relevant files there. To do so, please uncomment the following lines. \n",
        "\n",
        "We will give the fine-tuned model the name `\"wav2vec2-large-xlsr-turkish-demo\"`.\n"
      ]
    },
    {
      "cell_type": "code",
      "metadata": {
        "id": "sTDGCA97C1Zw"
      },
      "source": [
        "# processor.save_pretrained(\"/content/gdrive/MyDrive/wav2vec2-large-xlsr-darija-demo\")"
      ],
      "execution_count": null,
      "outputs": []
    },
    {
      "cell_type": "markdown",
      "metadata": {
        "id": "2rwXE2C-pfKz"
      },
      "source": [
        "Next, we can prepare the dataset."
      ]
    },
    {
      "cell_type": "markdown",
      "metadata": {
        "id": "A2bpLVYIph8k"
      },
      "source": [
        "### Preprocess Data\n",
        "\n",
        "So far, we have not looked at the actual values of the speech signal but just kept the path to its file in the dataset. `XLSR-Wav2Vec2` expects the audio file in the format of a 1-dimensional array, so in the first step, let's load all audio files into the dataset object.\n",
        "\n",
        "Let's first check the serialization format of the downloaded audio files by looking at the first training sample."
      ]
    },
    {
      "cell_type": "code",
      "metadata": {
        "colab": {
          "base_uri": "https://localhost:8080/",
          "height": 34
        },
        "id": "zghT28Q7C9cI",
        "outputId": "0958c85f-3f99-4233-c106-89e7f5998b45"
      },
      "source": [
        "common_voice_train[0]['path']"
      ],
      "execution_count": null,
      "outputs": [
        {
          "output_type": "execute_result",
          "data": {
            "application/vnd.google.colaboratory.intrinsic+json": {
              "type": "string"
            },
            "text/plain": [
              "'/content/drive/MyDrive/dataset_transcripted/audios/recorder_2021-08-12_16-12-16_041436.wav'"
            ]
          },
          "metadata": {},
          "execution_count": 24
        }
      ]
    },
    {
      "cell_type": "markdown",
      "metadata": {
        "id": "K7Jwe_r2pmUQ"
      },
      "source": [
        "Alright, the audio file is saved in the `.mp3` format. The `.mp3` format is usually not the easiest format to deal with. We found that the [`torchaudio`](https://pytorch.org/audio/stable/index.html) library works best for reading in `.mp3` data. \n",
        "\n",
        "An audio file usually stores both its values and the sampling rate with which the speech signal was digitalized. We want to store both in the dataset and write a `map(...)` function accordingly."
      ]
    },
    {
      "cell_type": "code",
      "metadata": {
        "id": "gqbOZb2tDABA"
      },
      "source": [
        "import torchaudio\n",
        "\n",
        "def speech_file_to_array_fn(batch):\n",
        "    speech_array, sampling_rate = torchaudio.load(batch[\"path\"])\n",
        "    batch[\"speech\"] = speech_array[0].numpy()\n",
        "    batch[\"sampling_rate\"] = sampling_rate\n",
        "    batch[\"target_text\"] = batch[\"text\"]\n",
        "    return batch"
      ],
      "execution_count": null,
      "outputs": []
    },
    {
      "cell_type": "code",
      "metadata": {
        "colab": {
          "base_uri": "https://localhost:8080/",
          "height": 114,
          "referenced_widgets": [
            "db4159d51eb94b12880df17b909c632e",
            "c5d6b50f1a2940c6a4e1e5a98c678f3a",
            "540188eaec3d46938b1a1d94b9ebe9d4",
            "1319ae27d91d4c679849b29a761923fa",
            "a1378e66a2c9494692b2a79ed4621473",
            "b9059b642bce4b6f8de821c98ff07ca7",
            "807276c3d07e4946b8125407d53ab96d",
            "a02d29e0573e4cc58640b0426d52a623",
            "e451c77c584e4908b59d760ec647b4c0",
            "4f4e5aead6624008ba9c6fc9523c738c",
            "9af1e61bb3574bfbbd6c442b35865c30",
            "3bf6e528df9d491ea94f408cea5e7853",
            "99b104f639fb4e97bccd82c06d716206",
            "e29a8989dcdf49d6a8dad24dea3ae8de",
            "f37f08a504ac414497c400988075f7da",
            "8eca3779951b4520ae6636a01fc61283"
          ]
        },
        "id": "cg1DmRQdDCvQ",
        "outputId": "35b0bf1e-c169-416c-be05-8cef4ce086a6"
      },
      "source": [
        "common_voice_train = common_voice_train.map(speech_file_to_array_fn, remove_columns=common_voice_train.column_names)\n",
        "common_voice_test = common_voice_test.map(speech_file_to_array_fn, remove_columns=common_voice_test.column_names)"
      ],
      "execution_count": null,
      "outputs": [
        {
          "output_type": "display_data",
          "data": {
            "application/vnd.jupyter.widget-view+json": {
              "model_id": "db4159d51eb94b12880df17b909c632e",
              "version_minor": 0,
              "version_major": 2
            },
            "text/plain": [
              "HBox(children=(FloatProgress(value=0.0, max=148.0), HTML(value='')))"
            ]
          },
          "metadata": {}
        },
        {
          "output_type": "stream",
          "text": [
            "\n"
          ],
          "name": "stdout"
        },
        {
          "output_type": "display_data",
          "data": {
            "application/vnd.jupyter.widget-view+json": {
              "model_id": "e451c77c584e4908b59d760ec647b4c0",
              "version_minor": 0,
              "version_major": 2
            },
            "text/plain": [
              "HBox(children=(FloatProgress(value=0.0, max=10.0), HTML(value='')))"
            ]
          },
          "metadata": {}
        },
        {
          "output_type": "stream",
          "text": [
            "\n"
          ],
          "name": "stdout"
        }
      ]
    },
    {
      "cell_type": "markdown",
      "metadata": {
        "id": "ovLwk3VpppQm"
      },
      "source": [
        "Great, now we've successfully read in all the audio files, but since we know that Common Voice is sampled at 48kHz, we need to resample the audio files to 16kHz. \n",
        "\n",
        "Let's make use of the [`librosa`](https://github.com/librosa/librosa) library to downsample the data."
      ]
    },
    {
      "cell_type": "code",
      "metadata": {
        "id": "jU8eqAKeDElF"
      },
      "source": [
        "import librosa\n",
        "import numpy as np\n",
        "\n",
        "def resample(batch):\n",
        "    batch[\"speech\"] = librosa.resample(np.asarray(batch[\"speech\"]), 48_000, 16_000)\n",
        "    batch[\"sampling_rate\"] = 16_000\n",
        "    return batch"
      ],
      "execution_count": null,
      "outputs": []
    },
    {
      "cell_type": "code",
      "metadata": {
        "colab": {
          "base_uri": "https://localhost:8080/"
        },
        "id": "qYuBcKc9DJ0S",
        "outputId": "29a61b23-18a9-4e71-d3bd-e8ad7528470f"
      },
      "source": [
        "common_voice_train = common_voice_train.map(resample, num_proc=4)\n",
        "common_voice_test = common_voice_test.map(resample, num_proc=4)"
      ],
      "execution_count": null,
      "outputs": [
        {
          "output_type": "stream",
          "text": [
            "\n",
            "\n",
            "\n",
            "\n",
            "\n",
            "\n",
            "\n",
            "\n"
          ],
          "name": "stdout"
        }
      ]
    },
    {
      "cell_type": "markdown",
      "metadata": {
        "id": "JF7METFqps6_"
      },
      "source": [
        "This seemed to have worked! Let's listen to a couple of audio files to better understand the dataset and verify that the audio was correctly loaded. \n",
        "\n",
        "**Note**: *You can click the following cell a couple of times to listen to different speech samples.*"
      ]
    },
    {
      "cell_type": "code",
      "metadata": {
        "colab": {
          "base_uri": "https://localhost:8080/",
          "height": 74
        },
        "id": "wvtoYyDDDLob",
        "outputId": "ed131abd-735d-45a7-a7fb-7832cbb5ebec"
      },
      "source": [
        "import IPython.display as ipd\n",
        "import numpy as np\n",
        "import random\n",
        "\n",
        "rand_int = random.randint(0, len(common_voice_train)-1)\n",
        "\n",
        "ipd.Audio(data=np.asarray(common_voice_train[rand_int][\"speech\"]), autoplay=True, rate=16000)"
      ],
      "execution_count": null,
      "outputs": [
        {
          "output_type": "execute_result",
          "data": {
            "text/html": [
              "\n",
              "                <audio controls=\"controls\" autoplay=\"autoplay\">\n",
              "                    <source src=\"data:audio/wav;base64,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\" type=\"audio/wav\" />\n",
              "                    Your browser does not support the audio element.\n",
              "                </audio>\n",
              "              "
            ],
            "text/plain": [
              "<IPython.lib.display.Audio object>"
            ]
          },
          "metadata": {},
          "execution_count": 29
        }
      ]
    },
    {
      "cell_type": "markdown",
      "metadata": {
        "id": "b3nfW0Fnpx3-"
      },
      "source": [
        "It can be heard, that the speakers change along with their speaking rate, accent, and background environment, etc. Overall, the recordings sound acceptably clear though, which is to be expected from a crowd-sourced read speech corpus.\n",
        "\n",
        "Let's do a final check that the data is correctly prepared, by printing the shape of the speech input, its transcription, and the corresponding sampling rate.\n",
        "\n",
        "**Note**: *You can click the following cell a couple of times to verify multiple samples.*"
      ]
    },
    {
      "cell_type": "code",
      "metadata": {
        "colab": {
          "base_uri": "https://localhost:8080/"
        },
        "id": "ycf5EJPHDNTC",
        "outputId": "236852f3-4b8e-47b6-c58c-555dca65dc9b"
      },
      "source": [
        "rand_int = random.randint(0, len(common_voice_train)-1)\n",
        "\n",
        "print(\"Target text:\", common_voice_train[rand_int][\"target_text\"])\n",
        "print(\"Input array shape:\", np.asarray(common_voice_train[rand_int][\"speech\"]).shape)\n",
        "print(\"Sampling rate:\", common_voice_train[rand_int][\"sampling_rate\"])"
      ],
      "execution_count": null,
      "outputs": [
        {
          "output_type": "stream",
          "text": [
            "Target text: اللي ما كايفهمش كبور هو اللي كايقول باللي حامض \n",
            "Input array shape: (86016,)\n",
            "Sampling rate: 16000\n"
          ],
          "name": "stdout"
        }
      ]
    },
    {
      "cell_type": "markdown",
      "metadata": {
        "id": "89Kr-Bsyp2lV"
      },
      "source": [
        "Good! Everything looks fine - the data is a 1-dimensional array, the sampling rate always corresponds to 16kHz, and the target text is normalized."
      ]
    },
    {
      "cell_type": "markdown",
      "metadata": {
        "id": "f0EFDbQtp4S0"
      },
      "source": [
        "Finally, we can process the dataset to the format expected by the model for training. We will again make use of the `map(...)` function.\n",
        "\n",
        "First, we check that the data samples have the same sampling rate of 16kHz.\n",
        "Second, we extract the `input_values` from the loaded audio file. In our case, this includes only normalization, but for other speech models, this step could correspond to extracting, *e.g.* [Log-Mel features](https://en.wikipedia.org/wiki/Mel-frequency_cepstrum). \n",
        "Third, we encode the transcriptions to label ids.\n",
        "\n",
        "**Note**: This mapping function is a good example of how the `Wav2Vec2Processor` class should be used. In \"normal\" context, calling `processor(...)` is redirected to `Wav2Vec2FeatureExtractor`'s call method. When wrapping the processor into the `as_target_processor` context, however, the same method is redirected to `Wav2Vec2CTCTokenizer`'s call method.\n",
        "For more information please check the [docs](https://huggingface.co/transformers/master/model_doc/wav2vec2.html#transformers.Wav2Vec2Processor.__call__).\n"
      ]
    },
    {
      "cell_type": "code",
      "metadata": {
        "id": "5hzSqo40DPCE"
      },
      "source": [
        "def prepare_dataset(batch):\n",
        "    # check that all files have the correct sampling rate\n",
        "    assert (\n",
        "        len(set(batch[\"sampling_rate\"])) == 1\n",
        "    ), f\"Make sure all inputs have the same sampling rate of {processor.feature_extractor.sampling_rate}.\"\n",
        "\n",
        "    batch[\"input_values\"] = processor(batch[\"speech\"], sampling_rate=batch[\"sampling_rate\"][0]).input_values\n",
        "    \n",
        "    with processor.as_target_processor():\n",
        "        batch[\"labels\"] = processor(batch[\"target_text\"]).input_ids\n",
        "    return batch"
      ],
      "execution_count": null,
      "outputs": []
    },
    {
      "cell_type": "code",
      "metadata": {
        "colab": {
          "base_uri": "https://localhost:8080/"
        },
        "id": "SmQx5YvWDR5i",
        "outputId": "b2e21220-d21f-4124-d4e0-e8d3d3f16509"
      },
      "source": [
        "common_voice_train = common_voice_train.map(prepare_dataset, remove_columns=common_voice_train.column_names, batch_size=8, num_proc=4, batched=True)\n",
        "common_voice_test = common_voice_test.map(prepare_dataset, remove_columns=common_voice_test.column_names, batch_size=8, num_proc=4, batched=True)"
      ],
      "execution_count": null,
      "outputs": [
        {
          "output_type": "stream",
          "text": [
            "/usr/local/lib/python3.7/dist-packages/numpy/core/_asarray.py:83: VisibleDeprecationWarning: Creating an ndarray from ragged nested sequences (which is a list-or-tuple of lists-or-tuples-or ndarrays with different lengths or shapes) is deprecated. If you meant to do this, you must specify 'dtype=object' when creating the ndarray\n",
            "  return array(a, dtype, copy=False, order=order)\n"
          ],
          "name": "stderr"
        },
        {
          "output_type": "stream",
          "text": [
            "\n",
            "\n",
            "\n",
            "\n",
            "\n",
            "\n",
            "\n",
            "\n"
          ],
          "name": "stdout"
        }
      ]
    },
    {
      "cell_type": "markdown",
      "metadata": {
        "id": "MkfaC6BrqF0D"
      },
      "source": [
        "## Training\n",
        "\n",
        "The data is processed so that we are ready to start setting up the training pipeline. We will make use of 🤗's [Trainer](https://huggingface.co/transformers/master/main_classes/trainer.html?highlight=trainer) for which we essentially need to do the following:\n",
        "\n",
        "- Define a data collator. In contrast to most NLP models, XLSR-Wav2Vec2 has a much larger input length than output length. *E.g.*, a sample of input length 50000 has an output length of no more than 100. Given the large input sizes, it is much more efficient to pad the training batches dynamically meaning that all training samples should only be padded to the longest sample in their batch and not the overall longest sample. Therefore, fine-tuning XLSR-Wav2Vec2 requires a special padding data collator, which we will define below\n",
        "\n",
        "- Evaluation metric. During training, the model should be evaluated on the word error rate. We should define a `compute_metrics` function accordingly\n",
        "\n",
        "- Load a pretrained checkpoint. We need to load a pretrained checkpoint and configure it correctly for training.\n",
        "\n",
        "- Define the training configuration.\n",
        "\n",
        "After having fine-tuned the model, we will correctly evaluate it on the test data and verify that it has indeed learned to correctly transcribe speech."
      ]
    },
    {
      "cell_type": "markdown",
      "metadata": {
        "id": "aQQgpBiOqFqN"
      },
      "source": [
        "### Set-up Trainer\n",
        "\n",
        "Let's start by defining the data collator. The code for the data collator was copied from [this example](https://github.com/huggingface/transformers/blob/9a06b6b11bdfc42eea08fa91d0c737d1863c99e3/examples/research_projects/wav2vec2/run_asr.py#L81).\n",
        "\n",
        "Without going into too many details, in contrast to the common data collators, this data collator treats the `input_values` and `labels` differently and thus applies to separate padding functions on them (again making use of XLSR-Wav2Vec2's context manager). This is necessary because in speech input and output are of different modalities meaning that they should not be treated by the same padding function.\n",
        "Analogous to the common data collators, the padding tokens in the labels with `-100` so that those tokens are **not** taken into account when computing the loss."
      ]
    },
    {
      "cell_type": "code",
      "metadata": {
        "id": "4S8B7kOSDUJF"
      },
      "source": [
        "import torch\n",
        "\n",
        "from dataclasses import dataclass, field\n",
        "from typing import Any, Dict, List, Optional, Union\n",
        "\n",
        "@dataclass\n",
        "class DataCollatorCTCWithPadding:\n",
        "    \"\"\"\n",
        "    Data collator that will dynamically pad the inputs received.\n",
        "    Args:\n",
        "        processor (:class:`~transformers.Wav2Vec2Processor`)\n",
        "            The processor used for proccessing the data.\n",
        "        padding (:obj:`bool`, :obj:`str` or :class:`~transformers.tokenization_utils_base.PaddingStrategy`, `optional`, defaults to :obj:`True`):\n",
        "            Select a strategy to pad the returned sequences (according to the model's padding side and padding index)\n",
        "            among:\n",
        "            * :obj:`True` or :obj:`'longest'`: Pad to the longest sequence in the batch (or no padding if only a single\n",
        "              sequence if provided).\n",
        "            * :obj:`'max_length'`: Pad to a maximum length specified with the argument :obj:`max_length` or to the\n",
        "              maximum acceptable input length for the model if that argument is not provided.\n",
        "            * :obj:`False` or :obj:`'do_not_pad'` (default): No padding (i.e., can output a batch with sequences of\n",
        "              different lengths).\n",
        "        max_length (:obj:`int`, `optional`):\n",
        "            Maximum length of the ``input_values`` of the returned list and optionally padding length (see above).\n",
        "        max_length_labels (:obj:`int`, `optional`):\n",
        "            Maximum length of the ``labels`` returned list and optionally padding length (see above).\n",
        "        pad_to_multiple_of (:obj:`int`, `optional`):\n",
        "            If set will pad the sequence to a multiple of the provided value.\n",
        "            This is especially useful to enable the use of Tensor Cores on NVIDIA hardware with compute capability >=\n",
        "            7.5 (Volta).\n",
        "    \"\"\"\n",
        "\n",
        "    processor: Wav2Vec2Processor\n",
        "    padding: Union[bool, str] = True\n",
        "    max_length: Optional[int] = None\n",
        "    max_length_labels: Optional[int] = None\n",
        "    pad_to_multiple_of: Optional[int] = None\n",
        "    pad_to_multiple_of_labels: Optional[int] = None\n",
        "\n",
        "    def __call__(self, features: List[Dict[str, Union[List[int], torch.Tensor]]]) -> Dict[str, torch.Tensor]:\n",
        "        # split inputs and labels since they have to be of different lenghts and need\n",
        "        # different padding methods\n",
        "        input_features = [{\"input_values\": feature[\"input_values\"]} for feature in features]\n",
        "        label_features = [{\"input_ids\": feature[\"labels\"]} for feature in features]\n",
        "\n",
        "        batch = self.processor.pad(\n",
        "            input_features,\n",
        "            padding=self.padding,\n",
        "            max_length=self.max_length,\n",
        "            pad_to_multiple_of=self.pad_to_multiple_of,\n",
        "            return_tensors=\"pt\",\n",
        "        )\n",
        "        with self.processor.as_target_processor():\n",
        "            labels_batch = self.processor.pad(\n",
        "                label_features,\n",
        "                padding=self.padding,\n",
        "                max_length=self.max_length_labels,\n",
        "                pad_to_multiple_of=self.pad_to_multiple_of_labels,\n",
        "                return_tensors=\"pt\",\n",
        "            )\n",
        "\n",
        "        # replace padding with -100 to ignore loss correctly\n",
        "        labels = labels_batch[\"input_ids\"].masked_fill(labels_batch.attention_mask.ne(1), -100)\n",
        "\n",
        "        batch[\"labels\"] = labels\n",
        "\n",
        "        return batch"
      ],
      "execution_count": null,
      "outputs": []
    },
    {
      "cell_type": "code",
      "metadata": {
        "id": "A0mg--wFDV17"
      },
      "source": [
        "data_collator = DataCollatorCTCWithPadding(processor=processor, padding=True)"
      ],
      "execution_count": null,
      "outputs": []
    },
    {
      "cell_type": "markdown",
      "metadata": {
        "id": "EKkXE4LxqL-w"
      },
      "source": [
        "Next, the evaluation metric is defined. As mentioned earlier, the \n",
        "predominant metric in ASR is the word error rate (WER), hence we will use it in this notebook as well."
      ]
    },
    {
      "cell_type": "code",
      "metadata": {
        "colab": {
          "base_uri": "https://localhost:8080/",
          "height": 66,
          "referenced_widgets": [
            "be8779452b4e470ea581de960e85c41d",
            "5db90d3605364136a017188c617c5ba1",
            "169cb699bb6f4ec6b8e2a2edbb0b821f",
            "0b155fe8d4fb40f0883e2a9aed06c238",
            "77e7956511724505af20c6ae43a9cdcc",
            "296d687e1c524821a23f3f9ca8bb23aa",
            "ef00efe2445949f8a5082f6c7acbba71",
            "bf55c27bff7d46e486e27e773b11fc4b"
          ]
        },
        "id": "1Uc3iVqsDXPh",
        "outputId": "3e6ceaf2-2c32-4852-bfb6-cbbb592ea8c2"
      },
      "source": [
        "wer_metric = load_metric(\"wer\")"
      ],
      "execution_count": null,
      "outputs": [
        {
          "output_type": "display_data",
          "data": {
            "application/vnd.jupyter.widget-view+json": {
              "model_id": "be8779452b4e470ea581de960e85c41d",
              "version_minor": 0,
              "version_major": 2
            },
            "text/plain": [
              "HBox(children=(FloatProgress(value=0.0, description='Downloading', max=1764.0, style=ProgressStyle(description…"
            ]
          },
          "metadata": {}
        },
        {
          "output_type": "stream",
          "text": [
            "\n"
          ],
          "name": "stdout"
        }
      ]
    },
    {
      "cell_type": "markdown",
      "metadata": {
        "id": "muPpxPW9qPYd"
      },
      "source": [
        "The model will return a sequence of logit vectors:\n",
        "$\\mathbf{y}_1, \\ldots, \\mathbf{y}_m$ with $\\mathbf{y}_1 = f_{\\theta}(x_1, \\ldots, x_n)[0]$ and $n >> m$.\n",
        "\n",
        "A logit vector $\\mathbf{y}_1$ contains the log-odds for each word in the vocabulary we defined earlier, thus $\\text{len}(\\mathbf{y}_i) =$ `config.vocab_size`. We are interested in the most likely prediction of the model and thus take the `argmax(...)` of the logits. Also, we transform the encoded labels back to the original string by replacing `-100` with the `pad_token_id` and decoding the ids while making sure that consecutive tokens are **not** grouped to the same token in CTC style ${}^1$."
      ]
    },
    {
      "cell_type": "code",
      "metadata": {
        "id": "X7olLh_1DYWU"
      },
      "source": [
        "def compute_metrics(pred):\n",
        "    pred_logits = pred.predictions\n",
        "    pred_ids = np.argmax(pred_logits, axis=-1)\n",
        "\n",
        "    pred.label_ids[pred.label_ids == -100] = processor.tokenizer.pad_token_id\n",
        "\n",
        "    pred_str = processor.batch_decode(pred_ids)\n",
        "    # we do not want to group tokens when computing the metrics\n",
        "    label_str = processor.batch_decode(pred.label_ids, group_tokens=False)\n",
        "\n",
        "    wer = wer_metric.compute(predictions=pred_str, references=label_str)\n",
        "\n",
        "    return {\"wer\": wer}"
      ],
      "execution_count": null,
      "outputs": []
    },
    {
      "cell_type": "markdown",
      "metadata": {
        "id": "DjevuF0ZqRoH"
      },
      "source": [
        "Now, we can load the pretrained `XLSR-Wav2Vec2` checkpoint. The tokenizer's `pad_token_id` must be to define the model's `pad_token_id` or in the case of `Wav2Vec2ForCTC` also CTC's *blank token* ${}^2$. To save GPU memory, we enable PyTorch's [gradient checkpointing](https://pytorch.org/docs/stable/checkpoint.html) and also set the loss reduction to \"*mean*\".\n",
        "\n",
        "Because the dataset is quite small (~6h of training data) and because Common Voice is quite noisy, fine-tuning Facebook's [wav2vec2-large-xlsr-53 checkpoint](https://huggingface.co/facebook/wav2vec2-large-xlsr-53) seems to require some hyper-parameter tuning. Therefore, I had to play around a bit with different values for dropout, [SpecAugment](https://arxiv.org/abs/1904.08779)'s masking dropout rate, layer dropout, and the learning rate until training seemed to be stable enough. \n",
        "\n",
        "**Note**: When using this notebook to train XLSR-Wav2Vec2 on another language of Common Voice those hyper-parameter settings might not work very well. Feel free to adapt those depending on your use case. "
      ]
    },
    {
      "cell_type": "code",
      "metadata": {
        "colab": {
          "base_uri": "https://localhost:8080/",
          "height": 218,
          "referenced_widgets": [
            "7c07e4179cb04ab195386c1373dc4813",
            "32ad5c56a6bd4e17af789b1ce191807f",
            "66b420e35bd1470394ae250aeb335688",
            "23d306fab1be44f88ab0c6e8badc4d75",
            "2d34cdd162704c0ca6c4f35bd69e552e",
            "bd585ea967f74511900212f01c49cbb1",
            "f833d1719e364d53a4ce07b20b61f8bc",
            "a7948124cadc4b55b20f03ff5aee0e1d",
            "3cb69a840f8247f7a1d9c24846191e04",
            "51d42e189ad2440d8c5e3be469c44932",
            "618c6488ac3c4dcd9a35c5e7a99e610d",
            "6683609fafe745fea502d53b5ac35e3c",
            "fd38a00be43e4ffe8678e2a120d57e23",
            "56ac1b4d000b4bf384739d7b43610883",
            "16047b7de9e4465fb992edb08566000d",
            "3268c5871c9b424c9d0bd6165ced8b35"
          ]
        },
        "id": "AhR44_ijDZv6",
        "outputId": "d83ecf0c-57f1-41b5-839c-7ed167517179"
      },
      "source": [
        "from transformers import Wav2Vec2ForCTC\n",
        "\n",
        "model = Wav2Vec2ForCTC.from_pretrained(\n",
        "    \"facebook/wav2vec2-large-xlsr-53\", \n",
        "    attention_dropout=0.1,\n",
        "    hidden_dropout=0.1,\n",
        "    feat_proj_dropout=0.0,\n",
        "    mask_time_prob=0.05,\n",
        "    layerdrop=0.1,\n",
        "    gradient_checkpointing=True, \n",
        "    ctc_loss_reduction=\"mean\", \n",
        "    pad_token_id=processor.tokenizer.pad_token_id,\n",
        "    vocab_size=len(processor.tokenizer)\n",
        ")"
      ],
      "execution_count": null,
      "outputs": [
        {
          "output_type": "display_data",
          "data": {
            "application/vnd.jupyter.widget-view+json": {
              "model_id": "7c07e4179cb04ab195386c1373dc4813",
              "version_minor": 0,
              "version_major": 2
            },
            "text/plain": [
              "HBox(children=(FloatProgress(value=0.0, description='Downloading', max=1768.0, style=ProgressStyle(description…"
            ]
          },
          "metadata": {}
        },
        {
          "output_type": "stream",
          "text": [
            "\n"
          ],
          "name": "stdout"
        },
        {
          "output_type": "display_data",
          "data": {
            "application/vnd.jupyter.widget-view+json": {
              "model_id": "3cb69a840f8247f7a1d9c24846191e04",
              "version_minor": 0,
              "version_major": 2
            },
            "text/plain": [
              "HBox(children=(FloatProgress(value=0.0, description='Downloading', max=1269737156.0, style=ProgressStyle(descr…"
            ]
          },
          "metadata": {}
        },
        {
          "output_type": "stream",
          "text": [
            "\n"
          ],
          "name": "stdout"
        },
        {
          "output_type": "stream",
          "text": [
            "Some weights of the model checkpoint at facebook/wav2vec2-large-xlsr-53 were not used when initializing Wav2Vec2ForCTC: ['quantizer.codevectors', 'quantizer.weight_proj.weight', 'quantizer.weight_proj.bias', 'project_q.weight', 'project_q.bias', 'project_hid.weight', 'project_hid.bias']\n",
            "- This IS expected if you are initializing Wav2Vec2ForCTC from the checkpoint of a model trained on another task or with another architecture (e.g. initializing a BertForSequenceClassification model from a BertForPreTraining model).\n",
            "- This IS NOT expected if you are initializing Wav2Vec2ForCTC from the checkpoint of a model that you expect to be exactly identical (initializing a BertForSequenceClassification model from a BertForSequenceClassification model).\n",
            "Some weights of Wav2Vec2ForCTC were not initialized from the model checkpoint at facebook/wav2vec2-large-xlsr-53 and are newly initialized: ['lm_head.weight', 'lm_head.bias']\n",
            "You should probably TRAIN this model on a down-stream task to be able to use it for predictions and inference.\n"
          ],
          "name": "stderr"
        }
      ]
    },
    {
      "cell_type": "markdown",
      "metadata": {
        "id": "g5evKDOmqU2J"
      },
      "source": [
        "The first component of XLSR-Wav2Vec2 consists of a stack of CNN layers that are used to extract acoustically meaningful - but contextually independent - features from the raw speech signal. This part of the model has already been sufficiently trained during pretraining and as stated in the [paper](https://arxiv.org/pdf/2006.13979.pdf) does not need to be fine-tuned anymore. \n",
        "Thus, we can set the `requires_grad` to `False` for all parameters of the *feature extraction* part."
      ]
    },
    {
      "cell_type": "code",
      "metadata": {
        "id": "iWic7STlDba6"
      },
      "source": [
        "model.freeze_feature_extractor()"
      ],
      "execution_count": null,
      "outputs": []
    },
    {
      "cell_type": "markdown",
      "metadata": {
        "id": "F7TWazEEqW2o"
      },
      "source": [
        "In a final step, we define all parameters related to training. \n",
        "To give more explanation on some of the parameters:\n",
        "- `group_by_length` makes training more efficient by grouping training samples of similar input length into one batch. This can significantly speed up training time by heavily reducing the overall number of useless padding tokens that are passed through the model\n",
        "- `learning_rate` and `weight_decay` were heuristically tuned until fine-tuning has become stable. Note that those parameters strongly depend on the Common Voice dataset and might be suboptimal for other speech datasets.\n",
        "\n",
        "For more explanations on other parameters, one can take a look at the [docs](https://huggingface.co/transformers/master/main_classes/trainer.html?highlight=trainer#trainingarguments).\n",
        "\n",
        "**Note**: If one wants to save the trained models in his/her google drive the commented-out `output_dir` can be used instead."
      ]
    },
    {
      "cell_type": "code",
      "metadata": {
        "id": "dLGiADFHDye9"
      },
      "source": [
        "from transformers import TrainingArguments\n",
        "\n",
        "training_args = TrainingArguments(\n",
        "  output_dir=\"/content/gdrive/MyDrive/wav2vec2-large-xlsr-darija-demo\",\n",
        "  # output_dir=\"./wav2vec2-large-xlsr-turkish-demo\",\n",
        "  #elgeish/\n",
        "  group_by_length=True,\n",
        "  per_device_train_batch_size=8,\n",
        "  # per_device_train_batch_size=16,\n",
        "  gradient_accumulation_steps=2,\n",
        "  evaluation_strategy=\"steps\",\n",
        "  num_train_epochs=30,\n",
        "  fp16=True,\n",
        "  save_steps=10,\n",
        "  eval_steps=10,\n",
        "  logging_steps=10,\n",
        "  learning_rate=3e-4,\n",
        "  warmup_steps=10,\n",
        "  save_total_limit=2,\n",
        ")"
      ],
      "execution_count": null,
      "outputs": []
    },
    {
      "cell_type": "markdown",
      "metadata": {
        "id": "wwfKkJjoqZ_0"
      },
      "source": [
        "Now, all instances can be passed to Trainer and we are ready to start training!"
      ]
    },
    {
      "cell_type": "code",
      "metadata": {
        "id": "dhDP7bt-D88q"
      },
      "source": [
        "from transformers import Trainer\n",
        "\n",
        "trainer = Trainer(\n",
        "    model=model,\n",
        "    data_collator=data_collator,\n",
        "    args=training_args,\n",
        "    compute_metrics=compute_metrics,\n",
        "    train_dataset=common_voice_train,\n",
        "    eval_dataset=common_voice_test,\n",
        "    tokenizer=processor.feature_extractor,\n",
        ")"
      ],
      "execution_count": null,
      "outputs": []
    },
    {
      "cell_type": "markdown",
      "metadata": {
        "id": "axvtsI4BqcFi"
      },
      "source": [
        "\n",
        "\n",
        "---\n",
        "\n",
        "${}^1$ To allow models to become independent of the speaker rate, in CTC, consecutive tokens that are identical are simply grouped as a single token. However, the encoded labels should not be grouped when decoding since they don't correspond to the predicted tokens of the model, which is why the `group_tokens=False` parameter has to be passed. If we wouldn't pass this parameter a word like `\"hello\"` would incorrectly be encoded, and decoded as `\"helo\"`.\n",
        "\n",
        "${}^2$ The blank token allows the model to predict a word, such as `\"hello\"` by forcing it to insert the blank token between the two l's. A CTC-conform prediction of `\"hello\"` of our model would be `[PAD] [PAD] \"h\" \"e\" \"e\" \"l\" \"l\" [PAD] \"l\" \"o\" \"o\" [PAD]`."
      ]
    },
    {
      "cell_type": "markdown",
      "metadata": {
        "id": "SuLIZcXtFDZa"
      },
      "source": [
        "#Traning "
      ]
    },
    {
      "cell_type": "markdown",
      "metadata": {
        "id": "gcYdk7v5qfG2"
      },
      "source": [
        "Training will take between 180 and 240 minutes depending on the GPU allocated to this notebook. While the trained model yields somewhat satisfying results on *Common Voice*'s test data of Turkish, it is by no means an optimally fine-tuned model. The purpose of this notebook is to demonstrate how XLSR-Wav2Vec2's [checkpoint](https://huggingface.co/facebook/wav2vec2-large-xlsr-53) can be fine-tuned on a low-resource ASR dataset.\n",
        "\n",
        "In case you want to use this google colab to fine-tune your model, you should make sure that your training doesn't stop due to inactivity. A simple hack to prevent this is to paste the following code into the console of this tab (*right mouse click -> inspect -> Console tab and insert code*)."
      ]
    },
    {
      "cell_type": "markdown",
      "metadata": {
        "id": "Y4K_vTchqjAf"
      },
      "source": [
        "```javascript\n",
        "function ConnectButton(){\n",
        "    console.log(\"Connect pushed\"); \n",
        "    document.querySelector(\"#top-toolbar > colab-connect-button\").shadowRoot.querySelector(\"#connect\").click() \n",
        "}\n",
        "setInterval(ConnectButton,60000);\n",
        "```"
      ]
    },
    {
      "cell_type": "code",
      "metadata": {
        "colab": {
          "base_uri": "https://localhost:8080/",
          "height": 1000
        },
        "id": "GDsgb1LxD_oC",
        "outputId": "9dc8d81d-dfc4-407d-b098-9e2247d5577f"
      },
      "source": [
        "trainer.train()"
      ],
      "execution_count": null,
      "outputs": [
        {
          "output_type": "stream",
          "text": [
            "/usr/local/lib/python3.7/dist-packages/torch/_tensor.py:575: UserWarning: floor_divide is deprecated, and will be removed in a future version of pytorch. It currently rounds toward 0 (like the 'trunc' function NOT 'floor'). This results in incorrect rounding for negative values.\n",
            "To keep the current behavior, use torch.div(a, b, rounding_mode='trunc'), or for actual floor division, use torch.div(a, b, rounding_mode='floor'). (Triggered internally at  /pytorch/aten/src/ATen/native/BinaryOps.cpp:467.)\n",
            "  return torch.floor_divide(self, other)\n",
            "/usr/local/lib/python3.7/dist-packages/transformers/trainer.py:1083: FutureWarning: Non-finite norm encountered in torch.nn.utils.clip_grad_norm_; continuing anyway. Note that the default behavior will change in a future release to error out if a non-finite total norm is encountered. At that point, setting error_if_nonfinite=false will be required to retain the old behavior.\n",
            "  self.args.max_grad_norm,\n",
            "/usr/local/lib/python3.7/dist-packages/torch/optim/lr_scheduler.py:134: UserWarning: Detected call of `lr_scheduler.step()` before `optimizer.step()`. In PyTorch 1.1.0 and later, you should call them in the opposite order: `optimizer.step()` before `lr_scheduler.step()`.  Failure to do this will result in PyTorch skipping the first value of the learning rate schedule. See more details at https://pytorch.org/docs/stable/optim.html#how-to-adjust-learning-rate\n",
            "  \"https://pytorch.org/docs/stable/optim.html#how-to-adjust-learning-rate\", UserWarning)\n"
          ],
          "name": "stderr"
        },
        {
          "output_type": "display_data",
          "data": {
            "text/html": [
              "\n",
              "    <div>\n",
              "        <style>\n",
              "            /* Turns off some styling */\n",
              "            progress {\n",
              "                /* gets rid of default border in Firefox and Opera. */\n",
              "                border: none;\n",
              "                /* Needs to be in here for Safari polyfill so background images work as expected. */\n",
              "                background-size: auto;\n",
              "            }\n",
              "        </style>\n",
              "      \n",
              "      <progress value='270' max='270' style='width:300px; height:20px; vertical-align: middle;'></progress>\n",
              "      [270/270 1:26:47, Epoch 29/30]\n",
              "    </div>\n",
              "    <table border=\"1\" class=\"dataframe\">\n",
              "  <thead>\n",
              "    <tr style=\"text-align: left;\">\n",
              "      <th>Step</th>\n",
              "      <th>Training Loss</th>\n",
              "      <th>Validation Loss</th>\n",
              "      <th>Wer</th>\n",
              "      <th>Runtime</th>\n",
              "      <th>Samples Per Second</th>\n",
              "    </tr>\n",
              "  </thead>\n",
              "  <tbody>\n",
              "    <tr>\n",
              "      <td>10</td>\n",
              "      <td>73.202700</td>\n",
              "      <td>23.729820</td>\n",
              "      <td>1.000000</td>\n",
              "      <td>2.058600</td>\n",
              "      <td>4.858000</td>\n",
              "    </tr>\n",
              "    <tr>\n",
              "      <td>20</td>\n",
              "      <td>55.943900</td>\n",
              "      <td>7.086082</td>\n",
              "      <td>1.000000</td>\n",
              "      <td>2.033400</td>\n",
              "      <td>4.918000</td>\n",
              "    </tr>\n",
              "    <tr>\n",
              "      <td>30</td>\n",
              "      <td>13.539500</td>\n",
              "      <td>3.769682</td>\n",
              "      <td>1.000000</td>\n",
              "      <td>2.037700</td>\n",
              "      <td>4.908000</td>\n",
              "    </tr>\n",
              "    <tr>\n",
              "      <td>40</td>\n",
              "      <td>6.782400</td>\n",
              "      <td>3.555602</td>\n",
              "      <td>1.000000</td>\n",
              "      <td>2.029200</td>\n",
              "      <td>4.928000</td>\n",
              "    </tr>\n",
              "    <tr>\n",
              "      <td>50</td>\n",
              "      <td>4.160100</td>\n",
              "      <td>3.611398</td>\n",
              "      <td>1.000000</td>\n",
              "      <td>2.076200</td>\n",
              "      <td>4.816000</td>\n",
              "    </tr>\n",
              "    <tr>\n",
              "      <td>60</td>\n",
              "      <td>4.123500</td>\n",
              "      <td>3.726896</td>\n",
              "      <td>1.000000</td>\n",
              "      <td>2.070700</td>\n",
              "      <td>4.829000</td>\n",
              "    </tr>\n",
              "    <tr>\n",
              "      <td>70</td>\n",
              "      <td>4.006100</td>\n",
              "      <td>3.664050</td>\n",
              "      <td>1.000000</td>\n",
              "      <td>2.026300</td>\n",
              "      <td>4.935000</td>\n",
              "    </tr>\n",
              "    <tr>\n",
              "      <td>80</td>\n",
              "      <td>4.140300</td>\n",
              "      <td>3.783163</td>\n",
              "      <td>1.000000</td>\n",
              "      <td>2.057700</td>\n",
              "      <td>4.860000</td>\n",
              "    </tr>\n",
              "    <tr>\n",
              "      <td>90</td>\n",
              "      <td>3.934800</td>\n",
              "      <td>3.434819</td>\n",
              "      <td>1.000000</td>\n",
              "      <td>2.074100</td>\n",
              "      <td>4.821000</td>\n",
              "    </tr>\n",
              "    <tr>\n",
              "      <td>100</td>\n",
              "      <td>4.153600</td>\n",
              "      <td>3.332311</td>\n",
              "      <td>1.000000</td>\n",
              "      <td>2.046800</td>\n",
              "      <td>4.886000</td>\n",
              "    </tr>\n",
              "    <tr>\n",
              "      <td>110</td>\n",
              "      <td>3.630400</td>\n",
              "      <td>3.440187</td>\n",
              "      <td>1.000000</td>\n",
              "      <td>2.032900</td>\n",
              "      <td>4.919000</td>\n",
              "    </tr>\n",
              "    <tr>\n",
              "      <td>120</td>\n",
              "      <td>3.419400</td>\n",
              "      <td>3.653950</td>\n",
              "      <td>1.000000</td>\n",
              "      <td>2.046200</td>\n",
              "      <td>4.887000</td>\n",
              "    </tr>\n",
              "    <tr>\n",
              "      <td>130</td>\n",
              "      <td>3.380800</td>\n",
              "      <td>3.298223</td>\n",
              "      <td>1.000000</td>\n",
              "      <td>2.027300</td>\n",
              "      <td>4.933000</td>\n",
              "    </tr>\n",
              "    <tr>\n",
              "      <td>140</td>\n",
              "      <td>3.405500</td>\n",
              "      <td>3.951456</td>\n",
              "      <td>1.000000</td>\n",
              "      <td>1.997500</td>\n",
              "      <td>5.006000</td>\n",
              "    </tr>\n",
              "    <tr>\n",
              "      <td>150</td>\n",
              "      <td>3.219800</td>\n",
              "      <td>4.052561</td>\n",
              "      <td>1.000000</td>\n",
              "      <td>2.044400</td>\n",
              "      <td>4.891000</td>\n",
              "    </tr>\n",
              "    <tr>\n",
              "      <td>160</td>\n",
              "      <td>3.166700</td>\n",
              "      <td>4.013621</td>\n",
              "      <td>1.000000</td>\n",
              "      <td>2.027300</td>\n",
              "      <td>4.933000</td>\n",
              "    </tr>\n",
              "    <tr>\n",
              "      <td>170</td>\n",
              "      <td>3.062200</td>\n",
              "      <td>3.288334</td>\n",
              "      <td>1.000000</td>\n",
              "      <td>2.052700</td>\n",
              "      <td>4.872000</td>\n",
              "    </tr>\n",
              "    <tr>\n",
              "      <td>180</td>\n",
              "      <td>3.109200</td>\n",
              "      <td>3.182349</td>\n",
              "      <td>1.000000</td>\n",
              "      <td>2.036900</td>\n",
              "      <td>4.909000</td>\n",
              "    </tr>\n",
              "    <tr>\n",
              "      <td>190</td>\n",
              "      <td>3.177000</td>\n",
              "      <td>3.471345</td>\n",
              "      <td>1.000000</td>\n",
              "      <td>2.020300</td>\n",
              "      <td>4.950000</td>\n",
              "    </tr>\n",
              "    <tr>\n",
              "      <td>200</td>\n",
              "      <td>2.986100</td>\n",
              "      <td>3.316103</td>\n",
              "      <td>1.000000</td>\n",
              "      <td>2.042800</td>\n",
              "      <td>4.895000</td>\n",
              "    </tr>\n",
              "    <tr>\n",
              "      <td>210</td>\n",
              "      <td>3.041500</td>\n",
              "      <td>3.183816</td>\n",
              "      <td>1.000000</td>\n",
              "      <td>2.056700</td>\n",
              "      <td>4.862000</td>\n",
              "    </tr>\n",
              "    <tr>\n",
              "      <td>220</td>\n",
              "      <td>2.960600</td>\n",
              "      <td>3.087322</td>\n",
              "      <td>1.000000</td>\n",
              "      <td>2.059200</td>\n",
              "      <td>4.856000</td>\n",
              "    </tr>\n",
              "    <tr>\n",
              "      <td>230</td>\n",
              "      <td>3.041200</td>\n",
              "      <td>3.332240</td>\n",
              "      <td>1.000000</td>\n",
              "      <td>2.086400</td>\n",
              "      <td>4.793000</td>\n",
              "    </tr>\n",
              "    <tr>\n",
              "      <td>240</td>\n",
              "      <td>2.975200</td>\n",
              "      <td>3.309188</td>\n",
              "      <td>1.000000</td>\n",
              "      <td>2.123400</td>\n",
              "      <td>4.709000</td>\n",
              "    </tr>\n",
              "    <tr>\n",
              "      <td>250</td>\n",
              "      <td>3.285200</td>\n",
              "      <td>3.323372</td>\n",
              "      <td>1.000000</td>\n",
              "      <td>2.077100</td>\n",
              "      <td>4.814000</td>\n",
              "    </tr>\n",
              "    <tr>\n",
              "      <td>260</td>\n",
              "      <td>2.943300</td>\n",
              "      <td>3.317445</td>\n",
              "      <td>1.000000</td>\n",
              "      <td>2.043400</td>\n",
              "      <td>4.894000</td>\n",
              "    </tr>\n",
              "    <tr>\n",
              "      <td>270</td>\n",
              "      <td>3.031400</td>\n",
              "      <td>3.317456</td>\n",
              "      <td>1.000000</td>\n",
              "      <td>2.053500</td>\n",
              "      <td>4.870000</td>\n",
              "    </tr>\n",
              "  </tbody>\n",
              "</table><p>"
            ],
            "text/plain": [
              "<IPython.core.display.HTML object>"
            ]
          },
          "metadata": {}
        },
        {
          "output_type": "stream",
          "text": [
            "/usr/local/lib/python3.7/dist-packages/transformers/trainer.py:1083: FutureWarning: Non-finite norm encountered in torch.nn.utils.clip_grad_norm_; continuing anyway. Note that the default behavior will change in a future release to error out if a non-finite total norm is encountered. At that point, setting error_if_nonfinite=false will be required to retain the old behavior.\n",
            "  self.args.max_grad_norm,\n"
          ],
          "name": "stderr"
        },
        {
          "output_type": "execute_result",
          "data": {
            "text/plain": [
              "TrainOutput(global_step=270, training_loss=8.437866168551976, metrics={'train_runtime': 5223.474, 'train_samples_per_second': 0.052, 'total_flos': 7.235136319211773e+17, 'epoch': 29.95, 'init_mem_cpu_alloc_delta': 1680490, 'init_mem_gpu_alloc_delta': 1261956096, 'init_mem_cpu_peaked_delta': 18306, 'init_mem_gpu_peaked_delta': 0, 'train_mem_cpu_alloc_delta': 1702698, 'train_mem_gpu_alloc_delta': 3812398080, 'train_mem_cpu_peaked_delta': 56404448, 'train_mem_gpu_peaked_delta': 2106265600})"
            ]
          },
          "metadata": {},
          "execution_count": 42
        }
      ]
    },
    {
      "cell_type": "markdown",
      "metadata": {
        "id": "q62E2UgpqlQ_"
      },
      "source": [
        "The training loss goes down and we can see that the WER on the test set also improves nicely. Because this notebook is just for demonstration purposes, we can stop here.\n",
        "\n",
        "The resulting model of this notebook has been saved to [`patrickvonplaten/wav2vec2-large-xlsr-turkish-demo`](https://huggingface.co/patrickvonplaten/wav2vec2-large-xlsr-turkish-demo)\n",
        "\n",
        "As a final check, let's load the model and verify that it indeed has learned to transcribe Turkish speech.\n",
        "\n",
        "Let's first load the pretrained checkpoint."
      ]
    },
    {
      "cell_type": "code",
      "metadata": {
        "id": "kL-pTqPnEXTo"
      },
      "source": [
        "# model.save_pretrained(\"anas/wav2vec2-large-xlsr-arabic\")\n",
        "# processor.save_pretrained(\"anas/wav2vec2-large-xlsr-arabic\")"
      ],
      "execution_count": null,
      "outputs": []
    },
    {
      "cell_type": "code",
      "metadata": {
        "id": "I8xPVpbxEEGS",
        "colab": {
          "base_uri": "https://localhost:8080/",
          "height": 326,
          "referenced_widgets": [
            "2ededbae5ae74a0d89394e74ad1aecf7",
            "18af61d6970d4f409c41c58a659d5875",
            "0ba3f2a092294216a009358c84d15293",
            "4dcb007280ab4bcf9305af4a9eeae3f0",
            "1b327db566f54d51a3648b28e8cb433f",
            "e9e8408c09a647b0bcd0e4fd6fc29478",
            "1717c3163af94ceb835ebd67557b9880",
            "73cdfa11e2034978b18dfe9492b8319e",
            "5f107e1fe79a48f2934c55e1099ba38a",
            "e47cdcb03dc245268b3ff9cd491c65ee",
            "bb9e0266e00c410c87e06dfc8c2f6923",
            "554d90e0bb4d4f26ae2cfe59de2e0580",
            "986079d77c344691a89530c22eee2097",
            "b3cbf6724eb843ce9dc63de56565fd1c",
            "ea4cfcf87fbc45a28743ec01e0aea3ba",
            "7364a455a4354cbe93399ca04fc76280",
            "9e8f87f416934e489275d70958b5827b",
            "41b55e0c8edb454d80a09237981cd27b",
            "cc7ce23b211f4d1c96dd25b961f01ac2",
            "162a32f6d854444681d1820929415f3a",
            "54757a27608144c78869cfe7cdd6725b",
            "900683e460d6497a9dd9c57b7d2f9cca",
            "abbfee6644544a26953410e7c77080ac",
            "d55d5507278246a9b372e3988ac2319c",
            "773d73b695304fb2ac767a409d1e869f",
            "66d5560f5ef04f0199878fb794943e16",
            "22065009670048ebb68801ac0b57dcf3",
            "bfa895a400904e4cb1be941c5f317d33",
            "34457e1042d249febf936f98a427f8bb",
            "6b3df951317c457188500857b3f11e79",
            "09f9e9072c33445480a157b139114407",
            "5c28113c652540adb9e29f1cd0a60b10",
            "380eae56bdec43bfa74090ab554e248f",
            "216e7fa26c92441eb96d3ba56eced710",
            "9085459532dc453fbf0ea4af6b70d27a",
            "04e97428f31d465d8960fafac1862005",
            "42338377ec884bcfa2ee10d08824dc7d",
            "b6c42617793d4918a13d3e33632dd52b",
            "d39be11376684998baf3bada9475684f",
            "6ce1f852466c4fcfb10f42bfc6876cc2",
            "301248d9a4cc4ae08b51ebe18a32f5f8",
            "cf4aff08b5f441bda5166acf569adea9",
            "b9a1d5ef54004eb6911c2bb02663e9b8",
            "77a105a6214745b9ba9641a49a283f7e",
            "bb0b14a1462342ea808ca32d1caa0d91",
            "4a4e1eaa525949189b34394fd4f06cda",
            "38772940a0314e799c45093464905888",
            "2c463e12eb7d403e89e9c9c3d045b15b"
          ]
        },
        "outputId": "9b3aa450-3f03-4716-b6c8-ab14bf251043"
      },
      "source": [
        "model = Wav2Vec2ForCTC.from_pretrained(\"anas/wav2vec2-large-xlsr-arabic\").to(\"cuda\")\n",
        "processor = Wav2Vec2Processor.from_pretrained(\"anas/wav2vec2-large-xlsr-arabic\")\n",
        "# model = Wav2Vec2ForCTC.from_pretrained(\"yassine/wav2vec2-large-xlsr-darija\").to(\"cuda\")\n",
        "# processor = Wav2Vec2Processor.from_pretrained(\"yassine/wav2vec2-large-xlsr-darija\")"
      ],
      "execution_count": null,
      "outputs": [
        {
          "output_type": "display_data",
          "data": {
            "application/vnd.jupyter.widget-view+json": {
              "model_id": "2ededbae5ae74a0d89394e74ad1aecf7",
              "version_minor": 0,
              "version_major": 2
            },
            "text/plain": [
              "HBox(children=(FloatProgress(value=0.0, description='Downloading', max=1564.0, style=ProgressStyle(description…"
            ]
          },
          "metadata": {}
        },
        {
          "output_type": "stream",
          "text": [
            "\n"
          ],
          "name": "stdout"
        },
        {
          "output_type": "display_data",
          "data": {
            "application/vnd.jupyter.widget-view+json": {
              "model_id": "5f107e1fe79a48f2934c55e1099ba38a",
              "version_minor": 0,
              "version_major": 2
            },
            "text/plain": [
              "HBox(children=(FloatProgress(value=0.0, description='Downloading', max=1262085527.0, style=ProgressStyle(descr…"
            ]
          },
          "metadata": {}
        },
        {
          "output_type": "stream",
          "text": [
            "\n"
          ],
          "name": "stdout"
        },
        {
          "output_type": "display_data",
          "data": {
            "application/vnd.jupyter.widget-view+json": {
              "model_id": "9e8f87f416934e489275d70958b5827b",
              "version_minor": 0,
              "version_major": 2
            },
            "text/plain": [
              "HBox(children=(FloatProgress(value=0.0, description='Downloading', max=158.0, style=ProgressStyle(description_…"
            ]
          },
          "metadata": {}
        },
        {
          "output_type": "stream",
          "text": [
            "\n"
          ],
          "name": "stdout"
        },
        {
          "output_type": "display_data",
          "data": {
            "application/vnd.jupyter.widget-view+json": {
              "model_id": "773d73b695304fb2ac767a409d1e869f",
              "version_minor": 0,
              "version_major": 2
            },
            "text/plain": [
              "HBox(children=(FloatProgress(value=0.0, description='Downloading', max=365.0, style=ProgressStyle(description_…"
            ]
          },
          "metadata": {}
        },
        {
          "output_type": "stream",
          "text": [
            "\n"
          ],
          "name": "stdout"
        },
        {
          "output_type": "display_data",
          "data": {
            "application/vnd.jupyter.widget-view+json": {
              "model_id": "380eae56bdec43bfa74090ab554e248f",
              "version_minor": 0,
              "version_major": 2
            },
            "text/plain": [
              "HBox(children=(FloatProgress(value=0.0, description='Downloading', max=138.0, style=ProgressStyle(description_…"
            ]
          },
          "metadata": {}
        },
        {
          "output_type": "stream",
          "text": [
            "\n"
          ],
          "name": "stdout"
        },
        {
          "output_type": "display_data",
          "data": {
            "application/vnd.jupyter.widget-view+json": {
              "model_id": "301248d9a4cc4ae08b51ebe18a32f5f8",
              "version_minor": 0,
              "version_major": 2
            },
            "text/plain": [
              "HBox(children=(FloatProgress(value=0.0, description='Downloading', max=85.0, style=ProgressStyle(description_w…"
            ]
          },
          "metadata": {}
        },
        {
          "output_type": "stream",
          "text": [
            "Special tokens have been added in the vocabulary, make sure the associated word embedding are fine-tuned or trained.\n"
          ],
          "name": "stderr"
        },
        {
          "output_type": "stream",
          "text": [
            "\n"
          ],
          "name": "stdout"
        }
      ]
    },
    {
      "cell_type": "markdown",
      "metadata": {
        "id": "zgMmQjMAqtmZ"
      },
      "source": [
        "Now, we will just take the first example of the test set, run it through the model and take the `argmax(...)` of the logits to retrieve the predicted token ids."
      ]
    },
    {
      "cell_type": "code",
      "metadata": {
        "id": "Tm4iyuvQEFx5",
        "colab": {
          "base_uri": "https://localhost:8080/"
        },
        "outputId": "75167f91-204c-4ded-a0c5-ab581e41e30c"
      },
      "source": [
        "input_dict = processor(common_voice_train[9][\"input_values\"], return_tensors=\"pt\", padding=True)\n",
        "\n",
        "logits = model(input_dict.input_values.to(\"cuda\")).logits\n",
        "\n",
        "pred_ids = torch.argmax(logits, dim=-1)[0]"
      ],
      "execution_count": null,
      "outputs": [
        {
          "output_type": "stream",
          "text": [
            "It is strongly recommended to pass the ``sampling_rate`` argument to this function.Failing to do so can result in silent errors that might be hard to debug.\n"
          ],
          "name": "stderr"
        }
      ]
    },
    {
      "cell_type": "markdown",
      "metadata": {
        "id": "R7f1Xq3LqwsA"
      },
      "source": [
        "We adapted `common_voice_test` quite a bit so that the dataset instance does not contain the original sentence label anymore. Thus, we re-use the original dataset to get the label of the first example."
      ]
    },
    {
      "cell_type": "code",
      "metadata": {
        "id": "ZGrkmEpJEKg6",
        "colab": {
          "base_uri": "https://localhost:8080/"
        },
        "outputId": "e8df9304-1dee-4ef8-fbd6-455a09764d5d"
      },
      "source": [
        "common_voice_train_transcription = load_dataset('csv', data_files='/content/drive/MyDrive/dataset_transcripted/audios/train.csv')\n",
        "common_voice_train_transcription = common_voice_train_transcription['train']"
      ],
      "execution_count": null,
      "outputs": [
        {
          "output_type": "stream",
          "text": [
            "Using custom data configuration default-c9fc6a6b71e30206\n",
            "Reusing dataset csv (/root/.cache/huggingface/datasets/csv/default-c9fc6a6b71e30206/0.0.0/2a88c45fed596f9421a2e7f74ab1a3cd012ef75210a5dc1950e8d60ca8d9c66c)\n"
          ],
          "name": "stderr"
        }
      ]
    },
    {
      "cell_type": "markdown",
      "metadata": {
        "id": "CU-HH9bxq26M"
      },
      "source": [
        "Finally, we can decode the example."
      ]
    },
    {
      "cell_type": "code",
      "metadata": {
        "id": "oaEBAvtPEK5J",
        "colab": {
          "base_uri": "https://localhost:8080/"
        },
        "outputId": "4ecdcf30-1988-40e4-c9b9-fb14e35b54b9"
      },
      "source": [
        "print(\"Prediction:\")\n",
        "print(processor.decode(pred_ids))\n",
        "\n",
        "print(\"\\nReference:\")\n",
        "print(common_voice_train_transcription[9][\"text\"].lower())"
      ],
      "execution_count": null,
      "outputs": [
        {
          "output_type": "stream",
          "text": [
            "Prediction:\n",
            "فيوتيب اللهعتكص حاء وصافات كلهمناجحة لديدة كف قت قلي\n",
            "\n",
            "Reference:\n",
            "فيوتيب آله يعطيك الصحة وصفات كلهم ناجحة لذيدة كيف قتقولي\n"
          ],
          "name": "stdout"
        }
      ]
    },
    {
      "cell_type": "markdown",
      "metadata": {
        "id": "mPU-3DRTq6wL"
      },
      "source": [
        "Alright! The transcription can definitely be recognized from our prediction, but it is far from being perfect. Training the model a bit longer, spending more time on the data preprocessing, and especially using a language model for decoding would certainly improve the model's overall performance. \n",
        "\n",
        "For a demonstration model on a low-resource language, the results are acceptable, however 🤗."
      ]
    },
    {
      "cell_type": "code",
      "metadata": {
        "id": "kyDL31qhENpG",
        "colab": {
          "base_uri": "https://localhost:8080/",
          "height": 74
        },
        "outputId": "ce5ca5c6-fb8d-4531-ca8e-c8ce3972672a"
      },
      "source": [
        "import IPython.display as ipd\n",
        "import numpy as np\n",
        "import random\n",
        "\n",
        "ipd.Audio(data=np.asarray(common_voice_train[\"input_values\"][9]), autoplay=True, rate=16000)"
      ],
      "execution_count": null,
      "outputs": [
        {
          "output_type": "execute_result",
          "data": {
            "text/html": [
              "\n",
              "                <audio controls=\"controls\" autoplay=\"autoplay\">\n",
              "                    <source src=\"data:audio/wav;base64,UklGRnqFAwBXQVZFZm10IBAAAAABAAEAgD4AAAB9AAACABAAZGF0YVaFAwATAP3/6v////H/CgAKAOr/7P/5/wkA/v/2/+3/6f8TAB0ABwD6/wYAz//u/wcA9//2/+H/4P/1/yAA7f8GANv/3P/2/wwA+v8CAAsAyP///wsAGQDb/xMA0f8MACsA/P///8f/AgDc/00A4f/v/xMA7/8pADAACwDW/x0A6v8iAA0A7P/v/xAA5f8DACoA9f/+/8r/OAABAAcAAQAKABgA6P8JAO7/AAASABUA8/8MAOL/IwAOAPv/QADs/+z/HgDk/+D/YgAMAPv/1f/+/1wADADP/+D/UwAkAAIA7f/s/y0AMQDv/x0AKwDM/8r/LgBNAMj/+P/n/9f/LgAmANz/DADt/yAATgDJ/xUA5v9nABAA4P8nANf/7v9PADwAif8YAEEAnv9IAD8AhP+uAGUAmf0wA/UCnPb+BMgEE/sYBgL4y/1HC9z5TAMSAT/3SAJuAo4FVPvxA7L2nPtNDd/9KwVE+Qn2GghCBlr8RgTP99UAbwLZ/8wBcQHC/Lr7PAbJ+oYHUfp8AVr+4P9IAQABNwEo+r0F6/tpBBP9kQDJAPn+pv8OAX3/Jf8kAev8HgL2/poBq/+V/o7/wgC8ACoBIv7k/x4Bpf+5/+P/ygCXALr+yv66AUf/VgBY/2QA9P5KADwAxf+WAH//sgDx//r/ov80ATz/pgDa/5r/cQCk/0oApf80AJn/6f9l/74A1v/D/6X/hwArACcAGACj/9EAPf8+Aer+cAArAJL/mwBL/1EA7//d/7f/GQA1AL7/CwApALf/uwBI/zUACQBCAA0AvP/3/wUANgAFAFcAGv87AJT/pgCt/6D/PgCn/x8ABQD///z/w/8TACkApP82ABcAGABu/1YAEgBAAIr/0/8+AJL/CQATAPX/f//7/57/CAAGABwAIQCg/73/eQANACEAxf80ACUAaP+ZACkA4//u/97/nf+5AKj/HgCY/77/7wCQ/6QAJf+TACkAbv84Ad3/mP/9/0IAfwAIAJL/NQALANb/vv9BAJMA/v5VAA0ATf9GAQX/gwAWAF//fwDt/3UAsP+bAGr/y/9GAEsAev8OAMb/z/9FAD3/kABp/ywAIgDO/+b/jgCz/+T/dwBB/zoBnv/I/0kANv+cAP7/u/8EAN//K/9cAE8Ayv8LABP/cgBhAPH/uP+5AEn/uP8UASL/hwDg/3X/tAAcABn/nQC8/6T/9ADB/q8AOQCC/1oA7P9NANz/vAAe/2UAgQBA/ycBkv9d/4IAvv+cAE4Ahv5vAHwAjwCG/wL/fACYANEAIP/T/6L/lwCOACUABgDf/psALgDAAKD/v//u/yYAXQCW/34AMf8CAEYAJwDX/87/kf+2ABsAK/+CALf/dgDh/67/DgAAAGkAAwCT/zkAov+iAN3/KP8XAI3/jADL/yEASP9NAEEAgv/cABv/ZABfAIL/wwBl/00ANgBw/5sAy//o/+n/8f9xAMn/iv9kAK7/bQA6AKX/DgCI//4ACADU/wwAsf9tACQABwDf/8T/3f91AP//2P///7r/EQAiAP7/2//5/6L/fQC4/+3/CACb/7AA1f8TALb/HAD7/18As/8GAAcAY//sAEv/IQDW/+P/dwDP/7P/LQAKAAMAZgBq/xIAxP9tACQAwP8WAKT/TwDJ/+z/dwBv/1cAxP+s/4UAuv8TANb/JgD5/xUA3f89AAIA8f8VAOH/DwAXABQAz//7/87/tQBR/y4AFACz/2EAtf9KAKD/PwBlAOj/2v/r/2YAAwCD/1YAsv9cAMr/xf9qAEv/lQC9/xgAdQBJ/1MAVwAIAEgAVv+KABAA1P8bAOf/MABz/4EACgDi/wgAr/8wACIAb/+VALf/wv86ANv/UADb/xIAi/9tANT/LAAOAJj/6f/d/zIAyv8eALr/6f9kAJH/IwDv/9X/iAC1/4AAPP9aAD0A4P8tAGD/kwDU/y8Aov8lAL3/8f8pALf/DADP//z/RADf/7n/RQCi/zQAxv8PABkA2f/X/yEAHQDx/xYA5P8zANT////3/xAABwAEABkAGQDL/2kA9v/q/yQA1f9JAPT/AADr/xgA6f8IAAwANADn/wcA///x/0EA5P8AANr/CADs/zQA7f/m//H/BAD//x0ALgCd/y8Aqv8xADoAxv8qALb/+/8TAPb/OADH/9f/NADb/1IA5//0/wMA9v8mAAQAIwDE/xMA9P8jAAAA1/8SAAoAOAD8/ykALwDw/yoAAQAxAAMA5/9vAOP/JQA/AK7/kwAHAPH/QgBt/6QAlv9aABcAif+jAH7/tQD3/6v/BAApACkAEwAUAOX/GgAGACQAwP9uAFz/BACHACb/pACD/zYAbAB0/1EAuv97AOH/EQDb/73/KQApANb/AAC5/6//bwCu/3wAqP/g/yYABQAbACkA0P/D/1MAdf+WAOP/uf9sAHX/bAAKAM7/PAAhAKb/BwBHAMr/fgBa/zgABwDY/w0ACADv/4v/SwC8/1UABgDK//v/WACo/10AAABs/4QAe/8vABsAuP+9/w4AIACW/4AAj/8FAHIAiP9qAPD/2f88AN7/xf88AM3/CAAAAO//+f/L/08At/8fANT/DQAxANz/HgDz/wMA+P8NAPP/9f/h/xcAFAD+//v/5v8FAC0AAQDT/w8A7f9BAAIA+v8AALT/WQDn////8f+5/yEAAgAfAAEAu/8AABQA+/8WALb/HADq//f/CAAaANj/4v9QAGj/fACv//j/iABp/04A3v/e/z8Avf///wIAyP8yAOf//f8CANf/UgDX/wgACwDX/0gAzP9QAP3/zv9CAMz/KgATAM7/FQD//93/HwDt//n/wv8uAOD/GgAYALL/aACY/00AAQDC/w0Ayv8QABkA9f/j/yUAtv9PAO//AAAtAK7/ZQDj/xUA+//l/z4A5f/u/xEA9P8AADEA4P9JAOP/FQA3ANb/LQDy/zQAGwD8/zUAAAD6/zAA4//2/ykA9v8jAAwAx/8aAAEAAQAOANn/CQAXAAcAKADm//H/DwDs/0gAzv/y/wAACgAIAAAAEADc/xsABQASAPz/9/8QABgAyf82AK//CQDu/7f/OgBn/1EAzv/Y/zkAvf8sABkA+v8CANv/EgAVAAQA7v8KAAUA1v8vABcA6//7/woA0v9JAMH/LgAdAMD/WADw/xEAEQD3/97/SADT/xcACgDX/ygA2P80APH//f8dAP7/TADH/xEABQC6/1QAwv8uAMb/BAAeAM7/KACb/yYA3v8AABoAyP8JAAoA8P8nAPX/4/8EAPD/EgDm/wcAAgD4//H/DQD6//z/3v/9//v/3v8oAP3/7f/m/wQACQAZAPL/BQABAOP/OgD8/wcAEgD8/zEA4f8RAOn/9v8oAOn/EwDi/xEAAAAAAB4A/f/3/xkAEgD2//r/GQAaAPf/BADU/ycA5f8FADAAqP8tANb/9P8sAK7/GgD9/+n/OADq//b/MgDQ/ysA8//z/w8A1P85ANn/GwDy/wQAGADa/ygA7P/m/wcA/f/9/+r/AAD7/9X/BQDZ/wMAAgDF/yYA4v8MADAAvv89ANr/DgAiAOX/JwDi/ysA5f8RAOz/9v8hAOX/CgAIAPn/DQAQAPL/BgDs/xMABQD7//j/FAABAPT/BQDk//v/+f/2/x0A3/8LABEA9P8tAM//JQD9/wMAFADj/wwADADx/xEA9v/g/yMA3f8tAPb/7f8YAPT//v/9//f//P/7/wEAAgD8//b/CAALAOz/JADp/wcA+v/w/xUA5v8HAA4A5f8TAOb/AQAUAOH/JwDz/xMAGwD2////EADl/xAA/f/t/xIA2/8MAAcACAD3/wkA+f/8/wEA/P8ZAPX/DAD0/wAABgD6/ygA7f8DAAsA9v8cAO////8gAOX/8f8LANP/IQDo////IwDU/xcA9P/3//j////+//f/AAD+/wgA7v/2/+n/7P/z/+7/EADx/wwABwD5/xoABwD7//f/AADz/xYA7P8WAA8A8v8SAPv/8P8PAAIA7P8TAOL/IADn//X/DgDl/xYA8v/2/wAA5/8JAA8A6v8VAPP/BgATAPb/EwDr/wIAAwDo/wQA9f8FAPz/AgD6//n/BgD2/wwA9P8AAPz/8v8GAPD/DAADAPz/IwAIAB0AGgAEACUACwAPABwABwAhAPv/DQAQAPH/EQD+//7/DQAQAA0AFAAaAAkABwAjAPr/DgAAAPz/EADv/w8A9f/+/wIA+P8NAPL/AAAKAOT/EgD3////CwDY/wAA+P/y//z/2f8DAPT/7P8MAN7/BADq//7/9v/r/wAA7P8MAPT/BgAAAPf/CgD+/w4ACQADAAoA9f8DABAA+f8LABYADAAKAAAAGwD7/wwADAD8/xsA+P8QAAsACgAIAAAACQAQAAMABgAJAAsABQAIABAA+v8RAAIADAACAPj/GQD+/wkACAD3/xgA+/8QABAA/v8UAAAADgANAAMA/v/y/wIA///9//v/6/8AAO3/AwD6/+3/AAD4/xQABQD6//f/+P8HAO3/9v/3/+P/+P/l//v//P/r/wYABQAMAAAA+/8EAPv/+//1/+3/6//8//n/7f8NAOj//P8HAPn/DwDw/wUA/f/v//z/9v/0//7/9f/q/+//5//0//z/+P8AAAQA+P8BAAwACAD5//r/BgD3/wQACwD1//j//v8GAP////8FAPr/AwAFAAsAEgAEAAQABQALAA8ABAAFAAcAFAAIAAMABgAIAAsABgALAAEABQAHABAADwAPABMAEQATAAkAAAD6/wEA/P/1////6//2/wAA9P8EAPP/9P/6//X/+//2//T/+//1//b/+P/0//n/7f/y//H/9v/4//X/BAD5//P/+//5/wEAAgAAAP3/AwDy//j/AAD1/wQAAAAJAP////8MAAMACAAXAAwAEwAJAAYAEAAHAAkABQAEAAAA/v/z//3/AwAJAAgAAgD6/woADQAJAA4ABQAAAPX/BgD9/wEAGgAAAAYAAQADAA4A+P8OAP3////+/+7/9v/1//D/7//7//r/7f/u//D/9P/+//v/BQD9//z/8P/1/////f8AAAsA/v/8/wsAAAADAAEA/v/2/wQADQAEAA0AFgAEAAgABwAMAA4AEQAGAP7/+//4/wEA6f/5/+//AAAQAAwADQD+/wgABADz//3/+v/5/wUAAwALAAAADAAMAAkAEgAGAAIA/v/4//n/8//w//X/9P/0//7/+v/2//r//P/9//z/CQD8//f//P/+////7v/y/wAA/P/7//T/8//2/wEA/P/5//v///8QAAcACQD5//n/BQAFAPz/AwAEAAAA8P/0/wEA9//x//T/CQAIAAgAAAAQABcACQD8//7/BAARAAEA/P8MAP//AAD5//j/AQAIAP3/AAACABAABwD//wEA9P/1//b/AAD6/wAADAALAAcA8//3//v/9f/x//H//v8GAP3//v8FAAYA/P/1//L/6P/6/+7/9f/1////BQD3/wAA/f8DAPr/BwAIAPz/9v/n/wcAAwD9/wQA8v8EAAoAGQARAA0ACwD+/xEAEQAJAA8ADwAOABoAHAAJAA0AIQAIAAwACgASABkADgAZABgAFgAHAAAAAQAEAAoAAAD+/wQA/f/8//7/+f/8/wYA/f8JABMADgD9//f////4//r/+/8AAAgAAgACAAEAAgAKAP3/BQD//xUADQAGABwABQAMAO7/9P8RAAIABQAMAAUABwAMAPv/+P/5//r/AAAAAAYA/P/7//b//v/9//D//v/4/wAA//8FAPv/8v/7/+7/AQAAAPv/AAD0/+r/4/8GADIAFQDu/9v/CgALAN3/3//s/wQA/P8AAAcACwD2//H/AQD///3//f8RABAAAQD+//j/CQAEAP//BAAIAB4ACQAFAPz/BQAKAAsAEQADAPr/AgAQAAMA///2//7/AQAFAPr/9f8GAAoA9v/6//v/+f8QAAwABAAEAAEA7v/0//r//////wIADgABAP//AAD//wQAAADu//H/+P/6//f/+f8BAPz/+P/u//X/+/8AAAkA+v/5//L/8//0//b/7v/x/wAA+/8BAAYABQAAAAgA+//1/wYABwD5/wAACwD6/+z/7f/5//r/AAD8/wYAEQAHAAQA+v8DAAIAAQADAAAADwADAAUAEQAIAAAA9v/4//3/+//u//r/BAD+/wEA+//u//P//v8AAPz/9P/5//3/+f8AAP//8P/x//r/+//6/wIACwAMAAoAAwD8//3//v/0//j//P8DAA0AAwAAAPv/+/8DAA0ACgD8//7/AgAGAAAAAAD+/wAA+f/1//v/+f8AAPb/+f8GAP7/6P/v//L/8v/8//f/+/8AAP3/+f/7//j/7f/y//T////3//L/+/8CAAkA9////wwADAAHAAwABgAMAAwABwASAAwACQACABAACgAFAAQABgATAPr/+v8AAPr/AwAIAA0ABAAMAAQABQAKAAYAAwAEAAwAAwAKAA4ACgAIABYAEgACAAEACAD5//r/AAD2/wUA//8AAPz/+v/2//L//P/v//H//v8BAP//+v8AAPn//P8BAAAABQAHAAQA//8KAAgAEQAQAAUADQAJAPz/+/8GAPz/AQAGAAcACQAGAAAA9f8AAAAABgD///f/AgAFAAUABgD/////AAD7//j/7v/2////CAATAAUAAQAOAAAAAAD///7/BgAAAAQAAAD+//v/7f/5////AQD2////EAAMAAsABwAVAAYACwARAAwAEQAAAAkACAABAAQA7//9/wAA/P8KAA0ABAD9/xEABQACAAYABgAAAPX/AAD8//b/9P/8/wAABQAGAAUA///8/wEA///7//r/+/8BAAUA+v/1//P/9f/0//z/+/8AAAwA/P8FAAEAAQD+//f/AAD3/wAABAAFAPT/6P/s//f/9//x/wAA/f///wAACAAGAP//AAAFAAQA+v8AAPv//v////T/8P/t//b/AgAIAA0ACQD+//T/+f/6//f/8P/x//L/8P/7//D/9//5//z/AAADAAsACAALAAYAAAAHAP3/AAD///b/AAD//xIABgASAAgAAAALAAkADQD9/wUAAgAQAA4ACgANABAACwAOABEABAAHAAAACAAFAAgABwAAAAcAAAABAAAAAAAJAAIA+//7//v/+f/8/wcA/f8AAAIA+/8HAAUABwD///v/AAD9/wEA///7//3/AADz/wAAAAD7/wAAAgAGAAYABAAAAAUA9v/2//f/8f8AAPv/9v/6////AAD6/wAA+//+////BAABAPz/BQD8/wUABAD9//D//f8HAAAABQAJAA0ACQAAAAIAAQD6/wMACwAMAPv/BgAEAAYAAAD4/wUA+f8AAPz//P/8//z/BwAAAAAAAQAAAAMA+f8AAPr/9/8AAAQAAQD0//n/+P/x//v/BwABAA8AAAAEABEABQD+//b/CgAGAAcABQD1//n/+v8DAAQA+v8AAP//CgAHAAcABAD9/wUAAAD5/+7/+v8CAP///P/6////BAD8/wIA8f/2/wQA+/8HAAEAAwAHAAsABwD6//3/AAAAAP7/+v8EAAEABAAGAAYAAQABAAgABwAIAP3/AAACAP3/+/8AAPb/+//6//r/BgD6/wUAGAAQAAoACAAGAAgABgAAAPT///8HAAQA/P/+/wYADgARAAYADAAGAP//BQAAAPr/9P/3////9v/3//v/+v8AAPf/+P/+//L/AwADAAUAAAD6/wAA+//3/+P/7v/0//v////9//3/AAAEAPz/+/8BAPX//P8LAPz///8AAAUA/f8EAAAA9P8HAAwAAwAGABIAEgASAA4ACgD8/wQABQADAAsA+//6//n/8//z//T/9v/7//r/+v/7//r/+//4//P/9v/y//D/9f/2/wQAAADz//v/8v/2/wAA+f8DAAYABQD///b/9//6//r//P8BAAkACgAFAAkACAABAPj/9f8CAAUAAgARABMADAAIAAAAAAAKAAYA/f8GAAAA+/8FAAQACAALAAwAEgALABIADAAGABYAFwAVABoACwACAPr/8f/4//b/AAAAAP7/AAAAAPL/6//1//j/AwD8/+v/6v/t//H/+P/2/wQACAAIAAcA+P/9/wAA+v/z//n/9//u//X/7v/w//r/+f8BAAcACgAMAAoADgAXAAYABwAKAAYADQALAAYABwANAAAACAAEAAQABQAAAAIAAAD9//r/+f8FAAsA+f8GAAQABgAAAPb//P/z/+r/4v/j/+T/7P/x//T/9f/z//n/+//y//n/+//6//r/9P/0//D/8P8BABEABgD4/wkAEAAFAAcAAQAEAAcACgAIAAUABgACAPv//P8AAPX/+v8BAAAACgAJAAoAEgATABIACQAEAAgABwAAAP//7v/3//X/6P/w/+v/8v/0/+j/9P8AAAAAAAD8/wMA9P/z//D/8v/3//X/9f/n//X/9//y//H/AQACAAUADQALAAIAAAD9//3/AQAEAAYA//8LAAEAAwACAAMABQAPABgACQATABAAGAALAAYACAAHABIAAAAMAAUA//8EAAEAEwAFAAMAAgAEAA8ACgAJAAQACAAGAP//BAABAAEAAQD7/wIADQAWAAwADAAKABAADwAGAAcAAQAAAAgACgAIAAsACgALAAcABAD+/wQAAQADABcADAAHAAwACwAJAP//BwABAPT//v8AAPr//v8GAAUADgAKAAIABwAFAA8AEQAJAA0AAAAKAAQAAAAAAPX/AAAAAAkAEwAPAAAAAwACAPr/AAD5//z/BAAEAPz/9f8AAP7//P/u/+7/+//y/wAABwAHABEAEAADAAEAAAAHAAYABwAOAAQAAADz//v/BwANABMAEQAYABAADAALAAIACgALABIAGQAUABMADwAHAAAAAAAAAPn//P8FAAsACgAMABIACgAEAAMA9//0//L/7//s//T/AAAAAA8ABwAJAAQA+/8FAAUADAAAAPj//P/5//v/+v/9//v/6v/+/wEABAAAAPr/BQD7//r/7//9/wcABgACAPr/9//0//X/9//8//b/9v/7//r//v////H/7//4//n/+//4//T/9v/x//f/7//1//X/8P/+//X/+/8AAPn//f8CAP/////6//z/9f/7//7/AAAMAPb/7v/v/+///v/5//r/BQD2/wAA+//v//X/7v/1//P/BAAAAPT/AQD6//7//P/9/wQA9//0//T/+P/7//j/9v/9/wAABQAJAA0A///5//r/7v8AAPb/+v8AAP7/BQD1//z//f/z//z/9f/4//j/9P/s/+3/AAD2//r/AAAAAAEABgADAAIAAgAFAAMA/P8CAAYAAAAAAPv/AAAPAAEAAQAGAAUACwASAAUAAAD8//3/+//t//H/+v///wwAEwAEAAAAAAAFAAAACgAAAPz////5//n/8v/x//D/+f/9/wAA+f8BAAAACwAJAAcABgD9/wQA+f8CAP//+v/7//n/+//6//f/9/8DAAoADAANABIAEQAOAAYACAALAAQACwAHAAcAAQAAAA0ACgAIAAEAAAAAAAYADwAJAAYA/v/9/wYAAAAEAAAA+v8AAAAA///6/wYADgALAAsACwAMAAwAAAD6//r/AwADAPz/BQACAPr/+P8EAAEACgAJAAAAEQAGAAAAAgD7////9//u/+3/6P/y//X/9P/x/+7/+f8FAP7//P8AAAYAAwD6//j/9P/+//v/+//4//P/9P/t/+f/7v/8//n/BAAGAAUA9P/t//r/8v/1//D/6P/u//z//P/8/wAA8P/w////BwADAAEABgAEAAAAAAAFAAAAAAAGAPz//P/6/wYACgAGAAMAAAANAAEACAAKAAYAEQAVABYABAACAA8ABQABAAwAAQD5/wEAAAAAAAwAEwAOAAgADAAHAAcABgD9/wQABgABAAAA/P/6//v//v8FAAYAAgAAAPv/9f/5//n/9v8AAPv//P8HAAQA+f8BAAEA/f/9//P///8AAAAA+P/5//j/9v8MAAYABwAAAPT//P8AAPf/+P8BAPj/AgABAPP/+f8DAAYABQAFAAAAAQD6//H/+f8AAPr/AAAPAAYAAAD//wYABgD6//7/AQD//wcAAgAAAPv//f/9//b/+//2/wUA///9////BQANAAMA/P/4/wEA//8EAAQABwANAAsADQALAAYADQAFAP//AAABAAcABQALAAUABAAFAAYABQAGAAAA9v8AAPr/9f8AAAAA+f8AAAUACgAKAAUACgABAAAAAAD9/woABQD7/wAAAAAAAPv/BwAPAAoACwACAAIABwAAAPz/9v/2//v/+/8DAPr/BwASAAsACQAAAAAAAAD///b/9//7//r/+f/v//P/9f/0//X/9f/0//f///8HAAwADAAIAAcAEAARAAQAAQAFAA8AEQAVAAoAAwANAAkAGAASAAoACAAIAAsAAAADAPz/+/8AAAAA+//+//z/+////wAA+//2/wAA9v/1/+z/5P/t/+v/9v/x//H/8//x//X/8f/j/93/6v/y//j//f/8/wIAAAAAAAQAAQD+//z/BAAFAPr//v/5//P/AAADABIAAwAMABUAAQAVAAUAAAD+/wAAEwALAAsADAALABAACwAFAAgAAAD8/wEACgAHAPf/+f/6////+//7//3/7v/5//X/9P/1//X/+v8BAAkABgAGAAkADQAKAAcAAQAAAP//AQAFAPv//v8EAPn/AgABAP7////6/wUABgAJAAoABgAMAAYA+/8AAAQABgADAAIACQAFAAsABAAEAAYABwAJAP//CAAIAAcAAQAEAAQA9v/1//f//P/y//H/+f/6//n/9f/u//H/6f/v//L/7f/z/+n/8P/2/+//6v/7//3/+/8BAAAABwAMAAoABgAAAP3/AAD//wsAAwD//xIABgAAAAAABAAAAAYADAD+/xEAFgASAA8ABQAGAAAAAAAAAAQABQAJAAsABgARAA8ABgAGAAkADQAQABMAFgAYABEAAQACAAcA/v8EABAAFAAQAAkACwAGAAwABgD6/wQACwABAP7/CgAIAAUAAQAAAAAAAAAAAAAA/f/5////BAD///P///8AAP7/BwAEAA4ABQD0//T/9/8AAAAAAQD7/wAABwAAAAYABgAFAAYABQAFAAAABwADAAIADAAEAP7/+//6/wIABAAIABAACQAMAAcABQABAAEABgAIAAoAAwAHAAAA+v8AAPj/9f/v//D/8//n//r//f/0//H/7f/s/+f/8P/7/wAAAAD6//T/+P/7//b/+P8CAAIA+f8AAPn/9v8EAAQA/f/8/wAA+v8AAAAAAAD8/wEABwD//wsABAD+/+///v/7//X/AADw/+7/8//6/+f/7v/1//r/CgALAAsABAD+//3/AAAIAAsAAwABAAIADAAHAAAAAAAFAAQAAwANAAoAFwAaABIACgD7//z/BAAAAPT///8AAAQA/v/3/wEAAQAJAAMAAgD8//r/AAAAAAQACgAHAPv/AAD6//7/AAD//wUA//8JAAQAAwATAAUAAAD4//P//P8AAPr/+//5//P/+f/7//v/+/8KAA0ADQAQAAIA//8BAPz/8//t/+7/8//2//T/+P8MAAgACAAHAAgACQD+/wEAAAAEAAYA+//8/wAA+f////3/AAABAAEADAAEAP//AAD+//r/BwAKAAcABQAHAAQA/v8AAPv/AgAAAAYAEwAQABgADwAPABMAEgAaABUAEgAQABsAEQAGAAEA+/8HAPz////+/wAABwAFAAUAAAAAAP3///8AAAAABwD//wAABAD2//z/+f/4//j////+//b/BAAKAAkAAAD9//j/AAD6//P///8EAA8ADAAKAAcA/P8HAAYAAQANAAAA+/8EAAAAAAAAAPn/8//6//j/9P///wMAEAAMAAUABgAFAAsADgASAAwAFAAQAAoAAAD7/wYA8//9/wkA/P8CAAUACAAMAA4ABwADAAEA+/8IAPr//P8NAAIABgAAAPf//P///wIACAAOAAYAAQAGAPv/AAABAAAA+P/4//n/5//m//H/+v/0//j///8KAAIAAAAFAPn/AAD1//f/9P/f/+f/7//v/+z/6P/1//z/8P/x//7//f/t/+f/6v/3//j/7P/5//L/8P/z/+3/6P/n//P//P8BAPr/BAD+//z/+v/0//T/9v8AAPv/AAD4//z/AAADAAUAAAALAAsABwADAAoAEQAQAAQAAAAAAPr/+v/9/wEAAQAJAAAA9v/5//v/9//2////AAD9//f//P8DAPv//P8FAAYAAwD6/wEAAAD6//r/9v/0//z//P/7/wcABQAFAAAAAwAHAAUABQAGAAUAAAAFAAEAAQAHAAEABAANAAMAAAAAAP//AAAAAP3/9P////v////+/wEABQAIABAADAAPAAEAAQAGAAIA+//1//P/9v/w//L/8P/w//7/+//+//D/+v8BAAUAAADz//f/8//9//z/7v/0/wQABgAQAAgABwATABEACgAJABYADgANABIADQAGAAUACgAPABMADQANABIAEgASABUAFwAQAAcADAAFAPz/BQANABcAFwAOAAYA9v/4/wAAAQAGAAAABwAEAAAAAAABAAQA+//7//z/CwAAAOv/6f/0//n/7f/7/wcAAAAFAAgA9f/7////7f/o/+//6v/1/wAA7//t//X/8P/u//j/BAAFAO3/AAD0/+b/AAD8/wEA/f/7//n/9f///wYAAgD+//n/7//x////CwAOABEA+//5/wsACwALAPv/+//2//r////7/wgA+f8AAAkAAQD8//z/AAAAAAYAAADw//X/6v/j//H/7v/1//3/BQAFABIAEAAEAAcA/v/6//r/+v/z//L/9v/4//z/AAAAAAMAAgAAAPz/8//3/wUA+//4/wIA/P/y//L/9P/q//r/AAD9/wAAAAAGAAEA///1/+//9f/8/wkADAAIAAQACgAEAAMABAD6/wUABAD5//////8EABcAEwAVABUAEAATAA8ABQAAAAAAAAD7//X//v/6//j/7//7/w0ACQAOAAcABwACAPv/9f/k/+b/4//o//D/8P////b/9f/+//n/AAD+//r///8AAP//BgABAPr//v/z/wAABgAFAAQAAAAJAAEAAAAAAPz/8P/3//r//v8GAAUABAD3//X/9P/6/wkACwAPABgADwAFAAYABAD8//z/BQAYACIALwAuABMADAD8//T/CAAWABkAGgAkACIAHQAaAAEA/P8DAA8AKwAlAB0AFQD///H/7//1//X/DQAYABwAGgAAAAIA7v/j//D/AQAUAB0ALQAVAAMA/f/4/+r/7/8NAAkAGAAHAPT/AgDt/+j/5//u/+3/AAD+/93/8f8DAAAA6v8AAAYA/f8QAAAADQAfABMAEQAAAOj/9P/6/+P/5v8YACUAFQAVAP7/+f8FANz/yv8KAAEADQAwABUABQAAAA8A9P/e/+//FwA9ADIAPgBNAB0AAgADAND/w/8dACUAPgBOANv//v/8/43/lv8QAG8AUwBOAFAABQB6/0H/of/L/wYAWQE1AnUAev+HACX/4/3m/i4ANAHXABcBYgH6/4z+6P4A/zn+x/+PAYkBQABcADoAfP6e/g7/CgDpAO8AZgHUAJH/Lf9a//r+jf9sAMoAOQFUANH/g/8C/wr/Mf83AKwAZgBvAEcAhP8Q/zr/mv/3/+7/sAD9ABkA9P/E/5H/l/+W/xkAaQB0AG8AXQAAAJn/i/+w/6H/mP8xAEkAGQAeAOD/0/+Z/3T/1/8AAAYAcwCQAC0A/P/8/9D/nv/W/x8AUgBuAEkAIwAZAKf/m//k/8b/EwAmABkAOADv/6b/pf+1/73/1P8AADEAKwAJAAIA6f/0/+L/+f8oAPX/QgBLAAgAIwAYAAAABQDd/+L/JADa//L/HgDY/+7/AgAEANT/xf/o/7j/yf8AAAkALwBAACcAHQDk/8P/9f+x/8P/UQAkADcAmwBCAOn/3//Y/73/hf/1/14AMQA3AEcAEQC6/6T/5P/V/8v/hgCQACkAOwD2/77/i/+k/x4ALwBRAKQAggAcAN3/uP+r/7r/4v8vAGwAjQBhAOv/xf+Z/5X/7f8SAC8ATwBAAAcAq/+i/+7/6f8HADgAQgBCAAQA9f/e/6v/8P9EABsAFwBBAB4A1f+j/8f/+/8dABwADAAWAPv/1v/d/9X/0/8dAB4ADgAeAPv/EwAHAPD/IAASABUAMAApABgAEAAiADUALgAWACQAEADz/+b/8/8XABMANwA3AAQA/v/m/8X/4//2/xAASgA7ABcABgDu/9n/w//W/wMAKgBLAEkANgAfAPX/3f/X/77/8/8SAAYAIAAFAOn/1f/G/7b/w//y/wYAFgATAP//5P/T/9T/2v/k//b/IwAeAPb/EQAKAOL/9f8RAAoAHgAnAA0AAADf/+r/9f/p/+7/FgAeAPn/+v/Z/77/2//p/9j/+f8SAAUAHgADAOT/+P/7//P/6/8AACIAHAAAAAIACQD5/+P/9P8HAOz/CgAfAPX/8P/6/+//1P/K/+n//P/x/wAAIAAYAAcA///g/9P/3////w4ACwAYAB0ABwDx/9z/6P8SABYAEQARABIAAwDS/8j/4f/0/wcAEgATAAAA9v/i/7j/y/8AADcAPwApABsABQDy/7n/xP8EAB8ASQA8ABcAEQDi/7T/tP/E//r/NQA6ACUAEgD+/9T/uP/K//b/IgBEADsAHgASAPz/5f/J/9j/GQA7ACUAGAAKAPn//v/a/9D//f8fABkA//////v/6//j/+P/9f8SABwAEAD//+3/BQD6/+b/DAAXACQAIADx/+n/6v/J/9L/7/8GABoAJAAlAPX/7v/7/+H/7P8DAAoAFAAQAOn/+P/6/+r/BwD7/xYAKAAKAPv/7/8BAAQABQAfAA4AEwAfAPD/7f/7/wEAEAAQAAYAIAASAAAADwD6/wQAGgAkABkAEgAjABEA9v8KAA8AEwAnAB4AIgAjABAAAQD/////IwAqABwAIwAKAAQAAADz//r/CAAeABMADAAbAAkA+v///wcAHgAmACIAIwAGAPH////0/+j/AQAfACIAFAAAAPv////8//f/9v8DAAUACwAGAPj/AAD4/+f/9P/0//n/EwATAP///v8AAAgA9//y/wAA8P/0/+r/9P8BAAYAFQATAP//+v/t/9j/6P/2/wAAEwAdABMAAADS/8r/0f/d/wUAEwApAC0ACwDq/8L/t//D/9n/BwAdACoAHwD4/9n/yf/L/9X/+v8TAC8AHwAEAOj/xP/X/97/BQAfAB4AGgAUAPL/2P/W/9z//v8VAC4AJAAcAAAA4v/U/9r/8/8OABsAEQANAPb/3//c/9j/9v8WABIAGAAGAAIA7//I/8n/4f/0/wgAEwAMAP//7P/z/+H/4f8CAAsAEgAXAAIA/v/y//T/BwAOAB0AIwAkABQAAAD6//L/6P/t//j/BAAGAAQABQD6/+z/9v////b//f8HAP7/+//0/+r/9P/1/wAABwD//wMA/f8AAAcA8f/0/wAABQADAPr/+//1//3/BgD8//n//f/8/wUABQAGAPz//P/5//X/BgAFAA0AAAABAAIA+/8AAO7/9//5//b/BwD2/wAACgAIABEAAAAMABEADQAFAAAABwASAAoA9f/7//b//P8LAAgAEQAQAAQADAAZABEA+/8FAA4ACwAIAAAAAAD6//7/AgAFAAwAEQAOAAkAAQD1//X/9P8BABQABQAAAP7/CAAGAAAAAAD6/wYADwATABsAGQAHAAoADAAKAPn///8MAP3/+//0//j/BgAMAAsADAAFAAYAAgAGABEAFQARAAUABgD///b/+P/1//j/AgD7/+n/8P/0//X//P/y/wAAAwD5//X/8P/0//v/7//i/+z/9P/y/+f/9P8CAAgADAAAAP3/+//z/wAAAwAAAAAA+f8AAP3/9//0//n/+P/z/wAADwANAA0ABQD2//X/+v/6////BgAFAAYA///5//7/AAD8//7/CAAIAP//DAAMAP7/+P/1//X/7v/1//z//P8CAAEA+//+//v/+/8FAAcABQAFAAAACQAHAP3/9v/v//T/9v////z/BQACAAUAAAD0//P/7v/5//v/BQAAAPj/+v/6//r/+v/3//P/9f/1//j///8AAAAAAAD6/wAADgD5//P/AgD6//z/+v8DAAAA/v8KAPr/BQAMAAkADAD7/wIACQD//wAAAAAEAAIAAAD+//r///8AAAEACAD7/wIADAD7/wUABAAAAAIA+v/7//b//P/9//v/AAAAABIADAAZABYABAD///X/CwABAAIADAAFAPr/9//7//v/CAAFAP7/EQAXAAYA/P/6//T/+v8FAPf/AwADAAIAAAD6/wEAAAAJAAwACwAFAAYAAgADAAoACwAHAAYADAALAAgABgAGAAEAAwANAAAA+f/7/wAADQAIAAYAAQAAAAAAAQAAAPX/9//8//b/+f8BAPn///8AAAEADQAGAAcA//8AAAUA9v/6/wAAAAD7//r//P8GAA0ACgD5//r/BAAJAAcA9/8AAAYADAATAAsABAAMAAAA//////v/DAASABEAEgALAAcAFwAQABQAEwAEAAgABQD0/+n/6f/t//T/9f8AAAMA+v8EAAQA+//8//r//v8HABIADgAGAAEA9//0//r/9//7//3//f/+/+z/7P/n/+f/7P/7/wYABgAAAOn/8v/u/+f/6f/p//n/AAAAAAAA+f/2//v/+f8AAAgADAAKAA4AEQACAPv//v8FAAsACwAOABMABQADAA0ADAALAAEAAAD5//////8EAAkAAAAFAAUAAwD3//X/9v/1/wQAAQABAAQA+/8HAPr/+v8BAPz/BwD8/wIAAQD6//r//P8AAAAAAAD5//z//v8CAAYACQAAAPb/8//2/+//8P/4/wAA+f8GAAQA6//7/+n/7//v//j/+//x/wUA+v/w/+b/5//9//v/9v8AAPD/AwD2/+7/9P/v/wkA+v8HAAQA+//1/+z/8//s//3/AgAEAAcACwAOAAIA/P/9/w4ADAD8//v//P/w//r/AQD4/+//7v/8/wAA+v/7/wAA/P/+/wQACwALAAYA//8GABIACgAPABgAHQAeABUABwAHABEAJgAgABkAHAAQABMADQALABAACAABAPf/+v8GAAwACQAAAAwAEQATAAQABAAIAAEABAD5////AAD5/+3//P8GAP//AwAHAAYAGQAZAAAAAAD8//z//f/w//b//P8NAA0A9P/7//b///8FAAAA///8/woACwAIAAcAEAAOAAIA+//9/wAA9f/7/wgACwAKAPz//P8DAAAAAAD9//n///8RAB8AHQAdABEAAwAOAAYA/f/3//X/AQD//wMABQD8//z/BAAGAAYA///3//v/+f/7//P/6P/q//D/+v/6//v/+//2//T/9P/0/+3/6v/5/wAAAAD///v/AwACAAAA9P/v//3////+//b/9P/1//T/8//p/+f/6P/o/+n/7v/2//T//f/6/+v/5v/k//L/9f/4//z/AQAFAPj/9/8EAP///P/3//z/AAD6//v//v8BAAIABAD2//T/6v/w//3/AwD0//H//P/3/wQABAD8/wIACgAHAA0ABgAQAAQA/f8FAPr/BAANAAkABgAFAAcAAAD2/wQA9P/w//b/+f8LAA0AAgD5//T/9v/+/wQABgANAAAAAAAMAAcAFgAHABMAEgAGABIAEQARAAcABgD8////+/8AAAUA//8IABUAFwAQAAoAAAABAAYABQAKAAcAAAAHAAAAAQAJAAYADAAIAAsADAAMABMADQANABIADQALAA0ADAAPAAkADQAPAAsABAAJABAAEgAjACAAFwASAAgA/P/6/wcAGAANAAoAEwAJAAAA+v8AAPb/+P8AAAQADAAEAP7/AAD+/+//8f/6//n/8P/1//H/9v/1/+3/6P/r//X/7//v/+3/9f/7//r/9v/6/wAA///w//P/8//6/wYAAAAAAAUADAADAAoAAAAOABUABAANAAUADAALAA4AEAALABAAEAAKABIAGAAMAA0ACwATAA8ABQAAAAEABQABAPT/8P/7//r/BAAGAAUABQAGAPz/AAADAPr/AgABAAAAAQAIAPj/7f/1//j/AAD1//H/8//q//v//v/6/+7/6P/6//j//v8AAPn/+f/6/+f/6P/1//L/8P/6/wIACgAGAPb/8P/t/+3/5P/h/9v/5P/o/+P/4//b/+H/6v/1/wUABgAGAAMA+v/+//n/7f/u//n/9P/7/wYABQAMAAEA/f8AAAEADgARAAcABQAAAPb/9P/t/+//9//5//H/8P/1//T/CQAFAAQAFQAHAA0ACQAFAAsAAAACAAAA9P/3//j/8//1/+n/6v/z/wUA+P/s/wAA8f/1//P/BAANABEACgD0//3/7v/8//v/9f8EAAMA/f/6//f/6P/i/+v/7//z//H/7v/0/+7/7v/1//T/9f/1//D/AQACAAAABgD8//j/AgD9/+//9P/2/wAADAAWABQADAAFAAwAEgAIAAYABgARABcAEgANABIAHgASABcADQAUACIAHAAvACcAHQAeACUAFwAUABQAEgAMAAcAFAAFAAoADAAKAA4ADwACAAYAFgAXABkAFwAQAAMAAAD8//X/9P///wYA/v8AAAEABwAUAAYAAQAGAAQABgAGAAUAAADu/+3/AAAHAA0ABgAAAAcA/v/9/wAABAAHAP3/8f/t//n/AgACAPn/AAAEAP//AQD0//b//f/2/+z/6v/x/+3/8//5//P/+f/5//P/+v/9/wEA+P/2//D/8/8FAAEAAAAGAA0AAAD8/wAACgANAAgADQAKABAACwAEAAkAGAAgABkADgALABcAGAAXAB8AGQAVABkAFAAQAAcABgD8//P/+P/y//n/+P/6////+/8FAAAAAAD8//r/+v/5////+f/w/+3/7//p/+z/7//0//z/BAD///7/+v/0//P/8v/5/+r/8v/y//D//P/1//L////5//n/BwD//wYAAAD2//b/BgAKAPr/AgAAAAAABQAFAAAABgADAPj/AAAMAAUADAAdAB8AJwAVABEADgALABIAAAD7//v/AQAEAP7/+v/5/wIAAQAAAAEAAQAHAAAA/P8CAPv//P8BAPv///8FAAAA7v/j/+H/7f/y//r/BQD7//3/AAAHAP//7P/o//H/9P/0//r/+//8/wAADgANAAwADwAFAPP/7v/u//T/AAD5//7//f8AAPz/+//w//b/CwD///b/7f/9/wIA9P/m//D/DgANAAwACQAJABMADQAOABIADAAWABIADAAgAB8AHQAVAA0AFgANAAAACgAJAAAAAAAGABcAFQAOABIAEgAOAAwAEwALAPz//f8MABcAAAD8/wAA+v/3//f/AAACAAsAAQD2/wIAAADs/+j/6f/m/+D/5//1/+3/9f/7//T/9f/0//r/AAAAAAAABQD8//f/9f/p//X/+//7//b/AAACAPP/7v/u/+z/7v/9//b//v8FAAYAAAACAPz/6//8/wUABQAAAAYABgAQAAwABQAHAAoAGgAGAAwAGAAXABYACgADAAUAEQAXABoAHgAXABEACgAHAA0ABAD7//b/9v/8//X/7f/t//D/6f/1/wAAAQD9/wAAAwABAAgA+v/z/+7/7f/i/+n/+f/7//T/8P/2/+7/+f/3//P/+P8DAPP/9v8AAPb//P/6//v/+f8CAAYABQAAAAEAAQD6/wAA/v/6/wMACAATAAwACQAGAPv/CgAFAAAABgAMAAEAAAAJABEAEAAEAAQA+/8QABkAGQAdABEACwD7/wEA/P/9//3/9P///wUAEAANAA8AEwAQAAsAFgASAAYABQAKAAQA//8EAAcAFgAXAA4ADAARABQAIQAgABYABQD7/wQAAQD7//n/7//z//f//f////H/AwD//wAA/P/z//T/5f/w//L/4f/i/+H/3P/Z/8//3P/s/+7/6//o/+3/4//i/9j/1P/c/93/6P/l/+7/9P/3//v//f8BAAQADQAJAAAA9//z//X/+/8EAAIA+v8AAPv/AAADAPv/+v///wUA/f8FAPr/AAAIAAAAEwAdABsAEwAQAAEA/v8EAAYACQARABgAGQAXAAwACgAAAP7/AQAAABIABgD8//z/8P/1//3/AQAAAAAABgABAPj/9P/8//n/BgAGAAQAFgAFAAAA/v8GAAsAAAAHAPr/9f/w/+f/8/8AAAAABgAEAPv/+v/v/+//8//6////+v/6/wUA+v/2////+v8DAPv///8OAAoABgAJAAwABAD8////AAAPABwAGAAXABwAHwADAAAADAAQABMAEQATABgAFQARABEAGwARAP//EAASAA0AEgAcAB4AHwAlABcACwAMAAoADgARAAcADAAHAAgADAAFAAYABQAGAAkAEQAQAAcAAwD7//n/+f/q//f/AgD///b/4//r/+r/6//z/+7/8//1//j//P/z/+j/6P/m/+n/+f/9//X/8f/q/+r/6//j//D/9f/2//r/+v8AAPT/8v/z/+//+//4//z/AwAAAAAAAAABAAYABAABAP//AQAGAAcAEQAFAAAA+v/v/wAABwAMAAsABwAEAAcACgARABgAGQAUAAsADAAIAAUACgANAAYACAANAAsAEQANABMAFwAaABoAEQASAP7/AQAAAO3/8P/i/+z//P/8/wwAAwDw//P/8//5/wAA/f/1//T/8f/o//v/CwAEAPz/9v/t//P/8v/u//n/8//7////9v/p/+3/6//p//X/9P/1/+z/6//u/+7/9v8CAAQABgAAAAoACwAAAAcA/P/7//v///8DAAsACgAGABIADwALAAwADAASABcABgAAAAcAAQABAA0ABQAAAAUA+v/2/wwAFgARABEAFQAVABEAGwAQAAYADAAFAAsABAAAAP3/8f/u/+z/9f8EAAYACQARAAcABQDz/+n/7//w//v/AwD6/+//9P/3//X/4//g/+L/5//q/+v/9v/x//D/8v/q/+v/9P/8//H/7P/w/+n/7P/2//v/9P/4//r/AAD6//L/+//p//T/9v/1//v/9f8AAAkACwABAAIAFQATAAAABQAAAPr/DQAFAPn/CwAGAAwACQD1/wwA7v8IAAQAAQAZAPn/HAANAAcABgAKAAkABQAMABIADAD2//r/9v/8//z/+f/0////+v/7/wIADQALAPn/AQD6/wMA+//u/////v8HAAkABgADAPv/AADz/wUACwAHAAoABAAAAPX//v/1//X///8GAP3//P/5//T/+//z////AAADAAcACAAMAAgAEwAVAAoADwAFAAUAGgANAA4ADQD7//z/DwAaABAAGAAZAAQAAwAGAAkADgD///7/BQAKAAsADQAUAA8ABwD3//n/AQAFAAQA/v8BAAAAAQD9//v/AAAAAO//9P/6//z////x/+z/5//x/+n/7P/i/9f/4v/l//P/8//q/+r/9f/v/+f/6f/l/9z/6f/n/97/6P/z/+3/5//p/+n/AQABAAYAEgALAAoA/P8DAAkAAAAAAPb//f8HAA0AAAD8/w8AAAAAABAADQAIAAsADgAkAB8AEQATAAsAFwAYABkAHwAcACgAJQAeACQAJAAXABQAHgAiACwAHQANAAMAAAAFAPf/+f8IAAwADwAHAAEACAABAAAA9v/6/wAA+v8AAPz/9P/s/93/4f/0//X/9f/8//T/8f8AAPj/9//5//T/8P/w////AAAAAP3/9v/1//P/6v/7//z/8//6/wcABgDy/wEA+//x//b/6v/i/+7/+P/p/+z/7v/v/+//5//w//P/8P/1//v/9f/4/wAA+/8FAAAA9f8AAAAA+f/4/wMAAAADABEAEwAUABsAGQAQABcAEwAXABYACQAFAAIAAAAGAAUAEQAhAB0AKQAfACQAJwAjABsAHAAgAB0AKwAeABMAGAAfABIAAwASAB4AFgAPAAEAAQD5//z///8AAPf/6v/y/+3////p/+T/4f/h//H/7f/1//D/9f/u//L/+P/z/+7/3v/Z/97/7v/6//r/+v/2//j//////wAAAAD4//j/BAAEAAYAAwD9/wEA//8MABIAEgAFAAEABAD5/wIAAwD//wgACwARACMAHgASAAYACgAEAAMACQACAAYABgAQABIAHAAdAAcACAAPAAwA+f/4/wAA/P/8//X/BAD5/+f/6P/u//3/AAD0/+///P/1//j/9//0//n/6P/c/+f/7v/8/+3/7//5/+T/3P/b/+7/5//v//v//P8AAPL/7v/y//T/7v/p//X/9//1//r/7v/t//P/+//w//b/CAAAAAgAAwAAAAAA+//7//z/CgAJAAcADAAJAAMACAARABIAEgAQAA4AAwACAA0AAwABAAUABwANAAkADQAHAAYADQAPABQADwAGABIADAAJABEADAAZABcAGQAMAAoACwAOABgAFgAcAB8AFgAMABEADQAGAAgADAAJAAUABgACAPz/+v/7//n/9f/y//z/9v/5/wYAAgD8//j/+//0/wAA+v/t//L/+P8AAPv/9P/6//n/9P/6/+j/7P/x/+3/7v/m/+n/7f/5/wMABgABAPv//P8EAAwACgAEAAgACwAJABYAEgATABEAAAABAP//CQAHAAgAEgAWACQACwAKAAsADgAQAAsACwAEABAACQALAAcACAAIAAMAFgAWAA8AEgAQABIADwAJAP7/+v8AAP3/BAD7/wAAAgABAA0ABgAOAAcACgAIAO//8P/x//X/AQD2//z/AQAAAAEAAQAHAP7/BQAEAAQADAAGAAQA8//j/+L/4v/r//n/+//r/+v/7//p//T/9v/w/+z/7//5//T/+P/6//n/AQD5//j/+v8BAAIAAQANAAUA+//v//L/8v/7////9P8JAAYAAAD8//H/+f/6//r/+//9/wAA/P/7////AgAOAA0ABQARABsAHwAYAAkABwAAAPr//P8EAAQAAQAJAAQADAAOAP3/+//4//P/7f/1/wAA+P/1//z/+P/z//3/AAD1//n/BQABAAMAAAD//wAA+v/5/wIA///6/wAA/P/6/wEABQAAAPn/7//1/+z////7//P/+//1//f/9P8FAAIACgAJAAQADQASAA0ACAAKAAsAHQATAP3/9f8AAPr/8//7//b/+v/5//b/AAD//woABwADAAQAAAAEAPf/9P/0/+7//f/+/wUAAAD6/wcA/P/8//j/BQAAAPb/9v/t//X/7//v/+7/8f/t//T/9P/1//n/AAAFAAAA+v/w//X/9P/0//j/AgAEAP3/+v8DAAUA7v/s//X/8v/7/wwAEwALAAwAAAD8/wAAAAD+/wAAEAAKAAsACQAHAAsAAwABAP//BgAQABEAEQAGABEADAAGAAgAAQAMAAsAFAAVABEAEwAYABcAHAAaABwAIAAfACQAGgAeABwAHQAWABEAGAAXABkAGAAXABgAFwAQAAYABgACAAEABgAAAAsACwAIABQABQAAAPv/5v/3//3/9P/w/+7/7v/p//X/9v/3//r/8P/v//b/8//r/+j/8//v/+7/9P/u/+//9//7//v/9f/m/+j/5//1//n/9//1/+7/7v/z//P/7P/i/9T/4f/t//n/AwD5//D//P8BAAYAAgAJAAwA//8BAAEABwAAAPv/+v///////v8HAAIADQAZABQAEgAPABIAGAATAAgAAQAAAAAAAQAIAAkADQAPAAwABwADAA0AEwAQABMABgAAAAgABQABAO//9v/8/wEAAADv/+7/4//n/+7/8//x//j/+f/4//P/7//1//b/+//6/wAA/P/6//v/+v/3//T/8f/t/+7/7//8/wQA+f/7//P/8P/6//L/+//5//7//v/1//b///8DAA4ABQADAAoABwAVABMAFwAOABEAEQAZACIAEwAZAA4A/f8MAAkACgAHAAkAHQAXACMAHwAbAB4AHwAlACMAJQAfAAoACAASAAwAEQATAAkABQAKAAYABAAFAAUAAAAHAAUAAAD///T/5//j//H/5P/n/+v/6f/s/+f/9P/t/+b/3//b/93/1//a/93/3P/d/+T/3f/e/9//2f/e/+L/5f/y/+7/5P/w/+n/6v/z/wAA9f/w//X/8v/1//r/9//v//v/+f8GABMAEQASABUADQAQABgADgAXABYAEQAVAA0AEQAQAAkAEAAVABkAEgAXACAAGQAcACQAGAASAAgACQASABQAIAAbABgAEQAdABsAEwARABgAFQAIAAcA/v8KAAMAAAD5//X/+/8CAAEA+P/7///////8/wUA9//+//X/8P/z/+v/6f/m/+n/4v/t/+3/7//j/+n/6f/d/+P/3f/t/+n/7v/1//D/7P/m/+n/5//l/+D/7f/q/+3/+f/7/wAAAwAEAPz////5//X/9P/6/wYAEAAPAAUADQAWABUADQATABcAAwAGABIAEgARAAcACwAPABcAHgAbAAoACwAZAA4AEAAXABAACwALAAYABgAFAAoAEAASABAAFgAXABkACgAEAA4ACQALAAsACQAAAAAA+f/7//T///8CAPT///8HAAsA9P/5/wIABgAAAPn//P/v//T/+//3//D/8P/2//T//f/7//X/+v/9/wIA/P/5//X/+v8AAAAABwAAAAEACAAQABAAAQD8/wAACgAMAAwACwAEAAQADAADAAAAAwAAAP7//v8OAPr/+v8EAPv/AAAAAPb/BQARAP//CgAIAAUAAAAEAAAA/f8HAP7/AwD8/wAA8P/t//r/5f/2/wAABAAEAP3/CgAKAAEA+v/7//b/7//t/+//9P/1//P/+/8JAAMA9v/1//D/+/8GAAAABgD6//j/+P/6/wgABAAOABMACwALAAsAAwD9//v///8DAAcAAgAEAAQAAAAGAAQAAQD1//D/BQAIAAAAAAAHAAUACAAIAAgAEAADAAYABgALAAwABgADAAAAAAACAA8AEgAWABIAEgASABAAEAAQAAcADAD//+z/+P/7/wUA///3/wIADwARAAsADQAKAAgABAD2/+v/7//t/+j/8//1//v/+v8HAAoABwARAAEAAAD9//b/9P/1/+3/7P/o/+///P/5/////f/z/+7/9//9/wAAAAD4//r///8BAAYAAQAAAAAABAAJAAEA9//8//7/+v/7//7/BgAFAAkADwANAP//+v/7//3/AAD5//r/BAAGAAAAAAABAAYABAABAAAABAAGAAcACwABAAAA9f/w//r/+f/9//7/+f/+/wAAAAD5//D/8//v//L/8//s//X/7v/i/+D/2//h/+z/6//j/+//8P/n/+j/6P/v/+H/4v/o/+P/9P/1//D/9f/v/+//7P/p//L/9//6//v/8v/x//T/9//1/+f/9f/3//b/AAAAAP7//P8EAAoAHQAcABIAEgAXACAAGgAZABQAEgARABEACgAUABQAEgAfABcAIwAeACEAGAAXABwAEgAlACIAHgAeAB4AHQATAAsADwARAAcACwALABIAGQAOABMADwAPABYABQAGAA0AAAD2//P/6P/i/+T/6//v/+z/7//u/+j/6v/v/+f/6//i/+n/6f/j//H/6v/t/+//7//v/+v/6f/y//j/AQD5//b/8v/q//X/9f/x/+n/+//5//f/+P/t//r/+v/6//H/7//9/wAABgAAAAQABQAMABAADAASABQAHgASAAsAEgAGAPX/AAAJAAMACgAKAAQACAARAA0ACAD8//z/BQAAAPP/+v///wAA+v/2////AAAFAP////8AAAEABwACAAEAAAAFAAEAAwAEAPn/+//2//P/9v/8//T/7v/2//z/9f/t//j/+v/7//j/+P////n/7v/1/+f/5//7//v/AwD6//P/+v/4//P/+f8DAAcAAAD5///////7//r/9f/8/wAACwAJAP//BwALAA0ADQALAA4AFQAYACAAHQAcABsAEQAcACYAJQAkACMAKAAvAB0AGwAfAB0AHwAeABYAEQAYAA0ACwAMAAUACAABAAEA/f/2/wMACgAMAAMACgAHAPn/+v/u//T/+f/z/wAA9P/p/+j/8P/2//T/8P/q////8P/p//b/8v/u/+//6P/t/+3/6v/v//D/+//y//H/9//4/+7/+//8//P/9P/0//T/8f/7/+n/+f8BAPP/+//y/+7/7v/6//r/AAAMAAoAEgALABEACwAAAAwABwAHAA0ACwALABQAGQAQAAkAEQAWABEACgAQAAoACAANAAwABQAMABcAAAAKAAcA//8GAP7//v8KAAgAAQAAAAEA/f8FABEAAgAQAAYABAAAAPL/9v/8/wcABQAAAPn/BgAKAP//BgD///T/7v/o/+j/7v/7//D/9P/w//v/BAD2//P/9//7//H/6v/s//X/6v/s//P/7v/s/+T/4v/n//D/9P/v//L/9f/w//v//P/2//j/AAD6//P////7//7//v/4/wwADgAFAAoACAAAAPX/9f8AAAAAAAAFAAcAFwATABEACgAKAB0AHQAeAB0AHgAXAB0AEgASABcACAASAAYABwAKAAQADgAOABEAEQALAAsAAwAAAAYAAgABAAcAAQD7//r/+//x//L/8P/z//z/8P/x//f/AAD3//r/BwAAAAYA/P/9/wUABgAFAPn/BgAKAAUABQAKAAQABQAMAA0AFQALAAUAAAAAAAAAAAAAAAYAEwAOAAwACAAFABIAFwARABIACwAHAA0AAAD+/wYACAAMAAYAEAATABYAGwAQABcADQABAP//+/8AAAIABwACAAAA+f8GAAUA8P/8//v/7v/w//X/8P/5//r/9P/z//b/9P/p/+j/6P/w//X/6f/u//X/7v/w/+T/6//8//r/AQDz//L/9P/q/+z/7f8AAPr/AQADAPz/AAD0/wEA+//1/wAAAAAFAAEAAAAAAAAAAAAAAAAABQAFAP//BgALAAoADAANABgAFAASAAkACwAaAA0AEQAMAAQAFQAYABAABgALABkAFgAPAAYACAANAAkABAD+/wAAAwAAAPn/AAARAA4ACwAMAAsACAAFAAcAAQD+/wAA+v8CAAMAAAD6//f/+//0//3/AAD//wAAAgD2/wAACAAFAAYAAAAAAPj/9f/7//j/7v/v//f/AQAAAAAAAAD8//f/7f/o/+r/7v/u//z//f/7//b/8f/8//r/AwD4//v/AADz/wEAAgAGAAAAAAD6/+//9v/4/wIABgAFAA0ACgAFAAUAAAADAAoADQAKABAADAADAAYABQAFAPv/+//6//n/+v/u//T/9P/7//z/9f8FAP7/+v/7/wAA/P/+//b/6v/o/+P/5//v//7//v8BAP3/+v/7//b/9P/0//T/+v8CAPX/7f/3//P/7f/u//P/+f/v//P/+v/5/+r/7v/2//f////6//3/+/8CAP7/+v/7//v/+P/u//H/9v/z//D/+P/0//j/+P/t//b/9v/0//r//v8EAAUADQAHAAoACAAKAA4ADAAcABcAEgASABEAAAAGAAIA/P8AAPv/CgAGAPv//v8AAAsAEwALABUADAAAAAYABAAHAAwADQD///v/+v/6////BAAAAPD/8f/8//b/+f8GAO3/7f////z/AgD8//7/AAAAAP3//P8BAP//AQD+//z/AAD///v/+v/2//P/+/8FAAAAAAD8//T//P8CAAAA//8AAP//BgD9////+//2/wgABQAFAP3/7//5//v/9P/4//r/+/8IAAkAAAADAAYABgAGAAoADAAMAAcABQAKAA0ACwAOABYAGAAUABEAEwALABQAFgASABYAEQARABQAHgAjACUAIAAsACsAJAAeABIAIgAXABEADQATAB8ADwAQABIACgALABMAFwAGAP3/+P8AAAcA/P8AAP3/+f/4//T/9v/5//r/9v/6//X/6//w/+f/3P/k/+v/5P/j//b/8P/w//X/5v/1//f/7f/o/+r/6f/t//z/8//u//f/+//y//L/6//u////AQAGAAAAAQAJAA8AHAASAAAABAAJAAwACwANAAYADgANAAEABAALABMACwATAA4ADAABAPv/BAAMAAsABgAXABUAEQAMAAwAAAAAAP7/AgASABEAEAADAAMA+v/6//b/9f8AAAUABQAAAP7/8v/o/+7/+P/1//T/9f/+/wcA+v/5//j/7v/s/+b/7P/v/+7/8v/m/+z/7P/h/+P/4//w//D/8P/2//H/6f/w//P/8P/z/+T/6P/6/wEA9f/t//f/AAAAAAUABgALAAEAAAANABAAJAAEAAAAAAD5/wEA+/8HAPv//f/8/wYAHQATAAQA+/8DAAYABAAHAAUACgAKAAQADAAUAAgAAAADAA0AEwAOAAMAAAAFAP7/+P///wgA9v/p//z/EwAUAPn//f8AAAYA+v/5/wEAAAD9//v/CQAMAAUA6P/n//L//f/8/+7/AAD1/+P/5v8DAAUA3P/c/+7/AgAAAPz/CwABAO//+/8FAAgAEwAFAOv/AAAPAAsAAwDn//H/BQAgABcABQD8/+r/9f8GABgACAD0//D/DwAiACUAGAASAAQADgAlABsADwAIABIACQAbACsACgDo//r/AQAFABcAIwADAPT/AwARABcA/P8DAP3/GgAUAPT/AAD4//D/8v8XACwABQDX/9X/CgA2ACIA+v8AABwA/P/d/yoAOwDc/6//1/88AC4A5P+x/9D/+P/O/wEAPQAqALn/i//v/zIASQDw/7P/CgAEAMP/1/9JAEMAtf+M////TgAMAL3/vv8lAA4Au/8FAHUAPwCs/6D/HABaACAA3v8JADwA5/+l/+3/dAA8AKz/yv9cAE8AwP+w//j/TAAhALv/AwBCAOL/iv8LAJwALQC5/53/EgBlAAAAmf/v/0cAu/+0/zkAcwDz/17/of8VAIsAMwCv/wAA+f/b/7L/AgBMABcA2v/P/ykADQCv/5D/TgCIAA0Arv+9/+3/nv/u/00AWwDu/1z/df/d/4EAOQCd/3j/r/9AAF4AaQAhAKX/Iv+o/+wAEAFdAGz/QP+x/x8AowC8AE0Alf9w/yIAbgBsADIAsf+z/ykAjwBUAOH/uv+d/wwAXwBjAGAAq/8S/3//WgCJAHMAEAB//0//DACPABQAIwANALr/5P9DALEAbACh/zD/uf/UANsAewDv/z7/Dv/G/6AAogBmAHr/A/+w/1EALQBs/9n/oQAPALT/pf8SAPT/of9LAIUAswBy/xX/RACJAFsAnv/5/97/8//JAHoAbgCV/+L+N/8QARAChwBe/63+Lv8fAMEA1QB0AJ//OP7T/tIA+gAaAKP/UP+g//v/mQDhAFMAbv+q/lsAZwH0AB8AEP/f/6z/OQDyAJwAcQBc/3r/jP9YAHsA8f9XAFr/hv/n/zwA2/8+/y0AFgCnABsAS//K//D/TwBqACgAQf+Y/zoAXwA3ADD/Q/8SAG8ASABVANj/0P89AEH/9P9ZAY0BIgDR/oj/DAAIAZwA9v8qAIf/wv4V/84AlQDN/1P/3P6l/5P/BgBTASYBI/9e/R3/1AGqAsQADv+n/hz/hwFwAQMB/wCA/4H+Lf/nAMEBCwGp/h//nwAXAHT/cQCSAYL/9f6r/58AfgH9/9b+Lf/qAJ3/Sv+OAPr+RgCC/zj+EQC/ALP/l/7sABUBaP+U/yoA9QCHAIsAfgDZACEBjf/w/yIBaQBlAP3/X/+UAPL/u/5x/jwA4wCr/V/+/gB/ANX9iv6XAJ4AcQAD/1UAvAAv/pb+2AEWA5YAj/5V/iH/HQHaAesAjwATAM7+ev6IAH4C0wH+/iz9yP+XAdsAIAC9/kv/vP6V/vv/rwBFAXj/Vv4p/eb+tAHJAMcATwBz/6X93/5bAp4CggLJ/iP+iwDCAJUBeAHEAeH/Ef+f/uj+nQFAAnX/Kv1F/77/yf98AKkApf+L/Wb9yP+EAhICHv9//tP+of6eALsBiwEdAG4AQADz/jwBZABv/4UAMAEJAnz/1/5n/2AAXwA1/vH//QCZ/yv++v7/ACb/Dv4U/3r93QDUAbEAFAGj/tD+KP4vAogECwJoAOX9Yf8vA+0CaAF1/kL/wP/+/hQBxP64AG7+Sv1I/r3+QP8V/F8ApgBy/1QAkf7i/+f/FwDDAVYBiwNhAEQAhwPJAZoAtv5TASgB5AGcAmEAIv+5+1r+XAEVAC0AtP4f/O79ugEH/1H+K/92/vH/9v7wAjIBNPz5/cYAqwRfAY/9igCqANT+ywG3BCYBQP7A/Qn/VQT/Atn/fP4r/un+dgArA6sCsP/a+TT7HAEPBYgDsvzc+sz9R//0/nsCegSR/0T6H/yKAjID/f9JAaMAIf62/v0AdwOpAd7+Kf4eAJwBZgGSAMv/cf52/rEAhQAYAiUA2v04/ocA5QHh/l0BYv7C/moCmf6lAcMB5/+S/j39RALRASABuP42/PIBCwDL/X0AjgAA/5f9MwA8AO8BeAAD+1EApQFMAAoAYACWAU7/xP/s/xoCRwP+/+/7z/1NAnUG+AQN+3v6UAGiAhkCGAFXAND9+vroAGkACAE0ACD7QfsT/ZQBLwTzAnb6d/ya/gT/xgJdA+IDBAGs/nr+KAS7BMYAhvy0AjUHWf+d/kL+qACRATv8CPwRAp8FsPuA+UH+Tv7CAhf8F/4aAKD/6gJa/JQB0QDT/nsBeAB7AiAD9gDJ/JgAwARyAGP/u/6vAXAAJP/gAEr+rALf/tj8uvt/ACwCo/6lAgn/f/4yATn/Uvyx/yD/7QGT/4P+hgQeAEP6AP5fAnUDIwJV/uEDugMBADj63P8KApYAqQSFAv4ARPtD/UP+WAF9AQv+EgBwACv8jQDKAQ39VP2R/jMECAFK/z7+igJB/m397gK5AWIG+f/L/Pr7EQICBe/+9//C/4P+wP45/OgANASW/hH8DwDHBkf/7/8E/eP9jgLPANwC8P4kAXj7L/wVAuEFhQMy+fv3of1SBwsGq/7N/gL+4P0S/+wFbALW/fn+sPzQAaT9mAW9Aff5hPuA/pkG8wMqAkX8wv6I/rf7ZwKuCU4B5vU3+/EDWQTnAzT9a/vzASEAlP6ABMMDEPgYAJL+ZAO0CGD9S/VY+iYGvQLyAk38yvyg/8P9TQCmAtoEEAFu+4EDKwAkAHr+9fprBTL/YwRu/c0C6f4f+v4ET/+xBlv/B/riBJUBFv2AABj9NgJm+zEARQDtAvn5KvjOCVT7aggH/CMAr/8r+2wFB/qcBHcE1gEM+xv/BADs++r9tgAoCH4Hj/qA/EX+O/5yCAgD5QCC+ln+dvf2/4wJRv97/3b23wF2AuQFKQjH9xH7UPnuAWoMyQBNA1X9PfUF+n8CKA4V/kL8Fv9i+VkDBQDHB3MBOPXV/T79nQlXAkf/Jf289hsGVQRlBbr+vf0V/LMAxwr+ATX+wvw3/CgBMgX4AFb/qf1y+Zj6kgM3AY8A/f0YAOb8l//1CFP82vxq/IgAMAN7Cg4CCPp4/CX5XgZWBKD/k/2G/sQA4wJCAyYFk/no9SwG+QSwBJ38DP5l/lz6EAEgAZUJbALo9Ur2aP/+C2YGDgB2+KD3S/zh/x8I2AWu/eT34PpyBCcI0wEfA63+pv0x/xb9OQdeCEn9Q/Xw9oAA4wgpBJEDXvtR90b+ZQWdBb4FfPhd90cIOvgyBLgCj/uH/dj5qQR3DH4Ic/al+hj5wwmEC8/7XgEN9Ob3BfxsBO4RMwFs9qn3CAGxBSoHagWV/ez+jPee/vYFcwdeAlPvsPMeBPUPVQhj+i/3qfnN/NcDcw0CB633Eeq79jsVgRJKADXzrfEO/0EGRgulCx8AAvij9Kj6PxAeCe38O/jX9KMD4gawAt3/7f9r+VnxugC9EXQIJvqG8c/5Mv9KBzcFi/+5ApL2lwLZBG8INQM1/z75OPYlBv4FXQj4+tr5IP66ALYD0ANjAOz9TvYN/lkIBQBL/oj4Gv3Z/3ACDgBDB0L++v2jAiwC9Ab8//r9zPkxAX8AzwegARYCR/MF9tcFZgMFCu/6uvk8+av/3PmeC8cIYfN//SH9igTkBJYEEwR3+f/6MQKvCsQRtvhx8e/0NgXFCpIFMAJ/6ub4//qkCAMVwfy89zzr1/zpGD4MqwAE6WL1zgJvCBYRb/yRApT09fIbAYoOZBJC/Wb3rPIg98QMLhNgAt/4ge0w8QQIrBa1DWH2KeVg70cJ4Rj+Csv2EfW+9WUFiAl3Ef8BYfD68pP81Q0bCdkAXfZa8yb77w1ODS8NPPJ87DYBQgNiENwCFv1T7VX2iAZtCBkJAfos9Ef4KQY4CasB+gAR/975dQRS/zYKEwXq+On6mP6dBob7Swho/Hv8ggOV/iYA8/4uC1f4R/fBBKT8YACq+Jb+Fg0W/Lj8svb3/ugFf/w2C4gAVvsU+LH8GwZMDIQEqPe7AWcCfwrTA9L8sfy5As38ufWWBhUHZvxV7Tv4PwclBOUCTf45BqkCWO17+kEMSQ+cAsj51fuj9pgG0gIC/VsIkgJO+qn0MAQxD23/xPtr88D9kgg2BZMO0/xH89rs7/lWEyoPDwjP7uftuPx3B74SU/16/rf4qPWPDOEI1woJ+tHz3fMr+oAajAmK+en34/Da9CkEnxOVCVT7JO0L8xQPqhEIB6X8svG5+4v/agbaDAUCwPuo8C71AgebEawG0POi8/r46QXVCZIJ2gP26Lb3ywGDCjkSiv+y+O/s+wPUCN0OeQXI9Nz0Jvt5D8z+nQ56+9bu3/ml9fkXiwlu88b3YvPPAjkDQwnvBrn50vlR9vMOeAoDDrz3EvFMBEP5jhHLAsb36fIj+jUC/QEvBm7/sQbT9cj3uf9VEc8SEfR5+KH+z/suA1UGIfn+/VkDyPccAXYGo/9gAE74wgZOB//1MwYv/WMGFP4a8eACAwYODqz60PPG+JECXP4R/RQMNA+E/aPzOvlh+n4OXwCvC28DBPGAA2EBBwbQ/poEh/Zj7vgMQAzX/5zyO/XL/av2vgvKCY0Jpwbt6nP7twCICsARNAHn8afwKAdxBXADTAAi/dD26PgkCYMF9wYu/y/39/acBJEIzQMX/bP6nP2d/9YKogQhA074tfjL+f0FBQkk/PH/i/uX/4YEO/8I+Zf/0P4BAtj8dQ6S+FryMwZP/GoMxPuoA4/9NwR1/uH2dQWn/4wHZQCKBeb8jvgs/Rb84wMOChX4OvtUAVoBXvhx+ZkLKwDpAXH5hg2pCFT5//XM+jUNXv9RCFADJPV88jP6ZwclDZ4Jd/qp7rv2ZwRwBv4EeATd+A73yAIu/0kLaAvC90LvKf0TEJsJZQTj9xTrbQD+AdQPIxAn9mDzk/FoCk8E2wxPDBvxTfCi+T4Pww6i/yf12fL09doJqAr3BbL0cvN0+5QA8AyjCkkIRulh9/EEzgyAEuL5uvcT+s/7nwEjDOsGKv1Q95T8JgK4CGUAp/eB9o37xgKgB3QNG/fL9Hf6zAWzBRYIWwCV9LYAQv2iCTcHdPtT+X35wf4uChcIpfst+jT+3v7C/uIDPAPWAiP+b/cIAGkH3ATEBPT2d/srAyIGPQHz82sH1gNS+Er7VPyWBsYDyACe/CEBTAH69dj+PQYsECH5W/SH/CIC8BC9+8v9L/7kBOv9QffYDB4Hqf1G9iDzZwbrCLP/lPqy9roAb/9gBecDdwf6+1vzDP4mA1QRMAZe9XL3IgLhAfIGNvpQAzkEk/pcAS74oAngBHj6Offn9G0CXwxP/PD+kABN/lD/bfnSCoEJkA4y8+nuwwLlCRcMxvgQ/ZT7TPxQ+wsCngpKCjz1Zu62B2cHZwVSASP7A/Zl+A4BggMnDHcBPfxE83749hHeBTQHXfpL/H8AI/x0CS/9pAJy9fPzIwLkA+UIh/+I/ZH43/j+CNUL9gyF/tv0lPml/NkITwDIBkb21PT9/4MA9Q2O/Kv+NfcI+wAIqQlhB7z38ffC+wH9DAfxCPwCbfrZ9ZMEXwQjBaMB2QD8+237GgMKAjwDnfmm/k37VP+pBBcFowTO+uv5K/n6/IYFPAmIBHD4EPUeAXECxgk5AIj9ePu4/coLuPuWARsG/P6l9DD6uga4CEIDuv4++6j3YAHDBXkKQAHP9jfvCv7dDRAKR/y87/35IQdwCMEF9AHV9Eb93vphCxkTA/wK+yfwYPaSBUkQGwoM+Or1sPRFAfwNJgjq/7TwLPdgAO4GehG+BJPzlOkBAkcS0wseAmH4TvrQ96D9fQ3NCRj+vfAR8eoIVQhWBU7+t/lK/IP9sANqCE0MIfrR8IP52QWQDCwF6/ef9W/5AAbAC+IDEgJc9U/0EP6yB2gMBQeV+Efz3f03/l0HBw3gATr5I/ZI/kYJmgukBKL4yfRy+cMDKAshBQD3ifD1+SgBwAd7CesAd/W/8/f/rAmIEV4EE/pv+E349QHtA0UM7Aa19M/wMf++CxYIu/7a/BD+CwGM/R0COAsf/iX61vaE/sYFiwYHBAL8/vdP/CgCHwCXDRYGN/kP9fP31QfpCacAJwBZ/qP7FvvX/q4KAQYx/iD3Yfv+/x4MdAa+95T+/vj2/y0FfwfWBkH6ovRh+HsDDgsUCon9wfKr947+XgmBBKb7YwDl+mr6wP7RBUMIYf7R8kj8vAqJCS/+NPoVAG3/ofzC/eYHrwLl+oP2+vzWBpoATPv5/nIBrvvP/MkAQwAp/QcB7v2f/J/9z//C/B/7RwLL/mQBfv2U/E0DvgR+/LP99AQkBMQDBPzc/I//OQLeAsz/CwFK/2v9jAB1BtUDgQJmArz9RgFCBfkF7ANqASz9dgL5BgwCmgclAY777gPgBw0IjQOw/3v+9fpTBcUNqwXBAD373P1EBmkG/QUrCJ/9a/fKAAUK5AnFAQ78rPmfALIGrges/3X9K/lg9OAASAT8BH75f/Ez8lD3Kf8t+cX4hvAj8R73F/Wi97P16/Py7lfx4vvL/pX5ZvI28v/3Lfza/ND8EPyA+fj5Z/7/AswCIv8H/OL9DQYbCYkGTwKn/t8CHwYeBuoJIAi+ARgBXATGCFUNHwkaAggAXwWECYcNvgx9BcMD4AF4CyIKigrkDnEIHAaBA3AJtxE8E68HGwFpBpILcQo7DcEOsQfwAh8DXAe8DC4OUQaGBEAF7gYZBVAGlQAM+yL/9P30AIn60vie9dPuDPE78njzZPJo7hbrhOrw7iPwgOwT7VHrmO7w8BDy0/QN89PxFu938yT7oP0Z/Iv6g/q4+mf/OQF4ABUCugDWANH/ewARBTkCfQADAyIE/wGeAMYA1gD5AYz/RwBw/qb+aQFX/rb+fv5l/pP+vv9BAnkAO/5J/3gARQF8/8QAFwNKA9IDbgLxBMECMAP6BZ4GQAl/B9IGiwW4BRYKYwn/CvwK0gbWCawKDg+xC+QH1QlvCJcP8BB5DjQIhwO3BHULpBE5Dp0OawlTAgoCvgkYEsQOhQqpB6oEEgZGBvUCQQC8/cMAiQErAXj8u/Vt8Wrrr/LW9yv2ke695/vlkuZP6xbsr+q06FPplul+7LDuW/BF7mvtKvLF9hb6efiI9/H2oPm2/WoDFgXpAgEBPwCPApAFdwm4CAAIbAd7BmoGewZxByMHHAbxBGUEeATZApAAx/85/jr/5gCjAGX/z/pt+gf87fwM/pb7l/k++qH8RPoO+4b+Zv6h/RL71fyI/wcC1QFUAKUAuAH2AysF3AT4AYkD3wVhBf8Hygo+CTMFsQO7CPYMLwzqCnMIdAhQCpwMLgztCm4LgwuxC78M4xHREcwKZAhWDcsTORVeD7kLGwzHDrgSQhHwDGYEMQDIAnIJug0zBS34Vu/08Xz1lvWN9Rzwu+jr4X3j6uq/7OPlpt8P4CLjW+oT7g/sHOcW5Czoc+5y9xL6OvVu8YvwxPc0/+MBDQJZ/+f9nf//BK8JpwmQBsQEigXeB8ILrwqPBtADFgR2Bm0HLwhwBm8Dg//Y/q8BxAQcBSEAJfzM+I37H/+C/p7/Bv1b+pP52/v4/4AAUf5u+/L9bgAnAP4BCgKcAGcAsAKkBXgHUQeNBEwDbQR8CLAK/Ag4B9gFFgbXB9wJtQiJCG8HWwYwCQEL1AozB0AH2QjgCjkNmwueCk8Jzgr+DEIMrQu5Cz8NVg72DeoL+wkCDpMNywgwBLT+KgLEB3kJCwIq+PH07vUI9R3zqPTB9DDvr+Rh5B3qk+1l6bXj0uLu4+DmMOnl6zDpp+Xr5L/qB/NE9jLzou6579n1qPre/uUAeP70/Sn9sgGOBgAJWAegA6EEHwiqC94KlgiDBV8FQQh5C6ULOwjeBJoDgwUfCH4IFwcXA/r/KgFpAxkGSwPI/53+Gf/w/14ALgJ5/y/98vzW/vYAWgE3AFr+7/+ZAdkCpAOYA2ECHgJ6A2oGhgiuBkYFxQTrBH8G1wg8CpgJIwajBDYGrgjUCZcJ/wcqBmgIHQrDCwYKFQrACsEIpwoqDfAOTAzqCb4IcAp4DeoNmQ01CusDE/x2+h4Bagp0CjX8H++07S3zB/Xu8fPvX+1T6NfiJeUE7NDpLeFj3ATiE+pV7MHpAuYn5RPmWepM8Vr3Y/ci8a/v5PTH/SYDBwEr/zz/SAJ6BY0IjApQCYMI9QjKC2sOsg5BDMAKTgsJDDoOuQ8WDk8JmAZqCaMMhwsfCZAH+gU8A+cBkQQYBuwD/v/a/iX/ZP53/rv+Qv43/Wb8MvtW+yX9wf2c/G39Y/7k/mH/hP6M/1oAwwEBAvQCYAQ6AnMBJQItBLYEuQRnBV0EDQOWAnUEbAVvBKoESAWqBrwHwgaMBbEEQwiGC4MNHQ1fCYsIZQd8C3sQahKbD70KPQpoCLAFYgNEBGUGvQcxBTD+c/bl8oDz4vMl827zu/Lu7PLl9+I354bpLeht5vTm9ejv6O/n4uic63bsae4F8Vn1zvY29V7zCfdZ/iQBeQGhAdcC8AHQAl8GnQqSC10K+QknCQoK9AsmDdsMpQpcC7MNDA3FCksHgggxCdAIIghFBzcGfgL3ABMAtAESApsA8f1P+yj87/uf+zP8rPsn+/L5Gvnj+UL77PwW/bH8HP2B/vj/fAASAFkBvwJyA4YD7wMhBtYEDQOjBCgH6wd/B5YGgwTaBIkGigeKCH8HJgdbBtMGJgloCgAL+QnCCr0L4wwmDBIMXQ1ADfkOjw/xD8EN8gm7Bh8CmQLkB7YMjwi6+2/yI/Le96f26/Lb8M/uw+pg48jjpOcI6X7kZeCF4zfoBuos5hblUejY6QbsIvDq9av2lfJe8pr2A/6gAR8CvQFvAjkE7gQYCCwLCA3WCgAJfgsJDpcPrg4YDPsK9gyJD38PFQ2rCY8IPAm1CJMJdgnnBtECfACeABEB5gH7/xz9v/kD+rD7cPsA+175xvdj9a325fjE+aP6jPp5+lP6Rfu+/LP++P8IACcBFAIjAhgD+wM7BTcFWAVRBs0GdQepBwYIQwaaBlYIXAlDCgsJTQkCCJIIAQuRDdMPQw1IDUwMEQxXDqQPLxJQETcRNRBUDc4KvAUBBGgEfgvlD88FDve47YP0QPg69oDyMPCp7mfjaN5x4YDqeuoV4WjdZuGH6OXm4uN/5qnoF+qn6ybym/i79ebwu/De+hUC2QMfA7wCYQT2AakEMwsYEaQOWAj2CF0Njw9bDisMBg1PDjkO1w3ZDAwM5AjXBvcFCgp7CyYHBQLv/gYAZf+E/wP/wv1k+hb3Rvcn+Xb6afiS9b70iPVN9qf2gfj7+fL5u/lJ+RH8p/6hAAcA5v/IAjQE0ATxAyQGGAggCAYHhAfTCgEL2gl9CGIJpAtsC84LjwtpDLkNeAydDA8N6Q90EOEPFxAuELgSAxBZD4ARZBNjEn0MPwpqCLQF8ANPCAQMHQOb9bXuDfR/9uHxNe7b7HTr6uEx3O7fNeeL5k/e1NsO4M7l5eKH4DHmkuo66ojowO6p9jL2YPIK9Pn8tQEjAqIB/gRCCXYH0gZHCtsQGBFsDRINjw+LD6wMKA6wERYTjw4vCocKNgtJCkUIkwfSBzMGsQJv/2P/wv8O/mv7XvlU+kH5Avem9Zr1Fffn9df0RfUk9tf1UvXO96b6zPxl/dj8UP2S/gAC0gPMBGsHLAmJCB8GSAiIC7IMuQzSC4sMsQy3DJ8MJwxKDJMMKw04DfgO6g8eDqAMcAx8DxYRPRH7EQoR6g4cDv0PShJIEe4MwgjJA+wALQQWCk4IhP2E8CbtIPF28PPulexM6+/k19va2aHfmeXf4fDb4Nr334Xi/d944qbn8uhx5/voQ/Ih97z0YfOl9/H+qwEWA58EkAglCUsIrgqYDmISFBKVEPIQjxHED7cPvxHUEz4SNQ/FDe8L9wi5BxMJzQjbBhoDqACp/v/8HvyN+4n6A/le95/1AvbC9Uf1c/QE9Lr0w/Wd9pP37vjA+Zj6sPuY/ooBOANbAxkEcgXwBqEJ6gtnDSgMGAuhDD4Pww8+DqYNwA0DDoMNjA2NDggOcAxUDPIMxQ5yD+wO+Q1uDMYM7g5ZEZ0RFxIFEDkNfAp4CTsKpwb2AhsCRAX+BJ39a/Fv63juC+987I/oOOm65oXbttRp2YbirOKw3K7ald2D3xndA+Cq5szqCevn6KHu//T19gn2rfeI/wgEcQS6BPAJSA3+Cw4MSA+8FGEV9xM8FBEU5BJtEsATSRXBFGESoBAPDhwK5QcVCJwICgdkA7n/1fxw+mT5pfnk+G73JfUE80Dy4fGJ8mTzB/SM9DD0vfO49Bf4Ovt5/BD9MP7GAHECnwRmB8UIlQnTCd0KcwxYDrkPhw+zDtkO6w8sD4cNDw4AD1oOZAzgC1wN1A1EDVANiA1YDLMMFg7ODsgOPA7ED3oQXhD9D34NJwp5BoQDtv96ALgGKgg3/wnv6uha643rNOoH6X/rMuZx2XXSDdYT4CHiHN+O3Gndhd6Y2/7fTufm7Ibsx+kA8AP1yvZb91D72wJoBCkEvwUgDC4QlQ5YDokQVRXtFaQVLxhNGK4VaxFIEVQVyxaMFeoRNg6RCUEFjARJBu8HSQRc/g/5V/bf9T72h/ch97D05PA47vbt5e8a85v0afSt85/zYPTi9RH66f28/+L/ZAHCAxYFrAdRCt4MUQ28DGENdw5aEEsRAxFFEGwQABEMECYPCg6sDUcMbgvvDH8OMA8zDVILqAkOC8QNYxBYEeAOEQ5pDKMN/A4tDqoMrQblAPH6jfx2BegH8P4y7YPmn+c05uHk+OVi7eblRtV9zRbUguCw3wjeZN684AzfJdvt4fHqS/Gs7uPrlPK5+AT86fvtAGcIxAflBdsH1BA8FAUSbBFVE1gWbBQKFpAZsBpfF4oR0A9xEVETXRO5Ec4O8AjZAbr9ZP+tAikBRf129xTzSe/17T7xHvSj83/ve+xs61vsqO7b8if2zfXW9NP1vfgs/Hj//QJ5BdwGXQjlCdILlQ1kEJoR/xHqEbUSGRP0EXkSfBJ0ErAQzBBGEUAPIg3aC3kMzQuXC/YMOA69DVcLHwsaDMoN6Q6NDhsQPxCiDwYMLAhaBtwB3fuz+fcCIgk2ACrt5+Le5VDkNuCn4aHqoen910HKOM1b2nneS9y43u7jz+Nz2zDc3+cI8+30DfHM9e37rf0C/FsAGgtdD58N4AqQD9EU3BS5E/ITpRfHGNQXxxdDGHIYORWbEDMNeQ71ESsRzgw9B6IDmP64+cn5gPzy/PH3bfFc7GjqXevo7f7vxO/I7jHsRelx6s3vC/aO9yT3//gy+6v8vv5mBA8J5Qq0C18Nkg93Dw0R2ROdFXgVGxSsFIgUKxPQEZ8RBxJpEaAQRQ8fDlUNSwwbCx8K1QrCDAYN7gzEDOoMwQ3aDcAOdw+BECgRtA4LC9gFQP/w95P2gADABwwCNO874j7gpdxK2obcMegO6X3ZhMoJyUbU79h42qjdq+NZ5cfe9N7n5YbvwvOz8zH6NABmA5MBvwLwCRwOfRBQEUgXNRrMGB8XohUhFxEXPBonHU4cJhkpFUoRXAvuB9oKCRD7DksGQ/7M+dP24vMz89r2MvgK86fpEOSF5bHpAuzI7Obube/07O3pJuzO84H50/qE+8n+nwLVAyYF8QiGDfgP1BDFEswUKxYgFeoTIhR6FRQXjRYLFc0SbhA1DmcNgw7eD4kPuQx1CWQHJQfTCMELPw6LDugMewt9DAMPCRFWEmwSVBJjEHIN/QiYAFb4dPaK/24G0QAM8kXmfuGx2CnSitUc4w3oHdu+zX3K8c8s0cfShtvE5TLpi+O/4UvmQuzi8NT0rv6YBsMISQdIB3wMLA+1EWMUTBqBHqEesx0yGkEXQhSdFnEbPR2qG08XNxE4CGEBewJuCIgKiQT9/ML3N/Pt7aHq+e0b8rvxXety5VPkkuWj5svnM+2J8j7zae9x7o7zufjT+6f+XwSeCZYKgArkC3YP4xHyEu8UNxfaGTsZhhZOE+wRUxPaEyQUfhOUEqoP/ArSCN4JdwyLDP0J/Qe8B0cJwQrhCzsN+A1vDo8O4Q9FEwQXwBdZE8cNcQqEB/7/3vbK95UChwfZ+5vpmeGx3+fXMM8D03LhGOTJ1TLIg8nK0K/Qd9C72Pblp+kn5YTkxOmX7yHxePVeAOkKfA8+DmwN1w4mEWIUCRmEHzYjLCSSIXAc7hbYEzoXOBtzGz8Y5hQtEJoGJf25+5ABEgRr/if3XvNw8ODpduTJ5q7sNu5m6HjjaeRc5/znBOi77Ebz2/UT9KL0jfo4AKIB+wHQBk8OYBJ0EicSFBRfFXwUpRTXF00cgRyjFw4SgQ+/D/MPeA9pD14PLQ3ICKwFTAaMCDsJSAfnBVQGWAflCIwJEAxsDicQbxJcE48VLBbyFesTKBHcD9gLGgP89hz1Lv5uBOL9fe345JTfxtRqyqTLQ9vo4AvXtsqzybvOQcxgyxLSWeGI6UnpmOoh7f/wse+j8tv9jwrnE9EVExf0FrQVAhV/Fw0fbiQHKWkpjCV2HXwUshPrFZcXmha+FVgTfgmt/HD12ffn+sj4bfSM8Zfv7ejW4Xng5OT46A/nUuRt5QTpLOrf6Z3sWPKP9uj2Bflu/04GtQh0B7kIaQ09EtEUJRaqGEoaBBmSFUIUARd6GcgX6BIKELwPwA7RC3QJEAqMCpsILwbTBbUHwQfWBRAF6gURCI0JYwvvDhASyxOuE9QThhUoF8YXvhYLFl4SEwky+9vxevcOAn4EKvnj6krjR9k5zCbFl800227bt9HUyoPNrs1dyfTJZtOc4SPohexC8eT0I/W18fj0yP7bC4oWbx0aIeAeKRrcFaMXSB3YI/EquCwqKDEdmxRxEtURnhApEEASBxCTBhz7ovXD9K7xie3t6+vt0+2+6LbjNuJs49/iDuFS4groou3s7lTvq/GD9b32rPcy/WsFnwv8DDcNvw6iELESRhVAGCcaTxpCGTgXIxYeFtkVCxOWDjoMNwy/DDQL7gjwBpIEgQKlAfUDtgdhCS8HjAMfA1sGigqHDMAPbhTzF/sX4BRTFc4X3BlwGIwVrBPnDJj/AfLD8vX9cQJf+EvpGOQM3QjOL8HHxFDUPdd8z9zKiNBl07jLIcdHzfXbxeUU7Rv2mvye/ef2W/Vr/P8IrBZuIKonaie3IZka7xe1GhkgXigTLcsqvSBvF5kT6Q/kCtgHXApvCxQF2Psc91j1gO+e5/vjPOfF6jPpR+aT5brmWeS7393fUOfp7x3zoPRU+GP82vv8+Q/+awYFDekOEhAkE0kVkxXpFEQVGBdbGAcYJRZtFf8VTBQ2D4wJZgeAB5QHpwemB9wG1wJs/sL8B//xA1AHJwg+Bg4FsgVnB54KLw/aFFwYcBmbGbUa2hwNHQcb8hatE9oOGwSO+PD15f6JA735D+pA4v7dp9EBxXHFpNFc1ZrMEMc7zPDSj8/HyWbM2tb14YbqxPT9/fwAMvxp98b7CwfuFL0fpydpKhUmVx91GkEbdB/SJcoqCCkyIeMY6BTmEFsKqwWABcMFNACW+Zz3mPdh8pDnmuBr4T3mEOnn6XLrrOtY50PgFt+95rLwUfaA+E38i//F/sf8if/dBiYMiQ21DqYSsRbdFwcWTxPoEecRmRI1E2IUfxVKE3sM3AScAWcCpAOgA3IDBAMVANz7yfjT+fj9oQK/BdsFhgXjBWkH7gilCxgR9xaeGnMbOxy0He8eDh+UHQEc3RpGGI0OXf2r8B/zD/6//7P0/eiD4unXxMYlvdvENtK10yvN+8v50UnTyMxnyWDQzN1u6a7zJv5yBQMFxP5y/PcByA1SGx0nzS5bLvAnxx/hGnAaJB5zJAAo6CUwHh4WBg/VB5oBDf54/Qf8nfmc99H14fCg5zjfodsn3oPjR+pS8MDxa+1p5Wvhu+ON68z1ev9zBt4GvgMDAW4CtAbpCu8P2RPuFpQXKxeYFtMTiBD0DOEMRA8dElITIhDgCpgDof0a+rv6ZP8BA98CQ/3/9pPz9POd9138fwLiBmUI3QZ+BWIH6QqQD2gTgRgAHX8fPCCgH68gEyEwIZsflh0gGncPVP5V71LxXf51AxD4sOdB4BvYj8movUHDR9PH19fQtMsa0dnUINCmyyDQQ96v6zv30gAFB34H2QF3/nkBag1MHQkrtjEvLiYmlR2fGFsWCRmQIZMolyZdGiIPHAkOBFf8X/Yx+K77mvpW9P3umOt35X7dotit3XfoVfGO85XwWO0X6QHm/ub37z/9pgZUCv8JhgngB00GaQePC90R3RarGjYbEhjjEosN7ApnClENVBEuEwcQIQiBAEb7aPnh+E/6ff3d/qD7gPQv8GXwuPLr9Pv3vf2DAogEhQSSBdsHkAkDDI0QdBjsHyojUCGtHcAcsx6MItgl8yZjI6YaqQ0f/QvvM+2L+lUHBwL+7dbduNe+z8DEpcNw0aPc+tfEzqnPPdgP2SDSlM9r2R/rq/p8BfsJCQnwAt38Rv83DJoftS3SMD4pjh0HFmIUyRewG1Eg3iKvHoITaAesAoYBlP55+Jz0E/Vn9cnzJu836lfkut6G3Gjgiev89d/4T/Jz6hnouep18WP6fAViDIUMyAiXBf0GkAqlDwwTMRUbF0cXZRWBEKoNDw2yDFIMwAxDD0oOTwh//xX51PeN+A76YPrV+uT5XfWA70vsmu+89Dj4ePqc/cABIQP+AkMDgwbkC+IQqBUAGoAfcCKqINEcGByhITcn5ShGJW0f+hcWCzL7he+n86ACtQmJ/sjp/t1a2drSMMsszH/WrNor1vzRFdZN247YENNm0nvc7ewm/hYJjQhDAf35VvuaBJASAyG9KcAp6x9rFasRQhaoHP8dnhyvGQQWLQ/rB8ID4gD1/Kr2YfMi9KL2fPYg8NPmKt+63qPjI+p88On0APam8InqJetN9PT+0AKIAnIDWghzDMsMhgwBDnIRxxLBEgMU+xWOFTMQ3ArHCSANThA3D88KeAQB/wn7evk4+gH7ZPpm9xL0YPGr70TvFvCf8pv1rPge+2n8LP0H/loA+gMOCRYPgBTmFx8ZaBosHMUdeR89IgwmZCg+J7Iixhz8FroPhATw90n0i/5UCuoFhfFf35jZwNdl0kTQf9du3iba6tDfz9rX/twf2gLWfNmJ5jv3nQOFBYH/5/n2+vkCjA6PGpMieyLzGqsSWBHNFp8c4ByeGDAVOxNNEJYKPAXRARH+a/kO9vT2JPnl9zrxLujp4vXjvekw72XyJ/Qd9FjyBvDI8Ur4pv+VA+UCqAFmA7wJ+g81EesOPQ3XDrcQ7BGkEkwRkg0hCYsIsArCDIEMqwgQAn36IPgg+17+1fxC9z3zFPL58uDyHPLa8sH03/aT96L50fyF/ov+2P9CBpINOBLCE1QUpRWCF5cbqh8YIvQiGSSKJg0naSRXHQkVFg+zClcEMvwy/d8GGQko+Erhf9ql3zHgJ9g31ILYEtqK1vzTa9eK2s3Yz9Vw1i/gIvDX/iQB4feF8D30zgERDs4UQBbaFJESrA8vECYUiBnWGSwU9Q/gEC0UvxAbCKwAOf5d/7H/tv+Q/cb5KfR57jDszO1w8v70VPV+9bD2hvck9qX18vbY+goA1QS2BlgElALzA5UHZwrGDLcPGBDzDIcIxQYeB7sHsQghCdwIrQeEBrYDcf6/+cP4UvtO/Wb95PsD+VL1p/Iu81L2T/rT/I38rPpf+kP9NAFTBBkHogoRDmkQMBIxFFgWyBeZGAAadR1aIZQiFSCIHPAZ8xZ0E0UQ+QvfAyD9jQDqCHkGWPUr5kHlUOnb5uLfld2r3uXdTN3F3ubfjtyM2PDX+dsK5h3zSfsy9i7rc+km9coD5Ag9BiwDvQQICWYM/w12DdsMiAtcC6ENKhHZEVQL3gJl/9YDpgl7CUwELv6q+z37BPxr/df9b/29/Hv+cQAMADX98vo5/Gf/gAPzBeMFLAP2/lj8Qv3IA+kLQA6XB0z+4fvK/1kDigFc/Yf8LwDDBbAHTAPQ+j30MfTG+YwBJgbtA0n8SvVt9NT4pP4HAh4BeP1Y+z/+AwP3A6oA0f5/A2wLURBkDh0I9AOyBWUNhhUmGWMWrBDCDEcMew9LEhwTWxFkDw0QCQ+OCAP+efptAhMLowkR/6L3gPVy88nvQO3z7rbwofHO8JztuOnN5hzn9+aH57bsAPVZ+X70ru2/60nv3POK9sb4V/rl/H7/3P8M/cD4X/h1/JYCfAbuBWICcf73/dD/wAFpAv0CfwSGBV8GtQYHB8kGRgYGB4MJZg0MEJ0PogweClkKIww8Db4MjAz7DLsMsQq0Bw0GLwVqBM8C0gDf/sv8CfyP/B39Nvu69+b1i/VJ9VD0gvSQ9RT1sPML8+3zT/Sx9Cb2+PZ69gz2VPhF+5n7mPo5+xL+AADmAO8BPAKuAVsBVgM3BtUH7QfSBngFSQS1BMMGCAnpCtkLFAwSC5kJ/AgjCVwKmwxJD/APKw5EDK4LogumCoYKdgyYDtIN1wnyBQIERgP8AXgA2f9RAA8Bz/+0+/L1zvHv8PrxwPNb9S32f/R78PXs4Ov37CXuae8w8d/yZfPt8aPv0u0G7o3wCfQi9/D4tPn7+Kr37/d3+iD+pgBYAkQEcAYOCCkIZQcIB9YIygyaEMoRNxBVDkgNyAynDEsNKA7CDQsM5AkoCK8GmAVXBQcFswO1AZEA8/9C/vf7Dfs0/AD9BvyO+iz6t/qI+ln5HPh2+J/6o/xX/MH58/eA+Pf5Yvot+s36WPut+rL5Jvp/+4D7rfnu90L4YPp9/ET9yfwW/Bz8Jv2y/uv/ZwCXAG0BLAPmBKkF/QWlBnEHIQgOCcwKggwXDa8MEgzIC1wLLwv8C2ANQA4TDtkMhAocCPMGhAdnCCEIYQfSBrwF/gKI/4r9m/1Y/kP+tv3L/BT7WPif9Yv0E/Vn9jX3N/e19sn13/Rc9JP0VPVx9ur3Xvk9+iD6cfka+Wn5rPq7/O7+KgD4/y3/iP6B/iX/GwApAb0BgAGdALT/qv+xAA8CfQLEAbEAeQBWAToCTAKKAQ8BnAGmAlcDewM5A6EC7AHjAd8CSQT7BFgEygKDAaEBmQK1AnkBaACyAFcBzwB3/9n+7P7z/eX7X/qf+sH7Svy8+5n60flU+eP4vfho+Xr6Ffv7+tv6Hfuf+0n81PwZ/Vv9Nf59/2AAkABwAEQAGACSACECoQP0A3EDlAM/BCsEXAMZA0IE6AUiB5kHXgemBqkFxwSgBMcFvwfqCFoI4wbuBYYF0gQSBBgEBQXiBcYFtgRqA4oCRAIaArABYwHXAdECFgMdAoAAYv8z/6//awD2AMQAqv9i/o/9Vf1c/Q/9bfyF+6n6efrh+hj7YvpG+cD48Phu+cr53PmR+UH5mvmr+rH7Xfz5/Iz9vf2B/cb93f4qAAIBpAE4AjoCrgEsAUUBqgEWApgCCAMbA94CnQIiAsoABP8u/iH/CQEvApQBs//h/fn8+fxN/c/9k/42/8z+i/2G/Dj8P/w3/Ir8WP1T/qf+zf1o/J/72Pum/Dz9p/1i/gP/y/72/YP9yv04/pP+qv+DAeMC7wIpAq4BAQLTAqcDjASXBVQGcQYZBr0FfgU1BeQE1gT5BBEFRwUsBXoERQPwASoB8AAAAWQBzgGtAaoAXP+u/sj+Of+b/+n/EwAKAKb/+v5y/jz+R/6D/q/+sv5x/hT+ov0w/Q/9Hf2P/eD93v10/dX8c/xs/FD9xP71/x4AgP8Q/0r/JQBXAZsCVQNLAxMDNAP1A5gERwRuA0gDigQpBuEGWgYoBQAEEgObAvcCEgQmBTIF8wMgAtkAhQCaAJ8AwAAiAUoBeQCt/tj81fvO+yr8Zfxe/Cn8jfti+tz4ifc399T3t/hH+Ub57PhZ+Jb3+PYV9yf4ofkT+xX8vvwB/cP8gfzd/ED+HADRAfcCbwNRA+MCnwIVAzIEOAWVBWIFFwXgBKUEVwQPBNgDhwM2A/oC3wLuArMCJAJiAecA+gBfAZ8BiQFnAUkBMAEKAfEAyAB7ADQAQQCjAPMAzgAmAHf/O/+O/9X/mf8P/4n+Nv74/fz9Hv4t/v39if1A/Tr9gv23/bL9iP2O/eL9G/4W/tr9ov2C/Y79/v34/ggAegATAEj/9f5t/2cAdgE0ApECiAJHAk8CmwIcA7YDSQS2BOYEEgUUBdcETgSzA2QDhgPCA7IDUQOgAtUB7QAXAIr/OP8h//z+pf4//rn9Ff2D/Dr8Tvyi/Cf9yv1Q/of+bv4x/jb+q/5p/0MABQF3AYEBRwEuAToBWgF3AXoBggGQAZ8BZQGwALz/+f7I/h7/af85/5z+Cv63/YX9U/0u/Wr92f0u/lX+OP4w/jj+Sf6I/tn+cf8FACsACAADAD4AjQDAAO4AOQGWAZ4BWgEdASsBagFuAVsBHAEEAfQA2QDCAIcAPQDi/5T/bf9Y/yL/xf5y/gn+nf1a/WD9n/2V/XL9aP2l/eP91P2K/XL97/3H/qv/CAAGABkAXwDMADkBqAFBAscC+wLwAvACBQMFA8YCdwJwAp4CuAJ4AvoBXAHMAGUAOwA5AE0AUgAYAKv/Pv8K/x//ff/X/yYAfQCqAJwAiwC5ABMBZwG2AfcBPQJcAi0C3wHIAfkBEALTAWEBEgHnANQAlwAdAH7/8P6+/tP+6f6Z/gz+jf0o/Qr9Mf2J/fb9/P2O/RL9CP1//QX+WP6A/rb+5/77/gP/GP94//n/VQBzAKkAAAElAQ0B2wD/AHEBxQGpAX4BiQGUAUcBzgCFAG8AZwA7APT/mf9E/+P+Y/7T/Vn9Cv0a/Uj9Tf3+/KL8kPyQ/I78hPy//Ej93f1F/nf+nP7Q/hD/a//r/44AOQGuAdsBzwG/AeoBLgJLAkcCOwJ+ArECcALXAVcBSAFaAWcBUgE+ATIB6gCdAJYAxwDzAOwAwAC9AAsBagGnAYkBVQFcAYgBrAG3AccB5QHfAZwBWwFEAUMB+wCdAEwARwBFAPz/mP8n/93+s/6U/nn+Xv4k/vD95f32/f79/P3//QX+8v0J/nD+7P4s/x//E/8z/5z/EwB5ALYA2QDhAAoBdwEDAlwCVQIgAgYCRQKlAuUCzgKPAmUCXwI3AsYBYQEoAQgBzQBxACcA2f9M/27+yP2Y/bT9tf1n/Sf99PzH/Hz8Tfw9/E/8m/z//Gv9lP1+/Xb9lP3V/UT+5/54/7L/uf+x/8r/9v8QABkAJQBJAHcAnQCnAG0ACADI/9H/EABUAIAAgABDANr/vP/8/4AA4QDrAOIABAE5AVsBiwGvAdkBEwJNAnECkgKHAmoCYAJmAoYCmgKmAm4CDAK1AZABlwFxARgBwgCeAIMAKgDY/6b/Uf/o/sn+9/4Z//v+if4M/vn9H/5f/q/+xv61/or+vf77/ir/TP9j/5P/yv8fAGEAwQDeAOsA0wDCABYBdQGMAXcBVQEJAQ4BDAG0ACQA2//m/8r/of91/0v/9f4g/n79d/2u/ez95/3T/eL9AP6q/Wb9sv1C/sv+QP+9/9D/LABoAD0AVwDNAJwBCQI/AjsCLAI6Ag0CugGRAaMBtAH9AewBJwGjAEkAzP9+/2T/sf++/3r/6v4I/qL9EP5v/nH+X/7k/RX+WP51/nz+dv61/tb+fv+0/37/q/+9/+v/RABKAH4AuwCYAGsAfwCqAKQAjwBjAE8AXACzAI0A9//Y/47/mv/1/x4AlgAbAIL/k/+u/0UAbgBxAKMA5AAbAQ0BXQHOAZ0BMwGsAa0CAQP1AiQDwQKJArACXgJZAvwCTQOTAhMC7gFsAbYAPQCt/2//cP86/+L+Av6M/U/8Evxa/Cn8Zfzz+0f83/vD+/T77/sk/Bn8xvyJ/U/+gf6U/vr+hv8fACUAqgDGAQ8CfQK6Aj0DHwO4AvkC1QKcA8ADkAMWA8QCcgLgAakBJgFMAW4BFgFpAGz/if8GACv/FP93/77/pv9g/9/+5f52/3v/T/9q/oP/gf8C/0T/Zf+d/zn/VwA9AND7jfRg/5kYzAKZ2Rz+9CKv+dnkNgqADfrx6vYWA5AH1/Y8924JCwYt7ojpIBaID1blv/ceFFL7hPjgC5gCA/R+AaQOAv6y/YoEEgvK/+//3wNBBMUEeP2YA3b9bf32CG0Qe/nY8hkJUwg99yv/BQ58/272EQa1EV/24unQDasO9u2qA28ANAFt8Ez2oB3c6s71UvofC/L7qejlEvX/JPdA73wQQgee7CgEXQn5BKPt9AXoD5D0IAwh82EGGhHF7f4G6/zp/RsDvQ539zn6CAm7BAP0sfw9FL70YwK8/QQMHfRU+8IVrAEc9ngAXAdu/JYOgf3GAYf9PQrM7xIMlhSk3V4PzAyK7kECcBAS64nxTxtA/KjdGBNqCb3i2PxlGIHqoPWxDCPr+g+j9kr0Ef68DX/2vuy3E132+f9N+u4HRP5g8MUWH/HeAecLGPeVAz370BSu8GIDUxay7z4FZg58/m745AkTD1zyrv3CG5nwVghv9OgFfxsj2nsKUhK870v0+wzuDAjqsO3KG3P5D/IZBM3zEgAaFB/idP/eKDrBFyDyCiDmoRI8/RwMb+uqD3X1FBj88F/4TCVWw4Ex/f7B5AQrwOUz7u0k0/9PxsQv6eQu7BgNM/8xGEDb+xqa9foGTwZo8ezxwgJxICzX6vv/Kxf29+8mDowYWvIU9mQWN+2mKq/tueOhK8AHWte1GEsl0svlDwIOIABjAFv+MP63BkbpxBnV5HjzKyZC3rH7oPeeMFzKjQcQDQfnERI659MOZgAL99js1Q09Bn35TPmd/y38nBlR6tAGXBLw4RgUL/6e/UoFkRZ/4Xb6Ey3f5wb3mhJF7dIX8+h3BxIYVeG2AdH0SxDk9bEBtvJDCncL6tiPGL8W2NXqEQkDs/wGA/f0VR3V3QIYE/tBB5D/zvwnGJ7a1CEsCEXszAi2+y4GNgTk/RX+Iu/kL6TUd/3eHa7qNRE0y9A/UuQP45YtWddgEhf45QTA6vT93yeXzvwPAQJX6G4i4uTM/0UBuCBd7BHRYFZ82nj4sgxk7eMzts7mCmEHPQb9EFjdHwm8ChUdDudC4Pw6Vemd7Y4hC8+bVzq9yt+4Xii5uywN4fcKuQue5fcZDu6tDpPudguS/F0BzQOQ8GERQuzUArccEOJ8/QL8dx0AAp+7fk827FLdYyQ56BIQm+c/Go7nSvIiI6jgaRnk6OEcru7Ny75pCMiu3OcwZ+HYHOD1qOtNBXYTxALQ2CE6h+kox+JX2ujA6UcG4g6wCbba9Sh+6b8ZsPIy5atBueP+4B8mahCmxZsrBBVC1zX9TQnrJaXMtAXgEzr52/1t2IwqgQv53x/v4RaHDDTgowymBqz68fk1DZbrMQS9LKvGmva5Mab9T+dz9c0OYxgC31Dn/Eje4mjEzUfT8Ab0Ph/s2NkGDAOfEZv7LfxfAKfzUQkHFtblyxjsFKSfFFjjB0nNoh8aCwbs8+3PJcL2BgBq/BTmohcNGvzXUBLo+vYEsfzT+lQPtd+mKLLnD9P7RCzz489LFYwcY+Rh76gsCth6DOsJGPUX7hcS8AZe3mshM/VH6T4QVAqN5bwgaPrc6Lr27kXx2XnS+j5h7ogLzNz/EtUZi+sI8gsLdBs89gHrJBbr6wEe+u/j4eo1VOOCGGHSCgocKcLWZh7r+6rNCzKyAJTlIQf2BqgCmOSTFzH3Gha56bL3bv/KHzXu2e/fGuPZoSYQ8AD4wfwyJNzpgelFGYYAMAAb8j4KVAwf7iDoejSR8ZT0/fJqEOYdMc1wDQEossptF54LxeG2IvXyIP2m7Rgj4flYAyzgPRbEIK7Y7QQA7rRGbL10CvcozdZZFcbtrAoWExHq2wSf/Nn45x/j6wn+AelsKtfb1BUF/h/Z40kEuo4ObxAVCBfjRQsv+DYEvAVl8aoYlte6JlLiFRSW7tkSCQ5ZzwkPgx37/iXO7CxG87QB1v8C9ZgKPQph6q38iyY15R7v/SX1/f/KnSyeHMHQzuKLTeDa8Or+Kb7URBqQAZsIReBUGpH+0uNRNSPPPv+LMETbO+ugHdwR9Nx19nEfJPpM7isObAKj6B0RWA2b5un1ODN42Aft4Tiv6jXOwD1E/gy/yFKwzO76dio34cb7MhJuCKLnkvkFLx7o6ORFJYvcuSq43Qchr+BF+tw3uLtdLJ8JheAj72pHgswh9O0uFOGu/wwNDAP95ucuf975+RQaDO4GCNsLYu3k/e8I4/xyB3j2ywsZ8hgLyu8AEE8MO+zyCerc4SgQDP/UIQdhD2EFrvSY628dZAnw1a8HNTPE1XTocTFH3tIVx/rE9pL/8wGzFiTddBV/+qH5NP+eBCMTzOyv+LvvPhAgKFLNDAYzHJbgZwrPDnEBre0WC6jssRLKBFL29/729S0dT9BaIpIbAM/IGrr5yfP0HC7qqQdO6WUed/3Yy1pAEumYBO7wDfrjGe/4cwRH6hUH/AeI87LvpCoT+4ncBgsoDfv9DgLcCJvs5f9HA8sBvAt0/2jbEwFwIlMI3+OkBVASbtVcJjP4w/5hDQXVWB1+9EwWvfrf+az2M+9MQLnRKQjBBD70+Rtp4RIKXQAIGVbhovo5LOXdew4QA3v0phl+7KbpzSPlD1Heg+kJHncUp+fi8+cXkAOR3qYQ0hRQ7i78zQTl6yAYbg2b1aUaPf8O8VQLtvZiAAkY0/VO0AA2sASm0kUgywSe6ssKWfuV99sW+AKm2038FTkl2sIBtwJwAjUMK+F6HULl4S/C4CPZikXw+X3JMhDpOqjGmftiLY3wZdzJGFoLJPVUCA76st6IIqoaPr9pJmAH6uISAosTQvm7/9z8fOHDI58Hmu1k8DgM3BCp9N3xEBgK6m75SSMH6L0B/Pzl/JwISAjR9ar9WPwx+C4fNvgC52gKFQDi/4wKggNm7SPxiCaZ9JP62wp8+BcDJ+tPHUkMmeo07vQURRE93M0Sbxy87FXfUhdoHe3j4QcDBkXyRRRN64UD7RtP7ET+b/aQCdADxwO3AxbjawylCwnxWf9sHxHwJt86FGYOVvSXDFj5ZOnfDUQBeQgG9b4AR/8I9xoIuwl9++T1AAmA+a4A+fswCSsCDPpt85cMGRGF5oYFWgi3AE32WgLiDyL0pu6CEa8RL+fH+E0U6AZ88vX1ERTdB3/mqgnaD5r2RvEDBVsaJejFAJYCn/lzGezoBv1CCub8uv97+j0NO/iG7QsSGgUGAeLzuvHKGzr/rvOc+CoIOAJ+6gAJ3Riz7ArrRgrBCz4AoPcLBej2agmf9F4CFhII8439Rv3DBcX19RCRALXzJA3R/mX6DQDjFYL7ffAdAQUJPwUu/jwEY/0+AP39NwhcDLPxLPs0EIj6BPr7Dsf8p/ExBBoL9vyh/AT9cf7sCvX5kfvBAQ74pQUm/v79xvnD/+D/fvmzDXftJv5xBDD9EgYp7yX57gXeC3Dqi/rEE8bulPUdD7oAAvyD8wP7pxI3Aenxk/QWDzP+TvrWBkwCjPZZ+3APDf3Y/zr/fvuQBEEQw/M3/P0RNv+K/rsFiQ7H8yUKrRP49KQJ5A6P+vQBmBN7C+vzMAsKEZ38wBMT/dj+VQ50CQsE2fuLD5f4gf2tDbH+bvxs+rn+sfsyAPT98e9a+4r/cvSG8/by5v+88rDxk/cF77H8Ye9N9Ln7BPN96gP85vr48RH9HO1f/F35kP+k+6rxDQDM/I0ANP8UBAT2sP5cB3b+VgSq+xsE9QYNBV38tf+yEjz8rv7JDkED5AFGBqsE7QlZCUgBBAg8DdMFCAjkDWUJpQidCL8R0ARcDvITYwitEB0L6w/gDW8SRg1JCqgNvBKwBq8FNw+OC3sE3vYEDFAKy/958ZABUP8M8J34VPS2/aHnte0v83jwpe3659v0Sukw7PHyUuzs7dTvvu7x8ZHz5vXz9vn1JPfN98P9pfw4/cD9bv9BAqQAbgR0/HH+CQdyBmz8PwasA6/6tArTAV3+5vtVBQMDjv26/wABLPnS+ukI3/ZM/yf7GQEP/jf4xgMR/LH/d/eEBrcG8fVUA+sEnP7UA60FRg3mBqj8+wupENkJrgevEEIPTQxPDgAX6BfbB/oTXxgoGakQKw9xG+0X+RdnCiIMNw0QDEEPbRCyBvv/LwHP/AEBMvzT9D7tp/lk8yztPuqJ5XPq4+I779HoEuF65rXnVewq48blue/N58/wT+9T75rwVPFP+6f1Uv6P9Sb8uQXuAIf63gFAC5L6LAreCycFAATW/noMCxAGBfn+fwaeDDoJhgCXAEcCyQIeBjkEEASO94T6aAS+Aoz8AvNlA0cAzvl8/dT88vxR+SEGT/5w+PgAEQJ1ByACfAMVBEcHqhDuCHYMMBBBBAYN/SI3Fh4GlRXEGqQSERcUGRMaYxgiGvsbbg3zCvcLXhWZFBEHtwU6C1ADFPUw/iX4svO18R/yn+8D6AHmatoJ5W7lx+Jr36be4+f23kTdS+NE5L3ka+vm7LntJuoy8NvzuPO//OL7bvxu/u4GUALJ/8oIZAvTCR4Lfg85DWYOqAlCCdwWFhi5CP4HWA38CxIMAQkgB74FcQShAI4E0QGf9iH3/vyw/3H1SvH29Qb6mvWu7ur0RfYb963yevXD/Qr0bvvYBNH94QA2BJEGsgqJDyQQbwhTFI0ashoaFnYXAiN+GNQeDSaSJVUizyCpGVIVnRfKF20awBVXGBEMtwMB/BcEgwQf9SH07O0u8mzoh+HB31rbPOA9333dJtrX2uHag9SQ2xjgTOLK3IzedO7p5+PjMu3V957zIPc3/tX4PgFzBeH/jAm5C8EHABGqE4kNYgh/EfcWdBfCFQ8QUgkdER4XvAsgC2EIXAgbCpYKMQHR+rr/L/27/DH37vYH9SnzhfZy8fbvSO1B9KfzvPIq8zvwI/+q+q36k/7h/w0FTAnHDwcIJQ6jFk4XURvxGtEcox2YI9Is9CYXI4IgyB3eHQAgkB4FEJkY5SBtDWsEdP+6/AUE4P028rHqZ+7I5MraBeKw2M/ZAdx02nLYMdSG1mrRZNdw34Thj9qI2P/mjep16GXkPvJf/gD35PfU//UF9QH6AqAOMRQcDlQS5BeVFi8Rww2qIqQldRNLGXEXzhDGGRYW5g9fDcIP6g1/Cm0Djv0NAnT+9fuQ+Z/zXe+Z8t3v8eqB7Y7rkenw7ljsDezO7tLugvi5+Sb47Pe8ApUHRQbGCpMNrhPEFrsdiR5HHcAgMCz0KKUh0SeHJ7kn6R9PFwoWUyLSJuMVOQX0/HwJxgzZ9K7rYfdG9r/jA96g3jzYBtuu2ufZRtcY033RGNG02iXaFNaD2VjgFueN5pLgMuDz9BMAPPRm97X9CwQ0B/AA5gzMFacSGRHYGHIX3BCwGYoh9B83GqcZGBSXGlMhmQ/XCNsWfBdkCIwExwddAwUBL/zL+eL4/e/e8Trvlu/76ZTlnu657I/olOa17IHuaPLF9p309vRu+uwDuQeSCE8ILg3iF7EYmhrAIVglxCjFJlwjQh66KJUuMyThFNcUaCzJJakNGQT7AkgORQ7F8hPvDvdL8QXk9eGj4J/X+eBd2J3YhNyz0mvQGdOy35Hbl9Vo15HiNu8Q42Xfu+ZC+B//vfDN+IwFSwGX/gQKQxHFEFAP8w+GFi0ZsROxFS8eAyIUGjASAhjCGj4XHxJyE58RZQ//CNsEpAxeBvv7jvvC/EP4xvE886HxTu/e7jfq+um96eftZO/77mTtj/d++6zzYfqr/3oHqQXVDGsTVw0oEpsc4CKgIx8mzSBwIN8fTiVyLCMc3A+wFiIptCLnBw3+j/+ZDn8GgvDw7+zwRO+X5ZvgxNuX2yfdeNj323DZQNTR0MPXcOAI31DXb9aF5tLsROj14Bnp8f0//L7ysvv0AzcCoQQVCn4SbhLFDdUQjBkbGDYSFxiDHYUeRxmUE3oTihrZFYUQyBT0D+IICAfnB8gH0wS1+nj8V/zo9SL1svMu8k/vv/BQ8ATsTOuJ8vz0IO9m9F7+Xfnm+c4B2gc9CSkN/xDAD88YRBtzIG0mZiIKIZ4jTifcKNciYyIKGIgO5iByJ+sTvPxF/JYF+Aem85/n0u0b7GLoA92j2EXVhteQ1RPUztZ6zx/TJNId1I/cddiu15zdRej76a7i8uPy9NcA//YZ+D8ACwXCBZEJVRMQEvcQGBPVGNkZZhYOGbsbuB+ZHHsYLxadEaYbEBmKERQQYAvBDaQFVAivBRr/uvyn+GkAw/XE84nyRPIr9tTrPPGn8q7xlvPG9fj34fZa/4wAnwP+B1QHkxJyFJkUcxmoHE8jHyWdJLsiZCXaJpomcCTjHr8UCBOBILIgqg1u/Cn5VwLSAiztwOSe53rord+x2YvVUtBR1cbQ/NFuzyHPeNFp0L7UWdeF1x3Xkd696SXoDOCC5935QP7m84/7ugXYBdUEawz8E/MRHxJSFcEcThpOFjQaSSBpH7MV4xbyHbYXfhVdE/wPphClC7YHvgm9BwoAkP96+sH4HfoV+r30xvM/9FnwK/NW8Wf1Avcw9+b3rv1PAdH+9QN7CYAMhg4DFoMc8h9MHHUcKCLCKYkr/Ca0KKUksyUMIfgUyxK4HHEl0hNz/HP1jgBjA0nq+ON962rmrN0N0xLVyNDpzW/MRs5g2NvMY8epyG3UhNpt0eXWPtwJ5y7n795z5WT3av3N80v9yAaHBfYC8ghYF24XzRE6EV8bGiEBGIAXBh/vIJUW3hYdHckXhhXJDjIOTRBNDOcF/wcHBK36oP4a/CD5l/me+cHwKvCN9sj23/Lw8iX5C/j/+Fj93AJ1BkgFvAPFDxAUdhPzHHgiXiISH8QiFioLLa8tkiohI58pciyEIAEQFA4UIcYilA5a92fy2f2l+mXnfN+/46rgPdYL0jfN+MqjyovGIs1u0aTM0sSDx9XSqtlK1lnQ7N2z66zmvOC76vH5W/wm+Z3/uQhOCg8H9AwuGZsZdBQmFNMdHiCBGGcbASDRG7IWvBeSF9IYTRGNCOYODAwqB+IBLP/d/036D/pA9t/1zvVJ9Fbz+O8g9Bj1n/X79qL59Py1/BsC/gXkCmYOhQu2E+oaLh4GIh8o7CuNIy4lkzB2N1swXCkMKnIrvSryHdEOLhDiIDcgGgbK71nw3/mT8QXe1dqa3ZPYwc1LyVjJG8XYwE6/DMwkzr3FQsJ7xlfUQNhf1EjWauPW7nLpeuWd8kgCfgAE/RIK0RDgDpwN2BXmIKQcrBWuGuMkUyQMG1kaBRzoF9UYnRh3FVcP4QiaBhcHmwgP/4T3FvpL91D0n++m77Dx0u+a8CnpMu5M9GTyF/Z+9+D7Ef0YAUgF1QtREgEQvxRPG+sjhSpBKm0soi54Lukw7TnbOVY0QzCeLDgzeSwVGRwNixLZIu4cOgJX6EDoxPYF64XXGdHV0xjSwMRIwra+6r39uN+4OcZ9x3DE1Lo+xdjSCtZW1ZrWZ+g+8JrtTOqM+GAI1QRtBf0ObxgHGLYTBh3hJIwg0xoBI6YtGyUKHDca3B1EHFAV2RZhFkUOCQNa/6EEqQNE+4nyE++i7wXx1+7C50rq/+m76Bzs7uyf837yuu7H9jAExAMg/okH4hDyFdkVVBkpJSkqjyy+MlU0Ky5DMQk89j8XPMI2XDawMREvdy2pHsMLPwxUIe0gLQGb4i7hvfAd5gzTBM8UzlTG77yNvqS6xrZWsEayRsC2wvbDcb3PvAPKHNok3FXWxOOB9N3z9OvF+xwP4gscBg0SDSThICUXPh81KlUkiSDYK60uRSOPHecdQR7sHNoXkhTsEEIIUAPGAY38o/sd+IDwm+qF6eLqKehN5i/mDer25pjjB+wB9AT0SvCX9vsCTAQ6A0MKqBN/Fo8WEh9yJ2UsKjBtND8yiC8fNO87jELxOy458Tr0NEUsHCvkKC8UvwS9DsYiNRUG7nfXrd+W6hHaD81Myo/JRb3us6W4XLlCteyq3bCdwKzJesURu5O/LNOQ4a7dMeBh9GH8X/Dt8BcNVR2KD08KvhyvLvwk3RvMJdosDCX3ImcxRi6pIDkZEhoqHScZBRLpC9QIjwMd/3T5TfTW8mbtoOe56OnsueeG3sne4eek6wvmeOmx8Uvxz/Ea+cMAlwWvAwsGKxPyGkQZdxlqIIIoWC0qMJI0jzMYL8sv6jYpPro8jjXZNC44FjGUJR0gXhgWB9D/6wtIGCcLJeVjydbQS99s2r7O9cQbwfe2bbA8tLS7zbzEsI6xOMF30wvS5cP8xEHW5ej17eD0Zv5V+0vv6vYMGW4pwx3rEGYWICm4LGIkbCQRKNghwh8SK4kugCM4EuYIugw8E8ATzQ1pAa/2BfQJ8RnxrfPB8D/nBuGi5rnv7+694Ujgw+099Ur0ePTp+2n8C/jd/R0NTxZBEaQMwxEjHT0jsiVYJuskXSj5LsIwaC3bLBUsvSoYMFU4NzjQLtMjFB0YHkccAg0j/CL3WANNC6b+b+TSzprUctiPz2rMwc1czC+8hq2Bsx/Jg81Ku4W3csVV1RnaGdb62ZTkx+cy45btsgaWEMUCU/lMCeAaIRy1GPUciCQjIlwcQh1YJLMjEhuKGeQd4iD3Gx4QgQQ5A94HmQhvBbsAp/zy84fqC+s68jP0bvJI8uvvJuwx63XvKPWd+Zz7sf4xAHb9EQH/BvwKcAtDDggTRBVNFgIUyhRRFiEaMx38GyEbKBjxF/EXKhQTFbkY5BqaGX0aTxtyGFEVSA4iCRMAvPZ49WD9yAnzDiUGz/Ll5F7dxdvK3/znl+6C6pDch9F40qjVkdc92obbBt9w5ZfnkOUb48/i8OO75hTt5fbx/b7/HQEJASoBm/+HADoHpQ2dEKcRcRI5C1QDZgVvCg4OuBCGEZcPFAxDCd8IogoUC8wIOAmHDKMPnxKfEegPCg/zDSAPkA6FDRwOBQ5YDY8KZQZjA67/cPwj+2b7mPmK9vfz/+8L7u7s2Ozz6u3ol+vm7wTvs+tk73XyvPIi9Zr5AgAjAvf+KgCbB0gPIRJcEn8TmhgwHbAatRnOGj0aHxZfEx8bNCO3HpEVWA8mDgQPkQf+ADwAuf9t/QP7vPoV+vv2Ju986p3rmuzl6gzpbOm06urqVujQ53PqJ+oS56vnEezc7lDs3Ok27cfyKfOV8p/0IPUe9x76rf+6AyoFvgbrBvsHugkZDGQOthGvE4cS4Q8tDosO0A4FDzsNJgxiCxQFVv8k/nH/p/9i/Kv6G/qL+Ej1rvJx8wv1JfXH8kjye/SQ96j4qfcr+h39Qf1b/a/+NwJZBrwGnAa6CSALgAr7C7AOgxHiE6YUIxa6GDcZPhhnGCUaQhrXF1wU4hFbEU4RlhLsEVIObAnhBUUD6f5D+4D5HvmW92/1FPRI89Dx9e+17nbueu7O7Rzsj+vI7hDyAPIK8KfvJe/f7vPv9/Jx9Tb08PJI9Nz2QPjs+EH55vv8/p39+vpj+2D+9QASABMArAFkALj98/x5/sn+fv8d/t37nvym/av+Rf6E/X38gPs5+ab3sfqe/RT/V/6O/b/+W/5H/Tv+BQGbA8cFEAbwBW8GKQYkCL0KbwuXCo0JXgmrCsQMZwxaC44KMQpcC/MKUAhuBsYFVgVZBrII7QhrB+sGiAdCCZwJZwhkCEEJNAsEDhIPeQ6PDe8MBg0UDtMP2hArEHAO4AyyCrsHEwR3AloCBgKCAdv+qfy7+iz4cfUF9N30dPMD8CvvD/Bi70ztvezY7PPqk+ng50LmYOYG5uXlneYO6e7qZuld5+Hmx+dQ6aLrQvDJ9MT0c/MN9cv30vm2+e76s/7rAQAEEQXvBoIHyQcsCTcKywqzCe8JyAvEDaMOYQ3uC/oKcQo3Cf4I4gkRCiQJVgcFB2UFogIRAo0DVgXCBPUC8v+Q/rz/cP/H//4AdAKCA+UBgwBHAWkCtQP9BccIIwvUC/sLRg3VDjEQehCDEHASpBXGF8EX0xdfGGcXBhZRFYEVUxa9FZAT4hDXDpAMMgqtCPQFQQOC/zr6R/Ym9JvzmPIg8HjteOyy66DpMOZK40zjF+QG5THmoed86FHnseZj5qzm3+fa59/owupl7a3v4O7c7lzw3PAo8fbxE/Qa90T5/vkG+4n8uvy5/NX8g/0b/4j/ZABXAnADcwQTBQIE5AIcA5wD7gMWBLcFmAfPB1IH6QYQCDcJxwnFCWwJQwokC/8Low3FDgwP6Q6nDp4PaBBcD3UO6A56EDoR6A9MDgAN/QsdC5cLpAypC/UISgazBXQF0AOpArsC5QIAAnwAav98/mb+UP/s/0gB9QLfAnkBCgHFAhYEgQQvBkcIKAjgBYAEGwV5BlUGcwWfBYMFewP5/7r9ovzA++367vl9+aD4mfbO9B300vKU8Cjvo+6/7rzucO4I7h3sNupz6sLqZOpP6vrprOmI6dHp2epT7LLtwO3k7Srvl/Dq8dLyqvQ2+AX7dPvY+9j9MQATAnoDVAUcB48H8AdoCZQLhA08DqcOww9KEIUPAQ98D6kQXhK4Eu4RHhGyD8UNJgxVC+EKXAsoDKkL9gmKB3sFXgSvA9cDkwQzBCoDawLXAVgCzQInAssBOQJMAjwBzgCwAQ0DTwP0AmEDUgMVA/YCRwMeBCgFKQYvBioGcgaIBrsG4AaDB7UHrQbQBt4HPwiKCMMHwwUGBbkElQO5AtUBKwGEAKf+7fzx+276hfib9kr1UfQR8uLueO0z7m7unu1y7IfrvOrF6f7pJOuc65Hr6usP7Unuvu6v7j3vCPHe8iz0bvRh9J31I/f09zz5Afug+077dPuN/Ov9Nv+GAP0BMgNKA40DegULB7QH6QgVCucKzwtFDKQMSg76D68QjBD5D+cPyQ83D60PphAsEPkO4A2UDcINLQxBCjUKEwreCB4IJgjpB9sGgQX5BBkFDQRXAtIB9wEKAogBhwAkAIP/gP5p/nz+U/4g/gH9S/xr/Ur+qf1G/Vj+S/82/t78n/1o/6T/fv4D/6AAHQBw/qr+vv/z/9z/pP/5/6MAEQAC/6D+Q/99ADYAqv7U/e/9tv2F/Jr7Nfx0/Dv6PvgQ+B33CfXC8+PzVvQm9HbzRvOo8/HztvQH9fb0JPbE9z34CvgF+Sz7p/zM/Jz9b/+3/x7/qv9xACMBhAG0AXcCAwPbAhADtgPkAxcEhwTiBAgFiQWWBiQHVAZ6BcsFGAYsBmcGRgZKBqAGQwbFBdAF9wWtBaoEKgTxBHUFdQQ5A64DewUNBnQEvQPtBIsFewTDA7YETwVQBEgDBwQGBW0EygL1AXECNgKPAPf+qP4s/97+X/1h/HT8+vtc+pf5NPpu+lz5IPjS95334PYy9mb24fbO9ob2kvZZ9xX4QPiY+IP51/ok/CH9EP5j/7MAqQHLAk8ElgV+BpkH7AgKCpMKTgrvCXgKQguRC44LSQuwCg8KWwlCCH0HIwcwBsAEYQMKAoQA0f6V/RH92fwp/Mj6ZPnR+D/4JfeR9pP25PYz99L2bPbI9vr2xvbZ9o73vvhs+T/5gfmk+uj7ePz//LX+bQCtAG4AMQF1ArQDVgR7BBYF0wX6BdQFEQaVBlgGPQWfBMMEuQT2A9ACSAKNAtcB4v+3/oL+G/5f/dX8yfyE/Kr7Hfs++1b7afvH+wD8I/w8/Ff8lvzX/F79EP5k/p/+0f7L/s/+M/+u//L/NgCAAK0ARwC+/xEAywCvAE0A7QDSAasB9ADNAAQBCwHtAGQBfALeAhwChgHeAWcCyQI9A9QDgQT/BBsF4QTpBFoFAwbtBicIFgneCHQIowh2CY0K9goXC50LoguQCgEKBwpSCVcI4gfbByQHdAXGA7QCkQH3/1r+8vz1+9H6LfnD9/L2TvZl9Rj0HPP28kjyqfAF8KvwN/H38KPwHPHf8eTxfvE68s3z3vRU9dT13PYt+Cn5qvm3+pD88v1v/gj/WQBwAdMBKgJTAwoFKwYrBuAFPQahBncGNgamBjAHNAezBhAGpAVBBXQEvQPKA7MDJQNiAtQBZQH6AGIA2P+x/7n/jv/q/nr+Tf5G/ln+ff5+/nv+of7R/g7/Kf9A/77/XQCrAA4BrAEYAjUCXQLyAqYDwAN5A5EDPQS1BMEE4AREBW4FCQXDBN0EDwUaBcgEiQSqBF4EpgNOA38DuwN2A9oCpwKvAlgC8QEiAocCLwJXAVAB5AH5AZMBWwGBAUQBwgA6AD4AYwDL/w//7f4N/3L+Zf2f/HL8hfz0+wT7evop+oH5mvhZ+Kf4jPio9+T2I/eD9yH3fvZk9sD2zPbP9lr3AfhT+Gr4ovj1+Jr5aPoV++D7zvzI/Yr+1f4+/00AcgE4AgkD9ANkBNIEaAXyBYEG8wZSB1YHHgctB4MHUAfBBsEG6waIBpYFzQSEBC4EggP5ApUCygEeAZEAJgAqAN//Mf+V/mr+Xf4o/rT9d/2y/f39Ov5j/qz+x/6t/pX+xP4m/6r/MQDAAGMBagFNAXwBEgKdAswCUAMABF0EUQQuBPIDrQOgAwEExwQnBZkEywM6A+IC3ALTAosCRgJPAtwBNgHyAL4ATgC6/6X/3v/u/43/+v6f/o7+d/5X/nX+6v7Q/kr+4/2S/aj9qv1w/ar9Mv4f/o/9Mf3o/K380vyx/B/9h/2A/Tn9Bf1E/UL91vwc/FP8R/xi+6362fpw+6n79/oP+sz4sPaA9Rr2YveV90n3TvbT9gf5G/q1+hf74Pvm/MX9Uf7B/x0CFgO5A04GKglTCpkJgQjACRIKJwr3CZALhg2IDFULLwoeC3MJZwc3BpcGpgejBhoFowQGBYoDswF9AAoBEwDg/j/98f2P/sL9Qv2s/NH9tfyx+2T6J/uU+wr7x/qA+x/9Y/0D/XD9Jv90/iz+5P27/7kAOwEIAoMC3AMVA7AD7QNmBLQDAwNcAxgE8wSlBDMETAR1BBcD+wECAQgB8v9D/9L+pP6j/hH9Ffzv+tj6ofmu+Ov4W/kN+Qr4OvjA+AD5qPhz+Lv4K/md+OP4VvnX+aD6y/r7+kb71fw7/dL8df2x/kX/Bv/j/9sA9wAEAWMCCwRvBKAEAAVBBRAFQgXwBREGEQaMBgkHfgYNBokGEQYiBe8EGgWVBXMFzQXcBTEFUAVqBQcG+AUAB3oHtgbkBqQG4wfLCFkKpgxuDb4MqgtiC8kKkQr0ChYLeAypDWUMjQuICWwHQgR1AV8An//9/7D9jfsh+SP46PZD8dbpcePf3ojbqts64HvkreTq5C3obewS637pSelx6W/qGe2D9dD91wMXBr8H/Ah0CekIRgWzAW4A9f+zAMcCGgRHA03/l/yl+cL39vR98kby0PGv84/2yvn/+4/8VPxN/er9Uv70/ogA0wIWBr0JaAxTDt0LWQnMB9cENwJsAWUCtwMzBPAFOQknCowIUAdBB20GUwb+BqkJDw3yDmMSURY5GNIYORmOGVUaKxumHFgedB89H9Ae6B90H1kenBy6Gx0evB33Gc8VtRNAEQIKGALn+XruIt2LzwPSeNZb1G3QtdFM2mjZKNNg03/VNdLmySrN6Nxo64/yuvcJA1oMJg46DbMMzg5BCTIATQDCBYYKPAfiAzUHQgjnAXD4DvV+9OPsd+ba59zsIu6U6+HvbPeU+s754PrB/+oAc/6m/38EDgrjCkcL8g1RD4URXQ+IDToNOQooBvIAdQDLAEn80Pgb9yD4rfWc8V30Rvbm9gX2dfij/S7/3wKbBtIJ0QwiDvMR/RNYFfAVTBTPFjwX3xZ/FusVCRhEFi0U4ROBEy4TVBDYD6IQwQ8GEMQP1BIQFU0VzxfoGl4fnR9CHSIevB25GBMPMQN59eXiEtY703jT5c/Xy5PPTtXP177TAc9yyjvCWrxNvyTL4dhc47bu4f1lDesXUhyrHgAdShcFEDYQ9BPdFMYT8xKUF5wZNBbmEGoKtgCR9D7rFudB4jHewN4M5Izp++xw8VLz0vKM8ALxxfKu8krzFvcH/cMDUQvOEasTlhHDEkITahAdDJYIsQVeAo4BJQQUBS8Civ+Z/kX9qfmk+GP4PPZa9Jz2M/zC/0YDIgcpCXwLrQ5CEUMTNBM6FNQUbRU5GBsaYRoCGlMbgBsXGrgY8xYIFd4SmhHRD9MLmg3FEUISmxOvFpUcjR4tHLgbKBsvFk4OAQVH+b3szt991gHVVtSY0JjOuc8E1qrVns5Oy2LHwcI2wHTGn9Kc2zzkIfIiATAL/BF5F+4XNxZJE8QQyhFrENIQmRATEYYVMBehFb0QuQm6AiD74/NQ7l/pcuap5bLowOyC8WD0QfMF8znz+vOG8kbxSvNK9kb5U/+CBikMzQ5JD7YR6BIlEbwNRwwFCwgKhArzC4IM4QpLCegIMghJBE0A8fx3+pf4qvka/ff+6P4NAPYCJwTHBJQFEgfqBu0GdQi5C3oO/w7nEDoT5BS5FcgUzBJgEaQPWg9tD48QPxKxEkkU3hZPGmkbaxqWGfMZnhvjGgsY1RbLEiwLxgGI+EzwPeRk3ZvaNta60lDRfdUP1YDORsxUy8PHrcNAxtLNntDj1X/f8unC8u34kwFUBRYFzwUsBigIqQgRCsYMYQ28Ei4YNhlQGUIYIhc8Eo8NOAvJBX//Lvvr+ij8pfuH/OX8Kvzy+un4MfdX8zLxWfDx7u7wNvVI+pH9pwGUCBsLdQrOCdIJCAm7BT0GtAm3C/ILbg0NEX8QQw1xDLwKhQYUAkIBegEo/0n/hgEMAzUCTwKnBXgFCAMvAzcDWwC9/NQBNwqYCREJYwsLDJkK5wolEMYPHwofCFQMKRLSEPkPBBJnEJUPPBChE3AVShFmDPYIYgrXCyIKkQjMBRoDqv4f+XHzH+r15GTiwdzi28zdGuGc4oXffeLn41HdMdpo2IzXBtba05nZXN6H4Srq+PIg+dv94QFyA7sDiARVBdUFFgU0CU0OZhBbFn0aTByrHEQabxlcFUEOEAr9BRADOAJVAkoD2QO+BMYFfgZbBVkEQgFn/En70Ppt+hv7yPuI/8gCZQReB2oHQwdBBHH/cP6Y/Pj6sfoz+3b94v4rAVwEQwShA20C0wFMAG7+1/7A/6gAUQE/BQsI0gcgCPkIlQcDBfUCJALUAJX+d//XAHsCTQMqBBwF2QRPBLoF6gUdA+wB5wJKBIIEeAePCuwMkQy+DJ4Pxw4dDfwLsQstDAUMTQ3WD2cOQQsBBuL/qfrx+OD1ie4Q7fPrB+3d6+jpZ+vH5b/fP9323AXdsdmp2NfaSdxD4gbqx/CM9fH48P0BAUUEMgWWA4b/XP5kA98FgQhPDXgSrBVjF+kbsB+9Gv0SJg9kDNcIZwUBBfsDlAPOBfoKog0HDCkKFAVHAED9XvoB9SHw0+998qPzFPec/ND8+fo4++H+vfyb97j3YPia9TD2cfycAJ//HwDmBp8IIQcyCBYKdwaEAQkDQAV5AycBOgQeBWECdgLhBaAE6gA8/w8AWgB9/Rz+vf9+/w7/4AGQA9sDTgXDB20Jjgj2B28KTgr5CDQLugvADXALSQ4dFWcUXRSCFqwYORcpEkwRkg9PA/v8tPxY+gL0lvDw84jzc+5C7eXwfevk4vjf++AY3tzZ99mI3LjbId025Y3p5e0I8jf3u/lw/XMCFAOmAAgAVQVaB5AIRQxZES8TBBTmF7Ic5Ro7FmAUCRE9DnQKpAfXAx4BCAE3AssDdAWJBhUFNQOcAoICef5d+ZP0CvQy9KDypfV79zT4yfnK+ir+pvyr93T2KvSL9Dvzp/JZ9oX2cviY/NIAXwIOARgCHwJoASgBGAD4/xH+H/+jAcYB2wLQAgQE0QLbAEsD4wHI/jj+2P9QAgsBOQN1BmAGmQbyB1wLcQqACfILow14EMMQHBTVGKQV0hnkHnweuR+/HrYipR+KGVEauhIjC8gCgv6p/5j1N/L08mrxd+4y6ZPsEeag3Jvb+tlM2R7UPNQQ2DnW0Noz4f3msOuN7Vz26/p3/okCFAOvA28BUgbJB4wGrAotDbYP0RA7Fe8aFRclE2gTxRHtDp8IkAe6BYAAbQDVAX8EsQMLAzIEDQQJBe8DMv+x+ob3F/fR8tXvt/Qa8w3xV/JI9/n67/Nn89f2evSO8hDyofbK9VfxpfeP+1r9Uf75AMEFuQP+BqMIBgiCBYcCLwVGAd8AegN6Aq4BDAJjBtsGGQLLAl0DegDr/mD/dgL8AOoAmQX2CvYMpQyBEA4T+hKyE+oVphZlFHUWUhpuGmkenCCnIYkj8CKbIgsfgRj4DlgHfwE1+z316vAD7nTrxOti6nnohugs4t/bvNve2aDWTdGO0TXTENNd2EXdZuRI6evsb/Rt+zkA3f8cAHMBcAEvAwIDAATyBp8INAubD6sVGxfuEwoUqRQZE6gPjwsECnoH6ASLBIMG4AfJBdIEnAVSB6YGgQLK/9b9iPuH+HX2ivfF9c/y6vMK9pT3+PYm9hH40Pcd+Cr6Hfk9+SD5Y/qm+3X7LP/6/+v/nwFpBOEGYgTVA7gE/QPfAQ8AuwCa/mL84Pz5/ez+T/5+/lX/EQDMALsA1gAQAUcCWwNCBXsI5wmxC4wO0hBUFPAVHBfZGIAYthsrHOsb4B20HW4f2x1IH5EhFBxiGFsUQBDYCBn/Hf3u9vzuJ+r86CvquuMM4QrjTOCe26jZvtrV2JbTitPl1pTXlNm53P7hX+d16v/wq/YN+5H+kgAGA2UExweJBxYHzQmGCwgN5wz6EDwUzhIvE9YUwRYhFX8SXBJQEMcN4QqRCQgILgV7A+kAOQGYAU4Anf5e/Vb+av1m+vb56fiK9Q3zdvLg86jyZvJk9CP2kPer+Uv8Zft++xj9Ev3N/Bn9mP4z/pr8IwCiAqgC6QJAA48FIQSUAr4CSgG7/nT89/w6/gn+Bf6X/1IBOQLeAnwD6gKeA0sDqgLPBOYFWAehB9IJzA16DrUQUxKtFHsX5hXeF54aOBqDGa0Z8hytGjwZ8hnCFQcUkA11CFcESv61+sjyKPEr7yrr3Oif5KjlMeJ43Gfcm91P3ADX19hp3SjbPtto3sDj2+WQ5+juU/St+d/8sACeBRsILgueC74M3Q/kEF0QqxBvFD4WwBKbE8MW+hYjFBYS4RP1EGEMbgmWB3wFPAAV/Ub8nfuW+iX5pvkb+r/6ofov+bX6SPrI96r11/Vd96704POD9n34rPmt+vH9TAHHAGwAWwKbAmYB1//S/1AAo/5p/5IAUwA1AacBpQFVAID//P6D/L350fhx+Mn2//Wl9/T50Pm8+r/9EAA3Ad8ARAMHBa0EMAaDB6oK7QvXDJcRihOtFjMZjBnPHJcd0R0WH6IeKx+3HrgdpxyZGQ8YXBO1C+MHKQQM/ar0yfDa7mTpJ+N94ZLj6N0z2ALbbdwW2pXVkdhp3FrZLdsO34fkgufi6ZryQ/i3/gwD3AWzCpsN2xAWDlgPWxP2EMgPGhDGFCcUUA8dElwUpRM4Dy8OIhAJCy0HQwVeAwkAffu0+aP3Wfc09/v0E/V198D5mvhb+C38ufzD+cX4Nfy0/MD47vjk/F3+//wZ/2AC2QIDAt8CRQRoAp4B0ACj/rn+pf5d/nr8Fvy4/gr9x/v7+5b8JftU98v4h/lB+K726/ek+ln6vPvX/Kr+OwBpABoCoAOlBXoGcgZqCQgMFw5HD6oR9hW7F/wZzhswHtUe6h06H3sfUR8jH+oekB0AHKkatxb0D4gJUwWa/iH1le+S7BjopuFt3nfh0N5A2RDandxf3NfXF9jC22za1Nkh3BrhguUm6JHudvXa/LkCnQUGCrMNlRFQENQO/RKVEtYP5A3kEE8TyA3SDFcPrA9zDAEJtwqiCDEEAAFT/4/+zPpU+Gb2kfal9+D1bvWo9sz5KfoU+e78KgD7/0f+dgBqBOYC3wDhAT8EKQQsAmIDrwVOBTQEJwQjBnUHRAQjA0cDoALPAG78u/xd+yn4IveI9fn21/QV8/Hz+/KN9DrzLfNv9AT1U/dO9rP4XPts/LP9K/+oBNoFCAfWCoEOZhGvEUEW6BieGa8b6hzvH5UejB/zId0gGiKRIVsjMiL8HgcfTxpZFssP7Qd3AsX6W/T667HnYuVa3yHcwtpl3YbactYd2hbcqdt/15vav99+3NHdrOHi6DnsA+389V78xAKHBXsI9g5/EOQRyg99EbET+Q+IDaUMZBBYDnwJwApWDJcMGgcPBnEIJgWVAbz9+/4f/qD4ffZ+9Xf3VvWd8kf19vdd+rf5IvzZAXADkAKIAmIGpQdeBM8DqQWyBi0EpgPmBR4GlwV/BAMGtQUmBBoEwADp/oT9eftW+Ez0/vUm9TvxZPFO87P0VvFw8QX2EfbX9Ib1cPmz+oX5HfzT/osAJgG0Az0Hbgh8C6QNQw+vEYsTNRaYFs0XTBrQGngbdRuEHE4dHxwPHFQdJB7IHHscDxzHGfEWLhJ0DS4G8f5S+vrxv+qe5o/jUuA92iXbf9622YDXVNpq3RHbotYI3EHfw9xs3f/hlOlx68PuPvcD/rkE4Qd3DEsRghQGFi8SBxQRFvISaw77DHwRAw5pCCgJzwukCi0ExgS1Bh8E3f8H/aT+qfsz+Af2C/X19jz1cPWw9j76h/4u/eP/dgTnBhEGqQToCE4JQgYqBQwG+QZ0A7MCnAQUBLgCWgKyA2gC4ACbAI7+6Pse+kP5bPZm82vziPMM8sbwkPIm9O3yUvO39Rb3e/ZG91D5BPpP+oT7mf3Y/pIAUQPCBdAHiQq6DY0PHBFkEx4W9xbDFzcaBxvaG+gbCR1NHgEdUx6/Hq0e0h7JHTkd9xjWFdwRGApnAiX86fcZ7gzn6OXq4gneVNmr3RveH9hp2bfcGt9s2szZ/eBJ4KnfluHf517tRu539b77igJvCMEKgA+PEiYWRBSfEaAUnRMxEE4L/QzBDosIbAYvB14J7AXnAboEkwPOAYj+Tf0Q/pb6Nvmu9v32Z/i19pX3uPjA/In+OP7OAYoEPgYABcQFOgh8Bl4FDAV7BQUEtwIiBFUDcwKJAigERQOLAOUBGAHg/cz5u/jk+O3yR/Al8QrxUe/W7VfxQPJh8cbyt/QF9jf1J/cN+Ub5Yvqn/J//qv+MAjMH1ghQCgcNzxEOE80SFhYSGaUZVxmjG98dTB3OHGEenB/UHpMfiSAKIPof/R7wG/IX5hMpDtEEF/3Y+bDx9Of25O/jguA82Yvat98S2vTWu9pZ35HcgtfJ3aPhT9+o3+zkEOyq7czxLvmY/9MF5AhcDKcPjRO8FA8RcBFHE5MRJwxmCuUNRwuRBtgFiAiFCKADwQNqBLkCFADX/Pn8tfpg+Nj25/R/9vL2dfdf+Bv7vf+iAJUCqAUNCL8IsQcpCRIJDwigB94GJAeMBvwGhgajBXkG/QXUBI0CHAIrAZn8dPo8+G/1OfIf70Xv9+yI66nsrewm7Y7th+9r8DTwOPIq9Dv1C/bv+Ln7L/01AJ8DAwcBCZQLSA/qEA4TPRUWF8UYWxnaG5Yd5R3+HiEfEiAaIIMfmiAwIMMfTR9vHr4cwBhZFT4Q6wg7AS38F/cT7X7nseX/4qjdU9n/3XTdAth02DLcGd/W2ezYHd9/4ATgH+Ft6MPu+vB99rL9ngXiCbILpg8aEyAVQhMfETsSRBHlDfEKLAuDC3cIQQbTBrAHPgW/AiQCdQAo/vT6MPn+96j1ufTx87L0Ifbl9vv4bvvx/t8B3AOTBuIINgpWCqIK3wppCpYJ+Ag+CUwJRAnFCBMIXgj5B58FDgOiAR4Adfxx+PL2rvSR8M3tCu207EnqBOmj6t/qDOuf7B/uMO9f8Cnz3vUf9wL6a/2A/78BCQViCeIKDwyaDz4SLRQPFW4XKRosGp8bJR6gH9IfJh8NIP4gLyCCIIogXh95H1Qe5xyTGfUURxGpCOz/EPvd9XvsAuNr4cLgK9sS1svYrNty1h3Uptiq3AXZ2dX72jXfgt+/4Innwu6b8kX4iwCTCCsNWRB2E04W8xeGFqYUChPREWcPMw27DHMLhQkpByYHywbxA6wBkP9S/af6rPg89z31IvNw8pbzh/Tj9ST4jPpD/dMA+gSzB30JEQuvDMQNyQ1xDfYM0gzbC54LXAyPDL0LbgndCJcJBAd8ArT/nf1t+sj1ZfPP8kDuxerL6knr6el356fpjekK6MjqwO3K7mPta/Bg9R/3uPj//AACYAKZBCgKzA1qDtwOqxKPFIwVyBd8GtQbehubHoMghCCvIAQgpiCUIG4gOyD7HqIe4hx4GUUW4BE9DNUCF/k69prwauY74FXePt4U2XnW79o020jX2dUm217eN9tC22XfvuMb5ejoYvHa9nH6iwBxCS8PkBHJFLoWZRcwFuAUdRRNESoNaQuxCxoKnwdmBlsEswJ9ALb+1vzp+Br2QvRR88jy4vGL8WjxA/Px9ez4jvyX/4ECrwUrCZ4MUg7EDcwNtA8rD80NFw98D7wNMA1eDu4OMQ0QC9EJ+gcoBKb/Yvy79rTwwu9D7bXpI+l46Zjph+ZW6HDq7ObR4xHkU+vJ7IHu4PQK9of73/+7AzMIEApeDXoQkROQE6AYTRkUFTMXzRb6GNUZGRyqHx4exx/7H+shGyHxHEMdGRyUHNwY8RN8EO4IKf/E8YrlU9sD1ZHOwcfxyE3PfdUl2MjiEvCs80j2E/vUBf4GxwCJA38I4QrSBq4NChjjFTwUhxTuFTkPHgLg9zfu5OK/1krT3tKF07LVRN3A7Uj4YgE7CsAQZhTyE5EURxOkDzwKaQmvDLQO/RAkE0wWRBUdE/URIgqgAIn3F+695yXkROI+5M7ps/H6/LMIxxInG/geUSGZIgkeuBd7EA4ITAGO/SP7FfYy7iTq9u167evmy+R/4zLhFd/e4vTnReWl597ucvhm/+IDPgr4CUkJpgnPCwwK4wPLAmgDjwWfCCMQ2xVmFgMZ2x21IwwkFyScIq8d2hxwHMofSB5hG1Ef2B9cIXEaGxG3BL3sVtgqvlOuQK3OqjGv47pV1xP3zwjcGlUrcC+YKE0hTyEtF6QE2vwYAYkG0QTTCmESjBC9Bpr7u/Q24ujISbUnrQ2tnK6evMXV5fCuB8ogGzylR/tFoj3OM50lNRGHAyv66vJ474/zHf05AqEEbATeAMT4zO2+4jTZf9QW1NrbZOvR/skSSSUJNttAaUPJP741liTJEU8BT/VL7GDm2eW46CruGfXg+GP1LO8F7Gbp4+VA5hXocetK8pf8rgcGC9oMeAtQCBYE0PtD9x/wCuwP6kftC/Tx9vL+JQNxCDMNuRGdFokUeRVbFkUaUR6nIJMlBCdnKBko5CggK/4mUCCLHSgbBxPlB3r5Ke133BrD7bJKtGK/r8Cox03fG/t6DEwTTSSUJ48bng31CeAOOQBu9pj65QWVCR8IwxJhFGsHcfI36APgC8wfusGy4Ly1xj7USvAfDNcfxCsLOihBnzjBJwgXDQml+NvuGOzr7UvxYvatALIHhQgRAzv8aPKM587fJ9xT31Lli/JzBWgZuCiHMTg32TTtKk4cTA78/tDvwej25gvr7vG1+fsAngXECr0IgAFp+/n1R/OU75LxrvfV+Ur+qwIoBb0B2/mu9dvwoeoX5sDn5uuo75j2r/51BrII7gngC80KkgqbCS8L0g2/DiQTHBfMGhweph/zIZwf0h7lIBEiiiK8Icgl5CVVIYkZjQ7o/v3mqM5ztXmuPrXXub/DGtSw89YKEhReICsjCRoFBo/85QCM/Gb1DflCC5MVfxiwH3AhShQ+90XiL9MVwZGusKW1sYnEitoM+C0aXDAnOHw93z+sNSMeuQl//NryZ+wf8ML6pAKVB68LOw+dCND60+tm3NPQUcsaz4XaqOrH/tAV1yvlOIk8dDkLL4Ie4AsL/mHz+Otn667xqPveBAoMjQzCCIIDVfnN737p2OIJ6LTtmfPx/5wDrwyRChgI8wUw9ybzi+zb6/3pQuzq88r5oQLpAtYIrQj0Bg8EpQDIA80AnwRpCZoMyhLJF1wc7h/LIV8gqiCtIpYkPSS8ItsmUintJwUkcxrdDGL6S+F4yKaviqA9rXW4R8TG2IT1rRiwH8knKSvHHq8LB/jD/Bn9bPoJ/HMLpRo8GTobQBWABwXorMpGvkOyMarvp/+689e58DkOaixlPj89ETgfNIknPBKg/zb3dPPW86T7Vga3CtIJiAY1ATr3n+i/3AnTudBg10zlRPi8CdwajCnvM+o1SS+JI9ESoAGR9CjwH+/b7gX0Gv27BZwKVQx7Bzr7QPBA7DXqGutS7qn4EgYHCgYSLBNiDhgD4PWS8yDpsuam52jsAvPQ9jn/vQE0Bo4BXQBAAef+TP+T/soEGAfeC3gRjRMrFxUZhRqNHBsd7hnuGB8dsSDuIXomEispKvEnEiLSFdgDOu1z1za9JqXHnRyyc8uo1lnsJQ18KjosqCpRLKQYSP9J6x71Of5x+hAA9BCRIAEX1Q9hC/r3GdObtte0CLOGsYe5xNQH9TsJ0CHrOZdA9DMeJwcjWxe5BHv4ifdT9wH5mgHRCPkHMf6k9dDuVefX3qfa6Nt14AfsWf2wD4MaoyH/JbEmoiGyGFIR6gZb/KD2L/mc/Hj8sv16AFj/g/lk+Mn2CPF97+3yC/rC/o8BWQbOBwUIpwJV/Fb51vO38svz3/bY+Mf4qfpr++H74fog+r75yfps/bIBggebCikMSw0KDm4OuA+hD2ANmQ2hEDAUtRXUGFsgXyX4JaMpEC/dLAwozyIwG+oOW/lB6bbYdL86p7Wjjr/b0gHcVPHMEf0mTSF+I3EiNBBl9Ynog/tOA8kB2Qg3GgYfIQ5eCM4BdOsJx360+7gJvFrB/M3N6doAEg7JIf8xSzDXIMEWtRNjDHwCXf+v//L9ogDlBjcJAgMW+Prvtui/4/7kGOk561rw5/0KDeAW+RrxHegcfxeCEj4PQQx/AwP8KPs6/V/9bfv4+6P5B/O48fT3QfeB8MzvU/Yv//YA8wLCCRAJbgTAAT0BwP8s977zrfQC9Y73R/lH+oT5+vd597D8DQFtAqoEIgcvC9sN5xADEvgNXAr9CXkL5A2ED/oRVBSyFvscbSRfJpcidyAyIJ8dKBzcHOoXWgo4+HTpMtnnu82jHKu6weLRuePG/vEexiXnIaolMhonB47tHeza+07/KgaMEoYeERWqCFIEzPi53nPA7LmWvWLEINEk5Fz7UwVrD4kekiMXHA0RRg3CCOMHHgq0CmIIOASzBRsDY/5b+EPvvOfT5FnqlvMl+pb99QFBCI8N1xEsE9EQNA+sDcIOqRGmEB4LfwNA/UD5uvaY9Gfxbex06s7vPvVO9vj2Zfi2AE8ELwLvB3YHTQO5/2UA/wLu/pT8ZPrh+TD4R/Yb9nD3y/bB9NP8NgROB64Mzg8kEcISqBEWEJANMQvMCAAI+go2DcQSBBneGkMbRR3dHsIc3R7HIx4ikyLGH1sZNAZu4dHOvs0ywkWkLKtU4uADogPqBUEjjSTLAYb4tgKZA1jlBeZcETcfVBMODlUd4w3X6FXhNukV463IBMie2yvnAO0S8xn/B/65+WEDVg11EBIOsgy/CyAMPBAADJP9o/Ir88/y1e+B9in+9f1b+w4AggoHC80C7v2m/LT+egG7BwUQXxK7EncSVxM4EKoGF/vQ8vfvXPAV9vP6b/wp/KL8X/xQ+835X/Yr9ub8HgMMBQ4JagZl/bL19PEe8GLvdPI+9Tn6bwKMCJAJQQYP/4/8xgDKBKcJJRF2FPER4RGNEqkO5QayAdf8l/twB1QT6xlqI6klIR+YG7oWDQoC/Yz5zvnI/p8WwDTYPSM4CzKRIj/7ZbYBgDGLXK59x3zpyAyaLrs4WjepJMvtqb8snTutHuabFkE29UjIUYA6WSHfAlLZaLcjn2iko8nw/kIc0xJSCnn+ke418sP9wPli4CfbSflzIk4vXCCUEq8BNO/w6Sv9FQ1F/RXu//iXCsMXoxUDCSfyd97433ju/gcFFRIQvQsuFAIYkhLKCwz5ouck4wjtC/w5BXsH+wCXAU0Gqftg8u7xNe5Y6p3zjAQ9DpsPvwtSBvD/G/tp99f05PLL8KX2GgQoCycLkgyxCnIH1QeyCToL7gdgBBsE5AWqB9QGogjiCi0JhAgXDKwRlBVHFQoVcRZbGWYbBh3+H6YdYRweG9EWcAzJ+FDqYfPiDOQKw+/W3VrlsuZx4mr2fPmg69nekvomGUwJFPct6Ubp5OIa7vMNABbdBNjvevLT9s/xVe1554zhsuLe8y4InQhEAT3yTudE7JD3/v3s9+H4avzyAJcKYxE2DLT97/XR9+P+rgcGBVb+KvuC+RH/TgSpBVf95vfY+1cGixILFaUNRgXVA9UAyAD1A2cAxvuOAPIJ9gv9B0X+V+6W5YPms+jO55vp4vIB/PkGHg9nEXQOggUfAFgADATkA6wBIf9J/V79z/yP/Ib3rvRF9jD9xweZDwAPPQt4CpQJ7gcEBQsFbwMlBVkJLRN1H/0iCh65FgoTEhGiEiwU9RJtDAQJiAm3DkASCBFiEOgO0hGTGfghqSVCHbn/h9zlzYfZpN5B5mPwSO838LP3DQm3Ar7xJN9k18zqogOhDuEM1QQ/8azqqvKO++v0lull4wHmiPiQBJT7Xel531LaxucCAa0K9ANE/A77/P4QCeELIvzm73DyDfl5CMQViAyV+E/zRfbX/EcGTAau/Wz8rgU0DAMUYhNVBeX77P54Ap8BMQUKAar5k/rO+0L4SuzP4j/dXOBY8Jn5mAP7CNgGAgp7DlwRPAj9ACYCWwXSCAwLpwUm+0X0le0n8tL79AG7ArYGwwsmD50MdwbhAx/8Kf4IAVwHuQypCikMZg1CEFoTlxOjDq0Mpg53EfkWURe+Dm4GiADnA5YM8BJeFm0WuBXGFGITbwxtBhUCnAbTDDgTHR/IF8wDF/HL3lLVWt1O6wz2xfyY/UoCjgEP8dDkkuMR5FDs5/35EOIN2//P+AzrIOJW4UXjnu4z+m34AfxC/I/ue+Ok313iE+2p+xIGfQ58C5EF4Psz98f3o/AL9lQB9gbHDAwPswYs/TX3rfRs99b9XQMwBjsItQmUAqP7TPi17WDuV/ne/isDvQdQAXj5tfb59uj48/zDABcAWAdVDHUK3QfdBgwA4PsABMEJNwscCNQDW/8y/i7+yvsc/RAAPgI4BC0HLwd3A/wAWQEpBwQPxxOEE4IRvA+nC1AGIgNQBIgDMwadD6EYmheKDQUEz/2k/vr+xQboE6gXzhSAER8QvQnIAOj4/vp3BW0QJx2uJUUdMgX+9//17vRL9vX8VAFa/977CfdX9drvH+3n73v38/lG91/5UfqT93ztZOrl7rPv3O/K9bH0pPBA7AHrju0n7hP3rPnd94T8qf6i+Hn6s/O27VjyYPWp+kIAtwJu9iP1UvqZ+sn2Kvvy+hz4owVjBBn8oPmv92nzk/2bCHsK+A04DPYEYgNrCKQDvADlAfsA6gDwBZUF7f0T/WP8uvv6A+8IbwUsBsIGrwNiAY0EqAUvBiIGMQTsBeYFrwUYAnYBlgJ5AokEoAURBoUFDwX9A3EEwAVuBtUH9AlzCUUHuAQhBt4JLgh3BMsCxQVACDgKqgYxAR8DLQKEA6QLGxCzCY8KAA5bBtQHtwkPBGf9twLjCrgQChb4CQH6/vPu8MPsU/7p/rzwdfhS/F393f0i/Kfv+e2z9Xn97wcWDgf+x+Mw6DvtmO1+84Txt+lJ7ij0QPt/ASL3Rutb7sz3wPksANb8rPJZ6l/v9/Qq87Pxre718O74KQO9BjcKLwAF+jX50PsOAekFegkzCwcT0hAhDvIFgwBh+vj3wP7cBl8NPg6nDIkEsgBw+7X52v3nAtcFiAhrCuAJHAoTCCEI1gZ3BNsDbgQyBGEENQITAHgAdAE8AswCUAEB/kIA4wLNBukKIw6nCFACOAfaBrkELQPLAYcC0QoPElgO1wi8/ff3dv5nCLYKDAiNAvD7/Prg/N0FDAqMCoYESQTbEngUqQySBi7/IfhfAS4JJwdgAzj8D/Uy8YX5o/18AEwFpQAl/kYAyfoA+pr7sPLx8HX1BvXr8jXx3+kH6fDwGvgt+7T8Bfol8LLxnfPm7PTmNevB71fuyfEn95n6l/Y/+Mb2k/fyAQn/gPl8+4n6zvW9/8YDEf4uAvH/2v5LCHQQPQpVCfYPPQbrAswIYwNp+3AABALuARIP1g4aBRgFSATk+zb/GAvhCG0FpQfbBSsF1gjjBkQDWQeFB0wGvQsDCr4AlfwG/f74rvz8As8AnQK7BbkCbf+GBfYGmQN3BmAJ7AjACL8GlAAA/hMBoQI4BtUMgwhlAP78pvxd9t/1f/uR/bMEaQvAEV4S4Qy7/OTzmP7aAxsDjQmiCs8CQQdIChEBUf64+V/x2wAHEu4K+v1n/J715vG8/IL+0fhj82H1T/Rg/F8A3fTz8wn42PP38sMCx/vu7/nvpeUK6tT3HvRu7/H9Hvzr7C35XQJa9fntAvZf9Kf0nwEw+Bj15PuJ9hX53QbVA//65wMNAskB7AgTCDICKwSECW4EJQjcDF0Bl/pOAyoCXv+4C7cJLwA8B+oJ3QVUCZkJjgMDCLoN1gujEN8SFwmJArQHzATs/dUBLABz+mIA4APqANgGVAax/1MFpAj+Ay4GjQf3AaEBlQgvCq4FegXRBA7/8AGuCfYE1v5U/l/6A/Y0+kkBzwepB1YA4/7VBjgM+wVgB+cG8fzk+kAD2QPGA2oLcwO9/jsAFvyO+FP/kP/3+R8ALQOBBMUCrfwk9rn40fc39S/8K/ue8pD0tvoP9iXzDfZe9zH0vPXB+y374fJN9Pz1evFo8eryA/gC+Sb1JPLb9+L2H/S49jP4hvYF9fj7ePqj+Xv+yP/u+7L8bvpn9w0BagSuBdwIighOBawGPAhlA04BTwMeA7sBXwc1BvEAAQV7BucDRQhoCdkCjwbGDV8MQQmPCjUIrgJhBCMH5wTTAv8EMAX3BHsGjwQoBMMFGAYnBqYIiwkQBpoFNwaBBpwEbgMaBPcEtwgkCBQJ5wbQ/5D8Yf0l/dr6aQEiAigAfAOECWQKcAMdAusBjwV7Br4GpANnArsBGf1p/mT8cfoB+T0DFwlOB+oE0P93/GH4r/nD+IP7tPo5+yb7zPiJ+UD37fYp98n7ev5J/Y3zhu9Y9VD19/AK8IPyqe9V8yT8u//W+LrxvfFd9vL9dQB+/tP2mO536xn0Of0Z/Bn4JPcD+RL6Lf8UATn9XPsc/toBfAa/BrH+Afxv/ycAbgRoC+4GcwBeAjIE/wJVBTYI8wR6Aw4IKQsZCm8I1ARfAdoELgpzCtIHIwS0ApcFaAlyCUYGJwNiARgEhApADeQJdAdWCKAHEAfVB3IFDQMUBFUHPguVDRYJ3gAC/5//4v8LAhcBB/x+/XUDnwMVBKYFbwSsBZAKhw4KDWcCffvNAMoCjv5pADwEbgLXAVX/SP12+cDzMfd4AA8HYAMQAQL7zfJS9Mf30ffd+SH+KfgA+3UAhflT9Pz0FPW09QD5OPcl9kT1ovfZ+uL7GffA9Cz7VfmN9U/5VPwF85bzJPub+fX3ovbb9Yr0AviF+tf9bwAc+472ffj+/Kr9tgDfBCABC/8CAtACcQFSAm4BqvwnABYE9QQcBdwDaQGqATgHjgcPB64ENgIjAykGvgUcA40EWwJWAtkH2grbByoGKgZ5BZwHRQn1B8gHgQnpB6sFdwjrCnYHywZeCOUGKAfJCZwHngOaA94BGgB5AzAHQAXlBcgJ6QXOAfYGCgnMBYkDIwGNBbQLfQh0A8EDLgDq/jwG7wPc+rX8OwBt+Xf7IQgdBe75g/ZD9Aj09/Z4+UD5Evak8tH0rPu8+YL02/MK9RX0PvUy+JP0EvdT93Dx1vdH/0D2rvLl/oH+Zve8+UP81vih9cP2Yvl+/AT8C/vp/Ur8g/fC99f4mfXD+E0ADP8L/s//mP5K/Pr/pAHL/pcCfgQsAgIC+APl/5/9QgGs/tD9hABnAUgCrQYyBqYCTgeGBmUCNgSzBsAEPgQWCAgHTAZWB1AHIAiXCOEFDwPIBlYIAgaEB+kH8wZhB38JgQlHCbALiwcCBfcHwAnICfALfgnTAdYEfQdwBFgFgwriCR0EIwP+BTwLDwyHCWwIlAeKA1MCCAbpBNwCkwWXCYsFyP3e9TXyuPb4+4n9K/qn+B70jfLh9tH41fSJ8Lzz3vPQ9Bz2U/W09MDxXPCu8s70tPD+8Df1nvSq+ID9ofkS9If4nP9QAH79KPg19hD7Iv4O/+YDzv3D81n2kf3d/TH+RP8D+d/4AvnM+oL/eAFVAf/+5/8q/pz+lP7k/aIA//9BAHABdwNuAIz9aAFaAb8CqwV7BewCsQJoBBUESga9BnsEwgN0BB4GpQYNBx8GwgRuBj4GDwflCIoI3waZBrgIRgk9Ct0JDgkrCacJuApfCA4GgQf6COMK2Qp1CLUH9QboBzcJPwlQBuoFHAkXCZ4JMwfjBoEGYAf4DTkO8grZBDAHkQzcCaUCsPbC9Er4Y/uz93b29viD67nopPCZ8t/qfeZ27Ujs3+yY6ozsm+8y6/nt4/Qi/V32ifYn/h37cf1HADkATf0//uj6dfs8CCYFvPmG+YcAjwBD/Lz+of2/90/2nfg5/Yr8pfah9OT2LfmG+tYBIgEj+SL69P9qBBoDuwOfARn/HAI4Ay4FQAW2AVH9ev8rBGwDfgQhBkEDIQDdAcUChAAeATsC1QEEBSAHTAURBrEGjwWeBvQJEgkzB1IJVwf0A9YG1QntCIwKeQsFB/UHVA0GDssQCRFiCnYHrgq5DIQKywo0Ce4GmQfsBQoHaAk4Ct4H9QkZDqUJogriDAcNKw7jCcH5Ae0e/pcJyvyp85fz2+wD3ivn7vVZ783d6dl/69PrB+Q96HDw1OoF5z/8SAM692TzqPmP/NIAaQmFArf7yv9jAIQCqAapBQH85fbr/V8GNghz/h328ve2+nX7ZP8IAWj48PJH+aD9y/8l/wT6uvkf/Zr/FADvAucBwv2IAA4EQgTaBPQFlgIwAHwDswIUAUAC2f/y/SgAlgIEAX3/lP9Z/70BsgMQA/IBBwPbA9wDKActCJcHRgg3CAcI9QjQCTYIrgc8B2oGOQaoBw8JfAfwBsEFIAeICy8KEAcfCjYNsAk2Ce0NpREmFBgSeA3DCdMLUhGbEbAOBQyvD6MT4BGeDR8AsOen4dD9vAsO94viE9413Ajdp+r98CXkFdIO1RvpJvJh7HXn1+vO6hny/wHEA6H9u/vc/oIDEBBVEfgEzgJnBrsGPAY7CukEjfnM+vj/XgF0/fv27fPS9kv6ifmE+VPzVe329YUA3/9J/XQAFv+h/dIGqwxMB98ERwjmCdwKOwvcCEkG4wNrAmEExgSw/+v8sP3m+1X5hPoZ+9j0ZPTS+SH63vnB+8b8bfzy/0ICzgKXBQQFPgXfCJAKAQcTBlIKrgkWCSgLaQn/BRkGygapBDYEfwP4Ac4DVAU3AwADgQaUCEIKyg6xEVIPjg5qD3YQjBPDFMEUYBScE1ITDhj+HtsdgxbCDOsBA/Gl5MjxQAfxAgvkENIm2Kram9dN3urjmtjnzRzZpuoz6unhkejG94/67f1NCJ0LhQYdB+0TkBkkF7IQMgmRB88JBw2JCwYHpf209on5tvoX+df0C++G69TtZfOQ8u3xy/Gd8KXzAvkF//cAtwHzAt8HLA+8DvgNug/4EVMREBLMFGAQcAzFCnwJzgarBNABUvsY+F31jPEB8OrwFfBq7VfudPBl8nP0p/T39Rj5XPwj/14CswRVBNkFFgfaBiwIBgoZCiwJHwl/Bu4EPQZnBcoCZwHwAOwAxwLCAsIA//9JAV8DrgaGCqsJtwdiCbEN2hBPE1wVkhWlFn8WDBpPHccaJhuqHWgdThhKFgUS/AK38lvonugp8pX9wfO72CfN/dPC2xraydkX22XWvtSG4nXzG/Cq5pjxJgX+BpwFhhB1E7QJ7AsgGpccOxTzDeEMMwrLBmAHkAftAn75SvUs9TLxo+1m7ajs7Or+7kjyr++C8bb2bfl2/KQDyAcsB4kKgw3lDmISChY6F2oXQRh7FIsRzxLyETANQggyBnwC3vwT9zn0nPQE8eTsFO4p7pHnnOSb623ws/AJ8qXz3/PV9ZD6d/0eAecEZQbbBgkGugPCAjcFTgf+B94GmQM4AJn/PQDC/rb7OfkJ+EP4nvoP/Fb+4QDiAFsDhwirCxAMcw61Eo4WERvjHgsfahx8HZIhACX3JYMgvRoTGwoeZyCjH70XOgTg7g7raPGt7P3jluge6tzWE8Z9zqTceNW4zPvZheaG4CbdN+5m/HH2M/cYC34Vcgs4CMEUhRpiFDUTBRoQGG8LywVRCKIG/v2C+Jr4ZfTp7kLunO5p62ToJOl46+3uJfHT81347/vq/ikDggi6C3MOXxS+GN0XURcyGVcYYBaHFqkVxRFFC7cFNwOSAQT8mPOw7+jv2O5764jqd+mI5pnmFupv75jw7PA29eH59fv0/EMBpQReBo8H6QjRCGcF1AQrBooGNwXNAv3/C/xh+er3BvcE9lb1JfUy9D30pvTz9Vf5+f1KA+sGGQj6CcgOURNtFo4ZlhwXH7UgpCJfI8chriCOIf4iRiNMIc0fOx6HGEoTGhOFEgMLpwJk/K/19e355MfYlM1p2ubvoej9zADEUNZ23prYYt2s7C7uyeTc8ZwHwQX49Fr9GBkyHekTpBQyGmYTFQc2CqMTmhGaAcz4dfz/+CTu8+mg77ntCueQ6KrqJer55/bqVvOS+t39mv+nBTEJsQmBDe8UshpRHccfnh1RGsgZtRiCFrkTNg8rCNoCDv6j9sLwa+++7unpf+bw52/nceKD4UXr3fOe8fnuCvUO/JP+pANFCqULmQi2CLsN/Q76CuIIagowCLkAXPyM/ED6a/XJ8oDxefAl7y7uBu/88CnxyfEV9+H7Ov0x/80FDgxvDoES+ReiHFAfkSCFIfQhwiH4H0UfXx/+HUcd2hzlGEkRdQ4qEA8PSQ7rDeEKjgVpAVn+vPvp+jP3kPG053LWxdDf6A3/DO6U0snVf+ih6Y3iwOX77UXvhvDjAJgPjATe8Ob5oREaFq0PpBDsEU8Idf/Z/qYB0ACZ+Inzv/aE9dfqduQK5/3ok+wZ9Cv3bPXF9Lj3ZPxEBaYNEBArE9UWxhcoF6AY9RkVGzscVBjrEpQOEglIAuf+iv2Q+FD0GvKw7a/ov+Uo5HLlYuud72HvU/Dp83X4u/ty/18EUgnTDEAOrw9RD2EN+gu0CyoIxQJ6ACv+rfqm9S3xUu+V7qLs0+q5663s/+we7rzwpfMf9nL5vf2tA/0Ibgs9DyQU8xUmFwkaOhwPHR8dMBz5G5EaehaCEhwRGhDWDFQKUwlhCF8HfQfFBg0H4gcCCAYMfg7YDcwNIw9uDj8KdAaIACjzAN7u1K/p7wNB/KvacM3i3MTm6t+J2hvhyuh96pP1lga8A7nuqOyZBZwYExnXE38Svg40B64C1ASwCN0AGfVH9in8mvbI6lPmOuro8Qb5YP22/sn8Afpf/N0GjA/vER0VVRpqHBsa7xYwFAwWVxiLFNgNDQg5AyT85/Yj8xzuaeqw6eHqs+nR5xzn2elB70D01Pm3/akA8QQGCzUPWA/xD2sRJxJ8EZER3Q6OBKj6Lfgj+Sn1Le+H6gbmEOMB4VziO+VJ6KnpTO3T9eX4tfge+2oAUQQBCDINrhD+E18TqRH+EloVhBScEYASNBFNDU0Mlw33C/4HdAY6BVwERwPXAhIDMQTUBkUIlQoSDXgNtQ3fEX8WkRnlHTkfxBzbF8ASnAtuAhv8U/HW3G/K19Fo7+L4gtyqvzfIHN6G4KDbLOGc7JfwCPl4DCoYCBFdBckOBiT8LB4lFx34G7MUGAha//T+HPpY7ITlHutl8eXrduIe4Tzo0e/79Rv+xQQXB4QI4g+PGOoalxnwGRYe6B+SG3oTPgzSBUT9uvjQ91T0SuzD5VTlH+W045niOOb37BjxJfUR/PYDtAYjCLENHRQCGBkYlBioGRkY2RLODbMK4AQU/n33K+/P5+zmBegG5Y/iZuL34uPjOugA7f7uSvIL9zcAkwfeCJ4J2wzyD7QO2RAPE6ERwg9qDkcNmQkgCCIGPgS/BJ8C2v/Z/kv/o/58/yQCSwK4AZ4B3wESAzQFtQWLBb4IcAz6DA0Olw/gDucQxBUUGakanhthGg4UrA0IBrr7JfTt6IrVJcbr0Xfu1/nj6uzUwtS34tTq+elu7PX5uAVTFOUltSsNHyMObg22GFElNyZtG0gOCgFc9n3vwewk5DbZettU5yfvQOx45dHjV+vY99YBvQmMDw4RMhLbGBoffxz4FPMPJxEWEwQP8AVP/RT3ZO775k7lxedc6pvrBe+98pb1YvVu9ST6fQEVCVgN6hDZE60Tug8pC8sJ0QjaBksE+QI8AVL8xvUr8QHwaO+p8LD0nff99kvzz+187P70xv2tALgCBQWTBekDUATpAXD9uv3//x8GJAqYB1QBqP3T/Nv6lf4UA4wE6gTNBCcEGQPTA6kAIf7yANUBcwAEACQB4wD8/pT9df1GAjcFOQOXBBYHcgb8BUcLIg8lDmQQpRLjFIMXZxbJEl4TbBjCGfIaohs3FFEFk/V05MfP1MRfzinnnfnP9RXqZ+vM9Tb3JPAC7y75bQr4HkMwozNEJ2sT7waGBtcJZQrhBjACAPw79R7tQeBz0Z3IxsxY3L7vlfxj/n778fuAAmoLMhJxFeYYcx/BJDcjKRviDxMDJfnO9RP3jvaH8Szrs+a05AjjROPG5vXr7fFq+nUGvQ5RD28LdAh3CacM9hARE04REQ4BCxMHCwHd+arz3vCN8s331/ug+/z3lPQ59Lf18vZo+Ez9ugO/CEcK6QZC/ur0ovX9/H0B8AI4A3UCcwC5/x7+p/me9u72PvyHBBEIOgQJAI/+cPs2+uf74vuf+9/81/7d/6b/LPzN9rz3xvz7ANIFXwmkCtkLNg3SDE0MtgvqCVILphAKEgMOnwviB3MCUQJqBCEDIgTdCKcJhQmPDHwQ5BLwF0kaXBY8FSAPoQIi86Hiodnl4rv6RQTy/Kr05PKq9U71sO3v5ADqtfbiBdgVrxzmFSQISwC4/Iv+SwMaA60BVAJJAuz+R/lO7C/dWdmz4rnxfv3NAykCLwCzAloCYwCo/ef8nv/xBVENIg4rCqcBmvjX9Jb2lPki+T35cvrG/Bb+Y/0A/Az5Rvjo+W7+FARXBgEFtAJFAm4Bof6D/WP+Z/56/6MBgAN2AzMB7f5p/gwCRQULBpcH3QhLCdMIpQarA/0BVALrAW4Az/7R+9n4bfTq7ZzpVeyg8Qn2Tvuw++75HPnt+5X/Y/+U/8v9bAGnBxsKBAxyCYUCJftS+yr//QAcAg0DtwQ2BkIHigPx/dL5BfnB/j0F+weYB6UG6wakBzIHrwU4A8ABVASpCswSMBSmDq8LBwnRCH0MSg87EasQLhS7F0wYSBjPELUJpARBAnUCDwHr+5bx0Oz06L3gVNoZ3hTquPPW+vP8lP/QAowBuf43/ZT+KgBABvYO5RCcC8MC+vi48VnuS+yV647sfO207WPwyfOu8gXw7O929Bf+JAlUEC0STBI7EQ0PUw7/C6AFU//X/QL/qv7m++j13O+o7HLs/O1z8F3yV/Oy+JgBRQhmC/0M2Q2bDcQNGQ/aD78OpQxDCykLCghWAV37r/dn9tT15fXg9tn3APmT+Tn7OP3P/J/8if9/BE0Hgwc7BjYFPQXoA5gBzP+3/1b/F/7k+gPzC+w07DXwE/NO9iT5NfoZ/Ar/nf+o/Kb5uvgy/Y0G8gwJD6kPRwzzBlIFQwYGBSoDtgQ9BhAHgwZNAvT8Xvmd+Tr+VgZmC2gKZQloCCQGmgOyA1IEUQQ/CdsMMA5RC+YGeQXvBDEI4wc0ChgLIwZqBAsF+QY4A74CogZmCroPlhCEDbAHlf8B9FTrTedy4ebeweae8rj4MfqZ+m35w/kA+u33U/qE/m0EogvsEtMTvwpgA0X8X/iP9y33pvaf9Xn2OvQN8q3uCurP6FLs4vEN97v++QOLBYEHQgnTCVkJDgnSB8YH7QmKCLgGCAXQAYj92/nf+O/1KvVR9IbzQ/Xl9e73kvouAOsCUQPzBQUHOQgoCEMJPgqFCjQMkgt9CSoFHgBa/Xb7m/sJ/BH9Gf+V/wUBvwHzAREBEQBLAZACWQUkB6wHMgeSBioG9wPkAbwAlv5/+mb2YfVd9XHyDPJy8uz0Qfjg+tX9TPz//BX87f2LAPX/0AGdAX4DjwPLBAwF7AFgAcX/PACuAPT/Ef/u/Tn+7f7MAQAEoANDBYcIywr9Cb8I1Qd1CA8LhAqjCtcKmQlnBkUEnwWEA5UBrgJABkQJawm2CzYMpwv3ChgK/AuPCxgKjAaJB1gJgQMP/oP2k+zZ4Qnhaua+6N3sGPBd9lH8Gf9t/qr9W/5q+lv8twUlDcgOSwvhBSP+F/mc9ffwGu896yrp5+zT8p70vO8Q7kbt6PCr9wv85QAUBFsJDQzqDwoSug2+CLsDqgKdAjADMQGV/P/50fgT+bD5AfmQ9yX2vPii/8cFHgo2CzAO3xD2EcMRag7GDCYKcAkzCtIJaQdQAev9kftp+Bv3svZr9nz18PcN/fH+YwCPAvkDLgReBB0GpAbCBqMF/gLIAiMC+/5B/Ab7YPhB9hr3+fOJ7bvrpOw26zHsX/CC8pP2vvzPALUDZwbJBeAEswhjCZ4GwAZjBuoCCQPkBSYFpgR3BXoEkwNtBdgEDQN9A+wD0AXzBwgKgAquCh4LdgqiDAIOtwy9CrwG6gOrABj+hv7s/dv+bP8JBYwJKAn8CWIHOwgeB7IIHwoUCuYLHQjHCZYJnwW+/CXwguT+2BbZod2D4E/kWura89n6DwCVAJv9KvzU+9MCpQvhD+UN9gsIC48FRAF3/Vz5T/Iu7nbv+fJe9VjyN/DV7sjve/P0+bYAMAPNBmcM0hJAFj8VZhKhDmgMzgt+DKgKxgTc/oH7fvkM+H33KvYE9en1tfkj/j8BdAIHA+sFtwmsDHEPtA6DCjMH6QXhBIoB/P6T+ur1cvUO9ir20vO08S/yPvWp+hz+RgDnApUCvAQACLAJPgh5BbcFMQOwA+sCWQCr/UH6Nvkk+LD5v/i/9yH21vQo9aD1EPb49S/5LPueAIQFZwfeCR4KmApxCNQHUwWrAlQE4AIPA40C4wCo/g7+A/9r/X7/vwHXA7cGkgi8B+QE1AP4A+wF1wm4DVYOkQ0oDFAHHAEY/P34Iveq+cb+Wv9TAcsAi/yF+gP7J/6g/h0FGwmnCksQeQ4yDSwJ9gaxAhP/mwDg9aDvh+tU6bLpmeig7Grsx/Pq+Sv8TQFO/1n+pP4ZBD4Jqwr7DtkMMAvFCo4HegT3/a755fSa8yj2svQw9Gzx8vDV8YLzmfdF+U39DQKIB38MoQ7PDhUM3wndCK0HJAhEBrcCGwBf/bD6/fZX9hL28PVx+ID7Tf9NAbgCMQSJBHgGkAjMChUMlgq1CZsHVgW3AYH+vP3y+tz6qfsE/BT8p/r7+t/67vzY/rj/LwJtApIDmAQhBRgGsgU4BFwB+f8Q/3X9l/xR+136A/q4+F73PfYF9nz1Efb998L5ufxN/lgAJAC7//H//P7p/0T/xgAsAekBkQPyAe4CnwE9AIwAyAD4AhMDeAUxBiQEsQTwAoEC3QFaAQEC+AF4BfUHkgnOCX8GRwSTAwMCAAEZAjsFpwZ/BxMLUgl/BmoC0v2p/ar8tf8yAUgFTAkdCYgMJwneBWIB4/wy+rT0WPSd8in0vvb191X6gfkn+hP5HfiQ90D1DPUq95n67P1OAc8DugP4AZsBHAEWARIB6/72/jT+e/1B/Rr8VvqM9tX35/kG+/f8t/1iACoBlANNBq8GawaABNUF3gZOBxkH3AXgBCkCCgLtAZUA9v5O/kL/s/+sAeYBnwEjAhkCvAPJBNUEmgM/AlYCLgEoAUIA8P33/fr8Sv3s/bb90/wg+5T8Hf3L/VD+rP0H/k79of5SAOIACgEsABEA/f5E/hH+Fv3O/GX8pf0U/0v++Pyd++/63PlS+mf79fsU/Qj++/9zAKIAvf8Y//7/qABQApsC9APgA48DkgMaAlUBc//P/z7/MQDmAYsBtAKzAY8BPQGgAcIBRgHKA4oE4AVIB4EH5Aa6BWcFbAOcAz8DvgEhAhgBNgGEAA8AG//j/Rv/Hf53/+kA8AClAawBxwLdAXcCLwK2AHQBVQBzAAj/JP0M/Gv7i/x0+zH8Mv2x/Ej9p/3y/W/9Pf1w/af95f5i/ykAwwBKAPf/2P+S//r9Xv1//az9Tv6M/tH+lf7a/fv82vwy/ZL9R/5P/1sA8wBzAaIB2gGNAfUA6wDxAKYAYgA9AHD/LP90/xUAkQDhAEIBgwGvARYBUQH4AX0CPQIdAqICAwJoARMA1/7X/cL85fwh/Yz9V/1F/d79Df5T/mT+lf57/sz+EACbAaICfgJyAg8CdQFhAEn/rP6y/dr9N/51/h3+R/06/fb8Xv0w/TP93P0t/nX/4AB8ApcCWwKqAncCiQIVAocBtQBmAHgA5gC+AQAB3f9L/1f/Zf9d/6X/QP9x/1EAZgFTAi4C2QG2AW8CYwPoAyYE1wOIA0cDmQMWA5YBYADA/+b/+v8NADz/a/4P/vP9gv7X/sP+2v70/wcBrwH4AQoC5wHcAZICGQNAA3ECfQE7AboAHAA1/1n+0f38/cL+dP+O/7H+4v2B/VX9Kf2d/RX+if64/5IAFAGwALn/1/6N/vD+Jv/8/4sArAAJAfMA3wAkAFD/D/8T/5r///+dAM4AlgB/AAcAk/8g/+7+DP+b/+b/WQBEAZYBfwFHAUkBBAEQAVMBcQHSAeMByAF1AUgByQAfAK3/4v6V/mX+Kf7o/cH9HP41/mX+Tv72/ZD9M/1k/XD9uf3e/Rr+kv7L/u/+Wv4J/pD9Wv3S/en98/3B/ff9Ff5j/tj+rP6s/rn+Xv/v/1QAngCAABMBmwEEAi0C4QF8AVUBzQESAh4CQAJJAnECCgOPA3QDKwPgApoCjwJ+Ag4CSAHhAL8AyADDAB4ARf+i/oj+iP6z/tD+4/5d/0EAVAG5AbkBTgHpAPAAMwFXAQUBuABHADEAAwBs/2f+Rv2p/DH8bPxc/C/8Ofx3/D/9xf1e/qP+Df/E/6IA0gF1AswCvAJwAgQCMgFqAET/ff45/kD+lv6I/nD+Ff4i/jL+af4U/4z/mACqAcsCWQONA8ADqQPdA74DrAM9A7ICTAKnAScBWgCv/w7/zf7n/uX+Mv9j/5n/CwC3ABYBNAFrAXMBkgGpAZcBJAGZABMATv+//g/+Xv3y/L38pPyV/N/85fwa/ZX9Gf61/iT/tv+8/8D/v/93/z3/7v7J/nH+bv5J/gr+HP48/nH+n/4N/0b/sP8sAIMA+gBYAeEBNgLLAiwD+ALPAmUC6gFfARsB0ABrAEcAJgAGAOf/1f+t/9D/QwDNAIcBJQKCAoECeQJCApkBFwGIAB0A8v/0/93/rf90/9D+Wv4R/ub93v02/tb+Uf8hANQALwEbAckAawAAAAYA+f8kAD0APAApANz/of/L/j7+/v0h/pb+Af+C/4T/m/+H/4H/q/+f/97/RgADAaABCAJFAv4BoAFBASIB4gCfAF8AEQDr/6X/dv8W/8z+t/70/n7/u//5/wcACAAfAE8AkgCFALQA8QBGAZIBaQHZAAgAjP8a/+3+9/7i/sr+s/7f/sz+kP5W/kj+v/5n/ygAugANAQ0B6ADgAMUAfQAdAOb/wv/I/7r/h/85/+r+4f4W/5b/BwBWALcAHAFyAZgBtAGiAWsBTQEdAdsAQgCc//3+gP40/v39B/4J/jf+iv7x/iP/Of91/8L/UwDgAF0BpQG0AaEBSgHeAFAAwv89/+T+z/6X/nb+Pv73/b/9xf0S/kH+uf5s/0YADQG6ASACIwIFArkBjAFxAS4B8wDKAKQAhgB6AEwA+f+j/3r/oP/b/0MAnADlAEgBmAG2AaoBggEiAd8A5AD8AAcB+QDcAI8ASAAJAMf/e/8m/zb/af+///b/4/+4/4v/c/92/5T/mv+Y/6f/pv+P/1L/zv5P/gD+4v3d/Qn+Hv79/fv9Ef44/mv+v/42/7//ZgADAV0BcgFTATEBKwEvASkBKgEbAf0A0wB2APb/df/6/sT+3f4i/23/n//z/ywAYACMALUA+QBCAbsBLQJqAncCVwIcAsQBXAHoAHMACgDA/57/kP97/0X/Ov8m/y3/a/92/4v/pf/i/wYAIgAkAO3/uf9v/z7/Af/K/qP+df5x/o3+v/7T/u/+Gf81/2n/nP/S//f/GABDAH0AqQCfAHcARAARAOH/vv+f/5r/s//e/wYAKABIAGgAbgCNALgA8wAzAW0BwAHkAf0B+AHMAYABIwHDAH4AYwBSAF8AVAA1ABMA4v+w/4//jP+U/7b/BAA+AFoASQAVANn/oP+A/33/dv98/4z/jv+D/2j/Pv8O/wn/GP87/1f/ZP9Q/xz/8/7X/sj+2f70/hr/Zv+M/7L/p/+O/4P/df+k/8b/5P/7/wwADQDi/6r/aP9b/3D/of8OAGYAswADAToBVQFEATEBMAFFAVgBZwGEAXYBWwEgAcQAegAZALH/e/9i/2T/gf98/33/bv9q/2P/XP9t/1//gv/A/wUASABVAEYAHADe/6X/bP9x/3j/cP+b/7X/2//c/7z/of+H/5P/q//f/+z/9f/6/+f/5/+Z/2z/Vv9P/5//0f/1/xMAQQCMAMMAHAFeAX8BmgGbAbkBpgGDAWABCQHoAMkAcQApAO7/xf+//+7/9v/p/wsAOABXAG4AnQBiAEgAkgCvAMIArwCJAGwA//+9/4v/Yv98/zL/GP8N/8j+r/7b/r/+j/7x/iT/bv/n/wAA7v/K/7n/e/9K/7H/g/9o/6v/bv+B/zj/Cv8M/+H+NP+M/0MAwACTAJEAswCnAGMAjwDuAJ0AyADfAI0ArwArAMn/yf8qADwAEwB3AGYAaQBVABwADgD0/w0AAgD7/xYA//8CAOP/0P/E/7n/qf+N/5n/k/+Y/4H/j/+O/6r/1//4/+//EQBRAPr/WQCFAEQAPADD/8L/mf+T/9b/U/9R/3b/o//H/5//6f/W/+P/CwAqALAA0QDiAN4AyQC/AAIBgQE7AZ4AoQBbAC8AsgC6ANsAnQDvAJsAHgAnAGn/5v/0/0gAIQDN/xIA0P/D/8j/nQDwAIQAHwCFAPL/pP8hALn/CADo/6L/wP4c/8T/Cf8e/2v/6/9UAEkAT/+U/7H/ggC0APb+GQBVAN7/Tf/4/qz+9fqW91P+Zwt6Aqj6AAf298/vLPgxBPUSi/l2/0sH2P5UCTL9ewMi/GH2NgRfBskE7f6KCc7+ZfVl/F39Nwd6/IcAHwKB8FYDEgr+BYL8GPsMAhwBbweP+VQCSACf+woHmgEEA0P3X/HE7Hn2oQnuBYYINAKz/rQG/v4WBtH9xvGjAPQFtgsOBoUCefnG+d8GFwPcBh/+RP3DBh78WfoO+pr2I/Up9dEF0AZ3CLAK/v6pAxz/KAFRB9f/jv2F+jEB7QOXA7IFZv7m/tT9FgJvB2MA3wCo/kr7TQC+ALf8OfYJ96/+KwToCQEESwDNAsD+JwGqAbP8zv6F/xICgQRyAp8Cxf9//YX7YgDuAggAxQGy/nj/Df+O/Az9BvuD/L3+owFrAe//xQBt/pP+r/87/xL/T/90/pz/xwHSAM4ACwG5/5//RgEFAWABKwLR/8b+cv+P/vf+Fv7J/UUAqAA4AKABNwED/z8AoP/f/3oApP8VAF0B8ACQ/xoCYwD7/rH/SP7o/vb++/0C/jj8pvyF/ZX8sP20/UX+hv0t/zr+sP7uATf/GgA4/638gv3x/f/7fPt+/iX/sAC2A6kBTgBg/Vj8hgGSAXYBZANVA3YCnAQUBTUEDwPMAEcEtAWDBhYIGAXGAwQCIAJpBScENwX0B0gHigdrCdEJoAaWAiwDRgb7BHkF4wb7Ap4EpwdmBu8FXgEW/bL7gflL+KD5f/ca9ZH1i/Xx9T30VPSy9GD1gPU29iP5uvl3+7T72fzi/07+n/8JAO3+J/++/pkA7/wQ/CD+8vzo/On7ifk99872k/dR+Jz5h/ms9yX5R/zX+cH4LP1r+/b7oQHhAzQCJQFSAD7/gf7Z/EUAKwDQ//gCbAVeB5QG3AUcB0gH9wiuDKcQ2BJ3EekUTxagFKMUgxV3GHgaPhtTISwkBiNOJYofMhunC7Tzo+jL4ormUe3S7n3u5O0h67LpOeIN2mbPfs9k41zxzgAJBtQFCf8v+UP/YwFCBmkLwQ+XGAMdaBjBEBsBt/Lv6Ubw2PRq9lL4dPQS8x7um+1f6LHjGeM56if2Hv8IAzEFRgGt/8sCowRLDPAM3xH3FNUXUBgTEqAMzwP2/kb+wgDyAg79UfbF8uLvg+w+6Yzro+ll7Av0DPmb/K75Efkv/QcBKASuCREPXw44EJsSEg4ICbAF7wQ8BHMHOAl9CX0MeAoWCdkKEgoTCtsMVBBRE8YVyxutHSYeLCPCJs8pEiwaI2cH9+vM5Tnr+fBB8xTxGPAJ6HHnteWY2U7PQsAr0Rrrbfl2AmEAqvx77AbykAKGCRUPpRL9G2khcRyJEjYE4PQs67nwdgC7AlL9JvWj7/LlAuVf6BLmZudO6yz5BwFbA9n/8/tZ+cn9LghUE8gZ3BhjGK4WqxPOCzwIawRKAcIAUwWGB1cAp/J96MbkE+Pc5Y7oN/Bg8PnyBvfK9i32YPFs9u0AaQhlDn8TFxUDEzEPTg0ACTUHXQrnDZMOdg2jDG4JTgeWBbIHxgpyDQ4PaBKrGBgaPRqHINQn2ys/K0wkOQk14ubd1vFc/iT/mPkG+L/sT+SN5STbjs+rw7HWDPsLB7IEmPrW8cvheOaRAlgUSBNeEuIZlRh2EJcGEPsF8Mrsz/ugECURdALD7cPlp+Ks5UjyZPb79EL0Rfw8ASb+Tfbh8nT1Xf6KC40WoBgEEAIJLgiSCuIJvgf5CGMLMwczAqX+K/dZ6SzhJeUe6/PtZuv87EbtxerD7oP0ZPkb+a/7BgVQCswLSwvZC/oMUw+0E6AVuRSmD68Nrg+1Dt0O+A3WDCsLEgvGDtQPkRFHEakUOh03IpUnFizFK/QkaAw84Y7OtfEAFVENP/uw+ovwvdcc2ZHi69xhzXvSSPreEOoCqeqg6a3kmNjt9DYiXyedDHAHkg91Bu76pP39/xb7FP4sEHkXHQLY4tXbeeZg69X4DAiPAs3rWOdK9OT4WfdI+wEDWwQPB18OOhJMCWj93P3iCZQSHQ0MDNkLMP019dj6mgDt9xnvZfQy8i7wrfGj79bvfe7h8nP64/30+FHxf/e4/hAD8ApWEfENJQeUCZMJBwuVDYoOkhPwFIcWrBamFPQOdQmVEUIZzRrsH4wgjR6JIHoi1B+LBmzfu9Nv9scXzAxE+ZP0aePWzDPb4fIj7FjW2Njy9MsDw/u38V7z4uur5ugFeTGYLMoJxwE8CcUHfgrEGIoYJgQv+JwEJg22/fvlVORI7T7vtPmyBvj6QNzC1qbod/dg/n0F6QSV+iL4tAGLCY0GEP/1/qMJ8w4+DU0MXAW18ubtgPy+BE77KPTi9IPsqukA8OD0ce+u6WfuZ/dQ/OL89P4zAWYBd/+vBTwNlg26C3wOJhJYE7YU5RRaEtsL/wupFBQcnRsyGgcaRhcOGSkhmCT8IsocOgZe55XklwRtGf4Q8f0g8UriTNVM37zwjvDR3hXbgev58t3qU+g270/q6ufZ/4EfbCC5B8z9MwDfAcYJ5BtXJEwS1gCHBJQLDQMq+aj7vPvp9Cj2FP/A+EvlE9+055Lxavaw/OD9f/L/6djvJgBlCE8E5ACjAMEAugHeB5sMBQa8/eH9CgT5AOr3JPNs7kftyfIV/CT8ofSs7g3sSu7w8oX5oP/UAR0C+QVKDsIT/RJQE3QSwg9REv0Zah/rHwIdxxgUFjYWkRr3HrQhIR7yGlQXQQMS6l3tDwZRC6gCCf9G+cviD9mB7zMBCfkd56bl2+iv5vPqUvvG/4Ts5OSl9y4IrQIF/vQBqfyq9REDXBXkEQX+ivYQ/50EogffDmoSlQPh9En6Dwd6BcD/vgCo/dv1jPY+ALP/JfdV9AD6Nv3w+2T3s/I48KntLvWLAqUGH/7L9mn4DvZj9Iv8SwPH/6n5MPvo+7P3R/VA+bD8efxn/E3/qAL6/zoAyQXfCI4IgQoGDwQTwBSoFykanRq/GYMYlxxfIX0giB8sHuwMnPa89t4K7RCjB2MFoP0w5u/ZiOkY+CPzuOlU6MzlguF66CP4uPzP8DHpxPJQ/jsBeQW3CIMCzvg5/dEKfw76CfwGDgUn//L7AgOnCF8CMPyL/ucA+vui+mf+tPpc9VH7OgbXBkkCoQIQAqb8Qfy8A38GZgKqBKgI0wO8+0L7WACI/tT94P4I/Bj1//Ao9j76XPrS9vz09fOc9B74l/wB/x7+aP22+t76AQBBBpEHlgkYDEUMxgv5DKwPCRACEscT/hTDFygZdBaPEVwIrP9UAKkK/g4nCKQAbfp/733oMPKM+8r6YPMj75PoKt9+43bwPPky+c33V/Zm8e/wdvdn/04CXAG5AEYBJQZLCO8K3AptBeL/TAD8CEALogpfCmEGg/5H+679E/9MAPQCTAJ6/YL8xP33/cL+SALpA54DCQP1Aw4EVgNCBiwJWwl6BrMDigFi/lr+QgEdAJL8Jfkl+En4vfjt+F32B/QZ9NT1TPhA/Gr+/v1Z+xz6vfoc/Af/nQOxB9sGBwTwAv8DrAMOBQEKSw3GDQMOSg7oC3cHgwU8BC0CxwMLCHoLNgn0A5H+k/pz+kL9cgFVAvj9lfZl8mbxO/Lx9c/6f/sw94/0IPXv9lb5s/2i/yP+bvwJ/Hb8bP1rASAEnAJd/xv+B/+1AJoCMgRLAtv8ffme+mX/agK4Al8C/QEXAfcA1wNIBxoI/wdkCmcMogsPCvAJWAqECVcIWAjrBzIGHQS4AnQBN/8b/PH4i/c3+Bb60flA+Jv2w/Rz8yb0nvd6+SP41/Za+O35zPgs+MX5+vqn+m38PQACACf+E/6f/88A+wH6AyQDsAEMAvEE9QZuBncFcAXIBQAFnwUPB+0GQAZUB6wIqwf7BE0D4QIaAwcEPAS2A8oAD/1E/XUAGAIcAHn+OP1a/FT+LwG4AVz/Xv18+//64PsH+5H5MPoP/CT9pv40/y780Pc9+MX7Xf9vA0wFXwOG/zL+Vv+OAacEiQfvCDgICQbEA2MDdQT9Bd4HpAibBVEA9v3Q/zMC+QNRBbgC1vxP+bX6I/xf+zT7qvue+l/4J/jY+IP3svSN9GT3VPkN+f34pPnw+A74bfn/+7L7oPrC+3T9Lv0P/YEAIwNmAhgB5QFZAloBhwIFBRMG6AR/BK4FQQbEBeQEEQW8BHUDRAMABRgGJQWiBDgF5wRTBJUFRAfEBwoH2AbcBmMGqAXhBB4FvgT2AlsB+wBaANb+tv4r/1L+1/zY/Ff8K/ph+k/82Pxu+7D7FP2X/K78Rv5I/yD+qPyz/Fz9//08/0IBggL/AJ7+Jv7C/jL/EgF1A/ICZQD9/uz+U/5y/gwAVAHKALL/EP+s/oL+FP+8ACgBz/+I/kz+Lv0Z+yr79/yI/fT8x/wG/MT54/fj+H776/x+/Lb7bfr+9y73+/kA/nX/gf/n//r/tv80AOkB3gJvAuUB5QHCAREB6gDrAVoDkAQtBbkEgwOoAsMCpQNaBUwHqQcRBnQEwQOVA/8DKwUSB18IaggHCPAHOQc0BVMEjAW6BpgGIwYsBe4C4QClABgBfwCA/+/+DP/9/l3+6/yG+rz4+/hP+zX97vzX+tn4nvgx+t78mP7z/Vv7AvoF+2f8Tf1J/sD+ev3L/Ar+7P4r/s/9Tv5R/u795f1T/mX+a/6H/iD//P6t/Eb6F/pX++H7Mv0o/zf/cf1n/Lf8R/w6/A3+CwEQAxcDKwLRAFj/DP9kARYFEgdSBqAERQNQAj0CUAOIBGgEaQMdA4oDNAMlAkMCQAOOA1cDfAN7A9oCjgJMA+0DbQOLAo4CaAOZA3sD0AMBBGMD5QJkA4YDgwJEAYgAyf+9/vP98f0v/r/98/x+/Pr75vry+c35Jfq3+nP7BPzn+xL7EPrv+T37EP1q/vX+0f4Y/ov9Q/6u/3oAUAAVAMIAZgEiAYQAJgCl/8r+E/89AA0AjP7d/TX+B/4S/X/80fw1/ab90f7O/xf/Kf2w/DL+z//OAJgBjAH//+j+uf9mAU0CogLDAjwCSwGuAOYA6QDCACMB0AEFAtUBEwJTAkACRALGAuoCVAItAqYCzAKWAusCiANuA8sCWALmASkBCAHTAXMC5QGsABEAYgAjAd8BTgKDAWn/Cf43/zsBEAJoArsCLgLXAJgA9ABQAG//2f86AcgBBQGq/2P+Rf3h/Pb9e/9E/4P9t/zs/PH8T/2J/kH/k/4Z/qn+Hf/T/sH+Xf/b/7H/jf/z/wEAb//8/sn+Iv4v/f78af2W/VL9+Py+/Gr8HfxH/LX85fwW/cr9mf73/qH/aQB0AEUAwgBFATUBjAE6Aj4CdwHFAIQAgwCMANAANgEGASUAo/9YAPsA8QDyAPkAtwDHALYBoQKoAgICjwGIAQUCxgIuAx4DWQJFAaoArwDTAAABIwEVAXkAUP+1/iT/IwD5AKIBTwFw/8b9Cf6k/1gBfAJhAhcB//8CAMcAHgL0Ao8CFwIKAnwBsAD4AIkBaQGiAQACNwH//+n/owAYASQBjABe/2z+cP5K/yYA6v+i/pj9a/2N/RX+hv6Y/fL7Nvul+9T7wfvN+3L7yfoN+0788fw//KT7Ofwd/dL9tP4X/9/9h/zm/KL+9v9TAEgAz/8M/+b+1v8BAVUBEgE0AXUBJAHUAGkBUQLqAocDHgQQBHQD+QItA5MDiwNCA1MDYgO6AmgCSgJhAWUAYwDkAIgATABbAML/FP+2/tr+qf6a/t7+lv8JAMv/0P/u/9n/sf9pAA0BrQBkAN0A6gCMAM8AcAF2AXkB3gH9AXIBawDS//T/mQAfAZoBmQGOACL/0f64/5oAHwFnAegAc/8//of+a/+M/0b/Ev9q/h390vy6/TD+q/0E/ZD85vug+0/8W/25/XL9bP3O/Rn+Pf7A/m7/iP9//+//GgCS/zn/df/e/0EAkQCPAB8AxP/u/4UAFwFuAXsBTQH9AAMBlgFOAuICXAOUA0kD1AKCAooCogK5AsACcQLYAUcBKQE4ARMBrAB4AFYAIgAeABQAy/9v/1L/ZP+A/7L/3v/f//H/HwBiAIUAhACKAKMAxgDTANAAoQBOACcASQBlAFYAhgDMAKoAQwDi/4P/SP+b/z0A1QDcADAAX//L/uH+IP9n/6v/Sf94/tX9yP3I/an93f0W/s79RP01/Xn99/2I/uL+5P47/oz92f3o/tj/XwBvAPT/Kf/W/l//6P/l/8X/q/+M/y//0v6t/q3+Df+I/wsAaAAvAMf/8v+4AFsBrwE8ApsCsQK/AuoC1wJdAkoCqAJKA3YDCQNOAnAByACPAP8AcQFcATgBSAErAcEAGQDq/wQAbQA5AbQBqQG/AAMA4v8SAFAAXgBBANj/gP9y/4v/mP+E/3P/Z/85/wD/9f7m/sL+WP+x/4T/JP+O/jj+1/39/YP+7/71/tD+z/5e/q/9p/1Y/vP+If+c/7n/GP/q/jP/hv9q/0r/Pv91/4P/FP8O/93+h/7L/p//XAA6ANf/rP9s/4X/0v8QAPb/rf98/5r/m//p/nv+j/4H/6j/jQAOAbIAWQBTAEcASgDDABEBNAGiAfQB9AHPAbUBQgKGAtQCCAOLAggCJAFSAcYBlQGXAdUBbQEJAfkApACWABcA//88AMb/Sf/6/un+V/9V/7//kP+Z/sD+K/+3/xkAaACo/yP/lf/C/6UACgGFAD4Auv9w/6X/4f8FAN3/bv/A/qD+P/4s/jL+A/5E/kH+3f6y/yMAUQBfANH/g/9V/7f/iQAjAOv/Hv9s/kz+M/7H/q3+2v5x/67/dgBbAGgAUgBnAPkAIwBGAHwA+P/1/40AOABHAEsA2P8PAIH/CQBWAK8AkgCIAJoAigBs/6b7x/mC9wL4Bv8OBXcJuQ6WDYsJBAezA+YADf7P/oz78/JE+fj/R/trDG0LwgSyDJ3+bv5W+A/z3+8Z8X36N/kIB4ELdAaRBC//pfa08ZH7pf7N/6YPfAmjCnEH4v45/TL22Px3+gEH9QQ5CEYM7QPvAYL6kPwp+Of8zgHgAE0DNwIE/7YA7Pq3/Pf6Cv/3/y0BIgce/6cEJ/3g/2356f6F/m/5IAVm/Mr84f9JAdj4KwD2A+f8IAGABu38Fv1cA8z6Jv1NBWn/I/82DF/9xADWA3f8yvyqAREEQf06CB4CWwI0BF4BNgJb/5EFHf+U/pQCzPo7/bkATv8I/xoBN/+z+zv83vIs/CH8DPnwBtv9dgPPACz7bgOk+rb9/f+/AgEGLAKLB/UC7ACpAHv/nP/OAS8KKAKqBbEDZPn3/kv63/vM/g79AAPDAIP/qAH3+tX4Wf9FAOv+cAjLAdb9RgYp/Xv7oP02/o4AnACOBjQG6AE6B9P6rPS1AyT98/glC70C0u4QBe/93vWxBKv84P31/CkEggGfAbwCePsVA5YAH/1w/1sIMgDK96gJmAM1/BQKbf0/++gBpf2gA5cCwAEE/R/+zfzd/CUE9/7x/4L+qAIFBE35GwK4/lX46QIDAJD6SwaLBlj1IgJLBIv7YfpYBPAEtu+IC0UI8/TnCQT89vPvB+ECdfb9C9sHS/D9D2QDPPSPBMb7bQMT9JQRAQbE8iQaePG3810Jn/vl7ocO6Atu6wcbuPm+8qoPDO+R9TcPWPrf9W0Ze/0o75wF6P4V8uYE2wbY/DMBBgIQ+EwFuQO/714Mef3/+AL/oguRAbb13g/09G/+1gIIAqsOQfNvBawBBfSxDqz8z/8tAWf8+flIBfgOm+YxEuwJut81EMsEXvJCAA4Lx/V3+CkTd+4jAyQRM+fqCSEO4e9ZBsUI6u7f9ywdG+819+cbEO98/+4I5/eFBKz+YfWWE7D1EfpZD+bzwwuk/uP2bwlrAYr4MQNZAKL5aQmX/9n8pwhs9iEGN/fNBDANTODSIG/4FedLHoDxqvfTFbju0fLXExjxaAX+CIDwlwQiCI73zADNBrz7DfJjDTQA0u8DF1v2NPqVCiYCp/CQB7cJ9e5ICUYJU/09BPkDJvfmBeP1EwDLDirv8wSfEwjipRcDB6vZNicI79rr+hl0/BPzUAcxCu7dEBKLEaff2wqRBDkD4+d8IXkK6NFmKtjspPHKFAQAPPMOAlQRgu+xAmsIjfm3+TULrgM551MczQaQ3EYp/uRh8CUe1/BEDfX1qQoY9VMD/RK08h0Q2dxrGhwBAuV8KgPjQwHEBev36wQTBs4I/en9/voJqe47/wYbKu6v8u8bOeWV++YpHeKbAOQCovYrAFkMfA605zgUivFF/HUJAgR5+OjxXyZG5B0I3hcD2iQNOQLK+tgBIgQZCRTvmA03ABr9lP/17boWLe3gAXwgHd0UE8v6Nu8nGEPo+QCJEnz4yfVaGBXqzPsTFh/nmAyiBPry7AraAATwgwh4BED/wgBg/n7+VPqdDLYEze2NCzj+6fdCDmT2MwZ8/A4EawJx/i8J6vQl+cYG+QFi/ewKOQXg9Z75zPwaBuQLTOedDHgDjO/JEun7Ifqf+bwGZ/RxBycO6uTGFU0D/97RBfUX2/b08/gj9+6K6Cod2O1kAbUbyNwhBfwZy+k1BNQR1+4p9u8XBe8TEfD4IvAAHjrY5h2I+3Lh2DE73bT0kyzx7YLuYxTGAE3sMQx+EQ/s0fY4DKj7df+NFX/sk/nTGQzYhBLlGejezw88+qMBpQb99fIGlvuk9roCwgz39YwJ8QYH4nQWaQUL4wAbggGU8Tf5BQs+Bon4ngoe8xAH5vcxCcsFGfPgBtPxlBLu+jr0PBF38yUFCPi1/0AWoOTqCs8Ni+etBBUOS+0cBqEYPtyhECUNEOjLCwsKXPt56G0Z1/9W5TEhH/i541Yltvtb2i4tRflV2kEoqfYn49ElnvMK7S8VQvkH+WQLwAOe3zYaIgMR6BkgOfXv7yMTxv1a9TYQXvNtAKgLLfGC+Xgh3eZI8j8rYtGjG3f/8ejvJiDkSwTECBL6mQGkAvP/JfeACL76Jf8wCtD0pAN4CcTxywth/sD0tA3p9pAA6fk8DcDwWwghDRPa2ylQ7LjyjyNU5i0C3hTe43P/8hHEAvrplg8xBj7sjhg86L4SnOIKHjoBJeMkMgLMpRK+FMPZ7hREFDnLWyVvFJ3ICi/PAr/LrSqe9jfvkC1P5B/6dQcNCWLoIhF7Bprm6g/aC7/w3fjOIfzHOScyADbnBygf4GsGdgEyAYPyQhKU9jT5lQ1M7ZIQgAh46W8Jsw0M3NUkJPaH79EUH/b1+iME3w6z42Eez/GT8iQfPO0V+EcWf/T38tgZX+pmDiP8AwSA8/sFxxiz0WAjIPkI43gosOqE/NAZMt1zDkoCKf4bB+/8ZQRy854NLvHxDhvuDgFfEpLjzxMdDSHlrgmgDi3WjjGe757k1ynw39sHTAp5+rT7GAhVACLzyhnd+FPughnE8CX+nA+y94H0VApHBRbffi607h3tDCbE3FQJ4Qv9+I32FgFNAi7zARsU9i/0Mhg55HYGExXD7KoK6PQeAj4GafGHEJ/7ovwhADUHAPYxDcn9nuTJK9fd8AXBGF/h4A/S9pMGXgHN+NoRLOioC00LVuJBLSrfmwIcEOHq8ROm4j4qsdMcFTUS3s1MPdXZQwBoE8Ps9gcHA/v8I/kvBfj+NPoqBwMBOPfOBsIExu4ZCjsDtfOnEFfrERs48vz4yRnm2/ITUAQ57wkP1QLF9LcMegFt+OT11BJM7I4LYQ+k4+oPnQKpAYfk7CDS6zb4TyGx49wCSRLZ6asJUQ9M2Hce5vcH+ooLBv8v9z8L/ffG8+ERX+5DBuQQxfd48BMcUucmCFQOhOp7+7YSL/wk784x5dBX/7ou/8B8Kb3+Wd7UNWXLuiZZ9OHxvR4c16EidO0jBcgAAf5MCEbp5BS1/F/xOxeT8LD/qwAMCnv4w/R+HkrWfCNP9U3yzxto57wEHwLq+xD/hgvw7HIYKe8Y+18jkdmdDUITD9jrGzED8t6GJlH3Te6ZDsMC7f1a+fQHUAm93m8oZfZU31cuv+DR/nwf0+Sk+3UcweMHEV75mwD9+DL+nhC45JAaVvD9+8oE2vwfBq/3/gGDC4fieyTc60r6yhr95fYR9O4oHqLkhgu5AfH3NwC3DU35MviiE8Lqbw/T9DsSsdvaJ/Ducva3Gxbj5Qty/RUIOu7tEZbzpAjV9jgG9vvz/xEELffDF5jdqR5o9xXznhhs5UoLdAXM+gL7nQSeB3vmgRir+DH3vgz68MsXqO6wAkUKaud3JLjjwf5eHGnWShyX9a8MBvXS/5YYd+C7GerrtwduAtzv7hJ/+p36MRNi7/kFjA0r3B8jE/MY7Ugcw+QFE5P4tfSfG0HbFR5d7VT/wxQj3ZclCeauBCAPK+lXCxoE8PDGDO0Oq+ZqFa8F2OfuE4n4r/7DBVzx+Qy1+qEH7vyO+gsI5fn7+hgLLgFl7o8TfPKA/ooIzPBlEZTtPwYdD+vuTQyf+hT/IftSEhLuMgWPDWXi4yZl4dsMeAIP8tQIz/jnBL/8FhLE5owWA/l79D0S1PCW/J8QMOkHEiwAKO4yHM3j6BGrA331GgHiDuTgvCKL84Txyydoyzsqg+YiDKYB8/LqFNfjjR2M5n4BHxdI4WEbk+98+Xwb3tXAI/Twhe9TJJngVAoeBXH1GQUjAG0OFuEhGrb+3eM3NzTUAwsDCtLwtwym9jISgu0ACtwGDe8QFrHvAwDSCmfttRPR2o8uMtyb/iAov8JNQmjOfRP0C4fkLBx26UIPbvts+HwDiwVh/SMA9AMk//P1/xK+8oP8AAgL+tYAbQXh9xwIIfrJ+3ETxd//K5fO6SJP+RvlYjlJs7hLMM5ICDYr97OwR/7X2AL1HSPV+C004VwDERUE3KAm7OFlCS8JFew2FpXtpQ6c9LMCTv8u+gwMBe1QEYf6N/lyBlUBW/8l9xQW9+X4Dxn9PPDTJUXSmCDA9bT15xwr2VgjHPG8+SIZvuriC9r3pAGaC/3pcRY19zf9lgEi/IQPWeCiG0T4Xe5gJQvf1QigEvjidAfJC2fzovnxGBnqoAqnAO/4rxG75u0au+CTFrj9u+jaK17Nmyoj53n8OirUuRY/Id0F/8obR9pBMIzKfS9S5+7xkT92owlObuRM3jlLIbT+NkHnp/uaG8vYSydZ2u8f6+mp/VwaqOD6Fnf2T/iGDhv7FPGVF9zu7P2+EXzrzAuvAUH1vhDU5a4crvDZ7581Z7zHLB37IuRaJ/bmEw0A8A8RMPWtAP4Mze5wDrfytxCt8V0B1hXa2HohkPYl8g8aO+vfCZn8kgb/+6YAtwJM+hP8ggEZCIz1qgILAIwFXPAWGQfq2P9UGJPRryUQ+FDz+RBZ9PgECP34ApABn/zfAgb9wAcc/B32Cxio5VkF2hce0i4n/fxn3IY8Hc0VF6oHMOdpJsTSWilR3c4Rm/RJBQQK1eA9OzG4Cz8N5JL2dyCL01Ul5dwXI33t/vPNKHvGtTcd36v35zFctwtMgsU/Ja7yhOxYMrG0mElVvTUo6vfR7b4o8tXLJhjm1QvMAvnxCBNB8KwK7vcY/ncPEurfGhDjWxtP77IC2xB64nAjlNiSHwjqSgxc+wT72hGl4h8fx+7/+7YMcfUh+44XGOIvFnn7Q/ErE8HxMQ396doYjOw4C9IGquUTKgDcDgUEELHo/xEO+Z75BBm54O4Y5/5E6/8ljMn9NhHY7wleGjDLMEIhw8orePen5octa9QuF2QBIuYTJbviUQYJFG3Z2SfK3gUb2+yuA1wPFODEK6zTMiNj634GOwac4R0xhcwIH8AIbtR3NYbdtgQQGlTPCTSv2mwI1SBJwwE+e9W1COsVt+CUI2TZyCKK6Z/7ySTKzJsnw/v94kkgvvJ99joTVO2WCCkEf/D+HInaPiBx9ebjgTMR0YAbgP4N9rINeO4JFOPrnANyFuDbJBXACBfhuiPU6HYKVfYnBsEC9+iDLVrQbCPt84bsxi6Kwy45rt3m/V8rpr4VPyjZtRF++hvwQyqTwSo+Yt5y/rMd2dXmJB7pVQLGCzDrfxkZ6wcLKAS84v8pZNgkGPEAat85MEziRgQuFPDlBhAW9ZYAHBDU4uwltM5QNFDi2fTaPqeZ0nCWpIolYCBEpFxzupt2Ox7wR+twL7TBo0D/xj8tM+k+7g487bMJRBTVywX9FZveThyV76cLU+1JF8Tw7AvJ/Gz42gbu/Fv+ifv/FkTUoDIR2CUMKBUn0Lkz/NcYFNgDCerxHy/o3QhxCVHicyD5628LEf71+HYP5uQNJLriuAeSC/bt0QgECgvswgt2CUHhPiOw4LERAQC76PUss8woJ3b29+1lIxbV3itJ2GYh8u6z7r40Hrv7QQfaPPpjJsXMxiq26x/96RFG7icIPP+bAszvuw9n/EXwtR475UkMsw6x2k0mteqp/ckTueRiH2bmGg/99hwHdP+C8AchBNYSIzLz4fWGG47arR7P9X3zshmF2MEu0dvuDp8RUNEYPD7K6yDp9Xn5aQxP9uIKreoMJY3bWwmwEinhQBY+CVPcjCn65U/9OBxS2uMfJebOD379fvcVESPvBgr68fQVwPAJ+iwc4tWAJi3yDO8lKR/PhSUa7e8C8w8f2wAvydwzEgP56fsVD9fhoi0e0HMgufYg6uw2LL/wLuzoNv5nH9vKhjhb2iD/lSSayjIqHPRv7ZokAd/UFtjyzQWDAujvEh8P2h0bp/ki8LQgi+ENC6YODN7dIeftufvMGiHVQyyO6BbzHSlozuYdKgFC44Urfd5JEGkFLvKQDEn1lgE1AT8FH+6RGlbsdf9GFJbsfwEyER/pEw8xBJ3r0xvR6JQDrwg7+Yry7ySoz+ckAwD52/k5CMxcHlLv/wzP8HwH+P59/P8IY/AdGwfd4SOC4/8Qaf7x9YsNY/e1BRH2UQtn8KAOfPN3Bg8EdPon/fcTHuZIEUEBCuzTGlbiUxvF5GoekN9NFQoFsOffIqfcRyE/3KIkSuF6E0z5s/5qCUDlHy3Gv3JEh9EQCiIbCNIlLHHiMBL18U0CCgoy6dIeVuTED40ARfJEFoTjtSUt148dgvU0+XQWROKcGQntlQ7k6/gd296GGCD4l/VmFSXrsgrg+xsNfN1jNeTJTiK3+7zwBhUc7yIPiuq5Ia7X6x2k7xELEvA0HRrcdxcYAwndYDwFtJhNKrtNNDvmXPqMIyrGVz/XysAkwu+WAosEnvrAArcGAu05HqrfTA1tE5DJfEhcvCYsQ+/MARQLFeSKMJ/AHDfs5ZT0FCd9zsEn4OpPBK8M++UDIS3kSxYC85wBlAq24xsr/NLFF88JT9nALjzc2Q7g//T6lQwK7TMaqd5IHV3wLf1jDAzvsxB4+HL/BgPqCOnoBSBj4UcOJgkO6LMZnOgaDoD5wgA/Bjbw7xV17cUFuBDJ1k89q8BTIxcN9sC2VfO0qC1Q9RDuVyn2yC4zX+e/9c8o2sWxNEfjwfVALT67gk3TulEpQwlkyplLWbbROdba1AGkJY7DOz9S1JQJZR91wLJLh8DQFgAakMLiVAurDD7s59Lt9zAYukhIk8nxFRsPl9heMrbRcB0k/pbdSToFwHwwo/Us33BAY7kANCPrP/lYD83z6glc8UAXSOVuFdb2dPs2BlcEPPPGClsCx+6IGA7pSA1Z/3L5jQXg+6wC7/27AAkFBfdmC6XvphKP967wMyusxpgrreuY+mokHsnnMzThrP/mH73QlSgb8arsKSKN5asHcQSWAKD21QaRAx/ztQ5O9j7/cgla+gn1cB4N3A0XFwEZ4oYxBsk2LMzxMfGsJK3OZTHS2wQGdxl/0FgtM+L8E5r49fcZHXHLkz02zQEWxRIczS47/tDtGxj3WfogDvrrtBab6XET6fQUBD4B+Pa0ERHmdhxz7D8A+hQT2c8nfuiaBPoRNt5tIm/kTQ/1Atzshh4j2n8g0/Wn7nck5NmrFxT4uvvWDoPxugph83YJ0PwD+XkS2/EX+yYWD+R8E8YAYem8IaLlnwEFF4TkAhEDBa/h/ymu3yUE7xZB39YdDecVEi/0VgamAj7wASHG0eAry+XM+xsjqM4uLx/jOf+qGHPgmBnB7gUFBgdT9FgOSfIYDNf0PQjl+gH/UwoY7eISu/cd+f4LT/qw97gTNeoKGUPsUf+mGQ3aAR9F7F0FAgL9CI/p2xPXAjDd6DAX30EHsAa0/P76LQwP9ar8exIi4gsZK/fbAOcENPdBCDQAefMPE/nvzwIZCMr1hg/z6wAWSuV8I+LZQRO1C6jVQDr+vzVB0NGoDowXQ8tqQD3BUykP7Cn/ZBLD4CcyPsdYJ7AABtlvOHfGYyf3+APnHjPdwuosy/JG8Noen+bUCBH9/w036TwU+vuV7TYaWO6w/5UPW/DnA5cKw+qYFnTv5QSzDvzhsx+r83L21BXo5mEOyvieAGsK1vDHFXTkFRsK9kDrlyMn3MMZ5fbi+/IStOGjG2buugHTBwbpcCMB5DYOPAgC7UEW9eZrFXz0UvxyBID65BHn6AkN/QU57iMPs/uu+PUVnuDaEbwDbe6aCJb6wBBz55gZefM1/+QS4d87GSv8Qe9CFsrzn/6YB9T2UBCz6zQKPP4j/SkIcfDXGBfqmwE2Dl3pvxVB7RIFpQ/w5IIasPCLDTL7GviHEZPtYAdC9TUXyOirB4sQKue2FL/1ZffjCpv6+e/TEq4CcfGHFDr3TPR3E5TwUgoA+X78eQ29+G4GXvivCUz16wsV+eYAfAsb6qQQy/mU8OIROvDlBY4K7vGTFo7q4g7s+Dz4VQmU7AYXLvnF+3YPWf0n+rsIgPUuA+0Axv6lADQG2fFwAa8Ig++VFYruvw0LA3Tr3g5j/Rry1wsH/Y/6PAxb/pYFQAGRAU75zgqS7esMQPvw9aAUv+m6Edj8KfXMBB0H//o7/6gIvPON/V8Hyfno/y78nQA8CrD7dA+t8b4Mm/wO7qoRafqN/d//tQjF86UNLfsE+VoPyuVXCxsL0em3D93/Y+6qF8nwA/7sEurpHAglGAzfzRG9ASvmOi491VsOhxQJ3asV0wTp78oDPA0n5mYUq/5q7PEcR/Jo8aQaWuV1B+QMt+wYGjfuVAH6DyL1AfjZDc33mPcEEEn1DQeuB+TxIwpL+fj3WA2m7QcTJfEkA5cUC+cSDzn8bfqu/TcKUfco/usQCO5kDk0CA/NvCef7R/taA3r+HP5kCO73yQOgBwLxOxQG73X/fxGA48YTz/wb9ScJ7gBj+c4G0Q1+6a4R8vNU/r0WKOR9FJ768e1XFPfy+QcwACLwmwt1A4H+8fvpFozmVv2bGKviShJ/98/7VwkB+UEDqAKsAGD2AAvT+yf5pQtD+pb+UQeH+2EFJffy/qUM5vaU+Y4J3/2E9nQL2vyi/4n9pABJCgX2GvlpDDn5Y/ZDE+j6/geG+RbwCxJD9OP7iwnc+9b3BQmYCdz5CAna+HgIiADQ8MkQ6/Fh+yAH/PoLAQ/7bwaO/RP+EgnFAJT/IQK3/0b8uANB/NP7KwTZ86f8gQ7y+NL/DA7d9DYCTQYCA1MCkfbvAXgC0v0bAGwBXPvc+i38pwZIBIr46wDJBW/8CQPwBxv8zPtI/ZwHgQTZ9qv9HwCd+lQB1AIm/oH7wgaMBiMHCQD59dUJffuz9LUFWwBA8m4FqAlH/fsCVfv7A20F0/g//jMJt/Ql+fcMrPtfBRr82wAHCFvyFAVCBOb40fo3B6YCZP8PAB/+oASJ/AoFcwIw/Ub6tAOHAfr7T//Q/I4CRfutAlACZP6t/yACBQUC+/n/YQYs/8QAyv5R/dL70/pH/OEBxwSX/bIMzwHk/2gBhfkQBPn4zPljAQ8BkP7OB+YAHfprAun4mwN+Bbn3YwToBPz+HwWl/mj4yP3x/zL76QYw/egASgul/CIErvs2/kf8Q/8BAk/+gwaa/SoA8f+iAwn6jfz8+4L+LwqMAm8FaPxsAID82P0MBWj/5f2kABL/HwdnBdrxs/16/Bf8HAeuCI4C/v7P/nADAgKk+bz4Af66AeQE5wsT/oL88va0/5oBCPy8AuL6+AUzAdgCQgYc+ZL9vgKi/qv/SgEdAK0BB/xi+eEB8Pvd/xwGuQIZBXIAAQkc/kv6ivRj9+gBC/b4DAAEAgATBGMAigW3+NABKvki/p8CVQEODO39Nf/b+EX48v7K/lkFevwiADsGhwJIAqH9A//K+FL/bQvuAtgA/v5V/OD7b/no+88IiwID/m4Krf6U+Pr/RfhQ/vkA8PsXDXEFMwJRCEj6XPWp+47/qQEnAdT/4wYuAVP7g/0//LH70P3gBcEN2grFATj/9/zO9Yz4bfxB/Sj+1f1uAz0EgwNaAPj+ywOP//sGGQj2/pv/xPbR/Xf4pvw2Ae37VQZ3A4cM0ARK/6n88f00/cv7NgbhAW8AlfY4++QDDPoI+zoBuQDvBcwHfwi3A6n+g/kQ+6r8sgGvDD8C/AP7/Pf6IP5M/ab4lvl2/EX79QwLBw8HgQDF+gYAVf2//yYEgQNL/egC8P6l/K/8rvpL+gwBsAFgA0QGhPnX//T5tPqdBB7/dgkgCDMB9/66+Nb2jPaf+aP7VQWYCbYJfwzy/9D8tPpZ9hL/H/jn/FIJ1gCyApoB2ADT/BL7AQGW/yEIlATk/O4ANP3P+wICr/7c/Bz7kfx1/B76gAJwAYX+DQgsDhML+QP4/WsAmPk0+3L6zP8F/+z1tAKG+vT7Y/lh+3YGkwTZCQQJwAvq/gf4Zfq0/ZECgPgIAL4DzgJkAesBsADF/zICgQHjDXYFzQKm/035ufQn+Nr+hPz3AdL+zgHr/mgGFAJzAdkAW/gHCbQKBghp/0/5uP7u/gv/MQKq/xj2uvTb/aYDCgZa/2n+DglXBsz9TATmANn5sPx6+4EFifuu/wYDR/5iBfL7RwSAAlv89gAm/ksCgQLx/NwDuPul+38BmABkBzj9dvv3+IMAHQJn/oMCugAJBcwAhQB1AO771/lz/rH5SAEKAtMAGwjj/nwBe/u+/Tf65fxCAmQBXAkcBLMCuwA5+yP2Rvez937+DP60BBoHCAXIDFQClwd0/mD5Tf6m+mgBbfn8/Dv4JvS6AvcKAA3R/Ir/1wEc/lgIYQUU/mnxMvVcBigJXf6y9Wn27vkBAWgMYRVBAEH11QKdA/4D+wHu+231W/ME/ZILzQWq/cr8QPr+BNsKvwfa/6n6Mfm/Bu0EcQTLBRz6pwKD/c8EAvtw9ML8Qf44A6z+IwoPBRD/7f2e/zQE3vuH+xUEBgGl/okB1wI7Amb94f94/xoBbP74AEwCEf0d/Pn7U/wa/3X/1gLuBsYCvAZF+BD77f8BAtYGpftNBUUFWwYqAdb+2Pl39d7+kwFOCb7+//k8ANf9ofxp/er6yP8TBqQMZwihAZ75SfRXAU/9GQRC/N/79wIV/MkADfsQ/nP5uPvcA9sGEQRs/Mz69PoU+i8AvgRGAiMIVwFxAUEAaPrL+cL4wP34AcoAdwYIAyb+FQFF/LL/6vnSCDcGh/94/635AwTD/v39vvi6AFb+YAOlDJAFUAHS+Vb92gIVCHIBR/35/3EAdPwQAuIB5/7O/rL+HwgbCaEDFf5o/nb0LPr2/9j9KARt/J0A3ARJBjoGdv35/Dr8sgVwCpQC+f18+RD7VvRP+sP8JPgzANP+5Qp0CNQFbAPz++T/CfxBCuUBq/tt/E/5jASM/wIDmAGi+0EE8QQlAGz8rPGb+Kv+uwdaDrcGu/x08+MFfwJTAW7/vPPP//oDOAxyDgv/TfXH9pYBGgXo+qP36/eV/qcCDAarAfX5qQAQAvwJiAWY+gj9M/+H//X/JwCL+9D7if9nBZsHPgI/+uP3ifrz9mH+PwXNA0AEmf4gBH8C5/di/Cz9GP1d/BcClQ5rCjcCe/87/wj8iPU0+UH+eQGb/gz7OAN5AWkHsQps//b+Wfq6//EDAAGe/2v4Av79A0gFoQH8/ov7yfyy/pX6pgEtAwYGKgCG/fD/MgMuBHf8qQVL/Ub5bf3cAUIKF/5VAEIE9//H//8BjQfg/DH4Yf7bBnMMVwLnAf332vbBBkcHJATI+k0AdQVJB7sGafsn+Jzwi/0MDmICcfoI+Tv9EQPeAAoBigSVCWD+wgDqA9H5hvuF80j7TQFAACoAbv7k/ub3oPUnAJoGZgTOBgwD7ACn+Yn86vyD+Z/7TvWBAqwFyQbJCNf+S//5+eEA2gjiAp37kfiP/P37bP30AWoGaQAJ/TQAtQQaAbz9igHU/bECkAQACQUFOvqxA7L+/frT/xv7dAHG/jkCYAEp/JH7Ffl5Auz/sQGzAxQHBAWGA7UA1vtW/J/++QA3/4b/ePTWAOkBcf1GAVYBTwJl/PUDnQK5/uL9lwRRB/r83fWj/tsG4ARJBSL+ZPwe/AcEjQ9CB3j+cvgX+oz+cwG5AUX1evsoAikFVQdx/TgEsf/gAnALGwDN/Wb0p/oUAPr9wP6D930BvgO3B30EhQA8BbX4qv56BDb9OADm/HT9t/3F+br5AgB/C/QEsgYKB3j8wvgi9Zf3Qf02AxcJRAhRBLj/nvmF/o/7u/ld/AcCvQggATABAP9W+XD4o/2//3ID2AcXBLsHLgHI/JAARQAt/cP5nv5JAtL9YfwNAeH7ewAfAtYF9wdZ+Hf3HvWJ/XX/SP1vAC4AjgX1B08LAf+X/kD/Pv1BA5IDjv+m+Jn7qvsiAWz73/Vy/nYAlAIFBLwJsgN6AfsC5gWUDdT/Pf4/+dD1svcY9FcEBgNUA2cG2wN0CokB/P1T/pz9lf8f/sQH/gILBTEEgPwzBPX25gGvASb9mQld/ikBnf+zAGwDwfv4+cb3IfpkBJAEpgJ4BVsI0AjpAWT/S/fU/DkAK/xWAv7+rfobBvcJ6Ptf9OTvrPam/9MOFA5GBIIBCf6UAbP4tfd39yv89vzf+w0GpwkNASr6efg5+Xj/QwPbCRsCOvwy+nYAVwXP/+n8YPic+08DLgchBsQAUfaP+Q8BBAcYBjYBJ/rD9o39lgWfCIoEa/+J+8//ZwJsCtoAmPMT8/X6QgsSDGcDovjL+Q/+xwFFBu0AFfre+6wCTwwTC8r6L/Kz9EP6CAC4BYkEDgCO//sBkQrWBq39sPr3+LH9Mf4GBTUDcv5T/nL99QGhAOL/Cf1f90/2oP9cAe8HCAhJC7sLx/zz/F/5k/8A+vD7+gCV/TcD7QEJC5AJTPyU97T4yAOpCZcADgDh9/n28/uCAt0HT/+F/3b9EwWQCOkClwGL/Nr/bwq2B+n/2vT68NH4gwLFB2QCzwK2/5ACbgJjAvT/F/VJ+P3/Sw6mDl4DZv6T+iT6NP1pAaf81/q0/sQKyA8pBGb/1/ktANYArP9y/2P0QfUX/J8CUgOmCboD0vo+/mUDMAcrBBYBQP7x/1b+J/i7+jj61/Sa/Lv+5f/OAxgHxQYZAVj/O/h++7QFrgJ3/RT5Yvv0/6P+8/+n9pP4Bv4sB7gPMg5wAZXxr/mO+YIA7vuF+sH9s/6FCGUDDApn/sLxa/07AmsI4wOe/or+sPc7BxkIvAhE/6/znvxH+/MJKgCZAmP9avYAC5gJ7wqW+jP0h/uh+pELlwjIAnMFXfcwAEP/B/9nAYX9kgfv/1gBHv/2+/f5Bvj1AdgC1wP7A4QB7AH6/Dz7cv2j+Cf9w/9JBqcDGPw8AAAAQgYGAzQAH/ui/OUAhP+nBZP/efkb9gj8AwIyAn3+KvslA7MHnAiZBjEHsP8a9335Zvqq/sP/OvuzAa4DmwF0/2v6agP8AIYE4AuyCYUD4var/K/9iP5n/Wj+sgdH/0L84gAZAsEAhfuz/VECxAW5CWoFMP7e9ZP0+f16BVIDHf9c/Yf80QZxC5ID8/we/MD7FPqj/3j+ePna/Zb/rwMlB4YBN/+S/FH9Nv5T+84CngN3B3cK/P1o/cD34PYt+lD5BwBX/IcDRgduBwQMLwM0/zD1PPlDAnP+gAYjAooGXwQH/wcFpPMS9mb0d/iaBiMDPgvwA/4E9Qce/WP/kvvn/+4B+v9+BUL+Av9g+Ar6uwQa/xwCZQH3A7f/YP+JBgAAkP5u/bL+8wMRBo8F0/8d/Aj8qfpa/7n+rP+g/cL+7gGA+1j/4v2VA3EFnwQRB+UC//yy9VX8XP9i/hcAzv/Z/iMDSgQxARj3W/J2/BMGSRDcCz8Hmf3P88n0gfXA/G78u/uk/qcAdwbLBoUGLAWV/vMCFwOrB/YKePzQ9Bzu5fMK9oz2CQEuABEGmgaFCM0SbwnGABX/WP/X/p73M/ka+X789/6oApkJfQIRAAD9jgKYBAj/KARXAu4ELwOh+w794Pls+cX43/eSAQ4HrwwkCPsB7v7z9xP/6vem9y4BqgNOEGkOHQgOAlb41/S67jrunPP+/d8LNgpqCrcJcQKDAbUASQHV+JT4df4TBNAD8vY593D5afziAKoHZg7EBkMHhArKAib/pPZW9lb8SPZL92j8HQQvA9z9qgSKAscDmgVvAxkHLv5//+X/FP3y/xP38P2dAeUBPAKh/MUBAwMUBAUB1vsv/MH7D/4cCNQO1gXa+rv10/RV9vP5NAL+A2gBfAVuDyYUYAeu9yvsdeui9oD+FwVxBFoDDgbCByIIcgGo/DL2qvY7/kYDHwUn/gP+nfxo+1wA/wMlA1X+OAMJCkQJjQP+/Kj3j/xJ/tb5LvsK/60EFQV1BsYBVvus/GD+9f+pAUH7rvgRAgP/L/+sBWsDoPnP95MDoga1B6IIVQY0Afn5evcX9W74M/oe/x4LVweHAsf+sABoAO/69gQnA60G/gU++sz7WvhN+7f4mf0BBWED9hGtDBgIYP6n7izz/fgDDKgH1QO2Ahj5UQA1+Xj+SgB4AP4JxAm+DaMDTv4w9grvifX7+EEAUQCRCA0G5QHOBCH+4gJ8/HX7lQL8ADUCLAE2BIP8KvXi/+T+J/63ARcELQIo/bL/Zv2EAHP7V/dj+ir/jgJbAFQCw/tDAlQMlAvtBtf+1fZM8fD2jv4TA1UBJ/12AF4EHQU2AnkBSf9/+KQEcw+cDmUF6fq4+MrxJ/fB+MX2p/pu/w8IVwxRDWUFZAB0AdsA2AHpAA77PPvK/wr+kfva/Sb99ffG+o7/kgE1BIAHTgThAQUEMv/8/PT+5fpg/b4Axfei/D/+ogA4BFQBPQlG/2/8Xv3W+cX/6QAQB2cLZwiTASUAuAEz+/TzOfac9zD9dwczC3QKGP8X9sH1Cv97BMMFhAb4BV4IngZABV770PSo8m36qwasCO8HrgXBAS/8i/y7/UwBY/wV/kECiv8J/cP3Wfml+E790gVxC4gNkQkcA0QDGQCS/MP3nPW2+9f/BwdDBK/+ivZT8LrwBvl3ALgE3QmrCH0JqguoC8gArPjB8p3w/fsNCZULaQRz/Yz6o/tq/Cz6ePUy+wUDPwj3EdwPUAFZ9Z3vrPgsBDUExP8V/Z7/ggGwBagIIgDm9E/5AwO/CtkHMgUIA4L3nPoN+tf+oP8l+3f8/P2pCJEH3Aj5CDgCEQBoAqQAS/pI9kXzK/khBEMLGgkoB5UBm/oJ+l/6dvr5/iYEeQOwBykKGAUoArr8bfS39/P+KgKYAmgAVvvf+KUCvAViAUQFlgF7/nb/NPx1+cz3mvwp+9AD6gt8Ch8J2gA++af0wfua+nT9JgZjASP+GgG9/3n4JPQe8+L3ZP/AB00MgRBXElMLdQIQ+k7x1+yz7hL4zQHKBe4G7QUUB+P+cfp2/D3+3wOhA98Jugjl/7r2H/U6+U/2DwBsBTsHrgViArD+X/qY/pT/OgY+DNEKsQP/AAv70vOg78r0XP+yBDgQ0g00EAkMpv7l+4v51/sx/EYEXAhmBHUCVACG//j9ZPvg+GD8jQGDB1cJ4gbxAhL/Rvx1/AgAjv13/ID7Dv/7ANwDCQV2AtQCGgBlBJEE6AMR+vz2ZPtm/Q4CmP9FBaMDMwkcCkAAdPdD6VjpNe1z9cv9oAQbDQ4RbxL4DUQAk/Sm71Du4PFV+LYBiQJHBFgFVwHU+rP0f/NK9EX5iv4YCTcN5w4EDosJSgPF+eTzoe+18dD2JAC3BPwIAQuLB04CvPkL9lL0k/gy/pcExQwZDBAJvgLF+T/0WO4E71nxavjSAOcIfhHKFAsT4AqJBu3+Wfg58TvuP+9F8Qj6wQPUD9QTqxcKHDob6RSlCH/8HPL47RTyCPgy/DQB8AV+CrMOUw1ABiQDRgOOBH0InQq6B/kCpgGf//T9j/9++n76AgGc/yYCNwX/A8gABf/qASoCUf8J97Ltp+0N8Tf0YP/yBs4Jng0GDp8MlwSs+HjuJO5p8tL0NPlB/Mb5rfho+nv6Df2W/Zf8h//3BpwGZATBAUT8bPpe+s38vfzM/Vr6Ffht+3L/tgGeBIQHKwXfAgICPwCg+x78Gvkd+ZD+0gIwBbMCDARO/bn8q//L/98AAgB4AlT/JgSfAjP8L/oQ+OTzG/Qp+qz3m/se/iYBVwHVBFUG4QKdBm4DXwGgAV7/8fpG+d/3WvlN/JAF7wnyD/gWIhSQEk8LXAQm+QP3P/Qn9wz/NwR+CncNUhPnDowOQwpOBbcBeADrASQCyQQQA3YEsQQeBfEFKQiTCcoJ7QhUCpsEJAIA/mj01e7j5SXs7u4C+Ev/egkHEcwNvA6VBOv7QOxh5TfmJu4j9yMBoweJCcYGbwGfAOX1qPI16zbxx/g7AZkFZQYyB5wAIgH3+i/66vNw9PX0Ef0+AtQBWAX2A+QDOABiAz79Vf8a/j39ewArAV0CugH3BHz/nv+k/kT9GPyX/gH/OQH/Be8EXgQRAbb+APnX+7v6hvrB/aL99P1i/o790fax+JX3ZfhH/J4ACQISAkYCOPvG+db6HvuN/RsEdwWUBt0InwciA1QAeP7K+xAArAUAC+kPfhV/Eb8MXQe7/3P+3/xS/W/++gQeDhISNBOrEZIKCgm4ByYGkAa6A6cHJgm1DSMQ9QqwCPYGHAWDAJ31o+ub6Y/qrO618Uf5fP05AB4FIwRD/5Lz/PDF7/7ysflI/SQBMQNCCUcHaAVOAdz59fTB767xjPIM8+7zfve3/sr/FgOKBNwCE//A/gABs/y//Rn9qf4gABADPwM4AYkDcf4O/iv9t/3k/Lz93QCd/9sALwO5BfsEzwQEAw4EmgNNA8ICaQHk/7n5kvqW+1n6Hvgn+pH78/u8//7+W/4Y/eb8Yfvm/OL+//qk+tz8Ff5FAEQCZf/1/KX7lfpV+nH7Vvz0+gkAKQaECA4LMwq3BmoE1AI+AgsB1QFkAt0CwAZBCQQLkAoDC6kLFAw3DYcMrwuRCYMGKQa0B8UKBw1tDbMOOws6Cu0HJQhQDP4LUBDNDWMFNfXA5XrfaNhp2K7bfOr9+DEEFxLuFX8WJwkBARf7E/Ox8GzstvJe9Ab8PwApA5kEKf8h/Tb2UPdE8BHtDO1p8XP4u/18BrIHgAp5B1oGhgOoAuL9mPv2/cH91f+jAHEEqQGDAycBOv6a/ov+JP44/zwE7AQWCIIHsQU8A90DnwFL/poBsf+B/nP+N/9v/tP75vzz+LT4bvkW+Q78+/sf/gD9AABn/zr+Cf9a/N78mfqS+hH4t/nu+qr6efut+xL8ffqA/An8S/6oACYDXgfsCgALjAikCVAIgQUlA0oBigDQAAYDywaPCsgOLg8VEa4T/xECEYwOkg9pDeYMcQ02C94NqwrvC1cLuww6EBgOzA3qANH2oefo2CLT5tLn11Pd+vCuA+YSshdxHdkZNw66AqD2D/OD5gnmDuqi80r3cvuqAikAk/62+Gr3mu9B7i7tPe929nH9XAWuCX4O4w0CDrcIlAP4/lP6/fZN9uf3TfcD+iEBcAU/CHEKjwmXCC4GHwUdAhAC+wA+AHYC2wR7BOUDGQTMAqcC1//b/kr8hv00+xD75/1e/rb9if0tAYD9Lf5u/vn/Yv/g/nT/jf3u/5H7Dvm493z22PQG9UX36/aM+QH84v5LAWsCDgFY/wAA9P2W/MD/dQGmAr4FzwiMCRoHVgbSAtoAQAFxAvIGOQstELQQrhNEFHQTRxEtDWYM2wmxDAsKhwuKDigOHQ9YEJ0V4hMxEQwIfvsE69fae8w2xmTMCNKf4oj2IA7IGyIjpCitIBYVSAL39XjqtOGl4ZTm5vEV9hj+fAQ5BggE7P2L+d/uHetB6Y/sMPN5/BIGywq8EikUFhWlD3YKzAMU/Zv5jPWY9un2tvqy/noDXAVfBiUHNgeIB2wHCQYyAxoDBgKaAuYBZQMUBBgCfQGx/n/94Pls9yL36/af+AX6Xf+QAsUFAAdZB1AGUwGx/sb55/mz9vP1CvcA+Mn5fvgi+1X4LPgs9qz1N/aW93b6Q/yXAl8EFQa1BUgFNQMX/w/8zvfJ9vn2PfiH/eUClAe6C9APmxLVEYAPBAymCakHRAe4Bv4JjgzIDwQVeBZrFiUUiROvEWcQfg8/D9sN8Qw+C5oHPwBG9NTp+Nw1z5HHw89q2lXklvSCCcsarh86JFkhdReJCCz5LvLe6NPiPeIQ65by9vWX/esBagMSAK38TvXi8KHu/OyY8Ir4kgFZBzERWxZ4GEAWPRP1DIoDBfv28dbv+O6E8YP1Gf79BXILFhFyEk4REA3iCGkCAP4l+zj5y/pl/vYB4gJNBTsFSgGo/fz5FPep833y8PUX++YBsQbDCgIOnwwGClEEcf619wzx2e7Q7bbvhvLM9Rb5Jfu4/OP97f2i/R78bPtS/J77wPyU/V7/L/97APIBtgAqAH7+UP4X/CL8pfws/jcB9gKMBXsI6QoXDaQOhA9bD/8NWQ9kDXQMKQxyCwILtQm/CaoIJwmMCRkLEw4aEs4TSRbwGGkYcxZVDxAE3fQx4T/LrL0vvzjFJMxS4K37PBTCIlgtfzIwKWsZOASe+UTr/d3M27Piv+y/7Sj8PAYLDOkJpgQP/lLxcevj4ePi9eda8lr9yQpzGjMijSfpJIAg8RX2B+b4c+/Q6sDlsucs77r4VP/IB04QSxOmErkOPQrcBIr/K/wF+iT72v3hAIoDNAY7B+0D4/8t/YD5PPQv8rr0zfiK/K7/5wN9BwYIJQf1BAADPv2U+QT5Bfdb9enxA/PO8hD1TPei+L78dP4XAcYAsAJfASP/nv7o/Fv8EvuH/JD8g/zb+9r62Pt//gcBogNfB18Lsg+3ENARcxEgEH8MYAcUBCv/evzl+en6qfw//vb/wwB2BdoGDwrXDM4OjA+DD50TcRTaFbUVtBUVFf0SrxCWChAEOfjS6oTcA8tWvl2/F8xO1QHlRgBWGTMmzSwUM4cq1Rn7BVb5de/L41/gaucK9CX1DvxsBicMkgbNAIL81/E57SfoYev48BP9VgZXEHMdDSNUJOoebRkhDEH/dvKn6b7mkeXS6Mzw4/vQAm4IEw85EucOfgr0A8L9AfmM96X3+/mB/ywEWQkGDP8Lggd3ATX7lPP+7Bnq1ut075X0ify6A80IcQrLCnQKcgjHBIH+EPyf+VL4Lvgi+Xj6Z/o8++j6Rfo7+NT1UvQ79dv0ofU9+Hz9+AEyBl8K+gsUDvgMNQ2YCbAHCAWFAsoBUgAEAeL+uf9u/t39V/yV/IH9gP2B/1AAfgMWBdIH6QnIDBYPVA/eD0QOEwz+CO4FQQHF/e39zf24/fwAKQelCtwMDw1rDTsNEAopCZQHL//g5iTYvNwX3jnXJdk67jX+qAgtFdUkBCo8H4IVixDrBgvyH+nc7vntVedx6/z3/ADrBnEKPwi9AzP/mPZN8Vzyj/Mg81750wR2DV0S4BRoFtYTegvy/4n4ifPq61DnGerw7gTyO/gBAV0HaQssDAUL2wkCCS0FvwDIAGz/9/xD/R4BmwF3/y//8Pyr+M7zcPEF8NXwMvV2+SX//AVgDBcSahTMFDwRWgxkBuf/gfv48wPvzur86qfrDe4P9A73O/1HAAYGcwjECs4NaQ2aDtULIgwmCBUGHQTs/jz6B/WO9Hnxr/G584T2zvpu/u0CdgXhCOAIhQdzBkgEzwL9AHQBqQDOAekCgQJEAwYDzwIgADIAG//h/hIAhADVAnkEfgfjB4sKxwyWDBcMkAuWCrYG7ANtAYYBjwEcAikEHwe5CIwIJQh5Arj6gPbQ9ePxre5i8e/2TPoe/bcCiginCgYJnQhgBiMBvvpe+R74lPTJ89b3dP5kAv0F5AYtB0YFPAGb+5j2o/L37eTsE/Dm9En5rv91BjELkwyPDVMNDQolAw/8KvjY9LLx//BI9en5a/26AeUFBwgwCN4GQQNt/Uj4TvMv8pz0svde+tr+bAVLCMQK4gmCCBsEjP88+ov1tvQM8u7zDvcc/RgAAgUfClcL/AvgCGEFoP4u+7v3w/Zv+ND68v1YAUMFwwWnBoUFtgM8AFb+Jfy8+q774vzt/9sCQgdaCUEMDg4TDoQMNwqJCLAFVQURByQLFQ/cE90YlRwqHH8TQAUU9SfjKs/fwurCI8jL0HvjP/wtEf4gHy2JMuEtDCE2EPkCPfcx7Crmb+jY7bHz9/9mCo8Q0hAoDQwEf/qF8krnReKt4m3nAe5G/ZcO3RpnJcwqliqIIlcXJQho+ZHsHeHI29jczOJs68P3mwN1DG4T2BUHFHkPuAjy/7f4FPaL9Pj1svlO/2kErgdGCZ8HyASa/hz5FvQZ8N3uvPDk9Uv8cAVpDGkQvBJOEj4OZQf9/9L3yvGB7insAe3Z8DD1gfkUAIIGgwnGC1YMVQt+CLsE4v8l/OH6IPno+XX81/4HAKUCHQW4BN4DvgJPAVH/Gv4O/a78HP2g/S79Zf2Q/lr/3/7D/av+xf3M/DL8ov2A/l/+YP8I/0QAzP5v/ZL8X/2i/CP7If07/iQAHwFFAh0COwNwAsX/9f8tAVAABwBIA3AEnQRzBbUG6gWMBbsDwgF/AWgBdABHALIBhgHaAgoEEAV3Bc0Gawa1BQsGYwWtBPMEeQWVBHwELQRWBGwEJwT3AUoBcgA5/9P94/yE/OH73vxi/Aj/fgBqAYkBwwK2Aqb/A//O/Un+tPzM+8X7d/3A/gP+eQBwAq0C2QEyAsUBPf/y/Fz60/jo+JT4nvl9+4r+GgH1AxsGcAVEBYoCbgAN/tr77PfR9LD1BPWM9Zj19/eW+VT7YP2r/v8B9wJEBG8EKAWMBMQDkgR5AxgDowHIAHn/Tf5X/A35AviB9u/0W/Q49ib4pvlR/TkBwASBB0cJMAnjB4cGKwS2AXT/Nv0i/Av8KfxR/Fz9bP79/v7/BgHbAbUCBAP3Am8D1gRXBoQHhAi7CD4JuwjiB64GXwZJBkkFKwXmBcoHHwdxBwYJtQV0+njyuPOa8GfoDufx7anzefiwAcILdBJMFOMRmRGbDqgGlf5o/JP4TfFb8e3zZ/m9/sMCqwBsAlMGPQED/Mn6Eflq8q7z8Pf/+1YCSAnBDSwSkRZLE0YP1gvEA2P4kPKI7nvq0eqm7ufy7/mWARgFiQkWDu4N1QnWCKQFIwCe/Qb9q/s7+8X9k/6JAN4ChQLw/w3/lP2U+fT2yfVg9cv2A/vV/koDDwhXC94MfA5CDhwKDwVqANv7mPaS8snvW+9I8CzysPXp+gAA/QI3BsEIkAkQCHkGVgTLANn9QfwA/BD8LP23/nkAHQLAAkwCfQGnAOT+6vwo/Gf8HP2l/o8A6AJ1BZAHNAgbCNsH/gWLA68BJwD//S/8t/tD/JP9vv41AFUCOwQsBckFaAb0BQMFYQRNA8QBvQABAMr+OP7A/eD8VPyh/Hf9+P1H/vX9Yv7r/sD+Rf5c/p7+UP7p/gL/4P4X//D/9v8j/3D+T/3I/Gb8R/xX/IP9zv4RADoCJAQdBXYFlAVxBPUCmwHc/yn+Lv2e/F78Iv25/nYAHwIZA84DWwQDBCgC9ABKAVEAi/4S/o3/XgDlAA4C8ALdAs8BKAGJAFb/9vx8+837/vvi+6z8if7S/6MAqQEkAkcCdwEnALH+4/2y/M76f/oW+7L7kvuT/J79Wv7j/hz/xv9IAGMA7v/RAAsCjwKHAvsCXwNSA28DGwMNArYAbf/D/fj8Ef3q/Jf8dP0I/14AngEBA9ADAgT6A48DPwM1A/kCYAKUAk4CkAE9ARgBzP8y/qH9NvzQ+mT65foH+zL8y/2U/v7/3wHuAmkC3AKoAmwBUQCm/+z+b/7G/or+sP8rAY0BlQF1AnECpQC9/7L+1/y/+xf8bvx8/RwAHAKsAyEG6gebB7QGjgUdA88AH/+K/YL85fzj/Rr/nQGqA7cESAXFBbgExgL+AHj+dvxR+1j78Puf/VD/lwCbAnkElARIA1wCkwDt/b/7YPpc+VH5B/rz+uX8O/+fAJ8BoAJkAsgAL/8G/hj99ftt+oX6H/xF/fH98/83AbMARACQ/4z+X/00/Bf6Uvrr+3v8Xv6TAcwDUQSHBjUHngYvBlsElgEjAGr/aPwL/O38dvyB/CD/dgDBAFoDQgTtA7UEigVIA20CmwLIAKb/DACL/4T+kP+S//3+FwDVAMD/EwDoANb/NP8zAEkAuP9FAHsAZAAgAeMBmgEAAiECDAF0AOwAnwB7//z+b/40/pv+Of9Y/8r/5ABMAZoBYgIYAw0CQgD7//D/c/7G/N/83/zB/KH9MP+mACAC6AIFA38EAgV4Ax0CzgHh/+z9rv0d/Zz8Ov3b/d/9pP/EADAAsQB6AQ0AzP6I/+P+7P24/jr/xv7c/xMBsQDoAB4Bpv9F/i/+R/1m/L/8yPze/Fn+k//S/6cA6QD5/2//h/+h/tz96f3I/f39Dv///2MAOQFwAQQBwwCwAOj/Ov83/yD/j/+QALoBVAInA4oDVwPgAtIBkQBI/xj+Tv2+/VP+5/5tAGwClAN0BHwFUAU7BCUDHgLzADYAuf8z/0//pf+4/+f/4P8O/9n9zvzj+2D7pfsW/NP8av4TAGcBxgLMA7EDCAMvAqgA6v7E/b38tfuI+yb81vy+/XP/7QDSAYgCAQMMA7YCBAIMAXkA7v9D/yf/qP/0/ysA5QCPAbUBvQGhAfgAngB6ABkAMADwAIEBGwJXAw8EAwSsA9ACXgEXAMH+I/1r/Jb8r/xq/VL/5gDRAcUCVwPwAhsCvgAQ/7f9cvxP+y37C/zJ/K39Bv81ALYA5QCsAOT/C//6/fL8o/wb/bz9cP64/ygBMwKiAn4C2QF0AKf+//zy+4X7jftB/Nn9TwDkAssEdAaFBw4HdgW8A6YB4P6H/LL6kvnL+fD6GPzr/U8AsAGGAqEDwgOhAqEBVwC2/uf9gf2q/Aj9Tf6r/jr/zwCrAYUB6wG7AZcAGQCS/y3+4f1g/gj+WP4FAAsBfQGZAiYDvwJoAq0BFAAQ/3L+hP10/Vz+G/8SAOYBVwMyBB0FjAUZBXgECAQ+A3cC/QGbAQUBfgBqAEAAwP83/6X+2/2e/dn90/0t/iv/hv+E/6YAzgGgAWsBdQGSAMr/mP/Q/g7+Pv7g/XD9of6s/6D/IwD6AI0ARACRAMD/u/6r/sz9tvyC/R3+r/10/gAAPwC7AAECGALWARcCeAFDABIAif9P/kz+z/5x/r/+BgB5AO8A1QHsAW0BUwGoAEr/n/7p/cv8ifzO/Lf8Lf1Q/gj/lf+KAP4A6AD+ALsAMQDk/3v/3/7G/vD+7/4k/4P/mP+x/9z/tP+t/7r/dv9G/4T/uv/S/zkAbgBaAKIA1ACZAJAAvgCRAJYAHAF0AcQBIwItAhoCUQLkAeAAXQDR/93+af50/mv+t/40/z//lP9tAC8AXf95/4D/pv5M/qz+4f6G/3kAEgEFAlYDhQNPA9MDawP+AT4BqgCS/yD/O//i/lv/kgDhADoBfAL7AoQCoQKSAtMBnQGLAcgAwQBSAREB2wCXAe8BjAGKAXcBJQEyAUQB3AD/AHIBKQHsAEoBTwGlANv/CP8L/h/9FPzh+kz6MPoI+iv6UfvG/Mv9y/4XADABowG0AV4BzgAxAFT/J/6M/Xj9EP3C/Db9vf2u/d39FP7a/db95v2W/Zj9WP7b/lP/igC5AVwCBQNvAzkD6QJTAtUAav+j/n39Z/xb/IX8hfwg/Qj+sf5v/yAADQD4/zgA4v9e/3T/hP9G/4b/9f87ALEAEAHzAOYA+QCdACwAAADM/6z/EgBrAMgAdwEHAj8CXQKCAjUC0QF/ASsBHwGEAQsCxgIABDAFKgYKB7cH+gfSBy8HHAYBBdIDWgL9AAsAVf+0/mr+aP6P/sv+7/73/hf/M/+x/hn+zv2D/QD9t/zF/Nj8HP1f/ZD99v1e/jf+/f1e/sj+t/7p/lf/q/8MAFYAXABhAHQAp//d/q/+NP5V/b/8yvyo/LD8Iv15/RH+9v6A//L/AAHFAdEBGgKFAm0COQL3AVsBwQB1AOD/DP/p/sH+M/74/R/+9P3U/b79Wf1L/W39QP3K/N78Gf3w/PL8RP2i/Q7+df7L/nH/JwBrAIkA2AAVAfYAywDLAM8AugCgALYA/ABfAZcBwAEFAlgCigKhAs0C9wL9AuUC6wIQA1wDpgPbA0YE+gSrBR4GsQZGB30HggdCB+YGZAaGBT4E7gIaAhcBzv/d/iv+iP0P/ar8Uvw6/AT8Y/sf+1X7Mvvi+gX7YfvH+2f88vxa/Qn+g/5q/qH+HP/8/p3+t/7j/uP+Kv9A/0X/sv/r/5r/jP/b/4P/CP/r/rH+j/6//sT+wP5e//P/4/8WAIUAWwD9/77/TP/9/uX+nP6H/iP/qf+3/x4AogCeAD4Ayv8z/6/+HP5U/d/89/wO/fr8Of2t/fX9Cv4A/h3+bv52/lj+kP4z/6j/+/+HACUBtAHzAdoB4AH1AXsByACBAHsAXgBgAJsAPQFCAhQDiQNkBGMFmAWeBfsFTgZyBnwGiQb2Bq4H8Ae5B/wHOwjAByEH0QZgBroF1AS/A+8CBgIXAIT9p/u9+RX3cPSQ8knxd/AU8FPw3/H987b14vch+yr+aACPAo4EJQY6B3MHSAc1B9IGXwUVBF4DSALsAKn/lv7K/Rf9+vsD+7j6WvpS+c/49/gG+ff4N/nw+Rv7iPyg/Rn/QQHuAuQDJAVqBvIG+wa0BlEGBAZ1BXgE0wOQA9MC5QFIAcgA9v8W/yb+U/3O/D38oPtm+4v7lPvH+zL8zPxi/eD9Nf7G/ob/9P9NAPcA1AFfAu8CXQOyA/QDoQMIA28CqQFOAPf+A/4D/UL81fu0++X7kPw9/d/94/7K/0IAwgBIAXcBrQHqAQkCXwIZA5UDFAQEBe0FhQYKB3UHkQeKBykHfAbuBVcFbwSsA1kDAgOFAoQCrQLjAiADLgNAAygDzQIcAmMBawAT/4z9E/yo+jr5//cE9zr2wfW49cj1L/bE9lL3Lvgz+Tr6Mfs7/Bj98v37/r3/UwDnAFQBfgGaAdMB3wGNATsB8QCkAEYAqf8k/9r+Yv7L/Zj9r/2b/Wb9vf1M/s3+Tf/g/5UACgEuAUQBlQG9AWkBAQHGAHMAKQD5/+v/9v8LACoASQCNANwA8gDxAAIBMQFSAU0BRgFRATIBygB4AEMANQDK/1f/Sf+O/8n/CACyAGAB4QE9AuECfwPWA64DfgOOA4EDHAPCAtsCxQKbAsECWgP6A3sE8QRrBREGlwawBscGFgf5BooGVAZBBvgFaAWSBLIDDwP9ATkAyP6d/dv7rPnc96n2dPXI8zzyhfFS8djwa/A/8bLyivNp9JH2OPke+7L8jv6SABACwwJKAwwEWAS7AzwDYAOJA14DIgNEA2sDpAO1A0wD5gJSAkEB6P/H/gz+Tv2L/CT8XPwi/d39Xv4v/zgAtQC2APAAWAE9ARgBEQERAUEBfgG4Ac0BFQL5AY4BZwEPAZEAIAB6/5/+H/7//Y/9/vy6/Jf8bPxK/FT8lfz3/B/9QP35/Qb/qv9KACcBAQLEAnADBARvBKsEewQ4BAIEzwOLA0IDEQPpAhkDnwMxBNQEngWABmQHIgjLCF4J7AkRCoUJ/gg5CX8J0Qj5By4I+Ai0CIgHGAd8B+4FkgEp/kf9z/r89FDwWO9u7tjqSujV6XfsF+wS61XumvN79Rf1t/dO/Ff+Lf6R//wCGAW3BCQEFAaiCFAIOQYaBl4HzQaIBAoDcQNwA1ABk/5L/kb/qP1U+iz58vlA+TH3q/ZW+Mv59vmF+oj9YgE2A/wDQAZyCc0KuAowCysMQQz+CpQJLgklCcEHQwWlAw8DogEb/+X8oPs3+gj44fUe9Vn1zfS98yL0+PUM90z3dviN+un7hPxr/Q7/ZgCjAJUAZwFWAisCuQHtATwCywFeASsBJgHZAFoA+P/Z/8r/ev9o/7L/KACLABkBngGAAqgDqgR0BYgGFAhDCRwKJQtmDCgNDg3IDPYMzQycCxkKTAl9CNoGMQVXBO0DMgM8AtkBfgIIA28CwgEhAjwCBwAZ/Qr8M/ve97XzK/I08nnw1e3k7Ujw7/Cv7xnxMvVo9wf3Vfit+2/9T/2r/Zf/2QBnAKH/iwBFAowCuwHRAQYDiQMVA6QCBwN2A+kCeAEGAbABIwHv/qb9+P2s/X/85vuK/ED9hP3C/Q3/DQEEAiYCyQLtAzgEDgQmBPsDhAP1Ah4CVQH9AJIAZP8t/uT9tv06/Zf8O/wP/K37Efvt+p37uPsk+x37T/wx/ZP9jP7V/64APQEtAkADAgTFAwgDlwJRAlYBCwBC/4H+fP35/Eb92f2S/iX/1v/sAHwC7gMqBXgGsQf9CGwKtwuuDLINWw5FDgcOPA4oDlMNKAw9C74KDgprCRsJIAnWCPYHCAcZBooEMQKy/jf6EPbL8hTvaOpM5zfmdOVP5B3lXOij65HtAPDd9ND5lfxH/p0BoQSFBbMFGgeLCFkIaQfrBpsH7Ac7B/MFYQUJBRQErwKOAbQAlP/V/bT7yPqJ+pn5bfdk9tv2X/ee9234U/pv/IP+YgBDA2AGjwiKCbkKWgz2DIYMqAu2CgMJ2QZNBEwCfgD1/f/6Mvl5+Aj3NPVq9FX0YvNj8mDyaPMQ9Gb0R/WF99b5Gfu//EX/ZQEYAgoDSwRoBXAF4QRuBIAEaARAA1ECQQJmAlABigCwAAsBdQB8/xH/ZP+x/yX/S/9mAP4BDQO1BCwHrQnZC/oNHBADEtATghSmFHMULxT2Ej8RUw9QDXELfwm/Bw8GAQXaA90CqgEtAE3+Qfxs+W/1uPH+7uLrr+fs5EnkieQx5DnlsOgq7Z7wyPMR+QH/oQL/A6oG4Qn0CrgJEAl6CcUIbAZKBBsE6wMJApv/K/9z/3P+pvzf++L7KfvK+c74//hA+ej4TPgq+R77xvwn/lEAJQPEBfQHygnOC3gNKQ5fDcQMhgw+C6AIGAYhBLgBxf68+5/52fd+9b/yWPEY8WzwT++A77zw8/E08+70lvc/+ub8zv4jAdwD9wURB+QHDAlWCf4IEQhgB2AGvQQtAgcAv/4G/cz6Pfnu+F349fcp+HP5xPr0+xj9vf4FAQoDzwTjBmUJVguhDRsQkxKbFIAWyxdXGNEY2hgcGIAWrRQ8EuwP6Q0CDI0JLgcOBdICgABz/Tn60/b78mbtSuic5V/jkN9h3OHcYd9L4XXji+iS7wr1QfiS/TMFXgrrCr4LHg+uEJ4OKQyCDPsLZAgBBB0D3AOLAf38wvqK+3H6QPdZ9Rb25vW88zvyuvN09lD3Kvc3+Qj+MwLqBC8IKQ0/ETgTlBTTFrQYohdSFFwRgQ81DOEG+QGW/t/6S/bB8iPxMPBo7mzsCOxh7Yju1u637+PxWPRy9vz4OvzC/94C8wQLB6MJ1QsuDFILkwqDCW4HRARZAX/+jfv+9y313fPg8tXxT/Gm8kD04PWr93r6TP12/4wB3AOSBmoI9wmKC9ANhg+bEKcR/RIfFLYUCRXLFLIU5ROuEgwRGRDMDn0MVgosCeoIrQcpBgUF5QRsAwcABf2P+3b4XvHC6vrnoeYB4kPdNN3x4O/itOMT6VjyGfkw+6f/QAisDsQO3w0sEKgRVQ6sCQ8JIwksBf/+Rf3W/qD9Dvkh9tz2UPYP89XwVfKo8wnydPAD8zr4avvM/Ov/7gU5C3kOrRF+FjkaahoAGdkYExkXFi4QUgowBoIBXfvq9Ynyp+/n6yHpIunt6urrJOxl7UXwXPOb9a73r/rv/e7/jAG6BCQJ7AtvDO4Mkw5vD7UNrwr7BxUFOwDH+g/3wPSb8fLtU+zz7GjuqO/Y8Sn1v/hs+0L+2wFCBUAHJQi1CWwL4wx9DUUOJw8qEKIQjRC1ECERHBGzD6AO4Q1oDRYM8QqJCrcKrAoRCrIK7gsXDZAM8QujC9wK3gcuA/v+xvqx9Gvr8ONu4ITeXtlc1QnYZN6K4j3ls+3z+HoAegLZBwURBxZoE3UQuRK+El0NAwfRBlMG9ABq+pv5x/tH+crzvPAb8v3wn+2m6x7uS/Ao8GXx4/by/l0EqwjiDY8Vaht4Hg0g8yFAIgAeBhghE1MP6AfC/ib3bfIR7ifpW+YX5iHnCec/6CbsS/F/9Ln2vvmv/Gj/JAIKBdYGqQg6CucL2g2bD9EPug1GC+AHOgT5/8T69vS578/rMegc59znPunc6hTuqvKF90X9wwEBBSMHowkYCxUM0gyODOULDgsLCwoLbAy4DEUM2gtODDQMtwtCDKULvAqQCRUKuAoPDNgMOA0dDucO/Q89EZ8TfBMiEhIR3hCrDUMHDAES+z7yM+So2XbW5NRizUjI7c7I2jTh8+Up8zkD3AojCwISCh2EH6sWSxGAE2MRvgdEAN4B+gCH+cDycfUw+an0lOy06qDtOetc5jTmJOyy7zjx8vUVAcEMyhOeGG8f2SfNKmkp3ybeJJoeUhTOCW0CB/y48mXpsOT+5MTjTuKQ5K3qtO628Ir0uvrz/zkB6QFbBNcHwQfYBsYIIQx0DN8KYwslDRANOQmBBIgAXf3/9rjvQesi6TXmRuOl5KboUu3S8OL1gPyHAqsFmwfgCpIM1QryB5gHXQd2BU4DhQM0BQ4GUgZ8BxoKUAsMCvgIYQn5CQkJiAi5CaELNw2lDusR6RR/Fg4WZBZ9F9sXHheCFXQUmRKHD1oJiAK3+zH0iec+2ALPrs0RzFjFAMb90brgWugx8pcD+hJDF50Wdx2yI5wfTROnDv8NFAcU/PT4gvzU+KHwDO1+8h3zCezf5N3l5ueT4zHhCufd8Rz3ofwQCAsYCiM8KNMs2DEIM44sVCTbHP8UagdF+U7w++vj5krgE99U4+roH+sT7pz0M/ut/TH9mv9oA5wEpAMUBW0J2AwlDjQOhg+2EVcR6AtJBosDLP8C9wDvz+t+6QHmS+If4z7oAuzj7W7xkvkY/sL+iADkBPoGCAXUA6YE9AZWBpIEoAR2B4QHGgWRBLsFdwUTA5gClgKVAycDygLwA+EGewltChsNDRGdFBQWVBdiGVAbnRpIGOkWmhc7F8kUjxKLEAsOSwgjAPj3BPH/5nTXLMtQyoTNmco8yGrTuOaY8kz5UwYYGIEebRlAGbcfTB6kD7AFsgb9BFH6I/Pq95z6+/IL68/tqfLG7H3iBuFi5s/mY+Rr6k/4vwI4CZsTACOxLUkvci7yLsUsliKIFZcLPAOl+Frtoufq55foQefg56busPY8+Zr51fxcARYB0f4BAFIDxgT1A34G5AwYErkSchLcEvcPDwmeAln8BfMA6hbkpuF44Ffi6OXT6Q/wYPXr+rL+swEeAi0B1ACl/nv+If6C/pb+XQFuBO4FIAjLCeYJbgcLBlAD1gB6/QT82vsa/cj+uQDpBZIJPwxSDq0SchRWFGAVahcWGNEXBxmsGY0Z5RfjFrUU+xKeD88LbAeuAcv73fRS7tLmIeBm1kLOM8741MPWvtXo39jx7f7QAnoMPhgwHY8X3xTuGD4VAgm2/ogB0v9W9jHvVfM59mLu2Od86SXu4+ha4wHl7+xK8H3ybfulCDUTHhi4H7YnoCtWKIsjyh7EFzUO5wMt/BX37fKH7intEvBo86jzUfTa91D7MPt0+T763fzD/Yb9JQAABhoKoQtnDtYSPhW3EjoOgAniA937nfOn7a3p5eXK4wHmYuud8DDzA/cb++z+Mf/H/Wb9bfx3+1f5CvuI/an//gB8BHEJPAtpCpYITQiABQ4BOvy0+nj5TfhU+eD82wFJBN0HYQtJD68QQhG4EpATDhXvFX0XCBnxGgYbNhnOFyMW4hEODVoK1AciBe0ByP+h/CX52/SF75fnz9ld0SjUINh40uHRpOLi9J38DASvEpccdBmUE0IWQRfZCiz5Dvfj+4r1GOxe7wj5EPY58LjyePm79k/spujD7f7xge/d8VL9DQkODykWbyAWJ2glKiAzHX4ZEhGwBB38APnD9rDy4/A+9Qr6FPp5+RH9KgHA/rz5/PhA+4v7nPkB/OsBKwaVB2QLMREDEz4Q4gwaChAFuvx/853uhOzx6bPmM+lJ76zzyPYg+gX+Jf5T/e76z/qr+pP4afbF94P9+P9VAtgEJQlBCiYJqAezBZcDs/1O+VD4Nfq1+Nj3nvwwArQE1gY3C6cOThCKEcMTgRZRGSwZPRkGG9Mb3Rn7FY4SQg8KDTsJswRpBGAFLgVnBXEGHQZHAS/8IvZ+7gfhsdEiz4LUTdTD0S7fxvOV/g8GdhNQHCMYmA6jC6cLuAEB8/vtYfUk9MjwSPmEBEQDYfzk/+ABFPzM8KXpHOir5/HnGu2Y+FMCEQkhE4QeHiN2If8c0xhNEkgL8wN3/lr83voh+/H8AgK+BI4DkgHAAGH/cPrn9GrxtvAz8cLyRPjs/9QEFAgaDSgSTxLLD+8KMQR+/5v7ovWY8HfxOPF/74Tyx/d6+J72d/Yp9t/1B/Qa8TPxKfWD9mf34PwHA14FBgYWCCwJIglkBr4CagHgAB/+HvsZ/Ab9jPu6+6j+VgL/A9sFZQo4ECAVlBYVGQocCx2lG1IZCRimFG4RVA7SDI8MjQr8BxAG5waWByIHLAeABqoFdAPv/mL7pfeC7HTbLNc14EffCtj43tDvYPbx93sECw04Bkf6Dvs8Aw39wfEw8sz83vsG+AEFGw+hCSwAFgSBBxIA4/e88SnvYes+6uXvk/dx+0X88wM+DtQRChJOEcMQiA7rCyALugqCC2IIsQawCdELCQqhBd8D4/9/+qT37fT/8XXvAfCY8jL2jftm/e3/hwP6BGMFmgUGBzcC6QC1Ak0Bh//0/VH+u/mx+N331vQ485zvi+9N8JjycvGi8XL3Fvm3+bf6ev5+ACUAMQKKBEQIMggtB2cIIAnQBvYBigAz//r7bvo9/fEB1ATsB7ENeRTGGOgZahqoGmEYTBbwFCgU8BF/EAMRRRCaDy0MawnaBb4DZQI6/6P+VvyI/vr/4vo78vju1vKX66nl4erT72fupu9u/CMBjfvR9zD6Ivyj8xvwY/Vy9tfwa/H1/Z8BXvwZ/iYD6gKa/Zn/dwLN/JL4vvlV/s385vqz/ab/BgEDAM8C3wQwA6YB9QGwBbcFWgV1B7UJYwpWCRcLOgtqCX4GjwMmBF4C8v+o/k3+l/wJ+kf8IPu/+AL4KPYv9cj1xviW+KP5//zA/g8DBAVlBOIDcwJRAIb8p/tr+cP1svQt9Mn1xfVn9tL1HfWH9VXz0vQE90P44Pqn/zMF+ghQDegODQ4RDcUJoQaaA4IAiv7N/d39H/87BHkH+wcXCx4PNhBHEfEUIhW4E1oULxYwFskTXhGyDRsLOwdMA1UB6P2T+TD2yPg3+xr75f3MAJMFjgl4DBEQCQ4uBS76pvrK+sPtj+nU63frd+mu7mv36/Fh7SLqt+2G8TLpBO1E8wz0VvLG/TYM0QWfBv0MWQ+OC8kJQAwkBK0Ab/3+/BIBSvz7+Ib6jv9A/Y/7rgICAUL+kQCLBfQGwgS8BvMFfQeYB1EGaQm4BwUF+wLRBKID+f1m/Yj7fPm697v5mvkV9xz4Dvf6+Pr4p/lq+YL42Plv+Dv7iPrY+Xz5k/mv/P78wf+T/30ADQDT/lYASP5z/Zv6ofp0/ET9ZQFNArwDzAQ5BUQGnwY9CMECBQH+AsP/wAEwBL0CVwFPB6gI7gdLEHoNBQ63EUwO0BF/EUgNNQ5tDVsHbga5Ai/8UP4w+S31lPuO947y7fr2/ar6pv70A3gCqwM6CusIUgnpCW8B5wLSCVkE3Pmy/Nz8GfIx9gn5s/Jt8szxo/NF+H73rvOy9JH5D/fB+GsCFAL2/9oBPQZHCMkELQYsB8UEcwGxABgDAP9t+ij8QQB+AVz/1wLUBQQBev8RASsBpf7s+3f+agLmAV8BsgQWBPQCr/9k/ygDLP2X+bT8Qv5Z+kn7wv/X/gL/fvxO/JX+DPxT9tf2LvuV8i/0NP+S9UD3vADJ+kT/HwHn+ob80P00+9b2h/wm/in7t//bAroISgNwCNwLGgjuC+X+YQb7B3H6q/rK/ZkEEfpv99IIpAX4/rYDMQ2WDcj+YQhFEM0OagG6Bwceof2+A+IUjgSOBHn+wgAp/Nv8xPxn8AkFIfv+8KwFDAAv/8r5OQDcAc/6zP8T/GkAwvvS+87+fAO7A6zzsAL3B7LwNv2EBRb0uvX6/D8Czfio+WIKXf2n+QENdgkB9jQG8gdr9moKHQMb+IwQaAEk9esVLQmI+DAI9xCn/Hb3BBg/+wP2lQ3G9+L8bQvN9QT8BQ1F+Rz3jgOkA9zw0P1pAMX6x/7E9foHAf5S/87+9vsaCqb4IvR4AMgA6e0b84YDD/n764j7ugFt9ND5sft1/vn3EPih/mL6av68+ur32weiAd37NAfDA4IF6P/2CjAAa/8kCRf7GAV/+tsIvQMu8J4O/wNA9W0PNfYfBHkLuvATEj0D7gXT/8UFBxQOAUMFKQVTETH5df9hEH7zfAPOAvru+gwY/If1MAgG+2L8afoh/m3+Lvfa+vcC7/Ne+/MD4vaHAtwIsO5eEFEH9eNhH7TtSvKTEJXpPAWU/qH7+QWJBu768ANfEPrvOAz5Ax73Jgm2+4kDmgCFCAD4mhFXBuwBFgtpBMoT/fJfDW4FaATs+0YEzArW/+cEGvqFEh8CkO9VDNoFyupMCRrwPQOh+Vr3UgSu/nYGmOyFHzH3NfvP/wIJCvje6AoX/ecL+hL/5e+y/1UCSOhlBFf/BPWy+Vv9PAaq7fAEF/ltABwCBPxxB/IBEAEWC/D7mQ0C+wT+QRLb7XIHCf11/TsECf4I8wgYEPBg+wkYe/DoBhP7ZgiiAF4EkPY2GyL0Ygf2Djfq9x+I8cX3Uw/W/SrnGB+z6lcANgZz8AMUX+sjC0r2iQfT7fcMX+/z/mQHs969Gs3vX/8h/ToA0/+jBcDrRRLb97TvBxbs4n4QN/yG+ZkB0hNt67APtwkN7cQYke3RDC/8XP7eAKoDWf8m/boR6fraAg4Os//FAwkSyOyoFRgF9e4IFlX/9QYD+SwUV/VCB3AGteyjGCvtWgJ2+k4Ej/3+7/IWtvYX+fUWbu4LCmIQdeoaD13/ZvhS+OYIAfFB9RcK2+Z6/4UDquwo/5wE2+xfCNX1yv+wAxfuExgh7gwIbAjU7gMWqPo9CLv9sAMaCg7ycRXs8NEBQQhU6ZcW6uzWC+b3hf8XD8bt0ROK8/MazOXJEMMOQOeMGULwywoO904Cwf0KA035JvzRCNLyew2i72ADWw7f4CsXf/+l5Mkdu+iwCdH1tP7wA5DkFyRF1xcTcPv86+sart7nFN/scgOY/sz4ggSL9rQQY+i+GQPylwOrC2r1KhK+7RAZX+veCjkHPO3MFwTvyxUQ60YTagsR4Ec3DNtGCe0gw9g3I6z2Vv+jFP7lZCFc7q78vB8A2HIZrAHN7uEOP/epA4kARPopC6P7ovkIF0/mkBrbAETkoCU+5v/+UAhG7vgCmPfZ9uAIUOlcCsv0S/tSDUfj9SBJ3ikYtvo+7nMkX9r8IA/x+gPCEoPr+hkg9u8H//4A/OkLH+mXFc7oqQkhAcLqtB+V5tkX5PEdEYQM3ucuJnv10ACrD1r4E//iDPrzVgRPA1/2egFT+WgE2/S4AP79bfPSCGnuVha4538IRBFc0vMx+NhjC0gLAeSIEsf6ufSlCiP+4ux6FwHjHBKU6Q0RH+tA+7MUI90tF7vuRxfk4Bwk8/HK+3coPsvYK6P45+sJHjjlrhh99GbuZTakxCY0GPHD8ZU5lL+XOn3h8w6sDILcYjQY1iIUGwOo9S8Shuq5E7fyVwghAxDniyMG4usGRA+p6EQUW/W5BF0FdwHg8QcRvfg09rEHd/MzCNDojQwl7nQCO/1q7wwXfOAZDDUGDe39FaLj0BS8AYLreydW0sUuoO4n+Fstv8fYMnzryPg2H6vX1Bfr9wb1bxtU1vglVewc+/spwMdgPpTZ+Q6NGlbQR0OOyyocDA/qz6lAN9GgCYEPHOCAIvnUlR8O70fwRCWJxHM49d1c8h0uAL+wOArd5PrxHjzSnCIR67MI7/Tr/W0UktgPFQQDfNw6HHfqgfz/BVTpEht93EEeOfJw/Q4YJ+4PCX0C1Q2k5LwgLvCU+BEYauQdEfgIaerpEQQNSOzzCkUYkeN5DJkhecpCKswKkMnRRbrn4N74Qo/RnhT5AlP1tBVq5sIfVN7XFFUC++QrI+XlTAdTDHDniiTy2OcTjwfj23gx88aKIpnthfjvCHrpECNyxDctGPVJ2+I3otQxBowUBtmWIlT6kvaqBm8Mufe2A8kKN/gsCbDpGSQ23IEWM/7i46stEd1MBsYOlP/K9ygDrRdS7Q4G9Rs+2IomkvYf8SQgauxZBbQAcwlx8Y8OKun9G3DlZv5yF+HXvx/b4kUUk+iVFvDucvhtKt3FxSeM+9vnTR5A55b//w3Y43gLBu/fE8LfEgtwCg7TPjWrxkIkVfo66YIe3t+DIZnxVvu9DwT/VPZBBx8GYfmd/V4OEfVp+HgjYtTQGE8NLNt1L3Phyg98CsXmoi1I180h+vso7a4sL9MFJ2zpoA2zBMbdrDrTv7En9v0g3I08tbyvL2fyGuhHMcjEuDdf1boRXhXYwUdLQLsGG/4ObMxaK3zmJQTT++4A6QXc65sMTAYF4/QeJe7J+1UZh+GXG1DwLw36+W0ClhWe25IkdPsU5rgpyt1LCdQW1NYTJgfyXfqAED75IQd8AakEivtFEJDziAZkEOrl/xt268gFkBAZ3/AlOOAxEB76qvb4E8zcTxwS6YkFBAo24Agg/fPJ7u0bxe1sCAv5AAF7/0D6Qwdp4JshlN+B+2MUi91JGDLlJgpVBZLnLh1y4o8U2/4G6iMvR9RME+AODdtiLHvqEPmPGbXttQHCBQcE+vBvDCQEoOx6H9TvbPyqHBfrRAcCEqTuSQu9Bgj1VRCJ+c/+TAT2AXr3FwQMCYjtIw8C/Cj49Q/37VwFegzI6BIVP/OVBCH/fveJFIfgMBze51sC+Qq565sPy+5EDYrxKgP/C+rpjQz2/zv1Cg9f8EIOofftAMUHufJ0FubsBA2l+SUGdv2dAqUF7vj+CnTxAhhp8OAAChBz6woTOAEo7aske+TAC0kO0+w8GpTrRROy89gFfgHc/JL/EQJy/7rxHiDH2XgSjAqB3zUbse1o/N8UyehXCWkEtvjvBGX1dwqF+BP3dQOs/rz6afwq/5D/svcg/kH9K/7E/TX4IxHJ8TIFDAYy9zIRBPGpBCUN0eeGENoFKek2G+Lq1QLhD6fmwBVj9GYBOgTf+BoOjfRTBhIHjv1bBvcBtv+GB2H97/zvBvb+fPlsAS4Jee4oDUUByPDBDx/zxgGOAr34PQYu/XEC/v+y92MVMfCR9z4Wh+piBgr/5Pt0BX331v1kApcBkfP3A3YBKPecCbz55f8gCoD35wa/Anz8VAHOBh/5uwJ0B/j7DQMN+0gPqfrX/RsEjf3nB8z4fAD1CRf7xf+nAysCYQhv9swHtQMGAxH6kgGjB+f3agJr/NwDhP6w/fH/ZAdB9lAA1gCtAov9ifV1DVX2bfxMAxYCLvre/J34BQadALb3gwaF95X+GfsXBRwAm/sy/iD+qgLx/pwC//41/i/+NgAAAXH/1f5u/tgAvQBT/iICiQIk+tf/RgRD/bwJ1vpsAosIn/dmDW/9jwA+B4D0XA6NAx705AuD/oj+8QDr/qv/uQAl/Ur5RAk0+1T6XQH9AF3/e/e9CEUBhfCVCnr5fQDHBNX21AY2+pIDJfsLAbcFNvGVAAALLffF/ZYD//7Z/Z39EQSv/AMBp/pWAE8FTgEK+mwCvQQh/IACrQLnAs/6Hf46BLD/APxPA+b/kwP+A8D/MgRtBrX7LAMfC5n23wa6Ap794Qls++cChwjd+L3/sAWYAOT6YQJaAaf7GQeC+e7//AQ49cEHuwPw+W4F5flhAqUFjPvh/RsBlvlo/FQG6PhBAKn8vfr8A8795v/d/hj9CANy+XUCOweE84sIC/5U/QoIFPnrBqH9FAD7AD/6qgal/eb5GQS6+/L7EgOT/CIBSwBIAHgDNAI7AHcDFf7SA9YC5vgKCGj7tAFcBG39nATd+xMBPv/v/Wb/rv3l/Bb7RgKt/Of9iwL5+fsC1v3e+hMD3vtQ/CsANvw+AKgAGfqpAm39hPxE/pz9+v/K+gD+mgCh/+T8bwPZ/07+WwJs/EMDzP5U/iwEH//7BND+wwJTBi/+SgTDADwCKQGp/UcCBQON/08CawVWADIF1wPh/44Ex/7t/wkE+f4IBCYDzgKfBLsEuQcZAcYGhAMcARoLUAEEBw8InwGnBskFBAcuAzsIKANlAygIIQHHBjMF+gI5/64BM/VB9fj4xezY857s5/SZ8pv3x/22+CQCD/ir+6D+Lfx7+Uv8U/rT/Sb/Of+cCJL/HgMpAwwChQJnABn7Ov7K+572kADO+wT6R/5m/dP7XQId/VgApQBN+5QAVP55/5/+PP8BAPsAYAB6AIAA7v8Q+2f+bv13+z783vlO/vT6kf5w/yr/TvuF/ef7WfwJ/Rb4w/ys+vz+WvwDAzUASQBqBOD/RgcNAuEBiwc0BXcCVAmjBBEFPgd4A68G3wVsBS4F3ggRBUUILgpHCCgMxwxNDFIQ/w8qDGYSgg7UD0MSfBIpEsUTPRW3EW4UCQiPAGL9ke0N403oP9vj2ljk0eIX77fzWPpc+fcBofwe+CIBN/gx9478J/2ZAGwFvwUFCpsIQwXoAuoAYvlb9A/vG/BL7C3usvGr83n6YvfEA28BkQXXAsUBqQVY/xAC/wLeA44ERQhQBkIN3AiLBU0JegQb/PEBwvpk+Rv+ofSvAab5CQEdAcL9PgVK/EAAogA9/mP/tP+5/3oECQL+BOAG3gNBBUQCOgGlAdb6nvss+lD4Kvr09lb6kvhA+Mv5afm69iH8i/di+FT+8fnY/kwAaACm/xcFCQAFAd8Dv/3GAIj/m//u//wAxwFSAxMF9wZEBs4HuQmeB6gLdgbnCFgKvwSAC6oIjQuzC2oLUxGtDPgTHxKcEBwYGBIIFsMXqA8iDlIFOP2S9XvogOCh2GHf+9pj3/Pv6u3h+73+BgblCQwBXgK1/xICGvz2/yYEFAPsBioIDBBiCjgEHgKU+dvycO296Bzj2+Hw41TpSu9v+W/9IQJEDCULlg/jDO0N6AncBPALowUvCoQKighNCyAKaAihBAIC6Ps79jL2U/Tg8ZL1LfU++qL9+QESBBQFUAcpA8QG2gTFAkUF/gFpA18GEQT+BVAFFwPXAMb+VPyj+Uz05/Mc9AbyPPV381P54feu+kj89/3G/CD7yf1b+ZAAtfer/wL+tfwbAib87AT0/JIArv2d/aEADvwHALkCfgIDAusGXgcBBy8FXQjxBPUE4AUFBPAGMAdvBVUIkAk3CHAMpQo+DOsMNg/lDf0RrRBtEgQXcRaNGJEW5xOoCe0D3fWb7tvbkNAn0/PULtai3RTvFPY1AeQDFhEADJAEGQGf/00FVPpS/wgL8wlxCysUURQEEi4F/v629eDq9+N+3M/bxtxn4+TruPr2AcsNPQ/6FcMYPxOWFBgKQQnSBlcHvwQiDKIL5AZDDdYGTwet/UH4XPMM67Hri+qv7azygfe9/MEG6AqbDYsOwAtVCowFmAL0AH3+RfxJ/Wb+AADA/9P+qv2N+Y/4gPNG8hTxpOzc8RHvmfSk+bv57ADX/98DsQPyAq3/7/67+z743Prs9wH8n/vR/YsAkgFcAiYE7ALJAbQFcwF+Bb0HNQWwCVYIkQiMCb8FpgShAlUAF/49/er/T/5LAEgFtgNYCs4J6AvrD+cMIhA7ECwP/A9qEVoMbhAbC5ENzA9wDTASDQt7DQkGH//G90LqZN0p1JzTm9lN2QvhyfFt/LgHHA4EFjsV0w1UBvULIgdUALkARgTRCHwF3AnUDM0K3v2r+nL0/u1C59vf/eHC4b3nnPGl+/gFzwxuELIXxxU5FsoQ3QmoBlwCwwFb/ysB+AB6/kb8j/7M+XX29fAN7hTsYuwU8Kbxu/tz/DIFKgyYD6ARZQ5LC58ITQNy/YP9nfdH+Ff3G/w//i4A7gBz/RoDm/41/iz7lfeM+FD4R/s6/Rr+a/97/zoDCgKc/vj/gvby+9r6VvuAAFn+tgYhBEsKmwu8CbQI2ATgAkYAfQPd/ar/tv8MACoDcwHyBDD/wv4o/db5lfsa+wD9RP3uBNwGPwzWEKcQJhJMEMwSxQ9fDc4L/wr2CTYLtQkLCuMJmQo1DF0JXgrT/rD6/PNf7JbkfNgZ1wvcYuQY5ob4EgKUC2gRXxPWHIEQvAwOBJYELgLg+ysBIwGgBWb+rAIiBqj8vPhw8Bvrvufh5FzmzuPA7Qz0fvj3CRYOKBVbFtASyBZhDu4H6ATJ+lD7PPkK9mr91/y/+ij9LPy9/IL4vPRQ9SDwlvN68w34Zv43AQcGGQngDqMOZgsAB+AFDP+M+3r7zved95X5p/jc/fr/nfwN/hr7aP4K+pD4N/xx+Sf6Iv5i/jwAtwI7/58ACv9k/on8cfwE/df7qv4IAIgDAwXhBVAGYwSeBa4DrwK+AJT/ygAY/xgD+AK/BIkCcQItA3gAOQEn/UT/g/6N/0gExwedCJMMNg40ECgThRDwEjYQLBKgEDERqxHqD5UTBg6EDzsL0AON/qLzHO7A5+7ai9Rn2cXff+Pa64/8FgQ5DZISTBnZGoQPxgvEBvMH6QJF/84BgQMkAML/BQKj/g35N+/i6+DmgOnx5Z7mZ+ww8Wj8tgBMDi4THhMdFY0SFRREDu0GKAJE/cn9u/iY+wL+jPoB/Kn4OPxb/D341PV39UL22vid+fb9vwOeAlkGAgrVDSYLtAeFBsgEgwF3/d38vfla+OH2vvVp+D/3SPeB94z3Rvuh+Wr8l/3u/gAB0v+cAvQBOQG+/7n8Tvxz/b74EPsh/T37//9F/t8AYABAAf4A3f3GAa3/XwC5AJAD5AO3AwIFZQV5B28FKAf9BDkG1QTdAvwE4wI4BIAB2wTIBVEGVQqMCccMOA2nDhoRLBPWEV0THRMPEo4SwQ+tDTAIjQRm/BP5ovN/6nnjKuP75Wbkvuok8HP5cfyAAiwKCgkUCcIEQANYA8kDdgA/AjwFVwHgApcDlQBf/U74sfGZ7FnvK+1766Lw7/I++Qv8xgXHCYIIsQuwCIcIuQcTBpYBYgDj/8z99/7oAFj+5vtM+zf6ePgF+AP4j/Qc+C36zfz+AF0F/wbqBgcKwAntBrEFlQKp/Zj+JftO/HP74ft1/Gj4Lfxn+vD4CfgP+KX3wvhJ++P7Cv/BAccBWgIsBO8CjgAN/q/9vfkQ+FP37/aC+Uv59/un/Uv/EAFyAYkCIwIdAs0BhwE2BMUFHQerCOIJtApYC1AKLAmNBrcD0gFB/xYBdP5jACYB6QK/BboFUAoDCjsNrA0PDkIPfw4TDsgLIAlcCJcHage+B2kHGwlxCHMIIgWrAIr4/fHz72Dt7uoz6wXwOPO8+aj/wgPcBUEFIQPEAtUCWwAG/6/85vzF/Ar9pAAZ/wD+Pf2g92D66fre9lL27fZv+cv57f7DAVcEaQWlAxUGMgWpBHMCH/+s/Vb8fPs4/Dn9Y/zn+xn9r/y0/iMABfyS/Af8xfta/wQAfAH0AgsEvwQ2BikH7APfAWH+A/xs/Gv6yfkR+BP3sfdG98P5X/p5+af6k/oO/L3/jwB2AJwAif9tAKb/gv4L/qD6hvmW+v756/wk/vv8sP+hAPEBlAPGA30DlAO6Ax4F+gTrBUIF4QKUBF0DZASkA1YCmQNcArECOgTzAtQCSQL3AcwErgSZBRkHCge9B74I2QfsCEoHKAYWBvwEoQQAA+kEjAFUAaYBDAAoAhAC+gHIAlQE1wU5BgQGgQZ6Aqr+tf1L/Y/5nPaU+iD+K/5YAqgGhwajBhkDlv9Z/BH6A/Xb9CX38vbM+ZH8LgGj/xMBqQCZ/HH9r/zm+e74lPw1/Iv78f8GAlkBRQPDArr/Qv8J/ln6l/dD+I72uvW6+bH7lfy7AN0B+gCKApkBVQBT/qv+If20+6b+r/7PACQBjgFVAF8A+f/W+8r6Xvhq90X21ffu+OL6UP2H/uwBcQJqAyYDUwFgAAkAEv0s/fr8KPyT/Ij8dv9Z/+QAPgAXAAkBHP8AANH/8v6g/5L/pgHSArgC0wMTAtEBqgBUABb/VP48/zD+rgCuAvIDxwXjBcwH8gebBlQHQQWiBRYD/gEgBCsDoQLwAo8FvQRDBLUDsQP5AvABNgCgAP4Bn/8TApECqARcBecDRgZSBoEGKQbABKEFwASnA7MDDwPVA0QCvALlAgEDSQPdALIBmgAvADMAgf4E/tj9p/9X/s//ggBs/goAtf+nAC0AwP+z/tP9/f2j/vX9Mvzt/Nj6Sfv7+q/6AfsZ+m/5L/kM/Ab9gv2a/yL/UgB2AVMBvAH//jv+BfwX+9r7Efrs+fX6cPoF/Ln9/PzT/hT+W/3q/UD99ftR/Nr79voe/Ff8Iv2p/YH+MP/t/ln/c/++/rP+8P1o/hv+7P5U/+X/bwIkAScCbwKeAXkBjQB7/8P9Rf6M/QX9wP42/pP+8f7s/o0Aw/94//T/AwB3AAABHQHdAhkEOQJzBDYERgLLAwICrAEnAfYAygAaAZQBCQHoAZQAqAJDAlUDJQPhAf8DmgLaAnACFwQGAxoCEwNgAuEDjgNeA7UDfQI8A6oB0gErBBAAq/6O/5IA7gBPAI4BGwKjAKcCYgRgA38CmwLCBNoB5AN6A08BjAI9AIwCAAI+/in/sgHw/9L9Df4a/0v9T/vi/Yj88vyi/ir9dABMAFUBiQA4/6QB+/xLALL+FP7T/2P8M/45/TQBxful+mP9nvmJ/qT7H/wa/qL8xv8K/R3/2f4k+3X+ffzd+2/83/v7/GP8+/4I/pf8lP+7/f79lvsR/Pr+k/wZ/qz8GgAFAXH/eAAQAGABmf3q/RQAjv7w/Tj+lQCb//X/qv9q/1ECm/9J/wH+zANOAkr/SQPq/qcCnwAWAVwCJwDmARQAjwOXBccB8AFzAWADVgFEAIQCof+QBB0BUAIYAzQDCQKa/1QC6P03ASn+HP/wAWMBJQE0BBUDIQIrAxH/LATaAEX/nf1k/6f/Tv4YAYT+8QDNAS8B6gDuAn0D7f+kAewC7f6pAtwB3QAbAR4B2wDI/60CHP/RAdwAEv2u/x0D7P0m/l0Ca/9O/9//9wFgA5gCk/+OBBEEPgJbAPAAFwMx/u3+OP68/o7+uv99/NP7PAEo/S/7Wv8MABz/x/4c/rT+7AFQ/kj67gLv/kX7S/53/+P/uvlT/Vr9b/5z/UL4t/+4/xT89/vR/Qz/YvyL/b774v1E/yD8xv+z/t7/hf/u/xoCQ/5M/t/9CQEgAPj+r/4e/gQBbv+t/5j/twFb/wcB+wEwACcEz//LAF4BmASWAtYAOQRGBBMFlgFXBT0ADQOA/3//gAWv/cv/u/5pA1f9Yv+lA2H9wALZ/WX8RwIwAPP/uP+o/gcAPQHpAmwBAgLP/u8AVADI/gABefoE/qAA4v2XAYEAmv8wAU8CrgP+/+0EhAE/AFEDz/8kBEsBb/+b/nAC2QG+/soD0AEFADv+e/8dBAACLf+4/uoCDQNp/yUErAGNAFcBSwJhA0sEYv8x/LcCV/4kAbb5ovuG/2L7/v4a/EcBegBA/Wf8KgFI/yr+CQHZArj+vPtvAgz/nACU/ZD7/fz0/I/+Ef5I/TD7dP34/ZP7nfzd+pj/YwB2+uoBav3N/kv/Ov/bAXT8CANF/WUAzAF/+/0AoP+DAsr/yPstAR79QwLhAHL8AAP3/2MB4wHCBUsBn/+3AdgAYQSs/8r+OwOhAsAADAKfAGADXgCRAiEAcQFcAQ/8CgMTAZAAfv8QA44A3AFxANT80gCW/5ABBPxeAAUD7PwLARIB7wCZAvD8Yv+6Abb+Lv9V/nUCAQF7ALABFASoBZf+2QJ8/uQAOwS6/QEBygBPANT8iQB2AWX+Zf75/lL/1wSVATr+XgIu/2wEH/47A+kBM/1JA+f8rQT1Aj/+F//t/jMCsv3//S4AmvwU/u/6sv2c/l/7GwMZ/Rf+ov/sAEsDGABOAgz+/v+A/isCbwJ4//D81vv+/9b71P7S+rL/rv8f/7UDWPzZ/3b9Mvwz/oj7iP00/tL9cgLaAA7/8v5u/4H/Rf1EANH7P/zcAPz9xv7A/pb+KAAI/6IAUwBSAZD+u//OA8UCcwDN/l8Dmf1//0oAIAFFAt4AEgOVANID+/+qARgBSv+T/zUDOwNaAn0EZv5SBZoBLwE1/7/7ZwBS/vsCqQBNAoIBKf4EAJj/vv+L/SX+ngD9/lsAKwQVA0EFfQCh/SwC/gOPAxcBggGDAFT/ugClALn96P8n/CP/dQKb/u4B9Puo/jUAegDlAXj+2AEXAK0C5gJuAo0E8P57/roCrgJ3/0L/TwAx//X9Mv6P/kX8xv+D/qT9XQIf/kUChf8ZAGcBdPtrATD88gEYBMf+1AHCAFkB3P31/kv+6P4p/uP8efzp+wABxv+aAU0AXv2K/7gABwJi/un8tPvy/GT/kv4+/2f9D/9w/7r9lP5XAXsA1P4i/wz/ff8FAKv/A/8KAC/+fQOiAWMAFf/r/esBPv96Aqv/gP+EAO4B2v8R/pz//P/yAGoAsgSdAaYBsADMBS8E+vziAZD+9wI3ARn9DAK3+7X9iP/S/n4DCf/vACIBtgE3A7j75ACF/lP97QKg/I4DCwK0/1wCawHcBfMA6f7UAv0B+/8qAe/9+gGu/AT/EgGB/poDSf3HA5f9JP/HAB4ARgPN+5b+wf6FAaACgAPKAN/+1QFLAnACfwJs/g/+4gEB/kj+CQBl/VX9jQEd/6z/sgPG/tj78v0S/9z+wQK2/kj90f+LAEYDhwDJATr6xvxHAnv+7gHQ/gj+mvzf/Db/2P5uAND+p/3iAY7/XgC+A03/U/1C/G/+Dv84/4n91fwXAeP/8ADAAqj9NQDf+0L+XQF4/jMDEf0MAfT/rwEEAIH9MQN//gb96v3NA/sCCwCw/6n8M/+zAXr9NwQKAuT/BAHeAWAEev7eAPn7ngFWAq0BLgEQAXcD7PvcASIAUP33/i398v7MAQ4DdwI7/nQBZgCfAHgBRf1jBMX/5QDl/ygATQPV/GIDwQBLASUAOf8nBfD/EgF6AMj/Av+CAXr/7/7CAez9pv4n/QcEBv+6/ygECf0+A+//hQC6Aq3+wwCs/XQCaAKi/0MD6f4LAuj/bwBcAmv7e//l+7X85gIR/r3/O/6cALMBAP+gAPj8xgDP/vn+wACn/0z/kvzUAAEBMQCz/ZD+8/+i/h//Y/4sANv/Xv4n/yMADgA+AG3+df8N/7H+Ov7L/l0C8P13/zz+9wCfAaD/agC//UUB5Pyf/+H/bwDY/k7+vANOAHQAYQBSAHD92P2h/WgBKgH9/mIA4ADQAdn8gwIYAxT/lv4xAigC/P4XAoP/7wFO/7IAPQJ2AM0EDvwjAIICP/3yAgAAcv7TAEr/rQCcAZIAIP75+4EBqgFBAcIAygBuAIv9hQJGAOv/gQGPAcEBUwLHAU4BXACD/7IBu/zGAR3/d/0qAbT92f9ZAFwBLP05ANkB2f8eAXP/AAGG/yUAvwH//fkB4AGQAE4DoP8oAfb9lwG4/lr+sf+X+v8BovwvAdH/fP4dA/X/PgH2/HkARf9HAAoAUv4NAeT9P/5D/60B2v5T/lIAMf9XAGP9G//oAnb+Jf8I/kP/hgEw/DYBaP7c/jsB3PwPAhwAbf49/jEBBAGD/iMBWf1SAPcBXP5O//wA9P8fAMcAiAESAe7+BwCN/UgAyv+Y/pX/OwDNAOT+BAIvAD0B2v5wAHIBKAHnAkH8MAC7ALsACQGh/+sAOgHjAED/rQJKAKD/PgCZALsAvP+gAID/hQLl/u3+KAEGABsAA/+CAGn+hP6s/6X/mAByAL4ANADDAHABVwCfAZn+r//kAZf/RgBmAEABP/2B/mgA7v9/AFP9KwBHAEv/ZABuAIICCwAy/zAAzgFjAJP/UgKj/ygCGAD//vkB3f/s/xH/7//HAQMBGP94AFQAaP/YAJwAAwHyAJkAiQFgAPgByf+8/H3/Df5j/8r9a/48/9n/SADE+8MANAFCAJ4AeACE/gT+TQG//nb/bgAZAK4APgLzAFkB0gFI/mwAsAG9/nH/FwEyAtsB//+EAjUB8AFPATMBCwXeApsDHwKUA2EEmAINA2cAyQBe/0n9efyg+w/7WPku+Qb7+Pu6+5v7P/z9/W3+7f3K/ef9B/2W/KT8yv31/U/94P0c/vb/XABOAAMAFwD8/pf8WPy5/AP/Iv67/Zb+8/0CADMAwv+6AJH/d/6r/rv+k/9b/5f+C/8G/zr/XgALAFMBPQElAPj/5/+1AZT/7v/M/7MANAJ0ApoDJwJkBNcD9QMRBUUFHgUJBKIECgYeCM4HBgckCewKrwnfCa4KXA0TDBkKvwsCDawNNQ3LDuEN9grvBWwAF/w49jzuk+rE6o7r2OzD7kv0mvdS+Z75zflN+vH4XfYr98z5tfvb/ab/NANFBUwGxQbOBlMETABI+9r4+fc29gz01fOs9p723vit+oT9dP5P/Yn9ZP6U//3+9/7t/jsCHwNpBAsG3wYJB+cEMAUmBLkCmgA2/4f/Wv+C/rH+7P5j/p/+vv1F/eT9eP0a/cL8vvzU/Uv9F/7X/2IBqQLrAb8C0AMuA3cCUwLgAXMA0P/h/5j/GAAjAFb/8/7A/j7+nv3A/Sz+WP58/sn/6QGwAyMEXQXqBTsHlwiFB38IGwjnCKMJ2Ao9DfAO7g8HD/gQNhJhE7ESzBJxE0YSExJjEOEMcAKV9fronuCe3KDYV9l53Zrlo+7K98UAKQSLAlP9Hvor+pD6Zvxz/e0AkwUaCrkP5xNwFAYOqQbA/0f6qPSb7Qro3OSI5SPpbfCh90P9e/6r/8sC0gR9Bd4CQwHFAD0B7wNxCIoLqA1NDBwKWwqDCLAFgQDR+jv2g/M+8xz04PSl9Yb21PfR+o39Zv6g/d/8avyU/I39rf4KAQwD2QN5BZcGhwdUBhcE+QF9AHQAUP+c/lz+xf2I/Ef8m/vv+3L7gfqk+kT7Nv0U/nQBDwNNBQUHEgioCiALWg1iDggQhhGuEpkUqRUpGJkajxubHJAe+B9BIMwexhnwDej8EOuI2kPNTcbGxkXLYdNf4JvxQwAoCJgKyAfwAzb+MPzk/kICmQXjCdwSXRlWHhkefxhjDrYAN/PO5oXdjdQ50HjQDdiF4uHu+vmDAGYGMwnRCrwKKAtICrgHFwjDDJ4RFBYNGD0WLhLgDEgGxP0s9sPtlObJ42vmwetC8vv4nf8fBNsHegmECAsIXASXAcn+iQAcBREHJgowDNYN0QxFCZ8FRP9U96DvsusN7T7v2vIX9ib6NP3V/gYBWALzARD9GvuL+3v9PgD+AIUDiAWYBmEGzAZzB8gEjADd/a7/qwJbBtwJNg0DESUTDRXTFHQUExEBDEQJQAnrCgoMnQ3sDhgT9hb5GEgXshGFAuXjgM1Ay9fNRMtayhPcYPK6/zIOwRm/HjYNePaW8TP3mvo29fj8PAjBDn4TSx+RKE4dMgag71jnf98L11vPydBE2M3gJPEXAzsR2xFODLIFEAbfB3MErP8x/1wEyAgLEagbih93F4gLygIq/iT5I/AS6E3nIevL8ML6Mgc2DYUKFQk2CkwKMgeuAsb/Hf5A/scABAZjCjIJ3QZ+A/gBHQDK+ur32/PN9e/3b/uBAh0EAwbzAYAAuf7e+xf5KfLQ8dHyUvbR+SkAnwMAA94CwgOIBiMF6QQCA9IERwb5BSkJuw2ADzQOIA95DtMLyQlhCZcHxAe1CV0NyRExGK8baRp/F4YFUOWJzWzOTdCyyZ3IT9wx9pAB6A7bGKEdEQhn7x3w5PgB/mH0SAGOEkQZOxxBJvsxfB/wAA7qaugZ4svUls1j1CjeCeKe8YgFtRDgCRUC2gF2CMQJ/wagB0QLFw9wEEUZnCFvHpcP8gHP/Fj6+/Q67iPpkupC7iPzdfztBRAH4P9x/gcE3AefBfMEvQbZCMQK3Q3pEjISzwgG/Fn0mvLy8bnvK+918/X3Ev9MBMcHZwcO/3v5rfRj+YL6evpJ+y385wB//zMEnAO/Aj37A/ey+bv8yP/f/AoCTgQKCKgJOw1RDzgLXQdBBQQIqQgXCcAHtwoODXcO5xCPEv8TGg4rCCwGVgYj+8nfv89Q1I7daN0h363y9QUtCrkN0hdFHiIMp/Mc9D3/FQSf/doGRBTdEe8J/gxwGFcLsfDy35blsefP3zTfg+m58evvtfigCFgRigmDAHUBmwhOC0kJJAtpDaALlwcuC00QegrG/M7zw/L29M31h/Vh9pH4h/sq/x4F8ApQCfAC5QCjBGQJdwoXCxEMoQvYCfUHOQaoAIj2hu7m7WrxIPRR9mj7AAHzA2gFugX+AwUAb/ul+Q399wCxAZb/fP/7ANX/Xv6m/AP73PfV9R/4Z/1DAj4DFAQvCCwM6g2cDjQPTQ6RCnoJcAtfDbcMAApKCbIJcgjnBioFFwLf/jz9Svnw7N/g7t/I5Mfll+Xy7Er7EAJEBgANFxOoDkf/8vsJADYDVf9LAV0K/wuLCI4JxxCrC+z6tey67MTu5OtA6oPvZvaR9g/4E/+dBsQDVP1o/NMCcwe3B0cJpgvpDL8JTAcqCJMHtQDZ9yz1Jfkf/N37C/0rAJEChAPwA6cFaQWAADb75fpj/5IAlv7O/98BFwEs/o39/f31+nH4SvdR+j/8hf2v/2EBuwMNAjgGQAhpBy0EewDrAZb+U/3x+mf5oPjx9Tn3kfl0/FX90v7xAngGEwoGDngR1hJYEkESRBJOFAMWMxXyE3oR4w7bCosHdAMW/Kz19vE38mfwIerX4gzhAOTJ5rHrg/PF/dUCZQjIDxoUlBE1COwCkwFEAtwBkwRBCHkHBwKX/1ECXv/d9brr9+gF6YLpcOxd86b4IftC/8oGlw3qC7oHFwQABOkD7AM0BgQHugQoAfAA5wL2AbD7LvYs9JP0rvXA9xb88/5Y/0YBKQUdCigLRwjYBacFXQdQBX4BoPwv+M30VfSj9lj3ePgb+aD75/55AYYB0f0b/DL6z/ld/d4C9gbUBukIZAvCDOcL9gdMAin7DvjN9gb4C/pA/G0AsQStCSYOpBEmE2QSJhGPEUkS6hOnFYMWWhYiFEoRVw7NCXQD5fqb7R3dENGQ0mPXbdgS3LfoWPj5/1oI6w/fEFoHdP9jBEcMeBBIECgWthqbFbAMdAgwBJnzAeCH2NLc0N7X3vTkAvCy9uP4VAB+CSQLXwYlBR4LCRHhE28W5xdmFkURrQuPB8gBbvdD7Lzlk+Vj5xLpauyh73jzpfd3/HkBZASiBf8GlgqaEBwTLxEyD80MxApyBrYCngDj+6v3qfP78jXz7O8Y7/fv7vMi94r5p/82AwYG4wZrCe4McwyNCrAHrAZKBhYG1AbZCMQJ7gpUC6IMMw0JCksHDgWMBscHHwoTDokQXBLGEhcRlA1oCeYGkv7E7qnh7d0D48zh2+H65RnwSvbJ9wn/qwAL/uLzVPf1ASEKgw2xDwwYExcyE2EOGQ6DBbT03ukq6ejraehZ56zq0O347SHxUvgI/C36xPocAXsKUxH+FucaKxypGggXehTLD38IyP2M9r7zWPKN8CTvku3d6rnpPuyb73DwzvIJ9RL6s/4BBUgLzQ3FEXcRpBIBE1ASpRC6CX0GUwKo/if7Jvbw9C/yWPH28Wb0svg5+eH5gvsB/2wBwwHnArgGSwv9DSUSYBcAG4QYNRZQFhEU6Q+cCgcIBgeKB+kI+AlGCwQJrgPtAlQE8/iq4szXUuDC5tzja+ci9skAX/4BAdQH5wUL9arphPK+/GsBCQLLDE0TLQ40CHQIsQmh+sjqCend8nv1p/JL9v76BvjN89/38fqH9nXxTvPC+fACcgs+EKcQohH+EIsOjw3KDIYIMwG/AIUEfgc6BaoAWfvR9F3wAO1V7U3uee0J7jbya/rt/0QAiAHlAYsEkQavCZcN9ApTCQ8HDwovCy0J2AeGA6QBTf98AFf+Tfrh9/72Tfim+d39AP/f/rAAlQZQDgQTGBVmFSwWZBdQFzwW2BR1EcYOVQ4yECsRvwzaBuMB8wHr/M3rdNqu1srdb91K3wvq6Pnu/cz9LQdaCZ0BXfBF8hf8mgBUA2wHhRPLDw4KlQgyCskBDe4q5R/nu+sf6vvr9PEo9BPyvfWr/T7+fPkB+QL/AAasDOERAhJjD7sNGwuGCNsGGQalAT/+0QBEBTwFSf/g+Ur1B/O48XzyF/T/8i7zIfQ4+vT/hgDP/o38bwAOAu4EDgg9CTEI2QVxCZcKaguhCCAGTwPqATIDjQGNAPb8pfuj+nH7K/0r/dv9hv7JAhwIhwyCEQQVVxa/FRcYtxvOGzEbmxqgGwobhRgQE8QOQAfC8uDafNN63NfaNtYM3afuEvYE9bz+0v9T+HXpVO1O/ZwD4giCC2AYkRgvE7MRrA7UBbfy/uyM8Vf21vFj7ILtH+1r6RPoDuyV60TnA+sX91sC8QggDTkP/A1wDnoNOQvsCWoK0gk8CVcOARLpDiMHEQHM+lLzQ/Ht8XTw0+0W7wH1xve4+b/5VvdS9kH27/lD/d0ASAPeAxoI3QwnDnkMOwsqDGMLMAplCjYKbgilBVAEOgOBATP/c/9b/ej6qPqy/EkAVwGmBWYI3QxKESwUjRaxF3QaBxuhHdQdUR2oGjQQL/1t63jtTvD16WLkdenR86PunO9/8Cbq7d1Z1tDn8/II/E4AdwoZFDgQkhFTEFAQLQbv/+kC/QgHCzIEjv/e+dDzrOsF6RDoFOOp4QDnmfDc9o75RfoM+Bj6Pf0R/4sB5gZnC1sL9xDUF/4XhQ++CNkFhgKyAJX/L/1C+DL3h/id+TP46fTv7+rsMPDN9H333/eG+bT7HwAZBe8HcQczBx0JoQo2DXIPxhCoDq8N+Q3nDUkKSAevBZUEaQbtBhQIPAXoBDUFUwRmBVIHUAneCosOjRRnGP4WkhdJFlkRDgGB8DHwjPKz7aTnMu5Y++L4UfaT+ZPzC+hb2+Plhe5n8aX3U/+rDDEJKgloCGAGf//q+QIBBAddCj8IBgj2BQYC+PwF+Cfzce/N72n03fi6+1b92vu6+F32Eveg9ALyB/Q2+kn9iv9CA+oEUwLX/n8AkwEJAgABtgGPA5cEoAV5BCoDe/6S+p/6z/ue+7j4tfoh/ZP+oP8N/wD+fvkG+cv5oftB/iIAigO9BokLYw6hDy0Q8Q8SENARohOBE+0SnhN1EtIP0Q8kDqIHrQF2BQELagt0DM0PNhKoDpwGLfpJ7fnpF+xU75n45gH7CDQJYgkaBevyqucI4nfnY+0D9SIBWwLeAh79Qfp3877rkutL7v721f6yB9sH9wJ3AP39+fsk++r9mv8KAd0HCwwZCnkFRwGs/UP5XfqD+wf7mPoo/BX7dvQF8cXwc/Fs8Un1IPrm+zb9RP9a/tP7FPsM+3b9RwGDB+cHDgbHBP4BhQAW/w0CLQPtBEIH6AjHCEwEQgG9/Yf8Yv38AIQEgwXxB5AIcAesBZYFoATrAoYFNghuCcQJLQsqCjMHbAgvCmAKOgnHC74OiA2IDHIMgQpoA339Gv3R/ef8k/vV/Lr+ff/1/8v/nv5x+j/2qfU5+Mn5DfrG+5X94v6G/pr+3Py7+lH6m/ls+mn6rfkx9+z0f/Vl9bT14vba+Ir6JPwY/2n/7P2p/GX9Uf+VAIgDsAVTB8gHXQZFBQYDXQCO/Xr8of0Y/Vn8zPx+/Fz68/eV9/z3fPjn+RH82P3Y/2EB+ABBASICawPzA7EEzwZkBvYEJQNJAmABFf/e/R39cv1s/Rr9Qvz0+rX61/rF+1H9iv9YAYgC1wR1ByYJ1Ag1CNgHVwf3ByEIAgkYCcIIJAjtBq4GCQRFAM39nP12/Xj8mvwO/o/+Ff/YADUCfAM0BGgF2wVeBvkG/gYCB3oHCAg+CKQI7wdjBuwDcQHe/sD8aPob+Lr2o/Z39/f3Afkn+ej42fiz+Bn4qffa98X4GvpT/L/+2P/NAIwAYv8H/kv9vfx++8v67frE+rj6MPs8+//6pvrO+tH6wftE/b39wv1Q/vL+vv78/ygChAPXA/sExAX6BJgEsgNxAroA3gA3ASkB4wFJAQcBwwDkAAgALv/S/9D/xP8gAH0Asf+b/7oASwFZAvsD1QUkBuwFhQaFBaYE0gOAA70D4gPABLwE8ARQBGICnwCr/yz+IvyA/A7+5/71/igAdAErAbcBJAKoAqgDqASiBYUGJwgOCLcGGQVfA2UA5/3c/Vb9lfzQ+3z8jvwc+7f5+fe89uH1ffYk+Nv5pvvH/If9Ev6Q/m3++/0b/n/9ffxx+/D69vkn+af5Mvog+wb8cP2U/Sb95Pwc/PP7Vvzz/ZL/DAFpAkMDsQOoA+cCzAEzAaMAqgAZAY8BeAHmABwBXgFTAcgBIAKUAm0DsQSUBXAFOgViBFUDwwIhAzwDuwMEBaMFFQZfBgUH2wUPBCADSwIVAi8CzQIDAx0DHQPyAlwCJAGy/y/+Yf2C/Dr8+PxS/bf9Sv5K/0IAqABzAYUBZgGrAUUC+gIPAw8DzQLmAoMCjAF9AKH/rf79/Pj7VPuU+pP54/iL+A/4BPhN+Nv4D/k++dX5mfrH+5z8Ev1C/Wz99v1c/pr+uv4f/1X/OP+j/zMAyf8W/vH8u/zM/Or8MP0v/h3/3v+vAPAB2QIdAl4BYAL1AzcEpASxBf0FXAVeBKwDHAKLAKD/P/8KAOYAEQHcADYBcgG1ADgAsAATAVIBRQI6A/wDbARLBDMEPARbBI4DmAJUAp0BqgAmAHIAhQCtAEkBtAElAmUCOwJsASYB4AAAAOL/fwCcAOj/HwCeAHMA8/9J/2f+oP3e/Qv+Vf5n//7/QAAjAVUC9gGIACMA4f8y/8D+CP+d/oP9r/zp+177aPpp+Zb4yPhg+UH5jfkh+m/6d/o9+4n8T/1L/o7/jADXAMEAeQAXAAAAm/9J/zr/hP/7/ykAcwD8/1z/LP9E/+P/hQBkAdwBvQLyA7QEzQReBPsDbwPCAwwEaARrBNUDWQPHAqEC8AH7AHsAdwCnAOwARAEKAW0A4f+n/93/RQCyAMkADgFFAQYBwQA8AIz/tP6r/kb/5v9vAHEAYwBGAEYA7v+l/7f/pP8cAAsBKAJUAhECAwKZAQEBUgDd/x3/yv71/iD/Q//1/oD+Ev7+/fD9s/3N/Rv+f/4G/57/0f91/2T/XP9a/zn/CP+p/lf+pf6Q/mf+B/7I/bD94P1e/j3+P/5k/qz+zf70/hL/pP54/p/+Kf+A/67/2//g/2AAwwDWAJgAXwBnAHMA2gBMAZ0BvQECAnYCqwKEArwBDQF5AAEA7v/0/0oAfwD/AGkBuwHVAUEBqABKAJEAvQAMAYYBwAHBAXwBeQEpAZ0AEwC4/wYAaABtAOj/cP8X/3/+TP5s/qr+zP5n/0gAwwANAdgATQDO//f/OgCGAE4B8gFmAocCpgI/AkoBQQBF/9r+1/4F/9b+3P4s/w3/v/57/kT+8/3r/TP+Yv7I/hj/NP91/8//z/9l/57/IwANAGL/Ev/a/lb+Lv4z/l7+gv7R/hL/Vf/L/5T/8f69/jr/n//o/00AeACeAMsAMQH6AGcAQAA4AHIA1QA9AVUBSgFiAT8B3ACMAHIAmADCAL0A3wBsAVYBkQD3/wMA6v91/+L/bwCCADIAhwD0AIYA4v/f/5AA7QBBAc4BPQINAjUBwgB3AAsAh/9h//H/gADxANcAyABqAK7/A/+d/vn+Iv9s/woApwAYAfEAtQA0AG//Ev/7/hf/zP66/h3/Rv+f/u397/0Q/lj+VP6w/jz/x//q//j/WgA7AAwABwCpAEUBLwGvAB4A+P/y/3n/mf4Z/gf+w/17/UD+j/+t/tb7k/xfAhsEtv1L+wUBwQSoAQL96f+2A2QBdP6XAMMEgQH8/V7/BALrANr9AP/mAEABEP8D/9sBQgMuAdv+dABRAukBTwBZAKkBJgLnAPv/BgGHAXMAUv/q/+gAKgHyAKsACAEkAeIAxwBaAaYB5wBqAGgBTAIMAc7/DgAvACj/3v5B/+v+hf4b/5v/Nv97/mr+yf7U/tT+xP5b/57/QwBNAOj/wv93/23/Cf8L/27+Bv7//WT+8v5T/+r+Gf6b/sD/sgAfAAUA7wD2/pX7Av+CCaII8veK9d0FRA+jAJPxePyYBj0D2va0+lwG9f+a+TL6DQWKAlH7Cv1+AdsEIv60/aICnAY6AVD73v9+BgMESv1s/kECHQQCABn9wf5gAZ8Afv28/aIAmgKGAdz9z/+KA93/sf5+ALADJwLZ/kQAcwTDBKj8Qv/tAhYCqP8f/XUCNQLJAfH+uf5sAnz/zP/R/i4AegAA/lwBYwDH/+wAxP4p/73+TQAl/fj8bAJX+xf+/QAd/yYB/vnY/CYDyQFj+zn7wgR3/4D+P/9Y/zYFAPwE/6YCpQFm/1/9AQTS/80AKvxeAAMGNv2Q/W8AeAL5AeX97P2mBaj/mv6G/sn+FwMNANUAjfvMANUDzf/O/lD89gHyAX/5+QDfApwDfvxS/MAIR//+AuX5EQXwA3L6RgNF/cAInfv7/ioDRv7dAYD7rf+kACX/MP0KAKABzwBcAAb/GP/uAXYAJQGB//H/mAROALYAIAAlA9n9Sf2zBCT+jv+T/rL/mQHG//z62P3zCPv51foRBAEBqQBc/Uv/uwN4AAD7cgGL/2IAt/pG/tIGmfvM+zL+2AJx/0X6iv/zA877xP1AAJQElATb99gEgwHhAcD/F/6kCKL8cf6u/ngEkwVm+FcCGf8O/nYGG/j0+90F7P9J/sD3bgmpBS34NQHo9QsQ8QFF89MD1QGuCoD3bP3hBcYEif1K/KD+OwMmBrb4HQHe/fQGxf3X+04FzPiaBtv7tPhPCrX7OgA1+zIAugsg9qb9P/1vBtoAevngAW4B+gX5+ST/RgD+AjEE8vsS/a7/jwP4/v8CewKI+pP/i/3BBLIFUvza+bAAkgZl/REANQF4/vf9FQII/nb/mAPk+/X9o/0tAegFhvdVAZ3+CvwcD//u7QQzBAL6lgnf9TAHcQKxAcr7H/2CBh8EJvxl+kAGywId/d75XgLIAoAEHfU0+7EEygafAB/zqwTIAxoDTvv1+d8JlwDo+/n6KQC5D872wgMk/vX4hAtf+scF2vQrBZgGJPrJBLv8PAe4/fL3vgQlArYD1f4M9zcLZP5H/X77RgCYB5v3mQW89nH90g34+AD3wAMuAfcDgf5j+oUDKwCoBHjy8/y9EY3/H/9A+GkAfwgfBoj4ZvM2Du4IOfcg+hAHNAB0AsX5bvnqA78GaATy9gkCb/aHB58G9+5SB9IE0QD1ANb1tAMvBuH/Afi9AokMafpDBy3xEP6WFTPyLQO7/DsC8Qra8d0AQQMVBg3/vewH+gMMiw28ALXxPQFG/T/2hQTo/ZETDfaJ8ocJIPa6DA76Q/2nCHH2RwV5Bb4D/QHc/6z/+PWcBuUMvffNBeH35QSbBpHysQno80MKi/os/acIm/I6Dd/skAAbC/j1JQw7/D/9sQOU+SYEYQDJAnL/BQBcAyf6KwPgAtn9fPk1AkgH5AD19wIEUwiK93H7r/1FCt7+xPoNBHb6tRBO8mrz7hBX9yADxvn+BWIHs/LKAKD1sgVEB7H9nwjp8zoAGgrO/uAAyPUOBVIPqvew/cAIxQLc/lz1hQF1AlQA1AHz/AwFtP1OA2z8tfDrENn3H/nWDW31gQxJ+eD11gbW/kIFCfr2AM8H9/eiAgD9zwauASX12giJ8LQM8gD8+9sFtvi8A6n2WgqUAN/+gf/1+XcDYgcYABv7FQAtA0EC6PbcBpP+WQWS+3v40Qyt+NAE4PiN/YkDhflXB4kAvQJ4AVP1LAH2BJL8iwDR+RINvwO4+6v/SP/vB/PzoPzG/+kCngBP+b0DzAib+IH9HgRy+xkAbgCOCN7+hQIC/DH58wM9AhX6gwHtC3P9VP8/+yL9HQLLAq74sfqUCiAABgA8AFT/xgIk9mUELwMRBF4MjfVjBbv99vu4+B/2EA91/4wDKgHB+xQHfvn18Zb/AwfXBdv8NvyPC5AEkPsA+Uf3VgOFAtwD8weFBQ8CvfWT+2r50/3aBMf9xgqoAdb9KAP0+SUATfsk+f0FSwPtARYEVwDAAyL6/Puk/pL7nQuf9kkDmAaW+RQJ4+yeBVUKffvCA4r2hQgS/az5UwRRAC4KjPtM+JUDTf1BBln8o/26BSz4ugkj+qUBcwW58qMAufblBoUERf+MAzH7zAUI/Rf//AJa+/QAoPyvA1UJzv6HAwP9QwFNAav78ADf/Cb/evxZAm8EVAH1ACH8c/w8/rb/SABfAAv/3v4zAfgBdwFqAFL/wAHMAJUBqABfAM8Ah/0X/TH8JQD///wBYwNS/xYCCgE5//H9Df2E/67/LAEJAVD/y/5DAHoBrf2J/QICTwI9AT4AHv/kAIn/4vuA/DgA2gBtAQQBMgFGAtoBAQHG/3v/XQDgAQ3+agC3/z39f/8V/1z/XQGOAXD/BgGGAeT/kfzH/VH/kwCH/Tn/wQG3AFECcP6RAc0BhP+7/5P9mv8GAv7/wwAU/y8B5wEk/g3+Wf8qAhQAtf+O/hYBfAGw/ir+1P9eAHwBe/6G/vQDegAuAJD9GwETAV0ADQFX/kgCZQFe/+/+uP6MANsAW/0TAIgATACFAAH/hf/V/xsB6v3v/ggBwgCVAZ3/rf+/AEwALv+p/1AA4gAfAN/+eQEk/oP/NgAh/6wBbv/eAcT/Q/8YAB7/agAj/uAA1QCi/uEBWQC8/yMBhv4a/4YAqv9OAPT+eP9M//X+twDf/18B1P81AGwBPAAMAPP/OwGTAO3/RAAB/+0AV//J/YsBuf48AqwA7f6BAen+vwDB/Qr+RQAN/wwBm/99/xACLABwAWf+qv//Akr/FwDR/r4AHAH1/ZH/OQBIAOYATP/lAH0Bt//eADH/zP84AIUA6/8X/gIAGwAfAd//w/+zAKkAAQA9/3H/PwCeABj+gP/I/7IBvP9x/40ADgAwAar+OP/b/+0C/v/N/u//cv9ZAF3+Fv8/ARcB3f+tAGj/xwDL/2/9yf7S/wwBUgFDALoANwGg/rX+fP5mACMCmQDL//H/AwG5/vj+6f5D/64BEgD+/0UBrgAWAJX/Vf0l/z4A3P/kAEYAAgATAcYAZv6k/8j/CwGoAP3/kwC8/6oAEP8w/m4AQQG1/3gAn/8dAccAbf64/8X/PwBc/zwA4gBDAFP/ZP8iAAkA4QANADUARgABAFMAMP87/00Auf9Y/68A3P+AADwAZP/o/+b/2ADM/24As/99AFsA1P7W/+T/0f+FAC4AOQDQALX+HQC2/4IAnP8I/+EAMP+A/63/OAC6AEEAH/9UAI0ALgC8/zcARgAa//3/vf8TAJP/K/8sAZv/y/9eAeD/9ABN/33/7//M/ykASP8vAGIAnQCBABAA2f/E/xP/7/+c/woBfgD//n4Ajv+Z/9f/H/8OAJABkAD0//X/0wCh/9j+h/+M/yABCQBv/2cARQBvALP/q/4qAOAAzv9OAHIAPAB5APv+CP8/AA8A1v8yAXoALwAZANz+iABR/+L/EgDG/2gADgCo/yH/uADt/7X/OADHAMgA7/9D/0gAiv/M/p0ACABMACoAOAD2/77/Yv/x/3sASAAvAK7/+f/v/8L/9f5gAAwAWABUAOj/kgAJAAAA4/4tAAQALv8UAJcAfgBLAP//Qf+HAEkAh/93AFsAzgAHAAT/5v+lACMAXP90/1UA2gAVAKj/2P+4ABMAYv+c/1kAbAAsAGv/AwChAOP/WABW/zsAMwARACsAiP+W/xIAtv+k/83/0v/GAIb/8f/2/6wASwBb//j/FgCQAIP/7f42AN0Aqf/B/z0AngDQ/7r/e/+2/1EBtP9n/woALQAKAIT/6P92AEMAs/9UAAIADABKAIH/iP8yAPv/8/9iAOT/TwAIAJz/7v9sABgAo/9PAMcAFABq/4v/6f8XALj/bgAtAGQAOACY/6L/2P8hAPj/5P+s/3kAIAD1/+T/q/8AAEQAEADf/2oAfAA3AHz/ff8xABYAo//g/5QA1gC2/+T/HQAOAHwAHP9TAIwA8v9HABj/TQCVAKX/cv8nAKUAWADj/87/3/8HACcAHv9SAGUAeAAxAED/IgBBAOX/qv8dAE4AeACu/57/OQATALH//f/k/yoAfQDT/zgA/P86ANn/ov8OAE8AQwDj/+b//v80AN3/zP/2/2AA6//D/xUA/v8zANr/nP8fAEUA7v/0//P/8v8gAOf/uv8vADQAzP/V/7P/7v8VAID/KQAfACUAGwB//ycAov/4/zIAev9RAAoA8P8tAKr/cgD9/7D/7//N/00ACAAkAOT/qP8ZANn/vf8GACgAcQAJANz/TAAVACUAxf8AAFEA1v8mABAACAAxAN7/1P8iADIAHgDI/x0AXADf/97/xP8gACAA8P/4/x4AFgAYANn/3P8/ABYAIQCn/xEAPwAPAOL/5f8wAPn/9v/i/04A+v/T/wYA1P/w/y4AJAD7//f/CQAaAMj//P/t/0MA+//E/yIAy/9DALD/t/////H/DADO/xAAPwAhAM7/sv/f/x8Arf/7/+f/HwAZAK7/IgDc/w4A3P+d//b/IgD4/97/lP8/AAcAjf/5/8H/WgD8/6///f81AAoA6v/W/w4ATwC8/93/0P8RADIA9v/j//v/LwDz/7r/BAA3APf/DADg/ywAJwD3/wMA4P8XABMA1v/x/2YA7/8YAOz/9f82ANr/8//w/zgA9f8FAPf//P8LAOj/3P8kAAcAFQAvAKf/OwAPAOv/wf/3/zEA4P/8/9f/+/8SAL3/5f8qAN3/QwDN/+D/HgDQ/zMA0v/r/wkA9v8VAAUAFwASAPX/IgAEAB8AOQD5/wEA4/8KAPn/4P8lADwAGgD//zMAGgD9/xMABwAdACAA6f8HABoA+v8qAPT/8v8aACoAIgADAA4AFAA6AO//4f81ACEA6//4/9X/EQAaAPH/8f8AAEoAAADl//z/GgAjAN7//f8bAOT/JgDY/+L/GgDX/yMA5//p/0YADAD+/+///v8uANL/+/8IABAAAwC4/xUA+//Y/xwA2v8XACwAAgAgAOL/MAANAPf/6P/h/yQAAADl/+n/+P8bAOn/5/8XAP7/MADm//H/GgACAPT/1f8AAAwA2//X/+j/AQAMAP3/GgD+/xoAQAAPAAQAKQAnAAIABgAZACAAOADl//X/KgD+//b/+P8aABYA7f8LACUAAwArAP7/LwAhAAsAHwAFACoA+/8RAAcA6/8MAAgA9P8FAPf/IAAQAOX/AwAQABQA3f/O/+r/4P/f/7z/yv8PAN//8/8UAA0ALwApACgAHQACAAwA5v/b/6v/n//P/4v/tv/j/wAAPAAwAFoAfgBaAB8A6v++/1H/9f7p/u7+CP9D/8r/dwAWAXkBqgHBAbEBWgGoAOT/OP/G/kn+5v3k/YX+Tf/h/3EACwHrAQECqAEsAY8A4//W/hX+4v0h/nD+Cf/u/wUB2AFgApQCXQIWAiMBJQAg/3j+KP6o/cT9JP4S/9f/VAAGAYQBxAFSAeIAegDk/zb/m/5d/mD+uf70/pf/LgDWAF8BgAGoAVsBJgGeAC0As/9i/zj/+P4Q/z//mv+q/9v/GABGAE8AEAAQAAsA+//b/+r/EQAlACoAHwBdAFkAYQA0ACUANwATACgA5P/5/+r/w/+K/2v/zf/M//f/2v8qAGoANgAoAAEANQDg/+f/wf8hAFcARQCCAFUAjAACABIAvv/Q/9H/k/8aAEEA9wDMAMAAhABNAOL/s/5E/sX9Mf7H/QD+7v74/z0BJQHxAf4BiQLIARYBngDY/8X/qv4T/8b+cv+X/+3/sgDXAK8B/AAdAVsAuv/o/sX9p/0I/U79e/3t/hgAVQEgApgCfAMHA4ICyQBHAEf/of45/gn+Kf+r/+EA7QDKARYCEgLqAbEAagD0/sL+rv01/c38Dvy3/F/88f2v/eD+GQCoAU8DVAO8BGIEPwXCA1ICIQG1/1r/c/12/SX9XP59/+T/EQHwANQBNwHYAOb/l/7P/YD8jvwd/Lj8Kv1W/g0AYQGyAmsDeATIBEME7wJ3AW4AU/8M/gn9tPx9/YH+jf9qAF0BTAI3AgMCGQFHAGj/H/6N/Sz9w/06/t3+5/94AGMBiQG0Ab0BIwHkAOv/wv9G/9z+7f42/sf+i/4g/3v/uf9/AGwALwH8AHQBMQGZAGQAbP+e/yn/Tv8u/07///8fAA8BxwA6AfAAvwBlAJH/sf8Q/1n/x/4M/1P/3/+cAGkAowBjAKgARgACAIX/6P7U/sn+DP9J/8D/IAD/AIoB4gHOAZkBVgGkAAwA1v7E/pD+3v4x/yn/IQCXAIsBMAHrAFIAk/93/5L+gv4I/n/+8P7L/3YAngAUARoBqAHmALcAFwBWAFcAAwAFAKf/jQARAFMAWv9H/1j/y/4b/1z+Lf8z/wgAgQC+AIoBBQGPAe4AAwF7AIn/pv/t/pH/Af+N//j/mQBTAaAAUAGNANwACgAT/8X+8f2q/gT+sP4k/7b/4ADnABQCoQHSAQYBOQBJAO7+Ff8n/t3+PP+G/3YAUACoATkBjQH6AFcAlQBu/6f/gf62/qH+m/44/6f+nP9p/zoAsQDNAFsB/gCWAV4BMQHQAAAAJgBY/xj/7v6X/ln/Ef+B/7r/6f+uACIAygBCAGsAywDc/9cAvv9cANf/uf+gALD/BwEEABMBKAHsAHMBNwAbAZv/Tv+0/h7+1f7A/Yj+Y/50/yQADgDrAHYAbwH6AA8B7gDmAGgBdgC6ANf/RADW/xj/J/+A/q7/R/9RAFwAdgAGAbj/LwAo/pn9Gfxr+4P8Wfzd/uj/WwOeBeoGLwj4BuQGvQMnAbr98fru+Xb4UvmG+Qz8Pv51AIIC+gLUA8oCGgJ3ABP/vv2s/Or8jv0l/6EAtALVBEQGvQYxBhoFrgMWATD+ifvb+Xj5S/lx+hP82/57AUUDCwVnBbgFIgRaAnoAe/6F/fD7K/xw/Kf9Lf9RAD8C3AKYAysDfALnAT4AGP9o/bT8FfyR+8v7CvyA/WD+q/+oALEBhAI5AusBvgAkAAn/Af5x/Tf9J/62/jUASgGOAqQDhQOdA1sCmwHw/2r+cP1J/Hb8V/x3/YX+r/8GAdABBQNIA0gD4gIuApsByAAYAJ//ef+6/1MAAwEoAvwC9wNtBEsEVQRKA4kCDQHa/yL/NP5a/iH+w/6E/+X/2wDPACUB2QAWAMX/ff49/l/9Cf36/Fj85/yM/BH9F/30/Gb9+/yU/Tb9UP1R/QL9Sv2//AP9u/wY/Wz9w/2K/gX/FACTAGMBmAGwAZYBLgHuAAEAgf/H/qH+u/6p/kL/i/+rAGMB+QGbApgCLAOlAkkCqQH4AO8AcADAAP4A9wEfA1gEBAbeBu8HKghjCAMINwdwBmgFUwW9BCcFcgVaBl8HrAdWCIoHQgeMBa8DbgF9/rj8/PnO+Bb3TvYT9nb1L/at9Sf21vW29bP19fQq9bf0CvWZ9Vv21Pcy+TH7Kv3v/sgAzgEVA6EDsQOtAwID8AJWAlECOgJqAvsCEwO5A6UD3QMbA1MCRgGf/2v+Yfyi+0X6s/lR+Sb5J/ot+ov78vtN/Vn+tv70//P/FAEWAX0BDwIcAv8C9wLQA0gElQQOBewEUwUaBb0EXATTA7sDRgP6AtgCjQKwAnYCWwJQAhYCWAJvAsYCHgO2A40ELQWjBf0FOAZkBlkGPwbgBjoHZQh8Ce4KrgxTDVIOvA3bDFsKewZnA1n/Tfx5+MP1xfTE8x70bvMX9Dj0UPN+8kHwCO/O7CPrUeq56fzqSOy/77bzhffd+xX/ywKrBLYFQwbnBcgFoQRuBJoEYgXLBjIILQpbCzAMPgyZCxAKVweBBFEBiv6p+5z5e/gS+Hj4xvjM+YX6HPtY+zP71PrN+eb4/vej95r33/fm+GX6YPwq/kIAVQIiBGUF6QVZBg0GogXhBGoEJwS0A7kD7gOzBF8F4wVZBo8GtwZhBvIFbgXRBFoE0gOlA78DEgTpBMEFgQZAB7cHsQjgCLcIPghZBxUHyAWQBRUFDwXMBbwFHwclBwoIJAgHB/YFQAIJAFj8cPmh9hnzZvJ18AfxtPDv8Gjyp/Fn8pzwQ/CZ73TuX+9o7mrwlvFw9CP4svoa/xgBiAT+BQgH7AdgBxsI8AYPB38GqQadB88HEgn+CLkJTQliCAUHkQTKAoL/F/0V+uD3dfbk9Pr0gfRv9er1gfZw9y/3wvdH91v3CPeL9kz3o/eY+eD65vxQ/zUBtQOeBF4GOAexB9kHDgc0B4cGnwZmBl0G3QbmBigI3wgSCuQK0AsZDVMNug1zDcsNuw1uDZkNBw6BD7sQfhIZFHwVYhbzFeEU/hENDhUJxwOb/iz5M/VH8t7wne+q7q/udu757aXrMult5pTjNuEM3yrfD+C44nzmJOvR8Mf1U/tz/40CIQSaBH4FQQU+BfME3AXwB+UJfAyNDh4RqBKrEpwR5g7iC8MHkwOR/+77qfld+IL4BPna+WP73vzy/ZP9dPxa+/H5a/iP9r/17PWu9hv4w/lD/Kf+ygBPAucCAAMkAp8B2ADL/wH/Xf4h/8v/5ABNAsgDdwXPBfEFRgV7BGYDpAFhAMH+7f1t/ZX9iP5B/9QA8QEzA/wDawRVBYwFNgZCBsMGxQeTCBUKYAu/DZAP1hDoEVsSZxNpE14TphKoEb8QJQ8ADjoMsgriCI0G2gPK/zP83PgW9gnzAu/y61jp9Odv5uLkK+R143zjAeMl4zLk0+XW6IPrdu5U8cT0iPmK/TQBcgPVBUsIrwkKC1wLiwyPDQ8OMw6FDbsNgA1UDT8M2gl2B74EwQJfAOf9zfsa+kb5G/gW93n2dPaR9gn2DPUI9KXzJfQm9Qv2Hvc7+Oj52/th/aD+Xv91ABgBVQGXAQACcwPKBCcG9QZXB/YHSQjXCHwIkQd9BnkFJgWlBKwEVQXBBrIIPQqcC7YM7w0UD3wPTg+bDmoOPQ/TECYThRVqGEsbDx1fHYMbdBg0FIoOHwjvAPH6zfaC9HrzEfLL8Pbu7ezh6WXlt+DT2z7YndWt1OjV8tg83rbjE+l27dvwIPRj9iH40PiX+V/7/P2tAXYFzQkHDmkRyxNJFLsTQRI5EPUNJwvLCPkGQAZuBp4GsAYLBhkFhgMUAVj+ZPs7+aP3g/Yw9mL2rPcz+cf67/sp/FH8G/wY/B/8Q/wY/Tf+GQDNAXQDMQWtBiwIsgiyCDIIlAdrB0gHQAfSBjgGsAUMBXgEcQMjAp8Ax/72/BP7v/n++K74xfjb+Ev54PnD+tf7qPyJ/U3+dv/5AJMCnQSaBtAI8wq1DGgOnw+4EKURghJTE3QTcRMPE34SqBE7ELcOkAwJCiIHDwRYAa7+H/wR+WL1r/E47uLrXuoO6fznD+f85lTnIej66Fnp0Okf6gTrtuwd7zryWvXU+C38VP+CAhkFdgfPCMYJngphC48MKw3RDRYOFQ7EDZEMHgv+CNgG3wT+AqcBKwD9/sP9c/xA+3356Pc59pn0efPx8orzkvQH9qD3/fh0+mX7JfyK/JD8sPz3/Bn+fP8MAX8CiwPMBL0FrgZBB3kHvAfTB28I1whFCYkJegm2CfoJnAoyC60LLQx7DA8NmQ0bDlMOBg7pDdsNeQ4+DwQQsRCxEHIQuw9/DiwMmwhyBEMA0Pxq+iD5mfjl9wr30PWa9DPzIPGa7qHr6Oi65u/liuay59romumO6tLrWu3z7i/wKPHJ8c7yIfS39Vf3ufhb+gX8yv01/2wA1AE5A3wEWAX6BZ0GPwcFCKwILgl0CYkJmQlqCTMJ+AgUCXQJlAlBCZQIJwgACMAHJAcZBvoE+AM2A5ECuwHCAOL/df83//f+oP5F/ib+8P2E/dP8HPyQ+xj76vr3+lX74vtt/Pr8Nv1o/Wr9R/35/FH86vvd+238c/28/iYAcgGaAj4DmQPeAxcEqwRVBQ0G6wYoCBwKGgzODekOlQ8pEHoQmhCiEOYQYhG1EZ0R9BAYEBYPlw0NC/MGRgJ+/or8tfuJ+rz4ovYG9XXzM/Eo7lnqzeYf5B/jjOPC5HDm3Oci6Yfpt+mg6lTspu5s8CnykvTo98f7wv6tAIsBTALKA9UFJQjRCe0KyguoDH8N3w35DZ0NsAw1C3UJdQgjCCsIQAgcCAoI3geyByQH7QUtBDMC4QBHAEcAkwDRAPIATgDV/u78MfsT+mT5IPkJ+Qj5S/lj+RP5Svhg9+H2EfcK+Dr5g/qr+3f8zvzg/Cn93f1F/7oA3wHDAm4DGAS6BCMFYAW1BZoGBghpCVwKjQpqCk4KhAoNCw4Mnw0nD14Q/hAjERcREBEWEesQZxBuDxUOqgwRCxEJ4QbiBEoDogFv/6L8Q/lq9RXx1eyn6Ubohui46dvq6uqD6QfneeSo4hjiE+O/5dDpYO5b8lb15vYP90n2fPUL9mn4bPwDAfkEgge/CDgJdgnbCU0K2wrHCyENnA7DDyoQ1A/VDrsNAQ3fDDMNNQ2wDJ4LLAq0CIQH3AYTBggF2AOVAnMBEwBw/pH8vfo0+TT40/ec9xb3Gfbp9Ab0xvM+9CX13vVS9nz2z/aJ9074AfmR+WD6hfve/EX+Xf8kAG8AwQBxAZICUQQiBrQHEAgzB9UFygT7BCkGCAgCCvgLzw0JD08PYA6XDMEKFgo7C80N/BCRE4IUFxNyD9wKpAYABB0DmAPNBJ4FVAUMA73+kvhX8TLrCujC6P3ro+8c8gjyfu8Z65jmu+Mw47Tll+r08Or24vpR/CX7rPgc9mL1U/e0+3EBUgZQCQUK0giwBrcE7gOKBEsG3giEC3IN0g2RDFIKwge5BaIE3QTbBecGgwd8B/EGvAU0BKECJgHf/8T+NP5P/rf+4P51/oT9GPyX+lz5ovhY+F74+Pgn+pH7hPyp/Bj8PvvC+sP6jPvg/FD+wv+3AFcBfQEQAXMAFwAfAF4A9wDRAccCpQNSBM4ECgXnBDwEmAN/AzEE8QWQCDkL8QxsDf4MSAxQCzgKYwmZCVgLQA5YEf4S9RHmDUkI+AJt/x7+5f4AAcEC4gKtAK78RPfm8PHqJufA5lXpa+3j8Jfx8e4i6rvl2+MN5f7ok+619Mz5l/wN/cf75vmU+A75IvxdARQHhAuJDdsMSwpUB6MF6wVpB1IJCgs6DGgMMgtACRsHfAWgBIkEKwWkBWwFiwSaA+MCUgLwAbUBbQHaADQA7v/j/8z/Of9f/oj9p/zT+wf7iPr1+YX5bfmw+SX6B/qF+dL4OvhB+BD5mvrr+2j81vsO+wn7mvsC/bn+iQDsAZkCyQJhArABBQFLAaACkwSkBpgIRAoSC+kKMQrKCVEKZwvlDFAODw9dD2wPuA/vDwAQGBDQD+sOZQzYCLcF1gOEAxgEJQVnBeUDrwAb/AH33PEF7tXsQu4A8QPzcvN78SLt1Oes4yvjLuau6/fxHfex+e74dPbY847ybvPG9mX8jAI5B+8IygfRBEQBAP9I/zMCTAbhCesL7gsFCrwGswMWAiYCnwPlBTgIVQmuCPQGBgV3AzMCfAHFAb4CxgNXBHkE4wNLAkYAdf47/Xv8H/xa/Jv8SPyB++/6xfp0+ov5kPg4+Kb4kvmt+oj7iPvt+qX6hPs0/b7+uf9IAFIA6v9z/6v/gQBaAVICfAPnBMwF5QVkBZMEGQSYBLwGDwr5DEMOAQ7lDIoLhgrECrwMnQ9LEgUUVBRkEhEOoAgQBM8BzQElBLIHLwp3CfYEXP5A9+fwrOwg7P/uD/MS9oX2I/T77oPoouNR4szk8ula8Cj2Svm1+Kr1efLH8GPxifQ3+s0AtQV7B2YGxAPuADL/1f/wAvcGRQoQDBUMKwr+BkEEfgOjBIQGnghdCgUL2wlNB9AERQPYAmID1wQ7BoEGbAWSA5YBgv/S/Tn9u/1Y/hb+Z/3H/O77uPpg+Xz4IvgZ+Ij4hvl5+tX6vvqk+qj6M/qs+eP5/vqF/Pn9m/8JAX0BowAK//H90v2b/ksAhwKKBHMFXQW9BL8D1QLLApwEwQfnCvYMzw3EDdkMtwt/CxgN6w+rEqwUVxUWFOAQsAzlCCcG6AShBSsIgQrpCfYFEwDZ+fHzPe9W7UzuwvDR8mrzAPIM7o3oqeOs4ebi3ebb7P7y3Paf9l7ziO8u7Vjtb/Cd9kD+xgQXCJoHVgTR/0783fss/7sEIwoQDmIPmw1TCaEE5QHNAdADHAf4CgoObQ7nCxIIswTQAqcCOgR5BiQIhwgLCBEHLgW/Am4ALP+w/j7+Kf6U/hz/s/5U/c37Zfpi+YX4Ovhd+J/4Ufke+sL6Rfrq+O338fcD+XX6M/z9/TX/O/8B/tj8bPwJ/Yb+rAA8A/cEjQUSBVEEzAPzA7IF0QgRDOkNjQ7QDocOwA1BDWMOKxH3EwsWFBejFuoTTA/6Cu0HbgZSBroHfgnNCCkF4f/U+gD2JfH+7ZPtvO5b7wvv/+2p6xbok+Qo4yfkouaD6uvuYPL58lvxBvAy8NnxbPSU+KL9swFfA/MC8AH+AMEA3gGwBDIIggpUC9YKIAlkBuIDswO5BUkIHwptCxMMsgqWB6YErAOLBAwG6AdbCWMJjgcmBZwDgwKKASQBvQEKAtkA0P4j/f/7ofox+b/4Yfkb+k367fnx+Gj3NfYL9uf2uvc1+On48fng+hr7MPuZ+0X8sfzn/Nf9U/+xAIQB6wFrAr8CJwPDA8cEFgZuB4IJ/wu5DbUN7QztDKUNcg6VDwkSIxU6F8kXURf7FfISwg5ZC3UJnwiACL8JBQs7CRQEyv2P+NjzAu8t7ITsnu697x3vJu0i6a/jMd9V3grhbuW36s3vB/Oi8tvv9+1F7nTw7vNr+REAIwXOBk4F3gIdAfcAJgNvByYMCw+nD5YOEQyMCH4FKQVLB98JsQvLDFENvQsDCGwEMgMlBIoFrwYSB1QGfASRApABfgD4/gf+h/4s/y/+Q/yI+mD5BPjP9hv3b/ig+ej5pfn8+PH3R/dq9zP44fjZ+Zz7a/0n/mv9qPyd/D/9Mv4x/4AAxQGXArsCXwIHAhYCtALOA1UFJwfKCPoJNgphCXEI5wioCzcPhBF9ElcTiBT/FHsUoRPcEvgRwhC8D4gOrgy+Ct0JkwmVB7EDlf+x+/H2RPFE7aTs5u2G7ontKes352nilN413WXeo+Hm5qXsB/Bk71Ps+um86dnrZvBZ9/H+KwR5BZoD7QB4/zUAbQOGCA8OJxK5E30S2A6sCkQIVwnSDCUQBhJ+EpcRlA5JCiQHpgYZCMoJvQp6CnYIMQXtAY//4/3r/B79sv34/Er6RfdJ9RT0CvO38onzXfRl9ODzM/OT8kzyNPNE9Ur3c/hH+Tz64vof+7P7W/1o/xcBVwKOA4gE+AQhBVIF0QWYBuwHiwnKClMLcAvvC9wMZQ1kDaENwg57ENcRqRKcE9YUshWwFfoUqROsESAPmAxiCmMIagcuCB4JcwevAsP8Zvcm8uXseelX6X3rP+0W7XvqgeWz34bbwtpV3WjiJul273ny3fDw7EPqlurF7VvzPvuMA0UJZQpjBwcDGAB2AIsE7Ao8EUcVCRZ9E4wOWQmdBr4HaQsmD3ERFxKsEJ4MdAfFAx4D7wR7B2IJdQlBB5kDAQBD/VD7pvqA+9v81fzc+ir4mfVq8/nx4/Ef85n0dfWS9QP1APRD877zVfU/9//4qvo//Eb9bv0+/aL9yf6EAI4ClgQRBpgGXAbVBYcFxAWpBlAITgrJC6EMPA1wDdMMyAuiCx0Nfg+IERITxxQbFl8WZBWUEz8RZQ4YDLgKtAnrCBcJ/Ak8CVEFUv+F+X70ge+i65HqGuwn7rfuuOwH6CHiiN3/23/dheGP5//tBfK78WHuC+sA6g3sE/Fa+HsATgdNCqEILQRVAL7/nwL2By0OUhOvFXYUKxCvCrMGVAZuCbANzhD4ESARtQ1sCKgDtAHiArwFpQjVCW8I/wTrAGj9yPqr+cL63fzv/eD8Yvp396/02vK78gv0qPX29r73g/ct9u70xPSm9QP34vgQ+8H8m/3v/Sv+Z/7h/gUAnAECA+EDhwRBBbUFHAaRBiUHywefCK8Jwgq6C5YMJw0+DUQNrg2uDtcPTxE+EysVYRaPFmMVVBLsDRsKKgixB3MIOQq0C5AKBwaG/674+/FZ7O7pDOvx7Unwi/C+7ZTnPeAl2zza/9x04oHptu9x8vHwOu376QXpXetp8Rj64gILCdgKOgh5A9z/x/+7A0MKFxHGFf8WtBTlD1YKlwZ6BrYJGQ6bEUcTvxGjDAYGHQGr/w4BBwRqBy8J6wcnBKL/f/tc+FT32viK+0b9bP1B/H/5lPV88vLxpfPl9dn3MvmI+dT4A/iS90D3Xfe1+ED71P2Y/5AA5gB7AOL/3P/TAEMCmwO3BJEFhgZxB9gHRwdCBgIGEAcxCa8Lgg0cDpsNzAxWDCUMogyODsIRmhQrFpUWfxUZEpYMRwdcBF0EvgZOCmYMmwpBBYX+y/ft8OPqDeh/6U/tvfDn8Yfvh+ni4e/b7NlM3D/iG+rr8CH0YPNj8EDtXuvv6xfwFPjHAfUJng3/CywHYAJGAP0BUAdTDmgUfRfKFu8SNw3xB0YFtgWfCPcMIxGoEs8PeQnrAtH+3v2l/+kC1QW0Bm0FqQK8/nT6cffh9k34bPpy/H39hvxx+fD15fOY85v0W/Y0+F/5xPn8+TL68PlD+Tv5dPpd/GT+WQC1ARECogFzAfYBswI9A6EDUQRwBQQHkQg1CawIpwdRB0AIHAooDJsNOg5TDkUOAw7QDXEOEBAkEuQTKhVmFU4Tqg7gCAcEsAGCAs0FAgkQCXEFsP/2+Grx5elG5ffkUegg7QDxwPHJ7ajmI99t2uPZFt575ovv0PWw92H2X/O871PtTu748339BgjjDzYS/g4HCb8DlAFyA+0IGRBBFjYZAxg+E8EM+gaKAz8DGgZEC0wQwhF/DucH6QDd+x76xvsa/yIC8QMaBPsBov2o+Cj1zvNo9Lz2P/rt/Bb9BPse+Fr1ffOg83n1jvcy+ff62fzl/YX9pPwC/Mv7Yvw0/sYAzwLzA48EwwRGBIMDCgP6AnIDnwTKBi4JnwoIC6IK1QkZCQwJ7AlfC1MNdQ9IETwSjxLOEpYSyhEfEYsQPA/kDDUKwQeNBWQEmQTPBFUDIQAM/BH30/CO6ormt+Vo54Pqlu2B7jvsh+eQ4vTen90/4J7mcu7I9Dj4Mvmk90T0Q/FE8Wf1Mv3KBt8OihJOERgNLwiLBM8DwAaSDDUTKxhVGRMWwQ/xCH4D+ABeAiAHnwx8D1EObQmjAl/8efjK95b5rfwnAL0CcgLB/mv5kvSV8QHxSvOM93L7dP1O/Uv7JPhc9Wz0T/X29lX5lvy1/4MBvQH5AKn/qv63/t3/sAFyA00FtgYMB2gGTgVSBHEDLAPZA1kFQAf7CDEKeQq3CaYI9Af6B9AIzgrhDfoQPxOJFOcU8hPlEVMPVgwtCeoGLgZyBggHdgcHB9IEvwCJ+5n1Fe8R6V3l5+Q+5y3rzu7c7zftBejA4ibfC95T4OXlW+1M9Az5NPuG+p33JvS68q/0TvoLA2UMJhNGFWgTlg+QC9kIsAiJC2MQbxXTGMEYUhXdDwYKBwW9AdkA/gHwA/oEGQQiAbv8Evg29IDxQ/AE8cXzQPdY+RH50vbC8wzx8++K8Zn1wvpg/zgCpgIfASn/M/6U/vz/bwKuBesIGAupC6MKtQidBsQEuwPFA/kEtwbLB34H0wWFA5IBqgAfAYsChQSPBgQIMwgrB1kGGwe9CSENDhBfEnUULha/FyIZdRngFkwQLAdl/pr41fcw/KIBCQNX/uf1z+xs5Dvdc9jf1prXQtr43jzliuql7CTraOfo49Lj++lp9cUBzwqOD+UQyg+dDUsMdQ29ECwUYxZyFyIY/RhIGYAX9RITDFoEaP7r+1/8T/5EAKMAv/1697fwdOzP6r7p9Oi76YPss/A+9XD5kfu1+v73q/WN9TP4N/42BmEMsQ0eC3wIgwd3B5oHfAjoCakKogpMCsQJVwgqBlMD4v/a/Lf7Jv15/0MAAf8X/Z/7fvqP+W35Vvp3+yL86vzu/kICtQUECGUIiQcxB6sIlAukDl0RGhQ6Fxoa1hsrHEQcthzHHN4bphoFGW0UNgsM/67zS+xh6rXsb+/b7gDr8uU54MfYkdD6ysDJQszg0QfbmObB8Eb25vYP9d/zUfZ3/QsHAxD1FrMc1yAwInAhZyBfH5UcthcJE+gQfhEGEzYTjxC7CrECp/l58Z/rmOgt6BjpDOqK6lnrw+xM7SHrIedE5NzkZemE8dn7hAW1C2YNAAzkCfMI8glCDEMO+w5oD+cQ/RIQFMsS9w45CQQDKP53+5z6Y/oX+nH5Z/h39+v2fPZd9W7zf/Ef8VLzcPcm/EUAaAMnBYUFogVzBgYI3AkyDDEPjBJCFpgZExvBGQEXkxUWFngX4hjuGmMdih6wHUMbNBdnDxMDz/Qk6DLg1t4Y45TosuoM6XrlNOCL2AfQJMpsyHTKqtAg3Dfr8Pj/AAQDewEh/2L+YQEhCHYQHBh6HlojuSU5Jeoiah/uGYMShQuaB5EGvwbUBigGwwOl/kr35O/L6d7kbuFW4MnhtuQq6WXviPUv+Hj2J/Mw8fLx6/VY/fYGFxBZFl8ZFRoTGbcWdxNhD40K7QYlB88KNg6KDjQM7QeGAQP62fO275PsYeot6lbsNvAV9en4lPl198n0OvNq86f17Pks/5QE5gm+Dk0S/hPdExASwQ91DngPrxLSFlsaFxzpG70a1RlNGQ8YrBWpE2QTIRRuFBQU6RElCyL/8fAj5PParNdK2rzeAOHv4WXjUuM837bYeNNP0CrPs9Jg3fPsH/wkB0ANNA8kDoAMzQyBD6ASdBUBGS0doSDAIroj4iF3G3oRuAdnAJn7NfnW+Dr5ifgw9rXyR+/X63/nreI/33jeROD85I7sC/V8+6/+1f9IAEABnAMeBzULXw9cE/0WChphHFkdmRzgGYoU/gzPBYsBdf8m/n39YP21/Lf6Lvj49FHwpur85dDjZeQ86OPuQPYF/HT/4wDCACsAAwB4AG8BVQMEB9UMsxM4GdsbpRsKGQEVPxFuD8EPwxDNEUQTwRWCGDEa1xliF78Tew/iC98JMAjDA4r7WPHs5uHdgdl927bfTeEp4Yvi8uNz4ijf7txZ2zzZDdqg4XvusvtdBioOYxK7EncRnBE/ExUU7xPEFAgXghmtG7odtR35GCcQxgYZ/0v5evXM81fzSvL175Dtt+x77ALraOgO5rDkY+Rf5uTrfPMr+gz/pgK/BegISgyZD9QRCxPpE8kUFhbcF6oZZxrUGDUUSA2BBugB9f4B/NT4L/Yw9IDyWvHc8Frw5u5C7Jvp9+hC653vjPRP+Xz92gCWA+AFoAdeCEcIAgiMCPAKKw/cE0wXkBi2F14VxhIBEfYPFQ97DvYO3xCVE54VNBb3FSsVDxMYEMUNvQodBP/5du925Ynch9jQ2hnfBOHX4innHupH6NbjdOA73ffYItjy3pDrxviVBHsPUhcJGgEZeBegFRUSrA4ODioQNBMzF8Eb7B0uG0gUnwsuAh/56vEi7Wjq2+hd6CTpVOvv7QLve+407UjruOiV5wPqC+/N9O36tgFdCDgOPxPqFoUYOxj+FqcVaBRrEwcTURMlEwgRCQ07CXkG+wIa/v74rfSh8Ors7+rx6hLsbe2h7v/vlfFh8x/15vbn+OH6Mv1BANwDCwejCesLGg0HDV4NIQ/8ELIR9hEQEkIRaw8NDkYOSQ/7DysQFRHREtATTBOJEhkSBBCPDNMK6Aq2CH8Ck/uK9LXq3d902pDbOt0+3cHfWeZL6zTrsOmP6bHnMOK03oDiV+tm9Oz9TAntEkoXhBjvGQkalRbxEQ0P8g2UDX4O4BB/EkYRnQ1yCT8FRgB4+vL0+O9L6rzkX+IT5FHnV+on7l/yqPTO9Av1L/Y290v4bfrL/VcCNwgKD34VVBoJHVodsRvaGLQVaBKpDlIK1gUCAk7/Pv66/gn/5PyC+Ofz9u8w7GTpu+gn6XTp3OoF7+H0g/os/1ECYQP9Ap4CCQPwA2AFxQaJB+QINwxSEPESPBSiFCsTDxBNDc8L5wqUCq0Ldg3uDtAQlBMyFeUTVRGgDygOTgtTCNoGhgSW/gX3QvHm69/kEuCY4OXiD+Mx5GTp0u0t7afqSOp86TDmHeX96e3xpvjm/mkGCA3nECcTtxVyF1AWFBMhEI0OMA26C1EKswiPBlUE6wLmAXoAUv5++nn0ue3U6IPm7OUI57/pNO188Az0OvhX/G7/FgHFAQcCgALtA/wGnQtzEFcUOBdrGdUa8BoiGYsUsA18BjMA3PqK9+b3GvpX+m34Cfdf9uPzJvCO7cHr1en86MXrTvEv9zz8UgB4AyMFHgaqBqcGLAZgBcMEqgQ6BiQJCAzXDY8ONQ8+D6UO4A1HDZoMxwv+C7QMIg0SDgYQgBFrESgS1hOjE3kRAxDMDmcJMgG5+jT1iOzr45jituVG5jDl7egH72TveuvK6SrqsOaV4WHiqei07gvzY/p8A4oJHg2dEbEW4xdCFngUOhKMDr0KqAgiBk0DXAJJA8wD0gJIArIA9fsK9cHuVeow5lfjDeNj5Q3pZe1p87v5qv5dATMDogTmBF8F7warCQcMZg7KER8V8BfqGSUbahkdFKINQQeOAff7Efhh9j31R/SH8x/0jPSg87fxYe/f7crst+128P/zj/d0+qb9WACMA5sGlAh3CaQJHQp2CQwJiQk7CukJiwjDCM4JEwtsDAsOYA/QDgAOTQ0HDYYMowuYC4oLFAyoDCoONBDlEE4Q0A45DjYM6Ae2Agn9JfY97R3nluX45ZXlBebZ6c3souzz677t2u5U68bnCOjA6onss+/49lv+twOGCGcP2BRrFlQWeRQhEEAJCAQOAXD+HP2V/Zn/jwBkAd4CzQJIAE/7JfZd8AbrauhN6G3qLO3e8W/3oPz9ASEHlgsFDWsNow3mDGYL+wktCqcJ/wg8CvsMIA8YDwkPCg6mCo4FlQCA/Az3svH77Y/sfOwX7aDvrvLa9Sv4pPpD/VP+VP4j/U/8svtA/NL+7QFuBS0I8ArjDGINKQ30C0gKTwfSBOcDuATHBrEIBgvJDAcOUg4oDpYOOA4BDfgKuQk9CToJugocDdgPdBH/EiMUUhNRED8L1gSc+yXx0egF5GjhV9884K3jBefH6KfqXe137SPrseiw5+PmDufI6rvwovaS/LUEPg27Et8V8xfeFxEUPQ+vC+gHSQNk/0P+mv3g/Kj9tv+7APD+//w/+5v4xPQK8abuWOyd63jtkvHD9pT8hwMuCXYNwRBqEycUgBKzEB0OEgtbCPgHvwiFCOwI1gn9CZ0HUwSsAar9MPgm8sntQeq85yjo3erf7jbyNPYn+g39+f4yAH8BEAEpAD0AZwGMAvgCjARHBnoHIggyCTsLAQwqDKULDwsDCp0HQwXKAlgByACkAZgDfAXlBzMKPw2kD44Q6A9YDo4NdgyKDCEOhRHWFOYVuBUAFLkQ2Ahj/e/xP+gz4TncStwB4LjkVOm47fHyIfUd9M7wPO2a6kfoIuk+7Fbx4fa7/DYExgsZE7oXeBlbGKwUrQ87Cf8CIv2C+IH1rfTY9rP6+f7MAQMDxAEr/hv5bPO17gPrVun56T7tJfNH+iACvAllELUU4xWCFUYURhKtDhILvwiMBpkEfwOFBJkFXwVPBDoCpv8c/Jr4wPR98JTsjOk56CvoqOow7zH0afhu/OQAGQTHBQYGggXEA1sByv98/4QASwIHBS0ICgucDSYPdw9GDt0LcggCBHIA+f1W/HT7M/wX/z4CkgVOCf0Mbw9OEIIQeQ+2DWQM/gtFDLMNVxEGFRcXHxiCGIoV7w2MBcn+vfdb70vqCupF6mXpw+oh73rxifBs7ynvIu1r6RToE+k36rPrQvDP9vL8wgNnC9kQ6hFmEY4P9AqcBM3/7/y4+bP3yfiW+4L9OP+MARECkf/v+7X4yvR28GLus+7Q79jxS/YU/McBoQefDYURfRIIEoQQtA32CTkH3gQbAub/3/9HAZEC5wO3BBQESgHl/ST6gvX78C3tc+qi6LXp4O3d8uD3Df1/AokFmwYYB7IGRQTDAPf+Of4y/kv/aAK6BVMIsQo/DFYMoAo3CLAEOABq/PX5c/ii98L4m/uV/o4BYQWJCQMMNg1LDqgOZA1kDDANaQ48D84Q7hPPFkgZDBx8Hn0eIxx9GS0WSRGTC4gG9QBx+TDyDO6v60npyufD5+rnQ+co6Cnqeeun66/rYOwz7JztsvB49FD30/ly/TIAeAKRBBsHHAfrBAkDtAGj//T8QvwT/B/7+PmC+pj7U/sJ+1L7NPsn+qL5bPpA+xb8qP2Y/xwBaQLzAwoFOwWIBRMGEwZ1BcEF4Qa0BgwGBwZVBv4E/ALOAfv/IP2O+on5svif9z73efd69x/3p/eN+MT4S/gf+G/4g/iP+bH7E/5p/xUBbgM2BVIG4gY4B68FhgOtAVgAEP/w/cH9lv3g/dr+YgDnAQEDAgS/BCsFxwXsBhgITwkRC9AN+BCBE+AVpRdrGLQXdRb6FNUSxRC6DnoN7wyQDVIOmA7WDqAONw0rCvsG/gLP/er3C/Nx7ynsLOqm6Unrw+xy7mvw4vG98rDxA/GR74/u4+3A7cbuhvAu9IX33/rB/ToAJAGqADgARP+I/Vv7XPqI+Vv5JPrN+8v9Mf8AAQQCVAICAoQBsQBY/pP8VPvE+i76dfql/Iv+UwBfAjYFJwcnCO8I9gjtBzYGFgWxA70CLwIPApIBDAFFAYsAQP/g/PX6mvir9ffzI/OI83jzpPQy9/j5xvxS/+YBGgNdA0UDrwJyAU4ALf/w/Wz9LP6d/5EALgLBA6UE4wQWBc8FXwWmBPUD1QMZBDoEVQWeBvYH/AgTCmQLXAxCDcMNoA0yDR4NFg1RDSUOwg8nERoSjhNkFKwUDxQ7E6sR9w6LDI8J2gbpA2YBlP6U+jP3BPRP8SLupOub6qbpdujv5+vo9Olh6iTr8uxG7krv8vAb8zf13fZK+Sf7iPzM/Z7+Lv8E/6b/2f9u/0T/YP/j/6r/ov/Q/4H/ev5r/T79C/1Z/CT8tvz1/E39Y/4oAGkBfAIdBGIFuAbjBzwJ9gkYClgKzwkSCQUIEQfPBRQEsQIoAWz/+Pxz+ib48fXi83DyovHF8JrwUPEf8xj1ufdC+gr8iP3F/kMA0gCJAesB0QHYASkCCgPGA3oEiQTPA9YC7wH6AAkAd/9g/3f/wv/ZAKACegTaBf0GVwj6CCkJhwlcCgULSQt1DOANVA/UEMwSsRTaFbAWuxafFbUTvBFSD7cMcwrjCHUHGgZxBecEDAQgAsn/bvy899PycO4261Po6+ah53npA+xt74Lz7fYD+d/5xvlr+Jv2CPXf83fz9vN59WX3xfme/D7/8gBeAQwBq/+L/Ub7Z/lJ+E73O/cO+J35f/uq/fX/igGCAuQC5gJwAgMCBwJ2AjgDlgSTBqYIuApMDFoNkw3bDPoK/gfWBFYB7f0V+x754PfX9lT2SPad9u323vaR9rv1jPSa82XzAfQX9b/25fgY+0v9tP/XAVED1wOjA6ICHAHd/8b+/P1c/Vz9y/2u/isACAIHBIUFwAa/B2UIiwiZCLsItwjMCEgJJgoHCxYMTA2MDoAPNxDVEOYQoxABEFMPfA6WDewMBQw7C3wK+gmsCWYJSwniCCUIEAfXBU4EbAJzACf+fvuj+HH23PTA8//y4vIS8xvzI/MF8+7ybvLY8Q3xIPBP7/juRe/+7y7xvPJW9NH1PvfW+DX6LfsO/JH88/wT/Yz9Kf7n/rr/XADnADsBwwE1ArICEANkA8AD7AMmBI8ETAX2BZwGKAdaB2QHOAfyBlYGvQXuBNEDkwJWAUIAFf8b/ij9/vuV+iP5t/dD9s/0qvPK8gbyp/ED8gfzh/Rb9oP4zPqw/F/+0f/9ALUBMgKUAsUC5gIUA3sD6QNbBMIE/wT8BL8EgQQzBPAD8gMYBDUEZQThBH4FRQYuB/kHXQhTCCQIBAgNCF8IIgk3CnsL1wygDpsQWRKuE0AU7hOkEt4Q8w71DE8L9AnFCNQHQQfpBn8G7QXTBMACbf9k+xH3zfIC7x7sOurv6Gno4ehl6n3sr+6k8AvyYPLQ8Srx5/AI8X/xhPLs8531rPdP+oj9bABrAlQDSgOnAowBnQAGAJH/9v5L/iP+k/6E/70AFQJDA7MDqwPKAzcE9gSmBTgGlwahBoAGigbuBjoHFwd9BlAFxwNOAvkAwv+L/hP9RfuT+VL4ZPe29mf2L/ac9eH0aPRU9Lj0YfVu9uz3dvkE+678qv5qAIQBWAL8AhoDwQJ2AmACRgLpAZ0BdAE2AdYAbwBrAHgAaQB2AN4AsQGwAi8EOwZ2CIUKOwybDYIOFg9iD6YP+A8sED4QYBDAECQRdhGVEY8RFBEMEOgOxg3TDDAMfgu4CpAJvAeSBUcD1wCq/b/5ZPX18Kfsgek66CDoiug56aLqQuzn7cHvqPEQ8+nyuvHY8NzwVfEz8iL0bfY3+PH5ffzA/3ACuAP6A08DwwHi/5X+Xf5p/jP+C/6x/tz/RgENA7IEsAXKBV0FxQR6BKwE4wQNBW4F6QU4BpwGdgdSCM4IjgixB4gG7gQlA2wB6f8j/vT7Dvqh+Hj3ofaL9qL2PfbR9az11fUi9tn28vfI+Cz5ZPnP+WP6vvr6+o37Tvzu/Mv9Pf+4AFcBJgHNAEUAmf8h/yP/Uf+D/+f/1AB6AmEEUAb2B1cJiQqkC8gMvg1kDs8OAA9SD2wQdRKIFOgVpxbRFj0WJxUxFP4SGRGEDhcMeQrCCdAJJAo/ClMJawcaBSQCv/2v9+nwGOq54w3goN854YTj8+VC6XPsp+9E84P2dPjv93v2hfWu9TT2sfb89/j4vfko+yn+AwKaBGgFdwQ6AtP/v/1w/Nj7VPuS+uP5gPpi/DX/HQJMBLIFPgZrBn4GEAcVCJwIXQicB2EHoQdTCJYJ0QqlCyELlQmcB7UFuwMWAUL+Xfse+AL18PIk8sLxufEC8hnyR/Ki8srzRPXD9hX42PjQ+aD6ovsK/Sr+rf5R/vb9zP0X/jz/fgBgAXUBFwGdAEcAkgDzAAABuABaAJEANAGQAlIEIQYZCL4JzAv8DR4QlBFcEl4T+xNRFHUUfhRNFIMTARPhEsESRBJbEQoR5hAZEX4RlRHNEGEOrAtnCI8Ddvyk83TqWuFP2wHaFdx337niH+ef64vv+/Pl9+f5H/jE9OHyTPJ08uHyafTB9dr2nvk+/lUDWgYeB90FCgMUAIH9JvuR+Iz23/VO9gL48/r1/lYCTgRWBnAIvAkPCSEIHAgACOMHFgguCZoJMwmCCb0KaQzeDA8MUAp3B4IExgHM/6r9xfom+Kb1xfN/8lPySvPR8xn0nvSW9UP2bfZy99j4TPqi+8b9GgHDA6MFhgZWBpoEygGf/9n9VfyS+rj4Ovf69UH2u/e9+aP7H/3C/vH/SwG8AvoDLQXkBVEHbgnRC1wOoxA4EwoVAxZyFpgWHBd/F1UYGxkZGQQYahYIFqgWwhcjGLkW6xNUEOoNGAxzCLkAW/TH5gjb2tQi1SvYotpM24fdxOLa6fHxvvc4+dH1S/Lr8qL1Ffgw+ED3IvZ99ln6EQDfBPMFxQQqA9cBDgGI/9v8zPh19ab0dPXI9oT35/hc+3f+ewLDBXAHfwYeBR8GSgiBCiELDAu8CrMKggzNDhgQrw7cC1EJewe8BsgFGwRLAcb9wfq493300fC47S7tCe+38gH2U/j8+cD6QPz7/Z7/SQAAANAAPwLSBMkGxAbNBMoBJADZ/i7+W/0h/FL60fdY9un1h/Y/99f3nPmP/A8ABQNPBeYH2AlbC3kMwA0yDxwQFBLzFIIYbRvSHHgdWR1UHcgchRsEGlwY7BamFE0SXBCiDmAMegem/530ZufZ2szS4NH51MDY2Nxf4pXpg/By91n8UfxI+AT07fN19n/5ZPtH+xL7kvvG/lkDCgdeCIEGOgMJ/wz7GffR8gLvnOwJ7TLvu/HZ9KX4zfzZ/18C8QTDBaEEKwNCBOwG5whnCk8LWQxwDWAP0xG0EsoRjQ7WCt8HFwYeBe4CgwBB/n78ofr297f1H/S68y30I/Xx9lj4N/lk+vn8OACjARkCrwLlA3AFxwYACGkHPgWSAnYA0f7E/PX6svhB9hz07fLl8gPzuPMk9WH37/kj/H7+5gBqAyQG7wikC2wNsQ4HEPgRwBSLF6UZARqwGfoZ9xo2HHUc+BtoGjkYThaUFCgT+BAGDiQJMQEY9o7oMdzz0+zRntQy2GjbOd+k5YDtFvTy9xL40PVw8wL0KPhQ/Gz+lP6s/2QCgQXCCNAKcQuiCTUGGQLo/J/3kfLI7qjsPOxX7ZHuY/BR8yf3ovqi/DH+OP+7/0UAvwHPBPEHigoyDRgQ6BKDFKEV6RU/FBoRCg2hCbwGqwRWAzMCTAG2/339Mfq+9oP0pfPK8zn04vRi9c/1Ovca+nj9q/+HAJ8B4wOsBvEIWgqZCvEI7gUeA0IBvv+l/T375fjh9if13fP18pHyE/Mc9N71e/i6+7r+FgGqA9QG7QlGDNANxw+IEnMV/hefGRobSRx2HdIe0x80INse0Bx2GtwXJhWgEdsN6AinAcr2Yugn2lHQDM1MzyPU4tlq37rljO2x9JH58Pmv90X1/vSA+IX84v+3AW0DbgYzCSMM3A1cDrENqAo7BgwAh/mB82vu9+sq677rCO0H75vy6vWy+CD6G/pm+tP6Rvyu/dr/DQRiCPwMlxBfE4UVHhaUFi4V+hFgDcsHBgSNAa8AJgA6/4T/GP/d/XH6h/WV8hfxqvJL9G302PRZ9fT4LP3dACAD7gHUAekCZwYJCqgKhgqtB+QF5ARHAzYCxv6f/FT63/f69sP05PTD9Jv1JfgG+nL+OgGjBCMIGgp8DDAMSg3EDm8Q5hOSFY0YcRoKHNkdFh02HkEeJB6ZHFgYkBXuED8NgQi3APb2wOg93bzVKtQ+18vYqts03qzjqerC7tvxx/A48FPwWvG79S/5rv1nAOEDdQm2DI0P8g/cEE8RHA4cCsEDVv4j+S/0K/Ju8AXxX/Ez8p30iPZT+br52viQ9+71L/a69nv56P1nAhoHGgoBDokR4xNoFYgU2hLpDvoKFwjEBdAEHgM2AnMBHgA1/kb6gvaa8+PyOPQl9bv1WPXM9S/3MvhX+ej5nvsY/sEAtwOABX4HiAhfCLQHNgZ2BUsEpQNwAyYCPwDw/CH74/ri+hH7mvoO/Ij+qwEeBZkHSAoeC8oKMAqkCc4K9wtADvMQbhMpFs8W2xeMGTscxx7zHWgc5RmBFykUlQyhAYnyluSY2+3YZdx+3yjieOSd6FvuT/CQ70PrNude5ULljejy6vPt7vGz9xYAKwYvC2sO5xARE18RqQ7NCZ0EKwDX+536evny+Ur78vym/z8AdgAk//384vo89yz03vFL8k312viL/XcBWgV8CMYKGA2ADeYMrQp9CFMHJgaBBecE1AW8BxUJRgkKB6oC3vzr9wj26vab+H34PPf79nH4+vma+iP7T/vH+o75R/oV/ab/hgBHALMBNQN0AxID+AIoBCQEzwJfAVEAKgAg/8r+sP/aAd8EdQbSBy0ImwgACScItAfWBk4HAgnKCwUQoRISFD8UwxSuFtcXxRhpGPkXYRfJE7UM8ACs9Gjsaeq77VbwEvGy8KnxGPQT9FnxxOv15ZDhSt+T4Vflk+gf6oLsMPJx96r6qfy/AMkGLQrGCTgHAwVwAyUBAwCVAIUCFgTJBFUG8QcBCRgIzAUlAzMAOP10+kb5bfrh/Pf+yf+eAIYCwwRVBhsGmAR5ApAAjP9//xUAaQCIAC0BqQIxBJUE4AJW///7SPuF/bn/a//A/cn97f8iAS0Aj/4b/k7+tv1S/Uz+aP+h/sP87fzI/mP/xP2e/CX+y//8/l38MPtr/KT9dP0M/UD+qQC7AkQEoQW8BuIGRAYjBpQGIQdwB6oI7AtaEKYTcBQQFCkUJRXaFV0VXhSmE9MSFxDZCbEA8ffI88r1TvvO/yIB3wB3ASwCLACW+tHyH+t75T7jcOQp5ufl8uQ55ozqTe4675LvCvI/9rH4rPjb9wb3Q/a49fH27fn0/Kr/mQJbBrYJ/wpRCnoIzwaZBeoE6QRmBboGigiHCv0LWgwvDP0LSQz6C0EKWgfyA2cB2f9i/9j/pABZAacBJQKGAvYAufyc96T1G/jc+yv94ftE+yz8B/3q/LD88Pwv/C36Jflv+oD8l/wi+7X6t/tf/J/7Mftb/Pf9Mf4s/bX8kv3d/kcAWAIVBZwHfQitB/4G4welCawKiAqUCvkLag51EJYRcBLYE34VaRYVFtwU6BOKE6gSHA/mB4r+tPbE82H3Bf+ABVcH5gUXBeQENwKl+iDwy+an4ALeod6u4fDkTebf5izpIO1g8FTxm/Hw8p70M/Ul9BLzIfN19Kn2Sflk/HP/TgI7BYsIbAuiDOkLcgpLCZsIUwjjCMAKwQzYDdMNuw2cDagM3grkCBEH+wQTA04CoALCAjIChgFZAfMAlP/R/Zb8XvvD+Lj0cvFY8Un0Lvir+kf7+/rt+oX7s/zO/cT9KfxB+mD6wPxh/18AEAAxAPcAbwEMAXMAfwC1AOwA5wAtAfsBOQPrBJcGMwgYCe8IyAeRBi4GrQYuB2QHawj4Cj4O3BCMEhkU4RVFFoIU3xFxEGUQkA9JDNEGRQBO+TH0zvTT+/QDugbEA7QA7//q/XD3ne6p57fi+d4j3vvh2OfJ6rXqBuyE8MH00PVV9Wz2r/ii+Z34T/cI9wL3Dvd7+D/86gAABC8Ftga8CUUMJAzwCTMI+QdtCOQIpgmTCngK7AhSB4cGEwb/BF8DYwInAvYBdAHaAIAAjQDWAPEAQgAQ/8v9f/x5+iD3nfNt8hH1pfmQ/G/8a/uk+5f86fzL/Lf85vvk+eb4Xfur/6QBLgCN/lz/ewGpAtkCNQOrA14DtQLeAs8DDwRSAxwD4QS7BycJUAgdB78HmQnHCtsKIgv0C6gMUA3ZDkcR9RI5Ew8TdRP/E/wTgRP+EQAOMAdb/834TvVp9s37BwKOBJYCov9y/Tv6TPQR7fHm9eFW3h7eDeI75x/q4OqU7Cjw9/NN9iX3bfcZ92f2cPWl9IX0YvVx97v6Ev+JAxgHJwnhCtUMtQ1WDF4JuQZjBRgF4wXbB9cJWgqECd4ICAkTCfwHDgZKBDkD6gKdAqgBfwDB/4j/F//8/b381Pse+zj6ovi69RXyu/BL9I/6q/6C/pD8s/to+776GPrj+dL4UvY89Qj4fP2HAXIC/gF4AjwEBAYIBxoHZwYaBbkD6QLSAsUClAIlA98F2glcDHEM5AtxDCIN9QxcDGAMqAyfDOwMPw4BEFcRWBJGE7MTTRPdEjgSUw/5COIA1fkz9e7zEPcU/Y0BWQFA/kD7zvc48qzrz+Z04yzgot5A4d3mSOu07HrtfO8O8tvzIvUk9k/2m/Vc9er1hPYv9wf5AP03AkgHGQtFDcYNCg2KC4cJMAf5BFUDVwKyAtgE/wdvClMLggurC50LBQvACfEHxwWhAwsClwDM/mH97PxI/Vz9If2L/YT+Mv8R/wv+RvvJ9lTzD/RT+Lr7lfvE+bX4Uvi294T3YPhG+Rb5/PhT+/n/2wNYBB0C0P8l/8n/vgCXATsCVgLbAbwBsQI+BIMFrwb8CCIMLQ4CDqoMxgt7C/4KSgpICkEL0AxMDtMPVBKAFXMXnRb7E0wSWhKREWcNnwbo/0z68vXz9CP57f+DA7QB2f2r+vf2D/HA6ojmSOPH32zeHOLy6JXtDe6D7RPv3PGg8z70CPXG9X71h/RQ9Mf1Pfj++k7+rwJ9B/YK4wsdCwgKDgmpB70FNwSbA+ED3QTPBnQJhQvYC5cKPgmZCBYI4QYuBcwDzALTAbAA+/9DAEQBIQL5AR4BVQC2/wb/Fv4d/ZH7NPia82PxVPQP+qz9hf0V/ET7MPpF+Lb3gPkO+975uffX+D79ywBwAKP9q/u1+1f9s//xATgD0wJaAVcAMAFyA7gFagfdCJ0KlwsVCyAKUApzCx0MXAxpDV0PhhCUEGAR1RNDFmsWYxSgEoYS1BKLEe0N0QgTAyv9bvjS97H8RQO8BYICjv2/+XX1K+/t6DLl2OIq4HffpuOq6kfvv+8g783vOPFM8hDzqvMU82vxZ/BD8e/zefen+zMAtARbCBsKtwlrCN0HwgfGBqAE/AI0A8YEegZYCJ4KdQzIDEsLMQm1ByIHjgb/BMsCVAEvAYUB1QFEAw4GLwiOB9oEgAK2ALT+u/zf+wD72/cU8xfx5PSM+9D/+v/V/h7+Vfyu+NX1bvaQ+Lz3VvSU8xn4Pv6aAA7/Pf3C/AD9of0+/10BhgGe/979JP7d/wICxwTLBwMKfAoWCmMKnQtbDMwLFAvSC5wNzQ7rDpMPDxIpFfcW3xb3FQIV+hO1Es8QmA0QCUcE4f93/Nb7dP/nBKQGXAKz+372+fEk7HjmNuSw5OLk7eQy59jrt++C8ErvEO5U7dns6eya7WXuDu/r79TxOfUx+u7/vQSaB4oI9QdlBhIFvQSwBLQDggINA98F+wjsCjoMlA2KDvYN/wt8CSEHPgUZBDwDcAI+AsAClAM+BBcFagYjB9YFlgIN/9D8n/uj+v/5GvrM+r761/hN9l72Wvrg/sn/QP3S+uX5qfiY9i72U/gH+sv4Svds+Rr+EQEFABn9vvoj+Tr4D/mv+/j9qP6U/r3/OQIRBd8HVQoDDAAMzwrzCdUKaQ0GEFQRmRHlEdASXRROFlwYABoDG8sazRjjFQsTJxDNCy8FvP0R99Pxbe6U7m3z6/mY/Ef5TPOS7snqWObg4r/jGeil6/jt//F0+K79LP4j+274Ivim+ev7YP+0A8wGCQczBbEDHQO0AnkBpP8J/gT9QPzi+378U/3G/GP6Ofi/92r4VPn++gf+NQEOA10DEQNRAzEEpQQNBEsD7wPeBdEHdAloCzgNDg3iCcEEPACz/dv8R/0b/1MBswHo/zz9J/pu9WDw5+6L8sn4af3X/tn+Vv9g/7z8fvgN99v5mf1E/2QAGANSBYMDU/2U99L2HvqY/RT/LgD2ARoDmwLOAB3/pv6vABUFHQpVDnMRMBN8E2kTmxPAE54TGRRVFaIWHBgXGtYahhgLFGgQpQ+vD1UM8gNR+qDzIO/G6dnkjuQ36c3the2U6YfmHefi6JXof+gG7Rb13/pM/Hr82f1U/4v/x/8aAhsHtAxMD8QNuAkYBXkAPfyD+Uf4XvhV+fb5w/is9Xbyl/Ac8fXzOPcH+aH6qf1sAJ0Au/+LABYDkgWDB5MJLgwTD2IQyA7EC0kKegoUCmQINQZdBPwCgQFi//78yvsJ/E/8ofu8+hP6Nfny9y71mfDd7fHxxfuGBPQGrQM+/wr+bgA3AvkAjv8yAa4DFwPY/2380/m191D2J/dt+z8BgQN//zL5bfYR+CT7d/25/mUA+ASuC+EPGw88DHELFQ5OEyYZ4Rw9Hf0a+hbfEjUSKhYeGi8ZXxSIEMMPaQ8lC0YB+/Uu7zvtMetz58rlXOjy6xLsEejh44zkQOpJ7zrw6vBN9SX7N/0l+2n5CPxKAqcHTgkLCeoJ4QogCc0E1QAB/8z+mP7S/Pz5S/hY+Oz34fVW9Hv13Phe/Pb9gPy4+dD4pvp2/d//pgLABTkILQmuCOUHGQh7CXoKAAoXCSEJXwnFB7sDh/8c/pb/7AALABH+KP0c/T38dfpt+QD6kfqj+D70xPGv9Tf+NATrAhH9+Pld/dEDpAYKAxD9tvpm/X4ALv+0+fr0+PSf+KX84P7r/tP8PvlO9kD2jfnY/QMAJf+o/nsCegloDhcObQurCzIRzhjSHL8akxV9ErcTQxdCGi4bWxo3GUgYExfjFCoRQAu4Ayb9Ofrj+Xv31O/E5WfgT+RF7Yvxw+wB5Y/jD+qG8ZDysO0O6nrt9/WF/Ij9pPtz+5f+aANYB3EIsQb0A4UCBwNwBGkFoQTvAaH+E/27/QL/nv7I+1D4Lvew+fH8+PxN+Qr28/ZH+z7/fADo/w4ABAKTBPIF3wWuBREG4QbvB7kIaQi6BogEYgNJBHQGTgd3BR4CVP85/rH+1f9jAEX/Dv35+tv5Ufq+++b8Xfya+mX51vlv+578a/zo+tH5Aft2/U/+Dfyp+MX3YPrV/V/+b/sV+I/3Fvra/LP93vxm/Nf9fwDjAvoDPQS8BGUGbgn4DJYPahBAECYQwxDqEWYTuxSXFdMVWhVvFFkTlhJTEmwSLxLiEE4OBwvGB/AEKgLv/mL7j/h996z3dffQ9VLzYvHm8FfxWfEC8OrtD+zT6izqFuqH6nrrA+0I7+DwFvLt8rbzwPQY9nf3EvgH+C74Afl2+lP8a/49AH4BcgJ2A7IEOgbmBwEJAAkyCLwHJwgCCf8JogoEC3oLZQxYDX0NqwwOCyAJTgcEBj0FZwQQA08Bqf/F/l/+Av6Q/Vj9Vf0i/UP8svr9+Gb30/V39M7zjPTV9hL51Pk0+a/4P/my+vf7HvxF+yH6MvmI+D74f/g9+UH6S/sq/BX9+f3P/nj/jP8L/2P+W/6B/6cBHgTJBYIGQAcBCaMLTQ5YEIYRLBJsErkSBRM7E3YT/xM9FScXRBmGGlcaGhl9FzkVxhF4DZgJFwceBUkCEP6c+SP3KvfD95L2afMC8PDtEe0g7OHpi+bt43Lj/eTz5gDoPOjQ6KrqmO0c8I/xgvLy8xH2z/eN+M74mPky+2n9ov9AAWcCjgPuBK0GNAgGCRgJ8AiFCb4K8wuXDOMMaw01DnsOzg25DAwMxAsoC8wJ9geXBvkFUQX8AzUCwwC0/8r+z/3F/OH78voU+lj59fiu+Ef4Efgo+Fr4BPhl9kv0q/NQ9Rz4//lY+tf51vnS+vP7LPxF+xP6Zvlh+aH5pvlN+R/5pPkL+7f8+/3Q/qz/jAAaAUABfgFTAugDtQXlBpsHgQglCgwMBw4aEBcSdROVE94SOxKMEqcTqxQPFQcVYxVsFmUXgheYFtUUDhKyDnkLqAgABskCyv7w+mn4oPdq9y32kvNu8C7u/uwn7IDqnud25KLizeLq46Hkt+RV5WPncuoL7Vru3O4o8LryevVs94P4oflO+4n9NwAIA6QF1gdwCZ8KuAvUDLsNJg5uDhMPDhCqEJkQPhAIEAEQsQ/0DucNtQw9C1UJFgcABWkDNgL3AIT/gP7//Y79zPyw+1b6GflI+AT47veA98D2NfZx9nb3ZPgy+Pn24PUh9mz3bfhj+NT3zffi+Jn68/tK/Ln7IPsG+2/77fvm+zD7sPob+0/8cv3d/Tj+W/8yAZ0CyQIhAuMB2QKsBC8GxwbgBksHhAhnCrkM3g5uEJwR0hITFAYVVhU7FU8VtxUmFhwWnxUsFScVBBXBEyYR+A0aC6IIMQb6ArL+WPok93T1WfSd8tDvq+xi6l/ppujc5gLkmOH84N/h6+In42Tjz+St5wbrsu2j74vxMfQQ92L5IfvS/OH+JwF6A5MFUgf7CM8K1gyyDhIQuhAgEX4RrBF5EZwQbQ+KDkUO7A0cDeoLygoICocJ3whyB3oFjAMhAiEBJgDd/jv9uPvS+m/69fn4+M33KPc593/3Y/fb9mf2m/Zi9wH41PcS92L2MvbL9u33+fhi+UT5W/n1+fr6vfu/+z77tvq5+hj7UPsq+yX7kPtN/An9l/09/iT/fAC4AXICwAIQA8wD4QQqBkoHTAiVCVQLUA09D/kQjhIhFDkVWxXeFHMUcRTWFAkVghSKE+US/BJDE/QSZRG6DqUL8QjgBrMEhQEE/Vv4LvX988LzmPLS75rsqepU6lbqhOmF50Ll6OPl46XkTuXv5RPnTOlG7EDvsvGm88n1S/i2+k78Uf20/rMAGQNTBTMH/Aj6CjgNIA9lEAYRZBG2EaER7hDCD34OpA1XDTwNtgyPCz0KSQnJCEAIBQcJBdcC+gCJ/wL+S/yt+pf5//iD+N/3K/fA9sv2LPdE9+H2RPbO9eL1ZvYL94T3tffk9zP4ufhc+Qb6oPrh+ur62vrn+l77APxn/Gf8Kvwo/HL8+/yK/eX9F/4+/o7+Vf9uAE0BuwH+AXECVgOkBLQFWwbtBtoHJQmMCswLyAzbDRUPJRCsEM0Q7RBAEckRHxILEsARaRFREVARGRGFEJUPTg6SDGMKGwjcBYID3QCf/Sr6T/em9bj0gvNJ8X/uT+w8697qJeqJ6G7mGOVK5YHmxeee6Grp3+pR7VXwBvP79Jb2fPjO+jr9Lf/DAEoCFQRqBt4I+Ap3DLcNxw7CD4MQ4RDQEGMQ0A8UDysOHQ1MDMkLVAuOClcJ4QeJBo0FxQSaA98By/8E/un8Nfx3+0b65Pjb96L31ffD9yr3dvZI9tv2nPff94j3P/e898b4jflk+aH4I/ih+AH6Qfto+6r6Avpx+uD7Qv2y/Qn9Kvzu+5D8Zf2d/Tz90fz4/On9Gf/Q//X/EAC7AM4BxQJwA/wD1QT+BWQHoAioCeYKXgwNDpUPrxBlEfYRdRLiEkATkxPlExgU4hNVE9MSphKEEqMRoQ+qDH0JAAcjBeECn/91+7D3e/WP9JXzU/FM7p7rX+pc6h/qnuhH5nDkJeSA5SnnAuhM6CXpZeuZ7rDx1PNB9QP3fPk4/Ij+LgCDAR0DPAWIB3gJAQtMDJkN3A6/DxsQKRBOEEcQyg/LDrkN7Qx9DPEL5Qp3CQoI7gYgBkEFxgMVAqUAj/+u/sn9pPxW+xT6P/nV+Gj49vem95D3offw91f4rfjy+D/5o/nm+Qj6BvrX+YL5L/k8+Y/5Hvq++tv6mPqU+kf7Rvy+/Fr8lvss+zL7qfsA/Mj7a/uu++P8WP5w/wwAuQC6AcYCywOkBG8FZAZ+B7EIxQn1CkYMhQ3nDjYQMxHCER8SaRKLEqIS1xIdExsTzRKRElIStRHfEJcPwQ1tC/wIhAbCA+4AKv5a+1r44/VN9Bvze/Fk79/skeqE6U/pc+gT5vPjnuPt5Jzm3+dd6Cbozunc7gD0oPXH9QH4qPuS/vQArQOeBXsGfQjhCx4O0g4vEAMSIRKDEWMSjhPXEjcR5Q/dDX0LrArTCkwJCwbdA+UCYAHi/1L/dP5N/PL6gPvH+5v6Q/lf+Kv3Dfi7+YT6d/m4+Mv5bfs8/K/8l/z3+2H83v3r/WD72Pgh+Cj4Mvg6+Jv3O/YG9nj36/cJ92H3K/lN+rX6vvsw/P/6xfr1/N7+//7E/9ABrQJgAkwD5QRlBS0GVAjSCZwJOgpaDIIN2A1+D5cRYhLWE+wW0xdIFaUTTRWLF68YQBlLF4oSqxCaE9kThgzsA04A2v5Q/AL57fJh6KLgYeOE6f/mrt453J7g5+Os5IrmwOff5hzpY/Hp9532DPRt+LUALAUjBtYHSAo7CwQM6g20DasJPQYAB3gI2wWfAG79Ff1e/ZH9s/3C/HH7f/wDANoBWwBp/9sBtAWCCOUJ3QnxCKkJHQ2ZDwoO1QofCpcL6Qt4CWgFTQGa/jf+cP4F/KX2vPL78pT0YfQV85Py2PIZ9Lv2y/gD+AD24PbY+kn95fs9+lL7Bf2H/U/+zP4N/S/7kvzo/gX+RPsh+rb6DPuQ+tH5JPnv+Mv5Xvs3/PP7j/zI/j0BawNUBZgGFQhSC+gOqRClEYIT5xWbGPoaaBtpGmAaehsOHJwbhxm2FsoVNxaqFHIQdAyBCWIGzAG5+/n1cPH97Ybr3+iJ4pbbtt0e5iTn4OBw4PHnpexf7Vjxd/aa9ln1lvt2BHEEkP6k/xEHYAhxBKcEVgdhBLj+qv4FASD+5/ax8wr3jPn49pr0Svf5+mD8Dv+PA0MGOgelChwQVhKREEsPXBKqFvAWQRTuER4Qew3EC4kKkgZ0AXH+Ev1D+pf2DvOK71Dusu8K8R7wqu/28Qr1wfdC+gj9B/93AEkD/gXmBWkDBAMjBJABof3f/dsA+f5K+cr1vvMe8srx1PMC9LLwpe64797ylvOv8n70QPh++0z9FQCWAnIDGgUDCJEMzxCyEgQSrxFUFM8WLxhhGKAYMBokG3Ya4hj3FxQWFBTxFJIVZRNPEJYO6Az8CowJLwW//lr5LvaO9C3yhO0o5THdrNy05Orsyulk4BHg6Onk8MbwffJ89pH3ZPjg/soF0AJ1+3r9CgfsCGoCsgCOA38B2PvS+vf8X/rG9CvzuPaD+OP0QfP197H91v9xAYcFNgkkDBAPNBEsEuARexIEFeAXnxYqEUYNEgzMCgMIRwSaAL/9Bfx7+Vz23POZ8YHx1fPg9cz0yfNs9sf51Pyr/44CWgTiBKEGXwiWCFAFdwFVAN79uPkf+Lr6zfnE8tPt2esG6z/rD+5m8K3uIe6373XztvXi9fL4kP3CAfACKwUkCAsIsAgoC34P2hHXEQkScRIMFAsTShJ6FG8XoxlYGZUYjxWEE5IU7xWhF1wX7hSxEEcP5BB2D5kLAQYaAPT6p/cu9dDwMOqw3vrVq9wI7Kfu/eJS3S7jQuoS7gHzkvg8+lP5gfz3BfkIlP+P+UsCpwvMBxUCAQO1AYP5EvQb+IX7ifYG70jv0/RS9BrwtfB099P95gGxBjgLSg4GDxQR3RWtGMMXERcEGqAaoBUaD0UKJgjZBtcEMQAz++r4lPa48+fxbPF28PPw7/T89iP25fU++Hr8mgGjBgsIWwgdCYEJeQuICuECxfog/JT/fPvm+Mn3evGq6RLpMu2n7J3rZus+7SLyMfPS8t3zG/eJ+X393wSEBmoGsAYnBokHIgvuDVEMkg0xEFsPHA+9DtIO5RBlFC0WExdJGvwZ6xcKGcsY/RYSGD4b2BqWFx8WzxH1CxwG6vzP9VDybPHQ67/gEdaT0Szeq+r55hfd1d7i67nvyfHT99n8wP2b/eQIPhCMCpL+7vzbB6EIZgMwAHD/H/jV7NjutvPN8SjogeSh7FHxF/HT7b/wbfeP/fsGjQ4BFL4TNxTVGfUduh6TGw4cXh2kGqYVfQ6oCDcDSgDZ/hr8pPhF9A3yPPJG8rDwDfBw8wz4p/nd+sD+ogIZBo8JCA1aDm4OVg96DJMJlwXFAIf+gfrG8k7oUusl81Xu/eZm4grkj+SJ6fTwIe8a8Y7yYviU/gr/TP+f/dwEygcWCf8MagqfCfkGqwhpC3gN/A6yCUgMGhBTEVcTzhOSFUYYMh4nHesZrx9rIjseZB6UIscg3RxjGwwT+AHb9MPucu186k7Zj8ue11rrtOVE03/XKuVZ6DbqwvViAkMA+vj8/qMPdhO9A/b8ZgfZCh4C+/1SAqb8n+oh4uLqRfQL6yjdqeGM7ITsbuft7Mb2Ifr9/hAJ9hTGGHoUYxTdHHoksSAXHbUgGSDIFmIOYgy1Bxv/j/nk+Gv5A/fr8dXtz+6n8VHyOPSp+YX9zf6sAgQIPgq/CroOoxIzFHMUyBLPENILVgTD+KXwaPFx89D18/AN6ZXhV9744//mA+tb6nDrovJs9539HfsR+Vf5ev5BCAsJuwraB/oDlgMPBTwJDQeSB6MHEwiMDHAM6QonCkUO3BFVFesaPRtnGiUd/yHnIrYhFSEuIfUj1yFzGNYJMvp07x3r4ufX2ATPftx+6irld9Yg2f/m9uoB7c70agTKCDACtwigEgURNwHe/gULNwrhAlr9Gf8K+J/mP+Eb54DtNuVK3t3k++jF5uLjGeux9A36IgDqCY0WMhpDFakUgxutH4Qdcx13H9QbOxLzCdsFPQP2/fz24/RN9+X3l/Me8JzwA/K29CT6nwD+AxIFhwduC0AOgw8SESQTuRTkFGwUaRFuCUP9mfBF67DtPvQG+OHyount4B/gFeXq6fftO+9c9GH6WP8gAnz/dPyp+T3+OwZoC0wMaQVw/uL69v10ArME0QbaBjAJeQzdDkEOJw3/DigTVhqgHQoekyAtJDgiwxsbHKUgmiIeHa0LEfaU6kHp7eL91UDY1ui27/nmz9xn4wDrRek07aD9cRHCD9kKWhGqFCIN3f65A6YMCQqMAeb8BABS8avdPdld4uvnJeGr4mroVOu86LLlFOu98r/6AQLUDR8XPhR3DzUS5hftFvkVUhmaGaQTMwy4Bn8AV/q/9Uz0FfYN+HX3zvW/9gn3svWc+N3/NQVtBxMLrA5hDuAOdBBGEAsQxhBqEl4PIgfM+v3xT/TV9tf22PWy9L/w2uvj7ePsh+pc7DPyIPrL/TcBYwC4/cv7ofuyAtcH0QhkBQ8CwAAm/+P/pv5h/5ACgQfRDdsQbhBdDSQQphTsFr8ZLRwFH4oc4hnEF/oZgB6oGd4OBPvK7JXm4eAU2V/UKeiM9hLyHueH5XvvvOpJ7Ov3UgunFsMRkhhdGuUTHwRN/2MLjA3wDPkGagWu/BfoZN2e3SfkjeEs4xHt7/BC7wzqKOk77PX0OP4KBs4QvRX1EM0KBAxeDAgKIA3sEq0TsA0/B3wAovkx87Pt3e1l85b4Sfgb98T4FfnY9/P5+gBrCL4NLRKUFMETeBGOD10OrAx4Cw0HGv2I9Qb4ygAEAQf6HvLW7ADvvPQE+V70EfES8xz29P0cA/4C3/oo9ub5gAHgC4IMUQiIA74BKQPLBYMJ8wXXA6cFgwqdEVQU9w+YCSsNNRKfFqcfhSR6HUQUExY1GMcWrA4J+ozkn9oJ11LQrdgq7HrtUOBx3PToW/A17xLxPPtWDUQWvBqdIncj8RNiAK4CyA7oE6wQOQqgBfP5qeq74lTm+ubw3mXh5O3W9A3y6e0H67jryvWbA6wP4BWjE6YNGQ79EsQQgA3wDpMPyQu2Bw4GvP/09artv+oE7tTwRfF177ru/+/18DH0Z/mm/usBwQXJDdsTIRXVFFkTEhJGDssHBQP5AqoExfya9576PPnt897tOO7G7IzuuvUo92L7yPs7/Eb9xP2KAEwAZQbtCEUKsw2lC5EKPwkeCigK+QyWElISVBQnFkETthG+E/8VeRQqF+QbkRh1FIASUBP/FCEREgSM7ojeMNKWyXDS5OVw727lst3q41nqWulW5l3tE/yICOQT1yFNJssWVQAt+uEDmw2lESMPJwuCAUPyr+hx5+nl1t1o4MrvU/o/+W/xtOul6ZjvGPxKCt4U7xW2ElMRChJREMgOeQ9sEMcRZhLYEAoK7f/39Kzutu7h8GX0aPVd84bvhu7i73fvnvEc9yP/3gYEDCoQoxCvDEwIYgWOAjz/dgUmEXsQYQg+AGH7WvaN84L2b/MS8jjypfTm+OL2oPRs7gDuv/GS99IBuQY7C6EI5gXoCRMOkRE2EZ0WrRtdHe0hayGjHvkaFBrJG18cDh9cGh8TgBD6D04R9QgR+RLkLdKuzHvMm9ot7HnzYuvd3dzk2u2Q7UXpTO+MAuoMrRjTIs0fHQ1P9Tv0AQHJDQ8RbwuvBjT4OueR3sPesOBB3v7mQvdyAGH9kPB76D/oXfHRAAIQKBwnGyQS+QtsC48MqApwDEwRxRVKFz4SMgn8/Rr1RvHd84v86wIRAvf7yvW18i7xFvEw81D33P3eA/oGRQcmA7n8b/d7+jYFuQyFDhsJOwMzADUAYwMuAjIB3P4y/uX/M/5o+lLyLO5c7SPxq/fM+Oj2lPJM8133Sv5mBUkHRQp5DqkVYRsnH1QiOiK3JD8o0iw9LyUp2h+LGIcYrxgnEwoNGPxK44jNxcR/x4DL/Nrq5P7gLNrM3Kzq9+rp7OX2wgfhGL0fzSqKKcUd7Qw1BWYQUhUhFTgOuAdS/Bvma9y33NjdVtmP2hrpL+4N6jrlO+PQ5b7qePnVCcMV7xmUEe8MyA51EYAQEhE1GNoWjhFZD90L/AEq9NPuW/Ag9+D9Df1z+Hb0ZPKm8IzzLfuE/z8BLwXZCQUJFAFt+IH3sQGoDFMOBQucBxwDfP7i/xMDJAGf/wMCHwULBLIAv/uS9U30AfcM+1r9jfy1+OfzD/Xt+UT+SgHgA40ISwx2EAsVDBgdG2IdAiNCKjMxZzJ2KaIhBh52HU4cAhr0DqTwotBzvy+9f8SX0QrbUtQ6yVjLydXW25HceuLo834JDB7TLAkwHSXcEUEN6hmUKcwuACglHgINmfoe7iTpj+V03QjeDOgt8MHsvN9s1bvRVNm06w0AAw4zD6kKxQgiC1gQqBPyF+kc+x99IEkcLBUhCH76e/QZ9uP7Y/4n/OzzcOrj5knnGOne6truavSO+Mf8v//c/KjzDfGP/qwNdRAMDdcMCQ1HC8oLBgwRCeAF5wRxBrEJ8wl0Atn5evaa9eX1EPmt+zj5I/Zh9l/5uv0lAVQDMgfwDekVnxyGIack/SdGLeYuTi/dMPUxyjAZLMwmGR64FAAEG+lN0qTEsMC6xL7PNtCAvie0ibuUxlvJas403inwff+vDXsbjyHPGf0RKBkTKcExAC/iKVEgaRCFAXn6Zvk4887qUuir6+zqVuKO2xXZtNrc4CLsZ/gM/yQAmf9PAw8LDxLsFsAb2h4yHjEdKB5CHQEX9w7kCG0GPQVOAuH8PPeM80/wr+2H6yHqtOfb5Drky+bG7IfxOPRq9MLzIfU6+bQAwAagCp0MIA2BDu0P4BAbD8gLigrJCpgLaQoGBmQA0PoI+Uv5Dvl1+HP2TvaX96f7UwCXA7cIKw4HFn8fpyf/KVco+iwLN889LT1+OoU5tDR0JKALWvT647jZ+de54L7hXs7itJ6r1LHzsyS1W78n0drfBum0914EUgXM/7gFixyML9I1NjNRLbIjSxWWDhAQdQ9uBvn7nPqa9lDpq9qF0/fUONhs4OfoMusZ6C/iYOMT7D/6mQdCEHYXfRlQGTAZkhrVHAce+SHtJEIkEB9dFdkJGABV/igBKgFc/HH1GO+e6JDhwNv/3OLmUfB38W7vke9I70nvN/Rc/f0EdQo4D1URuBDmDd0K2wq6DX8Q4hDWD0MMywXVAHv+6/3q/gYALAA///P/9wEkBJEGrwfMCtEQCBcuGx8elCLsJbEpii5mL9wpbh7UEScEqPRQ7O3zAQIP+7PdmsgsyHfKl8PvwZzKadDl0V7Z7+gx8B/p8eXA9fwO3ht1HrchEiGXF7wP2BUAHvka2xLdD0AR5AwaAoD2Qu9J7dftpfG59Mbxnuh44ZzitebJ6bHsxvHG9v75pf31AHYDVgWYCHMNNBNDGQ4beBj8FNcTGxSDE8MRmwzFBisBqPq/9T71p/Yg8kjsoeoQ68/rqevG7CzurPL299D52fzz/zUCXAOIB+gNqw/JDwwPXw+9DskMAg6+Dq8NLAq9CPwJXAnwCfIK8Q0REu0S0Q9aDNANdA4EEGYZjiN3JfYgaR79GlUTWQq8APf43fLP7uvwBvg49KnbN8R5xNXRkdWO0YjS8tbU123Y4ODu6tDtDO4/+C4LeRazFv0SYBFoECIQtBXbGpIZkRJ5DRMOJA01CR8CCPzS+cj6Uv6R/ef41vI87/XvnvAv8uHyIPMe9Mz1zvmQ+/n7Bf3b/mcCMAX6CCIMugwQDEALfw0pDkUK1ATNATAEVgXvAZz8JvnU90/zMPB48NbwRvGl8Tf0JPVt9dH2H/fp+mwAtgWhBzMH9gg1CVQJhwmiCyUPWw+iDi0M4gnuCIcJyQwLEPAUNhidFxMVrxH/ELYU/xv6H3AeqB3lH0kiRCGuHPMVsw/ICdkCv/qW8NfnKecY7pDrMdoyzLLMidHpzKXH1Mrt0YbWWNiL347mw+eM6Prvnv3qBYoL9w97D8cL6QhhDmAUQxZEFYYTRxSCEBkLSQY/A/ADKgWEB6MFVQFW/I31IPJd8hj28ff89+L4VffP9Nfy0vTg+Qr+NwBkAVYFcQnvCaYIhwm9Cx4M9AusCoAGGQMfBkIJvATf/Jz3hfb59c31WPQd8bTx3/TD+Fj6V/nU9yD3B/yrAaIFfQggCRIJLQfICPcLzAxTDBgKzgptDBUO5Q6vDGwMEw0NDqgNAA2mEDoTSxSWFKwWThxFHkAdUBzHHT0e1BryGm0ZxBCgAsb0Xe5C7OXws/Or6DLXDM290qfXLNJ6ysbG9MyN1V/fkuWt4lvgxuLF7qr6lQBLBAsD7wK1BP4LHRThEoMOEAs+DsYSgRKZEFsM5gojCyYNVQ49CFEA6vm4+F/83/8WALP6VvbC83/xW/N/9jH55vkE+s77rP2H/yD8avYe+W0FzRJoE/wIMP8b/rQFaQqHCZcEZ/8N/+UAlwJX/3H60PgO+fD8VQDmAKv9XfnU+TX+XgTFBnkFCgQQBCAHZwqfCwgKywfLB+sJeQyzC/QIPQgjCWQHvgTdBzgKdQUdBsIRFxbvEO0PqBNWGA8Y0RMKFkAfCBx+ENAS3hIgBir2Ze3Z8CH45fvZ8eDgydS4zxDTZteJ2OXVc9ZS23ngCOXv4SjggOax8Tb7xwCzByIFQv6I/8wHWRF6EqkPywuTC7YPiRCMEOELlAdECL8JTAkUA4H/hf19/HEAJAThBDb+TPfg9nf48vpe/cT/WP5L+0j6c/jG+Gz5HfsG/3YBMQI5/xj98vtq+5H7lvml/AsCOAUABYL/Q/mn+LX/FAaNBloDfQC6/2sA8QH9A/4FqAVyBFwEUAZ5CIwH+gVsBtwKKhCcDYwHZwdLCXoGzwOvB60KKwqHCMEIWwa+AJ0D2QtwFuUJpgVMGMsPzBI3DmQJ0BouEI0NYw8tE9MQzf1K9j3nB+87A43+We2k2r7Yb+C95pTljN152s/ajeDZ5qLm8et98N/v3u1T8SUBqwYlANP8rf0cBBMNXRKCEJEJEwfFC/oOiAwFBzEFmAdFCV0IrQXxADb7QfuI/HT9+gBbAB384faA84P4qf9V/3365PeN+/AAlwPfAU36v/eG/uYEtweTBIz/af6A/gYCFASFAIMA3ALOAcoBaQKVAIT/g/5s/db/swOCBWADgwCu/yYADATrBjMEfAkrC6IAiwRgCLYFdQGM/wsMeBKmApT6dAqi/GcInAhy8e4cSvyD/40YyPcbFcf7qw3PEEkDwyZZ9dQJQQ6K/SEZxgElCjcFAwOPA0L1o/vM5aryOQRF/GL5q+UZ6PTrG+3R9bvu4+0c7XHwzfXp8aXy2e6P8VP5fvsv/zb+aPqd+f78Mv/cA7cHNgJkANMCCwQZCKYGYQHlAfgCEATuAhf/pP5M/kX+a/4C/VH/jwHy/LH4w/mwALEG2gH4/U4AMgEgAaoC6QKHBXQG0AHpAi0EWAPjAmP/1//ZBNcCw/4F/eb96QBOANv//f2n/j4A7P/QAN/8lvo0BN8GKAF7/bv1IQgbDfP2yfze/awEYAcn+pv86gPzCMX5mfl0BnIHvwc3BGX7NPr7DroBfwv6EXD2mAsXBIUP7g3kAcMN3PabD1sPPgmUEJf58wKzBwkPXgwRA60Ruvic7UUBkxClFXn4g+kK8xMHsgUb9w318uwB7d/4pf4h9yLqpurL8GvzYPtY9rTxZfKi8jj49fy1/sT4IvX09yz73QJxBEz7ZvnO+xH/kwA/AKT/5P73AKoAMQPBBUsDlv6w/foEQgnsA18EvQXGA6sIuwByAuIJk/4aAysH3gOpBPH+iAQ3BLj+KgXQAM0DUwWK/MkBTALI+xn/QwVxAHb8If8t+1n60P/D+hr2RwBB+8PxywEgANrxq/iH/075ZfuX/zD5PgLi+MHuYQnjF0n+MuUj9ggQPB3S+KfnFQfOCokQfvTB/s8bK/hA+HcAxCZzGyrlnwxUDycRYhm2/kcODiClAeL60C34Fz8EwxCX+T8DcRB+DVIM6AYu+gHz/QFkBST7v/yz8JjsffZF+R73Qe6g7Ozr/Oc+7JT3AfPL51zmiur088D4r/I57yXxMfKB+h4DkwMt+Uz1IwLaBwoH2wIs/dMFTgucCD0FeQJjAzAEjQykBYgABwrpADIB7AnJDAcHgf2dBaAIPAtGDNECWQLmAPADFA3WCqQAtfmkAMgAG/sbAmAGpPt56Z72agX3/Mb21OkS+CwI7PNJ7nn7PAEU9PHtKgPAAXvznfsfAWP8CfNbAGQDgf6SBbjy1QCmBU3zJgkWEZbzjP1xBsgH5QYg+k8YVu9EB0ASDAf1E6/1JBL1+zMmJwh99wQkXAhXDzkInBZ1GxILcP2NGPQR7SIoCpHwbhbk+QEF5BDjC8ru7O/B/L7y3Plo9sfsZOdd7WvtQu/v7SrqK+ht8f/wEPLc8m7vze8q8rb98vqk+uX82/q59/P4IgPYBwn9dfj9A5wKPAiI+uT7owuQCIIGuAShB0gQcPz5/ZIUxw8gBXL0IwWpHPAHvvze9h0Kzg+G8Xz/6AuvCiP2m+pdCBUDuAJp9ofpWAqaAcjvOPIH+8EJr/W95kf7bQxu/tPgAfNfEncCLOmS9P0Tpvyp7YEJUfnf/N0JTPN6/ZgMfABS8iL9sASN/nICZwC39sMK6QBC3DcoDxBJ0XkijAsj8RUeHAvG7HAbfxnD7sUlBA3D/b8sUu7VBIM/nfcS/boONREYFFv0zhw0ASz7xRGYC34M1+fm/nANXgbY///6vQLg817ykQAQAwzzQOgQ+Eb9f+4G8SzwLuyI7rz1HfJo8A/28Omy8if99vXG9vf6d/dA/jYEw/6ABbb9xfacDOERM/8n+/0HpA3lA8f1wwUaHKgA/OvY+8kVgQx/8Sf3KwCyEaIAx+wZBxoKl/MJ9nkJxguBBMrvf/WBEOEFM/t5+oIAbA51AXXzSPhcCyMMr/bp9Pb2nwfaCnbyFPT89xz+hgRx+8/zKO9wAEf/CvleAYft+PwZE7fw2+5xDA4NFgJV8w39UhWICpTyc/1cIKQEPd9KE7EY5Qfg/U/X9hXNJWf3ZPfC+6AZnAna/PYBigiZLq8AxuuwJtohKxFiBrT4NyFKKQkRQQH2BFsPLfRFDykVPweI+8XYa/wAB6L2ZfNP3y/rSPa966zy0PEw5s/eUuuX+mz6Bvd26Q3s7fhb/Bb9wPlO+cb7s/vDApoCIAB199j5MgoH/Vj7HwrRA3L4C/lj+QYKZA3S+Xf9sATLBIwAjgGuA5ANJRCr/P/+DwlfE9sQpPiv/oMMhg0oCiECrgCo/bL+7ABNBZwFm/mY78TyQwN7Blfz0Ozh9g77YQKK+w7x8fUO+A/+PAI+/ZT11gB9Ajn0Xf62AJMAHAKb93b35gAaBkX9VvAp9A0RMQrp6ujwSQoIGnn4YepdDeYYmhDL9pgGtya4BGILCRM4GPkmPAYSDUsWlCMUF3EKpg6IDxkj5QiQC/wPd/4dAUf2OwnpGHX1V+ua7J33Sf3w8O3uZei08GzncOgF8RTxL+uV4B3r1/Jm88/vOOwT7sHxPfQ7+qf6/Pjc9GX45P0M/mAClP4e/Gn+AwRfCT8E9PpoBVIMrALrBTMIwQVBCBcGrwfbDFcKjQYGBTwJxQs/BmcGMAQtAr0IUQYFBBsBjfw7/3UBZf/z/ucARvp19479M/1H/W7+DvXO+Jr+rvv1/N/4lfdS+lz7yfZ9+Ln53val+6n5sPdR+cH2UvrM+cL6Iv/c+xb9hfsCB4wFbP4bC98EsAKqDEUOFwvRCb0LNxhOFa0HBA3mGfsX7Az1D6gbThuaAQQI1SGAH64MUQuXDAANqA2t9osDyRJrCS/77/K68cX3fvOS60DwQu5R7pDdZuIP66TpaeTf4N/p3Oil7aTqd+p/82fycfHt+dL7K/5G+yn6cgKYBGsHeQbGBAQCoQdWCwwGgQbcBNIF0AkuBSAF/wj4BC8AgwBEBPgF4QSV/w0AGQW6Ajf/GgBHAX4CNAQXAQQCrQQ6AJb+Wv+cA1QJ5wNf+7j9nQIeAd3+UP2t/mL+hPrO+3D9Xvon+Mj2affH/eL9fvYZ9Zj4S/3L/ET3mP0IAr76MvzHAbkDJAWy/KsA8g0AA/gE2gw1CJQKdwgNDLoSuhHCDowPmRRREFERkBjcExMUzhKSEpwZ2xrTETj/E/zg/+wKMRj6CYf0XudI6E30l/kT9ILncuDl3THltu4554vjkd/o3/DoWO4X9T7y/elf6T74uAKhAbr/t/z7/b4EvwyaDX0MoAYTBugImA04ENkJeQccAwQHeAdXBA8ELAAS/l777fwjAJcA+Pne9cz4YPv++xj96Pyh+oz7+/6gAoEC/v/D/SIAyQX/BgAFLgQWBFIDV/92AuMJZgTz/cP7KgFJBqD/9vz5/Wv+mPtw+0MAuv/1+135h/w+ADj/nftq+5z9CAGiASH9CP5lAVUD4wN9BrkJ4Af9BvYIggwSEzkT9w/PEA4SCRYoFqkUrxeLFvAUVBcbGCYSxgAl93QCxw7SDksB2e9T58XpLfK58X/sY+TQ3XDfOeFO66Hm6N2X4ffk9u1t8F3yCPQf8h3yBfkUBCwHsgXxBFYHiAwpDwkPkw8jDDgLwg70EaUSpQpvA9kCkAQFBbMBQgH+/f32h/VF9qv4PfnS9l7yG/EI9LD28fjr98/43vtl/AH9zwCLAMT+WgIdBXsH7AUaA7AEAAfeBzEFjATSBBwDIQJRA80EuQD6/vf/RwBpAGr8X/3E/wb+uP2U/dr+2v/O/ZX7w/1f/5r/egE1AQwDzQTlA3cGTwuSDDYMGQ1FDlcRChXgFEAVtxc7FQkUQRnOHCkbxRZgD0MGtP66/McDYA+MC9L02OJ84nnu5/Dw5yTiLOCU3GnaJN/I4Sbj3N864DbrA+4A76jxrPMK+v/83/+xBZ0JewvGCu8OZxVuFnUTPRC0EHASAxNbEfEP4gtvB9ECQv/5/0z+tfu29mf1avME7zHwQvGk8pjvmesT8J/16fbj9xr5JfuB/nABgQNZBaQHWQi/B/QKYg4LDSYKbQhOCoQJBAPnAaAJQAcK/zH8O/r//FD7uPp6+2r6y/bX88H6pPuX+yT7bvnF+4780P16/ysDyASfBWcHzAnzDcUMFAxEEOYShhYiGeEZHRfcFJEXoBqJHhAaqxaQGM0XnhXnBVrw8ux9/tYO5gV77RfeN9se3mbf7OYT6ffZmNBX1YPjCee+4LjisehQ7gDyPPvdAxoAg/wKACIMAhfgFH0QExDNFOUaIxyUF1oSNg9ND0YSIhG2DCgECP7o+7b5s/m797b0zu/Y6k7qFevp7ZDuIeyK7BPt5PH69cD1Gfow/ycDAwVyB84KPwnrCeQP5BShFfgR/g9NDOAG1Qf+C+kMFwUb/5z8V/ob+Tr3c/je9UzyoPIP9IrzmPPJ9GL1O/hZ+SH6evx4/aD+9QApAzcGMwl6C+ULDg1gDtQP2xOcFf0VlxYGGqIb2hj5Fm0YLRviG6ca5ReCFo4PZwCg7qPqtfq/Bwb/bOeb2pDYutm026vhpeUE2SLShtkU5rToC+Iq5zDvX/W0+4sDvwmBBusEOQpTE/0a0htxFh0SAxVWGlEc4xV9D8EMdQonCaQHjwc2AFX3uPM38rfzs/B+7aftWerp6DPszO7K7mHtee708jH4lvxN/u//mQN8BqYJHw31DlIOww27EXQVPBQWDysKughNBtUCtwG9AncCv/zW9pnzgfF+81X0rPUF9u/wwfAr8tz2ifxb/ab9m/zD/s0BFQUzB2UI+wnhCEsKzQyyD/YP+QzaDX8RXxWUFFoTqBMAE70VRhklGv8VfBNCE9ETjhV7DzX8Beh96oz7bQOC9JDiu91i2YLYidpx4I7had3X3V/i2+f6593pGe7C9hr+lQQwCm0JKAz7C+QOTRWXGaAZ6RHLEasVEhUuD5EJwQnGB9cDTQAw/ub6/fcV9lXzFvIg8Fnw++8i8DfynvF38pH2dfpE+VD5uv2kAWsEWwWXCZkMVgnRCfsM0w0ODZ8LZAxFC94IQgiNBWgACvh08Db02P2q/5L4SfDY7D3tWPLQ+Cz8lfkf9Or2c/zvAVwFLQPuAw4GogcfCZYJlgmRCWAJeQiTCoULWQlVBxwIEAyWDewN9wwdDE8PThK2FB4XFhbtFZQWKhajFXYOLABz8zz1ngBGAXHygeiS5/7gZt0y4HXkGt9i2SHhOOg1697nkOkq8KXykPhxAZcIRAcmB1wLjAzFD70T1hLkDkwPaBEUD7wMZAqpBvcCqwAN/6z8D/pm9kL1QPQH82nyd/Ld89nxcfKS9fP4EPy7/Gr9FP2uAPEE6gaWClEMgAvUCjgNWQ3YCaIItQphC/IJ3wg6A1//x/zS+Uz0Z+1W9AX65Ph29Q3xwvHa8Xr1dvuz/mP9yvvZ/kYDTgbWBPsF7wkzCvUIhwfgBtEGSgd/BTMFOgivB4cFtAQpB9cHRAkADnoPfA54DRIQchNXF+EZohteGtoTLQ5qAjzxo+/jAP8B1/H96PPpf+dj3oXi1OEo3WbiAun58ejyP/GV7wv1Dv3X/hEHJQtZDLoNow3gCs4IcA+iDNoHIQulC2oGIQEtAJT5mvmk/tD71veN9UDzhu+y9Hr3JfS39vr4oPgF9Xz4cPyD/bMF+QQlAncEQQU8BeQFpAtwC2cJAgylCAYDNgEFA3gC0QIdBJL/jvtI+vb3z/MC9fbzDPOe+Zr5Mfc49an5Nf4B/gED1gHHA/kDEQQTCaQHOglYBycJ8gmUByoIlAQCBhQHEgYeBU4FrgZWBBUCTQTtCeYMAQ3rDA4MpQz8DjEOVgryB+oKuhI1FL4DLu1t7Kb30Pli9bDwDe+j6aftpvL97FbrW+vu8yb9vwCq/lP8kQEjAAsAAQXoCRsKOAnnCecFLwZJBmMCfP+jANL/Qv6+APv/HvxG+fn5u/jX+Ub8Ovo1+rP52fhE9yz7uwA8+/D49Pj1+Tj/5gEPAc76zvwdAFr/gQQsA88AnQKlAzgCAAAwAt7+8f30A4gEWQHj/rv/rf7c/i0AX/3p+tv66vlU9on8dADa+7X6b/vP/yz+PwQrBp7+owYICKcNXRFaDYULPQRHCyELTAe+CSMG2QYfBVwELAJOALIDjgTkBA4GfAUnBTwHjgb+A0YDXQVqCBILJQctAJb7NfQe7/DxDvn39c3xb/Hi7qXvi/H29PH3Nv/g/8b/dAPH/mT+XgKWBnUDMwTrBR4C7QaSB8kBhPyU/HD8o/unACsAy/tN/W79ZfxVAREDRwCiANYDdgEE+wD8RP2h/TIAif5V+0f53fu1+i75bfzL+kf6IvwUAbAAwv41AQAATwH9AUYCwgC6A/AJrQb9BIP/8Pkx94T17vlg+VEAdAUeCKcLKANrAGj3SfC881b5HQaRCdIOcxFQCUUIyAOBA9IF3gUtChgHnAsMCsEFcAd2Ah4Cff3mALwDQwVHC2YHpAFe+cf64P+bAsACOfoL+Yj8yv4oARb/N/p098/5yf4w/wv5Bfab9wz9OP5K/LL98PWH8hz4Svyf+yn4IPdM+Lv9eQGOAlsCLf3G95z+9wWtC38Rag9EC/UDfQG3/Lr8lQOfBPUJNwh+Abz77PY69LXy6/f/+9wA/wUBCD8DPvwj+0n5Gfng+J/+kQPqBFYFdf/A+7P3pvsdAc0HxQrmAgsCaABX/6T9Vv2v/lsASgbABvEEJgEKAOr5q/Va+Xf7GQR0CEAJ3ARm/3X9Y/2eBHgIVwgrB9kIgwaQAfT+WQGyAyb/iv9TAqcHCQciBVQB4PsL/hL9T/9jAIL/Vf3U/hIEwwI7AJL8zv3EAMUApP6R+p36jvrS+YP8G/7Y/Of1GPMo+d35k/q8/Kb6b/kv+Vf8uAKrBu0GfQD7/dACnAWrBZwCEQJCAJj6Gvs6/jb9yPrC+xQC8gRpBvoGgQOA/975IPnv/LoCbwaOBcYDQANn/533IPRA9/v7af9kBPwCs/6j/Dv9kfyA+ef6/vtmBOQNvwvOAnT+9gBNAlgFJgdMAhgAVQXvCIoIQQIC/If5NvsTAukBQwFoAX8A3wSsBkoJDwgVAQH++Plu/5cFzgcXDKgIywfy//L6wPxX+lL7u/i2AvUHIwV9A934p/on+Lj7CgRMBswKQAI4A0sA+vgH+VH2vPzI/k0ACANz/nX+pPjF9KT0ivQa/Gz7zADpBAwBYfsj9or3KfjU/XMBIwSyA8sCw/50/DP9KftZ/gkDPArMCT4MZAn3ACL9bvvl/aAAOgdZCLIGVAML/5j4yPml+Ob0W/sj/oAA4v/pAMb8bfpN/x//u/x0/fj/rv2m/T3/cv/sAMsCrwFkAFz+fvyJ+mf/4QQ6AnsDyQJfBewC6AC6/2H68/79/8wHOws7Bt4Cc/9PBI8DfQB7/woARwUfCXEJ4AesBLoBtAAKAVQASv66/+8AhgDcACIEmwKVAPcBkv6e9qLv6PLQ9RQA1QkSCs0HqgAE/ir8TgK+Ayb+ivru+1IDDwfFCIv7a/Gr6tbry/p5/zsHTwRvAbQE8P5s+mPwTPniBG8FGAp7A48C1AE0AXr/9fcAABMEsAlXD9UEb/8D/Hf+QgEuAp4IVQNV/4n7iPq+/aL/5v+I99z5IwPyDpEPrACy8RfpMfOG/zUF3AFS+sL7vP1NAa7/E/ze+SfwFvR9/F4BxwWfAcIB4v7ZBGYJyP0L+yb3Mv22CawPxQ1s/vb3Qvch+xYBBwKJBIgGAAfmCn0LSQak/574bvveAhgOsw4YBff73vOx+LP/OQMTAA8AyAGw/8YBKwBA/H753v6pCNUKoQZM+n7va/Tk/qwHogddANj6zPfQADUIggV2+zPvyPUqB0UTvAzB/wT60/NO+/EEnAx2BWz2s/TZ+/4PnBCTBoH/R/cL9mr7GgkJDhAD3vw0/B4DjghQ/+/9tfhn/JH9HgBKDCMGBP6b92L+nwR5Ad8A2v3x+ev6vfWB+KH73P2gAmgCjQs5AxEB0vhn9tf86viBABz/GAXwAaH8F/5G+9b41PST+rIDWgRlAsgC8AAXB2AIlwXr//P2gPSu9sb/4gG3AQEE+P4g/Hr+bP/2/8sCGAiyB2MGlAVwAK789fnO96L68QJqBv7/nfr1+nX5/f39AdT9jfpJAPAJvQiKA3j3R/Ax9rT9iweyC9wIRQJKATsEFv+F+/f7KAAwAgIGfQseB68DMPnK8073GAGSDFcHSQRDAGr/QgiZDIkJPABn9pD4eAQRECYJnPXt8mj0CABmBHEDfwVX/h4HdQawCFMF4vLK82L5LQYiBgcBqQO++cr55/th+hUAjfwQ+Gn7Awo6D2IDwv+N+NH4bv/wARIDAf0a+QXz8/diAuH+9f7wAccD9QPcAL3/5/zx/gn/ov/UB/ELSANT96z4oveO+H/8Xf5RAyQJjwsPBSoCuvq18OfzoP4GBaMDngVcBBD+Jf5Y+K/0qvVh+NL/4gKPCnYF6PzQ/UT+NQBq/VD8d/vX/lYFqAQqBGUEUgDZ/HAA1AXg/hL6e/6/A0sGaAZeBHT9O/0w//kCEQU0BgIEwAgpEJwEk/x7/csA3wCCBOIDN/98A6IGsAMMAQ0BAfte+mIBrgJWAOkBZfqL9Wf+yQpvC2QEe/3o8qn76wKQBIT8PPiH+IX9AxAvA8T2pvG+9fL/7gVCBzH56/S69Sj4UwLaDGwKMQMr+zr5ffmd+kD7MPv9APIBewnRDLwLXwEn9Mzv9PSy/xoHxA3zDaMH1vkA+cn3sPr7+Dv1afxEAmIO8wddBNL8Svii+2X6w/8e/uD7Zfri/roGoAnPBL//KPYQ9TL5kf6uBgoDHgAx/cMBAgaCAtj6+fbm+QICsQT7Bv4H6gTUBtX/PgNOA1UDQ/9e+nQCDf3x/iADrwSxA4T+TwRaCCgIJwcUARwDPQR6AQUGmwmaCM/6JfZm/Jv6Q/56/mn5K/c59oABmQ/gE0QLP/uF/DP9X/ii/a/6cPmk+Sz/SQhlBc0AcfCU7m346ft/BjoIBAh3AvYAsgF99pX2+/K276b6KgSGDEYKbAcHBE4AmQf8BgcDtvuX8envkPXr/SgB2/7PAHP/+gJEB7r/6P3x+7MGOA1mEEAOEP629NvrGu4q8n35BPwq/xMI2gvjC1QDpvxP8yLvPPhpBV4S+BM3BkX7tfl9ASIBmwMxBjf7/Pgh+qUEVQK2/Ej63vvZCVAH6QbWBrkCM/4V/CgG0QV1AeoCUgLfCLkH2ATIAW8ARQL/+58AsQQcAyr7xPSj9wIA1gMaAsUDngP4Auv8U/5PA1wDi/4N+pf+zP4p+Ur/CgbXA9L+iPd9+yz7Vfjj93X/pwkRBZAA0P7yAE377fcU9vX0Ifqb/0UJywcSBS/+avpT/zcB9AErAGUDLgPaBiQE8/yO+dX0hPff+AwD/gDE/P78VPzVAK/8mgXqAVj/4/9/AC4GYf2M/BX2bPuC/i78cwX1BO0B0fwZAgcGOAAK/oz64f9YA/b+uQH6/3ACLwAeANYGigJuBZ0AmgFxBPsAOAAz+5oERgTP/+YCsAZVClsCcf8c/Sb/7gMPAMUEAAqvCZkDw//0Alj9a/c1+J4BdwiwCa8KFAkiAmXzvO2o9IEAqwBq/qIDsgU9A8P/swAT/1P6iPvdBCkKIgVt91PzT/Zm+jL9mABDCTAA+vo6+zn7/vXC7h345//IDssS0w/4DED+a/Me7Aj6RwItAcgHsQSABKz+rfpN9Q/uUPRk97cEWRKdDvwBIvcK9CXvS/JW+8ABRwj2C8AI6gWUBOr5nPIE9fH54/wPBigOfAheArD+AQDy/jb84Pnr9yX8c/6JBEEKOwu1B84AmP3N+n/69f0MBOQHKwPO/t/9RQJNBaIAxvzU/VgFyQePB5ADIv9e/PD+ZQeHCHUF/Pov+f/6l/1nANQDrwsuDH8OyggGAX36UvPo8Uz2WwR1DHYL0gczALf8//fe9U/8L/6NBO8IhAy4CvH+afdi7tnziPzP/1YCmgONBzIEiQUCBckAN/s/86Dz2PiuAFYFrwp1DJUFHQGdAY/+t/Qz8P3xr/c6ARAJTAsKA/j7vvdg+pz9Y/js+hv3y/VL+KkF7A4aCMAIRQL8ALr8zfmJ8fnrlPN3/ekPGBl5Eb38EPWn8HPx4/h6/+YDMAlVDqkIOwK+96/sdOnE+8oEnQp0DQcH0f7t86D2AfSC/0IDwwAbBCUE9gNq/RIDmQV8B7oJ4AcSBxYDH/iA7+vyD/14BJsMWxYgECcIHgVeAl3/d/z9++r9QAWGDE0JsgVJALn3oflE+uP+VQBLBs0Kvwf3DB4E+/2S+2b64v0+/HADHQDUAPgG8QGkBdIEvgj5BrkFNQTz9GDzgOzF66Xzaf7kCFQKFQ0sBgr/RvgQ8QzzUv1rB+gQlxYFDmn/5e5M44bdouKG8b3/pBBeGbsWUgp7+dbvq+yv7Tb07P5nBogHRgaoA8X4l/Pn8j/zBPuqAskL2giCB8EChP1P/VDyKfKO753xRPLU+l8GdP/+Av8DlQidB8EFcwUkAx8GSwEJASkCt/6Z+cT7jf/MAWIF/gwZEGQNnApOB14HAwcjCDoHXwflAkf+vvs/+gT1jfXIAVII+QwLEZcTEgxOBoEDOf6r+tP2e/ZO/doFtQpdDZMOsgsABukHRgKU+WXvieni6cTtbfed+1YCWwUQCfsLEhGICoACOfwI9tj2bPWr/fr2jfr+9+b6hQNK/zsD9PYU+anzKvkr/0r4TP9T+p79Vvtn/m4CZfn9/NX9+QNCB/3/wwSr+jT3MPZb+Kj+KfJ8+5/43PxFAMb+FAXS+q0BOv4GApgCc/q9/Q35Zv4LALsDEQVw/Jj+RvwqAI8FvgVdC9YKoA0NC+gJjwZb+gL7ZP8XA+cHzQwgEWwO9A21DB8GrgTb/XL+ugPOCPgKOggeCqsBwf7N/c39x/6YAFcHjAmiDp8K/gOg/mj8zf59AaIJDwWt/s/5APId8LvsX/BI7WH2vQRvB+0O6whdBHD5Gvz5/cD3Gv/8+Pn51vmM+m/zR++O9XXvzfTd/loDYgI6AoAC3P0h/Yn5YvPw9Cvz1fRO/vUG3waEBLQHIgFh/OT5FPfB9Jn6sABtAN0Bgv+A+0/0ffZw9ML2F/ymANEIOwmiCpoCFAFz/W35MPwY/dsCfgQOCRQHJARhBi0DfALAAYgDdgJlApAHrwa7CN4K1g/UE+AS5xAsDAALNgeeBJYDuAGjAZwCewVzCCUKTAl1ClsMMgqoB1AGZAMd/1r/TQIlB/wIIwHC94XxWe3l5yrvL/U3+QgBrwhlD90IMwhf+c/34/Tv7tTyp/Bq+1rv4/kL+RD6yf50950AwvRB/s/29PmU/eX1Rfyt9gf+F/Yd99P5afiRAPMBXgdIBVcErQHT/BgAPfyp+HL3KfhQ+FL4E/7t/IP9s/4w/7D/a/wm+0X6b/+nArkCRgZIA9H+/Pez9MP03/XK/lIDPgwSEAYPhg7sCTIHeAB1AWME+QR7Bn4EtwWwBE4Fwwm7CwQPsw+RErsR9Q4dDx0OERG3ETUTcBBgDU0IMQPoAjYCTgZ/CKgMUQukBZD5oeyS6KrkGul58i/9xQdaDjcUrRKhClEC2vIi71LpXekv7xHwRPqn+KEBE/1C/Hz6ku8q87LuvfUd8hn5XvwM+RL91vg6+4P2K/xDADkDJAbYAxAFDgAk/Qj6m/iE9xP2pvjY+Jv4D/ti+8/8Ff+4AQMEyQEZAKf6IPd082rx8fRD9Vb8FAJpCmgOtgz+C/EBcf7v9oT13/YP97f8Ev7LBakHbQtvDagNMg8ZDuUPPw+8DRwJxAf3BokG8gYVCsYNBBClFF0WixibFZES3RK+EsAScA07C6wGcQDJ/u79Wf2H9s710/Wj9k76LvqE/83+I/9jAcYDCgVr+9z5AvdE8Y3ufO1X8MTrV++u8zn3lPxr++/9AP3q+qb1qfFq8lnuF+8P9Iz32PpR/YgBbgFuAHP/TPtu/Bn84/uh/Cj+nP0H+kj7J/nm9gH2vPcF/ML+kwNwBaMG7AZGApj/Cv36+Tf3wvXl9jbz9/NS9ZT55gDgB90RtRLfFJ0PzwYI/Qj00PF+7Wj0/vypCLIQ4hTpGlEXsxVwECcOdwwWCH0Kzgo1DdEIqgbYCMwISwzrDxoYgxoCH2khtB+ZHa8UtwwLAQ/5e+oo3kTgDuIH6rv0NwOMD30SNhddFDMMOQBL8GPt8+PH4YvlouwC+XT3OAPgAVkAMv3P9T329eqO7efpku7N9P313f2f/o8DMf/1/Un+V/kT+Bj2lvdB+Cb5RP1A/1kAwQCk/0D/R/xZ+Zz2sPNV9DL1pfih/GMACgW7Bp4GkgWGAwT/FfoR9/70QvG+8UX1SflA/F7++wT+BiMLjg6DEHIPfwhBBa//Xv2p+rb7MgFhBJoKow8DFVAXfhdrFxgToA+VCpIFKgTHBZILGBDxFrodQSG3IlAhux+BGp0PmAXz+/LvzOLh2wviMOJP6kX2RgTdDlQOkxpLEbgKdP0P9WXzy+TC7FPo/fSW9Y35owQv/zoFDfov/kTylOoG6TDiq+nd6Gn0WPZv/rADawLoB74FoQWi/qX+cP2++Hj4J/W99a7zVvVF9+X4u/xb/CQAi/83/bz6Ufp5+5z5p/wz/rj/cv9VAIr/r/o5+A/5qPn7+a39Tv4s/0z9TP/K/s7+4QGkAlUJhgoMDbwMuA11DLcH+AZUA38CNgEcBokMfxEAFQAYPBrgFm4SKA7sDBgK5wk3DlcVqxsSHycj3SRzIvwYjg6mAQfvbtws07TU09Rd3FDrD/0gC3cS3hxqG2MVbwplAgj7ce0j7YLp6u4u77Tyqfqn+Q4ABPq0/Ev2/vAA8Cjp3Oz06H/uWe8w9Cz8nv/eB0oIdQrDCAcHWQQD/zb8XPds863xO/HW8S3yXPUe+Xr4A/gR+eX87/1m/1MBVwL+AdL+IABg/VP5rPSj9Xv4g/hk/RX/xgFh/7T/dQHu//QA7f7xAa0CSQRNB6sI1AuQCpkKwwlmCf0JSQvIDkUQmRERE44VyhVJFAMSAxBPDv8MbxDyFJ4YXBqMHjMjHyGgG0kUKwZf8GHeJtfN0ZTPCduJ6mD9mAhKFkch8Bv8F/AIZQRD8j7oWuvn52XwzusH/EP+bALsBif/AAD/76rvued05cjmzeVP8BD0t/4XBIoIfAyXCZwIEASVALP7fPUS9UfzdfM19c74kft7+yr9gvyw+B31S/MQ9IX1Efby++X/JQSkBHoFZQS6/b76S/Yr+AP1vfdA+7D9MQDU/okDqgDnAuwBJQNaBCcDGQZzBHgHGAaRBrMIQArUDY0OLxGmEd0Q7BAREM0QKBA8EAgTeRRgFgAYORkYGigY0BosHJAaOBh/DjkEDfIH5VDboNLO1e3YNeoZ+CIFNxXYGB0eihRjDjgE7PS38oHoJ+0O69/uyPhN+2cH5QJ2Bq//E/aN8Tjma+bw3w7kzOot8VT9HgNaDToQpg8gEDsJHwWv/Ej3FfOE7ifxCfC79Az3Svlc/JD7Hf3W+cr4WPe39A724PV1+Nz7hf79AV4B5wPfAAP+pvyq+BT5k/YH+Qr5mfsm/+4A2gUWBgoHTQWGBWsF2wNJBW0F7gYCCAcLhw8nEi0WmxfOF+YWvhQbE6UPtQ08DZsPXBSjGF8dFiKSIUUgbB0eEkICzu4i4sPWNM9E1LTb+utE+HAHVhgLG18eiRVEEMoDTPQv9DHstu+S7LDxofm3+gQFcQIRBuD+WvZd8bDnfOVB4GTkUOrn8NL8UQUzDqER7BBvD3AIdgLy+b30g/Hh7xb0Evfc+0j+ZAA4/zb8cfcw80Pwse5i8Crx0PXU+Db/ogEeA1AEvgAw/6H5+/iy9Wn1p/gJ+50ARgItBkcHlwedBU4Bsf++/Gv8Yf2lAJwDQQdQDBYPAhMbFXYXDRfGFugWIBSmEv8PNhDgD00QfxT3GV4dXx+TIOEeHRdiCIP6VurA3tzUKdJt2VTg9O8F/VMNZxjVGc8czBVLEJMC4/it9TPvmvC477b3Z/u+/kwEGQP9AZH5RvSx7EXlWOK/4cfmae0s91oBBwlYEO8TExNjDxoIvAHH+H/yie+h7t3xvfQ6+vj9h/9f/yj9Q/oC9QvwtO3P7MDuR/IG98/8DAE5BQ4HMgeMBKgAxfyg+IP2LvY3+NP6y/6VAgwGtwhKCfAI7wY6BPoALf/B/jP/LwJ3BkcMYBHyFd0ZGh3jHYQaexdLFPcSjRCVELESVxTVF4MYzRlNE/4G+/nY7PfjGNnl1sXbyOLC73/7igvTFI8YvhrSFOIP6ANG/cb38/CR8InvBfaV+nIAUwTjAtcBJvwV9vjvt+oZ6G3m1Oj97jH2Hv8yBmsN9hDnEKEPHAvXBHn8DPZz8gHxHfL/9C34lPzz/mcA7v6C+zr46/Jq8QPvqO9l8dDzMvl4+4n+/f5P/1D/Uf0l/WX8Fv0m/iL+zf/+ANECwwQQBqkHwQZsBpsFZATNAyACjwKwA+YFtwjWC/YQghRLFxkYLBjVGKIXYBdvFpkWwhbWFpwXFRSFDEoAePTQ6WXh5dy23Nri1Okb9WEAKwxFFDwViRWCDRYIvP9p+vX4J/TU9kD1Bvu+/h4BqQRWAHP/ufdQ8m3tX+ks6q3pK+9V9nT+JQfaDBURiRHxDn0MpwbHAXD8JPjg98X2dvmS+dn69vtC+jf6NPaY9Qb0DPMT9L3zO/cU+M36W/0m/b792vrR+Qz4mvZI99v21fmT+wH+6wBaAr8EjgRdBFIDtAIcA3ACuQNgBSkHqgiVCl0NAw8KEJQQIxHdEKkQWRE4ExEVBxc5GlYcNxwhF4cN6P+U8TDmYt3S2A7a9eC065L5gggrFgYcKB00GbYRFAne/RH50vKo8Mzw7fR7/Z4AQgbmBbgEHgAw+Yn07+xU6cXm/eg87xj2n/+PBycOaRLnEg4SiQ1KCAAC9/pN95r1YfjN+y0A8AQ/B0UI2gSoAMz5cvLE7DDpiOp264fxgfff/rEEQgZvCVUFhQNd/AX34/OS7unwvu++9Qj6Xf+wBlcITAzNCVYHDQQj/+/8RfkK+er7Bv+CBQAKPg+yEn0RGBGWDXsMwgmMBwIJwAobEJIUoRlwHGIXtQ3tAX33Ru1N41nhOeM06GbwzPvOCZIP/BKEE+kQZAv4AloASvsZ95v1PfeO/HL/TgSGBt8FigMi/3n6o/Sw7+zsqOv47Q30W/pAAfwFEAsKDcsLKwujB7QEaf/y/G39nP5cAlEELQixCGEGKgP9/e35sPIy7vbsD+3M8P3zTPuBANECCwVeA9QCNf3X+TT4Q/UV9m71Z/lC+379bAF1AroEdQOQAwwCY/8i/3T+Zv83//UASwPHA9EEWgURBqEEUQM3A1oC/AEBAqoEoQdpClIN0Q+LEawQjA8mDWgJCwRG/u35hPY59SP1O/fh+Xb84f8FA1sG5AbeBqkFGAPFAWgAUQG6ADQBSgL6ASICYQC9/4D8ufi39tn00fRV9MT2Nfop/VwBxQQvCLcI9gcqB08FAgTwAZgA9P8IAP8A9wHKAloCcv9u+0L4FPX+8jrxhfLL9Cv3u/uL/x4EwwTLBLMDywC//rr62viW9bzzVPOf88T2I/mw/KT+dQALAlABzQDc/wcAvP/p/+QB3wMmBXUFNAbVBX8ELQO6AikC/wA8AVECKQTcBdgHOArjCtMKzgk3CJkGJATEAvkAZP9J/mX91P0+/j//GgCwABABQgEMAbMAEwB7/2v/W/+wAPwBrwP3BDUFvgSoAqkAFP64+1z5kPfw9tX2xPcb+Wb7iv1j/wcBtAHnAeoA9/9p/5D+lv4V/pf+Av8U/+b/1f+MALn/3f7j/dn8//zq/B/+Df9AAN4ARAEcAhwCjQFMAD8AOABtAA4BIgLEAzMEhAXVBhsIpghyCOgItgjdCFgIxAf0BrAERwHt/C/5nPSa74vs5uuF7cLvevTA+i3/kwKJBEAGJwUJAiwAtP1o/FT7EfwE/kT/jgHJAuUD3QO3AtsAOv6u/Hz74PpA+xD9r/7Y/54BhQPGBKME6wQLBWIE0QM5A2gD8QK4AkYDjwM4BPAD9AOJA2kChQE9APv/vP8LAFwAlwBYAXAB5wGlAcwBtQHhAM8AcwD6ABwBiwFMAhICBAJaARcBfgCM/wb/a/5d/mr+j/4x/lr9QPy5+mn5gvhH+A34RvhV+Yj68ftD/QL/FgAkABUAuP9Z/zz+U/2k/Bb8NPyr/Ov9u/5d/3j/Mv8U/5T+iP5M/oj+sf75/vn/rwCnARACcAKpAmcClwKeAukCYQP1A/4EtwVVBlsGxAXXBGwD/wFbACD/a/5L/gL/BQBmAWoCUQPnA98DwAM0A+8CRwLbASACowJgA8wDWwQXBCAD/wHXAKz/Pv5i/Rr9NP2Q/UT+cv9fAFMBCAJXAlcCkgHkAPD/RP/c/pT+5/7h/k7/Zv9W/0T/k/72/cb8Afz7+hH6ovkP+Sv5Ovkx+g376fvo/ED9y/2P/Zj9k/13/ZH9bP3U/c/9Cv5o/tP+kv/8/6QA0QDUAIAA0f8Q/9n9Kf1x/F78/fwQ/uL/hAHHA8UFfwfdCD4JKwnrB3AGygQ5AxECBgGNAAYAHwCZAFQBQQLSAoQDnwOnA3kDKQOzAtUBagHnAOcAMgGcATsCdAK8ArYCtwJeAmYBTwDc/pX9dfwB/Az8VPwn/QH+Df/q/6kAFQECAdMAWgD8/3D/3v5Z/sL9Zf3+/PP8Ef1I/Y79mf26/cz9wP2V/Xv9gv1T/QH9zvy5/JH8hPze/Ez9zf1w/hX/nf+y/6L/U//J/lP+7v3Y/fH9ZP4l//7//wDtAZoCrwJmArsBqAC5/8f+U/4p/mL+Yv+VAB8CcwOxBHgFqQWqBSwFmgRyA2YCeQGYAEgADAB6AL0AUwEGAnoCCwPxAu8CLwJXAWwAVv+4/gn+NP5b/iT/PQASAR0CQAKKAvcBTwG0AK7/Vf+i/gj/Kv+m/28A4ACbAT0BjgGxAP3/d/9n/rf+E/7q/nH/RQB3AdEBKQOmAhUDLwJQAaIA5f53/rn8V/xY++f6HvuY+mP7I/vD+xv8ZPwj/QT90/2d/d796/2q/ej9Yv2P/Sz9Sf1n/YD9Bv4Q/nL+Yv6I/qr+h/6y/pr+xP7v/kr//f+KAGsBLwIZAwQEtwSABc0FBAbQBVIFuQTaAzwDTwLFAXMBYwG0AQgCvwI6A74DDAQNBM8DLAOGAsABJAGiAGAAegClABsBWgGdAYMBOgHhACUAdf9//gL+ef1l/bD9Dv60/gr/of/d/+3/rv89/9b+Mf7j/aj93f1Y/uL+nv8lALkA+AANAdIAPgCj/9v+Pv60/VP9Cv3y/AT9J/1v/bn9/v0t/lz+gv6t/un+Lf9//7T/6P8AABcAEQDW/5P/N//L/l3+Lf7//QP+JP5t/sn+Mv/B/0EA2AA4AY4BzAH7ARICGQItAhsCIgIWAiACJAIWAhECwQGDAREByABtABcA/f+u/8T/3f8xAJ4ACwF/Aa4B9AHwAdMBlwElAcMAOQDx/6L/eP+D/27/jf+e/8P/1//c/+r/1P/U/+b/9v8vAGcAugDqAAcBOAElASkB4wCnAFcAAwDe/57/v/+5//X/KwBIAHYAPAA1ANf/bf/3/nT+Tf4B/gT++f0a/kv+Zf6b/qn+2P7b/gL/HP86/4P/pf/M/83/vP90/wX/iv4D/oT9HP3p/Pv8UP3L/Z3+bv9IABwBrwE6Ak4CUwITAsIBhAEKAdMAogC0ALAAxwDzAAQBLQH4AO0AtgBvADQA4v/d/8//AgBNALsAUgG5ARwCWgJnAiECqAEJAVYAs/8d/63+ef6G/sT+J/+N//j/PgB4AJ0AhQBnAEIAMwAPABMAMQBNAI8AuwDWANYA3wC1AJEAdQBEADcAGgAhACsAQQBIAC4AHQD1/8X/c/83/xP/4f66/rH+2/7s/gf/Hf8v/0T/KP8n/xj/FP8M/w7/J/9E/2L/Yf9P/xr/5f5s/gL+rf1Z/UX9Xf3C/Ur+Cf/W/5gANwGZAcIBtQGSATUB8wDHAKkAsQDIAAQBNQFdAWABLQHtAJ0ASQAIAPX/AAA5AKcAFgGPAe0BNwJwAmMCNgLqAYsBLwHfAJ0AbgBcADwAJQAfAAoA8//l/9v/0f/M/93/+P8OACcAQABUAFQAYABjAGEAWQBCAEoANwAbAPn/z/+x/5P/ev9D/xn/8f7L/rL+jP5x/lH+UP5p/oj+sv7k/g7/O/9u/3T/dP9T/yX/5P6p/oz+cP5w/nX+mv7R/gT/Kv9F/0v/QP8b/wH/AP/6/hL/TP+T/+r/SACfAOcAGwFMAVUBXgFZAUEBPAE0ASMBHgEjARkBDQH2AOQA2wDBALIArQCuALkAxwDhAPoAIgFGAVkBZQFxAW0BTQEoAfYAxgCRAF8AQgAkAA0A7P/F/6b/iP9z/1H/Tv9K/1//iv+t//X/KgBmAKYAyQDpAO4A5wDPAJ8AVwASAOD/of9//1n/Ov8k/w//A//6/gj/DP8Z/1L/jP/C////GQA8ADsADwDc/4z/Pf/p/pf+W/40/hz+Ff4d/kP+Xf5f/nL+gv6i/r3+2P70/iH/Yf+D/7r/4P/9//z/6v/b/77/vf++/9X//P8xAHQAqgDVAPcABgEaASoBKQEmAR0BHgEcAR0BIQEwAT0BRAFNAUcBPAEiAQsBBgESARwBIQEqAS0BFwHvALwAgABIAAcAwf+V/3P/VP9I/0P/W/+F/87/EQBPAJMAxwDOAMEArQB7AFkAMQAKAN7/uP+P/1//Lv8d/wz/D/8q/1P/hP+s//v/MQBSAGEAfgCeAJUAegBSACEA4f+B/zP/8/7E/qD+j/6c/qf+yv7c/vj+Ff89/2b/i//E/9v/9P8QACQAHQAUAAAA4P/E/6D/g/90/3n/hv+6/+v/IABVAHMAlwC1AMIAwgDUANAAzgDAAKMAjQBzAF8AVABfAGgAbgBvAH4AhQByAHIAiACKAIsAfABhAFYALAAFAOD/tv+I/2n/af9j/3v/kf+y/+j/IwBUAHQAngCqAKYAgwBWADoAGQAAAO//3f/c/9T/yv+3/6v/q/+//+j/8////wAAIABEAFcAaAB6AIUAcABaAEAADwDW/5n/XP8t/wP/9v72/gX/FP8t/1z/a/+D/5n/mv+t/7T/yv/m//H/9P/0/woACgD//+v/yf/G/8P/p/+f/6H/qv+3/+r/FgAxAGMAfQCLAJ8AtACeAHwAZQBVAD4ANgA4ADgAQQBBADUAMgBBACsAHgAOAPn/8P/z/+//4v/e/8//1v/o//r/9f/u//f/7P/9/wwAEwAeAC4ASABCAE0ASQA2ACEAEAD7/93/3v/k//j/DQAaACoAPAA8AEYASQBGADgANAAwACUALwAlACMAIwAZABAA9v/N/7L/qf+h/5b/kv+L/4f/h/+I/5f/of+g/6//yf/M/8r/1v/b/9//4v/Y/+H/9P8FABIAJAAXABIABADy//D/4v/0/+7/EAAwAE4AegCDAIwAigCKAHYAYABUAEIAMQAjABAABQAUABEADAAGAPP/7v/p//D/3v/S/9r/0v/c/+P/3f/e/+7//P/1//v/EAAHAP///v/z//j/AAAUACQAIAA/AEUARwBUAEIAMAArAC4AFAAeACEAHAA3ADsAMQAqAC4ANwAvACgAGAABAP7/8v/q/9//4v/h/9L/0//V/8P/t//D/8j/v//F/+D/3f/P/9L/2//X/8b/yf/W/+n/5f/m//3/BQANABMAIAAZAB4AIwASABwAHQAUAAYADQANAAgADQABAAAAAwAHABEAEgAMAAsAAQAAAPb/+P/7/wAA+//t//z/AQAAAAAA/P/l/9v/4P/m/+j/8v/z//j/8v/o/+3/8f/6//z/CAARACgAMQAvADEAMAAxADAAKwAfABcAEQAZACYAMAAlABsAKgAtACYAGAAGAP3/+v/y/9n/4v/l/+7/9v/t//D/7f/v//v/7P/Q/8P/mv+h/7H/s//R//T/9//1/wQABgD+/+j/6v/h/+//7f/i/+j/9f8MAAUABgD7/+v/5//f/93/3P/a/9//7/8BABEALgBBAEcANgAfAAsA/P/x/+L/5P/r//b/7v/9/wwADwAZABYAEAABAPr/9f/1//H/7f/p/+f/7//0/w0AJAAkACcAIwAYABMAEQANABYAHwA4AE0AUwBPADcAJAAYAA4ABgD5//T/EAAiACoAKAAlACIAKwAxAB0AGAAMAPj/AAADAAAA///s/+v/8//6//r/9f/p/+3/4//c/9X/wv/K/8P/z//j/+n/3f/p//b/4v/q/+L/3v/z//T/+v///wUAEQAJAAwABgD6//n/5v/W/9H/0f/n//r/BAAGABEAFgAIAAUA9f/j/87/y//i//H/8P/x/wEAEAAYABgAGwAfABgACAAGAAUABwAOABAAJQAoACYALwAlAB0ACQD1//3/AAAKAAoABwAWABwAIgAhACIAJgAYABEAFgATAAUA7//0/wQABgAJABwAKwApACoAGgAAAPP/6f/w//X/9P/z//b//v8CAAUA+v/r/+r/7//n/+3/4//d/+n/5v/7/xEAIQAqACkAHgALAP7/+//4/+T/8f8AABgAKQATABQAAQD5/+//2P/W/9r/2//X/+3/BgAAAPn/+f/y//n/9//q/+P/6//Z/+P/9v/2/wAAAAARAA4AEgAIAPz/5//V/9X/z//q/+f/+f8RABkAHwAbACkAHQAEAAQAAQDt/+r/+v8LABYAEQAYACUAGQAXAAoACwAYAAYABwAAAPP///8SAB4AGQATAAgABQAHAAAA8v/5//3//P8MAA4ABwALAPn/9v///+n/2f/U/9f/zP/P/9j/5P/5//r//P8CAPP/8//n/9T/1//R/+n/7f/p//v/AADr/+//+f/p/+n/8P/h/+D/3v/i//n/+/8MAA8AEQANABYADQDw/+j/5P/6/wEAAAAZACkAEgAfADEAIwAVABEAEQAAAPb/+v/n/+//+v8BABUAHgAlABoAGAD7//n/AwDy/+7/+/8YAB0AHgAdABkACAD1//n//P8BAPD/6f/u/+H/+v8GAA0AGAAYABgAEgAMAAAA9v/0//r/CAD6//b/CQAPABUAEgAZAA8ACwACAAwAFwALAAwABgAGAAIACgAPAP7//P/6/+v/+v/4//r/AAACAAEABQAVAAYABgALABAAAgAGAPj/8v8BAP//EgAOABEAGAAEAPf/+v/8//f/7f/p//T/AwAEAAUAAwAFAA0AIQAcAAAACgAHAP7/BwAQAAsADgAGAPD/8f/7//L/8P/0//n/AAAAAP//9//+////BwAQABEA///y//T/6P/c/+H/8f/p/+//7f/5/wYADgAYAAwACgD5/+7/8P/u/+j/7f/t//L/DgARAAkA+/8EAP///P8RAA8AGgARAA0A/f/2/wAACAAdABkAGAAUABAABwD7/wEA///5/wQABQAGAAEAAAD6//T/9//u//j/+//2/+//+f/u/+z/6v/W/9v/5//0//r/AAD7//X/AgALAAEAAAAAAAUABAACAAgA/P/8//v//P8AAAAAGQAVAAMA+v/z//T/9v/+//L/7//5/wMAEAAbABgACQAGAAEAAwARAA4ACwALABEABQD5/wYADAAJAAYABgAFAAoA+v/3//j/8//w/+n/8f/u//v/EQAPABQAFgAQABEAGwAdAA4AEAASABUAGAAPAAAA+v////n/AAAEAPT/+f/2//H/5v/q//P/6//6//r/9P/x/+v/6v/z//H/7v/w//n/7//j/+j/1//h/+H/6P/v/+7/7P/j/+L/4P/o/9z/5//y/wAA/P/1/wQA9f/5//H/7//7/wAABwD8//z/AAABAAYABwAXAAsAAQAGAAAABwAGAAsAFgAdABgADwAUAA4AGAAdACUAMQAsACcAHwAwACsAHwAZAAsAIAAaABkAHQAOABIACQASAB8AFwAYAA4ABgANABwAEgAKAAsADgANAAIADgAOAAAAAAD4//j/+f/j/9b/1//f/+7/+//w/+n/5P/a/9P/0P/R/93/3v/b//D/7P/r/+n/2f/b/+P/4//2//j/5v/r//D/8v/i/93/6P/l/+j/7P/4//H/7P/5//P/7f/z//j/+P8GABEAGgAaABAAGQASAAAA9P/l/+b/7f/7/wMACQAQAAUAAQD7/wMAAQD5////AAAAAAAA/v/6/wAAAAAGAAUABwAAAAgAGwARABMABgAAAAwAFgASABcAFAAUABcAEwAfABQABwAAAAEADQACAAQADAASABkADQASAAsAAAABAAoAFQAIAAIABQABAAAAAwAKAA4ABQD3//j/+v/1//X/8v/z//z/8f/x//P/9v/5/+///v/6/wEABAADAAQA+/8IAAsAFgARAAwACwARAAsAAQAMAAAAAgAPABAAAgD+/wEAAAAAAAYAEQAPABoAGAAHAAYAAAAFAAQA+v/v//D//v8EAAsADwASAAUA+f///wsAHQAZAAoAAwD2/wAADQAXABAA/v8MABAAEgANAAwADQD+/wAA//8GABIADgAAAPb/+//0/+z/9f/v//f/AQANABEABAAQAAUAAgAGAAcADAAJAA0A+P/0//H/7v/t/+j/6P/0/wUAAAAGAPb/7P/1//X/9v/z//7/BQALAAkA//8OAB4AGgAPABIAEgD7/wYACwAGAAEABgAIAAkAGQAMABEADAAEAAcA/v8AAAUABgD///L//P8DAPz/+/8AAPn/6//p//v/9f/s//z/9/8CAAQAAAAAAPr////u/+n/9v/v//r/AAD4//n/6//n/9//7//u/+L/6f/p//b/9v/0//P/9v/5//D/7//0//X/9P/8/wAA+v/7//H/8P/0/+z/8v/1//T/9f/0//j/AAD4//P/4//Z/+f/5f/0////AQD2//r/BQD3//X/AAAGAAQA//8MABEACwARAAQAEgAWABMAEQAdABYA/f8FAAUABAD1//n/+P8FABAADAAJAAgADQD8/w0ABgD//wsABQAFAPr/AgAFAAgAEAANAAsABQAFAAAAAAAAAAMACgAGAAEABQDz//H/8v/v//7//f8GAAEAAQAFAP//BgAQABQAGAAFAAwAEwACAAcAAAAHAAoABgAGAAoADgASAA4ABQABAPv/+/8AAAgABAALAAgA+////wAACAAQABIABwAEAAYA9P8AAAAABgD//+//AAD2/////v/0//X/9f/7////AQAAAAMABgAHAAsABwAAAAAA+//7//b/+P/6//n/9//w/+3/8v/0/+n/7f/0//P/9//7//T/9v/y/+//9v/0//X/8v/3//v/+P/1//X/9P/4/wkAFQAHAAQABQD//wsACwAGAAQAAQAGAAUABgAEAP//BAALAAwACAANAP///f8EAAAACgACABMAEQANAA0AAwARAA4ADAAHAAcADAALAA0ACgAFAAYABQAQAB8AHAAbABQAEgANAAwACgAFABMAFQASAAwADQAEAAIADQADAAEABwADAAIABQDq/+//9v/z//X/8f8BAPX//P/8/+v/8P/n/+7/6v/q//T/6v/z//r/6//e/9//4//f/+f/7v/w//r/+v8AAAgABQD///z/AAAAAP//+/8GAAYAEQAYAAoAEgAJAAUADAALAAYA//8CAPT/9v////7/CwADAAAA+P/7/wAA+//4//X///8BABIACwAJAAsABwAWABQADAAFAAUABQAEAPb/+/8GAAUACQAUABIABgANAAsABwABAPv/9//z//r/+f/0//T/8v/5//n/9P/2/+r/6//o/+P/8//x//T/AQD4/wkAEQD8/wEABgAEAPv/+v/0//z/+P/x//n/9v8DAP7/+f8AAPr/8v/0//b/AAD8//7/CQAPAAwAEAAXABwAKQAgAB4AEgANABoAEwANAAMAAAABAAEADQAMAAwABgAHAA0ACQABAP3/BAAMAAQAAAADAA8ADgAGAA8ACQARAAwACAASAA0ACAAEAAAAAAD4//b/+v/6/wUABgAGAAMABgAAAP3/AQAHAAEAAQD6//r/CAAHABAACgAQAAcA+P/+////9v/2//f/7//5//r/+P8AAA0ACQAFAAsAAAD5//X/8//s//v////8/wUA+////wUABQD2//r/BwAHAAsAAQAEAAUA9P/5//b/+v8KAAUABgD///r//v8EAAQAAAAEAAcA/v/+/woAAAD8/woACgD9//b/8v/s//n/9//2/wAA//8KAAcABgD5//v/BQD5/wEACwAKAP3/+v8DAAcA+P/v//z/9P/6//j/9f/y/+z/9P/0//z/AAD//wIABgAAAAUAAgD9//n/AQAEAAAABwD5//7/+//0//X/+P/8//v/9v/t//P/9P/5//v/9//6//n/8v/v//f/+v/8//X/5f/m/+r/6P/p//T////3//b/+P/t//f/9//m/+//9f/t//D/9P/1//r////9//P///8AAPz/AwD8//r//v8FAAYACQAMAAsACwAMAAUA/v8IAAoABAD+//z/9//6//n/8f/5//v/AwD7//j/AAD8//H/AAAEAPz/AQD2/wAAAgAAAPf/+f8AAAAAAgD//wYABQAEAPf/9P/0//3/AQD8/wQABQABAPv/+v8EAAMAAgALAAsACAAFAAoAEQAPAAcABQAEAP//BQALAAgAAgAAAAgACgAFAAcADAAKABAAGAAXAA0AEAANAAQABgAEAAoADAAQAA4AAwD9/wAACAAMABIADAALAAsAAQAAAPr/AQACAAMAAwD6/wUACAD7/wAAAgACAAoABQAMAAgAEAAZABoAHQAaACcAFwALABEABQD+//j/9P/2/wEACgADAAoACgAFAA4AFgAYABEAEwAYAAsAAAAAAPn/AAD9////AQD//wIAAQAHAAEAAAD///r/+v/+/wQA///1/wAA9v/0/wEA+//8/+7/+f8CAPj/AAAMAAwA+//4/wAAAAAAAP3/AAAFAPr/9v8EAAUA//8AAPn/9f8BAAYABQADAAQACgD5//r/CQAAAAUAAAD6/wAAAAAAAAUADAAFAA8ADAACAAAAAgAKAP//AwAAAPn//f8AAPf/9P/4//7/AAAAAPv/8//9//T/5//t/+v/5v/2//f/9v/5/+7/9f/q/+r/7v/j//H/6P/r//D/6//z/+L/5//m/+T/5P/h/+H/0//j/+n/4//a/+b/9v/0//X/8v/2//r/9P/6/wAA+f8FAAAA/v8BAAAABgANABgAFAAUABcADgAMAAsADAAEAAAAAQD4/wYABgD9////BwAQAAkADQALABEAEgATABwAFgARABsAFgASABEADQAKAAcAEwALABEACwAKAAwA+v/+/wAAAAAAAAEA+f///wAABAD7//X/AAAFABUAEAATAA0ABQAFAAUA+//y//z/9f8AAAcA///2//b/BAAFAPz//f8HAAYAAQAAAAkADAAEAAEACwAKAAUADQAFAP//9v/2//r//P8AAAEAEgAcAB8AGgASAA0AEAAXAAUA+f/z//r/CAAMAAsAAwD8//v/AAD2//T/9P8AAAsA9v/7/wkABwACAPT/8//z//D/+//5///////x/+3/+v8GAAIA9v/y/wAABgACAPP/8P////3/8//u/+n/4v/9//L/7v/9//j/CADx//X/9f/6/xkACwAFAP7/AAAQAAwA+f/1/wEACQANAAEAAQALAAcACwAIAAcADQAMAAoA//8EAAUACQAAAPX/BgD9/xMAGAAWAB4AEgAlABIAAAAHAAUACwAGAP//BAAEAAYADgD///j/DwAOAAQA9v/w/w0ADAD7//X/AAAIAP7/+////wUADwAAAPH/5/8GAC8ADAD0/wgAJgAvAAAA6P8DAAAAFgAHAM7/8v8FABEA8P+x/wYAIwD9/+b/v/8EACMA8//F/1f/yv+2ADwAsf+f/9X/mQDy/3D/0f+I/zwAbQDI//v/z/9bAIMAjv/t/wQA5v88AMj/1P8GAMT/UQDh/3f/RAD3/wAA3P+N/x8Axf/U/yQAnP/0/xgA5v8MALD///9GANr/+f/6/wAAOAD2/wsABQDu/2IAJADy/wYADABHAAEA6f8jACgAHgDq/9r/NwBAABoAyv+a/x0ARgAEAFD/8f74/5AAFgBj/yD/EACZACkAuP9a/wwAxwBcAND/mv9jABcBPwCp/wAAcgDVAEkAzv8FAEMA3wBgAHz/4/9nAJEADACO/xIAQgAHAO7/of/c/yMABwDJ/2P/xv9JAO7/lP+m//3/PQAHAPv/CQD4/zAAQAAAAAYANwBLACQAAgBbAGcAJwAZABIAOAA9ACwAFwDk/+3/KgAXANP/vP/Q/+f/0v/R/9H/w//N//L/2P+0/8n/4f/s/7D/vf/o/+j/9P/s/+f/8/8SACoAEQD2/xIAHwAaABEABQAeACUADAAOAP7/DAAsAPn/1//c//3/GADd/6r/vP/S//H/3f+1/7f/vv/m/9z/qv+z/8T/0f/m/9b/6P/4/+7/AQAAAAoAHAAaABIAJQAmACgANAAtACYADgAdAC8AOgAzABYAEgAbADYAMAAUABIADQANABIAAQAAAPL/CAAdAPT/+/8FAAAAAAD7/wcABwD4/xEAFQAFABQAFwAQAAMABgAsABkA7/8QABAA/v/u//H/HAD2//X/HQDn/9f/9P8FAAAAzP/l//n/yv/h//P/2//O/+T/DADt/8n/AQD8/9//5//d/wUA6P/y/xIA5f/4/xMAGAAJAPn/EgA2ABQAFAAkACUAQQArADsAPAAqADwAMABAAEwAJgAhADEAPQBbAD0AIwAqADkAZwBWACAAEwAwAFsAMwD8/xoAMgAsAB4A/P/t//j/CQAWANf/u//y/+r/wv+T/6f/w/97/2T/e/+I/23/UP9h/0r/RP9q/2T/OP87/3H/hv9B/y3/h/+l/4L/if+7/7r/lP/K/wQA0f/Q/wwAFgD8//7/RQA1APD/NQBoAC8A/P8aAHgAPgACAGIAZgBGAFkAjgCOAE4ApAD2ALUApAATAWUBNAH+AEwBqgGIAZwB0wHaAdcB/AE2AvEBxQEDAhYCtgF5AY4BgAELAbAAtABmAP7/rP9o/xr/pv5n/hb+hv1K/Sn93Pxb/BD8KvwK/MX7oPux+9P75vvb++f7E/xi/NT88/wW/X/9Df5q/oj+8f50/8X/DABTAJcA+ABMAX4BeAGbASgCSwL9AfYBbwKcAjACGQKAAnwCHAI6An0CRQI3AqsCuwJDAmICQwMpA3ACEwMsBMwDCAMNBBQFJwSZA+kEhgUsBOIDawVEBX0DmQPlBPcDEgKMAk8DgQHV/3gAbgBC/n79Yv4b/ZD6vPrk+8v5UPd7+PH50PfJ9Vr3gPi39uj1rPda+Hn3G/i6+Yz5RfkL+2f86ft4/O/+3f8j/xIAUwKUAuMBNQMFBd0ERwRWBS8GfgU3Bf4FFQZOBUgFjAW5BOUD5AOaA60COgI+AnMBVgALAOn/4/4f/n7+av5Y/dD8Lf0b/Xr8M/yi/BH9BP32/AT9M/2r/Qb+9/02/iz/4v+g/2n/HwDwAAQB3wBQAQcCUQIoAtIB2wFjArkCfwIoAnsC2gJyAsUBqwErAlwC7wGmAfEBHAK5AToBTwHmASIC9AEQAmUCagIWAgkChALgAvsCKQN0A4MDOQMPAysDXgN3A1UDOwNBAwMDPQKWAbYBEQJiAToANACkAJL/Kv2W/Bf+Mv7h+1j6qftc/BT6ovdF+D76zfnx95H3/PiM+Vr4bfc/+AT62vp4+kz6bfuh/JT8HfwY/RX/9f9+/6n/1QAvAWEASgDZAc0C0AH9AOABSQKeAHP/ZgBJAT8AGv+Z/5j/FP4+/Q/+XP5z/Zf9k/5K/iX9TP1S/mf+dv6l/1MA9P9IAFgBKwGmAB4CEwTfAwMDMQSWBeAEFAR3BfsGvAaLBocH3AcyB1IHGghYCJMIdwnlCS0J7gieCY8JAwlpCS0K3wkxCRcJWAjiBpYGCwcABvUDWANrA54Bl/4F/c38KfzD+uL4//by9c/1RvQe8fvvDfLt8vnvy+2S73nxHfCN7hHw0/IC9OTzFPQ39RX36/iS+f/5UvxM/xAAV/9nAOQC+wPvAwcFzgZfBzMHZgeOB38H/weOCBcIjAf4B9cHJwblBH8F2gWWBIQDeQP1ArIBqQDM//b+Jv/D/2X+Kfxb/Lj9RPy1+Yz6A/1Y/O75b/o7/HX7SPqM+xb9nvzH/HT+rf6T/UD+YQCQAPn/KgGcAioCiQFqAuoChQIyA2kE5APSAoADPAT9AvoBUwNoBHAD0AKDA7MD6AIDA8YDBgRJBPQEHgXRBFwF9AXGBVQGGgiwCIgHjgdQCXEJzgfsB5oJsQkzCL0H1AeXBoIFagWdBPACIgLfAfH/Jf3X+4z7Zvqm+Dv3C/b89E708PLD8CPwiPHP8cvv/u6b8HDxLvDq7/fxzfNb9O70+/Ua93D4yvmS+qn7/P0jAJAAhgDAAWMDBAROBEwFdwY3B20HIAejBuIGrwe3B+YGlQYAB+sGtgUOBC4D3wPHBGYDtABbAA0CLQHI/eH8B/93/xb98vvw/OX8fPtA+xv8//vs+/78Rf0u/Fv8Jf6h/vv9yP6VAOEAbwApAQcCvAHEASED+gNdAwwDngO5AywDHwOMA1gD4AIIA1YD9wJRAi0C2AKXA80DnAPKA8MExAX3BeQF5waICFAJFQlWCW0KXwuiC0EL7QoxC84LlQsTCk8IaAeWB+kGwAMGABb/cwAP/2z5SfXI9nb4H/Tl7antsPEy8Xjr1Ohh7D3vwOyq6UzrxO+p8RzwPu878pn2t/ei9ib4s/yZ/z//eP9nAhkFegXMBeEH1gkYCh8Kywo2Cx8LowsiDJIL4groCsUKdwn9B4UHigfWBkcFuwP8Ak0CagB7/nj+7P4J/XD6Yfol+5n5X/da97P4q/he9x/3rves97P3jvgU+UT53vpO/JD7Qft//Vv/6f7q/u0AdwJEAtwBEAJ4Ak0DZgQbBPsCPwNxBOwD4QG/AX0D4wPEApYCUQMLA3ICEAMFBFUEDAXlBfgFhQYaCKUIFgiqCVsMcgxeC4UMew4IDtgMbQ1RDjUOHw0lDAQLBwkZCD8ILAZFAbD+gQC2ACn7wfT98w/38PXA7irqme2z8OHr8uXc5/Ds3OtJ537nQOwm7+7truxV793zLPbi9Z32Jfq5/TL/9P84AvkE5QUeBjMI4Ap+C04LaQxjDQINNQ1vDvYNDgwXDIkN7AymCj8JGgn2CMIH/QX1BHME9wI3AaUAFABN/rb8EPxV++j50viU+IX4cfec9bv1C/d39tj0gfUF96D2ePYm+PX4MPjX+Av7BPy5+4j8X/4t/8/+Ov90APQA/gDMAVsCzwHBAbYCrQJOATYBlAKmAsEBpQK6A6QB3v8HA58GigUYA1sENQgzClcJ5QiqCssMVQ6xD1QQXxBSErYUSxOZEWMTBhUmE1gRQhKrEPoMZgzxDMgIBgEt/9UEZARY+IzvwPTL+iLyneXc5cXt7u0P5QHgRuRu6DTlt+C64oXopuo26RPpZ+w38BnygPN49Qr4P/s4/2oC/gKHAoUEDAmtCycLyAvMDi4Qag5cDRkPzhCUD/wMJQ1PD6cOBQuJCKwIfAh2BqUEBATWA/ABJf4a/FP93/1g+gT36Pcz+cX3IvYL9ir15PND9fX3QPgG9hT2cPjW+L34Pfvl/Sr9/fuL/mcB2wDh//oA6gFIAsIDfwSHA4MCpwL4AqYCWgMzBJ4CQgDrABwDAwOeARMBEgL9AsgCjwPLBGUEHQRFBn0I2AkbC5gKdwoKDZ0Pqw/ZD8wT3RQLEcoQKRTuFfwTBRH8D6kP0Q+7ESANWP3e9kYDOgnn+wHus+0S8CXoNN/S4bznRuJV2YTa5OFQ47PcptrX3/Xn5+9y88z1M/Y19V370AbhC2QKlQvdDj4TqhYLE24Oew5dEGwRARHmDrUI6QDT/fv/EwAm+yj3K/hm+xL4R/JS8zf2S/jW+qn80f02/5cA+gKdBgcH8QYMCuwMkg1RC2sIsAVPBIwHZQnbAqz6rvgK+dH3YvU78h3wpu7c7q7xW/I872Lt9/Dl9an3QPja+d/7LP8yBBoGGwS8A00GgAr5DG4JwAWpBzQKXQqzCSEI7gYqCIEJCggTBqMGXwpKED8VaxaGEn8NOw8PGiMkPyNXHzAgCx9nHOoeJiH2GqsTghKUEZ8Klvzf6kbaH9j965b5VOObwH++7NO714TMlc1N2VvdJ+Dt7dr3ovE364v6nhP8GsgTbBEUFz0ZuBTSD54Oyw/4DEwHcgIk+xPwb+cF6QvulOvV5Kfi2uUF54rlOuhF8NP3Jf0lBUUN2A7QDE0QShw7Jw0nOR9+HGshVSP2HCkVyhDhDCwJuAYgAaD1H+u56GbqyedN4+vk/+bJ4xvkCOvQ72jw9vV7/xAEvANzBPYJXw7QDdoKGgo8DCgMswoDB2T/g/kJ+G34ifdX9QDyDPDI8jn1dvYb+aD82/+jAzAKyg+FFCUaEx7gIVklMCcWJ9wnDCrzKigurS1tJYAcLhndGh4bVxgvDUL8oe/84znSWcCuxITfPuxc1pS5G7wU0oDZIddW3ojrh/HB+TEL4BFFCKUDmRT1KHkqdSEIG0IZfBKUBxMBE/389vns0efR5UDe2dP/zC3Rv9pK4JzhsORG7FLw4POs/cAKUxQkGcIgkig+KtAlVyLcKKUwlSyRIE8XkREGCp0EqQFU/Gz0YO3c63vpEOJa25bdtueR7S3vWu8n7hfyd/5fCmkM6AzuEBQWaxrEGPkTpxG9EbcPqgpQBO377PNf7gjrVep46IfjDOAo4FbhpOMd6UTtevHc+VsAuAQyC9IRkhYiHHkhpSNlJjooGikwK+Unbx8iHP0evB+3H4gdCRLmCGgNzxICEpASCA/Q/xXw4eh84RrSpcXs1dr9hga03uPAl9EY6czo+Ohw9G/7HvmC/TANTBFWAcf4zg4AJRIdLAwMCNkFnvr98ffxR/Kl7WLma+O64zXfCdje2JDjsu318fzzF/be+Ur/dAZIDvkUZhoMHnQilSTXHxIZ1BiGHrkeahb5ClQCwP3V+vD5VPmH9M/sMOsL7pnq1uR86Bzxk/Vk+Ob7m/wg+0f/jgqmEwcTpQ9JEuMU9BLsELsPKgvNBpcFrQAo90nwX+9X7mzpAOT643zmWOYn533qle0V8Aj2dfwVASAFjAjVDXETIRfZGV8erSCnHmMfOiFGIMQeHBw6GNIYdxwSGtoVOxatEkgPlhSOF90VYxXNEIr/0++J51XYRc5T2P3x9f3L6QfL28WI3R3m795r5Lbv1PKT96EHEwwrAcb7bwbvGaIgGxkDEgoPswU/+KH2dfgZ8vnsC+0769fi+dpT2MPaQ+Ru7D3yZ/a99yv5jf1iB4AOixV7HqYjnSTWIOUbmhfuGVse/RokEtwH7AFG/+H7wvU48Jjv6+/F7hXtg+oy6EvpNPAf+sT+a/4Z/+wDqQhADPARPhTEFJQVNRY7FXIQiwk+A6QCd/+997LzmvCT68rna+b84SbgyuKR44/nC/Dq8y/zjPcx/SMB0QbDC8IPNhYfG90apx1iIKscAxuSH8chJh9CHpQbFRUvE+MVcBVFEkYR2BDVEGkWbBtjF1oNmvyS7N3oKee312PTbPDSADTpUc3vzJLaqeC+4K7kWfNR91/v1PumD38FZ/RwBgofFR4KFzETwwthA2T73fUg+6P+kfC25RXp7eTL2sLbmOCu48fs3/SC80v2s/ym/X8DuRB0GO4ZNx86IbwcwBldF/YWFxsYGwIQvwbqBFP/gPgX9xr1DvCB75TxAu/f69nrNe2Q8Sj3Ovng+rQAMQaXBlcHUAo9DgASIRKsD1kN3gudB7EDIwKe/CD12PGk8hbwT+sE6PvkvOXH6Yrstuw/8BT1afYW+eP9igGqA0oIIQ5gFFMZjBmCGTQcMB/WH2kgCCAgH7ofYh1GFw8T7xOEFgUY5xYPFegT1BJEFG8Yshn8EZsEo/b67MDkDNnT2DPtWPs86oXRJcxr1CLc7t614jvqxu0y6wT1CQVaAOX1fQP0F8wYFhMbER0OEQqRBKUAPARwBKT2qe198KLrkuFH4qrmB+d66V7r7eoC8NT1Fvb5+pcFXQuEDhkUJBfrFvcXyhfLGEce5x7HFy4SshB7DLQHbgZ1A1n+mvo2+IT0JfDa7CrrJO2f73Pv9O8M84T13PXA98L7cQC7BSoKrw25DhwLwgbKBhIH4QEs/voAfQJu/fv1SvF07gPsie2p8wf38PKb7n3uPu/B8Rb32fv1/t8CYwdYCw4PCRPSF7UakRuEICUnnSVKHzMerh4qHecdISEOI78fdRhNFOIVSBVGFLgYThicDisDg/an5XPYLNLV1DzoDPYG5uvKosT9z4DZd94e4QnoVO7Y7in2cAJ0AJr4zQa8G1ccGha3FTcTxw3dCmEJYghiBeX7x/Rb87Dr5OLA48nl5OMf5R7nyOWC6ejuQe959OD+fATuCGYSQReCFdUWYBq4H8cm2yY8H3AbeBukFq4S/xGnDM8FCwOd/lT1xOzQ5o/k/edJ6p3oUOey467f3OVp8U70IPfmAVkIWAc/BzkIBwdSCL8MURHRERQLPAR0Aeb8F/dO+IP67PXp8LntPOkn5ijnFerl7TbxlvKY9Gz4f/1VBMEKTBD7F/QfYCMTI3QjJCUYKBkrPSwCLFkpPyZNJE0ilB5rGSsWMRX5F9MYxRKPCub/tPK35m3h69rM04jeYe+s6XvP1cTw0WHdkN4k4Kjpnuyr5e/q9/w6AKb20QC1FYsVOg3BD20SMw7oC90NUA7YCg8BDvoP+r71su4e7ofvO+zw6RbppOVw5/rsgu6f8Zj4ffqy+BMARwqdDdsOhhKaGLkd6x7ZG7Qbbx2sG6wbPhzBFkYOAwrgBpABBv0d+DHzB/Fj713saOme5wvm+eZf7L/u4e1G8C3yD+/08xoEoAaH/bD9UgAN/zsDwAiGBSEC3/8V/XcCsAD89AD4hv+k9hDzsvwO94Pvy/iU+gX1X/sdAtwBJgibDkcOJBP0F6kWnBobII0e2B/5JhkmzSCeIr0kyCJsI88lwiBfG4QdQB+JHFMVKgd895zypO314ZrmV/ZT7wzVdsmgzcHPNtGr1F3Yadm31D/VkuKn6YvjAuutAO8EZf7QApAIhwlHD/cVlRVWFX8S4gr7CfIMfArDBmoFpgDb+gH4T/Q588f15vMp8EXyH/Tv7xPw2Pcn/er+egJQBmAI/QpODVIPTRNUFjYWURfmF/gTXBH3EkQSDQ7JC54IrQLL/mT+pv3F+gT4RvZj9Evus+mW7sfzT+/j6yryOvR77lXt2u9n8MPyg/Y/+A33ZvO38tv5Yv7R+2D9zf6o/Nb/TwMz/kr9IgQZBIgCjwY2B4EGTgoMDW8ORBBrDhsPDBZ/FYARpxYgGs8WrBhhHc4bqRvvHqMe2x3YH54hwiFQHsoWuw85C80FnvxN9JX0Nfwy+TLmONcW2K7drdsK2T3a8NYvzpnQhd9y4gbac95R7XHxku7E8h75tfut/38GSwuNCW8FPAa1CnsN7A0pDjMKDQVaBJcEcAP7BFAIJQbWAqYDaQK9/X3+2gTYB9kGLwdoCNIIxgixCJ8JswlUCGwINAqZByMC9gD2AZEBJAHM/yr7cfcb9yb4gfkf+nL56fj3+K74Cfcx9e73L/8mA7oAef0Q+hr5P/3lAMgALv6j+l35ufzF+5n3z/m8+wv5D/pe/LT4ffbW+M76Lf1z/6L+UP/sAFoAagLEBs8HsQcPC0ENdgy4CzoM4AynDTQPURAgEJwPzw/KD6wQAxLaETAS7xPdEoUP/wx2CuEIgAmJCFYF6wIy/qH4gfi3+zv7uPdH9cbzXvLm70Huru+W8bvxD/Pa9VP1tPGX8LnyG/Vw92b5+/nr9970TfPb9SX63vpi+dz3pPXh8qXzhveS+sD73vux+3n7W/pe+bT71P+AAv8E1AisCSEHbQb/CGYMAQ+8D10O/AwRDFsL5QvgDM4LgApwCgoJyQXpAroBUwLjA5sDXAEI/7X8/vqB+1D9tf2K/AH8wvxV/EP6jfl2+678+fuS+4777/pW+lX7xfxF/G366vkA+gj5c/h1+Jv3H/dC+B35vvjH9wL3zfes+fT6PvyF/cH9Of63/9X/XP/rADADEQVgBmQGNwZiCHQLsgwtDWkOfA8BD1kOBg9QD+oNkwy7DOgM6gqSB44F1AXSBqMHFggABmcCoQEnA1EDpwIpA90DhwRNBWQEPAGI/qT+dQASAVD/qvxM+vj3jvYl98D3Zfbv9O70YvS98knyovPR9eH3b/j49in1avRC9TT4W/u6/B390f2P/tL+y/65/gEACQKiAu0BwQDA/j39oP7gAOsA3P+M/17/LP9w/+f/rQADAusCHwOyAiMB8v+/AEoCWQLWAQMCOgLZARIBSABWAH8B/QFeASUBdwFCAcYBbAPPA6ECCAJJAooCfwJDAfX/PAAFAWcAAf+V/e37RPuW+7H7I/s/+kz57/gV+XD4fPfq93L5aPri+k77bvsc/GP+8wC/AiEEtQSRBKEEcwWkBogHUwe1Bu0G8QbgBTUFbAWiBXcG0QeuB/MFdgTuA6QEZwZ3B98G1gVQBbcEywP1AqYC5AIyAwYDWQJBAbT/Nf/NAJUCwgJ7Ak4CTAGKAFcBYwKoAugC5wLMAcn/2v0F/az91f45/3X+wPzJ+tH5P/q2+jH6RflR+Ef3ifbV9SP1VvWI9kb3mPfx93/3BPcz+Mn6sfw4/TP9Uv2//Tr+0f52/6r/t/8lAIsAhQByAMcALQGIAc0BXwF6AHEAigE6AqYCzAODBNEDMwPAA64ELAURBTEFoAV9BYEE6QOkA6ICFgJgAtcBNwDd/vL9Xf1s/Uv9Qfx++3r7YvtZ+0779PoH+yL8Rv2p/aj9af0Z/Yf9dv7W/vn+OP9h/77/3f9S/2v/uwDLAUoC/QIKA+sBKAGYAWMCKgPWA+kDigMCAycCagFnAfIBygJ4A0MDcwLCAUoBgwFKA/sEGgU2BQsGUgbyBaMGIggiCdcJdgpACvIIZQfZBtoH3wh9CFQH9wVRBDoDIAPRAvoBbgGaAA//0P2x/Gf7Ofvr+6L7JvrK+LP38/b39vT2lPYO9lP1r/SQ9Hz0QvSN9Cb1Y/XN9YX2F/dK+EP6ffuj+y/8Lv2t/WX+CQCXAT8CrwJSA7oDdwMOA6ADXgTpA+4CfQLZAYsAtv+E/+T+Gf59/eH8pfzB/Mz86/zX/dv+Kv8y/6L/kwCLAQoCSQL7AmkDVQPdA68EXQQzA9UCJQPkAhMCPgG0AE0Asv+0/t/9f/3w/MH8cP2K/Rz8lfqq+gP8Hf1R/V393f0T/tr9G/7p/jf/Zv+jAO8B4AHnAFMAtwDwAeQCzAJeAigCAAIOAocCuQKJAnwC4wJfAygDHAJvAXACBgS+BAcFWgVQBWwFdAbQB5oIxgjQCEUJAwoXCnsJUgmkCZAJ5AjpB6wGawWXBPYDQgMXAgAAPf7Q/WT9KvwA+1D6ifkB+Rr5a/nH+RL6SPpv+o/6U/oe+t/6R/xH/Y39N/3G/KL8l/xg/G78vfw0/DP7sPo3+iH5bfi9+BT5yvhF+C/4ofg1+cP5qPrU+6f8M/0i/gH/fv8oAC4BPQILA1gDHgNRAy8EiwQ1BN0DnANpA2gDcAMRA14CngE7AXEBjwEQAbUAIwFoAfoAPwB9/0j/7f/VABsBqgCW/07+Cf6p/uH+Zv5P/pv+hv74/R39fvyp/Hv9X/7T/mr+Uv3l/Kv9mv4x/3z/pf/V/x0AEwDU/wgA2ADuAeoCdQMHA14CaQIuAyIEwQTbBMAE1wSxBGIEZgS2BOcEDQVGBRQFpARcBB4ELASABIsElATJBNQEjQSHBNsEJQVsBacF+QVxBsgGigbtBT0FnwRjBHUENwRdAxYCzAC1//P+Fv69/PL7vPsx+wD6w/jD9wr3Bvdg96P3S/eJ9kD2yvZ+93j3g/cC+Hr40fj++NL4iPjR+Hf5H/qB+kX6rvnF+ZT6R/uQ+8n7VfwR/dn9Vf6m/gH/g/9HAGEBSAJ+AqYCFgOIA7cDrAN1A5IDBgQtBAEEqAMbA2wCNgJ6ApYCVwLzAbUBhAEkAZ4AiwDiAOgA1ADoAJ8A9/97/4T/yP/h/8v/df8m/8r+T/4I/vj9Lv5H/hv+8P20/Vz9/Pw1/fb9cv5o/jP+TP5e/nH+Bf/Z/2UArQD1AEkBegGOAcYBeQJVA6YDqQPgAzAEZwTHBD4FnQXcBQwGUwbWBicHJAdQB6MHswd4B3AHqQfxBxII2AeKB10HBgeoBo0GkwZFBqkFLAWrBNcD7QJHAu0BnwHmAAUAV/+I/ov9y/xr/BL8e/vi+lz6xfka+X74WviF+H74D/iW94P3cvdU94D32fcJ+Bb4S/hR+Eb4M/gt+NL4pfn5+Qf6O/qI+s36Mvuq+zz8Cv2z/Wf++/5R/0n/iP+XAG0B5gEoAn4CmwKZAsAC0QIgA1cDaQOCA04DzgJkAnMCpgKvAo4CRwIUAq4BfwFkAS4BdgFgAf8A2gBrAPX/p/+W/4f/Vv8n/3z+9v3Y/Wr97fw9/VL9r/zS/M38ffy9/Nz8CP13/dD99f13/lD/xf9lAPgAVgEFApACXgM+BOIEiwXtBTgGcQZ+BpYGigcrCOcH5gdHB9IGswY/Bg4GKgblBRsFwQRZBKUDRwMzA2kDYgPmApECVgJnAm8CogIQAyEDPQPRAlcCTAJXAkgCRgKCAvkB5QD6/47/Gv9b/uz9j/0v/R78MPum+gj6g/nZ+Ab5Pfnp+HH4Mvha+Kf4/PgG+Xn50PnI+YH6x/rL+kL7nvtO/Eb82/z3/BT8Dv3F/Vn9af0t/gr+5P3L/Wr9d/57/jr+O/4t/iH/n/4s/kP+x/7u/7r/fgDPAH79l/xDAgIDaP4EAVYBjP+EAmQBdgACAC7/2v/BAQ4BKv0wAKP/kvwa/6P/WP1J/Sf/JPz1/FwC3gDv/G3/pQCI+zADLQeh+fr/ZQd2ALwFVQQXAN0DDwQqA3UERAWw/zkEGAkxAnj/qgMUCFoCAgU0Bvr+YQjCCa8C7wRBBvMFAAZhCWkH/wEtBvUKlQdgBB8HIASWBTQLrAJJAk8GJwPTBKIEZQFd/1oEzQLK/s0BXP1v+5T/UwPm+0H3W/z9+kb8JfzY+Dj43vcG+IT44/ko+BD1Wfi++zj5fvXJ9pj6E/ol+9z6afnB+1v7pPzR/pT8hfuw/oYAF/9e/v3+HwGCAt8BhQGoAP//dQLMBIUDUgJFA88BBgKTA/IBDwOkADD/bQK0ARAARv1V/Zn+Ov6A/Ab7t/ts+Av5I/2m+VT2M/hH93z4Efqp9Sf2UfvC+jH2q/nd/On4DPv//tz9JPy//mEC1AAUAv0ACAMaCScCJwTsB8cHUgj3BMkMMgcUCE4PgAUtDM8LqAfwDxcPXghGCaESmA1ZDVQQ2Qn3FJcQfwdjFqEOvwiAFVcOYgrWDrAJOwihC7QD5AC/CGQDSvxH+cz3UPke+ePyW++f79LrHeuT68brYOdk5k/qV+lL5kTl1uqK7VXsLu147rjvIPQx96n1Tfgv/Dr9HACuAUIAqwS/B7MHAAoyCUAHoglQDvsNtQyBDKkLXAwCDEELUg1KDMYJ2QmHCLEIvgcDBt0GJwXQAqQCFQFJ/2X/AP3Z+oT+5/oV9RH48PZE9P72lvX18HbzE/R58V/zN/QD8uby1vWO9Mn0Z/bS9Sn5F/vi9nL5rP5R/OH79//W/Yb92wWdASH9rAV+BnMDUgfuB6IEkAeYCvALuw93C+sHnBSAEM4KDBiXE04SbxeHEmgSORrnGHkT9hibFNYSvBY6DksQGRJUCMsOJA7r/xz+Af8eAVD92PWA8VHvBPMA6hznkuz95AjlIObT4qPhvuHO5YfnHOkR5U7j/ewr7zrwEfB38pz4/fZW+nn7cP0iA5sEdgRoBTQIawW8B80PDQ4jC7cMgAxlDVAO1QzeDUkSIQ9MCJoKyAxUCqAK6guQCb0FZQPPBC8EBQH0/4D/TgFf/qD3tPWG+NH6+fiL9xj0m/FE9JX0afRU9l31p/Ng94D2DPId92b78/xs/CH5Qfk2/BAClQG2/gsBsgGoAQADkwSpA54E8gfYBbgEzAW+B/MJzwrRCmEG8gzKD+YJ3w7QD74RWRR1E84Pnw/dFfgWExeoE7UUxQ2qC2IUcAu2DKMOkwZiACD83vxO+xj8FfcW7ibsr+tr6P3lOugV5QzgiOZR4bLbVuTH5JDmuudF58/mjepO8P/vGvSV94742Pkn/HT+BwBZBQ0KhAdJBw4J0AjkDL8Q/w/EDdgOow+tDTsPmRDwDsAQHxCSC+EINwsvDKUK8QvqB5sDlgO9AyUBWgCWABv+bv29+6r3XvFJ9Af/sfqr8BTya/CD8cX3q/Xy81/2RvZ38WH3zvkO9nj+vQHn+Z/27//J/6MBTQq9/+b7lAYGB+QBnQXqCIUEnAj/CbkBWQhaDLcHOwxVEJkJAAfvE/gRVAtsFfkUJQ5PF7AWgQw3F28ckhEWDu8PEwrRC0ITNQz8Anz9bfqR+//+0faM7Ejwg+4M5rDjHuNZ4/TluOGl3Kzd5t164FvmwOUc4uHj7egM7qTuau4w8r/4mvzR+of4BP1UBXoIRAlsByMHTguYDFYN5Q8tER4RJxH7EMIOLQ+BErQUYRQID/8L/gxoEPMPOgxkDFkKxAjlB5MEYALBA4UECwLh/ST5cvdj9wX4IP08+lnuZPAg9b/yOvQt9jvzRvQV+bfw5fH0/Hb6Kfp9/0f82fPh/v8Gxv2eA08F7PvpAuMJgAAOAAgMhgiRAisIwwSkBPsOBA01Bp0MwhEBCUgOzxfoDcsPyxnxFN4Qwhe2GJ4SvBTUDhMGbBJ+G/IMuvoO+hYAkgJCATXxw+nb8nbtluE/5VLoVN99343j3tuM12beSOaD5z3jS96O4RvvXPNb7n3v3/X1/OX8VPqU+58D6grVCE8H9welCPkIjw3sEVkOhgttDMANaA0CC60KTA8REzYMhwP3BbILQAyQCYQHmQXJBKADgwIzAjAASADZADP/oPsN+KP3kfpH+4j1kPTK+d31ePE+9pb3qveT+gL4MfUK+0/84PgRAH8DLv6Y/qoCoQAxArQK0QX3AwELCgTFAJ4MrA5CBf4Iew31BgkLnA8KCnQNehThDi8MpBX/EpUMJRc3GjMTPBXCFwwUvRGbDGEE/xF7IhUQpPNt8lMDKwZj/cjxw+pn75nshN/m3kDq4uVh3LHfddzC0r7ZIep264bi/Nsq3tXsUPcG8Ivrf/ngAqD8YPhj/PgEYw7XD7gJsAhWCuEJTw98FmgT8QvVDH8QqQ1jCFMK1RHQFJcMdP/w/7EJ1wu2B/wETAN5AJj+Hf2i/fv+Hf7I/N36zfZp8svzC/mC+b32cfMw8KfxVvPq8tT1hPo7+SLzcPJH9cb61QBmAEf+kv3i/Iz9lwOBCR8I9AXgBc4EkgUqCh4MsAxuDooKZwhQDdAOhA9uE+ETHxK8ELsPNxMDGswZthO3FEAacBr7FcgR1wpdCIQUeB1nEtL5ffCX/ooKJQJw7dTpPfBu7MbhP90Y5Y3m1eH02wrWkNWO2tXm2Om74Qfb3t1X6+3yFvIN78v0IwEkAbH5WfktBtYSGRJXC1oJXQ68EOoRGRb/FqwT6BCDESwQ+wv/DD4U4xbsDJoAaQA9CeQMkwcOAmsAvv+f/XD75vqh/FL+gvz79xfz5/GT9Er5cPq68//sXvDP+bz2K+2Z8JL4hPrn96fxfe6I+KEBafsD+S79tPtf/MsCbQLO/okFLAdTAsgGOwfgA9MNeBQ+CYAFrhA3E8ERUBXdE9QU1RlTFVYS5xwEIJsXJBxkIZIW7wuWClISah+4HrACoPD7/twIIwAV9Xnxa+9U63Hj29uy4n3o1uFZ2wHaxtUm04LgTOvS5M/ax9o65Zfv2vHt7fXx8v2TAFX6+Pi1ATcOLRPuDlMK1gyOEd8SOxcqGjUW2hKKFBUVWw+jDZ4TVBjvE/IHOQBdBIEMvwo9A3v/9/35+3P6WflX+N75jfps963yQPDs8I3znfZ79IjwifDb8fby7vRa9kn3Ifhi9v/z9/aj/Cv+jP90AZf/zvwe/wcEdAfkCboFCQOMB/8I5wdFCjkOwQwIC10MAg13D88RnBJbE8gSSBHIEvwXkRrTF3EYjBoAFz4QMwjhC/kbTCCdCZDxk/YwBaoHX/rZ7Insl+uM5NHcDOA05TXhUN1P2ejTj9DO2h3qdegf3evXUeD47D/y2vGH8Vj6NQL3/cP4m/6ODbIW5hP1DOcMPxI5FRQZtB36HCIX4hQKFwEWDRMyFRgbmxlZDhkEtgXPDAMNJQgRAjX9P/sl++j4cPXQ9tr4ofVU743qcuqb7vnxnfCC7nvtC+pp6ubwnvSm9eH1gfT78XTzhvrq/0oDJgOrAEX/lwBGBmQMNxAHDUgJGAsEDHMNyBExFdAUEBPQEOsQ1RUcGB0XDhjfGOEWABZ0GdkcPB7IHDsV6gsKC/US9xmkFx4GUfVF+KgB5v6B8U3qv+ry5jndutZI2sHbF9kP1qbRJs7zzZnXwt893TTXldfg4XXp1epM7F3yzfmY/YD+ufuo/pULoxR9EsINTQ/EExAWIBpYHokcVxdtFm4aahpbF2oYSB3tG7wQJQrbDZ4SVBDxCr0HQQOb/mf92/0Q/AH6UPgr9ZfwdOvM6k/uW/HR7wLsROgV5ojqqfBY8i7wX/Ar8vfwSvO8+Dr+qwEhAAr+O/9tBP8HlQtCEJUO+wpjCxwQsxMIFiMY1BRbFLMXgBgZGFkZbByXG8AZ9xhQG9AfSR8lHJEWZA8gDGYUqSDVGCEB0vSU/pwJWgH88JLq2+x96JXf5tzM3EvbhNgL1SvQ28uRzzXa9N5S1zrQBNWK3ovno+yE65Lq+fF4+x37Gfk9AOIMGxMkDsMI5QwKFcQXOhqPHhEbexPiFFgbeRoZF/UZrxzWFmsNIwpeDlkSTw8DCe8DCwCX/UH+rv5E+pr2Q/YX8+rsguos7YbuHu9R7v/oteTK5QTtIPIt8drtquzN8U70p/Tn+Cz/1QFW/wYAoQCKBJkMzRDHEPwM4A36EMUU3hg5Ga0ZMxlVGhob1RpWHAse5CDQHusaehz7H/YhbR5QGM8QdQsTE14gXB13A5zwI/tJCjoE0/Dp6OvrtOjF4Lvbwdwl2/zVfNXM02vMtsqw1qfeitjp0fzSb9pE5DXrpuvG6rbvu/cb/Oj5dfrACNYWExGgBr0M+BWRFu4ZliC5HhAX/RXnGvsdOhyAGhEe1h2TE2MKEw++FqMS/AuuB8YCu/67/jL/xPpr9/b1EfLn63/omunu6bHqS+u75z3iMN8v5Hvtre8L6gHmEOvy8CfxFPPe+Cj+0/23/AL+rQBmB8ANXhFkD9ELtA5LFHMZdxx0HX0crBwFIPof4R7BIewm1CiUJLQgByKbJiomwRw0E3oTth02I1MWbf909/oCmgr4ACXv/+Uw5g3m/+BK3GzaRtTm0GDSSs8dyM7KJdhC2tzRnsz6z3PbeuXR6Jzmf+jT7pj0N/ps+tz8ywczEH0NCgm+Dc4S6BWUHJsgvBz7FZEWXh0PIb8fgR1uH0EeMhXdEAMWpBrTFiYQoAvcBsoDLQMvAiAAvfzd9+bxBu0R6yzrfe3R7GDoleTZ3wnf4OQL7DTsceb45SrotOuS7+/ykPha+w/7n/hC/HADaQZUDN0OqwwzDNwPHhUGGFIdlh3bG6Id4xyYHkIjzCcSJWciWiV/JCQmkSb1IKoXHBOLG+kkwSBmCGX32wCMDAcHOfZs7XHp1OSv4ufftd0t2BLTVdJG0PzJUMc10uPZY9STzRPNbNPV20rloeir5JnlIO429uL15/aVAOIIqAmDB4sKTQ1PDv8UkR2YH3cXVRKuGJ0fdB9fHfsfrx+tGbQV6RYPGjQZFBdPFO4NtQgwBw8HHwUvA/sAZ/rq8pru6u5Z8dzxe+5q6JXkReKk40fqley66KLmWukv61nskvCI9ED4IvtD+4X6Tv2OAx0JOg28DNwJ4w2LFFcWZxf0GiIddhxvHNMcbx5aIZkjrCUNJeIh4R9VIkMk7RwzFMwVFB+UIDISXQEX/vUF1wiXALP0pus55yHlveRS5Nnd1tWR0zzUTtGgzXTQYdXs1nDUI9A20KHXPeFn5RLmq+a95yLtRvIs9H75FAFAA9MBFAXHCMsHvgrME2oZoRZ7EaMQwhQvG6wd9hzWHBsZWhSfFWkaMxulF7QVMRPiDhMMhgkACCgIbAgtBCv76fOc8Q/3OPrM9Frve+r157DoGez97WbsDuyw6szsi+8P7hfwQPae+wz7wvq9+1H7twKcCS0JPAkZC0QLZwxoEysW3xUvGS0XkxSjGBId8By6Hh0inR1tHB0ifiHQHpgdCxcxElgaXyFNF4UJ9gKAAsgGhQaK/fzyz+xR6Hrl6uiG53nbqdRf1wnZiNVl027UF9Zp2HLXxNa+2QrdWeFd5iXrVuyI64zuZfJK9wv9GgCBAEACdQZpBqMFbwr7EMcTUxHQDlUPRBISFaMWABpMGmkTGQ9YFFsZmBaXErERVBGtDkILRgm0CBgISgXkATP+EPrw9lD3gvmu9hDyKu4Z7L3tE+857wftkuzn7jfwqu/67dfxHPc/+fH54vmi+/H7zP7nBKQHzwcDB/cIFAzFDqgQYhHDExkUnhTNFkUYxhiXGVEdBx9qHdsb/BzRHsserRvHFbEWPxv8G3QW6wsMBuEFfghGBX7+ofi77/HrNuwy7LHmE9+f3nPdjdw82mTX3dhW2cPbz9tL3Nfdd93/4arm8Oq+6lvqm+6r78Lzp/jo+jP8I/15AK4BIARsB7oIwApxDJQOcw7bDqARixMxFhoWBhM4E6wVwBWyFFYUfROSEbsPAA+aDaULRgkVB7kEwQE/AXH/wfyO+kD3nfZ99g32X/Nw8Gnx8fBv8j/zt/Ag8CnxkvSn9aP2affa9e/4YPul/Bb+wv42AREBJgNgBfEFUAlfCHkIlgu6DbgO7A4fEq4RSRN4F1IWXBjgF7MX8xpHGz0bVRZPFbkX8RhgGV8RIwuOB10HVgl8BGgABflQ8/rxru/58P/rV+Yq5GrjyuRJ4RThZOB73ovhY+OU5arjE+Kd42bmB+3j7L3rbu3r7WPw4vJG9/P4svhE+yr80P1dAG8DYAWxBpcK0wqECp8MNw4SEb4SqBJ7EoYSohKkEbkS2BThExgRxw4yDmENjAx5DOkKZAl6B50ETwNZAtoBPAFFAM/+xPuB+mH6LvqB+hr6EPl392D3u/f/9jv3f/ei+N/4rvdZ9xb3BvlJ+2P7rvpB+iL7s/xx/zcBpQCIAJYB2wQ0CHUJewmYCSwMjQ4kD1gQuBEEEm0S2RPhE0IStRD0D7YQyxAjDi8KNQiRB8IFtgODAVj+nfvK+gr5IPbc9IHz4vE58ZLwI+/T7Qju1e0A7Vns/usW7YLuxu417TXs8u3y7/3wpPEJ8jXy4/J29Uv3Tfdi+F76JvzS/UD/jf/x//EB6wNxBbMGxwbUBvYHtwk8CnwJoQkrCqAKfwuvC2QKVQndCXYKLAqvCeYICghbB9cGEAY1BWgFmwWlBJwDRAJRAA8AMgEjAQMAHf/p/cX8Nf3F/aD9pP33/PL74/vO/Pz8+Pyz/c399P1A/uP+wf9SAOAAQwFuArQDBgRaBAMFfgaeB5oIfwnxCB0JtwmSCmkLTgvWCtkJ9QkNClIJkAhhB7kGWwX2A7MCpwDN/xf/5P00/Dz6aPjJ9t32QvZe9F7zvfJk8tfxtvGX8WLxDfLP8VnxCfIA87PzavQ49U71f/VM95/4ofgf+Uf6gvuR/C79y/z8/AL/bgDoAHUBfQE0AZ0BegOKBIwEwASdBAoF7QVfBhEGHwYCB8oGbgaKBhUGhgUkBZcFyQV9BagEOAPlAgoD0QIlAt4BBwJBAY8ASAB9APkAwgB3AB0ATgCFAIAAEAEpAZcAOwAlATMCwQHNADgAfwBcAaABGwFgAGYAkwCdANoAogBVAJgAagGKARABQQHVAdYC0QPuA5gDwQO1BGQFrgX4BRYGRwZcBkkG+gXPBb0FUQX1BDoEBQMUAokB5wDb/7r+CP53/YL8Mfsm+on5Mfki+fH4g/jB9yL3V/f+9z/4EPhC+N34DfkH+U/5n/ka+r76KPti+2D7Q/tO+xH82/ye/Ez8Y/zA/BL9av2U/UL9Y/2y/cH9Gf6i/tr+mv6E/s7+LP++/zYAeABgADYAbACoACkBhgFyAdMBqwLqAiUC6QGxApYDkwQHBZsE/AMSBMoEqwVxBm4G2AXWBUcGDgZzBVgFkgWoBXQFiQQ0A2oCYwJgAgcCRgExAFX/Df/7/nf+4/2W/aH9qP2J/Tb97Px8/VD+gv6H/v7+pf8zAL0ACQFiAUYCJwO3A/UD0AO+A3wEkAW3BRgFzwQRBU8FLwXBBDEEzQObA0EDvQLzASEBlABtAB0AV/+D/v/9wP2p/Xz9E/13/AX8MvxY/Dz89fuk+z77MfuG+2D70/pX+iv6cPqa+iD6WvkS+TD5Gfn6+LX4Xfgp+F74kPhv+ID4+vip+Q/6GfoY+sP6BfwO/Zv97/2J/ln/VABZARAC1gKtA2kEyQTZBDYFHAYiB80HsQcZB9sGKAevBwEI+Qd4B/kGmgYpBtoFmAVsBSYFpQTyAwMDJwKxAaYBkAEGAQwA+f4+/sr9bP04/en8Tfyv+yL7vPpx+jP6SvqS+sr6uPqO+q36Afux+5z8kf1K/o/+AP/S//AAJwJMA1AE7QSFBVEGKAcnCBQJygkqCksKZQp5CsgK9wrNCmAKygkmCXII7AdNB4YGxQXjBLUDWQJHAX8A9f8//+/9h/xx+7b6Gfpk+YH4kffV9jb2fPWy9C30CfTk84fzAvOa8nbypvLw8hHzcfP683P03vRd9Rr2LveO+Kz5XfoN+y/8jP3d/gAA4QDrASYDHgS2BGIFTAZIBzUIrwifCKwINwnaCSwKJQoHCtgJqAmPCU8JFgndCH8I7gcgB2UGtgU+BcUE+AMAAxgCOAEYADj/nP7r/ff87/vc+uP5W/nr+FP4s/c297L2VPY69i72MPaY9gf3JPdU98v3p/jG+e76x/t//KL9Hv+UANoBJgN9BO8Fdwe+CNsJ8wofDCIN5A1yDtcOWg/jDyUQyw8mD6IOMw7SDSsN8QuLClUJAwiSBjcF6QORAhYBdv+s/ST8I/tR+kf5+feS9k71lvQk9LTzKvOp8jPy0PGl8XjxgfHU8S3yWvJh8n/y8fK185H0Q/XQ9Xn2VPc4+Cv5P/pQ+0v8af2A/nD/iADHAeECyQO+BLsFyAaoB1EItQgZCbMJNwp/CoAKTgoeChcK3QlpCewIfQjlBycHRgZoBbwEPwShA5sClAGfAOv/WP/D/g/+Qv2D/Nf7EfuM+mH6SfoY+n/54/iE+L34PPlw+XH5ZfmF+ez5fvr9+pv7d/xP/dj9NP65/rn//wAkAuoCLQO3A6IEmwWLBjcH2AdrCPwIUQlqCdsJhwomC1kLFAvBCqwK2wrQCmgK6QlYCcUIBQgGBwwGKQV1BJkDRwLCAGL/X/6P/aj8h/tP+kr5ivjV9xz3efYL9sn1jfU+9QX1A/Uu9Xn1ufXx9Tf2nPYX93b33fdu+Av5rfkj+pD6APuN+zv80vxO/dv9gv4g/6r/FgCEACsB5AFMAqIC7QI8A4kD3gMrBD4EZQR1BFUEJgQbBB0EBwTkA4YDFAPQArUCkAIwAt4BrQGMAWYBFwG9AJEAoQCtAIEAOgDs/9//EQATAMz/WP81/zP/IP/m/o/+Tf5O/lL+EP7c/br9uf3P/d39xf3S/Qv+T/57/o7+pv7+/oD/6v83AF8AwQA+AbUBCQJcAs8CUAO+A+UDCARJBL4EPAWNBZ8FjgWrBecFLAZjBnkGfwZsBlMGMAYSBv8F5AW5BVgFygQ5BKkDLgPLAlICuwH4AAoANP+a/iH+qP3//Cr8Y/u9+kr63fl4+SH5u/hV+NT3fvdg91n3cPdf9zL3Bvf/9i73bfe19/z3QfiK+ML4/vhr+RL63fqN+//7Wfzf/K79mf5w/ygA2ACRAVUC/gKCAwwEtgRyBRYGZgZyBpsGAwd3B5sHfgdMBzYHLQcVB9UGcgYpBusFpQUuBYwE3gOBA0wD2gIzAm4BtgA/ANz/U/+9/if+r/0h/ZH88/uA+zz7D/vW+mL6A/qi+ZT5ufnb+f35B/om+mj6vvoT+3z7Ivy//EL9y/1G/un+tf+kAG0B9gF3AgEDtwN1BCkF1QVXBsAGEgdeB88HOwilCBQJIgnVCLMI6wgiCTkJAQloCOMHUQfqBpwGCAZDBVwEmgPaAt8BvQCr/+3+Dv4E/Qj8ufrf+Ub5jvjd9x/3cfbu9QT2vfU39Vj1Z/WF9eb1G/ZT9u722fdw+On4VvnX+eb67vuv/FH9Df7m/tP/lgAEAZoBPALvAqYDHgSbBL0E4wRKBaIF2AWrBZUFVgURBSUFLAUrBawE1AMnA5MCFgKvAUYBiwBDAOP/7v6//mb+xP1h/d38dPzx+/L7yfuO+7b7EPsz+1n77Prt+uj6wfvl+zz7oPtX/OD8Rv2W/b79nv6P/w3/5P6f/sf9TQDlBVAGFgNGBPsEwQXlBwgH6wYUBxAHLQh1CkwLGQl8ChYL6QiICasKTwsfChAJfggvB7UHCgf/BeQF5wTfAzwC+gBK/1j+nv4e/sn8uPrM+Vj4zfc+9xT15/Vw9n/1S/VH9Y31I/Wg9U71cPTI9bz2JviA+bP5pvmD+iD8yftp+/X7uPyM/RT+5v4k/xkAUwC3/9cB9AL3Al8CHgAd/WP+ggZUB4MGaAhJBKQFuAdJBQgDwgR5CXIIfArrCOIEHAkACUUG/gRqAwgAiALcBkIAwf0t/n/+wABuAJQBjf2w+m/6U/lQ/Cz63PY29YP3Mv42/FH7TPsx9B32Ov3N/tz+Lvws+fX5LP8t/r72p/oC/av5XQGoBWQCIgJaArwDwgPCAk3/Av/3B+gDCQA1CBQEFAPDBfoGjworB8wJOggwB0sIEQHbBw4KZQckCcEHZAoCBY4FHggnBOUEAwI/BXsIoQUMBOEB6wGO/mD98v52/ff6JPiY+Sn5PfiF9pH0TfYG9LPyfPNW9FP0z/EW8wL1EfRE8v/wwfNc9rH1N/Z9+Ez6Zvld+f78s/zH+n37wv0AAQEAfv6P/1T/Yv0E/h8CnAPnASwBqAIHAxUC1AGHAnMEGATTBFwHbQdMBu4E4gZSCWwKqwz4DhIQBBD3EucV1RU+FsAXuhnhGdMZHxy9HTIbzxmvGpIZ8hgVFqAUDhIiDQIMOAOy9cDlftYU1q3fm+mS5kHardRr1KLRBc4G0LTSHNb935X0eAYWAvH03fG++8EGNhDvHiwmNCDgE1UR6xXsC8H7L/hWA88IPwM7/wf3WeUp1ZTYQ+ej7QPte+4Z9NjzDfJv9vL6C/4jA5wOBhvKH6AbuxTuECYPEhA6ES0SLxKhDRAHQwCF+M/tEea05Vfoqesx667oB+aG47Pllels7+X1WvsBA7cJFg/AEAsPYRDTFMwZNB2HHqUcjxmWGBUZ6hlsGKIXnxkzGrkYBxdTFx4UpQ3ODSETGhp7HQUfrSENIOwdeBacCHbyjNY1zG3YJe8z+EPy4Okd4NnbjtR30kzTntDR29jyxQ7aFJUFsPf87fPw8fnZC80azxqOFcsLkgYS+ETk6Nfn03Diw/DX+pH7x+2s4KnX9tzk6A7zuf3AB98T2hk0GwkX5Q6/C7oOiBrlJcUq9CYZGfoKY/+29mrwNOtZ6t3sq/Du8R/st99508rRANzO6vP4EQPcCP4L/A0eD7kMpQlWDGkUix3AIh0hjBgnCsT8/PS88dPxKfP79F/38/cu9zv2Z/US+iUDgAwKF6AgNCioLBYuPi9ZLMoreTM/O84/5z53O04vrRK37NvEQaptqVvCEdie3WXiV+dA6Tba2s3JyRDFANSk99kq6EMWPGEveB7WDyv/owDRD4EV0xaUFzkbIwow4eW7PKuSrxy8NtIh7Qf5OfVg9PP7Q/1j9Ff0IANUFwgr4Dr1QfU1IiJWEtMG+wCV+xn67PeG9hD39O5D45zUc8hfxGHIW9kc6vPyPfv8AewIZgzLDt4SHBC/FEQemSQ/JrEeQRgsDOECIv+1+lr55fRV9InyX/C28G/vq+4x7YPztv6dCx0ZQCOIKOUn5ChaK/0uRDHbMKgx+TKMMwswbCt3Jk8eoBKlCDv2Es/WogyNep7itZ3B99Kx7I4AzP1r/D7+Ou2J2Cvi7w7DMNE3YTxjP+stNgnZ8tXuPuUq14PalfFm+0bsc9aRyfy/sbUfvebW1O/q/gMSpS/GPawzeyb1H5UX5AuBDzccnB8tGo0WsBJwAfjsat601ZjPeNOH4PXssvY4+mD9/v0IAMUAqP12AkoJmhE6GnsfZyEuGaMN7gE+9vHsWefp6QXvw/W2+xX+ivuU9QPz/vFo85r5cAGjB84MKBM9GPgbTSFsIgwhniKSJoop9ihEKKck1iBpIEgekBesDAIJ+xFyFMgI8vHk10K6w6Dno1q02Mmy4aAAGB6xKsE09C8hGBn4u+h08kMDmRiAKvwuQSTFEG3/x+Z2yMK35LRvvbHK8t4w8MjyvPBb7XPsVO1v8S34EwPZF3AtrzvoPrEziRtQAEfwJuck3cXZxd7j5+Dv0Pfb/nj3+Ofm3i/kfuwl7lf70wxFGJkaaB9CI7UQjv6r83D0ZfXd9i4C7ANxBcL/gvvo9vvt+uy17Q73UwCCC6YX5hlaG+saIhmjGDMXERo9GbYcqyGhIZ0klCR8JRAfaRl6E6kLcQpVDBEWnB9UKNsqQSjIEsPf8KvSlNqbxp92sY7g4BDgKkYzT0RBPu4TdepO4I/po+cj9nYZKC+RI20Obgnc9yzTR7Wlq9+s/a4pu//UDfLcClAY3CDuI1oagg17BsUIugXRAwwMDhjKHqEdNxiQCXbyD9vDywjBgMHOzbPh++/V/KgNixSOEbwGWwIo+7L30f7SCLEWFhl2Gr4VhggM/OToX+E/3FHh4+3V9jsJfA2jDa4Djf0Q/qr5qAMVDOkW2R8CKNYvATH7McMpFRyfFCYOwgpKCB4KSRKXF+0gfCgoMag1kDFRKSgaWQQo54vBTKCYlEWhnrboyzX0dBQLJ8ouZjgmNwUTzPjw68bvPfEg/dwW1BzwFCQI4gcyAKzolNWKxbm5rrhrw1zYcuaU9EUB8gvYFxkZChUODEYGYAB5/oAGrgx2DEsKCgkuB5QAv/gN8fLjytbC0lfc6OYB7OHz4gHRBhcGwAspERAMdwBJ/Vv7BflE9T73ZPzl/ZABuwfwEEkQUwmyBE8B0fw4+SH60vziAoYKdg9IFCYYwhgoGIQZXBzGG0UbFRvTGvcZFhviHN0fUyVBKhUzMDisNosfF/cl0KyzvqiEnFKiR7bWyr7k3v0CIrcsZimhId4RYAn8+ukCeQZdA1EBO/9vDeAQXBYpEV79penB1cjN38Y4yQbWkN4U7X4BshWAIY0fMxuYDrUBx/5S/SAAfv0Y/l8EhQgRD64JJwA+81fnFeJZ3HbesN5l3/Tk6O4l/PAFsw2bDksFuPev73bq0ube47/o6PNL/AsK0BXtHfkasBL6DdYFpATcBQ4KPA6cDvoRnxPJGKkauhUVFMMRBxBbDkcSyhmUG/QhoyndMWU4SzmcOYoqbA1Z7HLUWsl0uRq5sMia2/Lu4gLLJMsv4yfaG8sKX/2L6LrnyukX57znY+rs/l4LoxJ5EckDzvdq6J3gtdqH1VjYTtmp5Yz6pwzmGFIaxBt7FF4JDwTS/Rb3JO3P6uPxy/iB/6UD4QYhBDf7LfmY+JvyWuk+51Lt0+9c9F77XgH//1b6DvxP/o/7EPK77IPqfOak6ZbwL/r4/woGpA6xE5MX5BNpDpQHSgOJBYEJSxOgG1MhXiORI1EiWRseEpoI4QO8AY0GkhKeHy8pcizBMUItYBop/3jnEtkEx+bBjcqS2QLqqPlLFQYmcChvJIscJhXeACX0qO1q5FzeHtxD6tf1EAGUC5QKdQn0AkP8F/EP40fdO9iZ21TmR/UCBGkLoRZeHa8cUBcUDxsHnfqa8t/xfPUz+c/8SwPZCA8KeQlhCrkHJf+R83Ds6umF5/rmv+pQ8N3z5ve//mkGuwWl/nr02+te5XzgI+Y77KX0h/yHBNUPhxKeEoULTQRAAaP9yAGZBr0OGhRnFQUceh7NHqMbvRjXF6oTzhTtGakeOyHwHkUewBZrArXwneai4YbXIdUw36Pmze8L/DQQ8RrpGv0bBBskF4MKBAIz+dTu8+UI5MbuVfeXAS0IegwfDWYHif/z77Dkcdnp0VDWHuHT8L37hQmwFasYTRicEnsMcwCA9JvxM/Pt+EP99wPQC0MPZhA7D38MWwFZ8lTqNend6Hrp3e5C9Cj5XPo3/sj/BPtg9K3uHfMA9OD3Nf2LAFwFRAYfDosPUAzsBh7/ufwu+Un9kQElBQULkA91GL8c9B6qHsgbrRhuFM0T+RFVEccRjBN6FfkRPgY19NXmmNzH1KHSINmF4+PsB/uaDEIZlxmoFVoSBg7HBu4BqQBt+7vzy+xz76vzQPUy+PT7oQE8Ao0Bo/4G+G7vjeWx5BTrhPIa+jUDig5lFNwUeBXJEWsI/v0F+XP5u/nY/LUABAPSB4IM5Q7YDuIJ5QIL+i71RfMe7zTwWe3u7zD1jfgt/7T7J/yr9tPzSfVF81T6dfgK+2T9ZAIxCs8IiQ2RDAMKOQcJBfcF1wFEACsCHgV3ClMPJBXfG7gdRyDBIXMh0B6yGG4SsAFO7UXfwNWd0LvMgtLT31Hpr/lDDAQc6yBhGVYXXw/MCZICAfwm/DTzMvRt+M4BXAi4Aj4CTP3d/LT7fvds94bvLuoP5yTqK/Pt9DT7qwPUDQYX6RinGqgRMAR5+CrwPvEW8Qb1BfshAc4IUA5+E5EQkQlVASv61/dq9un0NfNP9Gr2lfpU/jgABQDG/Y/+cP43AJD+rvq5+PT1hfie+2EBVwWnBRQI8QcMCukKpQivBbsAXwHbAuEF7At6Ds0SDhb0G8ghoiHAIM0Yaw+5AaXwauUL2W7Scs3uzjPZ7+Aq8Nb9jwpQE+0TDhjWEwMRYAt3Av/+fvQT8TnvYvID+Zf5HQGeA2UG5AbhATv/MPaB8B3t2e789iT68P+QBckKDQ88D+0QpgzwBVABcPxV+x/5AfkQ+8f+ewYFC5UQpBPbElAPIwjZAt37Q/b28UnwqfPj9zn9HAJvBUYFzAFM/oL7YfkG+en48/qf/rcBQgVPCOALRgu+BxsFPQIq/7D6kvaU84jxPvKW9WX7zgI+CIQOSRVUGhodxRxHHEgYlRCqBrr6t/BL5+vfq9193LPdMeG06Jn0hv2pBsULDQ6hD8oNgw7KCkEFnv7X9/f3X/dP+t394v+fArMCNgasBcYAJvtJ9Qz0e/M69tr6k/4XAvYE/wkGDisNXglaBukDqgBP/n3/3QA8AD0BowRsCfsKfArcCZoI5AWw/1P7bfeh9JDx+u9c85T0Bfd/9z/77v6a/Y3+sfws/z7+d/8bBUAHMws7ClQNOQ6lDPMKBwUVArr7QPdL9GnzjPQh9Fr4Fv5/BVMLkRAMFW4WVhb4ElgPeAlDBBkBZQFpA53/dfgA8mXuXud934LdT98f4c3l1fMvAw0M+g6cE1QXLxRSDtoI0gMj+qbzuPQc+sz+qv+HAkoFGQhiB40D6f/l+Kvx++tM7aLxWfJH9Wn7lgRYCwkRBRfgFmUTxw7tDGcLhAe5BEgClwL0A1wEiAQBA7UAAf3u+Vf4OPUu8srvpfDQ87r1ivhz+xn/pAHNAwAHRge2BlYEBwP1ApIBrwAs/mn9kPwI/IX8jfx7/Un87Pup/MX9q//mAW0FQwk6DUARBxS3FI8TwRAFDpQKgAdYBBn+1fb18Nzt9eq/5ujkGeZG6Ors1/QA/+cEEweLClEMsQw8CX8FDQLD/Hr6P/vV/1wD1wMkBX4G4geKBn8C3P6o+W309vHa8oL1Mvan9yD8ZQE+BxYMvA+HEB0NBwpIB1UFjwLv/of+6f9nBHkJpQ02D44M9Af8AGr7hvXn8J/tGex97o/w/vZU++3/0gNjBDYI/AbaCDEGVgKKANn6dftK+Jr6XPwS/SYCtQLSBoAGkAaoBUoBEABR/Sn9Mv1d/c7++P5LABACAAOiA+gC5wGUAT0AuQD/AMAA0ABF/xsAGQCoAOcB7QF8BE8F0wb7Bs8ErQHm+uf10PH+7nPtMu1U8Fv0zvih/ooE3whHCv0JYAqgCN0F8gJFAGj+HvxA/Kf9gP70/uv+cP/t/or92fyi++n6TPpH+V76MPyj/6kDQQfRC6IMLwwJCtEGJgNC/a/6Q/jC9yz5y/uKADwDegWsBh0HYAa3BB8DAwJkATQCiQR5BwMM+Q7QEZwSfxIhEgUPNQ2QCYwEJv3/9Tjxuep95xjmduZR6D/suPSY+hn/ewF4AjgCX/+p/x3/r/64/Zn9gACvAVUDDwS6A7YB3v01+xH4ovSQ8QLuLe0S79fyDvhT/eAD8QeoCp0Nng60DKIH0gO9AOn9sf1a/7kBwgMBBvsIdArDCccHrAS/AfT+iv1v/az9G/9lAJECjgUiCAcKIAqrCRYI0ASqAXT+rfs7+R/4ePmC+6n+kgGFA9kEAARXARr+bPwk+wP5p/jT+mz9h/4iAN4B+gD4/AT6pfn9+OT4e/ld/Hf+uf+rAvUEdAbcBFcDHQMyAsoB5f+r/lv9n/vc+4r8cf++APwApALFA+gElwO2Ag0Brv15+1D6Jvtv+1v8bv5xAGIChwNoBFUEswPYApoC5QLvAoMChgHDAHD/wP2H/LH7T/vy+u779/1o/wsBcAImBOYE1wQsBWoEgwOEAskCkwPQA58EKAWuBaoF+gTkA2gBn/4u/Ob5YPg798/2C/fT+H78MQCnA2UG+QfHB10G8wTCAvj/lf2O/I/8/fy5/RH+q/10/O76vvno+CT40ffB+Bf7E/5jAX0EyAbMB4wHMAfwBcEDPAHw/ib9Jfst+tz5rvmw+XT6J/x3/eT+XgBOARsBoADz/8b+tP1B/Zr9Hf6W/y8BfgI6A5gDhQNBAiMBQQC3/zb/3P4r/1H/5P6V/pz+ZP7q/fX9LP8fACkBuQLkA5gEPQRXBJUDWgLMAQUBSwECAbMBYgLAAq0DXgOiA7MC1wEdASYATgDH/yQAKQB/AHAB+QGsAngCigLRAbsAMAC8/9f+6P3//Xj+9f5P//7/CQCc//T+i/67/sn+Sv8sAOoBkQNoBB8F/AT1A7QBVf9x/V37+/lI+cv5ofpy+9n8HP6Z/38AVAEjAkACTgKjAR8B4v/3/T78kvri+Tr5lvmF+o77wvx//dH+V/9J/xP/2v4O/zj/OABRATYCigKDAnwCwAESAWQA8P+w/8P/NwDaAMEBRwKAAnwCYAIQAnIB6ABiAOj/Yf9E/53/KgDoAMMBCQM2BFoFbAY1BzQHUQYMBU8DmwEZAFb/Cv8R/6f/XwAVATcBBAFOAPT+yf0Q/fv8JP2j/a/+cv8wANoARAHsAMX/of5b/TD8L/t5+qX5ivjz97b30/cy+N/43/n1+nH8L/69/80AlgH+AS4CdQKuAq4CTALFAQIBSQCk/0f/8/6a/qT+7/7H/6EAgQFpAiED6QPBBO8F5wZyB24HCQdZBt0EYwMAAqQAb/8P/5H/bgCCAXsCgwPUA90DowMfA10CNQFWAEP/U/5U/WX8xPsf+/T6z/oh+7/7QfzA/Br9av0//ff85vwg/ZX9Of4r/zgAAAGKAacBPAFSAAL/Av4r/bX8rfwH/dn9vP7b/woBIwIJA58DOQSGBHoEIgSKA5ECNAH4/9r+5f1P/WT9FP43/4QA3wHkAnsDjwNMA8kC/wGLATMBUwGjARMCcwJwAkUCrgHhAOz/9/4g/pb9sP0i/uL+//86AW4CdAM0BIEENwQ3A6kBrv+I/Vb7jvmI+BX4RfgU+Ub6U/tC/PT8af2U/az9Ev6N/g7/mv8wAHQARADx/2T/xf4D/nb9Of0X/Uv9cP2i/cH9Bv52/gz/KQCLAeYCGgQkBbIFnwUHBfwDpQJaAXwAMwBOAMwAnQF4AhYDjwPoA/4D0gOHAy8DtQI3AsMBUwHmAH8AMgBGAK8ASAHeAV8CrwKoAlICyQETAR8AUP/L/qr+yP4I/0//N//4/pn+Ff6W/S796/zZ/Cf9vv2E/jX/wv8jAFcAdgBbACkA1P9z/+/+Tf6u/fT8N/yF+yv7Hfsr+3b7E/zX/HD9//2i/jL/s/8fAJEA7QAEAccAbwAEAGb/3P6Z/tH+UP8XACoBTQIVA0wDVgP+AkECcwHgAL4AywAdAdQBpgI7A5sD6AP7A9YDtQOUA4EDagMuA94CewIJAosBKQHiAKoAXwAWAOf/dP/H/ib+qP1m/X/9Df7q/rz/fgAWATcB0gD7/x7/O/5w/R39KP1//d39M/6F/rT+nP5w/nL+jP7D/gf/cP+z/5//b/8W/7r+c/5b/or+8P5w/+3/UABUAPX/bP/O/iz+uv2o/fL9hv5M/xsA7gCXAd4B8wHfAZMB/gBUAKf/4/4f/oz9Xv2V/T7+Uf+5ABcCRgMlBJYEXwSRA6IChQGIAMz/jf+v/wAAhQAEAXgBqQGgAXEBPAHxAKkAnACTAHIAYACAAJ8ApgChALAAowBgAA0Ak//2/jv+pP1f/V79s/1J/hn/7v+PAOgA2gB4AML/8P5L/uj9xf3T/S/+uf4+/6f/DQA8ACAAEQASAA4AAQALADAATgBhAJIA2AAsAY4B7AE0AjoC6wFYAZ4Avv/d/kL+B/43/rX+ev9PAOcAPAFKATQB1ABFANz/pP+H/3X/j/+U/2T/C//C/pr+gP6n/v3+gP8NAHMAvQDCAIoAKgDJ/6X/kv+z/xMAmAASAUcBZgFDAeAAZwDq/3//Jf/w/ub+9v4j/2b/qv/f/xYAUwByAIAAbQBHACkAJQAnADkAgQDzAHMBzwEoAk0CFQKiAQQBVQCl/yb/3P7Q/hL/dv/q/0QAkQCwAMgA5QDrAAcBEAE/AYkBxQHmAeMBtQFlARcBqwAgAJ3/HP+V/hr+qf1N/Qn9BP1N/cX9Vv4B/5r/CgBIAEkA//+V/yD/kv4+/hn+If5L/oz+4f4x/1n/Z/9s/13/Qf85/0n/Xf+m/wAAcgD2AGYBxgECAh0CIgIHAs0BgAEnAf8A6ADhABIBBQELAQABvACFAN//Vv/X/mr+Rv4i/mr+tf4b/6P/FwBzAJ8A0QDcANsA6wDfAMYAsgBhAPT/e//2/nH+/P2//Zn9s/3//XD+7/5//wwAaADDAB8BTAGFAdkB/QEuAkECLALnAXMB3AARAFH/o/4a/sz9rf3C/RH+iv4d/6H/LgCiAP4AMgFCATYB5ACcAE8AAAC4/23/Q/82/zH/M/8y/yv/G/8b/yb/Rv+W/wAAcwDfAE4BrQHxAfwB4QGiAUgB/QCyAIUAWgBDACEA+f/t/+H/4v/c//T/GAAdAAgA0f98/xD/gf4B/qX9fv2e/fr9ov5i/x0ApAAIASgB/ACYABMAqf8y/+/+yv65/sr+6f4P/zL/UP9u/5L/tv/3/0MAmADkAD8BogH1ATsCawKKAoACYQIuAt4BcAHXAEMAwP9G//z+4P73/jf/mP8LAG8AzQAMAREB+QDAAGkADgCn/1f/LP8O/wf/Ef8g/y7/QP9U/1H/VP9c/4z/xP/2/0gAhwDJAOsA6wDKAIkAQgD1/8z/u//F/+f///8XACoAJAAQAPj/8f/h/9j/5v/s//X//P/q/77/gP8h/9L+mP51/oD+vv4g/3v/7v9RAJEApACOAHQASAA5ACcAIgA7AFYAbABuAIQAhwB9AHgAYwBbAEkAJgAtADsAQwBrAJ0A3wAqAWcBkQGqAaoBgQFBAdwAZgD7/4z/NP/9/t3+1v7g/u3+Af8o/0T/U/9c/1v/S/9G/zX/Jv8h/xD/Dv8N/zT/Vf+G/83/EwBcAIkAtQC7AKsAiQBTABcA5f++/7L/vf/c//z/DAArAEYAYQBlAFoAVAA7ADYAMQAiADAANwBFAGEAgAB/AG8ATwAQANX/jv9E//z+3f69/rf+zP4A/1//0P9KAKoACgFBAUQBHQHTAHcAJADd/7b/uP/Y/wIALgBPAFcAQgACAMz/nP9//4j/vP8TAIgA/gBmAa0BtgGKAR4BjgDk/0T/yf5v/l7+dv6b/t3+Of+J/8b/BAAxAEgAWwBfAEcAGwDW/47/Of/v/sX+rv7W/hr/ff/3/2sAzAD9AAMB7ACoAFsAJgD//+z/+v8iAFMAkQCkAJsAewAzANz/fP8y//v+8f4T/23/1P8+ALkAEgFQAU4BDwG1AEcAy/9j/xP/yv6z/sr+8P4k/27/m//W/xMALQBCAD4AMwAnAAUA9f/z//P/GQA9AGEAgwCeAJwAjQBfACUA+f/j/+H/4/8HADIAcQC6AOsA9ADmAMAAjgBHAPX/jv8u//T+0f7c/g3/af/M/zYAlQDCAN0AzQB1ABEAtP9j/xb/6v7s/gf/Rv+M/87/EgBaAJoAvwDKANYAvwCXAG8ATABPAFwAXQBwAIQAkQCVAH4AYgBDACQA+//b/77/pf+Q/4b/of/b/yMAWgCIAJgAiwB1ADYA3P+I/1r/LP8Q/xT/Gv9L/4P/tv/k/xQAMAA0ADUAGAD8/+H/tv+o/5//pv/B/+f/GQAxAF8AdQBnAFEAPAAoABYAJQBSAIQAqADPAOEA0wCrAG4AHwDC/43/Yv9J/03/QP9M/27/l//L/xEATABzAJgArwCjAJIAVgALAN//m/+I/3L/h/+T/43/t//M/wkALgBIAFUAYABuAGYAUwA8AD4AOwA9ADUAQwBCACkAGgAFAOj/zv/E/8P/0P/q//b/AgATAA8AIwAmABAA+f/h/9X/yf+4/6D/lf+N/5P/sv/d//X/BQACAAEABQD9/wUAAgD4//T/+f/8/+//4//r/+z/8v8MABsAIwAPAP3/9f/w//X/AAALACMATQBcAGAAVQA3AAwA4v+7/5H/e/90/3b/i/+m/8z/7/8DAB0AIwA2AC0AGAALAOn/2//S/8//2//v/wAA+f/4/wIA///v/+b/0v/V/+7/BAAmAC4AWACEAJkAqgCfAIMATgAiAPb/3P+9/5f/n/+d/7r/5v8BAB4AIgAwADkAQgA2ACMABwDY/7H/j/+C/4P/i/+S/7P/3f8CAB8AKwAjABMA+f/w/9z/y//X/9f//v8kAE4AdgCLAJIAhABVACMA/v/i/9v/6P/4/xIARwBmAIAAgQB2AGkATQAiAAgA+f/l/+v/4f/d/+n/9v8ZAC4ALAAjAB8AEAD2/9f/v/++/7f/vf/E/9n/4v/p//b/AAAOABMACQD2//v/7//u/+v/7f8IACMAPwBWAG0AfgCBAG4AVAAaAOb/tv+C/3H/bP+U/8T/7f8jAEgAdACAAGwATwAnAO//r/+P/3r/Yf9f/2n/Y/99/5r/q/+9/87/0//I/9X/5P/n/9v/2v/h/9n/7/8CABIAFwAIABYADwALAAAA6P/V/8D/xP/P/+//BgAfADcATgBwAG8AaABIACkADgD1/+b/0P/L/9X/4//t/wAADAAXABcAIwAgABEAEAAHAAMAAAAGABAAIQAXAA8ACgABAPb/9P/r/+j/9f/6/ycANgBIAFMAVgBbAEkARgA8AD8AOAA7ADgAIQACAPL/5//R/9n/4//2/woAJAAxADAALwAeAAsA8f/X/7r/pf+R/4n/lf+l/7n/3f/w////HQAkACQAGAAKAAAA7f/k/9r/zP/I/9D/4v/q//z/BQAMABYAEQAaAB4AIQAhAB4ALAAuACIAJgAlABwAHwARAAMA+f/o/9X/z//R/73/v//C/8r/8/8YAC8ANQA+AEoASwA9ACgABgDi/8n/xP/W/93/3P/d//H/CgATABgABQALAAsABAAcABsAFwAXABkAHgAhAB4AHgAdABMABQAAAPD/4f/g/9L/z//X/+j/+/8OACEAHwAfACkAJgAZAAAA8f/V/7r/rP+m/6z/sP/J/+X/DgAqADwAMAAgABQA+//0/9r/xf++/73/wf/a/wIAEgAfACkAMQAtACUAJwAWAAUAAAD//wIACgALAA0AEwARABMAEQAHAPT/6f/f/8P/xf/I/8n/3P/u/wAAFgAxAD4AMgApABIA8//f/8L/u/+m/7D/wf/a/wEAEgA2AEQAUgBDAD0AMQAMAO//z//L/8f/y//k/wAAGAApADUAMQAZAAAA8f/i/9z/8P/0/wMAFgAnAD8ARABJADUAKwAdAAEA7f/V/8T/u//C/8P/z//e//P/FAAyAEQANQAnABYAAAD0/97/1v/X/9L/4P/w//n/EgAhACkAKQAoACIADAD+/+r/4v/l//D/AQAlADQANAA+ADwAQwA8ACAADwAAAOb/1//U/9z/7f/5/xMAKQA3AEQAPgA3ABgA+v/p/9f/1f/O/9z/4P/0/wgA/P8ZACwAKQArACsAJQAXAAUA6f/c/+L/4//v//X/+/8UABcAHwAcAAwA9v/k/97/1//Y/9z/8/8FAA4AFwApACAAHgANAOv/3P/E/8b/tP+p/7b/yP/t/wAAFAAqADEAIwAXABYABADv/9H/wf/L/9f/5P/h//D/BgATABwAFAAPAAYA+f/z/+3/8f/x/+r/+//8//z/AAAAAP//+/8FAAAA9v/5/+n/2//i/9f/2//q/+n/9P8MAB4AIgAkAA4A/P/v/93/1v/W/9X/1//x/woAHgAsADoAQQA3ACQAEwAJAAAA+f8AAAwABwAWAB0AJAAxADAALwApACoAEwAFAAsAAAD8/wAABgAFABQAJAAfACQAKgAnABwAEAAEAPT/3//W/9L/1//n/+3//P8YABIAGwAYABEABgD9////3v/m/+H/5v/w//n/DgASABkADQANAAEA8P/n/+r/7//u/+//9v8FABIAHgAiACEAGAAPAA8AEQAAAPX/7P/r//T/+v8LAAQAEwAVAAwAAwD9//z/9v/5/+n/7//h/+H/6v/t//b/+v8KAA0AEwAFAPv/AAABAP//7//u/+3/+/8EAAsAHAAYABcACQAPABAAGQAYAAkAEgAPABIACwAWAA0ABwAbAB0AJQAkACUAGAAAAPj/8v/y//X/+//+/wwAHAAiABkABgAAAAYAGAAEAAEAAgALABMABwADAAEACgAUABMADgAUAAYA9P/e/9//4P/t//L/6//1//b/CAD5//j/9f/r/+7/4//j/9//1f/i/+3/9P/o/+L/9P/w//v/+/////3/+f/6/+f/4f/o/+P/6f/r/+f/8/8DABMABwAQABAACAAMAAcABQAGAA0AGAASAAUADQAJAAQA+v/z//X/AwANABAAFwAGAA4AEgAbABoAHAAqACMAJgAXABMACwD9//T/9f/s//z/CAAFAB0ACwAUABMADAAIAAwACwD3/wQABgAGAP//+P/2//T//f8AAAIABAD5//z/9v/6//P/7//6/+n/7f/u/+3/6v/s//b/6//q//n/9P/u/+7/+f/w/+L/5v/d/+T/6v/q//L/+v/6/+//8v/2//X/9v/1/wQAAQD6//T///8KABMABwANAAoA//8LAPv/BgAIAA8AEgAeACAAGwAeABEAEgAUAB8AFQAVABIAAAADAAsACQAPAAwAFQAYACMAJgAeABgABwANAAsAEQAHAP3/BAAEAAAAAwAAAPX/+/8AAPn/BgAIAPz/+v/8//7/+//0/+P/5v/k/+X/8//q/+T/9P/p/+P/3P/Z/+//9//9//b/+f/8/+f/3//p/+H/2v/c/9b/3f/p/+b/6P/t/+H/6P/v//T/7P/t//z/9P////3//v8HAAUABAD//wMABgAMAAgACwAJAAAA///z//n/8P/w//v/9v/w/+v/7/8AABEAFQAJAA0AGAAYABYADQAOAAkABgABAAsAFAASABkAGgAMAAAABQD0/+7/7v/0/wAAAAARABIADQAJAA4AGQAOABEADAD9/wMACQARAA4AAwD6//7/CwAOAAUAEAAMAPz/+//2//T/9v/6//T/+/8GAAUACgAOABUAFwAFAAUAAAD7//j/9P8FAAEABgD+/wAAAQD+/wUABgAAAAQACAAAAAYAAwD3//n////3////AAALAAUAAwAIAP//BwAQABQADAAUABgADgAHABgAEgAFAAMAAAAHAAAABgACAAcAEwAFAAMACwANABMAEAAYABkABQAAAAAAAAD2//T/6P/n//r/8f/w//r/BAACAAYAAQDu/+7/7f/5//X/7v/t/+j/9P/r/+j/5//1//X/5//k/9z/4//i/+j/5v/p/+7/8/8HAPr/9v/7////AgABAAwABwAHAAwABgAGAP///v8FAAAA/f/u/+r/+/8IAAAA9P/4/wAA/f/1//T//P8FAAYABgAMABcAEwARABYAEQADAPz/8//7/wYAAAALAAgACQAFAP//AAAAAAAA+//7//b/8P/v//D/7P/z//X/CAAEAPX/AAD1//v/AAD5//v/+v/6/wAA+P/3//n/9//8/wQACAAGABIACwAQAA4ABQACAAAA/v/5//r/9v/0/wAABAD7/+//8v/3//X////6////BgAJAAwACAALABIACQAHAAoABAD7//n/BAD8/+//8f/+/wAAAgAKABAAEQATAAgABgACAAAA9v/x//n/9P/8//D/9//3//X//P///wMACwAGAAAABQD9/wAA/P/6//v/AAAAAAMABAAJAAsABAANABEAEgATAA8ABQAKAA0ADQALAAQABQD5//P/+//2//f//P/7/wEABgAAAAYAAAD4/wAA+v8EAAcACgATAAQAAAAAAAQABQAKAAsAAgAPABAACQAGAAQABgABAAIADAAHAAQACgALAAAAAgACAAAADgAFAAwAEgARABAABQALAAAABgAMAAYADQAJAAkADAAAAAUA+f/8/wMA6//8////AAD6/+//9v/z//P/9P/w/+b/9P/v//j/AgD6//f/7f/6//X/+v/0//b/+//0//P/5P/5/+7/8//4/+j/AQABAAEAEAASAA0ACwAQAAkAAAAAAAMAAAD2//H/5//0/wIABQAFAAUABwAJABMABQAAAPz/+f////T/6f///xIACQAOAAwAEgAMAAAABgAKAAAA/v8GAAUAAwD//wgACwAEAAgADAAOABsAHAAOAAsACwAAAPv///8GABIAEgASABUAGQAPAAcADwAOAAEA+//6//v//v/7//T//f8AAPv/+f/0//v/BQALAAwACwAAAPv/9f/u//L/+v/7//7/BgACAPz/9P/x/+7/9P/n/+n//f/y//H/7v/z//v//v8GAAQAAgAHAAYADAASAAAA/f/+//z/BgD+//r/9v/3//7/+P/6//r///8AAPz/9v/0//z/BQAFAAAAAAAIAAYABQACAPX//v8AAAgABgD//wAAAAD//wAABQD9/wAA/P/1/+v/5P/2//j/9P/+/wQABgAGAA4ADgD+//7/AAD6//b/6//p//b/+v/z//T/8f/2//r/+v8AAAAAAAABAAcAAAADAAkAAAAAAPj/+f8AAAAABAD6//T/7f/0/wAA+v/w/+//9P/v//H/9v/5//j/8f/y/wAAAAABAPX//P8MAPv/AwAFAAYABQATABgACgAMAAIA///8//n/9f/4/wIABQABAA8AEgAJAAwACwAOAAwABQAIAPv/BQAFAP//EAABAAwA+//2/woABwAMAAMAAAAGAAwACwAMAAUA//8CAAUACwAJAPb//v////v/AwD7//r//v////j/BgAEAAAADAD7//j/+//6//j/9v8CAAIA/f8MAA0ACAAMAAIAAwALAP//9v/+//j/+//6//z/9v/3//r/AAAMAAgAFgALAAkADAASABcACwAOABUAFQALAA4AEAALAA8ADAARABkADQAVAB4AHgAXAAsADgAOAAEA+v8AAAkADQAMAAoAAAAAAAoACwAEAAAABgAGAAYABgACAPz///8NAAYABgAAAAIAAAD5//n/8P/4//b/AAAAAPT/+f///wAA9v/r//D/8//m/9r/4v/p/+f/7v/v/+3/4//m/+X/4v/1/+7/6P/m/+b/9P/v/+//6f/p/+z/8f/n/+f/8//n/+7/7v/u/+r/6//w/+3/9f/3/+v/7v/6//v//f/6/wEACAAPAAUAAQAGAAAABAAHAAUAEAAPAAsAEgAIAA8AEwARAA4ACwAMAA0AGQAPABEADQAKABwAEQAZABkAFgAZAAYACgAGAA8ADAAGABsAFwAaAB4AGgAeAAkABwAIAAEAAgD5/wAA+f///wIA//8AAP//AQAEAAwAAAD9/wAA+f/x/+7/6f/t//L/6v/n/+z/7//r//P/9P/2/wUA+v/0//H/6P/t//L//P/+//L/9//6//v/+f/v/wsAEQAHAA4ABwAIAAoABQAGAAUABgAEAP//AAAAAAEAAAD6//3/AQAAAAIACAAIABEADQAFAAEA+f/4////6//d/+v/4//r/+r/4v/i/+b/7//y//b/7//n/+L/6f/o//D/9f/1//j/9f/6//z/AQAAAAYAAAAPABgAAwASABIACgANAAAA+f/7//z//v/0/wAAAQD+/wUABAAFAAAAAAABAAcAAQACAAUAAAAEAAYAAQD//wQAAAD5/wYACwANABgAFAARABIAEgALAAIA/v/5////CAANAAYAAQD5//T/+//5/wUADAALABEAEQANABEAEQANABEADAABAAQACQANAB0AEwATAAQA/P8DAAsABAAAAAQA+v8EAPz/+v/0//L/+P/p//n/BgDv//T/5f/X/+L/3v/p/+f/8v/w//L/AgD5/+v/4f/e/+7/7//e/+//9P/4/wAAAwARAAYA9v/t//b/+//6/wAAAAAAAPr/BwAIAAEA+v8IABAADQAcAB8AHQAYABIACwAMAAwAEQALAA8ACgAFAAcADAAEAPT/BwABAPv/AQD8//v/AAAAAAAAAAACAAsACwASACAADwAHAA4ADQAeAA8ABgALAAEADgAPAAEACAAMABAAEgATAAoABwALAAAACQAJAAUABQAJAAwABAD//wEA+/8AAAAA9P/4//z/+f/+/wMAAQAGAAcADAAGAAgA+v/z//T//P////b//v/z//n/+P/y/+7/+f8CAAYABQAKAAAA//8MAAQACQD5//T/8P/2/wAA9f/8/wAA/f/1//j/AAD5/wcACQABAP//8//3//P/6v/o//H/+//+/wEADAAMAAoADAAKAAAA8//5//n/9////wAA+f/z//L/7f/k/9z/4f/o/+v/8v/0////AAAFAPv/7//1//T//P/6//r/+v/2//L/+f/0/wEABwAAAAEAAAAMAAEAAQD1/+7/7//1/wAA/P8EAAEAAAAAAAQABwAFAAAAAQAEAAEABwAEAAkAEgARAAwADQAWABYAFAAZABgAGAAZABYAGgAfAB4AHQAeAB4AHwAVAAwADgAXABkAFAAQABUAFgARABgAGAATAAQAAwAEAAAABgAFAA8ABwAFAAwABQANAAEA+v8AAPn/+/8AAAEA+//p/+7/8v/h/9z/2v/X/+L/4v/n/+T/6P/2//b/AgAEAAYAAgAGAAMA+v/5//X//P/t/+P/8//+/wAA//8AAP7/+/8EAAUABgADAAUAEgAOAAsAEwAcABcACQAFAA0AEwAJAAsAHQAWABIADwARACAAFAASAAMABgAcAA4ADAAIAAAABQAMACkAOAAOAPb/7v8LAD0ANQAjAPr/+v8VAB4AOgD//+P/6P/+/ygAEAAJAOj/7v8AABQALwASAO//3//q/wwAGAAdAP//zv/l//f/HAAZAPr/0//b/wYAHAApAPT/4v/c/+7/DAASAAkA4v/W/+X/DgAaAAIA6v/b/+v/BgAkAB0A///n/+z/CwAoACEA8//V/9T/8P8NABYA9//c/+b/8P8KAB4A/P/k/+f/9/8SAB8ABgDh/9T/6f8FAAAA/v/v/+L/6f8FAA8ADAD//+v/+v8GABgAEgABAPb/8/8AABgAIQAOAPn/9v/8/wgAEQAFAPr//P/5/wAABAD4//L/6//l/+X/9P/k/9z/2//f/+n/9f/9/+n/6P/j/+7/7//u/+f/3//w/+3/5//t/+7/7v/s/+j/8P/2//P/9f/5////BQD+//v/AgAFAAAA//8AAAAABwAYACEAJgAdABEACQANABcADAD7//j/AAAEAA8AEAALAAgAAAAMABUAGQAQAPf/9//3//z/AAABAPT/5//x//n/AAD6//D/6P/s//X//v/6//P/7v/0/wMADgARAAMAAAD4/wAADAAMAAEA7//u//X/BQAQAAoAAQD6//v//P8IAAYA+v8AAAAACwASAAoA/v/+/wAABwAIAAYAAQD6//7/DQALAPf/8v/n/+z/7f/v/+n/7f/7////DwALAAAA8//6/wQABwAQAAEACAALAAYAFwASAAwAAADv//z/GgAlACQAJAAaABEAEAARAA0ABwAGAAQAAAASABAA8//9////9v8LAAwAFAAVABYAFQASABMA9//2/+7/7P////z/+v/1//P/6P/v//D/6//1//f//f/6/wAABAALAAUA9f/t/+T/7v8AAAYAAQAAAAAAAAAAAAAA+f/t/+f/9f8NABcADwAHAPr/+f8AAAQADwD///T/9/8KABkAFgACAOH/4//9/xQAKQAeAAQA+v8AABMAHgALAOr/2P/Z//r/GgAXAP3/7f/v//z/JQBGAA4A4f/1//v/LQA9AAUA2//R//z/FwA+AAsA2P/n/+v/HQAvACoA4v/J/+n/AAApACAA7v/M/9P/+v8hACcABQDN/9j/8/8lACQA+v/d/8T/6/8AABEAAADc/9X/5f8TACoAHwAAAOX/9v8OACMAGgDx/9//3f/0/xMAGAAAAOT/5f/4/xgAGQAHAOn/1f/1/wsAEwAFAOn/6v/m//r/EgD3/+//6f/6/xEAFAATAP//+//9/wsAEQALAAIA4f/i//L///8NAAEAAQD5////CgANAA0A/v8AAP//BgAKAAEA+//p/+v/9P/z//n/+f/x/+3/8//2//H/7v/t/+X/4v/o/+n/8f/v/9z/4v/4/+j/6v/1/+r/6P/p//L///8FAP3/9f/2//z/+P/1/+z/6P/p//P/BQD9/wUADQD//wAADgAMAA8AEQABAAAAEgAeABcADQAMAAsAEQAbAA4ADQAWAA8ABAASABUAEQAVAAkAEQANAAwAAAD7/wkAAgAOAAcAAgAHAAcADQALABEAEAAHAAUACwAKAAUABwAGAAUAAAD2//v/BQAUABYADgAKABUAEwAKAAoABQALAAUAEwAUAA0ADgD8//v/9//w/+n/8v8AAPX/8P///w8ADQADAPz//f8JAA0ACAAEAAYA+//0//j/AgADAAAAAAACAA0ABwAKAAgA9//1//r/AQAGAAUADQD9/wEACwD7//r/+P/6//b/CAAKAA8AEgANAA4A+f/5/wcACwADAP//BQAWABkAFgAAAP3//v///woAEgAXAAcABgAAAAcABQD///T/7//4/+//9P/6/+3/4v/t//v////q//X/9v/+/w0ACAD4/+b/7P/o//L/9P/1//f//v8AAAQABwD7//T//f/8//v/AgDz//T/9P8AAAsABAARAAcABAADAAYADAD7/wAA/f/8/////f8EAAYAAwAAAP7/BAAAAP//BgAHABMACgAEAAkAGAAZAAYAAAD7//z/CAAAAAkAEwALAA0ADAAWABgAGAAOAA0AEgASABAACAAAAAgACwAEAAAAAQAKAAMAEQAMAAAA/P/5//X/+P/5//P//f8AAAAACAAFAPr/+//z/+3/7//x/wMAAAD1//7/9f/1//n//v////n/8f/w//D/5f/b/9b/5P/b/9z/6//v//L/9f/x/+7/9P/t/+T/4v/m/+z/7//v//T/6f/v//L/8v/9/+7/8f/1//f/+v/5//v/+f/7//f/8P/u//L//v8KAAoAAgADAAkAGAAfAB4AHgAgACgAJwAhABwAFQAfACMAEQALAA8AFQASAAsAEQALAAwABwAHAA0ABQAKAPz/7//p//L/AQD0//r/AADw//n//f/z/+7/7//0//z/AQD0/+3/5//q/+//8//5//T/+P/6//P/6v/h/+f/7//t//L/+P8FAAEABAAAAP3/BwAEAAwADAAMAA8AGgAKAAkABQD6/woAFAAVAAsACwAMAA0ABgD3//3/BQAGAAUAAwANAAAABQARAP//+/8EAAsABgAFAAUAAgD6/wAA+v/u//X//v8FAAYABQAIABIAFAAZABgAHAAbAAYACgARAAEACgAQABYAJgARAA4AEQAGAAQA/P/+//v/+//7//3/BgAFAAoADgALAAwABAAHAAsAAwASABEADAAIAAYADQAJAA8AEQALABEACwD8//X/+P8DAAAAAAD///v/+f/2//T/9f/z//3/AgABAAEA/P////H/9v/4//7//v8BAAUAAQAFAAsAEwD9//z/AgAAAPf/+f/9/wkAAAD5/xAAEQANABEAGAAbACUAJAAjABQAAQAAAP7//P/5//v/9f//////8//2//7/BQD0//f/+P/3/wAA+//v//H/+f/9//7/9f/4/+7/9v/m/+n/6P/n//X/7//y/+H/9P/7/wMA+v/t/+//9P8AAPb/9f/2/wAACwALABAADwAMABAA/P8FAA8ABQAGAAUABAD+//T/AAANAAUABAAAAAUAAAAAAPX/+//7//f/BwAAAAcABAAOAAQA/v8KAAAA+P/1/wAA+v/1/wEA+P/7/wAA+f8FAAUAEAAQABAACgD7/wMA9f8AAAYABQAFAP7/AQD6/wYABwD0/+v/5f/p/wAABQD7//X/5f///woABQD7/+3/+f8GABEA+v/0//b//f8AAPb/6v/l//H/8//4/+f/6v/5/wcABgD5//v/+/8MAA0A/f8BABwAEQD+/woACwANAAUAAAANAAYADgAEAP//BQALAAsAFAAiAAcAHQAHAO7/AAANAPr/4v8AAPr/8P///xgAAQD3/xEABAAAAP3/+v8AAPf/9f8DAAYA8/8CACcACADp//H/FwAQAPX/GAAPAPX/AAAAANH/3f8uAAYA6f/8//X/DwArAP//6v8VANj/1v83AE0A3P+a////PADy/8j/9f/1/+n/1//b/+7/AAD7//X/7f8DABgAGAD7/8n/FwD7/7X/+P8xAOP/4P8lAO7/BgAwABMA3v8LAB0A9v/o/9X//P/6/ycABQDp/xsAKgD5/83/+P8NABcAxf/c/wAAEwASAAYA/f/d/y4A8P+6/x4AFQCq//T/XgAoAA0A/P/i/1sAEgCe/8H//P90AEYAwv+Q/8b/RABpAP7/vP/h/xwAfP/J/4EAswAEAc//1v0N/wsCAAIFAjv98PZG/3ALBAQ5+fH7+f2PBEoGe/5P+0r9iQCqAsQEWP3Q+7MCnALt/RH/KwEH/3ICgQEQ/Mv9wQPYAYsAXv21/McBIwNpAbb9Iv/K/1YBmQCdAKX/uf5qACEADADjANT/dv/WARf+m//XAEAByv93/mv/d/+cAsP/tv8a/6EA+//0/60BPf4jAF4AXQAy/0wBAQA4/rAATwCI/wn/ZABJ//oBCwDz/moAzABeAJ7+UwFd/rb+6gLb/yH9AAJLANsAxwSV/rz0efq2EaUHJ/Cx8OYAeBTcBpj20fXS/P0J1gY0BTP15+5y/goU/wuj72j6Jf7WCk0IVPWy9GoCEgpVAVD+j/UEA1oH+Abb+qXzRwSPBKAG5ADs+bP6IAexBdb/8vvx9vIGXgTf91cDP/2K/PILKPoy/gEDbf5kAlcAYPyP/FYEaP+jAqH+aP6p/+wC9Aaf+3T6fAQp/xb3RQLeAjkCF/7P/RkCsQTM/ez+IQJd/vn/2vyZBYH/R//Q/xQA6f5DAOEDmfzwAbj8DwAqAnMAVf84/b7+uAEfA2//qv1X/BMEtgFNACj9JwCPBIH8MgGd/sj9mgImAPn+ev3iAEoCOgC0AL/8cwHKAjL9/AFu/6f8XgPWAhf9AQCAAmb/CACr/3r+UgJpARn8MQDSAd79Sf+WAcf+ff/RAkEBs/1F+oYBPgck/zf5fvuaAZIIZQDo/QkAgPpEAT0HDP7b+OkB/QFOAd37kgFcAGYBfwOn+NICfQAJA6D/e/97/uX//QaG+hH++gLg/34A4QBm/ekAwwG4//D9eP9+/fQBhQM3+2b+QAADAssAtwHf+5z/mQHXAIgCav4uAVP+HQG1/sYAsgCN+40BCQMqAN38bv8aApoDbP2z+/sFAgHI/I4BLQD9//0Cpf9P/BcAuQW8/fT9EwML+XwDfwHF+/3/8P8XAh79wv/H/YIBvAO3/oL+OP4nAy0C9f0bAR7/TfwSAswEJP7g+x8BrP4VAWIBkf8D/RQBZATQ+KAF6QJC+bkDvQD+ADH+cgFHAFL9JgZk+9L8aATV/0n8Wf0tBkj75/sBA+n/OgN7/Xn+6Py9BNYEY/njA1v+QfxaCdb/ifn3/lACuAbf+3n6OwFTA0QD5/vK+6gAtwZIAAD6/QDNAooAbQGe/rUCc/x5AIoFm/lPAz783v6FB/X9lvkp/9oE6ACO/jH8kfzFAVAHFP5M/Wn9OAM5BUb9vvv8/tkIPf+6/HT+Uf+kArMD9/zu+xEA7wEPA8f97v+o/cgFGP5h/SEFyPyt/dwEMQS+9m8Bvwbi/A77fQAuBIEBUv1u/Dv/8AOYAJL73wHP/L3/MAKBBbn6H/pZCi//Ff9O/bsAvADkAWMDvPncAdf/1QC4Ayf6E/9YA1oEav5U95wEMQInAswANfpk/5IBqQjy+A39VAYH/KwEwvs8/EsGWwDp/t/62P+1AYYCRwG198cC/QD9AMgBr/yBANr97wOGAL/9Vf/vATkBN/9QAO/8OwKpARD+eQEy/l7/VAGoABEDo/lGAjwD4PtEAFsCBQLj+64A0/+ZAIAA1f2RABsD8Pot/l0HEvw9+8UCVAMW+2IBRAGb+rQE1gLx+n39dQLqBGP8k/xDA8b/GgSC/Ir88wK+BNf9q/oVBcf+8AFXACD9tgCfAWkDk/5Y/EH/4ANjBMb9afkaAYMF4gHQ/an+lP41/tQE2QPx+mv+EgFlAOgAggECA6z3/AFoBEn8owBf/xEE8PrM/oYExPw7Ac7/EgCL/uH+LQPM/ogBffwMAGwFGvuP/4AAFQE0AaD90f4P/hsCHQJ7/P77kQELBU38bP3LAPL+mQJY/nz/tfzoAC0EQ/6bAA/+mvyTApAH//ug+gcDqgFoAcH/4AA/Abz+DADYAKQEzAAR/mYDlv8xASEB1wNBAVX+XQKH/pACrAH7AWgA3/w9AXL/QgCQAh3/tf3K/rD/U/+0ACQAQvve/kT/v/+I/377/v7NAD//Avpu/TEDUv7e/aL+1vv5/qAByv+r/cH9v/3y/pQCr/8G/mf9Pv1nA+QARv1U//r+hADl/rIAeAFt/dD9GAKdA0D9wf0WAn8EDQTs++D9yQUzBtsCwv9sArIDLQjqA60CxwdzBBYGegX9CBUF8wUFCbcG1QcSA5AGOAgmBvgEUALzAwsE0gFeAEn+hwAC/b79E/v39kT7i/YR+bH2HvWZ8j7xqfcg9BPzaPK68mrzovSc9nbz4fTC9+/2b/nt+ML5wvov+0T+mP17/rb+tv4B/30DvQPa/VUBbANFA+IDagDxAWQETgUBAu8AtQQyAmADnwbRBbUAlgSzB6EErwf1CdEH5QU3CygMoQ07DpsLew3NE60UWA/yD38TIxNaFXwYNQ6xDdESkROaEHgIpQQdCkYPtwTt+TL3qv8U/TD0xPJQ79Triehq6qTrk+km4ELgCekH6BngKeCn6wDuHOWW5PvvE/G2773zvfbf+TT5Vfk5ACQEWwI0BIwHSgr3BkAG3gz5Dg4MRgvgDBUNxwzeB1oGZw95EBYFIABJAkMJmwfM/vn/Vv4q+6T7rPy5+0v54fOf9bX7b/bC8VnyR/jx+uX00vKC+BD6mfkC+nL8aAA2/Vf+vQQoBhICigW6C6kLjQvxChwPaxLIES8ThxQ0FgoY0BcuGbIbWhkMF4UaqB2JHhYdGRZhEBgQJhPvFOARMBDyBiv5M/Zg+9cDDPue6yfmAOU85Ezf3eLT42/cvtNe0w3bTNpR2W7e3eJw3yTab94r64HwC++68Zz3Bvka9zj7VATkC5YKbguSDp8M7QtaEEkX3hr5F+ESdBGxESsUQxWzFdsV4BEeCVoDqAiFDgoLVATY/QL7lftn9L/4F/wf80DwSOzt71DusOmh7G3yk/Af5wXu8/Gw8v7xZvRH/Tr6+vcs/B4C1gRxBqQHyA3LDuEJ2Q/1FJwX0xivGekclxs+GRcfviRhIfkeByA1IhwkGB9MHt4gtRi8DW8M7hbMHi0RPffr7Zv56QLv9kHrXuko4rfV+NUj43jhddOKyOjREduB0knPAdlA5FffPtYC3XjtcPA47L3z+v5N/4v4JP44DOYPzwysD+IVqBYyERESbxmVHr4cAhjTFtwVVxRmEXUUVRkHFTULhgJtAq0G8AZjAwv+Uveg88Hwm+1D8RPxYexL55Lk/ub64xfiVOj47vrqIuUC5r3rDPIE9Pr54PtQ+Cn5Cf9vB28LTAy7D/ISBRPuE4oW/huRIqQj1yIpJOwkrCM4JdgqdiubJ98o2i31KgghZxUeEEwXSiK+JQkVvfgR65b0QgPeAdry+OI811fQHNLL3qviGtXMxBLE4M48z9vOrtau4OHc/dEV1+DlcOwU7IP2nwKmADz2i/idBzYSQBWSFrQXlxOHDvkQqhsxJAck4hyJFW4SbhGjETkXmR1pGXgNyAJA/5EBEQVEBWABqPr+8zvvT+on60zxnO8/577kI+f54jnd0eMO75fxcOhi5LzoO+vt8MX5ugNtAKP3G/jq/+8J+w8+FkYXZhQHD74QDBxAJO8mAibbJjUkth4GIE4rXDOfMOAs6Sa8GnsNYw3dH/8vzSZxCILv8+yI+/ADDP4E9kjmKtH4yJPXD+m04gXQ3Mof0OvN0sws12Ll7uXx23LcbeYL66vp2vJcBjIQewT3+LX/bwupEVEYJCI8IPsQNgdgELYeySJ6H3gZUBQKDXcIYguyErAWeQ7yATT8UPpJ9r71evkd+/717O1n5czaX9sH6Hv0le9A4LHWD9TN3cvq5PjH9hXn9t4+5Jv0A/9JBokFfgIg/rz/SQqwFFwe5xwUGwYZuhlQHUclDS0PLsgsZidTKAwpMywHNQs26CsWGkENAQ8CH4Qt9yM1Bmftk++N/BX+Xvr+7/Td2MvWy6Hd8eaP2qzJhscez8HUQ9Y03RTiF9ws2CTkP/Ww9bfrW/D2BBcOJAiUBigLEgxvDBoYfyXiIIwQRgp6EtkcXh8+G1QW1A5gB5gGlA2gEj4MuP7T9jX6uPoa9dfwCPL98TfsDuiz5vPjNt8Y4FrmYexU54rcyNpo47rt7/AL8eXv6+0q7Gz0lgKQCB8HkgRkB68MwhHVGJgfth8dHQoe+SLrKJ8txC92LaYr5ytcMN01Szb0MEkjVhNLC+oWuCwuLbwSpfRB66D1SP0e/Zz5eelWz+TBWNJO6Ejk4dC1x3DME86R0SLfSerW4kjTpdkp70P42fHb8Dj9AAg4B6oHag5HDioIHwx7HrAobh1YDDQJURC5F3AeiB8uGM0HtPs3ATAOIhOCCoj8FfVo8szwZPS3+rz49+tt5Groo+uX5QzgEed46gbl1eIN51zo+eE45HTvOPe186fvMvIn9Z35JgEsDBoRbg2ICX4NKxdUIF0kkyZGKNMk+CIfKJQ0iznmNe0zfjMRMdMkSxakEBMZxyfvJy4UBfyU75LvQvIT+Bb+y/Fx1HG/Q8j23R7kGd091VjOksUiyF3fBvbc8d7dbdof63P3XfjP/WsIygfm/toDqBTpGUQOXAl+FVwerhnHEowRDRBNCxENHhaYGX8OGf6s+2AFUAxRB1r+ifgM8rruSPS+/tQAC/Vx6Jrobe5M8iPyGvF77sboLOmh77H1PfO47BrrXvBq9nH4IPrI+uz4b/j3/n4I1A2kCpsHrAvaElUY9Rk2G5wcHh4GH1UkyyotLAkrDCstLd0jYguj/r4Q/yg3KM0Omfli8rHqZ+nY+BcJG/qj1TzFsNQN5vjkRORh5mfc1Mua0V/xGAWY9+HlAOpS9kT8/wCiDbUR5QQI+98DBxSIGKMSkQvbCRMI2gi0DVUQkAwkAb/3I/c6AboLvwrhANv4v/ZP9zb41/la/BH7OPn7+ngAhwEB+0j2NPfB+xb9sf1k/7L9mPhu89D1YvyY/XH59PSh9JH2HfgW+6r9JPzq+Av6aAB3BWAGKAZyB7YJ9wkSDdASbBZ8FecRlhTfGSge9CAZIVkdNhAO/3/7SgvpG6kbIw7hAZT2DuoU5UXwRgDvAPH0zekv6PLmmeUj6rLvle/G6bDs7PkUBK4AFvd58lX1NfzNA2YNaBHSCbj8N/ca/fcGOQvzCBUEJf8S/W/7MPvf+lr7Vv+4AyUGOwQH/bP0tfRFAPgO6hLECnEB8vu8+lQCGBBQF3MQ5P6J9tb8rQP7BN7+6vds827xnvbJ/20Bpvc06cDiAuxN+G79Y/1B+mfyEOxD78D7FwU1ApoAmQHKAsgD8QNXBtcGwQfACt8Olg80DC4KowmMCyMPkRMnFuMRtg5ODGMFeAU8ChwOfw4gCNABwQDoAK//FARzB+kAnPWv8Vn4hv94Atj/u/jl8tPv6fM4/1AFqAAu9inwQPHV+ogDqADW+2T2XfIS9RD9hgXTA9P4A/Qx+D3/ZQXXB3kGFAGA/GP+BwafCjcKjwb2ATkBFwQfCJcIOgYmA7AAUPwz/OAAWAFl/jf5uvi++PL3LvhI+A74B/QK9Er4Svp798fyAfRq9Tvzyvdk+nr5gvmO+fn6LfkF+5P5nfofATj/4/22/YX9+f++AmsDgQFZBBgF1wGHBdkHSwUFBx4KYQWBBlUNVglpCcwJvQiXDR4RRRJHDOsJ6QUsCJAUHhRQEo4PgQmCBC4E6we3B04KGgrVBbcEowCS/pz8SfzP/uL7i/4k/gP80foU9pn5B/qp+D37bf1J/iv8Z/q++Wn6ePwl/0j/9vu5+lL56fdt+xv+pgDC/YD6gPpB9v32ffyj//L75vbH+On8Bftl++f9F/3g91r1ZfwfAKP9GPue/Ff8bf2G+k/52v1L/gr9GPpN+0j9qPzH+aX5I////RL3a/yu+kX3o/pU/QgDTv0P++D4o/tKAXoAfwLP//798AHkAtkCPgc7CfEFkwLsCB0LTQzRDF4Kcw1BCpoJSw05DbcNOAstB2wMvhD/DncIxQeOCSYK3AkXB/gJVQWHAugE3wfJA70AjgQWBeoBeP1tALMDZAHF/HD8nPxv/Iv7q/6g/Zn9Pv0v+er3IvWk+Gv7EQHr/tX8Hfux+EX1X/TR+Uf6LgOUAyr+rfeX9Jr3lPzb/ZP5xvwG/3f9Ovsn+tP1SfTo+wn9vPgh+7H3H/Z69kfyc/bp+oj4ZvUa+RD5+vNP91L6lPc7+Zb2MvrYArIB9P2d/7MAYvez/iUDEwveEucIdgdbAfoJIQiCChAU2QiRCwAG2xAuEHcKvRDsAa8NfQpYBk8NGQqdC6sCTQWiBRIH6QcWBLsBIPvuBlcJ7ATjBMH6o/zy+6MAhAmjAxX+HfXn/AwCqPl5/V/8l/pi+E78qQVD/Vn3ZvlO+GP5l/19/g0BRAOn+Sv8aADu+/n6vf6XBVL+rwG1Ax78zwEp/eb5Tvy7+4378f28A8v5RfaD943z8/qw/YL8GPjS+dz2PPIx/bH8sf2f+zb3FfqN9+sAcv+2ARsC//ZYAQv+wABfAIf/QAba/iAEJwQmBcgEnQBKAFsDPQ0eD2cHzQSiALADpQ0kBi8O3Qse/94DtwcpChUIxwVu/g0F7gozA8EGgwS+/HT8sQIvB9IFjgHw+Nf7/QSfAe362QIMB2b97/oXAzz+wPYF/rH8eAlvBl/3tPgz/KH+hPgxADoAiQMkBfP6l/4OAv/25Pia/KL9JgJT/sIFQv16+0jufPU5CokAn/0t8Dn8Qf0E+Jz9xPUo/Af56/WZ/jr8U/409zX5fAOO+bL+YvqD/roC9/2MAvf6nABD/zH24wDwBv0FCQXD/vcAhACwAZsCQQFZDT4Aufy3C2oKvgoz/JAG4wnM/bUGj/6iDVQMpv2gBHMFWwVo+vX/dANF/l0CC/+UApEF+v1C/EL89gPn/5v3XP0BBY4KBPmzARkBCv5iAwX13AF3BOsGpAMUAlQBlPm6/nr8+gAjDVsFCf/3AiIAjgP0+z39uwQqBR8AtgPiBv77+fYY+fAHZgpk++bsHf2bCcwADfxmAH/33e/u+if5RgVo+STuDf8aAyP4dfIm/Yz8+PdY9r8CEP/Y9nX3Vvfp/fn/Ov9f+0QCAfzy//8ARgIHAwP9fggFAmUFwAQwAGABJwj4DPL8CQL6CVgFTA/UCIoHaAVbBJMNf/n5BbP+q/tzDuwGJwbs99X9hv4xAQkErfVg/HMCYQUnBTH+4PqP8x/5GgBJ/IQAEvaGAgYEYgHhCWv5qvz5+c4A0wnbCUEEKPzFAvT+Rv+7C9YAQP0gBcsBPw5dAY35IAITA0kAQQJPARz9NgFu+OYDG/0j9tr+DPqt/Yj64v0EAxP/nftG9F/xcPTW+rIFQwO/+DrwNfLG/3YBQ/+5Adr1efIa/j8BhAE1AZb97/xZBav+mvy+Amv9mv7m/s4CbwauCb4DsvrcBMkERwM+BZAFx/+UAA8K4gXtCp/7YvugB7IFkguXANf/pv5v+WMAqgPIBU8M2P7r+Dn58Pz5Bcz8c/22+D8DHgJQA+AL5fq09y/5QwVaBnf/hgTr/rgA+gAp/boMIwab+nX8kv7GAIcFAAooAyYDpQO/BosHPwC88bX0wf8PCCAKpAfhAR7xz/+iAcf/KgMl98/5Gvv9AM8H3wFX+3fw5O81+Mz8MAJvAAUAYvdQ983/nADt+6D7d/bC/REGBPunBIT8GPqi+kf5uQPwBdwDBvxqAFIDBAHzAuP9BfYaAUUGxwsPB0T9Of5w/KAAvP+3B5oCDAGKCTUG0QMq/xn58fy4AyD/NgIKBR0GKwKbABoDqv6pAIv9VPq5BOsC+AKTCQT+WQBz9iL7xQXrBU0MDvS39mr/lAXrBkD6nwHpAGQDJQGp9mUCegD8/dYDAgZBAkf2JAFUA2gEY/2b+8cF3wN2/W35vAIbCMwAr/en/eb+dAKLANYBCPuz/L78LfvsBhr8TfyI+CMDzAP6+lL6LP5n/4b7tABU+174Cf4VBLD6SAEE/rj3bQBf/jYBf/55+7cGZAMu/ov4jfUVCdn+BQDKA1MEoAW7/BgLiAJW+w3+Bf/CBiMFugScAWkAOAOcADkBSQA4AZ/8Wv9dBiEM9Agg+tn6EPk0BFkCDQEwAuP9u/6c/foGMQK4/oH8L//9/o8CGfzZ+cgEuQSB/h/85gJWA50EGvXW/50AQADPBkgBSgvZ97P4IgPcBTL/QvflAtMF/wIlAND6rvpmBc0DOQESAnP7yP5o/4P4XfnZ+FgBxgIDA7YB8/Wp/I4AxftG/k3+bPhM/G0AxQBj/W4Dlvvk+hYDe/g/Abb+IwQrBtsCTANO/Uv9RgEaCUwBQgIWAzb+kgKQBoAB0AQFBe8AMwGQ//z8lP/BB8z/9QHvA4gAEQGeA737/PehAHD+uf1I/WH8/gB1ALT9kQHL/C3+BfrTAaEBjPVPAu4Dtv1v/K3+DQEiAk3+yAMfBOoBGvlUBOYJmvtcBy3+OAPxBVkH6QLe+q8AQfl0BfsF0ANSASwAoAc/AnP/dvo98sz7R/3d/GIJ9wAQ/jz7X/fN80b0dP9U/UkFtwJm+hf7j/bU9yr3VQDx/6z5PQOsAXn8DwNjA+0Dnv+v+P4GeAOtBMYEP/9hBkb+XwH1AVYDBQciBfkKCgrbBU8DfwDXAB4Bvvrq+xEG2wDa/H8E1QPhCLYEqfIg+a/+mvcF+sb/oQKd/2D+OvvL/ln/tPeE+jH6gPyA/p8B4QabAWD+Sf6KABIJDQMB+gMBBQRd/Kn+sQf2B5ELxQKJA9QGu/zB/W0A3giZAg/+HgJZAi0B9/1nAU7/c/3m/p//FP43BkD/mPPG+d349Pvt+ID8nwBeA5YBi/Vo/bn8wvcY+5z8yAD7AMsCWwED/QoC6/wm/jD/WP4cBd8BiQkqBlYDKwIS/34DKwG9Bc8CAwQOC98DqwBs/10CaQbV/wMCEQKQAcb/k/1c/8//YABs/QgARAKRAAn6Z/5n+6/3B/0d+kIB0gJJ/mb6dP4zATD67/sQ/KX8r/9Q/7r/TgJKBOgAdv/a/AL6jfxhAqYCdgE/AhMAZwNRAnMAf//F/Wr7jQA7A00B/v86/FsDdADy/dn6zPxD/+r6zv6V/Rf+Mft1+sH8Nv23/s/+CP+/AFT/o/7P++75wvrT9rQBogW0BKoFO/8oA5sDlAGmAuACEAU5AzMEFQZbAW8CaAEKAHUHpgj8BR8FNQbABfcBKQOUAvwCWQLu/Y4C4wPw/qj7Zf2OAs4HkAWi/yICV/+Y+wr81/34/pH+4P5m/e3+dgBuARACAAOlAksB6vyn/AkBegK5A7MB3gM5BPAC3v7H/sMBlAAyADgAowTwBUYGqAH2AZb/a/wC/on62v0A/0n+uvx8/ir+tfz3/aP8DPzD/qsCb/8S/MP6Rf36+2z6Qvnp+X3/9/wF+yP/FQAA/qH/Q/4KA+sBI/5f/qD6Vf5z+036r/zZAKsFrQMlBHMFogLq/lX9jv7jAP3+Tv7+AKQCHwES/wf+vv9uAEj9GPzl/WoB5v9J/RcAUP63+Uv6Nvrq/vj/Cf02/qT/egLU/7IBMQFBAJMCvf+e/+v+s/7d/mv+bAA0BX4DXAJhBsIEsgWpA/j+SwFMAOr+Dv4O/jQBvAKuA5sEJwhBCmIF+v0eAHQDQgCn/AD8PwDP/zb7rvzuAd0DWAKaAVwFDAaEAMH5Pvjl+Mv2Ivat9zf+ZQEZAUUCVwWFCE4EbwDnACcB1f37+VL7tvzy/ukBpAIIByQJWwZIBe4DTgP4AYX8x/kT/MX7d/sR/BP+mwKHAwsD1wIoAk7/VP0i/YD93vzR+Rr5APsU/sb/mf/qAK4DBAWMBCICgQFNAVz/fPyT+x38pfui/+MBCgVBCDgFowWDBDQC+QGM/6AAlP8u/0n/q/6GAUwCzwS/BgoI+AbKBCIDNQGA/5P8yPtA+zj7KPxY/lEAkgJgBPEE+QI2ACj/b/3k+tH3z/aU9u33uPjA+sv/PQOpA/kEsQY+AwcAm/xO+tf3VfS+9Pf4/wD4A/EESgjPCW0ItQPLAKj/Rf3F+bv3K/lZ+zL7nPxvAW4F5QayBi0GYgVfAfj7tPpr+cT3p/e/+Xv9cf8aApYEpQb6B8gFCAOFAXf+Vvou+fT6lP0//jD/EgPFBI0GKAVCBCQFzQCu/qP8kfxj/hf/5v/mAiQFuQUXBn0EbAWtAp8AZfxt+DL6bPzq/+MBeQVcC2YMNAgOBxMCcf/x903zd/jg9sH7sv0yAz0KhgfHBxYFFQL9/wH53/jO+Tb4VPjh99b+0gJBBHYG3wUUB+MGUQEv//n9VPkQ+Ln1JPqY/Sz/dgNyBYIJZAYbA0MBsf3l+7n3ZvZ++QH6SPvT//cBkgUqBHkBCQK4/8r9Hfop+Uj62Pr0/MP+7QHqBNIDZgQsBb4DTgFH/fL8uvwe/XD9Zv5FAbACBARsBcoF0QT8AtD/if+R/hH/JABdAJgBSgIvBPACVQM2A5IBYAAW/4b9ZP36/mkA8QGMAgUD+AHmAsUA6v+p/0D9XfxD+y78e/za/qgAFQLTAhgCLwIBAkAA1P3Z+2n6NPt7+zf9RADTAikEOwXWAyEBjADr/tn9Xv1v/eT91v2C/p0AmwKQA8kCRgKHARcA2v3e+nr6KvvW/C/+nwC5AQACPwLBAT0BBv+E/f77TPz/+0f8q/1K/5sBVgILAycDBQMUAlgAsf9v/gr91v3z/sQAAQJxAqIDYwRwBO0DEwNCAjwBYQC2/0n+JP7j/uL/kQEsA6wD0QPfAq0BNQHj/6D/X//M/iz/Av+S/gr/9f4X/+f++P/l//X+lP/e/rL/sP7z/hf/dv6l/k3+8f6l/7IA3//8APcAuwCKAFUAJwBK/1n/Cv+u/0f/KgDaAJsBpwEDAekAbwGuAbIAUABEAKL+WP1L/nb+Lv9j/oX/4v9r/7z/PP/M/3z/fv5p/Vr+TP5E/hv+FwBiAID/3P+o/6YAjP/T/8z/GgD2/wUAEQB2AFMB4QCOAGcAkAF3Af4B9AHSASYB8ACHAJoARwG4APUAQgBFAdoAIwCLAF8AoABSAKn/mv8I//b+dv+//2wAvP/n/9H/rP+q//L+Kv5R/rH+zf4L/w7/x/8AAFUArQC5AH4ARgDJ/4b/Vf9Z/3P/vP/aAHoBsgHbAa8BOQF0AckAMABAADQA7P8hAD8A8f+l//b/XQCyAD8BWABaAPP+jv5C/nr+RP8r/7j//P7b/2P/nP97/9D+L/8J/z7+wP0v/r3+vv/b/4wAxAAhAVUAhQDnAHoAYgD9/4EAdABjACQAYwCrAB8BvACdAZUBTAEjATgApAAvAAgAr/92AGoAtgD4/9n/9/8T/yf/Mf8PAI//v//1/nD/m/9Z/93+I/+O/wf/0f8U//n+d/4w/z7/OQDpABsBHAGfAC0BaABEADX/sv+3/y0AZQBvAEYBhQEsAkgC1wLSAesAiABSAKL/hf8k/5X/bgATAGwAHAB7AFkAQQADAJn/Nv+U/gf+Iv7n/f/9f/6v/vP/DwCaAAUAtf9W/23+IP7g/YH+tv5t/63/OgCuAGwBrwHGAd4BbwGcAK//iP+9/gr/pv96AAwBXAGmAQwCTwL7AVwBVwDV/yr/w/53/qn+xP4l/9b/hgDtAOYAzQA5AOz/V/9y/sP9H/62/tv+3/5k//b/JQCOABEBTQGAALr/qv88/zX/TP9M/4AA/wA/AUMBcgGkATEBZAFWAT4BoAAJABkAAAD3/0YAiAD3ACMBAAFxACYAWQDO/7T/u/+7/2L/2P7e/tf+I/+T/6L/3P+h/5f/jP85/3//9P7r/sD+0f5d/0r/2P8ZAFUARwDV/83/9P8WAHQAfgBRABwAQwCWANYACQF9AHMAHAAtAD0ATAChAHYAdwAhACYAJgBHAF8AjwAeALj/l/8J/xH/Cf9w/6D/qv/v//L/AADv/6v/V/9I/1D/Jv9d/87/2P/C/5n/4v9OAFoAyQCQAIsApQDh/2UADgAmAHYAJQAIAXMA3wDOAMEAQQFXALQAOAA9AFkACgB5ANv/3f/P/9D/QQAMAGAAIgDR/woAoP9s/yb/DP8V/9D+/f7z/n3/6v8AAG4A5//h/43/P/9G//b+UP8n/73/BwD6/7AAbgBsAGQAVQCYAE4AZgAvAP7/BwDi/04AfADGAPMAwQDNAJQAJwD6/8//0//K/9n/7f+f/7z/sP/u/y8Av/++/+7/u/+O/yT/Tf9z/13/sP+q/yEA4//N//T/4P8wAAwABQAgAAYAy//7/0cAtwD0ABQB9ADEAGwAEwArABcAZABxAH8AmgC4ALsAmwC5AKQANgDb/7D/p/+R/3D/h/+O/8T/qf/u////MwAxALT/hf8V/wr/6/48/1//gf+E/8v/8P8BAHMAYwCEAAIA5f+h/23/pf+7/xQAYACTALYAzQD4APwAuADAAE8AHACn/5j/5f+0/xYAKwBdAHMARwBbAEMA/P+k/0v/Tv8P/wL/GP86/6n/v//m//X/OgAyAAcAyf9w/1X/7f7K/jH/jf/4/z0AgQDeANAArwBdAJ4ApQBaACMANwBmAPf/0P8lANoACAEsASQB+wDNACwA3v/p/8n/d/85/5v/IwA2AEkAUACCABkAxP95/2r/Sf8U/yD/2v4r/+r+Mv/h/0MANQDw//P/q/+O/5f/p/9o/4f/gP/k/0EAVwAKAToBLQH6AEkA2P/H/8X/IwA1AFkAYwBTAJsAqgCiAMwAXwBhAEEA0v8cAKr/7P97/7n/9P+//zoA6v+BAA8Aaf8R/8j+A/9C/1//i/8dABoAef+h/+z/2f/n/0D/lP+c/0D/o/+DAH8BBAFKABYAigApAdUAiwDxAOgApADuACcB0wBSAMD/rP/5/9b/9P+tAJ0AQwAMAJr/nf8+/+n+Mf/h//T/6/8XABkAPQD2/9X/yv/a/3X/Y/8l/xn/9P6E/jX/Kf/P/zcAGwA4AM7/ZADWAG0ALQBJABQAov+y/9v/RQBJAN3//v8NAIgAyADsAHQBTAH8ACkABwB0AN7/zP+9/+j//P9z//v+wf7v/n3/EgDf/90AZgHvAPr/fvyn96bvveql9a0KRBAWEmETPRIDEMX2DfGn6CPm2OsE820VBhtTIvsZxg/iAufmstzO0NbX5fIsCJsbizG0IEUi/ggT6SPxidEw3HvpTgB+J5cnIy9iGZwGq+5k1JHfeN3U7twFcQs9IEQavQYuAMflFeLE6D7uhRJHG3kdFh+sEPsKBvMx5t3l+ubi9zALqByuKZcgLBLdBjLq1dzL0l3hsfK8/3QXEB27KKAe4Q6x+z7oeOpT6Ezu5gk5EaMaEhjbB+YKQf8d8mbsC/ap994HKwv6Cz8OdvvO9bvxX/Lp9FsAYfbvBlAI8QJaBwT9RAEW9CjyFe/z/u8CUvx+/9H5w/4MAp3/uQO9/7f4tPy5+ab+nvt7+Wb7v/6kAtkCMQFH/0H9efZs+hr6mf4sABL+zwMABPkFAgTd+4P7Cfs0/KsAqgDQBYICXgKKBSoDIAZk+zb5ugLE/VsAvf43+qABUPuIAXIFSAVqC0UBpQb4BPj9Nv9q+Aj7UP+KAMYLkQmRCE8JsvzQACP8YvvP/aP4c/3tA3YLCAShApwBRva2/fH+EAG0CML8QwDxAz39dv63/PD9Vfqt+5gD6wrdD4wAk/q2+tLwy/p0+TgBnwZu/k4QfQXZBjAAzfBH/gb1kvvH/4H/egZdA1UFuf+f9dD8CP27+5v+WQDkCkYEGAcQAab8kwFh9tX54QNtAN8EfwYN/qMJIwL0/BX6LfsNBC4A0P/y/hEMoQhn/vAAvPx4/xwAvgCYEqAGo/0fBBQINg3CAI4APv9VAfX5uf8hDYUE6ANuA8cFAAqyBXYHlwUV/TT1FPJRB8kLPwql+SnvAflO/nT/EviZ/+71ou///g4I6QRj/JjoIegi8nH1kvk9BY0Hmvt9A8P/8v+h/9btBukx8yb2Qf5+/w0HkQb0/Gz8T/aJ+tLt4PPC97f5VQeNAkcHxAXH+nH8fvjD9Sz3FPwVAa38aAqoCG8HwQdP/u0BogD1AUAD4QMnBdkEwgRXAMD8QP+cABcGIArRCVsTdhe8EPkUkAvaAZAE6wAoCnMPvQ/sCyUVaBzrE40XSws8AtAAr/G18M307vYd+Sz6Vf3H+20D8wFV+Yz4kvSu72j53v6a/EABhvxo/V/3ZflU9az1EAAs97L/PQMzBAwCNfpf98rxkPK09o31P/yX/QP5EgEU/1cChf1G/av+2/ccAaD+xgKWBZL/3ABL/KP7S/2T+Cn7S/pF/cMBdv/YArf6+Pox9UXyK/is9Ur4Cfet+Pn3Fv5H/5f+OAEPBacG9wLTBQICzgHC/1IAcgKXB1kO3QwPEYQTbBFEEEUQGw77DZMNDhG7FcMVyRRwErMY9iHHI1sdXhHS+6rgNNVX2bzWwuNN9HoARxSPGKQdwAfY/EDm0NK87BTuRAC6C34VvhImB4MEDeuI5ormDeDs714Btwa2CdcB/vys6Tzo9unV5M/34/trBuUQ1hb/EXEACvwd8gDrlfUD+mMEugpvDBIMhgb6CFj4j/VU+MD2ef/LAt0IWwfxB5EGfAGwBWkArPlJ+l/4Uvdj8xX1JfcP81n3N/iu/LYH7gasBiUHQQI2++73Rvsa9yL8hAKyAFEJXgulCkoKZgwQCioEiQr9DEASERj7F2MYUBmDGZwZyyAkKwsvTyu7HksBF9pqvvO8u8JcysPcEvarDlsdBiuYHlYQHvzK4Gjl3u5T/mX/TBE7E7wGOwpp+GXvYeW34z7gVegX+or6TvfT/of42vIH9rjw6fKK9HECpQKlEBsZQA+xCi0GTABS+YP98vmO+1P+mQOWAIIG3Qbk/qgBuPx6/Pb7awGIAmQEUQpmCZAISwWC/V/6aPf79s34kPqL/nv87/2Q9tHumuzq5T3r/fUY/wYLHxMgGEwUEQ4ZA2Xu3+o958bn4fTh/KYG9QzLEzMV4hQvHsscOhyfIJEdMx5ZHGAfwx5IHmomLig0LA4fa/LbwUarbKhDqTm1ZdHV6aMN6TfWT91K9SrRCPvs3u6Q8BDywP5EDpsRdxInG5wHkfBB3ZbR18mM1IziO+R88d/70Pro+WwD3ftI9YL/kQloECgdfyYTHsMcqROD/1L03O0J5Q7eYet69LT4PAeCCjUE4wG5/W30xPNU+DP5df3CDcoRsQ6/DeMCEfZ56yvm2Nzw3lHvNPqiBlwTnQ8OCpkDaPs98XLtF/Qy8xcE/g6tD+UO0QiNAIbz/vGr7IfvmP+PC60X8SQTKvInEiMbIyMgACApJtAo1zRSO7A7pi7YCubRAaB3le+cAaxmwSLpYBMkMmlBjjdtJ2UAJeVM5sD0nQYeEPkrwTJ2LK8bNf5k6wvX3ctWy4zYAeZv7IfzTPh48TPv++tO69/zqPt1CiEVGCUJKY0hyhzODuT/MvUL8BbuJe+L9b33Rfct+xD2mfB37qPrAux58Mr7wwJ4CuMN8gq4CPr/TPSi6x/s0u+G8336KAPJBNoGVgijAZb60/BB8NLxGfpGAiQFXA6dDZcMzAePAYH7rfYs/KD/ogLACNAN4xMUGsEcHyP1JogrgjC3NVU9Ij/pP9o4gB5G52qz150vnP6iyLIf1mn6SRfDKaIq9B77AcnoauiH908MlhtPNq1HZT01LAMSnfYu3ZvRwtBH1DrhQ+ms5R3mneLD2SLYXdpu5CbyGgnLGeYmFTNeLlEi7BNtB4r5LfWL+3IARQPRA1H/nPbZ7ZTh1de511PateAG7778kwVKCe4L3AkyBJT9qfaS+a79OwNVCu8OugyjBVYBkflK8hbvUe0B72n4tv8DBkwK1guiCmMFkQVdAHP/SQNNBbsKdREmG74cWR2dH2EbLx23IPokRyujLyE1fTaEN4UlY/dYy0u4cLQytEq8sNJ+7tP/SRHgEX0Iq/Oy4SLp8fL/BH4RWisZPUU0CSksFisBWewF5oHou+hw78z29PBJ5+Tb29Pqz3LQNdpy50D7TAxnGT0i0h8lFtkNqwnWBWEEzAwYFfQV7RN9DMD/u/Lj59veaNuy3fjhxuP+6sHxbvEA8zDzcfSu9tX8AAMcBQcKswvMCesJ1wimBtoHgQrtC8EJuAcKAmP86fzD+Rn5zvuz/3wCgAOoCNoLnw62ErAXcR0FIuomdSyiMDUwZjBlMqE1STINI80DGOJV16vRmc3ayhTUCuPV5xv2U/aa8IHjVdrt56buX/x5BfYXTCcnH1IeEhMxCNAAUf/YBWYAKAJVBEH9CPa+6ZrgU9d20avVFttD5fbuSPnEAk0EJwTeAzwDhAWQCncRKBYwFiEYYhiRFeoPtgYB/kn2SPG78DLwbu+B7WnsxvCQ7/nrMed+5JPl8OiU8o/5H//rAloH6ApyBxoCMv/3AXUK/Q8PFD0YChk2GawVJg/nBIf98P0AAJsDpAa8B+MJJA4GFCUWxhb/Ggog8CXDKo4q/htGBur7Z/op9ALyyfR1+qIEqgfPC8r61evH4onX3OGK4F/qLfK3+V0C3/nj/Rn1TPDH+Rf8ov8JBXQLpQnu//7+0/f07iD0k/YJ+oz/RwMbBcAD7QN4/G/y3vGj72DyBfs1AkQGMAoUES8OfAh+A3r6S/XX99/7Nf4LAi4GgAZ9B8UGYf+R+ND0f/Ih8Jnw3fCg8MryKvme/Mr6K/1l/qwBugV7CKsKvgfFCBgK3QgNCtEI9AUBBDoDZQSO/E72Tv1j+BL3Af3t/igEmv9oAwMJcAneC00JTxKFEqULUBNEFOMPhwtiC/wNKAdsCX0NMwqfB6UEUQUH/+r6NPnI9zX6rvkW/Gv+k/3z+/X7Wvg69Uf1bfYn95r4GPq8+Rb6jfjl9WH0W/XE9zr9dP5OAncEywMpBX4BEv5g+bT6TP6DA2IIqgitCXIIygN4ALD8HPhG9wn4NvyJ/jcBkQHHADcAk/0E/hj9gfs7+WP4v/dd9Zf0z/YA+Y37jf/5A4sFwQS6Be8D0ACl/Qb8J/4FAGQA4QAJAYP/pPxF+/D5NPfm9gT5avsr/ZX+uv+zAFEBxADr/5v/fP9DARYFuAgFC4QLPQt5CCQEdwF8/lP+0P9IAjEG1gd9CDwHYQZHBHYB0//R/rb+PAFLBTgG1gXrBFgFkQNoAUoA6v7u//oC6gZKCBIJ7gl2CDgGdwUXA80AbgCKAW0D7APvAyICb/8G/UT6sPj6+Mb4f/oh/Zz/MAH3AAsBMABrAHX/B/+U/qL8efsr+pj4q/WE9IvzhPHG8d3ynvJM9KH2LPk9+8r81wCTAoYESAQAAhwB7f2c+r/5X/xG/ir/3wKKBSQDngCb/7v8tPoD+x38Y/19/hoApQA9AQsCnQIZBSkI1wrUC3MNjwwqCnsI4wS1Adz/zgBlASEC7ANnBDkDXwJKAeb+b/yl+qb6Evw1/30BhQIiBD8G8QZlBlsGYwYWBrsG/Qe7CLkHowW/A8kBtAAZ/8H+fv9nAEMAYf/Y/kn9XPsp+fj3Gfdj9/f4hPvl/Zf/TwCUACgCGQE1/ir8tvpD+ZP48PjE+MX4kPkO+g/6WvpL+S343fiv+VT7Zfw8/Z7+Rf8uAPj+nP1+/Wr9vv0+/4oBxwC3/8n/xf/3/YL8PP23/bT+6v9JAVQAUP9J/5P/RgAYAtQEngWBB5UI0AieCHwImgh8B8QGsQUvBRwF0gQsBFUEkwQxBDUECwRLAx4C0gEvAXUAVQHFAVkBaQHfAVUBmQBVAWYC0ANhBbEGRgatBcIEQgNKA3kC6QCW/57/TQD1AOsAWwB1/3b+C/0G+3n6VfjD96n5NPvJ/Jv8Cv0Q/U78D/xE+gb5WvgW+Hb5W/qO+rL6dvvS+wD7Afob+C728/ay+Qn8Nv7m/xEBAwGCAPv+gfzg++j7Ef75AL4CggN2A6wDcAJaAOP+wP1l/q0AcgIwBBcFnwWxBUMFsQQYA/ECJwQ1Bb0GJghyCAMIiAf5BTMCo/++/vH+DAGpA64FXwYiBo8EfwKMACH+Wfxq/Rz/rgBbAgoD+gKDAYv/gvwU+vv4sPn5+93+TAIGBCEEjQMlAl0AVP9w//kAnQI1BCUF+gSaA7AAxf2W+2H6t/qs/Or+FQH8AUECGgHc/fn6F/k7+BL44/nc+zr9Sf6B/lz+z/yl+9H6yfke+vP6tPtn/Kv85PzR/CP9Hv5v/wcBQAKAAvgBYgDA/bz7dvnE+A76Zfw//30BKgMRBIMECgSZA7sCVALsAjAErQXUBs8G1AWVBYMF1QREA5ICBgN5A1IDPQOrAkQBRwBYAEMAEf+3/sT/dAE8A8ME1ARUBMkD1wLIAdH/c/3N+/v76fyQ/Qf+hP7Q/iT/EgCq/2f+Xv7B/ur+3f+6AJsA4QDzASwCxwH6AP//hv91/z0ABQB1/7f/QgDIAMcAPwBq/4v+iv0M/Fj73vvb+2r8tv1M/qP9c/3s/IX8hvx5/Dj9X/35/kUA0AARARUBUQEgAc0BcwFuAAAA6/7n/a39t/xu/MP8kv3G/zMAJwC3AHgAzf40AWQJugUZ/u8F+AVb/jUAmP8DAY4BrP85Az8HswiTAxYD7gPD/UP8DPwl+Yf5XQH5B1QAiv5hBm0BsPzl/vMA7wDW/Ar+DwJPA5cBof24AbgBGPrD/EcBfQHz/0j/DwAS/4AAmADJ/1gB8P/T/9sC6wGT/vL7DgJsDPcFBP6bAHsC+gMf/2v8aAEdAvv7n/gAAroEeP6q/Mf94gQCAV/2IAHVAo31Gvxx/3X5L/1d/3b7z/+/Ab38t/9hABn+vPvHAyYA/PXqBNAAc/bt+6MCGP9a+VwCIwHc/Yj+jQI2A0n8DgMiBMr+SgWW/7T7EAQ+ATb/I/xjAEMEIf4gA/gCWgLtAyP4U/x6BFz4WPtMAzYB0QWVAFkE2gmr+x77TAPPA5r4qfxeBlIInv5Q+/cNl/7x99H//wAGA/j+MP7TBWUJFPwV/psJlAXZ+NQG3Ai0Alb/FwerBh79KxAG8WT/ywl29fD8/vkyA5T86AFq++L95QTt/TH3FP+X/0//BASL9JUGPAmg+V74xALB+O4AtfI69fwSyfBs/RAD0Ps4/VAEw/ayAPQGnu3PEef3DQG/Cvr+FgKT8XgLigGk/EH77wVgCAH7IftzBykCzfX++GICVwpv8Z4SofjRCaD/AvMaHyHfxgpRBOMCH/pp+FkVHe3UDO3zX/7jDrjxegNECvH+dvy0/08KTQEi+pYFMQMw/P8FjwUQ658YJPoSAW4OU++HGP7ofBQw/cL0Vh6W4UIYF/tw7AEao/uk++P0e/pEDInyxgJDAcnmAyNq7qXwbg5J9Q4QtdF8KGz7VeQzH6Hg5xo/98kD19imGRAZ7baTLCrww/uHEd7WMg6uCb7s4B9E2sMUqBev1hMsWNNfKlDzz+2wF2HwOh/X4SgPFPErIIbwffZpAhIJOhVb2TscVvErErL2zP7s8L0lpvtn6QwafvJ2In3AYzDC51kAsw5f5m0khuGvKjLVKBkF/nv57QGe6X4TOwCYJy3JBA0QHMLxZ/lrCqj9kfy4Aw/0shHK//gJtucpFxj5Ffe8E3XzEQDIDnr8EOBiHbL1egxg62HuYhtj7Tr7hfmiDiPxIQEH9QkZG/uP7PMT0uDzMVLSDgbFGdPbfC6d0uMF+Qyi6LMItO5+/7EMo+yNBf//swTMAL3i4B0w/vH4jgIsAzkL2/2kANkCWwb+BOXtqxX4/tbwYQx48JUVEOaXFYP72uhVH9P9zQFR/IEFTwuF9376PBGsA20EI+eFFxgAGgBn+lf1GSNk3lILdwWM7+MaIvI98dEQ+O48GprsCAMEGd/lKQ538AoPCQ7v6FsChA3F+aUIG+z2CqL+Zvu/CTLmPBod/Ef2Rf2I+/gSDex77nwgH/P/AQn0WfgXJTDc5/0hGZTyo/ov9y0MOQC69BcKjwMR/en2WgdO/SQBJO52DFf6/OhRB3ECSvylAIb/gvruDDb0wRZG76L+fAz/AwX8ZP+6/7UY8vcY60sjevITDnPYRCeJ9/Xq9BCn++n/S/iHB2P0MyLB4Y8XrgfD/kDx4hHkBkf4MAgi+LcdTd4wF1PqhgeaBNb2rP1x8M4N7v2C/gH26g0f/RkClufPF9ACXPQlBWv8UwjT9aURQPjS+sz8oAoY/Xr6p/7tA1kC9ulEBXMLbANx7/gDuQNLBg79a/8xBsvwKxET+Ar8LQI9+94LSfC795sDRwIWA4n6Of0+B2j/sfwi+l/7wQtI+1zy9/0gCDAIVe5s+q8MdwIw/hLy2QrjD0oDI/8e/awI6gCJ/r/5ZAZTCrkGY/xF/C4LVP+n+hT8A/wSBwQBlvnVB+QIhgqS9q/7aQnuBCsEjf4CBYcH5QCK9bn6g/fN/tb2EPsD/rL6yANc8hP/FviaAM75AfRqBdz/Xgv9+l8DGQqz///2Wv0JBGD+HwM7+P8FVP1q/2z+aPodBr77G/3m/hYGpADKAi39uwB9/rH7YAON+l8CagEfBJb+EQE8AMX+MwC0/asD3PhYCvL7TfwECQP9JwzX+Z4HGgJT/JYEuvk//jcAIwKs+S8Gfv7BCIv83gcHBu367A09+QIN7APCDN0E5QP+AzT7WQhz/i4BePoVA+/6y/wE/eT/k/xA+rb+uv2s/zL79gSu+DEDHvzN+UH/KfuB/JH7Vf/e97EELfd6AjP8Tf1VAeL1pQxf9m4AkP6XAGUEbvtBAeUBwgD8+RoCP/53A777rAEpADgFrgUb/S4EuwNWAwb+Ywa5ABADgQQxB5wC/AJS/an/avph8pn8C/XH+7z09v3s/jgBJwBjAIEIhv+MBa4I5wNFAJEHRwLL/DL/rANW/j79ov4w/osE/vok/XwCAf8gAYv8KAFAAgEAQgZ5/4sHWAdXBMMJ2QG3BUoE+f8VAFj9H/+n/B79+AFp/Yb6Ef6w/GL/u/jT+vcAhvrn/Nj7BQHB/Kn8Nv/0AMv+4/8xAqb/DQNb/zYDbvk8/7D8IPtr+pr9EQMv/SH+0fiXCCb/v/xUAYMFZABE/iUDJv6oAv/+6gMe/qsEfwJSASIHXgOlBGEDg/+oAA0DgQC1/zv8KwRdAAn/2gD/ADn/nwI0AO76lAOn/o8BhfyEAFMFPv9cAqoBWASSBFn/Nv0rAlb8Zfuy+T75FP9N9rX+3/m6/fwD2frxA5f+ggPfAmz+PQAhANH/L/7R/BD/zgE0/VcD4P0TARACMgDK/0L9EQElAKD+UPxqATP//AG5/T4A1wSs/iMAjQF+ASb+bAGw/aACpABc/8IDvwERBNT/0AXp/vv/eALG/pEA7P4nBNT+7P8iAh8D3v0IASYFs/2mAmj/XwFC/3T/vwGN/4gBiPxvA9QBxf/TAJkDDwFj/GoCIgAnAK75C/8K/qT7Tvub/Mr/SvnB/578PgDl/QAAxAI1/3sBfgE/ADz+ngNb/8MAWvx2AFMAN/oI/iP9U/8n+3AAq/9rABQA0QCpBFf/uwLuAUUFxv9aAtsEJv6cAjb/6QII/wH+agGdAOr9CP9+Aor/mf6//i8Co/0QAGMBYv9M/3kDggBMAuf/HgHrBF388AABAIwCVfxgAbz9LAIh/v38FwRS+wcD9vzhAvP9sQGxAaABVv+g/78C3f46AWb80AO7/d7/1gB4/0j9ZgHc/HL9Sv5T/GoBPvy5Adj+EQI7/dwAWgCP/Vb/t/6D/9D9xwCT/hwDq/29/1oDnf46/usAIv9wAJP/0v3HApz9egEp/8P98gC9/Z0A7v2C/hUAHP+z/mYA7v+PAFEASv6yArD+RgFcApv/AgERA6UAQwDy/wf/PgKw/P7/XAADAkABOAAgA/oBlgHmAFMBlQHlAYYAvwE3AWkBVQIqAS8AHgLM//QBp/8xAacBlf7lAYUA5f8B//YAM/6fAJ39NgDj/6X+QQAB/8IATP/m/V3+HwFw/AQBevxsAHP+oP7QAHj8kAGB//b/rfw/AXX9egCK/SD+/wFK/YUAJP2jAS8AIf54AH4A5gBCADYAqgCTAEwBMAF5AGMAwQIbAW0AIQHW/+AAdQBu/uT/4P/p/IYADf3I/y3/wf9CANT+2wOu/wsBeQFjALIBIgFJ/qAChQAQ/3wCvP5MAcsA+f1sAPH/I/+v/kL+MAIF/wUBMQEtAPAC6P/XAM4BOgAHAVkBE/78Afr+pv6TAAX9DgEdAMz+WAALAYEAkP97/wYB8f4c/pT/Tv6S/9D9Df5ZAqD+U/5eAHD/WwA+/d3+agCG/rX+EQAr/n4AQ/9L/jsAZf7CAAP+uv/f/2P/R/+B/1H+zACBACb+NQHi/iQBHwB2Ac8AnAALAskBgf+dAX4Bi/8VAvz/JgJOANn/twCIADwADQCf/hUBmQBB/wABVACXAXoAXwDrAX0CmP/UAJ4BaAEo/+P/kgEK/yD/Z/8m/+z+MP54/6T//v7v/7L+4f8T/3n/3f5+AL/+LQH//j//WQKX/Y4AA/5VAZf9C/94/wkAw/6I/mYB4/7xAcH9sgKp/zMBLgChAY4Bcf98Aqb/+QAx/xkCE/6NAMIBigA0/7kBMAHG/qsABf9XAaL++/9T/1kB7/9x/u8AQgAxAFj/HwBi/3//LgDZ/nEAXf8iAFoAMf4KAln/5QCk/94AVgHCAEwAdwAnAcj+ZgLI/d8BWf/NAEQBwv6aAUX/9gDf/h8Aev+3AVP+OwCVAQ4AvAHa/vQAxv9FAP79Q//K/+H+Zv89/mf/7/68/2n9l/5L/okAy/48/eABu/+r/7T+fAB8/t8AyP2E/kECA/4uAVD/CAE0AF4AXv8X/47/XQCo/5L/WwFiAR0Crf4DA3sBQACE//8AVAGrANr/kgBnAgb/kgCO/40AiP6+APn+TQDMAAoA4wAV/70Bgv73AC7+XP8iAZH+tv8FAbv/jP/A/4//WADy/GgAiP83/+b/u/95AFEAmP/o/5UA2P93AD3/sAFi/7cAdACS/w0ArP/a/xj/cAAU/+EBH//FAEwAUgCBAL3+rgC0/5MAtP74ABIAKQDm/zIAVP98/woAB/+q/wgALAFn/1YAcf8CAn7/k/52AL0AcwAF/8oAvQEoAAIA8P93ANIAev69AYH/AgKzAN8ANQGBAOMBKwC//8j/aQFh/iAC0/7VAe0A0v9nAPX/6ADg/VAB2/0+AcH/Pv+0AJT/v/96/+D+9/60/9z+uP///tsA8f6n/+b//v7J/7/+lv8R/yMAgv87APAAA/+dAcn+m/+a/3//dP+i/9sAbv+ZATv/vAE0/5kAJ//dAF8AAP5zAk//+QAE/48Bwv/R/57/zf9jAKn+0gCz/1gATv9cAOz/Uf6K/wUAJf80/8z/fAH6/27/ywDQAF//Lv8kAA8B0v6bAOoAev8BArb+wwGn/18AbgAlACcAZQCEAREAOwE7AOkB8f7gAPD/ewDR/yAAXQD6/+T/Lf//AL79OgD7/pL/WP9j/yYA0/9K/3z/yv9Y/+z+z/4EABT+3f/3/sn/3P+m/7//Zf9DAMv+tf9eANj/egApAJ4A4gB5/9YAPgA+AJ4Axf9BAaYAnf9GAer/VQA5ABQAVwDh/yQBmP+2AFkAdwBWAKz/IQCt//r/Av+b/xAA1f/B/2L/mQB2/2j/xf+Z/+7/mP96AEb/0gDR/8L/yf+BAAgAn/8/ASn/hwHD/1gAYgCLAJ0Avf+kAP3/nQHy/7kAIgF6AUkA1/9mAbv/PgCr/wkAfQDp/83/MADW/3H/ov+y/uX/t/6b/1T/Cf9z/y//cv9V/vP/vf6w/7/+XP8pAA7/j/+8/9r/Lv96/zr/EQBB/5oAIgBbAGABeABpAJkA9wDb/1AAgADFAJEAggAwAXsAugBOADcA0QDp/yIAJwCUABcAXQB4AHYATwB0AAUAr/+KAGf/1wBy/woAbgAx/3H/8/6L/5/+A/9Y/xH/o//M/4z/Q/9uAPD/Yv8oAC0AdwDC/8cA/P/8AJoAbQBiAJkA/AA3/+kAyf8pAXX/XwDcAEP/LwB8/+3/ff9A/6T/SP+u/VT/XP49/qf+rv7H/zP/dv+5ALT/rv/+//j/v//X/sP/nP8n/5n+RACX/9H/Tf+EAdD/TgD9AMn/9wFU//ABW/8iAVwANQGzAAcA9ALUAPUBMQGFAvkAawH4/ycBNAAuAJQAGgCTARUAOwFDAJABggDoAMP/ggC4/1z/jQD//lYA4/5OAHr+BADH/xD+0v9t/rf/7/wK/a/7Vvzb+bb4yfwS+yABsP4RA/gGDwYjCfIFzAbJBs8EVQDPAPf9bv5y/I73kPst+mj5cPib+EH8mf3l/8T9ZgJXBeEDfwgcAuYHiAfLA68DMwEZA/L/eQAT+ob+3P9Q/L8APP01AH0FSf0EAl0B6wBIBQn+rADDAdEEjABGA1cAeAUBBUgA1gLW/3wEpf2TAF37kgEJ/ST+DP6S/DQF8voAAMr+AAFCAFQAP/u+APr/OvyV/439agCs/oT+6/u6AA78uvxV+D73bPTN7sryEPM28mv5uPbQ9wsQtv7mDx8TiANqHPMH6Qp+DnIDggE79kj4MfKs9ez1pe6L+p37tvfMAu0BLgAKBu7+mvsFCGAEqgYiCpQGqA1aDrUS6wv1EBAKuAbbBsX+XALj+jL4sfOr99/39/qo/cf+twNFCQYEwAhrCsACwws0/vMB1AQXAFAFJ/riAZMDRfpTCj71cgITBOP1ZAd48jkDyPUb/KH5efLrAiPx9vp+9q72Q/ns+F707Pju+o/4B/21/BP+6wJL/+b/nQOyAIsEZv6YAEf/fwKn/CX+8fqp/o7+bvi9AJ33pQDD+rn7N/5M/8/9JAFwBDgCjwupA7QIAAclBRoGBAPwAs0ACAFiAHsCCATcA2cGIAXaBqUIYAU1CDsDCwML/0L/u/7U/cr/Lv0TAnMBfAejA7EJ1AZ+AiQJCf5XA7oBBv1l/nT+SP5z/nQA0v5UAjoAMf3I/1IBmP8Y/Hv7p/i0/Ij7+fhd/lv87v1PApUCWQKEBKj/ZACvAdP58PjM+xr8cvoJ++D5m/08BmkAPP6XA4P+2P5aAcf6KPoK/yr3FfsG//b80wAkAtsB5ACpBVkAnP5PAF38zfnT+3T3jPunASr9rv94AesEDQYwBYMC2QQ7BfAB4vxWAUwC2/9SAWH3NgMIBC3+6ALm/uIDbgMlAMb96AOpBkD/IgJNApQG7gaUBQIDcgPHCPT9VgAcA+H8OQJo+5L66wIfANL/J/4VAakBLgKYAOL/IgJWAc/+9/2HAuP+rwLo+9L8YgDb+4/8G/aW+Ab23faU9F71lfhM9j36R/kC/3v+/f5RANP+2gPG/goAP/9F/uH+r/tr/XL8Yf8+/ZT8df5F/5wA9gDRABUA/gMkA44CjgQrBHQEjAUXBZcF/QVLBXAFxga8B7AGmAUkBuMHwgYIBrMGEwc2B+oGjAaQCBULxQlECDMIyQmCCs0IXQp/B3YIJQn5BT0KIgnLCG0DdALEAvP+X/+s98/0APXe8PjwI/F287z1P/Hs9Wn3vfp0/OH3Qfdk97T4/PID9nz29/aD9fX0svjo+cj/uvmP+SD+6/sp/cj8tvoT/L76WPmt+aL6Dv08+XL3JPr3+Mb6n/kR9zr6NPlZ+pz4dfrm/eX7s/x7/AH/TwImAwT/RwJKBvgDPQVCAwcF2QZgBRcE2QJPB/cGXgWIB5wH4wkzDGcL9QtKEIsP5A4FD+8OJRJAEMIPaQ9PEMEURhJlEowWpBUTGMIVyhL+FfIS0A4oBLb+pf5e9Q3xHev26QvrzOg26nPpsvST8uHuEvXf8xD5gvV19bDyDPUs90nwH/bB+Hv6I/oV+0D9dAE4AVD9jvyD+8f7dfZ69Ab19vZY9i/zLPa4+FT84fw/+sr9vP9y/wn+Mv6s/jT/Qf4a+kf/TABIALsBxf9zAl8C/ALL/9L+aAAP/Ib7Qvqj/BL8x/xX/Xr9cgOGAekDOgKPBWEICQYfCTYJlQ0dDqoPgxDOEoMXbxWRExIVkxaCFaATOhNsEXAUsBThElYXPRhaG5cYMxlEGLoVsBATA8v8ofUY7S/lBd6L2pzc+tqF4J/jD+zd8nzwofeS+Yr9Svrw+Nz0wvIK9AbxSPDe9Bv59fWB+9f+SAKMA4YE+/8I/t/+Ofr89Qf1fvWY8ZTzG/VJ+GH5pv9A/oP/xAWLBZwFtAOyBssBMgLrAcj/ff/NARcBFP/RA5UE8wRMA34EkQGcAMX/+vrm+B331/be8Q/y6PQe83/2U/dv+E76fv4hAoP/CQVHBqoG9AcyCmkMnAywD3cOdxAyErQUixOOE9wVcBTpFEQWYRilF2IZCxspG1EeGiI6IEkcbhlaDWkD5fyN8aTpnN2P2TbWPdXm3vPf+OcE6z/vzvJQ9qL8ofgl+Fj0oPOo8Krzb/Yt9n38hP3LAEoG9gtzDP0IaAfIA1D+OPs391zzPPE78Y3vC/PB91z6O/ye/B0CzAE+BY4EWQLwAv8AnwAc/jwBMQBQ//D/8gAeBMsEBwb6A8UE8QI5AUb/ePrV+dr1NPPm8BPya/LP8WjzF/Qk96X4wvoo/NL+UgGHAeUDewa5CKULoAsBD3AQeBO/FcYUfxj3F7oY+RWEFlsW1hUjF5gVGBiuGTEbCx2QIFohGyCKGG0PzAXD/TH0GOlL4APatNeO1iffUOOx7Izuw/Fi9ij5CgCt+fD5bPOk8Vbu1u+z89D1JvwT/FMDXAlVEVgSbw82DdYIIgP0/hr5vPUn8VPvP+8Y8bL5cPon/h/9GQIoAwADwQLP/ZT9c/hK+ND1SPiV+nz5KPuw/koDngXzB3YGVgW3Az8BGPzJ9x72UfD87CrsC+257ynyhfTB9t/5Kf3s/Tb+AQDy/yz/kP/oAMwCNgaTB28Keg1MEgUWMhYWGUAZARqHGbMY7hccGJwZmxmOGkUeDiEaI2gljibeJyEklxprDG//PfRO6DLctdInz4/Nu8+71z/fKOwN8KrxfvaZ+bYAC/pm+kL1mvIp9CDyrvvKAdIJkQuTENAZER+eH20ZbxMRDCYCFfo28ADtOOok5DXke+dq8Hfy5PVL9/f5Zv3C+1z5t/Yo9yLzUfLy8iX4Efx1/WAAuwNACk0LOQpgBysGRQQ4/Yb5pvXM8wfxsOxU7ivwp/Q+9cb0HPjQ+Mn5B/i/+MP67fqk+1T9KAIRCC0NaA99E1sYBBspHDMcihzVG/kZihjqFtIX0Bn4F5kZUxuIHs0ihCTXJ8ooHCi+IfYU8QcZ/D3vm+Mo2dbSctNP1N/bnuNZ7A/1YfMN9v31N/Z09MDtvOtj57boL+vW8Zj8IwaiDkoTzRqoH40g2xuiEmkKRv8g94XwGuuN7H7rRu1z8bX2pfzb/Pr8V/ll9uzyru2g6Rzn7+fI6O7sNPOx+jwBRwWCByYJYgnlBwgD6/5f/Fn3YvWa8/T0fPaM+P357fu1/3oAagEo/5/9efqy95L2GvYa+Kr6C/6cApgIzg4AFHUWNhi4GEQYyhdTF+gVcBaZFlMXDxr1HLEhOSOLJbknCSrWLOAsIyxpJ4UgvhKrAwn3t+rO4sHW49JL0rbVjt6R4g7sje6h70vtIuqP61To3uZU48Djm+hb7gj4PQLpDAAV3xhMHCQdHx2/Fo8M3QPj+v/11vGp8QTzt/aP+an7U/9GAHP/+fnl8zPu9+m15uLk2eM25zTsOPK0+fP/UAZFB7gHtARlAtMAI/zB+Fr21/bV+O36vv4yAd4DdAUHA9cDuQBZ/9/6+/Wm9GPxYfRg9EL4Gv0pAUsGVAnVDaoQ8xFFEVwQkBDGET8TORXcFzYb7x03IZgj/CaKKKAoACjAJngo5idJJ74ilhtvD3sCHPah62Tlqdus1/PTrdbF3ZXio+mR6dXo1uU84rHj8+H44j7jbOND6qrxR/6YCfIS6BgFG0kdGxxSG6QUiw1EBcP9dvsW+rT8fv7K/xkAPQB8//389PeN8SrrS+Xf4l3iceUE6R3t2vIo+dH/9AOABTAEBwFE/aj4Pff49WT29vdN+Wb/EwPUB08Jfwh8BxoD5//f+s/4fva19NDzVvRX+GL7Ef+VAckC+APHAy8D+wMUBScGrQY1CYENZRL/Fn4aGB2zHtgfWiAgISciMCMcIk4jhiWfKD4rzirJJ9UeyxO+BUL5su++5VXdP9e21cjZ0N/W5BDof+da5PXfmdxu2qna59qF3MvgUujS9LsBSA7xFhAcix3AHdgbbRimE24NJAjkA4gEeAYRCicMcwxlCloHOAL2+oL0YuwI56bhlt934Wrl7+r47hzzTvfq+dX6E/lz9gn0GPHK73PvgfSh+fn+rwRmB98M8wzbC4cJowM8AV779veU96T4hPuo+7H9gP6DAAAB7f9R/9v8wfw3+0H9nQHjBa0L3w6ZE44XHBrwG7sbnBo3GX4ZIBnpHIogWST9KUAsojHrMlkzPS/kIwMVVAKl9FLoJOJW27nYWdp63brmHOlJ7eXpc+Gs2U3Ppc0PzvXSQ9kx4OPrA/kuCb4UyhwJHokZZhWRDg0NognrB4AH3gbNDEkRxBe1GTEYFBI9CGP+ifP/7JPlmOHY3lbf+ORr6nTwgfMN9SH0KvH97UbrUeo06cXpnesI8sj66gE7CdUL5w1VDBwIrwS4AOj+CPz1+nn7cf/LA+EFoAatBJcC8/5Z+8v52PhZ+f76q/34A5IJGA+SEnUTPhRDE0ESQRKTEs8SWxZbGT0gqyaCKz4wzzDjMekvQC56KoMkKxhaCVX8xfLb8KHr/uhH5Rvik+Rr4w3k2OG52VTTIstQyZTOYdVx35Xm2uy99NX9HgcTD5QQpg7lC6oJcg2aEEYUoBegF7wYgRhoFyEXuxKsC+wB6fcC8uLuve0y7Yvst+tE7D7suewl7AHqDOe74jrh++IJ5x/sGvAP8w73u/rV/pEB7gKUAkgBeABtAIUDFQWAB5YHCgfZB2UHywdZBaACrv50+7X6hfsz/jIAKALaA/4FSAiNCuwMsw36DaUNaA6aEvgW/RpGHbEeNSEJI9El2CclKY4qkymoKfoqOCtRKKsccwxJ/g30lPBT7eDoqeUi4qzj+uP5427hvNgX0tXJG8lMznDXYePH6PPtVvEf+GwBbga3CNsFAwRKB/4LFBMyGMUZbBoyF2EUEBHYDtYMZAdtAej6DvgN+Ln4nPfi87zuk+r75y7miOW/5NrktuQ35hboDOt97l/vtO/J7hHvffL997n9lgFEAl0DlwTjBRwHeQUtBLoBEwLHBD0IoAwrDTQMKAmqBhsFpgNGAzICcwKcAxwGgwu4EBcUExU7E7wTGRWFFjUYgBi2G5UePSIiJfslcSgwKbwqkSsIKXsjGxf9CCv9xPaq90/2O/Sn7eroLela58Dmdtyq0rTKJ8kf0Q/YveLr5TPoAuhv517tMfI9+uT8RP6MAXEHMRKsF/AXLRLAC6MKAAwADz0QtQ+wDrAMIAo5BswBsvw49zXyw+5N7nTwE/Nd837x1e0T66Lpcujs5qPk4OSd51DtE/LQ9L/3lPl5/IX8sPoC+Wn4lvsR/3ACpgStBrIJLQz0DBILCwg3BtUGeggiCi0LCgxlDR8OEw4ODgAPFxFiEyQVuBb8GMoa5xojGcEWpRaCGA4cMh8lIaYjVSbAKQgpKiGEEu8AvvS+8Rz3Iv2d/hz6nfOQ7+zrPOeS3cnSSc1g0AvccOet7cLskecS5Evjh+ap6zrxXfe+/BUCVAbACJsHFgM1/hX83/8lBysOKhEnEAkNwAn8BtICK/5B+VL3N/r3/6AFhwZzArn7/vW08xjz9vL88UPxVfK19KL31fh197TzFvDo7gLxX/X3+OP5J/il9QT1IfcV+tb8M/7s/50Dowg3DdQNpArzBUcDfwQfCBYLgwwCDRwOMBHRE/kUchPTED8PPg43DpANuQyuDFYNNA+KEMERHxPNFA8YxhncGQcXyRFUDPAGuwRmBAEGKAh8CGYHBQXOAhoA5/sD9wfzrPEK9Ej44PqX+Uz0Se7u6V3oROl66hPtK/Bj85P1afQB8SDsjenC6g3vLvVc+tD85PsM+b71h/OX8n/zfPUG+Qf+yAHZAwEC6/0t+hj5ufvs/gYCkAPjA14DIAJRAQQAQACYAT8DwAQwBWcFSANv/w77LviG+Kn6Yv3B/u/+3P4K/8L+Wvwx+A30wPKX9Mf3tvqW+7D7Lfww/hMBRAN9BeUG3QeUCNYJngsJDYwOQA86EG4SNRaxGjgenSBaIYkheyJJI7kioyDDHTEb6xhDFs0SUQ+iDYEOgA9tDuwKdgbKAp3+fvnW8mTtV+v+66ntf+zJ6Bbk1+GD4hnjUeO64oviPuOc5Abm4eVH5bfldOfd6sPvJfRw9dryA+9k7cjv8fRh+W771vsZ/bH/DAJFAr3/e/0I/qYBkAYsCpQLnQp4CTsKUgzdDgEQoA+fDlEOcQ5ODFwHsAHr/5kDlAmbC7AGdv96+mr5ofhs9PHtnulq7Mnz7Ph090rx3uwF7mT0SPuv/n7+B/2F/R4AjQPkBUEGDQeUCh8SThskIWAgXBsZGKwZUB6HIQAhiR21GyEexyH2InUg3BzjGS4YAheQFMARBw9vDEEJLQbLBKED5wDS+hvzUO4S7/3yavP67Q/lXd2Q2nbb+Nzl3DXdWt/G4QPjtuHo3uDbsdpR3HTgf+e47nPyEfEr7eLqQux88bb2YfkP+8j9cgFFAzID9AHVAXsFxQvZEbsU6xQnE8UQtg//DwMRExJfE7AU2RV/FusUCxCDCVAEnAF0AVoCzQDQ+/v1nfIP8unyA/Ok8IftRO1V8Wj1t/Wp8TzsFOvH7033B/zj/P78fv+kBSkM1g+2D5MOHA8/EQkVHBh5GJMWhRXOFxYcBiB4ILQdIhvrG2sfXCFjIGUdWRvmGr8ZgBZCEs0QShKaE14RAQzsBn0D+P8Q+ULwY+ri6e7rGutZ5rLfdNq71xXW/dRV1GHV3NaH1ynXltaF15vYstky23HfwuZW7SvwKO786wXuU/Re+8v+3f9QAUQFXwplDfQNlgwUDK4NhxF5FZcWiBW0E7wT9BXAGH4ZGBbdEP4MJwzsDMMMpgq2BhoDNAFuAQgC6v+g+lz1pfQL+AD7xfif8Q7rC+od7y71d/cn9n/1zfhz/pUCVwI6//r8UP5lA9sIzwsmC1MJhQmyDIkRdRQiFCgS8RHIFHkX2BcdFgEVYBZnGdEcdx6sHjce3B3NHQwdVhvxFqMQjgz1DZcSRxJsCvQAwvww/b/6LPMc6qLkOOTa5WTlrt7N1M7Okc9J1EfWsdSs0qHSeNR71kDZRduh23fckeH36tLyh/XX8/3xufRj/IwESAf3BEwDEgZyDD0RCRKxEJAQghLmFOEWbBbJEpIOfw0uEOMTJhb7FGkRyw7BDn8PTA4qCx8HMwRTA98Buv3q+Sv6E/tU+KP05PSF+D36GffP8Dnthe/e85L1T/Ps8LDxJPfR/a7/WP2k+n37if/+BMUIegimBwQJxAxqEZkUKRQGEOMO6BOfGu8dHxwUGXEX0RjbG7Qd+B0LHNUaTBwaH3UfuRmbEVUK9gddDH8R/Q50Ag34T/c3+pj2b+sd4zThIuIR4oLfvNntz//Jk86H2D/dx9me1gTXmdmv3U/ileSp4s7i0ekR9C36gPlX9lf1I/qxA6ELVAxPB4QELQcfDEoPNRDoD5wPrREpFnUZ2BcKE+wP0xAaFFgWzhV9EmIOdwxzDQUP0g3CCmwIOgcdBn4EIAL8/CH3NPZ/+vT8n/i+8rvwFPFV8ETuQu7k76/xb/Ok9F/0k/La8mf1TPjv+s39TwGcA5EFbwddB3IGewdPC/AN+g0bDloP3xBXEaoS4BSQFVEV7RS4FIkUNBWsFikXTRc6F34XbRdUFWgR0gs4ByUGiAiMC8AJ6QG3+Qv4F/o895zveemc6GvqN+qg5lfgbNl41WHYfN+R4vPfH93W3dnf7OBP4uziZeLV5Gfs8PPl9Tn08PKB9Mb5QQHWB3IKpAlQCcwLDg+MEDUQUhDqESAV8BhrGqYYbhUwFNEU6BUNF20WUxPPDucLGgzpDDMMRAnDBikG4QSXAqz/zvy7+Kb0i/WD+d/6t/V977XuMfH786PzdfEP8O3wavT99ab0EPJ38T707/d+/Lj+Qf3R++P9aQPoBaQERgQzBzYLUg02DzMP6QzCCw4NwxD3EuUQ3Q0ED/UTfxdQFrcSDRLxFN0X4Be6FTwSYBANEDQNjQqqCb4JngdIAez7wvsG/tD5/fCs65rpzemS6CbmDeKm2kTX69qI4Qziv9wZ2hHc+uE25WrlBOYw5n/pZ+8u9iD6PvlA+K36kAI/CnwNjQ3eC2cNXxErFIcUrBJ1EhsUeBYTGLwXmRUpEcoOBRBwERQRXA4xDCgLAAqzCUQJmwf+BEgD0AOUBH0DEgCL/Bf7rfm896P2XvcZ+Pr0R/Fh8CTxZfH97+7u0e5c8L3yp/R/9U/zs/Hx8yv4Mfsa+4j6xfvj/pMCmwS+BCUFpgfTCdsKgg1cEPUP3g02DnoRVRT5Ey4SpRE6ErwTRhVMFbQTdBIHE2wTFxKBD+ENdwzbCMkFpwTUBJYEPQDj+RX2ofZ99wP0oe786WTpReqX6TDo7uNI4Frgf+Tf6B3oG+XP41/n3+sb7ozwC/FH8kP1l/ma/hcA/P7n/R8BCgedCi8LEAmmCFcKTgz4Ds4P9Q66DVANKg5nD3EP1gyYCpoK9guWDRoN/gneBkoFfwUYB94HcAZwAxAB0QDHAXkCZQCd/Cn6j/qw+xr5wfWc9I3zgfAW7wPzFfa58+ruyu3G8aH1WveA9z/36vaW+OL9kgERAdn9Dv2zATMI4wuCCZwFaQXDCQIO1g0cDakLaApeC5sNTQ9dDRELcQnCCpoN/w1MD9AMYQnXCWoMKA9iDFoJvQehCFwJKgUvBEAEcwYoB8kAVfzN/AkAsfwr9b7y2vOF91T2+/H17W3o0ucZ7DXxoO9W6N/miOyr8hnx2OvJ6/DuGPS3+O/6u/rB9zf4l/wLAZEC/wC4AJ4BywN5BgAHFgYYBI0E0gdNCXQJ1QhKCPwHuAf6CKAJ+AizB2MGNQaKBbQFdQbsBGYChgCbAR0DdQIMAvoACP8B/bD9owBG/6z6OPiA+hL+s/3v+/T5j/ii+Uj8SP8L/nz6ZPl8+zj/Wv8o/Tn70Pox/mQBWgEG/8/9jP+GAMoBOwPWAQEAjf6kAYEGsAUAA2cBqAQOCC8I3QeFBpYJFgvoCqYN9Q5MEG0ONw1ID48RphF8DWkNXg5DDBMK3gjgCosK+gNM/hIAEgWlAu353fSX9jv6Tvdj8lDw5uzb6ZXrz/BM8MXodOWA6kbx9fDj7PfsnO7n8Ff0VPjK+L31GfXO9x/7c/x//GL8afxO/XcAgwJ+AR8AWgAjAk4DDQWNBvkF9gQSBdQHFAoXCsoJSQmYCesKDg14DmANVgsgC8YMlw00DH4KGgk5B58GJAdmB/4EbgBH/qf+5f67/Jv6y/k8+Fr3O/d097v2zfQ99PP0C/Za9n32nPa+9Zf2cvgl+bb53fo5/HT8qfw//vcAxwED/87+oQL2BDgEIANdA40EigVVBXcGiQjSCEsJZAsiDRkNxg2ZDhwP2A+mD4cRwBJpEMsNGA7uD38NcQo4DN0O3AxMBfACnAZhBKv9nfku/MD7QPXm8rnyXfA36tboze447tvnouSW6MzrKeh150Xp8uo17APuY/Gx8ILvRPFK9M72v/fi+Yv7tftt/bv/qwGCAn8D+wUmB30I1wkeCskKhAuSDXQOBA7WDp0Ptg9xDlkOaQ8GD8IOlQ0rDOgLrAuEC2oJ1Qa5BfQE+wMXAhcBsf88/EP7If00/vX6W/bG9pv4qfgI95f1S/Wm82Lzg/VK9hb0f/FE8yj2Dvcr97n1TvVT9pn4e/q/+Qb50vnw+xj9Ov2R/hH/uQC6A84E5QQrBSQJxAx0DGsLSA2DE4gV8hLfElkULBdBGL8X3RcTGHUZzhYQFV0W+RSkEt8NJgwgD0kPbQlOAKz/XQOPAD/6ovTn9Jj0/e+67lfuFutF5Lnjruup683jQd+n5Hjq7+Yl5bvn8+lu6dfpj+9C8I/tZO9j9O33z/bT+Kb83/1s/lr/lQPTBb4FMAitCWwKcAtVDkEQTQ4lD4ERHhPHEzATEhOAEcgQtBHCEbYQmQ1DDD0MPwrqCMUH/gX7AjIBjwEZAEX9+/oL+oX4xfXm9Wv3XvTX7wjwO/JI8a7uC+8g8CPvMe8l8eHyQ/BM7j7zDfdn9R3z2/av+rr4Ivn5+x/+Cf7F/pMC0wOaBPMEXAbECCEJUQvVCy0M2A31DnsPIQ7cEHMS0Q/OEB8U9RUQEjYQAxXtFvwT8w/4Ek0WGhJhD+0Opw97Dr8LhgkoBnAHnwdfAxL93/nT/Zz76fR48nzzL/GD6v3rI+9C6rLijuMy7XjsVeRC5KfqYOxb6Czr8fBW8MXtAPEq+CL5FPa29zb8k/4V/z8BgwPfAuoC+AWHCIkIdgimCdcJqwmnC+gM1QuXCucKDAz8C7MLfgs7CoIIBAjOCckKZwhHBWgEzQUABr0DwwHCANX/3P6h/iT+9fsq+kP5Hfmu+P33lfhv9/L0L/W5+C75gfTj8zH3AfiV9Z/0S/h++H/1UPbl+VT6hPat+In9SfyT+V37RgAYADv9Qf4NAZICDwL+Aq0DBgP/BD0IWQitBT0HgAvAC1sJmAoTDW0MmQzSDiMQ7wxIC8kPxxKyEGgM2Q1IEsgR/A8jDm4NSA0/DnQOLArUB+wISQgTBLUBIQThAmb8Lvko/Ib9ofbA8WP0ivWd8DztPvDl783px+j67TfvJ+pH6B7tY+8h7JvrN/Ar8hXwr/BG9Qj3HfU39g76Vfvc+Rb8cQBtAKn+IgAgBHEFowQ6BSkHyAhmCEMJ9QrlCvkKvwsrDI0LlAuUDN0L6glCCbUKXgukCGEGSQY1BlIFqQTCA9wBbABEANUAr/8C/fn7d/w8/HX7ZPvV+l/4M/hz+yv8MPg/9n76PvyA9zf1GPn8+/T4t/XV92D6M/h89h764fpI91j4Xf04/q76R/sr/gL/UP+0ABADYwE1AWUF4wZdBEUFxAtBCkoGdwllD/UP0wjlCaEQ3RE9DJoJig/HDgMMsAzLDRMNFwvNDJMLLgrYCcIKJAodBzUIDAgfBegCAARIBCUAhv1o/zn/xfru+An8BPt19Dj0eviW9uTv9+5J8xfzse7F7RTxqfCW7LnutPM687nvaPEE9yL3N/Us9wr8rPyt+jz9FQGvAgsCKgNIBE8EPwatCOwIhgacBiQJJQruCDkI0ghjCMsHhgdqB8sFNQSzBVcG5QPnALgBRwMMAIz8r/tT/k3+CfpL+Dn5Ofup+KL2g/gq+Mf2BvX49aH4APhn9nz1HvgC+3D6ofrn+tP8Of7C/er+5wAaAQD/agAgBO0D7AH1AdcD+APoAVICxQO7AwsCYgCRAfgBIgCy/k3/DQI4AhT9AvZC9foAxwdWACn6kvs3AmUFWgWlArMAYAUABvEEIAR8BMoHsgumDqEKmAMiAQsHdxKjEVsEuAB+B9AN2gp1CEwJYwbXBxQLjAqzBSMD2AcCDP8HQAJj/1ICdARSAjIA2/lB+FX8iv/++kjyuPL89vH4TfYH82vzPfLR89j31fmp96Hz7/gg/tH87vs6/xUEuwFYACcEnAXdA88CGwY0CAAFewPgBK4EcQJVA58FngEC/e78cP7//GP6efpl+ib4yPZP9yb3HfU+9cn44/ce9f70vffn+Q/5fvrJ/Dr8T/tr/f3/WgA9AMQCgQT1Ax4DlAOxBdAGgwdZB0wHSAVHACj9lQOTCzkGcP4T/OX8Lf5N/5UBhv8c+hPyWvb8AMX69/Xo+vD9G/dj9oL8u/qL/tv/m/5V/xL9b/0cAtsINgX3A4wI+wRlBcoKpw0sDBwO0Q6pCfcLhA9wENcR6hG/DgMM0w3xDjYS3BPaDE0IxwuYDKwGqQU4B8QDxQA2+0Dzq/Ds+L7+I/Xf5rbi5O3f8QXpGudY7evoIN8S65L31+0m5VH0TwPv+Jnu4/mzCoII4/5EBYgNzAh6BrgR2xVeCmsIahCUEJsJswgpDNIJgQfzBh4E2P5K/ZkBIwP6/K33Uvkl+oH3Rfj/+uH39PP69ZH4tvdC9pf3zfrQ+iz5qvnl+878lv3uAOcBWAC9/7MB2AT/BbEFdAWtBeUFoQXiBicICwfDBQwGGgZ8BBoEPAOuAUkAFfxj+R3/SgK4+pP0J/W99w74nvgH93z2bfTf7gv2qf2h+gj2Cfk5/Of5QP26/7cCtAW7AboAygT4CHIK0wuXC5YHHQlCC0UMLg95Dv8LUwtbDSANxQzaDm8Pxg7YDcsKgAghDGMR5hCWCX8FrAceCYgGigOrBekDuvsu9Tf1xfsA/kn4eOwy55XuEfND7+/oWusn7xLpP+ju8Gj1pe4/7hX6svps8kr0FwLICNUAe/3UBCAKDgcxB+YMAgznB+oJTAxoCFcG2Qk7DPMILgQwAmABbQJSA28DsP+t+j77t/yS+8f50vvg/PH4wPbO91n5nPlK+kz8sPtR+KH23/qN/4j+M/0s/jD/+v0I/sgApgJKA7ECWwNXA64BxQHtBPQHoAVaAtkBigIhAqYBGwLUABL/sv3s/Nj6A/W68j/7NwG59qfqBO6X90/5m/UT9Ib1Y/RQ8e721v6++y74Mf/ZAu37I/zYBYwLmAnHBMoD6AYXCu4LtA1rDJ4HBAhgC6UKtAlzDEEONQsNCZEJ7QoQDQoQphAgDAkJxQs7ENYQIA/nDWgNaw1EC90IVQpJDG4KPgbY/zz5B/3LBwgEFvTY7OPy6vmA9/Pvfu1a8nfw/+lL74L1QvBd7WD2Bfk/8JnvAvtVBF4A2PcP+6cEegR7AIcG/wpCBZYDHQk4CasFzwcNC90JHwWdAmYExAXdA/ICyQPF/3b8y/3+/Gz6x/u3/TH6v/V19RT4AfqH+Df31/fD9uz0HfcL+hb5E/n3+gf7f/m1+nf9gv+TADwAXQA+ADcBNAN/BUoFJAPwA/8EFgUuBawFYQWxBB8FHQRLA8YDPAOyAjYCyQCB/2L/sP/V/5n/6fuC+Gz7hv5Q/bf6OPny+ET5Uvrq+pL7FPqg92L58/l2+WH8hf/t/MH4bfov/lABOgEP/5P+3/7S/zkDhwUFAygCuQX4BWcD8QSWCHMKEwpDCEkHfgnKC14Nzw9WD3kLwgvND88QcxDyD5wORw53EIEQogy9B2oF7wo0EN0HOfmE+HADXAW1+YTxbvbf+ZvwSumQ8IX1bezc5k/u+vC65wbmo/IU+fruwufE8Vz8kPiy8x36BQHc/gP86P5vA8YFVQYiBr0FtQVXBuMHwQitCPwHbwb0BLYFNgbZAyMDXAWzBGj/Dv3w/xUCAQCj/Ub+PP54+5/69P1N/0j8o/qn/I/9Bvw4/CP/KQBW/rf9bf9wADQAgAGcA5MDggFaAQ0EJwasBdQEZwTQA+8DDgXHBekEiANPAjICKQJpAb4AMwCX/2v+8Pyp+1D75fsx/FX7XPmj9zr3Lvjb+af6b/oZ+Fvzl/M3/rUEn/rg8Jf35QIyAtT7R/wpAsEBI/wEAfQIPASD/R4ERApCBJ8AvAW0CoAI5gKTAgcI7AlxBjcFUwZrBbYFUweVBgIGMgaLBZgFkgeuB1gFWQXtB/YIIgeCBHsFnwirCEYGpgWpBkwFyQP4A/gE0gS5AhgBXP/U+pn4RAD3Bu78R+3Q7ur8SwBy9djvBPYj933u/O4O+2H8f/Go8LH5Lfkh8nX21QKuAlb2bfMD/90FhQAE/lMCjwLT/uf/igOAAwQC0QIbAxgAl/3O/4IDfwJj/3X+wv2t/F7+tQAu/2v9qP7r/oD8F/xs/8wBPQAO/sr+DQDj/p7/gwPCA6f/tP4wAjIDhAFeAfUCbQPUAZoAjAHcAo8CnAEnAAMALwOpA+v8avoAAiYGTP/h+AP8mQECAPj6FP2JAAz7Pfex/mAC9vqy9779LgH5/dL6NP3kAs8C/v3L/l8EmwWOBJEFfgaSB5IJ9wk+Cn4MWQzCCtsMIxCIDvQKhQroDCkPGgy6BZEFzwrwCE4Akf5wBFoE7/pk9WL7QgAX+G3vhfQJ+yX0GO2k8zz69/Mg7enyAPvS97bxIfbn/ez7fPZG+k8BfgHv/oIAVQNEAzYD5AR+Bn8GBQYOBvMFbwWcBWYGBAarBKcDkQJqAcUBIgIxAOD9uf3Q/VH8yvrh+j/7Mvp2+Dz4S/m/+Ob3ofiM+ab4/PeC+RT7MfuB+u36aPyy/e79FP72/gwAwwA9AeYBgQLHArICbAPYBFsFegQYBDcF4QUkBa0EUwXKBcoEhwPGA3kE+wMmA6ED0gN2AjkBqwG4AiMClABcADMBpQBS/3//VADe/+7+5f4m/wH/qP6F/oL+OP4h/pz+u/63/Tr9Of6g/u/9oP0b/gr+rP0J/nr+CP4c/Zf99v78/qr9R/2j/or/zP4g/rD+k/8MAA0Axv+q/zIAPAH8AQACugH9AbcCVgPCAysEbARwBKYEXwW2BSsFEQUOBqIGqwXDBCgF/gXgBc8E8wMwBEEEDANjAjsDRgMgAXT/AABoAc8Abv6d/fL+xv6J/CL8b/1Y/dv7VPvE++P7S/uR+oD6FPtV+8r6v/kl+Sv6gvvk+kn5u/ky+x77Z/rV+sj73fuU+zb8Rf02/eP8Hf6l/z3/iP68/04BTwHhAKcBigJHAgQC7wLHAyIDWQLtArQDQAOIAu4CjAMZAyYCAgKJAtECmgIDApUB+wGmAm4CwAG7ARICMwIDAvEBWwI5AiIB+AAWAuEBMACw//cAXwG//wr+Xv5z/87+av1e/Yn9VPy/+9T8Nf2t+6T60fsg/Qv8o/qt+zv91Pwk/AL9kP0O/Z39c//3/5j+NP5HAP4BSwFtAIgBuAKgAokCCANwA8EDRARwBEQEOAR3BMME5wTQBIwEKQQCBE8EgQTGA9YC6QJSA6ECcwGGAQQCQAHy/7L/KwAKACD/gP6f/q3+J/7c/SX+FP6F/YP9zv2F/T/9ev3a/cT9PP3i/Br9Zv1G/Tf9OP26/HD83vxE/cL8Tvy4/B/98Px//JH8C/2X/ff97P21/Q7+Bf9y/1b/v/+XABQB9QAdAd8BpgLdAtQC2QLRAjcD3AMTBJoDaQPAA+YDrANjA0wDRgMOA9kCsQIwApoBqAEjAu0B2gD2/0wAIgHtAJn/5f58/+P/LP9y/sT+Hf+R/v39cP7R/kX+6v14/g//pv4E/lz+OP+S/2f/Lf9g/xEAnwBnABYAkwA9Af8AbwDlAMUBrwH6ABMBwAGfAf4AIgHZAcwB6gCEAN4AGwHaAJ8AqQCJABwA7/8vAE8AHwC3/3b/dP9c/yP/Dv83/yj/o/4s/kn+n/6I/jb+K/4l/tT9qv0u/rr+Yv7f/UH+C/8i/67+5v7Y/00A5/90/9f/sQARAdoAmADSACIBCgG2ANIAHQHTADoAJAB5AA0APf9N/8P/KP/1/dL9lf6O/pv9O/3O/fb9Yf1B/bz9Bv7x/Qz+LP46/rT+df+0/2j/mf9PAK8AqQDtAJ8B0gFoAXoBNQKUAkECFAJmAoECBALZAU8ClQIDAkwBZgGwAWkB+AAEAR4BnQAkADYAawBRAAwABgDp/57/pv8HABIAz//i/xwACQAAAIYAEQHhAJ4ABwFtAUQBUwHlARMCogGMASACSwLSAaUB/QEEAqcBjwGiASMBmQDgAEcBrgCT/1n/7/85AIP/uP6y/gr/5f5M/gL+S/52/gz+mP2i/er9+f3v/eL91f2j/cL9NP5X/gj+3/00/o7+rv6q/qb+2v5b/5T/9v57/pH/TgEiASn/iv57AGQCwwFUAGYAWAGKAUgBjwHeAZABBwEXAX4BYgHfANgAPgEcAQwAQ//f/wABmgDe/iX+Iv/1/1//lf6t/hL/0v5q/qD+E/8G/8v+0/79/if/Sv9q/4v/xP/E/4z/sf8+AHsA9f+D//n/gQA7AL3/1f8NAMP/gf/E/97/dP8m/2z/jf9F/yH/Wv+S/1n/Jf9X/7f/0P+9/6v/zf8lAHcAfwBfAGsAtwAJAUEBSgEpAToBYwGTAaMBugHSAcYBogGwAdQBxAGnAcIB1gFaAQcBSQGvAVsBrACsAPMAngAkAFsAnQAoAJn/q//i/5v/Iv83/1f/6f6U/t3+Jv/j/nz+j/6i/nf+jf7A/qD+Of52/jj/R/98/kP+Dv+N/w7/i/4I/8v/rP9I/2X/uf/i//H/SABdAPn/0v9gAOYAnQATABoAowDlAKYATwBEAIMAqABtAPn/1/80AF4A6f9K/2H/xP+x/2r/QP8q/xH/Ff9H/zj/0v6o/uT+MP8r/y//ev+W/3r/rP8SACIA/v9BALMAnwA+AE8AFgF0Af4AugApAYgBQgEeAa8BBQJsAeEAWQEQAtgBPwFWAdsBwAFKAWQB0wHlAYMBbQGhAZ8BbQFmAYMBZQEpAQAB7AD2AOYAowBdAEcAYQA0AL7/fP+M/47/WP8b//H+pf5u/oX+wP60/jX+A/5N/pn+gf5i/oj+vf6n/ob+uf4Y/y3/6f7x/kz/iP9n/3P/zP8DAMr/k//P/yUAOwAaAAkA8v/8/yEAbQCLAGEAOAAxAGEAlgC2AKEAVgA3AGUAfwCBAI0AoACHAEMAJQBlALsAxwCAACsAGAA1AFEAHADi/+f/1f+I/0H/W/+J/2X/Bv/s/gb/7f65/qv+4v7e/pP+bv6m/tL+s/6z/vT+Rv8i/9X+FP+Y/9j/qP+i/wkATwBIAEUAnADaAOwA7QD4ACQBLgFJAX0BkAFsAUEBUgGJAZ8BiQFWAT0BPQFBATkBNAERAc8AuwC/ALwAhgBJADgAKAD5/+n/FAAsAPb/ov+l/8v/xf+s/7v/2P+c/z7/Sv+v/9D/l/9n/4f/qP+H/4//xf/k/6v/Xf98/8T/vv+C/4j/t/+i/1b/SP+i/+X/uP9//5X/y/++/63/yP/y//T/3f/z/w0ADgAEAB4AVABUABcADQA7AHgAfgBcAFUAaABkADkAHQAwAEEAAwDV/9D/zP+g/3//kf+J/z//AP8J/yL/+f6t/pr+mf6D/lL+TP5l/kz+Of5S/nD+fP51/oL+sP7X/t3+8P4m/0P/Wv97/7b/8v///yQAVgB/AJIAmQDaAPoA9QDuABEBUAFbAXABhQGoAa8BpwG8AcIBtQGeAagBtQGnAXkBWwFcAWQBZQFOAS0BKAEcAecAwwCZAIgAaAA8AAAA1P/J/6z/tv+h/3P/Mf8d/x//Jf8Y//v+CP/y/t3+2P78/iH/Ev8L/yH/O/9E/1L/k//J/8L/t//L/+//DAAGACYAWABQAEMAVQCJAJcAiwCZALwAxwCjAI0ArQDLAMQAvgCyAKMAsQC1AMUAzQDEALoAtwDLAM8A3QDiAP4AFwEdAQUB8QD7AAcB8QDCALEAtgCtAIQAcwBhAFYALQAMAO//uv+D/17/UP9A/x//6P7V/rD+jf5//nv+ef5h/kH+KP4j/jP+Rv5k/nz+fP6H/qD+xf7s/gz/Ov9k/2j/b/+a/9b/7f/2/xoANgBPAFQAXgCHAJ0AqQCcAJsAnQCkALIAsgC9ALEAlwB/AHgAcQBtAGEAVgBJAEoAVQBUAFsAVgA5ACQAJAAhACkAKgAvACMAFwAAAO//+v/3/+7/3v/k/+n/2//T/97/3v/a/8T/vv++/7f/wP+z/6v/nv+n/7H/vf/R/93/4//j//3/EgAoADcAQABBAE8AXwBtAIMAhQCNAJcAqwDEAMwAwgC3AKkAmQCSAJYAlwB2AE0ANQAsAA0A7f/n/9j/wP+m/3z/Yf9Z/z3/Lf8Y/wT/9v7j/uX+8P7o/tr+6P7u/un+Av8g/yj/OP9D/17/cP93/5n/tv/I/93/9f8JACkAUAB5AIcAkQCfALcAxADIAOEA9wDzANkA6QDzAOkA7QDVAMcAwQC4ALUAtgClAHIATgBKADwANAA3ADAANQAZAAwAAAAFABwACAD9//H/6f/g/+f/9P/q/+D/3//j/9X/u/+8/8T/0f/H/6z/qv+i/5b/i/9//3P/av9n/1r/Rf9K/yj/E/8a/wb/+f74/gf/Cf8N/w3/Fv8m/0L/Uv9X/3//kf+2/9f/9f8dACoARQBaAH4AqwDAAOMAEAEgASkBMwFIAUYBTgFXAVQBZwFiAWABTgFJAS4BFQEJAfkA8wDkANkAyQCuAJIAfABoAGEATwBTAE4ASAA8ACoAJQASAAkA/P/f/87/zf/A/7P/nP+R/43/ev9s/1X/Of8t/yT/G/8K/+/+3/7Y/r/+ov6T/o7+k/5+/m/+fP6G/o/+lf6p/sP+1/7r/hj/P/9Q/2//lP/L/+7/AgAlAEkAagCKALEA0wD+ABYBLwFSAVwBZAFvAXsBgAF8AXcBfgFuAVMBTgFHAS8BJAEBAdwAxACeAHkAYQBUACQAEAD4/9X/yv+z/47/gv+E/2H/SP84/y7/IP8Z/xn/Df8I/xL/Ev8M/w3/+v78/g7/G/8m/yX/Ov9Y/3T/gv+H/6f/vf/V//r/EQAjACQAPgBdAG4AdgCJAKMArwDBAMMA2ADlAO0A+AD5APsA/QAMAQMB9ADpAN8AzgC8AL0AngCGAHwAXQBMADIACgDw/9v/0f+8/5v/fP9p/1b/SP81/xf/Df8G///++/75/uv+7f71/gL/Ev8a/yD/LP9A/1D/Zv9//5j/s//S/+X///8YAC4ANgBDAGYAfwCQAJwAuQDDAMUAzwDeAOgA4AD3APQA8wDzAOMA7gDbAM0AwwCzAKMAmQCRAIAAbABgAEMAFAD9/+P/1v/A/6L/mv+U/3z/bP9j/1H/Rv87/yz/Kf83/zL/KP8f/yX/KP8h/zT/Qf9M/0T/Tv9o/33/kf+c/7D/xf/b/+P/AAASABQAIwAsAEcAWABdAG0AeACBAIwAhwCMAJsAowC1ALYAtQCuAKwArwCkAKIAkACPAJAAjwCWAIsAkgCMAH8AeABiAFoAWABJADYAMAArABcADQADAPb/6P/U/8b/vf+0/7D/qf+l/6f/n/+O/43/gv9y/23/Yv9m/2P/Z/9m/2//cP9h/2z/av9v/3T/gf+F/3H/fv9z/3X/h/+I/5D/jv+h/6f/w//Y/9f/+f8GAA0AGwAjADgAQgBEAFAAYgB+AI0AkwCYAKEAsQC9AMcAzgDIAMEAvwC0AK0AqQCrAJkAkACHAHMAZwBWAE8ARAA3ACEABwDz/9v/zP/E/8H/sP+a/57/nv+N/4j/jv+L/4H/h/+J/3v/g/+G/4f/lP+I/5j/pf+w/8v/0f/f/9v/5v/v/+//+f8DAA8AEgAcADgAOwAwADYAMABHAE4ASQBGAEYAQwAuAD8AUwBNAD4APAA2ADUAOQAmABEACwALAPn/9P/u/9z/0f/J/9T/zv/A/7X/tv/D/8X/v/+4/8P/vv/C/8v/yP/D/8v/6f/5//P/9f8GAAwAFwAgABYAJwA5AEEASABLAFEAYABeAFQAXwB0AHMAZAByAG8AbABpAGYAZwBpAGIAVABbAFQARwBAADQAMAAvABkAEQAPAAkA8f/Z/9b/yv/D/7D/nf+Y/4f/gP9//3j/c/9v/3D/ZP9j/2H/b/95/2v/a/9x/23/Zv9z/37/i/+Y/6X/qv+6/87/yv/J/8r/0f/i/+j/BgAYAB4AOgBUAGsAagBsAGwAeQB+AIAAiwCCAIIAiACNAJIAjgCMAIkAggB9AIEAdwBvAHkAZwBeAE4ARwA8ADYANAA1ADwAJgAkAB8ADwD9/+v/5P/g/9f/2v/K/83/y/+6/77/vv+y/5//oP+U/5T/mf+O/5H/nf+m/6X/pf+w/6//tv/B/8b/0f/T/87/0f/X/9P/1//x//b/9/////n/BgALABAADgAMABQAGAAgABgAGAAqACIAHgAYAAwAEwAcACQAGgAWABIAEQARAAwAIAA0ACkAJAAkACUAHwAWAAwAFQARAAsAEAAGABEAEQAYAB8AJAAWAA8AEgAdACQAEgAEAPr/AAAPAAsA+/8DAAUACwASABgAEwAeAB8AGQAdABEAEwAXACoAHgAQABgAFwAUABAA/f/i/+n/8v/1//L/6f/p/+f/8v/o/+L/6f/0/+3/9v/0/+P/+v/2//7/9v/r/+P/4P/l/9v/3P/d/+P/4//z/+n/4v/p/+n/9v/p/+//9f/3//n/6f/q//H//P8DABEAFwAaAA8AFAAYAA0AAwABAAoA/v8MAA0AFAATABcAGQARAA4A/f8EAAAAAQANAAEA/f8FAAUADQAHAAUAAgABAAwACwAIAAAAAAD5//T//////+//6v/w/+z/6P/t/+v/7P/i/9X/1f/L/9L/4f/n/+L/4v/X/9z/4f/U/9j/1P/i/+j/7f////f/9P/0//P/7v/1/wAAAQAIAAEAAAD6/+7/9v/7//r///8KABwAIwAoACMAFwAZABQAEgAdACIAKAAxADAAJQAoADAANgAyACoALAAqADgAIAAbAB0AEgATAP7/9v/s//3//P/0/wAA+v///wYADAASAAsADQALABIAEQAEAAsAAQAKAP7/7P/1//P/9v/t/+X/7P/t//L/+v/7//r//P8AAAEA///7//n/5//i/+r/7//o/+L/7f/y////9f/v//j/AgAKAAUACwD8//T//P8CAAUADAASAAcACgAGAAsAFAASAA4ACgAQABIAEwAVAAYA/P/6/wAABAD7////BQADAPz/+/8AAAkADAASAA8ABwAFAAYABADz//L/4//v//b/5v/z/+3/9/8LAAcA8f/w//T/6//h/9j/3f/V/9z/0P/M/9z/6f/r/9f/4//r/+D/5f/t//v////z//v/9v/1/+//9P8EAP//AAD3//T/9P/5//b/9P/0//n/AAAKAAwA/P/7//f/9P/r//D/8P/z/wQA///w/+r/6P/j/+f/6P/p//H/9P8CABQABAAJABEAEgAYABgAFQAMAA8ACwAWAB4AHwAdACIAKQAgACUAKQAsACIAIAAsAB0AEQASABAAJQAlABMAFwAXABcAGAAZABcAGgAfABkAFgAQAAAA/f8BAAEAEAANAAsAAADy//f/5//s/+7/6P/k/9v/6P/m/+H/5v/p//T/8P/z//r/7v/u//X/BQAAAPD/7f/x//v/+v/w/+X/8f/4//P/+f/8//b/9v8AAAEAAAADAAAA/P8HAAsABQAMAAoAFAALAAQACgAAABcAGgASAA4ACwARAA4ACwAKAA8AEgAWABUAEQATABIADAAEAAEAAAAMAB8AJQArACMAHwAWABIADQASABAAAAAGAAAA+P/0//X/9P/1/+3/+//1//T/AAD3//D/3v/a/9D/0P/G/8r/y//o/wAA8f/5//v/+//5//D/9f8KAAcA+//1//P/7//t/+j/5f/0//v/6P/j/+j/6v/l/+f/5P/k/+7/6v/5//T/7v/3//n//v/6/+r/9P8BAP//9f8BAAYA+/8KAAEA/f8NABQAHwAqACAAHAAfABgAAAABAPv/7v/t//T/BQD9//j/BgATABwAGQAPABgAFwAfABYAFAAVAAUAFAAFAAwAFgALAA4AGgAkAB4AFQAHAAAA+//7//r//P/1//j/+v/u//T//v/z/+v/8P/k/+D/6v/j/+T/7v/r/+3/7v/v//b/+/8AAP7/9f/0//n/AAABAAAABAAGAAQADwANAAkADAAFAA0AEgAWABQAEQARABMADwANAAgAEwALAAsAFgASACMAHgAoACUAHwAsACYAKAAxACoAHwAdACAAHQAhACAAHwAiABsAEwAEAAQADAALAAwAEAAEAA0ADAAGAAwADgAXAAYACQAMAAsABAD8//X/AAD6//D//P/2//P/+/8AAPX/+/8AAPr/+v/s/+P/6P/i/+n/7P/7//z/+v8BAPf/+P/s/+j/6v/l/97/4//y//T//v////v/CwAAAPP/9v/x//D/6P/0/+3/6P/i/9f/5f/u/wAAAQAAAP//+/8AAPX/7P/p/+//6f/q//T/+P/7//T/9v/v//L/7P/u//3/9f/5//j/9//8/wAAAgAHAAoA/f/2/wAAAAACAAAA7//w//3/BQAEAAAABgD+//r/+P/6//n/6f/t//b/AAABAAoABwAHAAIA+/8GAAUABgABAP//AQAHAAUAEgAYACIAHwARAAwA+v8FAPr/+v8HAAQACgAMAAAA7//w/+3/9f/t//b/9//0/wAA+P8HAAEAEQABAAAABAD2/woA+v/8//r/BwAJAAQADQAHABgAGAATABQAIAAkABkAEAABAAoAHAAqADYAIAAiACEAGgAjABEABQD0/+7/7f/0/wEA/P/7//r/+/8EAAUADAAOABEAHAASAAwAAgD3//P/+P8CAAcABQAPAA0ADwAYAAAA///8//T/+//1//v/+f/0//X//v8HAAUAGQAYABEAEAADAP7/+P/v/+v/8v/u//P/+P8EAPv/7v/v/+n/6P/k//T/AgD+//H/7f/o/+3/+f/u/+n/+P/2//X/8v/o/+7/8//3/wgAAgAGABMAEwAXABIAGAAZACEAJwAcABQAGQAOABgAGAALAAcACwATAA4AFAAHAA8AGQATABAAAwDx/+//9f/4//T/5//r//b/6v/v//L/7//7//f/8P/0//r/9f/6//b/8//w/+3/4//k//L/+v/w//r/BAD7//j/8P/1/+X/5v/o//X/8//l/+n/6f/m/+X/+//s//P//f/3/wcA///x/+7/8P/s/+r/9P/0/+7/7v/p//b/+//1/+3/9f8AAAAACgALAAsACwAOABEACQASACAAGQALAAEA+v/p/+r//f/9//7/CwD///z/BAAAAAoACwATAA8AFQAIAPv/BgAEAAYAAwANAAAABAAEAPr/+////woACAABAO//9f/6/wYADgALABIABwALAAsAGAASAAsAHQATABAACQAMAAoAAAAFAPT/7//t//f//v/2/wUA/P8KABMAGAAjABcAEwALAAwABQD9//r/+v/7//v/+v/+/wAAAAD8//v/AQD8//T/9f/0//D/5f/j/+r/5//0//v///8KABAAEwASAB8AJQAgABAADAAKAAcAFgAVAA4AAgD//wEA//8LAAMA8/8AAPv/9P/7//P/7v/p/+P/4//i/+n/3P/W/9P/1f/n/9//4//v/+z/6P/n/97/3f/i/9j/0f/e/+X/4//Z/9v/9f/7//f/7v/4/wEA+f/0//b/CQAaAAgAAAAEAPb//v8EAAUA/f/6//D/8P/1//D//P/8/wEAEwAXAAwADgASABUAFwAHAAYA/P///xAAAQAKABQAHAAkAB4AGgAYABwADwAQABIACwALAAsACgAGAAsADAAGAAcABAABAAsADAAZAB0AIQAjAB4AJAAiAC8ALgAwADMAHQAgABAAEwAbAA8AIwAcABQAFAAWAB0ACgAAAAgACwAPAAMA8//y/+v/5//q/+//5P/p/+r/7//3//b/AQD+/wUA+v/v//P/5P/t/+3/4f/h/9f/2//i/+j/8P/6/wkACwANAAAA+v8AAAEAAwD5/wkAEgASABYAEwAQABEAEAAMABEAAQAEABIAEQAZABQACwAMAAsACAD2/+n/8//6//f/9f8GABkAEgAXABMAAgAGAP7/+v8AAAAAAAAAAPn/8//3//v/9f/4//v/8//r/+7/7v/1//j/7f/z//z/AwD+//r/4//V/+H/4f/k/+T/3v/b/+H/4//i/+z/7v/w/+z/6f/y/+n/4v/h/+r/6f/b/+f/5P/o/wEA+f/4//r/AAARABoAHwAXAB0AGgAZABgAHgAmABUAKAAcABIAGAAJAAsAEgAjACEAFgAPAAQAAAD5//X///8BAPv//v8LABEAAAD6//r/AQD9//v/AgD7//z/9v/w//f/BQD7/+7/9P/z/+3/7P8JAAcAAAD+//v/BwABAAAAAwAIAAsAEgAGAAIACAD//wAADAAFAPv/CwAEAAwABQD0/wMABwAQAAwABAAJAA8ABgDy/+f/7f/3/wAAAAD6//b////+//z/CAANABcAEwAAAPX/9v/0//v/CgANAAwAEwAeAB4AJgArACAAJgArACQAHwASAAUABwAPABcAKwAjABgAFAAWACYAKQApABIADAAZABgAFgAOABIAEgAVABsADgAMAAcAAwAKAAEA//8FAAIA9//r/+r/4//o//b/5v/i/+H/3P/a/9r/4v/i/+H/6f/n/+3/6P/c/9z/3v/j/+H/4v/j//b/8P/1//P/4P/j/+j/4v/T/9//zf/W/+3/7v/o//j/CwAFAAQA9v/1//b//P/t/+j/9v/x//b/8/8LAA0ACAAAAPX/AgD6/wYA/f/x//r/9v8HAPr/+f8HAAUADQAMAAsAAAD2//n/EAAIAAAADAANABwAFgARABIAEQAIAAUAAADy/+7/9f/r/+r/8//u//r/AgD5//H/+v/w/+7/AgANAAAA9v8CAPv/AAAPAAcAAQD9//v/AAD///D/9P/7/wMABgAUABgADwASAA0AIwAeAB0AEQAVAB8ADwARAAMABgABAAMADQALABYAEwAHAAUAAQAHABAAEQAVACMAFwARABUAGAAXABQAFgASACMAHwATAAgABgARABEACgAGABgAJAAjACcAJgAdABkAEwAGAAcAAQAAAAkAAwD+//X/9//5//X//f/7/wMACgACABQAEAD8//P/8/8DAAEA///7/wsAAAD1//f/7P/w//f/+f/p/+z/9P/x/+f/7P/q/+v/6v/j/+f/0P/a/+//9v/o/+T/6f/1/wAA8//8//f/AAAFAP3/AAAAAAAAAAD8//r/AAD0/+7/+/8CAP//+f/5//7/BgABAAAAAAAAAPv//f/u/+v/AAD+/wEA///+/wMA9P/y//T/7v/y//f/+v/6//X/9f/x/+/////0//P/8//v//3/9P/o/+j/8f/2/+//6f/n/+j/7//6//r/+////wEA/v/0//H/7P/o/+n/8//t//b/+P/r/+f/6//r/+r/+f/t//X/9//5/+7/7v/v/+P/8f/j/+f/9P/5//r/7v/v/+r/5P/s/+r///8OAB0AJgAkABoAEgAJAAEACgAMAAwAEgAcABcAGAANAAYAAQAEAA0AIgAqACMAEwASABYAAQD7//H/AAD7/w0AEwAIABUAFwAMAA4AIQAlABsAIQA1ADAAHQASABIADAALAAYACAALABUAGAAfABcAEAAKAPP/+//1/wUADQAQACMAIgAvACsAKwAaAAYAGwASABcACwANAA8A//8AAO//+f8AABMAFAAaABsAIgAkABYABAD3//n/8/////n/+//4////AgADAAcA8v/0//r/+v/+/wUABQAEAAYA+////wYAEQAQAAwACgAHAA8A/v8AAOr/6P/s/+v/+v/o//P/6v/z/wAA9v/x//b/BAAJAA0ACgD7/wAABgDz/+3/8f/z/+/////3/+//6f/i/+7/6P/n/9z/4f/v//n/BwD5//r/+v/z/+n/5//o/+r//P/7//j/6f/t/+v/6v/p/+r/8v/3/+3/5f/t/+X/2//R//P/+v/4//L/9f8JAAYA+//0//v/+v/0//X/BQASABwAGAAeACoAHQAQABYAFgAWABsAKQAmAC8AOwAuAC8ALwAkAC8ALAAhADwAJwAeACcAIwAdAAwACwAMAAoACQARAA0A+P/x//r/9P/6/wgA/v/7//j/9P/0/+3/4f/W/+r/5v/j/+L/6f/x/+//9f/i/+r/5//0//b//////+7/+f/r/+7/9f/u/+//9P/3//3/9//4/wAAAAD7//n/7P/z//z//v8FAPX/AAD+//b/9//1/wgACAAFAAYACgALAP7/DQALAAEABgAAAAYA/f/9//z/+f8NAAsA//8AAAUACAALAAsA+/8GAA0A+//+//n/AAD8//n/9v/z/wQAAAD3//3/AAAAAAYACgAIAP//AQD0//L//P/7//X/8P/6/+j/4//e/97/6P/h/+7///8GAAUABwALABIABwAHAAQAAwALAA4ADwAEAAYA/v/w/+3/8v/y/+f/6v/2//f/BAAAAAAABAD3//3/8P/8//z/9f/+//H/9P/4/+//8//0//z//////w4AAQADAPr/9//6//j/AADv//X/9P/6/xEADQASAB8AGgAQAAwAHQAiABUAEwAMABEAHQAZABcAIAAjABwAIgAeAAMABAAEAPr/+//7//T/4//d/9j/2f/l//T/BwAEAAAAAgD7/wEA///1//v/+v///wcADQAAAPX/+//6//n/7v/7/wAA+/8FAP7/AAD8//L/9/8AAA8ADwALAAcABQAGAAMA/P/v//j//v///xEAFwAdABoAEAALAAIA/f/6/wUACgAYAB8AIgAqACUANQAtACQAHQAYABMABQANAAAA9f8AAAoAEQAiAC4AJQAgACgAIwAVABEAAgDu/+//6f/v//T/9f/6//3/BgD7/+v/5P/c/+P/6f/k/+H/5P/w/+v/3f/U/83/xf/Q/9r/1f/g/+r/5v/c/+H/1//c/+3/7f/1//r/+//6//7/AAAAAAEA9P/y//P/5//r//D/+P/5//v/9v/t//b/6v/r//T/9f/z/+D/4f/p/+X/1f/R/9//4//d/9j/3P/d/9r/0f/Z/+T/7f/7//v/7P/w/+T/5v/0/93/6P/2/wAADAAMAAwAHQAlACQAJAAjACUAIwAjABgAIAAZABMAHwAcAB8AGQAZABgAFQAXAAkADwAHAPn//P/1//r/CAAGAAAA/P/x//D/9f/0/+3/7P/z//n//P8AAPL/5//u/+H/4v/z/+//8//7//n/+P8GABYAGAAhABkAHAAeAA0AEAASABEAEQAUACoAMAAqADAAKgAzADAAIQAnAC4AMQAtACoAKgA0ADYAMgAvACkAIgAdAB0ADgAWABwAJQAqAC0AKwAbACUAEAAUABkAHgAhABQAHgAAAAAABgD8//f/7v/5////CAAEAAAABQD0/wAABQAFAAkACgAQAAMAEQAGAAcACQAAAPn/9v8AAAUAFgAYAB4AGAAWAAAABQAHAPv/BQDu//7/BgAGAAIABAASAPX/+/8NAO7/AQADAO7/+//j/+n/7v/1//L/3//2//r/6v/p/+T/3P/d/9v/4f/Z/+7/8P/2/wMA6P/0/+b/3P/m//D/9P8EAAsABwASAAIAFQAHAAUABQDt/wAA7v8RAAsA6f8LAPL/EQABAAEADQDo/xcA7f8FABAA5/8EAOD/AQAOAA0ADwDr/xEA6P8AAOX/uf8AAM//8v/q/+z/AADL//f/5v/k/+7/6v/t/8n////k/9f/AADA//P/7v/D/wAA8v/p/+L/9v/7/+L/CgDV/9//GQDx//z/HgAGABMAHgD0//7/HwD//93/GQD4/wcANQAAAAAAHgARABsAQgAZAC8AFQA1ADAA//88APb/GAA6APj/HQD5/+//AQD9/zIA7v8PADsACQAyAAwA//8mAPj/AAAXAOr/4P8OAAcA2P8GABEAFQDa/w8AHQDT/zoA5f/c/x0AAAAmAAAAAAACAMT/PgBDAOz/6//6/wQANwCDAB0ACgDv/ywAQQAyADoAp//M//T/8P82ACEAkv+I/ygA6/9PAAkBdv/n/ocBXP4o/z0FJPpf/1wErPntBOAAsPq3Akr+lf/TAuMAvfzv/8wDafqMBzgAs/gaBkH8WAF6A9H8hP6zAcT9FgI2AWP9bwGj/93+lAPW/13/hwGs/SsDdv5JAlf+awDn/gwAsgBL/l8BWf5MAUH+KAIZ/tEC9P0MAZ7/4P8GAvr9uAGo/TkBd/5cATL/uf81/6AAQ/8eAIcBcf8YALX/9gCe/50Bmf46AMX/W/8fAPn/4P6N/9T/O/9lAAAAq//y/1cA+v9kAAUAPwCt/wQA5f/+/37/4/9i/8//nf/R/7n/9v/3/9X/xwB4/7UA2/+xAOL/EwCuALX/HwDE/8z/AQDi//r/+v+c/0MA/v+iANz/MwBxABAAPgBsAM7/HgBpAHz/UQCR/0AAs////xYA4/9nAMP/YADs/2IALQDo/1IA///+/xIAo/8dAAAAxP+h/9v/6f+1/zYArP9BAOv/FAALAFAAFAAAAA8Anv8TAOv/z/96//z/m/8NAKn/MADb/+//4f8uAFgAff+oAJ3/DQDt/5EALf9vAJ3/0v96AN/+1ADn/rMAPf9TAO7/wv+RANL/QACp/+QAU//SAP3+egCC/1YA0f/m/kYBov65AL3/nwCc/xAAv/9AAKwAeP9jACD/KAD9/3cAMv8hAOv/yP9hAOL/BwC+/wUA2/9uAPD/EQDX/5H/dgATAET/SgA2/+3/iP8KAHgAGv9SALn/OwDI/9YArf9RACQAxP98ALn/XACv/z0AD/8RAV7/CgCBAJL/GwBSAFwAXP9wAeD+CwHg//T/3QCe/ywADQAXAJT/1wCG/xUAlP9pAK3/jQDg//L/igBy/xABXP+iAN//+/8ZAPr/ZwCL////sP/7/+n/DQDj/6T/VQC2/xgAOgACAEcAof8uALz/JQDo/yUAw/+t/yAA1P+JAL//LwC2/yAAOQBKACAAtP9EAJb/gQAAAA4A6P+6/1UA6v9IAA8A2f/M/4IA+P8eAAkAxf/+/08A9f8DAIMALP+mAKX/HwAAAHf/JgCf//v/5v8TANv/VACj/3cA5f9MADMA/f8zAPH/UwADACcAv/8AAO3/MQDA/2IAn/8mAPz/NgB0AMv/YgDs/5oABgBIAOz/2v8sAA4AFAD5/+P/KgDA/3gA5f/q/xIAAwBBALv/jQBd/4gAh/9pANv/rf9uALn/OACp/zUAWP9aAJ7/OgC8/77/QgDa/yUA8/8XAJH/JQDf/8T/wf/J/4P/PQCq/ywA9v+g/0AAAAAqAMz/VACu/xYA6////8r/1v/9/7L/HADn//D/CgA0AKf/ggDf/wMAoQDL/zgAMQAXAAEAFQAPAL//9v/x////FgC+/1YAqf9LAAgA/f8jAJz/hQCf/z4A3f/w/8j/DwDZ/xcA+P+q/1cAi/94ANv/VQCt/0QAAwDA/3wAnP83AOL/9v8kANz/1v8eAKj/AAALAP3/AAA=\" type=\"audio/wav\" />\n",
              "                    Your browser does not support the audio element.\n",
              "                </audio>\n",
              "              "
            ],
            "text/plain": [
              "<IPython.lib.display.Audio object>"
            ]
          },
          "metadata": {},
          "execution_count": 50
        }
      ]
    },
    {
      "cell_type": "code",
      "metadata": {
        "id": "8wxM1gF2dMCY"
      },
      "source": [
        ""
      ],
      "execution_count": null,
      "outputs": []
    }
  ]
}